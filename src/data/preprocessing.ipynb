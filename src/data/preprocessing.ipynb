{
  "cells": [
    {
      "cell_type": "code",
      "execution_count": 1,
      "metadata": {
        "colab": {
          "base_uri": "https://localhost:8080/"
        },
        "id": "zq646iXZxVbH",
        "outputId": "7ac41907-ab22-48f2-c9f3-6ee523be7ab4"
      },
      "outputs": [
        {
          "output_type": "stream",
          "name": "stdout",
          "text": [
            "Drive already mounted at /content/drive; to attempt to forcibly remount, call drive.mount(\"/content/drive\", force_remount=True).\n"
          ]
        }
      ],
      "source": [
        "from google.colab import drive\n",
        "drive.mount('/content/drive')"
      ]
    },
    {
      "cell_type": "code",
      "execution_count": 2,
      "metadata": {
        "colab": {
          "base_uri": "https://localhost:8080/"
        },
        "id": "e5Wsk40Gx35D",
        "outputId": "97616b74-2cf9-41e5-e44c-cf6f9e8ff08c"
      },
      "outputs": [
        {
          "output_type": "stream",
          "name": "stdout",
          "text": [
            "/content/drive/MyDrive/DataMining/Data_mining/src/data\n"
          ]
        }
      ],
      "source": [
        "%cd drive/MyDrive/DataMining/Data_mining/src/data"
      ]
    },
    {
      "cell_type": "code",
      "source": [
        "!pip install texthero"
      ],
      "metadata": {
        "id": "SvinUNPVo3hh"
      },
      "execution_count": 56,
      "outputs": []
    },
    {
      "cell_type": "code",
      "source": [
        "!pip install demoji"
      ],
      "metadata": {
        "colab": {
          "base_uri": "https://localhost:8080/"
        },
        "id": "mFgVQV4BTubR",
        "outputId": "4c3493b0-bd8b-4d68-a41b-8fdec4cf8198"
      },
      "execution_count": 3,
      "outputs": [
        {
          "output_type": "stream",
          "name": "stdout",
          "text": [
            "Requirement already satisfied: demoji in /usr/local/lib/python3.7/dist-packages (1.1.0)\n"
          ]
        }
      ]
    },
    {
      "cell_type": "markdown",
      "metadata": {
        "id": "rHAr19h1xQgn"
      },
      "source": [
        "# Preproccesing the data"
      ]
    },
    {
      "cell_type": "markdown",
      "metadata": {
        "id": "6trqFrZixQg1"
      },
      "source": [
        "## Importing needed libraries"
      ]
    },
    {
      "cell_type": "code",
      "execution_count": 3,
      "metadata": {
        "id": "G9x1R9W9xQg3",
        "outputId": "a1e0cc17-37c9-43c4-ef97-fea9483b9903",
        "colab": {
          "base_uri": "https://localhost:8080/"
        }
      },
      "outputs": [
        {
          "output_type": "stream",
          "name": "stderr",
          "text": [
            "/usr/local/lib/python3.7/dist-packages/ipykernel_launcher.py:13: FutureWarning: The demoji.download_codes attribute is deprecated and will be removed from demoji in a future version. It is an unused attribute as emoji codes are now distributed directly with the demoji package.\n",
            "  del sys.path[0]\n"
          ]
        }
      ],
      "source": [
        "import pandas as pd\n",
        "from string import punctuation\n",
        "import re\n",
        "import nltk\n",
        "from nltk.corpus import stopwords\n",
        "from nltk.stem import WordNetLemmatizer\n",
        "from nltk.stem.porter import PorterStemmer\n",
        "from sklearn.feature_extraction.text import TfidfVectorizer, CountVectorizer\n",
        "from sklearn.model_selection import train_test_split\n",
        "import demoji\n",
        "\n",
        "\n",
        "demoji.download_codes()"
      ]
    },
    {
      "cell_type": "markdown",
      "metadata": {
        "id": "TDSIpni2xQg9"
      },
      "source": [
        "## Loading data"
      ]
    },
    {
      "cell_type": "code",
      "execution_count": 59,
      "metadata": {
        "id": "tVg3ddLpxQg-"
      },
      "outputs": [],
      "source": [
        "train_data = pd.read_csv(\"../../data/train_tweet.csv\")\n",
        "test_data = pd.read_csv(\"../../data/test_tweets.csv\")"
      ]
    },
    {
      "cell_type": "markdown",
      "metadata": {
        "id": "VYWUXpT1xQh-"
      },
      "source": [
        "## Work on emojis \n",
        "Convert emojis to their corresponding text"
      ]
    },
    {
      "cell_type": "code",
      "execution_count": 60,
      "metadata": {
        "id": "y794cmn7Tfdr"
      },
      "outputs": [],
      "source": [
        "def convert_emoji(text:str, mode:str = \"parse_emojis\") -> str:\n",
        "    \"\"\"Modes: \"parse_emojis\", \"extract_emojis\" \"\"\"\n",
        "    #convert string to binary representation\n",
        "    binary = ' '.join(format(ord(x), 'b') for x in text)\n",
        "\n",
        "    #convert binary representation to utf8 representation\n",
        "    listRes = list(binary.split(\" \"))\n",
        "    try:\n",
        "        text_with_emoji = bytes([int(x,2) for x in listRes]).decode('utf-8')\n",
        "    except UnicodeDecodeError:\n",
        "        return text\n",
        "        \n",
        "    #get all emojis\n",
        "    dictionary = demoji.findall(text_with_emoji)\n",
        "\n",
        "    #replace emojis with text representation\n",
        "    text_without_emoji = text_with_emoji\n",
        "    emojis = []\n",
        "    for key in dictionary.keys():\n",
        "        if key in text_with_emoji: emojis.append(dictionary[key])\n",
        "        text_with_emoji = text_with_emoji.replace(key, dictionary[key] + \" \")        \n",
        "    if mode == \"parse_emojis\":\n",
        "        return text_with_emoji\n",
        "    elif mode == \"extract_emojis\":\n",
        "        return emojis\n",
        "    \n",
        "    "
      ]
    },
    {
      "cell_type": "code",
      "execution_count": 61,
      "metadata": {
        "id": "xRV9-UC4Tfds"
      },
      "outputs": [],
      "source": [
        "train_data[\"tweet_converted_emojis\"] = train_data[\"tweet\"].apply(lambda x: convert_emoji(x, \"parse_emojis\"))\n",
        "test_data[\"tweet_converted_emojis\"] = test_data[\"tweet\"].apply(lambda x: convert_emoji(x, \"parse_emojis\"))"
      ]
    },
    {
      "cell_type": "code",
      "source": [
        "train_data[\"emojis\"] = train_data[\"tweet\"].apply(lambda x: convert_emoji(x, \"extract_emojis\"))\n",
        "test_data[\"emojis\"] = test_data[\"tweet\"].apply(lambda x: convert_emoji(x, \"extract_emojis\"))"
      ],
      "metadata": {
        "id": "ikXEWBMJY992"
      },
      "execution_count": 62,
      "outputs": []
    },
    {
      "cell_type": "markdown",
      "metadata": {
        "id": "i3fp1U0AxQhJ"
      },
      "source": [
        "## Deal with user mentions\n"
      ]
    },
    {
      "cell_type": "code",
      "execution_count": 63,
      "metadata": {
        "id": "CSp0NV4txQhM"
      },
      "outputs": [],
      "source": [
        "def count_user_mentions(text:str) ->int:\n",
        "    return text.count(\"@user\")\n",
        "    "
      ]
    },
    {
      "cell_type": "code",
      "execution_count": 64,
      "metadata": {
        "id": "9iUWPC51xQhP"
      },
      "outputs": [],
      "source": [
        "test_data[\"n_mentions\"] = test_data[\"tweet_converted_emojis\"].apply(lambda x: count_user_mentions(x))\n",
        "train_data[\"n_mentions\"] = train_data[\"tweet_converted_emojis\"].apply(lambda x: count_user_mentions(x))"
      ]
    },
    {
      "cell_type": "markdown",
      "metadata": {
        "id": "BD0cibTixQhR"
      },
      "source": [
        "## Deal with hashtags"
      ]
    },
    {
      "cell_type": "code",
      "execution_count": 65,
      "metadata": {
        "id": "cfD7xYZDxQhT"
      },
      "outputs": [],
      "source": [
        "def identify_hashtags(text:str) -> list:\n",
        "    pattern = re.compile(r\"#(\\w+)\")\n",
        "    return pattern.findall(text)"
      ]
    },
    {
      "cell_type": "code",
      "execution_count": 66,
      "metadata": {
        "id": "Mbu8dHAgxQhV"
      },
      "outputs": [],
      "source": [
        "test_data[\"hashtags\"] = test_data[\"tweet_converted_emojis\"].apply(lambda x: identify_hashtags(x))\n",
        "train_data[\"hashtags\"] = train_data[\"tweet_converted_emojis\"].apply(lambda x: identify_hashtags(x))"
      ]
    },
    {
      "cell_type": "markdown",
      "metadata": {
        "id": "JPaOhm2lxQhX"
      },
      "source": [
        "## Punctuation Removal"
      ]
    },
    {
      "cell_type": "markdown",
      "metadata": {
        "id": "qfZQIjwdxQhY"
      },
      "source": [
        "Create helper function"
      ]
    },
    {
      "cell_type": "code",
      "execution_count": 67,
      "metadata": {
        "id": "XFYglYuQxQhZ"
      },
      "outputs": [],
      "source": [
        "def remove_punctuation(text:str) -> str:\n",
        "    return \"\".join([i for i in text if i not in punctuation])"
      ]
    },
    {
      "cell_type": "code",
      "execution_count": 68,
      "metadata": {
        "id": "8D3dA36-xQha"
      },
      "outputs": [],
      "source": [
        "test_data[\"without_punctuation\"] = test_data[\"tweet_converted_emojis\"].apply(lambda x: remove_punctuation(x))\n",
        "train_data[\"without_punctuation\"] = train_data[\"tweet_converted_emojis\"].apply(lambda x: remove_punctuation(x))"
      ]
    },
    {
      "cell_type": "markdown",
      "metadata": {
        "id": "kgDDGxTCxQhd"
      },
      "source": [
        "## Lowering text "
      ]
    },
    {
      "cell_type": "code",
      "execution_count": 69,
      "metadata": {
        "id": "sASiJLEOxQhf"
      },
      "outputs": [],
      "source": [
        "test_data[\"tweet_lower\"] = test_data[\"without_punctuation\"].apply(lambda x: x.lower())\n",
        "train_data[\"tweet_lower\"] = train_data[\"without_punctuation\"].apply(lambda x: x.lower())"
      ]
    },
    {
      "cell_type": "markdown",
      "metadata": {
        "id": "9Tx4IBjzxQhh"
      },
      "source": [
        "## Tokenization"
      ]
    },
    {
      "cell_type": "code",
      "execution_count": 70,
      "metadata": {
        "id": "LVg49DvUzuhY",
        "outputId": "c4d8ba36-5204-4cad-ea9b-134ed5913df6",
        "colab": {
          "base_uri": "https://localhost:8080/"
        }
      },
      "outputs": [
        {
          "output_type": "stream",
          "name": "stderr",
          "text": [
            "[nltk_data] Downloading package punkt to /root/nltk_data...\n",
            "[nltk_data]   Package punkt is already up-to-date!\n"
          ]
        },
        {
          "output_type": "execute_result",
          "data": {
            "text/plain": [
              "True"
            ]
          },
          "metadata": {},
          "execution_count": 70
        }
      ],
      "source": [
        "nltk.download('punkt')"
      ]
    },
    {
      "cell_type": "code",
      "execution_count": 71,
      "metadata": {
        "id": "xu11J8NWxQhh"
      },
      "outputs": [],
      "source": [
        "def tokenization(text:str) -> list:\n",
        "    return nltk.word_tokenize(text)"
      ]
    },
    {
      "cell_type": "code",
      "execution_count": 72,
      "metadata": {
        "id": "M9ptoOj7xQhj"
      },
      "outputs": [],
      "source": [
        "test_data[\"tweet_token\"] = test_data[\"tweet_lower\"].apply(lambda x: tokenization(x))\n",
        "train_data[\"tweet_token\"] = train_data[\"tweet_lower\"].apply(lambda x: tokenization(x))"
      ]
    },
    {
      "cell_type": "markdown",
      "metadata": {
        "id": "DSC4DCYDxQhk"
      },
      "source": [
        "## Remove Stopwords"
      ]
    },
    {
      "cell_type": "code",
      "execution_count": 73,
      "metadata": {
        "id": "i91SIAplz9JQ",
        "outputId": "243c2f4f-45eb-421a-bb57-d754d8f0171e",
        "colab": {
          "base_uri": "https://localhost:8080/"
        }
      },
      "outputs": [
        {
          "output_type": "stream",
          "name": "stderr",
          "text": [
            "[nltk_data] Downloading package stopwords to /root/nltk_data...\n",
            "[nltk_data]   Package stopwords is already up-to-date!\n"
          ]
        },
        {
          "output_type": "execute_result",
          "data": {
            "text/plain": [
              "True"
            ]
          },
          "metadata": {},
          "execution_count": 73
        }
      ],
      "source": [
        "nltk.download('stopwords')"
      ]
    },
    {
      "cell_type": "code",
      "execution_count": 74,
      "metadata": {
        "id": "GcRjbmKdxQhl"
      },
      "outputs": [],
      "source": [
        "def remove_stopwords(tokens) ->list:\n",
        "    stopwords_list = stopwords.words(\"english\")\n",
        "    return [token for token in tokens if token not in stopwords_list]"
      ]
    },
    {
      "cell_type": "code",
      "execution_count": 75,
      "metadata": {
        "id": "Ckw3hwngxQhm"
      },
      "outputs": [],
      "source": [
        "test_data[\"clean_token\"] = test_data[\"tweet_token\"].apply(lambda x: remove_stopwords(x))\n",
        "train_data[\"clean_token\"] = train_data[\"tweet_token\"].apply(lambda x: remove_stopwords(x))\n",
        "test_data[\"clean_hashtags\"] = test_data[\"hashtags\"].apply(lambda x: remove_stopwords(x))\n",
        "train_data[\"clean_hashtags\"] = train_data[\"hashtags\"].apply(lambda x: remove_stopwords(x))"
      ]
    },
    {
      "cell_type": "markdown",
      "metadata": {
        "id": "JKW9vlXKxQho"
      },
      "source": [
        "## Stemming"
      ]
    },
    {
      "cell_type": "code",
      "execution_count": 76,
      "metadata": {
        "id": "iK6vz_J2xQhp"
      },
      "outputs": [],
      "source": [
        "porter_stemmer = PorterStemmer()\n",
        "\n",
        "def stemming(text:list) -> list:\n",
        "    return [porter_stemmer.stem(word) for word in text]\n"
      ]
    },
    {
      "cell_type": "code",
      "execution_count": 77,
      "metadata": {
        "id": "pdU25XTMxQhq"
      },
      "outputs": [],
      "source": [
        "test_data[\"stemmed_tokens\"] = test_data[\"clean_token\"].apply(lambda x: stemming(x))\n",
        "train_data[\"stemmed_tokens\"] = train_data[\"clean_token\"].apply(lambda x: stemming(x))\n",
        "test_data[\"stemmed_hashtags\"] = test_data[\"clean_hashtags\"].apply(lambda x: stemming(x))\n",
        "train_data[\"stemmed_hashtags\"] = train_data[\"clean_hashtags\"].apply(lambda x: stemming(x))"
      ]
    },
    {
      "cell_type": "markdown",
      "metadata": {
        "id": "qGOW_qTqxQhs"
      },
      "source": [
        "Result does not look great (e.g. movie -> movi)"
      ]
    },
    {
      "cell_type": "markdown",
      "metadata": {
        "id": "tT29MhFuxQht"
      },
      "source": [
        "## Lemmatization"
      ]
    },
    {
      "cell_type": "code",
      "execution_count": 78,
      "metadata": {
        "id": "sTj48kNd0Or9",
        "outputId": "b6605d1c-4ad0-432c-cbb1-ae1d2194bb5e",
        "colab": {
          "base_uri": "https://localhost:8080/"
        }
      },
      "outputs": [
        {
          "output_type": "stream",
          "name": "stderr",
          "text": [
            "[nltk_data] Downloading package wordnet to /root/nltk_data...\n",
            "[nltk_data]   Package wordnet is already up-to-date!\n"
          ]
        },
        {
          "output_type": "execute_result",
          "data": {
            "text/plain": [
              "True"
            ]
          },
          "metadata": {},
          "execution_count": 78
        }
      ],
      "source": [
        "nltk.download(\"wordnet\")"
      ]
    },
    {
      "cell_type": "code",
      "execution_count": 79,
      "metadata": {
        "id": "jbYBgb2ExQht"
      },
      "outputs": [],
      "source": [
        "word_lemmatizer = WordNetLemmatizer()\n",
        "def lemmatizer(text: list) -> list:\n",
        "    return [word_lemmatizer.lemmatize(word) for word in text]"
      ]
    },
    {
      "cell_type": "code",
      "execution_count": 80,
      "metadata": {
        "id": "zbKAW17l1GXG",
        "outputId": "170ce79c-e79e-4513-b65c-78a11c06449c",
        "colab": {
          "base_uri": "https://localhost:8080/"
        }
      },
      "outputs": [
        {
          "output_type": "stream",
          "name": "stderr",
          "text": [
            "[nltk_data] Downloading package omw-1.4 to /root/nltk_data...\n",
            "[nltk_data]   Package omw-1.4 is already up-to-date!\n"
          ]
        },
        {
          "output_type": "execute_result",
          "data": {
            "text/plain": [
              "True"
            ]
          },
          "metadata": {},
          "execution_count": 80
        }
      ],
      "source": [
        "nltk.download('omw-1.4')"
      ]
    },
    {
      "cell_type": "code",
      "execution_count": 81,
      "metadata": {
        "id": "s5caf3YwxQhu"
      },
      "outputs": [],
      "source": [
        "test_data[\"lemmatized_tokens\"] = test_data[\"clean_token\"].apply(lambda x: lemmatizer(x))\n",
        "train_data[\"lemmatized_tokens\"] = train_data[\"clean_token\"].apply(lambda x: lemmatizer(x))\n",
        "test_data[\"lemmatized_hashtags\"] = test_data[\"clean_hashtags\"].apply(lambda x: lemmatizer(x))\n",
        "train_data[\"lemmatized_hashtags\"] = train_data[\"clean_hashtags\"].apply(lambda x: lemmatizer(x))"
      ]
    },
    {
      "cell_type": "markdown",
      "metadata": {
        "id": "_WHV2hnJTfeH"
      },
      "source": [
        "## Temp Export\n"
      ]
    },
    {
      "cell_type": "code",
      "execution_count": 82,
      "metadata": {
        "id": "HAZHC_L1TfeI"
      },
      "outputs": [],
      "source": [
        "#test_data.to_csv(\"../../data/220510_test_data_preprocessed_temp.csv\", sep=\";\", encoding=\"utf-8\", index=False)\n",
        "train_data.to_csv(\"../../data/220510_train_data_preprocessed_temp.csv\", sep=\";\", encoding=\"utf-8\", index=False)"
      ]
    },
    {
      "cell_type": "code",
      "source": [
        "train_data.head()"
      ],
      "metadata": {
        "colab": {
          "base_uri": "https://localhost:8080/",
          "height": 565
        },
        "id": "xXYo9Zg5Bj_l",
        "outputId": "b79fa1f6-cc92-450e-c8b7-2162e04f00c8"
      },
      "execution_count": 279,
      "outputs": [
        {
          "output_type": "execute_result",
          "data": {
            "text/plain": [
              "   id  label                                              tweet  \\\n",
              "0   1      0   @user when a father is dysfunctional and is s...   \n",
              "1   2      0  @user @user thanks for #lyft credit i can't us...   \n",
              "2   3      0                                bihday your majesty   \n",
              "3   4      0  #model   i love u take with u all the time in ...   \n",
              "4   5      0             factsguide: society now    #motivation   \n",
              "\n",
              "                              tweet_converted_emojis  \\\n",
              "0   @user when a father is dysfunctional and is s...   \n",
              "1  @user @user thanks for #lyft credit i can't us...   \n",
              "2                                bihday your majesty   \n",
              "3  #model   i love u take with u all the time in ...   \n",
              "4             factsguide: society now    #motivation   \n",
              "\n",
              "                                              emojis  n_mentions  \\\n",
              "0                                                 []           1   \n",
              "1                                                 []           2   \n",
              "2                                                 []           0   \n",
              "3  ['sweat droplets', 'mobile phone', 'mouth', 't...           0   \n",
              "4                                                 []           0   \n",
              "\n",
              "                                hashtags  \\\n",
              "0                                ['run']   \n",
              "1  ['lyft', 'disapointed', 'getthanked']   \n",
              "2                                     []   \n",
              "3                              ['model']   \n",
              "4                         ['motivation']   \n",
              "\n",
              "                                 without_punctuation  \\\n",
              "0   user when a father is dysfunctional and is so...   \n",
              "1  user user thanks for lyft credit i cant use ca...   \n",
              "2                                bihday your majesty   \n",
              "3  model   i love u take with u all the time in u...   \n",
              "4               factsguide society now    motivation   \n",
              "\n",
              "                                         tweet_lower  \\\n",
              "0   user when a father is dysfunctional and is so...   \n",
              "1  user user thanks for lyft credit i cant use ca...   \n",
              "2                                bihday your majesty   \n",
              "3  model   i love u take with u all the time in u...   \n",
              "4               factsguide society now    motivation   \n",
              "\n",
              "                                         tweet_token  \\\n",
              "0  ['user', 'when', 'a', 'father', 'is', 'dysfunc...   \n",
              "1  ['user', 'user', 'thanks', 'for', 'lyft', 'cre...   \n",
              "2                      ['bihday', 'your', 'majesty']   \n",
              "3  ['model', 'i', 'love', 'u', 'take', 'with', 'u...   \n",
              "4     ['factsguide', 'society', 'now', 'motivation']   \n",
              "\n",
              "                                         clean_token  \\\n",
              "0  ['user', 'father', 'dysfunctional', 'selfish',...   \n",
              "1  ['user', 'user', 'thanks', 'lyft', 'credit', '...   \n",
              "2                              ['bihday', 'majesty']   \n",
              "3  ['model', 'love', 'u', 'take', 'u', 'time', 'u...   \n",
              "4            ['factsguide', 'society', 'motivation']   \n",
              "\n",
              "                          clean_hashtags  \\\n",
              "0                                ['run']   \n",
              "1  ['lyft', 'disapointed', 'getthanked']   \n",
              "2                                     []   \n",
              "3                              ['model']   \n",
              "4                         ['motivation']   \n",
              "\n",
              "                                      stemmed_tokens  \\\n",
              "0  ['user', 'father', 'dysfunct', 'selfish', 'dra...   \n",
              "1  ['user', 'user', 'thank', 'lyft', 'credit', 'c...   \n",
              "2                              ['bihday', 'majesti']   \n",
              "3  ['model', 'love', 'u', 'take', 'u', 'time', 'u...   \n",
              "4                  ['factsguid', 'societi', 'motiv']   \n",
              "\n",
              "                    stemmed_hashtags  \\\n",
              "0                            ['run']   \n",
              "1  ['lyft', 'disapoint', 'getthank']   \n",
              "2                                 []   \n",
              "3                          ['model']   \n",
              "4                          ['motiv']   \n",
              "\n",
              "                                   lemmatized_tokens  \\\n",
              "0  ['user', 'father', 'dysfunctional', 'selfish',...   \n",
              "1  ['user', 'user', 'thanks', 'lyft', 'credit', '...   \n",
              "2                              ['bihday', 'majesty']   \n",
              "3  ['model', 'love', 'u', 'take', 'u', 'time', 'u...   \n",
              "4            ['factsguide', 'society', 'motivation']   \n",
              "\n",
              "                     lemmatized_hashtags  \n",
              "0                                ['run']  \n",
              "1  ['lyft', 'disapointed', 'getthanked']  \n",
              "2                                     []  \n",
              "3                              ['model']  \n",
              "4                         ['motivation']  "
            ],
            "text/html": [
              "\n",
              "  <div id=\"df-c3d69d8c-7d3f-44fc-84ed-c359a3c2ce97\">\n",
              "    <div class=\"colab-df-container\">\n",
              "      <div>\n",
              "<style scoped>\n",
              "    .dataframe tbody tr th:only-of-type {\n",
              "        vertical-align: middle;\n",
              "    }\n",
              "\n",
              "    .dataframe tbody tr th {\n",
              "        vertical-align: top;\n",
              "    }\n",
              "\n",
              "    .dataframe thead th {\n",
              "        text-align: right;\n",
              "    }\n",
              "</style>\n",
              "<table border=\"1\" class=\"dataframe\">\n",
              "  <thead>\n",
              "    <tr style=\"text-align: right;\">\n",
              "      <th></th>\n",
              "      <th>id</th>\n",
              "      <th>label</th>\n",
              "      <th>tweet</th>\n",
              "      <th>tweet_converted_emojis</th>\n",
              "      <th>emojis</th>\n",
              "      <th>n_mentions</th>\n",
              "      <th>hashtags</th>\n",
              "      <th>without_punctuation</th>\n",
              "      <th>tweet_lower</th>\n",
              "      <th>tweet_token</th>\n",
              "      <th>clean_token</th>\n",
              "      <th>clean_hashtags</th>\n",
              "      <th>stemmed_tokens</th>\n",
              "      <th>stemmed_hashtags</th>\n",
              "      <th>lemmatized_tokens</th>\n",
              "      <th>lemmatized_hashtags</th>\n",
              "    </tr>\n",
              "  </thead>\n",
              "  <tbody>\n",
              "    <tr>\n",
              "      <th>0</th>\n",
              "      <td>1</td>\n",
              "      <td>0</td>\n",
              "      <td>@user when a father is dysfunctional and is s...</td>\n",
              "      <td>@user when a father is dysfunctional and is s...</td>\n",
              "      <td>[]</td>\n",
              "      <td>1</td>\n",
              "      <td>['run']</td>\n",
              "      <td>user when a father is dysfunctional and is so...</td>\n",
              "      <td>user when a father is dysfunctional and is so...</td>\n",
              "      <td>['user', 'when', 'a', 'father', 'is', 'dysfunc...</td>\n",
              "      <td>['user', 'father', 'dysfunctional', 'selfish',...</td>\n",
              "      <td>['run']</td>\n",
              "      <td>['user', 'father', 'dysfunct', 'selfish', 'dra...</td>\n",
              "      <td>['run']</td>\n",
              "      <td>['user', 'father', 'dysfunctional', 'selfish',...</td>\n",
              "      <td>['run']</td>\n",
              "    </tr>\n",
              "    <tr>\n",
              "      <th>1</th>\n",
              "      <td>2</td>\n",
              "      <td>0</td>\n",
              "      <td>@user @user thanks for #lyft credit i can't us...</td>\n",
              "      <td>@user @user thanks for #lyft credit i can't us...</td>\n",
              "      <td>[]</td>\n",
              "      <td>2</td>\n",
              "      <td>['lyft', 'disapointed', 'getthanked']</td>\n",
              "      <td>user user thanks for lyft credit i cant use ca...</td>\n",
              "      <td>user user thanks for lyft credit i cant use ca...</td>\n",
              "      <td>['user', 'user', 'thanks', 'for', 'lyft', 'cre...</td>\n",
              "      <td>['user', 'user', 'thanks', 'lyft', 'credit', '...</td>\n",
              "      <td>['lyft', 'disapointed', 'getthanked']</td>\n",
              "      <td>['user', 'user', 'thank', 'lyft', 'credit', 'c...</td>\n",
              "      <td>['lyft', 'disapoint', 'getthank']</td>\n",
              "      <td>['user', 'user', 'thanks', 'lyft', 'credit', '...</td>\n",
              "      <td>['lyft', 'disapointed', 'getthanked']</td>\n",
              "    </tr>\n",
              "    <tr>\n",
              "      <th>2</th>\n",
              "      <td>3</td>\n",
              "      <td>0</td>\n",
              "      <td>bihday your majesty</td>\n",
              "      <td>bihday your majesty</td>\n",
              "      <td>[]</td>\n",
              "      <td>0</td>\n",
              "      <td>[]</td>\n",
              "      <td>bihday your majesty</td>\n",
              "      <td>bihday your majesty</td>\n",
              "      <td>['bihday', 'your', 'majesty']</td>\n",
              "      <td>['bihday', 'majesty']</td>\n",
              "      <td>[]</td>\n",
              "      <td>['bihday', 'majesti']</td>\n",
              "      <td>[]</td>\n",
              "      <td>['bihday', 'majesty']</td>\n",
              "      <td>[]</td>\n",
              "    </tr>\n",
              "    <tr>\n",
              "      <th>3</th>\n",
              "      <td>4</td>\n",
              "      <td>0</td>\n",
              "      <td>#model   i love u take with u all the time in ...</td>\n",
              "      <td>#model   i love u take with u all the time in ...</td>\n",
              "      <td>['sweat droplets', 'mobile phone', 'mouth', 't...</td>\n",
              "      <td>0</td>\n",
              "      <td>['model']</td>\n",
              "      <td>model   i love u take with u all the time in u...</td>\n",
              "      <td>model   i love u take with u all the time in u...</td>\n",
              "      <td>['model', 'i', 'love', 'u', 'take', 'with', 'u...</td>\n",
              "      <td>['model', 'love', 'u', 'take', 'u', 'time', 'u...</td>\n",
              "      <td>['model']</td>\n",
              "      <td>['model', 'love', 'u', 'take', 'u', 'time', 'u...</td>\n",
              "      <td>['model']</td>\n",
              "      <td>['model', 'love', 'u', 'take', 'u', 'time', 'u...</td>\n",
              "      <td>['model']</td>\n",
              "    </tr>\n",
              "    <tr>\n",
              "      <th>4</th>\n",
              "      <td>5</td>\n",
              "      <td>0</td>\n",
              "      <td>factsguide: society now    #motivation</td>\n",
              "      <td>factsguide: society now    #motivation</td>\n",
              "      <td>[]</td>\n",
              "      <td>0</td>\n",
              "      <td>['motivation']</td>\n",
              "      <td>factsguide society now    motivation</td>\n",
              "      <td>factsguide society now    motivation</td>\n",
              "      <td>['factsguide', 'society', 'now', 'motivation']</td>\n",
              "      <td>['factsguide', 'society', 'motivation']</td>\n",
              "      <td>['motivation']</td>\n",
              "      <td>['factsguid', 'societi', 'motiv']</td>\n",
              "      <td>['motiv']</td>\n",
              "      <td>['factsguide', 'society', 'motivation']</td>\n",
              "      <td>['motivation']</td>\n",
              "    </tr>\n",
              "  </tbody>\n",
              "</table>\n",
              "</div>\n",
              "      <button class=\"colab-df-convert\" onclick=\"convertToInteractive('df-c3d69d8c-7d3f-44fc-84ed-c359a3c2ce97')\"\n",
              "              title=\"Convert this dataframe to an interactive table.\"\n",
              "              style=\"display:none;\">\n",
              "        \n",
              "  <svg xmlns=\"http://www.w3.org/2000/svg\" height=\"24px\"viewBox=\"0 0 24 24\"\n",
              "       width=\"24px\">\n",
              "    <path d=\"M0 0h24v24H0V0z\" fill=\"none\"/>\n",
              "    <path d=\"M18.56 5.44l.94 2.06.94-2.06 2.06-.94-2.06-.94-.94-2.06-.94 2.06-2.06.94zm-11 1L8.5 8.5l.94-2.06 2.06-.94-2.06-.94L8.5 2.5l-.94 2.06-2.06.94zm10 10l.94 2.06.94-2.06 2.06-.94-2.06-.94-.94-2.06-.94 2.06-2.06.94z\"/><path d=\"M17.41 7.96l-1.37-1.37c-.4-.4-.92-.59-1.43-.59-.52 0-1.04.2-1.43.59L10.3 9.45l-7.72 7.72c-.78.78-.78 2.05 0 2.83L4 21.41c.39.39.9.59 1.41.59.51 0 1.02-.2 1.41-.59l7.78-7.78 2.81-2.81c.8-.78.8-2.07 0-2.86zM5.41 20L4 18.59l7.72-7.72 1.47 1.35L5.41 20z\"/>\n",
              "  </svg>\n",
              "      </button>\n",
              "      \n",
              "  <style>\n",
              "    .colab-df-container {\n",
              "      display:flex;\n",
              "      flex-wrap:wrap;\n",
              "      gap: 12px;\n",
              "    }\n",
              "\n",
              "    .colab-df-convert {\n",
              "      background-color: #E8F0FE;\n",
              "      border: none;\n",
              "      border-radius: 50%;\n",
              "      cursor: pointer;\n",
              "      display: none;\n",
              "      fill: #1967D2;\n",
              "      height: 32px;\n",
              "      padding: 0 0 0 0;\n",
              "      width: 32px;\n",
              "    }\n",
              "\n",
              "    .colab-df-convert:hover {\n",
              "      background-color: #E2EBFA;\n",
              "      box-shadow: 0px 1px 2px rgba(60, 64, 67, 0.3), 0px 1px 3px 1px rgba(60, 64, 67, 0.15);\n",
              "      fill: #174EA6;\n",
              "    }\n",
              "\n",
              "    [theme=dark] .colab-df-convert {\n",
              "      background-color: #3B4455;\n",
              "      fill: #D2E3FC;\n",
              "    }\n",
              "\n",
              "    [theme=dark] .colab-df-convert:hover {\n",
              "      background-color: #434B5C;\n",
              "      box-shadow: 0px 1px 3px 1px rgba(0, 0, 0, 0.15);\n",
              "      filter: drop-shadow(0px 1px 2px rgba(0, 0, 0, 0.3));\n",
              "      fill: #FFFFFF;\n",
              "    }\n",
              "  </style>\n",
              "\n",
              "      <script>\n",
              "        const buttonEl =\n",
              "          document.querySelector('#df-c3d69d8c-7d3f-44fc-84ed-c359a3c2ce97 button.colab-df-convert');\n",
              "        buttonEl.style.display =\n",
              "          google.colab.kernel.accessAllowed ? 'block' : 'none';\n",
              "\n",
              "        async function convertToInteractive(key) {\n",
              "          const element = document.querySelector('#df-c3d69d8c-7d3f-44fc-84ed-c359a3c2ce97');\n",
              "          const dataTable =\n",
              "            await google.colab.kernel.invokeFunction('convertToInteractive',\n",
              "                                                     [key], {});\n",
              "          if (!dataTable) return;\n",
              "\n",
              "          const docLinkHtml = 'Like what you see? Visit the ' +\n",
              "            '<a target=\"_blank\" href=https://colab.research.google.com/notebooks/data_table.ipynb>data table notebook</a>'\n",
              "            + ' to learn more about interactive tables.';\n",
              "          element.innerHTML = '';\n",
              "          dataTable['output_type'] = 'display_data';\n",
              "          await google.colab.output.renderOutput(dataTable, element);\n",
              "          const docLink = document.createElement('div');\n",
              "          docLink.innerHTML = docLinkHtml;\n",
              "          element.appendChild(docLink);\n",
              "        }\n",
              "      </script>\n",
              "    </div>\n",
              "  </div>\n",
              "  "
            ]
          },
          "metadata": {},
          "execution_count": 279
        }
      ]
    },
    {
      "cell_type": "markdown",
      "metadata": {
        "id": "-MwAXtKqxQh3"
      },
      "source": [
        "## Split Data"
      ]
    },
    {
      "cell_type": "code",
      "source": [
        "train_data = pd.read_csv(\"../../data/220510_train_data_preprocessed_temp.csv\", sep=';')"
      ],
      "metadata": {
        "id": "SzlJ0SehKWXm"
      },
      "execution_count": 17,
      "outputs": []
    },
    {
      "cell_type": "code",
      "source": [
        "train_data, test_data = train_test_split(train_data, test_size=0.2, random_state=17, stratify=train_data.label)\n",
        "train_data, val_data = train_test_split(train_data, test_size=0.125, random_state=17, stratify=train_data.label)"
      ],
      "metadata": {
        "id": "s8paeJ_0A-5a"
      },
      "execution_count": 18,
      "outputs": []
    },
    {
      "cell_type": "code",
      "source": [
        "train_data.reset_index(drop=True, inplace=True)\n",
        "val_data.reset_index(drop=True, inplace=True)\n",
        "test_data.reset_index(drop=True, inplace=True)"
      ],
      "metadata": {
        "id": "wLV7BVuCTgLG"
      },
      "execution_count": 19,
      "outputs": []
    },
    {
      "cell_type": "markdown",
      "metadata": {
        "id": "RVSJHA6AxQh9"
      },
      "source": [
        "# Work in progress"
      ]
    },
    {
      "cell_type": "code",
      "source": [
        "from sklearn.feature_extraction.text import TfidfVectorizer\n",
        "from sklearn.decomposition import TruncatedSVD\n",
        "import pandas as pd\n",
        "import math\n",
        "import numpy as np\n",
        "\n",
        "def transform_reduce(transformer, reducer, data):\n",
        "    result = reducer.transform(transformer.transform(data.values.tolist()))\n",
        "    #result = transformer.transform(data.values.tolist()).toarray() #Only 600 words in vocabulary... reduction not really necessary ..\n",
        "    return pd.Series(list(result))\n",
        "\n",
        "def tfidf_transform_data(source_column, target_column, train_data, val_data, test_data):\n",
        "\n",
        "    #Fit Count to training data:\n",
        "    vectorizer = TfidfVectorizer(tokenizer=lambda x: x, max_features=8000, preprocessor=lambda x: x)\n",
        "    vectorizer.fit(train_data[source_column].values.tolist())\n",
        "    print(len(vectorizer.vocabulary_))\n",
        "\n",
        "    #Fit SVD to training data\n",
        "    tfidf_train_data = vectorizer.transform(train_data[source_column].values.tolist())\n",
        "    try:\n",
        "        svd = TruncatedSVD(n_components=300)\n",
        "        svd.fit(tfidf_train_data)\n",
        "    except ValueError:\n",
        "        svd = TruncatedSVD(n_components=20)\n",
        "        svd.fit(tfidf_train_data)\n",
        "\n",
        "    #Transform Data:\n",
        "    train_data[target_column] = transform_reduce(vectorizer, svd, train_data[source_column])\n",
        "    val_data[target_column] = transform_reduce(vectorizer, svd, val_data[source_column])\n",
        "    test_data[target_column] = transform_reduce(vectorizer, svd, test_data[source_column])\n",
        "\n",
        "    return train_data, val_data, test_data"
      ],
      "metadata": {
        "id": "dX35HBkcLTIi"
      },
      "execution_count": 16,
      "outputs": []
    },
    {
      "cell_type": "code",
      "source": [
        "train_data, val_data, test_data = tfidf_transform_data(\"stemmed_tokens\", \"tfidf_stemmed_tokens\", train_data, val_data, test_data)\n",
        "train_data, val_data, test_data = tfidf_transform_data(\"stemmed_hashtags\", \"tfidf_stemmed_hashtags\", train_data, val_data, test_data)\n",
        "train_data, val_data, test_data = tfidf_transform_data(\"lemmatized_tokens\", \"tfidf_lemmatized_tokens\", train_data, val_data, test_data)\n",
        "train_data, val_data, test_data = tfidf_transform_data(\"lemmatized_hashtags\", \"tfidf_lemmatized_hashtags\", train_data, val_data, test_data)\n",
        "train_data, val_data, test_data = tfidf_transform_data(\"emojis\", \"tfidf_emojis\", train_data, val_data, test_data)"
      ],
      "metadata": {
        "colab": {
          "base_uri": "https://localhost:8080/"
        },
        "id": "CJzJ95uSMTqm",
        "outputId": "fffd2726-bc1e-447b-d463-a90ba16c7eee"
      },
      "execution_count": 20,
      "outputs": [
        {
          "output_type": "stream",
          "name": "stderr",
          "text": [
            "/usr/local/lib/python3.7/dist-packages/sklearn/feature_extraction/text.py:517: UserWarning: The parameter 'token_pattern' will not be used since 'tokenizer' is not None'\n",
            "  \"The parameter 'token_pattern' will not be used\"\n"
          ]
        },
        {
          "output_type": "stream",
          "name": "stdout",
          "text": [
            "610\n"
          ]
        },
        {
          "output_type": "stream",
          "name": "stderr",
          "text": [
            "/usr/local/lib/python3.7/dist-packages/sklearn/feature_extraction/text.py:517: UserWarning: The parameter 'token_pattern' will not be used since 'tokenizer' is not None'\n",
            "  \"The parameter 'token_pattern' will not be used\"\n"
          ]
        },
        {
          "output_type": "stream",
          "name": "stdout",
          "text": [
            "443\n"
          ]
        },
        {
          "output_type": "stream",
          "name": "stderr",
          "text": [
            "/usr/local/lib/python3.7/dist-packages/sklearn/feature_extraction/text.py:517: UserWarning: The parameter 'token_pattern' will not be used since 'tokenizer' is not None'\n",
            "  \"The parameter 'token_pattern' will not be used\"\n"
          ]
        },
        {
          "output_type": "stream",
          "name": "stdout",
          "text": [
            "610\n"
          ]
        },
        {
          "output_type": "stream",
          "name": "stderr",
          "text": [
            "/usr/local/lib/python3.7/dist-packages/sklearn/feature_extraction/text.py:517: UserWarning: The parameter 'token_pattern' will not be used since 'tokenizer' is not None'\n",
            "  \"The parameter 'token_pattern' will not be used\"\n"
          ]
        },
        {
          "output_type": "stream",
          "name": "stdout",
          "text": [
            "448\n"
          ]
        },
        {
          "output_type": "stream",
          "name": "stderr",
          "text": [
            "/usr/local/lib/python3.7/dist-packages/sklearn/feature_extraction/text.py:517: UserWarning: The parameter 'token_pattern' will not be used since 'tokenizer' is not None'\n",
            "  \"The parameter 'token_pattern' will not be used\"\n"
          ]
        },
        {
          "output_type": "stream",
          "name": "stdout",
          "text": [
            "66\n"
          ]
        }
      ]
    },
    {
      "cell_type": "code",
      "source": [
        "def emb_data(source_column, data, nlp):\n",
        "\n",
        "    #Fit Count to training data:\n",
        "    tweets = data[source_column].values.tolist()\n",
        "    nlp.disable_pipes(\"parser\", \"ner\", \"lemmatizer\") #remove pipe we do not need\n",
        "    embeddings = [sum([word.vector for word in item])/len(item) for item in nlp.pipe(tweets)]\n",
        "    return pd.Series(embeddings)"
      ],
      "metadata": {
        "id": "K26d60cmGfTl"
      },
      "execution_count": 56,
      "outputs": []
    },
    {
      "cell_type": "code",
      "source": [
        "!python -m spacy download en_core_web_lg\n"
      ],
      "metadata": {
        "id": "WFks5ieiHqUX"
      },
      "execution_count": null,
      "outputs": []
    },
    {
      "cell_type": "code",
      "source": [
        "nlp = spacy.load(\"en_core_web_lg\")\n"
      ],
      "metadata": {
        "id": "TI8wJkx9MHQR"
      },
      "execution_count": 51,
      "outputs": []
    },
    {
      "cell_type": "code",
      "source": [
        "import spacy\n",
        "\n",
        "test_data[\"emb\"] = emb_data(\"tweet\", test_data, nlp)\n",
        "val_data[\"emb\"] = emb_data(\"tweet\", val_data, nlp)\n",
        "train_data[\"emb\"] = emb_data(\"tweet\", train_data, nlp)"
      ],
      "metadata": {
        "id": "1zIC2acJGUmf"
      },
      "execution_count": 59,
      "outputs": []
    },
    {
      "cell_type": "code",
      "source": [
        "len(test_data[\"emb\"][0])\n"
      ],
      "metadata": {
        "colab": {
          "base_uri": "https://localhost:8080/"
        },
        "id": "z5W0pQb7MLFj",
        "outputId": "43c4d3b8-7f62-4fd3-a024-77c72030c03b"
      },
      "execution_count": 62,
      "outputs": [
        {
          "output_type": "execute_result",
          "data": {
            "text/plain": [
              "300"
            ]
          },
          "metadata": {},
          "execution_count": 62
        }
      ]
    },
    {
      "cell_type": "markdown",
      "source": [
        "#Save Data"
      ],
      "metadata": {
        "id": "0nN163LzDsFY"
      }
    },
    {
      "cell_type": "code",
      "source": [
        "test_data.to_csv(\"../../data/220510_test_data_preprocessed.csv\", sep=\";\", encoding=\"utf-8\", index=False)\n",
        "train_data.to_csv(\"../../data/220510_train_data_preprocessed.csv\", sep=\";\", encoding=\"utf-8\", index=False)\n",
        "val_data.to_csv(\"../../data/220510_validation_data_preprocessed.csv\", sep=\";\", encoding=\"utf-8\", index=False)"
      ],
      "metadata": {
        "id": "S0-gDdA6Dthj"
      },
      "execution_count": 243,
      "outputs": []
    },
    {
      "cell_type": "code",
      "source": [
        "import pickle\n",
        "pickle.dump(test_data, open(\"../../data/220510_test_data_preprocessed.pickle\", \"wb\"))\n",
        "pickle.dump(train_data, open(\"../../data/220510_train_data_preprocessed.pickle\", \"wb\"))\n",
        "pickle.dump(val_data, open(\"../../data/220510_validation_data_preprocessed.pickle\", \"wb\"))"
      ],
      "metadata": {
        "id": "cYuT8WcMO4ZB"
      },
      "execution_count": 60,
      "outputs": []
    }
  ],
  "metadata": {
    "colab": {
      "collapsed_sections": [
        "6trqFrZixQg1",
        "VYWUXpT1xQh-",
        "i3fp1U0AxQhJ",
        "BD0cibTixQhR",
        "JPaOhm2lxQhX",
        "kgDDGxTCxQhd",
        "9Tx4IBjzxQhh",
        "DSC4DCYDxQhk",
        "JKW9vlXKxQho",
        "tT29MhFuxQht"
      ],
      "machine_shape": "hm",
      "name": "preprocessing.ipynb",
      "provenance": []
    },
    "interpreter": {
      "hash": "947cd5ef72fa4485f7ecf5a654ef12bcb7ac0faec018370a70389fc4010d0179"
    },
    "kernelspec": {
      "display_name": "Python 3.9.12 ('env': venv)",
      "language": "python",
      "name": "python3"
    },
    "language_info": {
      "codemirror_mode": {
        "name": "ipython",
        "version": 3
      },
      "file_extension": ".py",
      "mimetype": "text/x-python",
      "name": "python",
      "nbconvert_exporter": "python",
      "pygments_lexer": "ipython3",
      "version": "3.9.12"
    }
  },
  "nbformat": 4,
  "nbformat_minor": 0
}