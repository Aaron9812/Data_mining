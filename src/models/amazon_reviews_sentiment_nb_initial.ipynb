{
 "cells": [
  {
   "cell_type": "markdown",
   "metadata": {
    "id": "pdIoGVy0dLFJ"
   },
   "source": [
    "# Set up"
   ]
  },
  {
   "cell_type": "markdown",
   "metadata": {
    "id": "dAbpqgiYZQTw"
   },
   "source": [
    "## Package Loading"
   ]
  },
  {
   "cell_type": "code",
   "execution_count": 1,
   "metadata": {
    "colab": {
     "base_uri": "https://localhost:8080/"
    },
    "id": "pkuSpTlmZZ17",
    "outputId": "b2eea3a4-c80f-4d6e-f01d-5dc84b32e9cf"
   },
   "outputs": [
    {
     "name": "stdout",
     "output_type": "stream",
     "text": [
      "Looking in indexes: https://int.repositories.cloud.sap/artifactory/api/pypi/build-releases-pypi/simple, https://int.repositories.cloud.sap/artifactory/api/pypi/build-milestones-pypi/simple\n",
      "Requirement already satisfied: emoji in c:\\users\\d073999\\miniconda3\\lib\\site-packages (1.7.0)\n"
     ]
    },
    {
     "name": "stderr",
     "output_type": "stream",
     "text": [
      "WARNING: You are using pip version 21.3.1; however, version 22.0.4 is available.\n",
      "You should consider upgrading via the 'c:\\users\\d073999\\miniconda3\\python.exe -m pip install --upgrade pip' command.\n"
     ]
    },
    {
     "name": "stdout",
     "output_type": "stream",
     "text": [
      "Looking in indexes: https://int.repositories.cloud.sap/artifactory/api/pypi/build-releases-pypi/simple, https://int.repositories.cloud.sap/artifactory/api/pypi/build-milestones-pypi/simple\n",
      "Requirement already satisfied: nltk in c:\\users\\d073999\\miniconda3\\lib\\site-packages (3.7)\n",
      "Requirement already satisfied: tqdm in c:\\users\\d073999\\miniconda3\\lib\\site-packages (from nltk) (4.64.0)\n",
      "Requirement already satisfied: regex>=2021.8.3 in c:\\users\\d073999\\miniconda3\\lib\\site-packages (from nltk) (2022.3.15)\n",
      "Requirement already satisfied: click in c:\\users\\d073999\\miniconda3\\lib\\site-packages (from nltk) (8.1.2)\n",
      "Requirement already satisfied: joblib in c:\\users\\d073999\\miniconda3\\lib\\site-packages (from nltk) (1.1.0)\n",
      "Requirement already satisfied: colorama in c:\\users\\d073999\\miniconda3\\lib\\site-packages (from click->nltk) (0.4.4)\n"
     ]
    },
    {
     "name": "stderr",
     "output_type": "stream",
     "text": [
      "WARNING: You are using pip version 21.3.1; however, version 22.0.4 is available.\n",
      "You should consider upgrading via the 'c:\\users\\d073999\\miniconda3\\python.exe -m pip install --upgrade pip' command.\n",
      "[nltk_data] Downloading package punkt to\n",
      "[nltk_data]     C:\\Users\\D073999\\AppData\\Roaming\\nltk_data...\n",
      "[nltk_data]   Package punkt is already up-to-date!\n",
      "[nltk_data] Downloading package stopwords to\n",
      "[nltk_data]     C:\\Users\\D073999\\AppData\\Roaming\\nltk_data...\n",
      "[nltk_data]   Package stopwords is already up-to-date!\n"
     ]
    }
   ],
   "source": [
    "import pandas as pd\n",
    "import numpy as np\n",
    "import itertools\n",
    "!pip install emoji\n",
    "import emoji\n",
    "import re\n",
    "!pip install nltk\n",
    "import nltk\n",
    "nltk.download('punkt')\n",
    "nltk.download('stopwords')\n",
    "from nltk.corpus import stopwords \n",
    "from nltk.tokenize import word_tokenize \n",
    "from sklearn.utils.multiclass import unique_labels\n",
    "from sklearn.feature_extraction.text import TfidfVectorizer, CountVectorizer\n",
    "from imblearn.pipeline import Pipeline\n",
    "from imblearn.over_sampling import RandomOverSampler, ADASYN, SMOTE\n",
    "from imblearn.under_sampling import RandomUnderSampler, NearMiss\n",
    "from sklearn.pipeline import make_pipeline\n",
    "from sklearn.model_selection import train_test_split, StratifiedKFold, cross_val_predict, GridSearchCV\n",
    "from sklearn.svm import LinearSVC\n",
    "from sklearn.linear_model import SGDClassifier\n",
    "from sklearn.ensemble import ExtraTreesClassifier, RandomForestClassifier\n",
    "from sklearn.tree import DecisionTreeClassifier\n",
    "from sklearn.linear_model import LogisticRegression\n",
    "from sklearn.metrics import classification_report, accuracy_score, confusion_matrix, f1_score, make_scorer\n",
    "import matplotlib.pyplot as plt\n",
    "import time\n",
    "import joblib\n",
    "import gzip\n",
    "import json\n",
    "import seaborn as sns\n",
    "#from google.colab import drive\n",
    "#drive.mount('/content/drive')"
   ]
  },
  {
   "cell_type": "markdown",
   "metadata": {
    "id": "bhhHbBWheQb-"
   },
   "source": [
    "## Set Up paths"
   ]
  },
  {
   "cell_type": "code",
   "execution_count": 2,
   "metadata": {
    "id": "frFeRDORe2DQ"
   },
   "outputs": [],
   "source": [
    "# Parent paths\n",
    "parent_path = '/content/drive/My Drive/'\n",
    "\n",
    "\n",
    "#Specific paths\n",
    "path_hyperparameters_nb = parent_path+\"Web_Mining_Project/classifier_parameters/best_parameters/nb.csv\"\n",
    "path_hyperparameters_knn = parent_path+\"Web_Mining_Project/classifier_parameters/best_parameters/knn.csv\"\n",
    "path_hyperparameters_rf = parent_path+\"Web_Mining_Project/classifier_parameters/best_parameters/rf.csv\"\n",
    "path_hyperparameters_svm = parent_path+\"Web_Mining_Project/classifier_parameters/best_parameters/svm.csv\"\n",
    "\n",
    "path_best_parameters_nb = parent_path+\"Web_Mining_Project/classifier_parameters/nb.pkl\"\n",
    "path_best_parameters_knn = parent_path+\"Web_Mining_Project/classifier_parameters/knn.pkl\"\n",
    "path_best_parameters_rf = parent_path+\"Web_Mining_Project/classifier_parameters/rf.pkl\"\n",
    "path_best_parameters_svm = parent_path+\"Web_Mining_Project/classifier_parameters/svm.pkl\"\n",
    "#dataset paths \n",
    "path_complete_dataset = parent_path + \"Web_Mining_Project/data/complete_dataset.csv\"\n",
    "path_shortend_dataset = parent_path + \"Web_Mining_Project/data/shortend10000_dataset.csv\""
   ]
  },
  {
   "cell_type": "markdown",
   "metadata": {
    "id": "ghQeUaKCgx2L"
   },
   "source": [
    "## Set Up Functions"
   ]
  },
  {
   "cell_type": "code",
   "execution_count": 3,
   "metadata": {
    "id": "_IgovWRmgwRa"
   },
   "outputs": [],
   "source": [
    "# function for evaluation(confusion matrix)\n",
    "def plot_confusion_matrix(cm, classes,\n",
    "                          normalize=False,\n",
    "                          title='Confusion matrix',\n",
    "                          cmap=plt.cm.Blues):\n",
    "    \"\"\"\n",
    "    This function prints and plots the confusion matrix.\n",
    "    Normalization can be applied by setting `normalize=True`.\n",
    "    \"\"\"\n",
    "    if normalize:\n",
    "        cm = cm.astype('float') / cm.sum(axis=1)[:, np.newaxis]\n",
    "\n",
    "    plt.imshow(cm, interpolation='nearest', cmap=cmap)\n",
    "    plt.title(title)\n",
    "    plt.colorbar()\n",
    "    tick_marks = np.arange(len(classes))\n",
    "    plt.xticks(tick_marks, classes, rotation=45)\n",
    "    plt.yticks(tick_marks, classes)\n",
    "\n",
    "    fmt = '.2f' if normalize else 'd'\n",
    "    thresh = cm.max() / 2.\n",
    "    for i, j in itertools.product(range(cm.shape[0]), range(cm.shape[1])):\n",
    "        plt.text(j, i, format(cm[i, j], fmt),\n",
    "                 horizontalalignment=\"center\",\n",
    "                 color=\"white\" if cm[i, j] > thresh else \"black\")\n",
    "\n",
    "    plt.ylabel('True label')\n",
    "    plt.xlabel('Predicted label')\n",
    "    plt.tight_layout()\n",
    "\n",
    "# function for sentiment label creating \n",
    "def create_labels_from_rating(score):\n",
    "  score = int(score)\n",
    "  if score <= 2:\n",
    "    return 0 #negative\n",
    "  elif score == 3:\n",
    "    return 1 #neutral\n",
    "  else:\n",
    "    return 2 #positive"
   ]
  },
  {
   "cell_type": "markdown",
   "metadata": {
    "id": "2psw4oRk5UQu"
   },
   "source": [
    "# Data Download and Exploration"
   ]
  },
  {
   "cell_type": "code",
   "execution_count": 15,
   "metadata": {
    "colab": {
     "base_uri": "https://localhost:8080/",
     "height": 441
    },
    "id": "gOg75kouWVna",
    "outputId": "c4c1c647-e3c8-418e-da2a-9ee49679463d"
   },
   "outputs": [
    {
     "name": "stdout",
     "output_type": "stream",
     "text": [
      "(31962, 3)\n"
     ]
    },
    {
     "data": {
      "text/html": [
       "<div>\n",
       "<style scoped>\n",
       "    .dataframe tbody tr th:only-of-type {\n",
       "        vertical-align: middle;\n",
       "    }\n",
       "\n",
       "    .dataframe tbody tr th {\n",
       "        vertical-align: top;\n",
       "    }\n",
       "\n",
       "    .dataframe thead th {\n",
       "        text-align: right;\n",
       "    }\n",
       "</style>\n",
       "<table border=\"1\" class=\"dataframe\">\n",
       "  <thead>\n",
       "    <tr style=\"text-align: right;\">\n",
       "      <th></th>\n",
       "      <th>id</th>\n",
       "      <th>label</th>\n",
       "      <th>tweet</th>\n",
       "    </tr>\n",
       "  </thead>\n",
       "  <tbody>\n",
       "    <tr>\n",
       "      <th>0</th>\n",
       "      <td>1</td>\n",
       "      <td>0</td>\n",
       "      <td>@user when a father is dysfunctional and is s...</td>\n",
       "    </tr>\n",
       "    <tr>\n",
       "      <th>1</th>\n",
       "      <td>2</td>\n",
       "      <td>0</td>\n",
       "      <td>@user @user thanks for #lyft credit i can't us...</td>\n",
       "    </tr>\n",
       "    <tr>\n",
       "      <th>2</th>\n",
       "      <td>3</td>\n",
       "      <td>0</td>\n",
       "      <td>bihday your majesty</td>\n",
       "    </tr>\n",
       "    <tr>\n",
       "      <th>3</th>\n",
       "      <td>4</td>\n",
       "      <td>0</td>\n",
       "      <td>#model   i love u take with u all the time in ...</td>\n",
       "    </tr>\n",
       "    <tr>\n",
       "      <th>4</th>\n",
       "      <td>5</td>\n",
       "      <td>0</td>\n",
       "      <td>factsguide: society now    #motivation</td>\n",
       "    </tr>\n",
       "  </tbody>\n",
       "</table>\n",
       "</div>"
      ],
      "text/plain": [
       "   id  label                                              tweet\n",
       "0   1      0   @user when a father is dysfunctional and is s...\n",
       "1   2      0  @user @user thanks for #lyft credit i can't us...\n",
       "2   3      0                                bihday your majesty\n",
       "3   4      0  #model   i love u take with u all the time in ...\n",
       "4   5      0             factsguide: society now    #motivation"
      ]
     },
     "execution_count": 15,
     "metadata": {},
     "output_type": "execute_result"
    }
   ],
   "source": [
    "# create dataframe \n",
    "df = pd.read_csv(\"./train_tweet.csv\", sep=',')\n",
    "print(df.shape)\n",
    "df.head()"
   ]
  },
  {
   "cell_type": "code",
   "execution_count": 7,
   "metadata": {
    "colab": {
     "base_uri": "https://localhost:8080/",
     "height": 1000
    },
    "id": "G_CWaKAg6ceh",
    "outputId": "cf040249-e5da-42f9-9a9a-081386824d22"
   },
   "outputs": [
    {
     "name": "stdout",
     "output_type": "stream",
     "text": [
      "id       False\n",
      "label    False\n",
      "tweet    False\n",
      "dtype: bool\n",
      "\n",
      "<class 'pandas.core.frame.DataFrame'>\n",
      "RangeIndex: 31962 entries, 0 to 31961\n",
      "Data columns (total 3 columns):\n",
      " #   Column  Non-Null Count  Dtype \n",
      "---  ------  --------------  ----- \n",
      " 0   id      31962 non-null  int64 \n",
      " 1   label   31962 non-null  int64 \n",
      " 2   tweet   31962 non-null  object\n",
      "dtypes: int64(2), object(1)\n",
      "memory usage: 749.2+ KB\n",
      "\n",
      "id        int64\n",
      "label     int64\n",
      "tweet    object\n",
      "dtype: object\n",
      "\n",
      "\n",
      "\n"
     ]
    }
   ],
   "source": [
    "# General Information and Null values\n",
    "print(df.isnull().any())\n",
    "print()\n",
    "df.info()\n",
    "print()\n",
    "print(df.dtypes)\n",
    "print()\n",
    "#print(df.overall.describe())\n",
    "print()\n",
    "# plot the score & check for the distribution of the star ratings \n",
    "#sns.countplot(df.overall)\n",
    "plt.show()\n",
    "print()"
   ]
  },
  {
   "cell_type": "markdown",
   "metadata": {
    "id": "Ub4lefsY5XwW"
   },
   "source": [
    "# Data Preprocessing and further Exploration"
   ]
  },
  {
   "cell_type": "markdown",
   "metadata": {
    "id": "T6qhdNDLviKC"
   },
   "source": [
    "## Label creation"
   ]
  },
  {
   "cell_type": "code",
   "execution_count": 26,
   "metadata": {
    "colab": {
     "base_uri": "https://localhost:8080/",
     "height": 334
    },
    "id": "oC2lhUbiv6fy",
    "outputId": "9b60da5b-5c07-4be2-9566-0113b7531cb0"
   },
   "outputs": [
    {
     "name": "stderr",
     "output_type": "stream",
     "text": [
      "/usr/local/lib/python3.7/dist-packages/seaborn/_decorators.py:43: FutureWarning: Pass the following variable as a keyword arg: x. From version 0.12, the only valid positional argument will be `data`, and passing other arguments without an explicit keyword will result in an error or misinterpretation.\n",
      "  FutureWarning\n"
     ]
    },
    {
     "data": {
      "image/png": "[encoded data removed]",
      "text/plain": [
       "<Figure size 432x288 with 1 Axes>"
      ]
     },
     "metadata": {
      "needs_background": "light"
     },
     "output_type": "display_data"
    }
   ],
   "source": [
    "df['label'] = df['overall'].apply(create_labels_from_rating)\n",
    "# plot the score & check for the distribution of the star ratings \n",
    "sns.countplot(df.label)\n",
    "plt.show()"
   ]
  },
  {
   "cell_type": "markdown",
   "metadata": {
    "id": "PyHX54AVnI4U"
   },
   "source": [
    "## Feature Generation and Selection"
   ]
  },
  {
   "cell_type": "code",
   "execution_count": 27,
   "metadata": {
    "colab": {
     "base_uri": "https://localhost:8080/"
    },
    "id": "9HzH9Q_NnNbs",
    "outputId": "4bf1b6b8-4324-4eba-d533-649cd88e04b9"
   },
   "outputs": [
    {
     "name": "stdout",
     "output_type": "stream",
     "text": [
      "(10000, 10)\n"
     ]
    }
   ],
   "source": [
    "# Frequency encoding using value_counts function\n",
    "reviewerID_freq = df['reviewerID'].value_counts()\n",
    "# Mapping the encoded values with original data\n",
    "df['reviewer_amount_of_reviews'] = df['reviewerID'].apply(lambda x : reviewerID_freq[x])\n",
    "# detecting mean of ratings score per user\n",
    "df['reviewer_mean_score'] = df.groupby(['reviewerID'])['overall'].transform(lambda x: x.mean())\n",
    "df.drop(columns=['reviewTime', 'reviewerName', 'vote', 'style', 'image'], inplace=True)\n",
    "print(df.shape)"
   ]
  },
  {
   "cell_type": "code",
   "execution_count": 28,
   "metadata": {
    "colab": {
     "base_uri": "https://localhost:8080/"
    },
    "id": "sH2tmY5m4fIZ",
    "outputId": "f75e7af0-5665-4db7-9a21-0335e03a064c"
   },
   "outputs": [
    {
     "name": "stdout",
     "output_type": "stream",
     "text": [
      "(9999, 10)\n",
      "   overall  verified      reviewerID        asin  \\\n",
      "0      5.0      True  A1HP7NVNPFMA4N  0700026657   \n",
      "1      4.0     False  A1JGAP0185YJI6  0700026657   \n",
      "2      3.0      True  A1YJWEXHQBWK2B  0700026657   \n",
      "3      2.0      True  A2204E1TH211HT  0700026657   \n",
      "4      5.0      True  A2RF5B5H74JLPE  0700026657   \n",
      "\n",
      "                                          reviewText  \\\n",
      "0  This game is a bit hard to get the hang of, bu...   \n",
      "1  I played it a while but it was alright. The st...   \n",
      "2                                           ok game.   \n",
      "3  found the game a bit too complicated, not what...   \n",
      "4  great game, I love it and have played it since...   \n",
      "\n",
      "                                       summary  unixReviewTime  label  \\\n",
      "0                  but when you do it's great.      1445040000      2   \n",
      "1  But in spite of that it was fun, I liked it      1437955200      2   \n",
      "2                                  Three Stars      1424649600      1   \n",
      "3                                    Two Stars      1424390400      0   \n",
      "4                               love this game      1419465600      2   \n",
      "\n",
      "   reviewer_amount_of_reviews  reviewer_mean_score  \n",
      "0                           1                  5.0  \n",
      "1                           1                  4.0  \n",
      "2                           1                  3.0  \n",
      "3                           1                  2.0  \n",
      "4                           2                  5.0  \n"
     ]
    }
   ],
   "source": [
    "df = df[df['reviewText'].apply(lambda x: isinstance(x, str))] \n",
    "df = df[df['summary'].apply(lambda x: isinstance(x, str))]\n",
    "df.dropna(inplace=True)\n",
    "print(df.shape)\n",
    "print(df.head())"
   ]
  },
  {
   "cell_type": "markdown",
   "metadata": {
    "id": "V5PDua9Y6-KF"
   },
   "source": [
    "## Emoji Detection and Replacement"
   ]
  },
  {
   "cell_type": "code",
   "execution_count": 16,
   "metadata": {
    "colab": {
     "base_uri": "https://localhost:8080/"
    },
    "id": "v2Itjg7W7Xpl",
    "outputId": "51c1c0d9-5908-467b-f27e-b54095832bc0"
   },
   "outputs": [
    {
     "name": "stdout",
     "output_type": "stream",
     "text": [
      "[' @user when a father is dysfunctional and is so selfish he drags his kids into his dysfunction.   #run', \"@user @user thanks for #lyft credit i can't use cause they don't offer wheelchair vans in pdx.    #disapointed #getthanked\", '  bihday your majesty', '#model   i love u take with u all the time in urð\\x9f\\x93±!!! ð\\x9f\\x98\\x99ð\\x9f\\x98\\x8eð\\x9f\\x91\\x84ð\\x9f\\x91\\x85ð\\x9f\\x92¦ð\\x9f\\x92¦ð\\x9f\\x92¦  ', ' factsguide: society now    #motivation']\n"
     ]
    }
   ],
   "source": [
    "text = df['tweet']\n",
    "label = df['label']\n",
    "\n",
    "list_texts = list(text)\n",
    "\n",
    "pure_texts = []\n",
    "for text in list_texts:\n",
    "  pure_text = emoji.demojize(text, language='en')\n",
    "  pure_texts.append(pure_text)\n",
    "\n",
    "print(pure_texts[:5])"
   ]
  },
  {
   "cell_type": "markdown",
   "metadata": {
    "id": "XAvccEqX8n4R"
   },
   "source": [
    "## Data Transformation"
   ]
  },
  {
   "cell_type": "code",
   "execution_count": 21,
   "metadata": {
    "colab": {
     "base_uri": "https://localhost:8080/"
    },
    "id": "-Fr79gog8nVJ",
    "outputId": "77b7424d-7bc8-45e0-dba5-656af9eb0650"
   },
   "outputs": [
    {
     "name": "stdout",
     "output_type": "stream",
     "text": [
      "[' user when a father is dysfunctional and is so selfish he drags his kids into his dysfunction run']\n",
      "(31962, 3)\n"
     ]
    },
    {
     "data": {
      "text/plain": [
       "<bound method NDFrame.head of           id  label                                              tweet\n",
       "0          1      0   @user when a father is dysfunctional and is s...\n",
       "1          2      0  @user @user thanks for #lyft credit i can't us...\n",
       "2          3      0                                bihday your majesty\n",
       "3          4      0  #model   i love u take with u all the time in ...\n",
       "4          5      0             factsguide: society now    #motivation\n",
       "...      ...    ...                                                ...\n",
       "31957  31958      0  ate @user isz that youuu?ðððððð...\n",
       "31958  31959      0    to see nina turner on the airwaves trying to...\n",
       "31959  31960      0  listening to sad songs on a monday morning otw...\n",
       "31960  31961      1  @user #sikh #temple vandalised in in #calgary,...\n",
       "31961  31962      0                   thank you @user for you follow  \n",
       "\n",
       "[31962 rows x 3 columns]>"
      ]
     },
     "execution_count": 21,
     "metadata": {},
     "output_type": "execute_result"
    }
   ],
   "source": [
    "def transform_text(text):\n",
    "\n",
    "    # lowercasing\n",
    "    text = text.lower()\n",
    "    \n",
    "    # remove everything that is not a word \n",
    "    text =  re.sub(\"[^a-z]+\", \" \",text)\n",
    "\n",
    "    # remove Links \n",
    "    url_pattern = re.compile(r'https?://\\S+|www\\.\\S+')\n",
    "    text = url_pattern.sub(r'', text)\n",
    "    \n",
    "    return text\n",
    "\n",
    "finished_text = []\n",
    "for i in range(len(pure_texts)):\n",
    "    finished_text.append(transform_text(pure_texts[i]))\n",
    "\n",
    "\n",
    "print(finished_text[:1])\n",
    "\n",
    "text_without_sw = pd.DataFrame(finished_text,columns=['tweet'])\n",
    "print(df.shape)\n",
    "df.reset_index(drop=True)\n",
    "#df.drop(columns =['tweet'], inplace = True)\n",
    "df.head"
   ]
  },
  {
   "cell_type": "markdown",
   "metadata": {
    "id": "pocsiti49v2l"
   },
   "source": [
    "## Tokenization "
   ]
  },
  {
   "cell_type": "code",
   "execution_count": 22,
   "metadata": {
    "colab": {
     "base_uri": "https://localhost:8080/"
    },
    "id": "Bs6W6wRsA1hz",
    "outputId": "425c6b13-0ab1-411a-9f1c-f57154e8b298"
   },
   "outputs": [
    {
     "name": "stdout",
     "output_type": "stream",
     "text": [
      "   id  label                                              tweet\n",
      "0   1      0  @user father dysfunctional selfish drags kids ...\n",
      "1   2      0  @user @user thanks #lyft credit can't use caus...\n",
      "2   3      0                                     bihday majesty\n",
      "3   4      0  #model love u take u time urð±!!! ððð...\n",
      "4   5      0                    factsguide: society #motivation\n",
      "(31962, 3)\n"
     ]
    }
   ],
   "source": [
    "df = df[df['tweet'].apply(lambda x: isinstance(x, str))] \n",
    "# tokenize and remove stopwords \n",
    "stop = stopwords.words('english')\n",
    "df['tweet'] = df['tweet'].apply(lambda x: ' '.join([word for word in x.split() if word not in (stop)]))\n",
    "df.dropna(inplace=True)\n",
    "print(df.head())\n",
    "print(df.shape)"
   ]
  },
  {
   "cell_type": "markdown",
   "metadata": {
    "id": "h0Huq-553D0p"
   },
   "source": [
    "# Train Test Split and shortening "
   ]
  },
  {
   "cell_type": "code",
   "execution_count": 23,
   "metadata": {
    "id": "V304yhm93NOu"
   },
   "outputs": [],
   "source": [
    "df = df[df['tweet'].apply(lambda x: isinstance(x, str))]"
   ]
  },
  {
   "cell_type": "code",
   "execution_count": 24,
   "metadata": {
    "colab": {
     "base_uri": "https://localhost:8080/"
    },
    "id": "W4AtH8CR3SKs",
    "outputId": "c6534165-3cbc-4606-805e-29e10e21a85c"
   },
   "outputs": [
    {
     "name": "stdout",
     "output_type": "stream",
     "text": [
      "y_train: (25569,)/ x_train: (25569, 3)\n",
      "y_test: (3196,)/ x_test: (3196, 3)\n",
      "y_valid: (3197,)/ x_valid: (3197, 3)\n",
      "          id  label                                              tweet\n",
      "24478  24479      0  let guess... bon voyage thing vlive costs mone...\n",
      "15737  15738      0  @user go home today @user (named queen) i'm fi...\n",
      "67        68      0   i'm sure happy.... ðð½ðð½ðð½ hour\n",
      "9148    9149      0                      @user @user thought mad... /:\n",
      "21246  21247      0  time next week i'd finished work 4 days, engla...\n"
     ]
    }
   ],
   "source": [
    "# split\n",
    "x_train, x_test = train_test_split(df, test_size=0.2, random_state = 453, stratify=df['label'])\n",
    "x_test, x_valid = train_test_split(x_test, test_size=0.5 , random_state = 453, stratify= x_test['label'])\n",
    "\n",
    "y_train = x_train['label']\n",
    "y_test = x_test['label']\n",
    "y_valid = x_valid['label']\n",
    "\n",
    "\n",
    "print (f\"y_train: {y_train.shape}/ x_train: {x_train.shape}\")\n",
    "print (f\"y_test: {y_test.shape}/ x_test: {x_test.shape}\")\n",
    "print (f\"y_valid: {y_valid.shape}/ x_valid: {x_valid.shape}\")\n",
    "print(x_train.head())"
   ]
  },
  {
   "cell_type": "markdown",
   "metadata": {
    "id": "-c_g4TzPQt8_"
   },
   "source": [
    "# Model Training"
   ]
  },
  {
   "cell_type": "markdown",
   "metadata": {
    "id": "hTCfxyjHohj8"
   },
   "source": [
    "## Set Up Pipeline"
   ]
  },
  {
   "cell_type": "code",
   "execution_count": 25,
   "metadata": {
    "colab": {
     "base_uri": "https://localhost:8080/"
    },
    "id": "da4hsNzPog0r",
    "outputId": "82d14c00-d743-4afb-b42e-c333ca5075be"
   },
   "outputs": [
    {
     "name": "stdout",
     "output_type": "stream",
     "text": [
      "(25569,)\n",
      "(25569,)\n"
     ]
    },
    {
     "data": {
      "text/plain": [
       "24478    let guess... bon voyage thing vlive costs mone...\n",
       "15737    @user go home today @user (named queen) i'm fi...\n",
       "67        i'm sure happy.... ðð½ðð½ðð½ hour\n",
       "9148                         @user @user thought mad... /:\n",
       "21246    time next week i'd finished work 4 days, engla...\n",
       "Name: tweet, dtype: object"
      ]
     },
     "execution_count": 25,
     "metadata": {},
     "output_type": "execute_result"
    }
   ],
   "source": [
    "from sklearn.metrics import roc_auc_score\n",
    "\n",
    "# define transforms\n",
    "vectorizer = TfidfVectorizer()\n",
    "sampling = RandomUnderSampler(random_state=453)\n",
    "\n",
    "# define the scoring function\n",
    "roc_auc = make_scorer(roc_auc_score, needs_proba=True, multi_class=\"ovr\")\n",
    "\n",
    "# set up cross validation configuration\n",
    "cv = StratifiedKFold(n_splits=8, shuffle=True, random_state=42)\n",
    "\n",
    "# dataset preparation\n",
    "x_train.drop(columns = ['label'], inplace= True)\n",
    "x_train = x_train['tweet']\n",
    "x_valid = x_valid['tweet']\n",
    "print(x_train.shape)\n",
    "print(y_train.shape)\n",
    "x_train.head(5)"
   ]
  },
  {
   "cell_type": "code",
   "execution_count": null,
   "metadata": {},
   "outputs": [],
   "source": []
  },
  {
   "cell_type": "markdown",
   "metadata": {
    "id": "GjcsWovnRMvl"
   },
   "source": [
    "## Naïve Bayes"
   ]
  },
  {
   "cell_type": "code",
   "execution_count": 16,
   "metadata": {
    "colab": {
     "base_uri": "https://localhost:8080/"
    },
    "id": "kJvXgDr9qutk",
    "outputId": "d1524c96-3c9f-48f4-ad52-57db78428263"
   },
   "outputs": [
    {
     "name": "stdout",
     "output_type": "stream",
     "text": [
      "Pipeline(steps=[('vectorizer', TfidfVectorizer()),\n",
      "                ('balancing', RandomUnderSampler(random_state=453)),\n",
      "                ('estimator', MultinomialNB())])\n",
      "Fitting 8 folds for each of 144 candidates, totalling 1152 fits\n",
      "--- 517.0187768936157 seconds ---\n",
      "Multinomial NBClassifier: 75.28936953413738% F1-score for class 'label' with parameters {'estimator__alpha': 10, 'vectorizer__max_df': 0.5, 'vectorizer__norm': 'l2', 'vectorizer__smooth_idf': False}\n"
     ]
    },
    {
     "data": {
      "text/plain": [
       "['/content/drive/My Drive/Web_Mining_Project/classifier_parameters/nb.pkl']"
      ]
     },
     "execution_count": 16,
     "metadata": {},
     "output_type": "execute_result"
    }
   ],
   "source": [
    "# Optimize parameters for NB Classifier\n",
    "from sklearn.naive_bayes import MultinomialNB\n",
    "estimator = MultinomialNB()\n",
    "\n",
    "# Define grid of possible hyperparamters values \n",
    "parameters = {\n",
    "    'vectorizer__max_df': [0.25, 0.5, 0.75, 1.0],\n",
    "    'vectorizer__smooth_idf': (True, False),\n",
    "    'vectorizer__norm': ('l1', 'l2', None),\n",
    "    'estimator__alpha': [ 0.0001, 0.001, 0.01, 0.1, 1, 10],\n",
    "}\n",
    "\n",
    "# Create a pipeline\n",
    "pipeline = Pipeline([ ('vectorizer', vectorizer),('balancing', sampling), ('estimator', estimator) ])\n",
    "print(pipeline)\n",
    "\n",
    "# Hyperparameter optimization with Grid Search\n",
    "start_time = time.time()\n",
    "grid_search_estimator = GridSearchCV(pipeline, parameters, scoring=roc_auc, cv=cv, return_train_score=False, n_jobs=-1, verbose=10)\n",
    "grid_search_estimator.fit(x_train, y_train)\n",
    "\n",
    "print(\"--- %s seconds ---\" % (time.time() - start_time))\n",
    "print(\"Multinomial NBClassifier: {}% F1-score for class 'label' with parameters {}\".format(grid_search_estimator.best_score_ * 100, grid_search_estimator.best_params_))\n",
    "\n",
    "# Save hyperparameter optmization results\n",
    "df_hyper = pd.DataFrame(grid_search_estimator.cv_results_)\n",
    "df_hyper.to_csv(path_hyperparameters_nb, index=False)\n",
    "\n",
    "# Save best hyperparameters values\n",
    "joblib.dump(grid_search_estimator.best_params_, path_best_parameters_nb, compress = 1) # Only best parameters\n"
   ]
  },
  {
   "cell_type": "code",
   "execution_count": 17,
   "metadata": {
    "colab": {
     "base_uri": "https://localhost:8080/",
     "height": 470
    },
    "id": "GZuCTfkb-TFF",
    "outputId": "9552b746-393d-4f2b-822e-e7af9668ff26"
   },
   "outputs": [
    {
     "name": "stdout",
     "output_type": "stream",
     "text": [
      "              precision    recall  f1-score   support\n",
      "\n",
      "           0       0.27      0.49      0.35        75\n",
      "           1       0.12      0.69      0.20        81\n",
      "           2       0.95      0.43      0.59       844\n",
      "\n",
      "    accuracy                           0.46      1000\n",
      "   macro avg       0.45      0.54      0.38      1000\n",
      "weighted avg       0.83      0.46      0.54      1000\n",
      "\n"
     ]
    },
    {
     "data": {
      "image/png": "[encoded data removed]",
      "text/plain": [
       "<Figure size 432x288 with 2 Axes>"
      ]
     },
     "metadata": {
      "needs_background": "light"
     },
     "output_type": "display_data"
    }
   ],
   "source": [
    "x_test = x_test['reviewText']\n",
    "prediction = grid_search_estimator.predict(x_test)\n",
    "cm = confusion_matrix(y_test, prediction)\n",
    "plot_confusion_matrix(cm, classes = unique_labels(y_test), title = \"NB Classifier on Test Set\")\n",
    "print(classification_report(y_test, prediction))"
   ]
  }
 ],
 "metadata": {
  "accelerator": "GPU",
  "colab": {
   "collapsed_sections": [
    "2psw4oRk5UQu",
    "V5PDua9Y6-KF",
    "XAvccEqX8n4R",
    "pocsiti49v2l"
   ],
   "name": "amazon_reviews_sentiment.ipynb",
   "provenance": [],
   "toc_visible": true
  },
  "kernelspec": {
   "display_name": "Python 3 (ipykernel)",
   "language": "python",
   "name": "python3"
  },
  "language_info": {
   "codemirror_mode": {
    "name": "ipython",
    "version": 3
   },
   "file_extension": ".py",
   "mimetype": "text/x-python",
   "name": "python",
   "nbconvert_exporter": "python",
   "pygments_lexer": "ipython3",
   "version": "3.9.5"
  }
 },
 "nbformat": 4,
 "nbformat_minor": 1
}
