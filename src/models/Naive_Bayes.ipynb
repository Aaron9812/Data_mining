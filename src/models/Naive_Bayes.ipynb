{
 "cells": [
  {
   "cell_type": "markdown",
   "metadata": {},
   "source": [
    "# Classifing hate speech tweets\n",
    "## Using Multi-variate Bernoulli Naive Bayes and Multinominal Naive Bayes in combination with count vectorizer and TF-IDF vectorizer\n",
    "\n",
    "### To Do's\n",
    "- Modify Preprocessing (currently default count and TF-IDF vectroizer preprocessing used)\n",
    "    - Implement Emoji transformation\n",
    "    - Implement Morphological Normalization (e.g. Stemming)"
   ]
  },
  {
   "cell_type": "code",
   "execution_count": 51,
   "metadata": {},
   "outputs": [],
   "source": [
    "import numpy as np\n",
    "import pandas as pd\n",
    "import sklearn.model_selection as ms\n",
    "import sklearn.feature_extraction.text as text\n",
    "import sklearn.naive_bayes as nb\n",
    "import matplotlib.pyplot as plt\n",
    "from sklearn.feature_extraction.text import TfidfVectorizer\n",
    "from sklearn.naive_bayes import MultinomialNB\n",
    "from sklearn.metrics import confusion_matrix, accuracy_score, precision_score, recall_score, f1_score\n",
    "from mlxtend.plotting import plot_confusion_matrix\n",
    "from sklearn.model_selection import train_test_split"
   ]
  },
  {
   "cell_type": "code",
   "execution_count": 52,
   "metadata": {},
   "outputs": [],
   "source": [
    "from string import punctuation\n",
    "import re\n",
    "import nltk\n",
    "from nltk.corpus import stopwords\n",
    "from nltk.stem import WordNetLemmatizer\n",
    "from nltk.stem.porter import PorterStemmer"
   ]
  },
  {
   "cell_type": "code",
   "execution_count": 53,
   "metadata": {
    "scrolled": false
   },
   "outputs": [
    {
     "name": "stderr",
     "output_type": "stream",
     "text": [
      "Using custom data configuration default\n",
      "Reusing dataset tweets_hate_speech_detection (C:\\Users\\Jonas\\.cache\\huggingface\\datasets\\tweets_hate_speech_detection\\default\\0.0.0\\c6b6f41e91ac9113e1c032c5ecf7a49b4e1e9dc8699ded3c2d8425c9217568b2)\n",
      "100%|██████████| 1/1 [00:00<00:00, 172.96it/s]\n"
     ]
    }
   ],
   "source": [
    "from datasets import load_dataset\n",
    "\n",
    "dataset = load_dataset(\"tweets_hate_speech_detection\")"
   ]
  },
  {
   "cell_type": "code",
   "execution_count": 54,
   "metadata": {},
   "outputs": [
    {
     "data": {
      "text/html": [
       "<div>\n",
       "<style scoped>\n",
       "    .dataframe tbody tr th:only-of-type {\n",
       "        vertical-align: middle;\n",
       "    }\n",
       "\n",
       "    .dataframe tbody tr th {\n",
       "        vertical-align: top;\n",
       "    }\n",
       "\n",
       "    .dataframe thead th {\n",
       "        text-align: right;\n",
       "    }\n",
       "</style>\n",
       "<table border=\"1\" class=\"dataframe\">\n",
       "  <thead>\n",
       "    <tr style=\"text-align: right;\">\n",
       "      <th></th>\n",
       "      <th>label</th>\n",
       "      <th>tweet</th>\n",
       "    </tr>\n",
       "  </thead>\n",
       "  <tbody>\n",
       "    <tr>\n",
       "      <th>0</th>\n",
       "      <td>0</td>\n",
       "      <td>@user when a father is dysfunctional and is so...</td>\n",
       "    </tr>\n",
       "    <tr>\n",
       "      <th>1</th>\n",
       "      <td>0</td>\n",
       "      <td>@user @user thanks for #lyft credit i can't us...</td>\n",
       "    </tr>\n",
       "    <tr>\n",
       "      <th>2</th>\n",
       "      <td>0</td>\n",
       "      <td>bihday your majesty</td>\n",
       "    </tr>\n",
       "    <tr>\n",
       "      <th>3</th>\n",
       "      <td>0</td>\n",
       "      <td>#model   i love u take with u all the time in ...</td>\n",
       "    </tr>\n",
       "    <tr>\n",
       "      <th>4</th>\n",
       "      <td>0</td>\n",
       "      <td>factsguide: society now    #motivation</td>\n",
       "    </tr>\n",
       "  </tbody>\n",
       "</table>\n",
       "</div>"
      ],
      "text/plain": [
       "   label                                              tweet\n",
       "0      0  @user when a father is dysfunctional and is so...\n",
       "1      0  @user @user thanks for #lyft credit i can't us...\n",
       "2      0                                bihday your majesty\n",
       "3      0  #model   i love u take with u all the time in ...\n",
       "4      0             factsguide: society now    #motivation"
      ]
     },
     "execution_count": 54,
     "metadata": {},
     "output_type": "execute_result"
    }
   ],
   "source": [
    "df = pd.DataFrame.from_dict(dataset['train'])\n",
    "df.head()"
   ]
  },
  {
   "cell_type": "code",
   "execution_count": 55,
   "metadata": {},
   "outputs": [],
   "source": [
    "# Currently not in use\n",
    "def remove_punctioation(text:str) -> str:\n",
    "    return \"\".join([i for i in text if i not in punctuation])\n",
    "\n",
    "def tokenization(text:str) -> list:\n",
    "    return nltk.word_tokenize(text)\n",
    "\n",
    "def remove_stopwords(tokens) ->list:\n",
    "    stopwords_list = stopwords.words(\"english\")\n",
    "    return [token for token in tokens if token not in stopwords_list]\n",
    "\n",
    "porter_stemmer = PorterStemmer()\n",
    "\n",
    "def stemming(text:list) -> list:\n",
    "    return [porter_stemmer.stem(word) for word in text]\n",
    "\n",
    "def preProcess(list):\n",
    "    return list.apply(lambda x: stemming(remove_stopwords(tokenization(remove_punctioation(x.lower())))))\n",
    "\n",
    "def validate(y_test,y_pred):\n",
    "    print('Precision: %.3f' % precision_score(y_test, y_pred))\n",
    "    print('Recall: %.3f' % recall_score(y_test, y_pred))\n",
    "    print('Accuracy: %.3f' % accuracy_score(y_test, y_pred))\n",
    "    print('F1 Score: %.3f' % f1_score(y_test, y_pred))"
   ]
  },
  {
   "cell_type": "code",
   "execution_count": 56,
   "metadata": {},
   "outputs": [],
   "source": [
    "# Currently not in use\n",
    "df[\"preprocessed\"] = preProcess(df[\"tweet\"])"
   ]
  },
  {
   "cell_type": "code",
   "execution_count": 57,
   "metadata": {},
   "outputs": [],
   "source": [
    "df['no_user']= df['tweet'].str.replace(\"user\",\"\")"
   ]
  },
  {
   "cell_type": "code",
   "execution_count": 58,
   "metadata": {},
   "outputs": [
    {
     "data": {
      "text/html": [
       "<div>\n",
       "<style scoped>\n",
       "    .dataframe tbody tr th:only-of-type {\n",
       "        vertical-align: middle;\n",
       "    }\n",
       "\n",
       "    .dataframe tbody tr th {\n",
       "        vertical-align: top;\n",
       "    }\n",
       "\n",
       "    .dataframe thead th {\n",
       "        text-align: right;\n",
       "    }\n",
       "</style>\n",
       "<table border=\"1\" class=\"dataframe\">\n",
       "  <thead>\n",
       "    <tr style=\"text-align: right;\">\n",
       "      <th></th>\n",
       "      <th>label</th>\n",
       "      <th>tweet</th>\n",
       "      <th>preprocessed</th>\n",
       "      <th>no_user</th>\n",
       "    </tr>\n",
       "  </thead>\n",
       "  <tbody>\n",
       "    <tr>\n",
       "      <th>0</th>\n",
       "      <td>0</td>\n",
       "      <td>@user when a father is dysfunctional and is so...</td>\n",
       "      <td>[user, father, dysfunct, selfish, drag, kid, d...</td>\n",
       "      <td>@ when a father is dysfunctional and is so sel...</td>\n",
       "    </tr>\n",
       "    <tr>\n",
       "      <th>1</th>\n",
       "      <td>0</td>\n",
       "      <td>@user @user thanks for #lyft credit i can't us...</td>\n",
       "      <td>[user, user, thank, lyft, credit, cant, use, c...</td>\n",
       "      <td>@ @ thanks for #lyft credit i can't use cause ...</td>\n",
       "    </tr>\n",
       "    <tr>\n",
       "      <th>2</th>\n",
       "      <td>0</td>\n",
       "      <td>bihday your majesty</td>\n",
       "      <td>[bihday, majesti]</td>\n",
       "      <td>bihday your majesty</td>\n",
       "    </tr>\n",
       "    <tr>\n",
       "      <th>3</th>\n",
       "      <td>0</td>\n",
       "      <td>#model   i love u take with u all the time in ...</td>\n",
       "      <td>[model, love, u, take, u, time, urð±, ðð...</td>\n",
       "      <td>#model   i love u take with u all the time in ...</td>\n",
       "    </tr>\n",
       "    <tr>\n",
       "      <th>4</th>\n",
       "      <td>0</td>\n",
       "      <td>factsguide: society now    #motivation</td>\n",
       "      <td>[factsguid, societi, motiv]</td>\n",
       "      <td>factsguide: society now    #motivation</td>\n",
       "    </tr>\n",
       "  </tbody>\n",
       "</table>\n",
       "</div>"
      ],
      "text/plain": [
       "   label                                              tweet  \\\n",
       "0      0  @user when a father is dysfunctional and is so...   \n",
       "1      0  @user @user thanks for #lyft credit i can't us...   \n",
       "2      0                                bihday your majesty   \n",
       "3      0  #model   i love u take with u all the time in ...   \n",
       "4      0             factsguide: society now    #motivation   \n",
       "\n",
       "                                        preprocessed  \\\n",
       "0  [user, father, dysfunct, selfish, drag, kid, d...   \n",
       "1  [user, user, thank, lyft, credit, cant, use, c...   \n",
       "2                                  [bihday, majesti]   \n",
       "3  [model, love, u, take, u, time, urð±, ðð...   \n",
       "4                        [factsguid, societi, motiv]   \n",
       "\n",
       "                                             no_user  \n",
       "0  @ when a father is dysfunctional and is so sel...  \n",
       "1  @ @ thanks for #lyft credit i can't use cause ...  \n",
       "2                                bihday your majesty  \n",
       "3  #model   i love u take with u all the time in ...  \n",
       "4             factsguide: society now    #motivation  "
      ]
     },
     "execution_count": 58,
     "metadata": {},
     "output_type": "execute_result"
    }
   ],
   "source": [
    "df.head()"
   ]
  },
  {
   "cell_type": "markdown",
   "metadata": {},
   "source": [
    "# Model Building"
   ]
  },
  {
   "cell_type": "code",
   "execution_count": 59,
   "metadata": {},
   "outputs": [],
   "source": [
    "# Definition des Label-Vektors\n",
    "y = df['label']"
   ]
  },
  {
   "cell_type": "markdown",
   "metadata": {},
   "source": [
    "## Using TF-IDF Vectorizer"
   ]
  },
  {
   "cell_type": "code",
   "execution_count": 60,
   "metadata": {},
   "outputs": [
    {
     "name": "stdout",
     "output_type": "stream",
     "text": [
      "(31962, 41104)\n"
     ]
    }
   ],
   "source": [
    "# Definition der Feature-Matrix\n",
    "tf = text.TfidfVectorizer(stop_words='english')\n",
    "\n",
    "X_vec = tf.fit(df['tweet'])\n",
    "X = X_vec.transform(df['tweet'])\n",
    "\n",
    "print(X.shape)"
   ]
  },
  {
   "cell_type": "code",
   "execution_count": 61,
   "metadata": {},
   "outputs": [
    {
     "data": {
      "text/plain": [
       "\"# No User string\\n# Definition der Feature-Matrix\\ntf = text.TfidfVectorizer(stop_words='english')\\n\\nX_vec = tf.fit(df['no_user'])\\nX = X_vec.transform(df['no_user'])\\n\\nprint(X.shape)\""
      ]
     },
     "execution_count": 61,
     "metadata": {},
     "output_type": "execute_result"
    }
   ],
   "source": [
    "'''# No User string\n",
    "# Definition der Feature-Matrix\n",
    "tf = text.TfidfVectorizer(stop_words='english')\n",
    "\n",
    "X_vec = tf.fit(df['no_user'])\n",
    "X = X_vec.transform(df['no_user'])\n",
    "\n",
    "print(X.shape)'''"
   ]
  },
  {
   "cell_type": "markdown",
   "metadata": {},
   "source": [
    "### Splitting Data into train and test data"
   ]
  },
  {
   "cell_type": "code",
   "execution_count": 62,
   "metadata": {},
   "outputs": [],
   "source": [
    "# Splitting of data into training and test data\n",
    "(X_train, X_test, y_train, y_test) = ms.train_test_split(X, y, test_size=0.2, random_state = 17, stratify=y)"
   ]
  },
  {
   "cell_type": "code",
   "execution_count": 63,
   "metadata": {},
   "outputs": [
    {
     "name": "stdout",
     "output_type": "stream",
     "text": [
      "There is 25569 training data, of which 7.02% is hate speech \n",
      "There is 6393 test data, of which 7.01% is hate speech \n"
     ]
    }
   ],
   "source": [
    "# Testing Stratification\n",
    "print('There is {} training data, of which {}% is hate speech '.format(y_train.count(), round(y_train.sum()/y_train.count()*100,2)))\n",
    "print('There is {} test data, of which {}% is hate speech '.format(y_test.count(), round(y_test.sum()/y_test.count()*100,2)))"
   ]
  },
  {
   "cell_type": "markdown",
   "metadata": {},
   "source": [
    "### Train Models\n",
    "The method GridSearchCV is used for hyperparameter optimization. In the following cases the smoothing parameter alpha is optimized."
   ]
  },
  {
   "cell_type": "code",
   "execution_count": 64,
   "metadata": {},
   "outputs": [],
   "source": [
    "# Multi-variate Bernoulli Naive Bayes\n",
    "bnb = ms.GridSearchCV(nb.BernoulliNB(), param_grid={'alpha':np.logspace(-2., 2., 50)})\n",
    "bnb.fit(X_train, y_train);\n",
    "\n",
    "# Multinominal Naive Bayes\n",
    "mnb = ms.GridSearchCV(nb.MultinomialNB(), param_grid={'alpha':np.logspace(-2., 2., 50)})\n",
    "mnb.fit(X_train, y_train);"
   ]
  },
  {
   "cell_type": "markdown",
   "metadata": {},
   "source": [
    "### Evaluate Model Performance based on TF-IDF Vectorizer"
   ]
  },
  {
   "cell_type": "code",
   "execution_count": 65,
   "metadata": {},
   "outputs": [
    {
     "name": "stdout",
     "output_type": "stream",
     "text": [
      "Scores with the multi-variate Bernoulli Naive Bayes:\n",
      "Precision: 0.648\n",
      "Recall: 0.551\n",
      "Accuracy: 0.948\n",
      "F1 Score: 0.596\n"
     ]
    }
   ],
   "source": [
    "print('Scores with the multi-variate Bernoulli Naive Bayes:')\n",
    "validate(y_test, bnb.predict(X_test))"
   ]
  },
  {
   "cell_type": "code",
   "execution_count": 66,
   "metadata": {},
   "outputs": [
    {
     "name": "stdout",
     "output_type": "stream",
     "text": [
      "Scores with the Multinominal Bernoulli Naive Bayes:\n",
      "Precision: 0.715\n",
      "Recall: 0.542\n",
      "Accuracy: 0.953\n",
      "F1 Score: 0.617\n"
     ]
    }
   ],
   "source": [
    "print('Scores with the Multinominal Bernoulli Naive Bayes:')\n",
    "validate(y_test, mnb.predict(X_test))"
   ]
  },
  {
   "cell_type": "code",
   "execution_count": 67,
   "metadata": {},
   "outputs": [
    {
     "data": {
      "image/png": "[encoded data removed]",
      "text/plain": [
       "<Figure size 432x288 with 1 Axes>"
      ]
     },
     "metadata": {
      "needs_background": "light"
     },
     "output_type": "display_data"
    }
   ],
   "source": [
    "# Confusion-Matrix\n",
    "cm = confusion_matrix(y_test, mnb.predict(X_test))\n",
    "\n",
    "fig, ax = plot_confusion_matrix(conf_mat=cm)\n",
    "plt.title(\"Confusion Matrix\")\n",
    "plt.show()"
   ]
  },
  {
   "cell_type": "markdown",
   "metadata": {},
   "source": [
    "# Using Count Vectorizer"
   ]
  },
  {
   "cell_type": "code",
   "execution_count": 68,
   "metadata": {},
   "outputs": [
    {
     "data": {
      "text/plain": [
       "\"# No user string\\nco = text.CountVectorizer(stop_words='english')\\n\\nXc_vec = co.fit(df['no_user'])\\nXc = Xc_vec.transform(df['no_user'])\\n\\nprint(Xc.shape)\""
      ]
     },
     "execution_count": 68,
     "metadata": {},
     "output_type": "execute_result"
    }
   ],
   "source": [
    "'''# No user string\n",
    "co = text.CountVectorizer(stop_words='english')\n",
    "\n",
    "Xc_vec = co.fit(df['no_user'])\n",
    "Xc = Xc_vec.transform(df['no_user'])\n",
    "\n",
    "print(Xc.shape)'''"
   ]
  },
  {
   "cell_type": "code",
   "execution_count": 69,
   "metadata": {},
   "outputs": [
    {
     "name": "stdout",
     "output_type": "stream",
     "text": [
      "(31962, 41104)\n"
     ]
    }
   ],
   "source": [
    "co = text.CountVectorizer(stop_words='english')\n",
    "\n",
    "Xc_vec = co.fit(df['tweet'])\n",
    "Xc = Xc_vec.transform(df['tweet'])\n",
    "\n",
    "print(Xc.shape)"
   ]
  },
  {
   "cell_type": "markdown",
   "metadata": {},
   "source": [
    "### Split Data"
   ]
  },
  {
   "cell_type": "code",
   "execution_count": 70,
   "metadata": {},
   "outputs": [],
   "source": [
    "# Splitting of data into training and test data\n",
    "(Xc_train, Xc_test, yc_train, yc_test) = ms.train_test_split(Xc, y, test_size=.2, random_state = 17)"
   ]
  },
  {
   "cell_type": "markdown",
   "metadata": {},
   "source": [
    "### Train Models"
   ]
  },
  {
   "cell_type": "code",
   "execution_count": 71,
   "metadata": {},
   "outputs": [],
   "source": [
    "# Multi-variate Bernoulli Naive Bayes\n",
    "bnbc = ms.GridSearchCV(nb.BernoulliNB(), param_grid={'alpha':np.logspace(-2., 2., 50)})\n",
    "bnbc.fit(Xc_train, yc_train);\n",
    "\n",
    "\n",
    "# Multinominal Naive Bayes\n",
    "mnbc = ms.GridSearchCV(nb.MultinomialNB(), param_grid={'alpha':np.logspace(-2., 2., 50)})\n",
    "mnbc.fit(Xc_train, yc_train);"
   ]
  },
  {
   "cell_type": "markdown",
   "metadata": {},
   "source": [
    "### Evaluate Model Performance based on Count Vectorizer"
   ]
  },
  {
   "cell_type": "code",
   "execution_count": 72,
   "metadata": {},
   "outputs": [
    {
     "name": "stdout",
     "output_type": "stream",
     "text": [
      "Scores with the multi-variate Bernoulli Naive Bayes:\n",
      "Precision: 0.641\n",
      "Recall: 0.568\n",
      "Accuracy: 0.950\n",
      "F1 Score: 0.602\n"
     ]
    }
   ],
   "source": [
    "print('Scores with the multi-variate Bernoulli Naive Bayes:')\n",
    "validate(yc_test, bnbc.predict(Xc_test))"
   ]
  },
  {
   "cell_type": "code",
   "execution_count": 73,
   "metadata": {},
   "outputs": [
    {
     "name": "stdout",
     "output_type": "stream",
     "text": [
      "Scores with the multi-variate Bernoulli Naive Bayes:\n",
      "Precision: 0.623\n",
      "Recall: 0.526\n",
      "Accuracy: 0.947\n",
      "F1 Score: 0.570\n"
     ]
    }
   ],
   "source": [
    "print('Scores with the multi-variate Bernoulli Naive Bayes:')\n",
    "validate(yc_test, mnbc.predict(Xc_test))"
   ]
  },
  {
   "cell_type": "code",
   "execution_count": 74,
   "metadata": {},
   "outputs": [
    {
     "data": {
      "image/png": "[encoded data removed]",
      "text/plain": [
       "<Figure size 432x288 with 1 Axes>"
      ]
     },
     "metadata": {
      "needs_background": "light"
     },
     "output_type": "display_data"
    }
   ],
   "source": [
    "# Confusion-Matrix\n",
    "cm = confusion_matrix(yc_test, mnbc.predict(Xc_test))\n",
    "\n",
    "fig, ax = plot_confusion_matrix(conf_mat=cm)\n",
    "plt.title(\"Confusion Matrix\")\n",
    "plt.show()"
   ]
  },
  {
   "cell_type": "markdown",
   "metadata": {},
   "source": [
    "# Analyze frequent words"
   ]
  },
  {
   "cell_type": "code",
   "execution_count": 75,
   "metadata": {},
   "outputs": [
    {
     "data": {
      "text/plain": [
       "'# Get most frequent words including stop words\\nword_freq_df = pd.DataFrame(Xc.toarray(), columns=co.get_feature_names_out())\\ntop_words_df = pd.DataFrame(word_freq_df.sum()).sort_values(0, ascending=False)\\ntop_words_df.head(10)'"
      ]
     },
     "execution_count": 75,
     "metadata": {},
     "output_type": "execute_result"
    }
   ],
   "source": [
    "'''# Get most frequent words including stop words\n",
    "word_freq_df = pd.DataFrame(Xc.toarray(), columns=co.get_feature_names_out())\n",
    "top_words_df = pd.DataFrame(word_freq_df.sum()).sort_values(0, ascending=False)\n",
    "top_words_df.head(10)'''"
   ]
  },
  {
   "cell_type": "markdown",
   "metadata": {},
   "source": [
    "## Get words with biggest impact on each category"
   ]
  },
  {
   "cell_type": "code",
   "execution_count": 76,
   "metadata": {},
   "outputs": [],
   "source": [
    "mnbc = nb.MultinomialNB()\n",
    "mnbc.fit(Xc_train, yc_train);"
   ]
  },
  {
   "cell_type": "code",
   "execution_count": 94,
   "metadata": {},
   "outputs": [
    {
     "name": "stdout",
     "output_type": "stream",
     "text": [
      "no_hate: thankful today life time just amp happy day love user\n",
      "hate: people politics racist black like libtard white trump amp user\n"
     ]
    },
    {
     "name": "stderr",
     "output_type": "stream",
     "text": [
      "c:\\Users\\Jonas\\miniconda3\\envs\\DataMining\\lib\\site-packages\\sklearn\\utils\\deprecation.py:103: FutureWarning: Attribute `coef_` was deprecated in version 0.24 and will be removed in 1.1 (renaming of 0.26).\n",
      "  warnings.warn(msg, category=FutureWarning)\n"
     ]
    }
   ],
   "source": [
    "# Get words with biggest impact on each category\n",
    "\n",
    "mnbc.feature_log_prob_\n",
    "mnbc.coef_\n",
    "\n",
    "feature_names = co.get_feature_names_out()\n",
    "for i, class_label in enumerate(['no_hate', 'hate']):\n",
    "    top10 = np.argsort(mnbc.feature_log_prob_[i])[-10:]\n",
    "    print(\"%s: %s\" % (class_label,\n",
    "          \" \".join(feature_names[j] for j in top10)))"
   ]
  },
  {
   "cell_type": "markdown",
   "metadata": {},
   "source": [
    "# Upsample"
   ]
  },
  {
   "cell_type": "code",
   "execution_count": 112,
   "metadata": {},
   "outputs": [],
   "source": [
    "# Train vectorizer BEFORE upsampling\n",
    "tf = text.TfidfVectorizer(stop_words='english')\n",
    "X_tf_vec = tf.fit(df['tweet'])\n",
    "#X_tf_vec = tf.fit(df['no_user'])\n",
    "\n",
    "co = text.CountVectorizer(stop_words='english')\n",
    "X_co_vec = co.fit(df['tweet'])\n",
    "#X_co_vec = co.fit(df['no_user'])"
   ]
  },
  {
   "cell_type": "code",
   "execution_count": 113,
   "metadata": {},
   "outputs": [],
   "source": [
    "# Prepare Split data\n",
    "y = df['label']\n",
    "X = df['tweet']\n",
    "#X = df['no_user']"
   ]
  },
  {
   "cell_type": "code",
   "execution_count": 114,
   "metadata": {},
   "outputs": [
    {
     "data": {
      "text/html": [
       "<div>\n",
       "<style scoped>\n",
       "    .dataframe tbody tr th:only-of-type {\n",
       "        vertical-align: middle;\n",
       "    }\n",
       "\n",
       "    .dataframe tbody tr th {\n",
       "        vertical-align: top;\n",
       "    }\n",
       "\n",
       "    .dataframe thead th {\n",
       "        text-align: right;\n",
       "    }\n",
       "</style>\n",
       "<table border=\"1\" class=\"dataframe\">\n",
       "  <thead>\n",
       "    <tr style=\"text-align: right;\">\n",
       "      <th></th>\n",
       "      <th>label</th>\n",
       "      <th>tweet</th>\n",
       "    </tr>\n",
       "  </thead>\n",
       "  <tbody>\n",
       "    <tr>\n",
       "      <th>30405</th>\n",
       "      <td>0</td>\n",
       "      <td>when everyone's free when you're in exam mode ...</td>\n",
       "    </tr>\n",
       "    <tr>\n",
       "      <th>27807</th>\n",
       "      <td>0</td>\n",
       "      <td>#jacksonville   rooster simulation: i want to ...</td>\n",
       "    </tr>\n",
       "    <tr>\n",
       "      <th>8660</th>\n",
       "      <td>0</td>\n",
       "      <td>@user just run 10kms for @user @user   #loveis...</td>\n",
       "    </tr>\n",
       "    <tr>\n",
       "      <th>19185</th>\n",
       "      <td>0</td>\n",
       "      <td>@user got the prototype for our new usb today!...</td>\n",
       "    </tr>\n",
       "    <tr>\n",
       "      <th>10355</th>\n",
       "      <td>0</td>\n",
       "      <td>have a   &amp;amp; #healthy #fathersday. #runnerda...</td>\n",
       "    </tr>\n",
       "  </tbody>\n",
       "</table>\n",
       "</div>"
      ],
      "text/plain": [
       "       label                                              tweet\n",
       "30405      0  when everyone's free when you're in exam mode ...\n",
       "27807      0  #jacksonville   rooster simulation: i want to ...\n",
       "8660       0  @user just run 10kms for @user @user   #loveis...\n",
       "19185      0  @user got the prototype for our new usb today!...\n",
       "10355      0  have a   &amp; #healthy #fathersday. #runnerda..."
      ]
     },
     "execution_count": 114,
     "metadata": {},
     "output_type": "execute_result"
    }
   ],
   "source": [
    "# Split data BEFORE upsampling\n",
    "(X_train, X_test, y_train, y_test) = ms.train_test_split(X, y, test_size=0.2, random_state = 17, stratify=y)\n",
    "\n",
    "df_train = pd.concat([y_train,X_train], axis=1)\n",
    "df_test = pd.concat([y_test,X_test], axis = 1)\n",
    "df_train.head()"
   ]
  },
  {
   "cell_type": "code",
   "execution_count": 115,
   "metadata": {},
   "outputs": [
    {
     "name": "stdout",
     "output_type": "stream",
     "text": [
      "length majority 23775\n",
      "length minority 1794\n"
     ]
    }
   ],
   "source": [
    "data_minority = df_train[df_train.label == 1]\n",
    "data_majority = df_train[df_train.label == 0]\n",
    "\n",
    "print(\"length majority\", len(data_majority))\n",
    "print(\"length minority\", len(data_minority))"
   ]
  },
  {
   "cell_type": "code",
   "execution_count": 116,
   "metadata": {},
   "outputs": [],
   "source": [
    "from sklearn.utils import resample\n",
    "data_minority = resample(data_minority, replace = True, n_samples=23775, random_state=55)"
   ]
  },
  {
   "cell_type": "code",
   "execution_count": 117,
   "metadata": {},
   "outputs": [
    {
     "data": {
      "text/plain": [
       "0    23775\n",
       "1    23775\n",
       "Name: label, dtype: int64"
      ]
     },
     "execution_count": 117,
     "metadata": {},
     "output_type": "execute_result"
    }
   ],
   "source": [
    "df_train_up = pd.concat([data_majority, data_minority])\n",
    "df_train_up.label.value_counts()"
   ]
  },
  {
   "cell_type": "code",
   "execution_count": 107,
   "metadata": {},
   "outputs": [
    {
     "name": "stdout",
     "output_type": "stream",
     "text": [
      "(47550, 41099)\n"
     ]
    }
   ],
   "source": [
    "'''# create embeddings\n",
    "\n",
    "# tfifd\n",
    "Xt_train = X_tf_vec.transform(df_train_up['no_user'])\n",
    "Xt_test = X_tf_vec.transform(df_test['no_user'])\n",
    "\n",
    "# count vectorizer\n",
    "Xc_train = X_co_vec.transform(df_train_up['no_user'])\n",
    "Xc_test = X_co_vec.transform(df_test['no_user'])\n",
    "\n",
    "# labels\n",
    "y_train = df_train_up['label']\n",
    "y_test = df_test['label']\n",
    "\n",
    "print(Xt_train.shape) '''"
   ]
  },
  {
   "cell_type": "code",
   "execution_count": 118,
   "metadata": {},
   "outputs": [
    {
     "name": "stdout",
     "output_type": "stream",
     "text": [
      "(25569,)\n"
     ]
    }
   ],
   "source": [
    "# create embeddings\n",
    "\n",
    "# tfifd\n",
    "Xt_train = X_tf_vec.transform(df_train_up['tweet'])\n",
    "Xt_test = X_tf_vec.transform(df_test['tweet'])\n",
    "\n",
    "# count vectorizer\n",
    "Xc_train = X_co_vec.transform(df_train_up['tweet'])\n",
    "Xc_test = X_co_vec.transform(df_test['tweet'])\n",
    "\n",
    "# labels\n",
    "y_train = df_train_up['label']\n",
    "y_test = df_test['label']\n",
    "\n",
    "print(Xt_train.shape) "
   ]
  },
  {
   "cell_type": "code",
   "execution_count": 119,
   "metadata": {},
   "outputs": [
    {
     "name": "stdout",
     "output_type": "stream",
     "text": [
      "There is 47550 training data, of which 50.0% is hate speech \n",
      "There is 6393 test data, of which 7.01% is hate speech \n"
     ]
    }
   ],
   "source": [
    "# Testing Stratification\n",
    "print('There is {} training data, of which {}% is hate speech '.format(df_train_up['label'].count(), round(df_train_up['label'].sum()/df_train_up['label'].count()*100,2)))\n",
    "print('There is {} test data, of which {}% is hate speech '.format(df_test['label'].count(), round(df_test['label'].sum()/df_test['label'].count()*100,2)))"
   ]
  },
  {
   "cell_type": "code",
   "execution_count": 120,
   "metadata": {},
   "outputs": [],
   "source": [
    "# TF-IDF\n",
    "# Multi-variate Bernoulli Naive Bayes\n",
    "bnb = ms.GridSearchCV(nb.BernoulliNB(), param_grid={'alpha':np.logspace(-2., 2., 50)})\n",
    "bnb.fit(Xt_train, y_train);\n",
    "\n",
    "# Multinominal Naive Bayes\n",
    "mnb = ms.GridSearchCV(nb.MultinomialNB(), param_grid={'alpha':np.logspace(-2., 2., 50)})\n",
    "mnb.fit(Xt_train, y_train);\n",
    "\n",
    "# Count Vectorizer\n",
    "# Multi-variate Bernoulli Naive Bayes\n",
    "cbnb = ms.GridSearchCV(nb.BernoulliNB(), param_grid={'alpha':np.logspace(-2., 2., 50)})\n",
    "cbnb.fit(Xc_train, y_train);\n",
    "\n",
    "# Multinominal Naive Bayes\n",
    "cmnb = ms.GridSearchCV(nb.MultinomialNB(), param_grid={'alpha':np.logspace(-2., 2., 50)})\n",
    "cmnb.fit(Xc_train, y_train);\n"
   ]
  },
  {
   "cell_type": "code",
   "execution_count": 121,
   "metadata": {},
   "outputs": [
    {
     "name": "stdout",
     "output_type": "stream",
     "text": [
      "TF-IDF Scores with the multi-variate Bernoulli Naive Bayes:\n",
      "Precision: 0.589\n",
      "Recall: 0.690\n",
      "Accuracy: 0.944\n",
      "F1 Score: 0.635\n",
      "TF-IDF Scores with the Multinominal Bernoulli Naive Bayes:\n",
      "Precision: 0.550\n",
      "Recall: 0.694\n",
      "Accuracy: 0.939\n",
      "F1 Score: 0.614\n",
      "Count Vectorizer Scores with the multi-variate Bernoulli Naive Bayes:\n",
      "Precision: 0.589\n",
      "Recall: 0.690\n",
      "Accuracy: 0.944\n",
      "F1 Score: 0.635\n",
      "Count Vectorizer Scores with the Multinominal Bernoulli Naive Bayes:\n",
      "Precision: 0.542\n",
      "Recall: 0.701\n",
      "Accuracy: 0.938\n",
      "F1 Score: 0.611\n"
     ]
    }
   ],
   "source": [
    "print('TF-IDF Scores with the multi-variate Bernoulli Naive Bayes:')\n",
    "validate(y_test, bnb.predict(Xt_test))\n",
    "print('TF-IDF Scores with the Multinominal Bernoulli Naive Bayes:')\n",
    "validate(y_test, mnb.predict(Xt_test))\n",
    "\n",
    "print('Count Vectorizer Scores with the multi-variate Bernoulli Naive Bayes:')\n",
    "validate(y_test, cbnb.predict(Xc_test))\n",
    "print('Count Vectorizer Scores with the Multinominal Bernoulli Naive Bayes:')\n",
    "validate(y_test, cmnb.predict(Xc_test))"
   ]
  },
  {
   "cell_type": "code",
   "execution_count": 123,
   "metadata": {},
   "outputs": [
    {
     "data": {
      "image/png": "[encoded data removed]",
      "text/plain": [
       "<Figure size 432x288 with 1 Axes>"
      ]
     },
     "metadata": {
      "needs_background": "light"
     },
     "output_type": "display_data"
    }
   ],
   "source": [
    "# Confusion-Matrix\n",
    "cm = confusion_matrix(y_test, cmnb.predict(Xc_test))\n",
    "\n",
    "fig, ax = plot_confusion_matrix(conf_mat=cm)\n",
    "plt.title(\"Confusion Matrix\")\n",
    "plt.show()"
   ]
  }
 ],
 "metadata": {
  "interpreter": {
   "hash": "b03aa4afe8e1e93efa7641c6ec3d6ea13fef12134f79b85e9488b2fa31c226cc"
  },
  "kernelspec": {
   "display_name": "Python 3.9.12 ('DataMining')",
   "language": "python",
   "name": "python3"
  },
  "language_info": {
   "codemirror_mode": {
    "name": "ipython",
    "version": 3
   },
   "file_extension": ".py",
   "mimetype": "text/x-python",
   "name": "python",
   "nbconvert_exporter": "python",
   "pygments_lexer": "ipython3",
   "version": "3.9.12"
  }
 },
 "nbformat": 4,
 "nbformat_minor": 2
}