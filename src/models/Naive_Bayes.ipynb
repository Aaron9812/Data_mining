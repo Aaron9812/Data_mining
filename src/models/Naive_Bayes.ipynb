{
 "cells": [
  {
   "cell_type": "markdown",
   "metadata": {},
   "source": [
    "# Classifing hate speech tweets\n",
    "## Using Multi-variate Bernoulli Naive Bayes and Multinominal Naive Bayes in combination with count vectorizer and TF-IDF vectorizer\n",
    "\n",
    "### To Do's/ Ideas\n",
    "- Remove 'user' string as it doesnt contain information and possibly negatively affects performance as Naive Bayes has problems with too many redundant attributes\n",
    "- Modify Preprocessing (currently default count and TF-IDF vectroizer preprocessing used)\n",
    "    - Implement Emoji transformation\n",
    "    - Implement Morphological Normalization (e.g. Stemming)\n",
    "
   ]
  },
  {
   "cell_type": "code",
   "execution_count": 182,
   "metadata": {},
   "outputs": [],
   "source": [
    "import numpy as np\n",
    "import pandas as pd\n",
    "import sklearn.model_selection as ms\n",
    "import sklearn.feature_extraction.text as text\n",
    "import sklearn.naive_bayes as nb\n",
    "import matplotlib.pyplot as plt\n",
    "from sklearn.feature_extraction.text import TfidfVectorizer\n",
    "from sklearn.naive_bayes import MultinomialNB\n",
    "from sklearn.metrics import confusion_matrix, accuracy_score, precision_score, recall_score, f1_score\n",
    "from mlxtend.plotting import plot_confusion_matrix\n",
    "from sklearn.model_selection import train_test_split"
   ]
  },
  {
   "cell_type": "code",
   "execution_count": 183,
   "metadata": {},
   "outputs": [],
   "source": [
    "from string import punctuation\n",
    "import re\n",
    "import nltk\n",
    "from nltk.corpus import stopwords\n",
    "from nltk.stem import WordNetLemmatizer\n",
    "from nltk.stem.porter import PorterStemmer"
   ]
  },
  {
   "cell_type": "code",
   "execution_count": 184,
   "metadata": {
    "scrolled": false
   },
   "outputs": [
    {
     "name": "stderr",
     "output_type": "stream",
     "text": [
      "Using custom data configuration default\n",
      "Reusing dataset tweets_hate_speech_detection (C:\\Users\\Jonas\\.cache\\huggingface\\datasets\\tweets_hate_speech_detection\\default\\0.0.0\\c6b6f41e91ac9113e1c032c5ecf7a49b4e1e9dc8699ded3c2d8425c9217568b2)\n",
      "100%|██████████| 1/1 [00:00<00:00, 143.34it/s]\n"
     ]
    }
   ],
   "source": [
    "from datasets import load_dataset\n",
    "\n",
    "dataset = load_dataset(\"tweets_hate_speech_detection\")"
   ]
  },
  {
   "cell_type": "code",
   "execution_count": 185,
   "metadata": {},
   "outputs": [
    {
     "data": {
      "text/html": [
       "<div>\n",
       "<style scoped>\n",
       "    .dataframe tbody tr th:only-of-type {\n",
       "        vertical-align: middle;\n",
       "    }\n",
       "\n",
       "    .dataframe tbody tr th {\n",
       "        vertical-align: top;\n",
       "    }\n",
       "\n",
       "    .dataframe thead th {\n",
       "        text-align: right;\n",
       "    }\n",
       "</style>\n",
       "<table border=\"1\" class=\"dataframe\">\n",
       "  <thead>\n",
       "    <tr style=\"text-align: right;\">\n",
       "      <th></th>\n",
       "      <th>label</th>\n",
       "      <th>tweet</th>\n",
       "    </tr>\n",
       "  </thead>\n",
       "  <tbody>\n",
       "    <tr>\n",
       "      <th>0</th>\n",
       "      <td>0</td>\n",
       "      <td>@user when a father is dysfunctional and is so...</td>\n",
       "    </tr>\n",
       "    <tr>\n",
       "      <th>1</th>\n",
       "      <td>0</td>\n",
       "      <td>@user @user thanks for #lyft credit i can't us...</td>\n",
       "    </tr>\n",
       "    <tr>\n",
       "      <th>2</th>\n",
       "      <td>0</td>\n",
       "      <td>bihday your majesty</td>\n",
       "    </tr>\n",
       "    <tr>\n",
       "      <th>3</th>\n",
       "      <td>0</td>\n",
       "      <td>#model   i love u take with u all the time in ...</td>\n",
       "    </tr>\n",
       "    <tr>\n",
       "      <th>4</th>\n",
       "      <td>0</td>\n",
       "      <td>factsguide: society now    #motivation</td>\n",
       "    </tr>\n",
       "  </tbody>\n",
       "</table>\n",
       "</div>"
      ],
      "text/plain": [
       "   label                                              tweet\n",
       "0      0  @user when a father is dysfunctional and is so...\n",
       "1      0  @user @user thanks for #lyft credit i can't us...\n",
       "2      0                                bihday your majesty\n",
       "3      0  #model   i love u take with u all the time in ...\n",
       "4      0             factsguide: society now    #motivation"
      ]
     },
     "execution_count": 185,
     "metadata": {},
     "output_type": "execute_result"
    }
   ],
   "source": [
    "df = pd.DataFrame.from_dict(dataset['train'])\n",
    "df.head()"
   ]
  },
  {
   "cell_type": "code",
   "execution_count": 186,
   "metadata": {},
   "outputs": [],
   "source": [
    "# Currently not in use\n",
    "def remove_punctioation(text:str) -> str:\n",
    "    return \"\".join([i for i in text if i not in punctuation])\n",
    "\n",
    "def tokenization(text:str) -> list:\n",
    "    return nltk.word_tokenize(text)\n",
    "\n",
    "def remove_stopwords(tokens) ->list:\n",
    "    stopwords_list = stopwords.words(\"english\")\n",
    "    return [token for token in tokens if token not in stopwords_list]\n",
    "\n",
    "porter_stemmer = PorterStemmer()\n",
    "\n",
    "def stemming(text:list) -> list:\n",
    "    return [porter_stemmer.stem(word) for word in text]\n",
    "\n",
    "def preProcess(list):\n",
    "    return list.apply(lambda x: stemming(remove_stopwords(tokenization(remove_punctioation(x.lower())))))\n",
    "\n",
    "def validate(y_test,y_pred):\n",
    "    print('Precision: %.3f' % precision_score(y_test, y_pred))\n",
    "    print('Recall: %.3f' % recall_score(y_test, y_pred))\n",
    "    print('Accuracy: %.3f' % accuracy_score(y_test, y_pred))\n",
    "    print('F1 Score: %.3f' % f1_score(y_test, y_pred))"
   ]
  },
  {
   "cell_type": "code",
   "execution_count": 187,
   "metadata": {},
   "outputs": [],
   "source": [
    "# Currently not in use\n",
    "df[\"preprocessed\"] = preProcess(df[\"tweet\"])"
   ]
  },
  {
   "cell_type": "code",
   "execution_count": 188,
   "metadata": {},
   "outputs": [],
   "source": [
    "df['no_user']= df['tweet'].str.replace(\"user\",\"\")"
   ]
  },
  {
   "cell_type": "code",
   "execution_count": 189,
   "metadata": {},
   "outputs": [
    {
     "data": {
      "text/html": [
       "<div>\n",
       "<style scoped>\n",
       "    .dataframe tbody tr th:only-of-type {\n",
       "        vertical-align: middle;\n",
       "    }\n",
       "\n",
       "    .dataframe tbody tr th {\n",
       "        vertical-align: top;\n",
       "    }\n",
       "\n",
       "    .dataframe thead th {\n",
       "        text-align: right;\n",
       "    }\n",
       "</style>\n",
       "<table border=\"1\" class=\"dataframe\">\n",
       "  <thead>\n",
       "    <tr style=\"text-align: right;\">\n",
       "      <th></th>\n",
       "      <th>label</th>\n",
       "      <th>tweet</th>\n",
       "      <th>preprocessed</th>\n",
       "      <th>no_user</th>\n",
       "    </tr>\n",
       "  </thead>\n",
       "  <tbody>\n",
       "    <tr>\n",
       "      <th>0</th>\n",
       "      <td>0</td>\n",
       "      <td>@user when a father is dysfunctional and is so...</td>\n",
       "      <td>[user, father, dysfunct, selfish, drag, kid, d...</td>\n",
       "      <td>@ when a father is dysfunctional and is so sel...</td>\n",
       "    </tr>\n",
       "    <tr>\n",
       "      <th>1</th>\n",
       "      <td>0</td>\n",
       "      <td>@user @user thanks for #lyft credit i can't us...</td>\n",
       "      <td>[user, user, thank, lyft, credit, cant, use, c...</td>\n",
       "      <td>@ @ thanks for #lyft credit i can't use cause ...</td>\n",
       "    </tr>\n",
       "    <tr>\n",
       "      <th>2</th>\n",
       "      <td>0</td>\n",
       "      <td>bihday your majesty</td>\n",
       "      <td>[bihday, majesti]</td>\n",
       "      <td>bihday your majesty</td>\n",
       "    </tr>\n",
       "    <tr>\n",
       "      <th>3</th>\n",
       "      <td>0</td>\n",
       "      <td>#model   i love u take with u all the time in ...</td>\n",
       "      <td>[model, love, u, take, u, time, urð±, ðð...</td>\n",
       "      <td>#model   i love u take with u all the time in ...</td>\n",
       "    </tr>\n",
       "    <tr>\n",
       "      <th>4</th>\n",
       "      <td>0</td>\n",
       "      <td>factsguide: society now    #motivation</td>\n",
       "      <td>[factsguid, societi, motiv]</td>\n",
       "      <td>factsguide: society now    #motivation</td>\n",
       "    </tr>\n",
       "  </tbody>\n",
       "</table>\n",
       "</div>"
      ],
      "text/plain": [
       "   label                                              tweet  \\\n",
       "0      0  @user when a father is dysfunctional and is so...   \n",
       "1      0  @user @user thanks for #lyft credit i can't us...   \n",
       "2      0                                bihday your majesty   \n",
       "3      0  #model   i love u take with u all the time in ...   \n",
       "4      0             factsguide: society now    #motivation   \n",
       "\n",
       "                                        preprocessed  \\\n",
       "0  [user, father, dysfunct, selfish, drag, kid, d...   \n",
       "1  [user, user, thank, lyft, credit, cant, use, c...   \n",
       "2                                  [bihday, majesti]   \n",
       "3  [model, love, u, take, u, time, urð±, ðð...   \n",
       "4                        [factsguid, societi, motiv]   \n",
       "\n",
       "                                             no_user  \n",
       "0  @ when a father is dysfunctional and is so sel...  \n",
       "1  @ @ thanks for #lyft credit i can't use cause ...  \n",
       "2                                bihday your majesty  \n",
       "3  #model   i love u take with u all the time in ...  \n",
       "4             factsguide: society now    #motivation  "
      ]
     },
     "execution_count": 189,
     "metadata": {},
     "output_type": "execute_result"
    }
   ],
   "source": [
    "df.head()"
   ]
  },
  {
   "cell_type": "markdown",
   "metadata": {},
   "source": [
    "# Model Building"
   ]
  },
  {
   "cell_type": "code",
   "execution_count": 190,
   "metadata": {},
   "outputs": [],
   "source": [
    "# Definition des Label-Vektors\n",
    "y = df['label']"
   ]
  },
  {
   "cell_type": "markdown",
   "metadata": {},
   "source": [
    "## Using TF-IDF Vectorizer"
   ]
  },
  {
   "cell_type": "code",
   "execution_count": 191,
   "metadata": {},
   "outputs": [
    {
     "name": "stdout",
     "output_type": "stream",
     "text": [
      "(31962, 41104)\n"
     ]
    }
   ],
   "source": [
    "# Definition der Feature-Matrix\n",
    "tf = text.TfidfVectorizer(stop_words='english')\n",
    "\n",
    "X_vec = tf.fit(df['tweet'])\n",
    "X = X_vec.transform(df['tweet'])\n",
    "\n",
    "print(X.shape)"
   ]
  },
  {
   "cell_type": "code",
   "execution_count": 192,
   "metadata": {},
   "outputs": [
    {
     "data": {
      "text/plain": [
       "\"# No User string\\n# Definition der Feature-Matrix\\ntf = text.TfidfVectorizer(stop_words='english')\\n\\nX_vec = tf.fit(df['no_user'])\\nX = X_vec.transform(df['no_user'])\\n\\nprint(X.shape)\""
      ]
     },
     "execution_count": 192,
     "metadata": {},
     "output_type": "execute_result"
    }
   ],
   "source": [
    "'''# No User string\n",
    "# Definition der Feature-Matrix\n",
    "tf = text.TfidfVectorizer(stop_words='english')\n",
    "\n",
    "X_vec = tf.fit(df['no_user'])\n",
    "X = X_vec.transform(df['no_user'])\n",
    "\n",
    "print(X.shape)'''"
   ]
  },
  {
   "cell_type": "markdown",
   "metadata": {},
   "source": [
    "### Splitting Data into train and test data"
   ]
  },
  {
   "cell_type": "code",
   "execution_count": 193,
   "metadata": {},
   "outputs": [],
   "source": [
    "# Splitting of data into training and test data\n",
    "(X_train, X_test, y_train, y_test) = ms.train_test_split(X, y, test_size=0.2, random_state = 17, stratify=y)"
   ]
  },
  {
   "cell_type": "code",
   "execution_count": 194,
   "metadata": {},
   "outputs": [
    {
     "name": "stdout",
     "output_type": "stream",
     "text": [
      "There is 25569 training data, of which 7.02% is hate speech \n",
      "There is 6393 test data, of which 7.01% is hate speech \n"
     ]
    }
   ],
   "source": [
    "# Testing Stratification\n",
    "print('There is {} training data, of which {}% is hate speech '.format(y_train.count(), round(y_train.sum()/y_train.count()*100,2)))\n",
    "print('There is {} test data, of which {}% is hate speech '.format(y_test.count(), round(y_test.sum()/y_test.count()*100,2)))"
   ]
  },
  {
   "cell_type": "markdown",
   "metadata": {},
   "source": [
    "### Train Models\n",
    "The method GridSearchCV is used for hyperparameter optimization. In the following cases the smoothing parameter alpha is optimized."
   ]
  },
  {
   "cell_type": "code",
   "execution_count": 195,
   "metadata": {},
   "outputs": [],
   "source": [
    "# Multi-variate Bernoulli Naive Bayes\n",
    "bnb = ms.GridSearchCV(nb.BernoulliNB(), param_grid={'alpha':np.logspace(-2., 2., 50)})\n",
    "bnb.fit(X_train, y_train);\n",
    "\n",
    "# Multinominal Naive Bayes\n",
    "mnb = ms.GridSearchCV(nb.MultinomialNB(), param_grid={'alpha':np.logspace(-2., 2., 50)})\n",
    "mnb.fit(X_train, y_train);"
   ]
  },
  {
   "cell_type": "markdown",
   "metadata": {},
   "source": [
    "### Evaluate Model Performance based on TF-IDF Vectorizer"
   ]
  },
  {
   "cell_type": "code",
   "execution_count": 196,
   "metadata": {},
   "outputs": [
    {
     "name": "stdout",
     "output_type": "stream",
     "text": [
      "Scores with the multi-variate Bernoulli Naive Bayes:\n",
      "Precision: 0.648\n",
      "Recall: 0.551\n",
      "Accuracy: 0.948\n",
      "F1 Score: 0.596\n"
     ]
    }
   ],
   "source": [
    "print('Scores with the multi-variate Bernoulli Naive Bayes:')\n",
    "validate(y_test, bnb.predict(X_test))"
   ]
  },
  {
   "cell_type": "code",
   "execution_count": 197,
   "metadata": {},
   "outputs": [
    {
     "name": "stdout",
     "output_type": "stream",
     "text": [
      "Scores with the Multinominal Bernoulli Naive Bayes:\n",
      "Precision: 0.715\n",
      "Recall: 0.542\n",
      "Accuracy: 0.953\n",
      "F1 Score: 0.617\n"
     ]
    }
   ],
   "source": [
    "print('Scores with the Multinominal Bernoulli Naive Bayes:')\n",
    "validate(y_test, mnb.predict(X_test))"
   ]
  },
  {
   "cell_type": "code",
   "execution_count": 198,
   "metadata": {},
   "outputs": [
    {
     "data": {
      "image/png": "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",
      "text/plain": [
       "<Figure size 432x288 with 1 Axes>"
      ]
     },
     "metadata": {
      "needs_background": "light"
     },
     "output_type": "display_data"
    }
   ],
   "source": [
    "# Confusion-Matrix\n",
    "cm = confusion_matrix(y_test, mnb.predict(X_test))\n",
    "\n",
    "fig, ax = plot_confusion_matrix(conf_mat=cm)\n",
    "plt.title(\"Confusion Matrix\")\n",
    "plt.show()"
   ]
  },
  {
   "cell_type": "markdown",
   "metadata": {},
   "source": [
    "# Using Count Vectorizer"
   ]
  },
  {
   "cell_type": "code",
   "execution_count": 199,
   "metadata": {},
   "outputs": [
    {
     "data": {
      "text/plain": [
       "\"# No user string\\nco = text.CountVectorizer(stop_words='english')\\n\\nXc_vec = co.fit(df['no_user'])\\nXc = Xc_vec.transform(df['no_user'])\\n\\nprint(Xc.shape)\""
      ]
     },
     "execution_count": 199,
     "metadata": {},
     "output_type": "execute_result"
    }
   ],
   "source": [
    "'''# No user string\n",
    "co = text.CountVectorizer(stop_words='english')\n",
    "\n",
    "Xc_vec = co.fit(df['no_user'])\n",
    "Xc = Xc_vec.transform(df['no_user'])\n",
    "\n",
    "print(Xc.shape)'''"
   ]
  },
  {
   "cell_type": "code",
   "execution_count": 200,
   "metadata": {},
   "outputs": [
    {
     "name": "stdout",
     "output_type": "stream",
     "text": [
      "(31962, 41104)\n"
     ]
    }
   ],
   "source": [
    "co = text.CountVectorizer(stop_words='english')\n",
    "\n",
    "Xc_vec = co.fit(df['tweet'])\n",
    "Xc = Xc_vec.transform(df['tweet'])\n",
    "\n",
    "print(Xc.shape)"
   ]
  },
  {
   "cell_type": "markdown",
   "metadata": {},
   "source": [
    "### Split Data"
   ]
  },
  {
   "cell_type": "code",
   "execution_count": 201,
   "metadata": {},
   "outputs": [],
   "source": [
    "# Splitting of data into training and test data\n",
    "(Xc_train, Xc_test, yc_train, yc_test) = ms.train_test_split(Xc, y, test_size=.2, random_state = 17)"
   ]
  },
  {
   "cell_type": "markdown",
   "metadata": {},
   "source": [
    "### Train Models"
   ]
  },
  {
   "cell_type": "code",
   "execution_count": 202,
   "metadata": {},
   "outputs": [],
   "source": [
    "# Multi-variate Bernoulli Naive Bayes\n",
    "bnbc = ms.GridSearchCV(nb.BernoulliNB(), param_grid={'alpha':np.logspace(-2., 2., 50)})\n",
    "bnbc.fit(Xc_train, yc_train);\n",
    "\n",
    "\n",
    "# Multinominal Naive Bayes\n",
    "mnbc = ms.GridSearchCV(nb.MultinomialNB(), param_grid={'alpha':np.logspace(-2., 2., 50)})\n",
    "mnbc.fit(Xc_train, yc_train);"
   ]
  },
  {
   "cell_type": "markdown",
   "metadata": {},
   "source": [
    "### Evaluate Model Performance based on Count Vectorizer"
   ]
  },
  {
   "cell_type": "code",
   "execution_count": 203,
   "metadata": {},
   "outputs": [
    {
     "name": "stdout",
     "output_type": "stream",
     "text": [
      "Scores with the multi-variate Bernoulli Naive Bayes:\n",
      "Precision: 0.641\n",
      "Recall: 0.568\n",
      "Accuracy: 0.950\n",
      "F1 Score: 0.602\n"
     ]
    }
   ],
   "source": [
    "print('Scores with the multi-variate Bernoulli Naive Bayes:')\n",
    "validate(yc_test, bnbc.predict(Xc_test))"
   ]
  },
  {
   "cell_type": "code",
   "execution_count": 204,
   "metadata": {},
   "outputs": [
    {
     "name": "stdout",
     "output_type": "stream",
     "text": [
      "Scores with the multi-variate Bernoulli Naive Bayes:\n",
      "Precision: 0.623\n",
      "Recall: 0.526\n",
      "Accuracy: 0.947\n",
      "F1 Score: 0.570\n"
     ]
    }
   ],
   "source": [
    "print('Scores with the multi-variate Bernoulli Naive Bayes:')\n",
    "validate(yc_test, mnbc.predict(Xc_test))"
   ]
  },
  {
   "cell_type": "code",
   "execution_count": 205,
   "metadata": {},
   "outputs": [
    {
     "data": {
      "image/png": "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",
      "text/plain": [
       "<Figure size 432x288 with 1 Axes>"
      ]
     },
     "metadata": {
      "needs_background": "light"
     },
     "output_type": "display_data"
    }
   ],
   "source": [
    "# Confusion-Matrix\n",
    "cm = confusion_matrix(yc_test, mnbc.predict(Xc_test))\n",
    "\n",
    "fig, ax = plot_confusion_matrix(conf_mat=cm)\n",
    "plt.title(\"Confusion Matrix\")\n",
    "plt.show()"
   ]
  },
  {
   "cell_type": "markdown",
   "metadata": {},
   "source": [
    "# Analyze frequent words"
   ]
  },
  {
   "cell_type": "code",
   "execution_count": 206,
   "metadata": {},
   "outputs": [
    {
     "ename": "MemoryError",
     "evalue": "Unable to allocate 9.79 GiB for an array with shape (31962, 41104) and data type int64",
     "output_type": "error",
     "traceback": [
      "\u001b[1;31m---------------------------------------------------------------------------\u001b[0m",
      "\u001b[1;31mMemoryError\u001b[0m                               Traceback (most recent call last)",
      "\u001b[1;32mc:\\Users\\Jonas\\OneDrive - bwedu\\Studium_Master\\1_FSS_2022\\Data Mining [IE 500]\\Projekt\\Code\\Git\\Data_mining\\src\\models\\Naive_Bayes.ipynb Cell 36'\u001b[0m in \u001b[0;36m<cell line: 2>\u001b[1;34m()\u001b[0m\n\u001b[0;32m      <a href='vscode-notebook-cell:/c%3A/Users/Jonas/OneDrive%20-%20bwedu/Studium_Master/1_FSS_2022/Data%20Mining%20%5BIE%20500%5D/Projekt/Code/Git/Data_mining/src/models/Naive_Bayes.ipynb#ch0000032?line=0'>1</a>\u001b[0m \u001b[39m# Get most frequent words including stop words\u001b[39;00m\n\u001b[1;32m----> <a href='vscode-notebook-cell:/c%3A/Users/Jonas/OneDrive%20-%20bwedu/Studium_Master/1_FSS_2022/Data%20Mining%20%5BIE%20500%5D/Projekt/Code/Git/Data_mining/src/models/Naive_Bayes.ipynb#ch0000032?line=1'>2</a>\u001b[0m word_freq_df \u001b[39m=\u001b[39m pd\u001b[39m.\u001b[39mDataFrame(Xc\u001b[39m.\u001b[39;49mtoarray(), columns\u001b[39m=\u001b[39mco\u001b[39m.\u001b[39mget_feature_names_out())\n\u001b[0;32m      <a href='vscode-notebook-cell:/c%3A/Users/Jonas/OneDrive%20-%20bwedu/Studium_Master/1_FSS_2022/Data%20Mining%20%5BIE%20500%5D/Projekt/Code/Git/Data_mining/src/models/Naive_Bayes.ipynb#ch0000032?line=2'>3</a>\u001b[0m top_words_df \u001b[39m=\u001b[39m pd\u001b[39m.\u001b[39mDataFrame(word_freq_df\u001b[39m.\u001b[39msum())\u001b[39m.\u001b[39msort_values(\u001b[39m0\u001b[39m, ascending\u001b[39m=\u001b[39m\u001b[39mFalse\u001b[39;00m)\n\u001b[0;32m      <a href='vscode-notebook-cell:/c%3A/Users/Jonas/OneDrive%20-%20bwedu/Studium_Master/1_FSS_2022/Data%20Mining%20%5BIE%20500%5D/Projekt/Code/Git/Data_mining/src/models/Naive_Bayes.ipynb#ch0000032?line=3'>4</a>\u001b[0m top_words_df\u001b[39m.\u001b[39mhead(\u001b[39m10\u001b[39m)\n",
      "File \u001b[1;32mc:\\Users\\Jonas\\miniconda3\\envs\\DataMining\\lib\\site-packages\\scipy\\sparse\\compressed.py:1039\u001b[0m, in \u001b[0;36m_cs_matrix.toarray\u001b[1;34m(self, order, out)\u001b[0m\n\u001b[0;32m   <a href='file:///c%3A/Users/Jonas/miniconda3/envs/DataMining/lib/site-packages/scipy/sparse/compressed.py?line=1036'>1037</a>\u001b[0m \u001b[39mif\u001b[39;00m out \u001b[39mis\u001b[39;00m \u001b[39mNone\u001b[39;00m \u001b[39mand\u001b[39;00m order \u001b[39mis\u001b[39;00m \u001b[39mNone\u001b[39;00m:\n\u001b[0;32m   <a href='file:///c%3A/Users/Jonas/miniconda3/envs/DataMining/lib/site-packages/scipy/sparse/compressed.py?line=1037'>1038</a>\u001b[0m     order \u001b[39m=\u001b[39m \u001b[39mself\u001b[39m\u001b[39m.\u001b[39m_swap(\u001b[39m'\u001b[39m\u001b[39mcf\u001b[39m\u001b[39m'\u001b[39m)[\u001b[39m0\u001b[39m]\n\u001b[1;32m-> <a href='file:///c%3A/Users/Jonas/miniconda3/envs/DataMining/lib/site-packages/scipy/sparse/compressed.py?line=1038'>1039</a>\u001b[0m out \u001b[39m=\u001b[39m \u001b[39mself\u001b[39;49m\u001b[39m.\u001b[39;49m_process_toarray_args(order, out)\n\u001b[0;32m   <a href='file:///c%3A/Users/Jonas/miniconda3/envs/DataMining/lib/site-packages/scipy/sparse/compressed.py?line=1039'>1040</a>\u001b[0m \u001b[39mif\u001b[39;00m \u001b[39mnot\u001b[39;00m (out\u001b[39m.\u001b[39mflags\u001b[39m.\u001b[39mc_contiguous \u001b[39mor\u001b[39;00m out\u001b[39m.\u001b[39mflags\u001b[39m.\u001b[39mf_contiguous):\n\u001b[0;32m   <a href='file:///c%3A/Users/Jonas/miniconda3/envs/DataMining/lib/site-packages/scipy/sparse/compressed.py?line=1040'>1041</a>\u001b[0m     \u001b[39mraise\u001b[39;00m \u001b[39mValueError\u001b[39;00m(\u001b[39m'\u001b[39m\u001b[39mOutput array must be C or F contiguous\u001b[39m\u001b[39m'\u001b[39m)\n",
      "File \u001b[1;32mc:\\Users\\Jonas\\miniconda3\\envs\\DataMining\\lib\\site-packages\\scipy\\sparse\\base.py:1202\u001b[0m, in \u001b[0;36mspmatrix._process_toarray_args\u001b[1;34m(self, order, out)\u001b[0m\n\u001b[0;32m   <a href='file:///c%3A/Users/Jonas/miniconda3/envs/DataMining/lib/site-packages/scipy/sparse/base.py?line=1199'>1200</a>\u001b[0m     \u001b[39mreturn\u001b[39;00m out\n\u001b[0;32m   <a href='file:///c%3A/Users/Jonas/miniconda3/envs/DataMining/lib/site-packages/scipy/sparse/base.py?line=1200'>1201</a>\u001b[0m \u001b[39melse\u001b[39;00m:\n\u001b[1;32m-> <a href='file:///c%3A/Users/Jonas/miniconda3/envs/DataMining/lib/site-packages/scipy/sparse/base.py?line=1201'>1202</a>\u001b[0m     \u001b[39mreturn\u001b[39;00m np\u001b[39m.\u001b[39;49mzeros(\u001b[39mself\u001b[39;49m\u001b[39m.\u001b[39;49mshape, dtype\u001b[39m=\u001b[39;49m\u001b[39mself\u001b[39;49m\u001b[39m.\u001b[39;49mdtype, order\u001b[39m=\u001b[39;49morder)\n",
      "\u001b[1;31mMemoryError\u001b[0m: Unable to allocate 9.79 GiB for an array with shape (31962, 41104) and data type int64"
     ]
    }
   ],
   "source": [
    "'''# Get most frequent words including stop words\n",
    "word_freq_df = pd.DataFrame(Xc.toarray(), columns=co.get_feature_names_out())\n",
    "top_words_df = pd.DataFrame(word_freq_df.sum()).sort_values(0, ascending=False)\n",
    "top_words_df.head(10)'''"
   ]
  },
  {
   "cell_type": "markdown",
   "metadata": {},
   "source": [
    "## Get words with biggest impact on each category"
   ]
  },
  {
   "cell_type": "code",
   "execution_count": 207,
   "metadata": {},
   "outputs": [],
   "source": [
    "mnbc = nb.MultinomialNB()\n",
    "mnbc.fit(Xc_train, yc_train);"
   ]
  },
  {
   "cell_type": "code",
   "execution_count": 208,
   "metadata": {},
   "outputs": [
    {
     "name": "stdout",
     "output_type": "stream",
     "text": [
      "no_hate: thankful today life time just amp happy day love user\n",
      "hate: people politics racist black like libtard white trump amp user\n"
     ]
    },
    {
     "name": "stderr",
     "output_type": "stream",
     "text": [
      "c:\\Users\\Jonas\\miniconda3\\envs\\DataMining\\lib\\site-packages\\sklearn\\utils\\deprecation.py:103: FutureWarning: Attribute `coef_` was deprecated in version 0.24 and will be removed in 1.1 (renaming of 0.26).\n",
      "  warnings.warn(msg, category=FutureWarning)\n"
     ]
    }
   ],
   "source": [
    "# Get words with biggest impact on each category\n",
    "\n",
    "mnbc.feature_log_prob_\n",
    "mnbc.coef_\n",
    "\n",
    "feature_names = co.get_feature_names_out()\n",
    "for i, class_label in enumerate(['no_hate', 'hate']):\n",
    "    top10 = np.argsort(mnbc.feature_log_prob_[i])[-10:]\n",
    "    print(\"%s: %s\" % (class_label,\n",
    "          \" \".join(feature_names[j] for j in top10)))"
   ]
  },
  {
   "cell_type": "markdown",
   "metadata": {},
   "source": [
    "# Upsample"
   ]
  },
  {
   "cell_type": "code",
   "execution_count": 209,
   "metadata": {},
   "outputs": [],
   "source": [
    "# Train TFIDF BEFORE upsampling\n",
    "tf = text.TfidfVectorizer(stop_words='english')\n",
    "\n",
    "X_vec = tf.fit(df['tweet'])"
   ]
  },
  {
   "cell_type": "code",
   "execution_count": 210,
   "metadata": {},
   "outputs": [],
   "source": [
    "# Prepare Split data\n",
    "y = df['label']\n",
    "X = df['tweet']"
   ]
  },
  {
   "cell_type": "code",
   "execution_count": 211,
   "metadata": {},
   "outputs": [
    {
     "data": {
      "text/html": [
       "<div>\n",
       "<style scoped>\n",
       "    .dataframe tbody tr th:only-of-type {\n",
       "        vertical-align: middle;\n",
       "    }\n",
       "\n",
       "    .dataframe tbody tr th {\n",
       "        vertical-align: top;\n",
       "    }\n",
       "\n",
       "    .dataframe thead th {\n",
       "        text-align: right;\n",
       "    }\n",
       "</style>\n",
       "<table border=\"1\" class=\"dataframe\">\n",
       "  <thead>\n",
       "    <tr style=\"text-align: right;\">\n",
       "      <th></th>\n",
       "      <th>label</th>\n",
       "      <th>tweet</th>\n",
       "    </tr>\n",
       "  </thead>\n",
       "  <tbody>\n",
       "    <tr>\n",
       "      <th>30405</th>\n",
       "      <td>0</td>\n",
       "      <td>when everyone's free when you're in exam mode ...</td>\n",
       "    </tr>\n",
       "    <tr>\n",
       "      <th>27807</th>\n",
       "      <td>0</td>\n",
       "      <td>#jacksonville   rooster simulation: i want to ...</td>\n",
       "    </tr>\n",
       "    <tr>\n",
       "      <th>8660</th>\n",
       "      <td>0</td>\n",
       "      <td>@user just run 10kms for @user @user   #loveis...</td>\n",
       "    </tr>\n",
       "    <tr>\n",
       "      <th>19185</th>\n",
       "      <td>0</td>\n",
       "      <td>@user got the prototype for our new usb today!...</td>\n",
       "    </tr>\n",
       "    <tr>\n",
       "      <th>10355</th>\n",
       "      <td>0</td>\n",
       "      <td>have a   &amp;amp; #healthy #fathersday. #runnerda...</td>\n",
       "    </tr>\n",
       "  </tbody>\n",
       "</table>\n",
       "</div>"
      ],
      "text/plain": [
       "       label                                              tweet\n",
       "30405      0  when everyone's free when you're in exam mode ...\n",
       "27807      0  #jacksonville   rooster simulation: i want to ...\n",
       "8660       0  @user just run 10kms for @user @user   #loveis...\n",
       "19185      0  @user got the prototype for our new usb today!...\n",
       "10355      0  have a   &amp; #healthy #fathersday. #runnerda..."
      ]
     },
     "execution_count": 211,
     "metadata": {},
     "output_type": "execute_result"
    }
   ],
   "source": [
    "# Split data BEFORE upsampling\n",
    "(X_train, X_test, y_train, y_test) = ms.train_test_split(X, y, test_size=0.2, random_state = 17, stratify=y)\n",
    "\n",
    "df_train = pd.concat([y_train,X_train], axis=1)\n",
    "df_test = pd.concat([y_test,X_test], axis = 1)\n",
    "df_train.head()"
   ]
  },
  {
   "cell_type": "code",
   "execution_count": 212,
   "metadata": {},
   "outputs": [
    {
     "name": "stdout",
     "output_type": "stream",
     "text": [
      "length majority 23775\n",
      "length minority 1794\n"
     ]
    }
   ],
   "source": [
    "data_minority = df_train[df_train.label == 1]\n",
    "data_majority = df_train[df_train.label == 0]\n",
    "\n",
    "print(\"length majority\", len(data_majority))\n",
    "print(\"length minority\", len(data_minority))"
   ]
  },
  {
   "cell_type": "code",
   "execution_count": 213,
   "metadata": {},
   "outputs": [],
   "source": [
    "from sklearn.utils import resample\n",
    "data_minority = resample(data_minority, replace = True, n_samples=23775, random_state=55)"
   ]
  },
  {
   "cell_type": "code",
   "execution_count": 214,
   "metadata": {},
   "outputs": [
    {
     "data": {
      "text/plain": [
       "0    23775\n",
       "1    23775\n",
       "Name: label, dtype: int64"
      ]
     },
     "execution_count": 214,
     "metadata": {},
     "output_type": "execute_result"
    }
   ],
   "source": [
    "df_train_up = pd.concat([data_majority, data_minority])\n",
    "df_train_up.label.value_counts()"
   ]
  },
  {
   "cell_type": "code",
   "execution_count": 215,
   "metadata": {},
   "outputs": [
    {
     "name": "stdout",
     "output_type": "stream",
     "text": [
      "(47550, 41104)\n"
     ]
    }
   ],
   "source": [
    "# create tfidf embeddings\n",
    "\n",
    "X_train = X_vec.transform(df_train_up['tweet'])\n",
    "X_test = X_vec.transform(df_test['tweet'])\n",
    "y_train = df_train_up['label']\n",
    "y_test = df_test['label']\n",
    "\n",
    "print(X_train.shape) "
   ]
  },
  {
   "cell_type": "code",
   "execution_count": 219,
   "metadata": {},
   "outputs": [
    {
     "name": "stdout",
     "output_type": "stream",
     "text": [
      "There is 47550 training data, of which 50.0% is hate speech \n",
      "There is 6393 test data, of which 7.01% is hate speech \n"
     ]
    }
   ],
   "source": [
    "# Testing Stratification\n",
    "print('There is {} training data, of which {}% is hate speech '.format(df_train_up['label'].count(), round(df_train_up['label'].sum()/df_train_up['label'].count()*100,2)))\n",
    "print('There is {} test data, of which {}% is hate speech '.format(df_test['label'].count(), round(df_test['label'].sum()/df_test['label'].count()*100,2)))"
   ]
  },
  {
   "cell_type": "code",
   "execution_count": 217,
   "metadata": {},
   "outputs": [],
   "source": [
    "# Multi-variate Bernoulli Naive Bayes\n",
    "bnb = ms.GridSearchCV(nb.BernoulliNB(), param_grid={'alpha':np.logspace(-2., 2., 50)})\n",
    "bnb.fit(X_train, y_train);\n",
    "\n",
    "# Multinominal Naive Bayes\n",
    "mnb = ms.GridSearchCV(nb.MultinomialNB(), param_grid={'alpha':np.logspace(-2., 2., 50)})\n",
    "mnb.fit(X_train, y_train);\n",
    "\n"
   ]
  },
  {
   "cell_type": "code",
   "execution_count": 218,
   "metadata": {},
   "outputs": [
    {
     "name": "stdout",
     "output_type": "stream",
     "text": [
      "Scores with the multi-variate Bernoulli Naive Bayes:\n",
      "Precision: 0.589\n",
      "Recall: 0.690\n",
      "Accuracy: 0.944\n",
      "F1 Score: 0.635\n",
      "Scores with the Multinominal Bernoulli Naive Bayes:\n",
      "Precision: 0.550\n",
      "Recall: 0.694\n",
      "Accuracy: 0.939\n",
      "F1 Score: 0.614\n"
     ]
    }
   ],
   "source": [
    "print('Scores with the multi-variate Bernoulli Naive Bayes:')\n",
    "validate(y_test, bnb.predict(X_test))\n",
    "print('Scores with the Multinominal Bernoulli Naive Bayes:')\n",
    "validate(y_test, mnb.predict(X_test))"
   ]
  },
  {
   "cell_type": "code",
   "execution_count": null,
   "metadata": {},
   "outputs": [],
   "source": [
    "# Confusion-Matrix\n",
    "cm = confusion_matrix(y_test, mnb.predict(X_test))\n",
    "\n",
    "fig, ax = plot_confusion_matrix(conf_mat=cm)\n",
    "plt.title(\"Confusion Matrix\")\n",
    "plt.show()"
   ]
  }
 ],
 "metadata": {
  "interpreter": {
   "hash": "b03aa4afe8e1e93efa7641c6ec3d6ea13fef12134f79b85e9488b2fa31c226cc"
  },
  "kernelspec": {
   "display_name": "Python 3.9.12 ('DataMining')",
   "language": "python",
   "name": "python3"
  },
  "language_info": {
   "codemirror_mode": {
    "name": "ipython",
    "version": 3
   },
   "file_extension": ".py",
   "mimetype": "text/x-python",
   "name": "python",
   "nbconvert_exporter": "python",
   "pygments_lexer": "ipython3",
   "version": "3.9.12"
  }
 },
 "nbformat": 4,
 "nbformat_minor": 2
}
