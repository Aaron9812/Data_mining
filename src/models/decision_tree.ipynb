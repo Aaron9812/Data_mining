{
 "cells": [
  {
   "cell_type": "markdown",
   "metadata": {},
   "source": [
    "# Decision tree Classification"
   ]
  },
  {
   "cell_type": "markdown",
   "metadata": {},
   "source": [
    "## Preperation "
   ]
  },
  {
   "cell_type": "markdown",
   "metadata": {},
   "source": [
    "### Importing needed libraries"
   ]
  },
  {
   "cell_type": "code",
   "execution_count": 1,
   "metadata": {},
   "outputs": [],
   "source": [
    "import pandas as pd\n",
    "from sklearn.tree import DecisionTreeClassifier, plot_tree\n",
    "from sklearn import metrics\n",
    "from sklearn.model_selection import train_test_split\n",
    "from sklearn.utils import resample\n",
    "from sklearn.feature_extraction.text import TfidfVectorizer"
   ]
  },
  {
   "cell_type": "markdown",
   "metadata": {},
   "source": [
    "### Loading Data"
   ]
  },
  {
   "cell_type": "code",
   "execution_count": 2,
   "metadata": {},
   "outputs": [
    {
     "data": {
      "text/html": [
       "<div>\n",
       "<style scoped>\n",
       "    .dataframe tbody tr th:only-of-type {\n",
       "        vertical-align: middle;\n",
       "    }\n",
       "\n",
       "    .dataframe tbody tr th {\n",
       "        vertical-align: top;\n",
       "    }\n",
       "\n",
       "    .dataframe thead th {\n",
       "        text-align: right;\n",
       "    }\n",
       "</style>\n",
       "<table border=\"1\" class=\"dataframe\">\n",
       "  <thead>\n",
       "    <tr style=\"text-align: right;\">\n",
       "      <th></th>\n",
       "      <th>id</th>\n",
       "      <th>label</th>\n",
       "      <th>tweet</th>\n",
       "      <th>tweet_converted_emojis</th>\n",
       "      <th>n_mentions</th>\n",
       "      <th>hashtags</th>\n",
       "      <th>without_punctuation</th>\n",
       "      <th>tweet_lower</th>\n",
       "      <th>tweet_token</th>\n",
       "      <th>clean_token</th>\n",
       "      <th>clean_hashtags</th>\n",
       "      <th>stemmed_tokens</th>\n",
       "      <th>stemmed_hashtags</th>\n",
       "      <th>lemmatized_tokens</th>\n",
       "      <th>lemmatized_hashtags</th>\n",
       "    </tr>\n",
       "  </thead>\n",
       "  <tbody>\n",
       "    <tr>\n",
       "      <th>0</th>\n",
       "      <td>1</td>\n",
       "      <td>0</td>\n",
       "      <td>@user when a father is dysfunctional and is s...</td>\n",
       "      <td>@user when a father is dysfunctional and is s...</td>\n",
       "      <td>1</td>\n",
       "      <td>['run']</td>\n",
       "      <td>user when a father is dysfunctional and is so...</td>\n",
       "      <td>user when a father is dysfunctional and is so...</td>\n",
       "      <td>['user', 'when', 'a', 'father', 'is', 'dysfunc...</td>\n",
       "      <td>['user', 'father', 'dysfunctional', 'selfish',...</td>\n",
       "      <td>['run']</td>\n",
       "      <td>['user', 'father', 'dysfunct', 'selfish', 'dra...</td>\n",
       "      <td>['run']</td>\n",
       "      <td>['user', 'father', 'dysfunctional', 'selfish',...</td>\n",
       "      <td>['run']</td>\n",
       "    </tr>\n",
       "    <tr>\n",
       "      <th>1</th>\n",
       "      <td>2</td>\n",
       "      <td>0</td>\n",
       "      <td>@user @user thanks for #lyft credit i can't us...</td>\n",
       "      <td>@user @user thanks for #lyft credit i can't us...</td>\n",
       "      <td>2</td>\n",
       "      <td>['lyft', 'disapointed', 'getthanked']</td>\n",
       "      <td>user user thanks for lyft credit i cant use ca...</td>\n",
       "      <td>user user thanks for lyft credit i cant use ca...</td>\n",
       "      <td>['user', 'user', 'thanks', 'for', 'lyft', 'cre...</td>\n",
       "      <td>['user', 'user', 'thanks', 'lyft', 'credit', '...</td>\n",
       "      <td>['lyft', 'disapointed', 'getthanked']</td>\n",
       "      <td>['user', 'user', 'thank', 'lyft', 'credit', 'c...</td>\n",
       "      <td>['lyft', 'disapoint', 'getthank']</td>\n",
       "      <td>['user', 'user', 'thanks', 'lyft', 'credit', '...</td>\n",
       "      <td>['lyft', 'disapointed', 'getthanked']</td>\n",
       "    </tr>\n",
       "    <tr>\n",
       "      <th>2</th>\n",
       "      <td>3</td>\n",
       "      <td>0</td>\n",
       "      <td>bihday your majesty</td>\n",
       "      <td>bihday your majesty</td>\n",
       "      <td>0</td>\n",
       "      <td>[]</td>\n",
       "      <td>bihday your majesty</td>\n",
       "      <td>bihday your majesty</td>\n",
       "      <td>['bihday', 'your', 'majesty']</td>\n",
       "      <td>['bihday', 'majesty']</td>\n",
       "      <td>[]</td>\n",
       "      <td>['bihday', 'majesti']</td>\n",
       "      <td>[]</td>\n",
       "      <td>['bihday', 'majesty']</td>\n",
       "      <td>[]</td>\n",
       "    </tr>\n",
       "    <tr>\n",
       "      <th>3</th>\n",
       "      <td>4</td>\n",
       "      <td>0</td>\n",
       "      <td>#model   i love u take with u all the time in ...</td>\n",
       "      <td>#model   i love u take with u all the time in ...</td>\n",
       "      <td>0</td>\n",
       "      <td>['model']</td>\n",
       "      <td>model   i love u take with u all the time in u...</td>\n",
       "      <td>model   i love u take with u all the time in u...</td>\n",
       "      <td>['model', 'i', 'love', 'u', 'take', 'with', 'u...</td>\n",
       "      <td>['model', 'love', 'u', 'take', 'u', 'time', 'u...</td>\n",
       "      <td>['model']</td>\n",
       "      <td>['model', 'love', 'u', 'take', 'u', 'time', 'u...</td>\n",
       "      <td>['model']</td>\n",
       "      <td>['model', 'love', 'u', 'take', 'u', 'time', 'u...</td>\n",
       "      <td>['model']</td>\n",
       "    </tr>\n",
       "    <tr>\n",
       "      <th>4</th>\n",
       "      <td>5</td>\n",
       "      <td>0</td>\n",
       "      <td>factsguide: society now    #motivation</td>\n",
       "      <td>factsguide: society now    #motivation</td>\n",
       "      <td>0</td>\n",
       "      <td>['motivation']</td>\n",
       "      <td>factsguide society now    motivation</td>\n",
       "      <td>factsguide society now    motivation</td>\n",
       "      <td>['factsguide', 'society', 'now', 'motivation']</td>\n",
       "      <td>['factsguide', 'society', 'motivation']</td>\n",
       "      <td>['motivation']</td>\n",
       "      <td>['factsguid', 'societi', 'motiv']</td>\n",
       "      <td>['motiv']</td>\n",
       "      <td>['factsguide', 'society', 'motivation']</td>\n",
       "      <td>['motivation']</td>\n",
       "    </tr>\n",
       "  </tbody>\n",
       "</table>\n",
       "</div>"
      ],
      "text/plain": [
       "   id  label                                              tweet  \\\n",
       "0   1      0   @user when a father is dysfunctional and is s...   \n",
       "1   2      0  @user @user thanks for #lyft credit i can't us...   \n",
       "2   3      0                                bihday your majesty   \n",
       "3   4      0  #model   i love u take with u all the time in ...   \n",
       "4   5      0             factsguide: society now    #motivation   \n",
       "\n",
       "                              tweet_converted_emojis  n_mentions  \\\n",
       "0   @user when a father is dysfunctional and is s...           1   \n",
       "1  @user @user thanks for #lyft credit i can't us...           2   \n",
       "2                                bihday your majesty           0   \n",
       "3  #model   i love u take with u all the time in ...           0   \n",
       "4             factsguide: society now    #motivation           0   \n",
       "\n",
       "                                hashtags  \\\n",
       "0                                ['run']   \n",
       "1  ['lyft', 'disapointed', 'getthanked']   \n",
       "2                                     []   \n",
       "3                              ['model']   \n",
       "4                         ['motivation']   \n",
       "\n",
       "                                 without_punctuation  \\\n",
       "0   user when a father is dysfunctional and is so...   \n",
       "1  user user thanks for lyft credit i cant use ca...   \n",
       "2                                bihday your majesty   \n",
       "3  model   i love u take with u all the time in u...   \n",
       "4               factsguide society now    motivation   \n",
       "\n",
       "                                         tweet_lower  \\\n",
       "0   user when a father is dysfunctional and is so...   \n",
       "1  user user thanks for lyft credit i cant use ca...   \n",
       "2                                bihday your majesty   \n",
       "3  model   i love u take with u all the time in u...   \n",
       "4               factsguide society now    motivation   \n",
       "\n",
       "                                         tweet_token  \\\n",
       "0  ['user', 'when', 'a', 'father', 'is', 'dysfunc...   \n",
       "1  ['user', 'user', 'thanks', 'for', 'lyft', 'cre...   \n",
       "2                      ['bihday', 'your', 'majesty']   \n",
       "3  ['model', 'i', 'love', 'u', 'take', 'with', 'u...   \n",
       "4     ['factsguide', 'society', 'now', 'motivation']   \n",
       "\n",
       "                                         clean_token  \\\n",
       "0  ['user', 'father', 'dysfunctional', 'selfish',...   \n",
       "1  ['user', 'user', 'thanks', 'lyft', 'credit', '...   \n",
       "2                              ['bihday', 'majesty']   \n",
       "3  ['model', 'love', 'u', 'take', 'u', 'time', 'u...   \n",
       "4            ['factsguide', 'society', 'motivation']   \n",
       "\n",
       "                          clean_hashtags  \\\n",
       "0                                ['run']   \n",
       "1  ['lyft', 'disapointed', 'getthanked']   \n",
       "2                                     []   \n",
       "3                              ['model']   \n",
       "4                         ['motivation']   \n",
       "\n",
       "                                      stemmed_tokens  \\\n",
       "0  ['user', 'father', 'dysfunct', 'selfish', 'dra...   \n",
       "1  ['user', 'user', 'thank', 'lyft', 'credit', 'c...   \n",
       "2                              ['bihday', 'majesti']   \n",
       "3  ['model', 'love', 'u', 'take', 'u', 'time', 'u...   \n",
       "4                  ['factsguid', 'societi', 'motiv']   \n",
       "\n",
       "                    stemmed_hashtags  \\\n",
       "0                            ['run']   \n",
       "1  ['lyft', 'disapoint', 'getthank']   \n",
       "2                                 []   \n",
       "3                          ['model']   \n",
       "4                          ['motiv']   \n",
       "\n",
       "                                   lemmatized_tokens  \\\n",
       "0  ['user', 'father', 'dysfunctional', 'selfish',...   \n",
       "1  ['user', 'user', 'thanks', 'lyft', 'credit', '...   \n",
       "2                              ['bihday', 'majesty']   \n",
       "3  ['model', 'love', 'u', 'take', 'u', 'time', 'u...   \n",
       "4            ['factsguide', 'society', 'motivation']   \n",
       "\n",
       "                     lemmatized_hashtags  \n",
       "0                                ['run']  \n",
       "1  ['lyft', 'disapointed', 'getthanked']  \n",
       "2                                     []  \n",
       "3                              ['model']  \n",
       "4                         ['motivation']  "
      ]
     },
     "execution_count": 2,
     "metadata": {},
     "output_type": "execute_result"
    }
   ],
   "source": [
    "train_data = pd.read_csv(\"../../data/220510_train_data_preprocessed.csv\", sep=';')\n",
    "test_data = pd.read_csv(\"../../data/220510_test_data_preprocessed.csv\", sep=\";\")\n",
    "train_data.head()"
   ]
  },
  {
   "cell_type": "markdown",
   "metadata": {},
   "source": [
    "## Feature Selection Lemmatized"
   ]
  },
  {
   "cell_type": "code",
   "execution_count": 3,
   "metadata": {},
   "outputs": [
    {
     "data": {
      "text/plain": [
       "'features = [\"n_mentions\", \"lemmatized_hashtags\", \"lemmatized_tokens\"]\\nX = data[features]\\ny = data.label\\nX.head()'"
      ]
     },
     "execution_count": 3,
     "metadata": {},
     "output_type": "execute_result"
    }
   ],
   "source": [
    "\"\"\"features = [\"n_mentions\", \"lemmatized_hashtags\", \"lemmatized_tokens\"]\n",
    "X = data[features]\n",
    "y = data.label\n",
    "X.head()\"\"\""
   ]
  },
  {
   "cell_type": "markdown",
   "metadata": {},
   "source": [
    "## Bag of words model"
   ]
  },
  {
   "cell_type": "markdown",
   "metadata": {},
   "source": [
    "Create the bag of words from the data"
   ]
  },
  {
   "cell_type": "code",
   "execution_count": 4,
   "metadata": {},
   "outputs": [
    {
     "data": {
      "text/plain": [
       "'import texthero as hero\\nfrom texthero import preprocessing\\nX[\"bow_tokens\"] = (hero.tfidf(X[\"lemmatized_tokens\"], max_features=15000))\\nX[\"bow_hashtags\"] = (hero.tfidf(X[\"lemmatized_hashtags\"], max_features=15000))\\nX'"
      ]
     },
     "execution_count": 4,
     "metadata": {},
     "output_type": "execute_result"
    }
   ],
   "source": [
    "\"\"\"import texthero as hero\n",
    "from texthero import preprocessing\n",
    "X[\"bow_tokens\"] = (hero.tfidf(X[\"lemmatized_tokens\"], max_features=15000))\n",
    "X[\"bow_hashtags\"] = (hero.tfidf(X[\"lemmatized_hashtags\"], max_features=15000))\n",
    "X\"\"\""
   ]
  },
  {
   "cell_type": "markdown",
   "metadata": {},
   "source": [
    "Reduce the dimension of the vector"
   ]
  },
  {
   "cell_type": "code",
   "execution_count": 5,
   "metadata": {},
   "outputs": [
    {
     "data": {
      "text/plain": [
       "'X[\"bow_tokens\"] = (hero.tsne(X[\"bow_tokens\"]))\\nX[\"bow_hashtags\"] = (hero.tsne(X[\"bow_hashtags\"]))\\nX'"
      ]
     },
     "execution_count": 5,
     "metadata": {},
     "output_type": "execute_result"
    }
   ],
   "source": [
    "\"\"\"X[\"bow_tokens\"] = (hero.tsne(X[\"bow_tokens\"]))\n",
    "X[\"bow_hashtags\"] = (hero.tsne(X[\"bow_hashtags\"]))\n",
    "X\"\"\""
   ]
  },
  {
   "cell_type": "markdown",
   "metadata": {},
   "source": [
    "Split vector into columns"
   ]
  },
  {
   "cell_type": "code",
   "execution_count": 6,
   "metadata": {},
   "outputs": [
    {
     "data": {
      "text/plain": [
       "'X[[\"bow_tokens_1\", \"bow_tokens_\"]] = pd.DataFrame(X.bow_tokens.tolist(), index= X.index)\\nX[[\"bow_hashtags_1\", \"bow_hashtags_2\"]] = pd.DataFrame(X.bow_hashtags.tolist(), index= X.index)\\nX'"
      ]
     },
     "execution_count": 6,
     "metadata": {},
     "output_type": "execute_result"
    }
   ],
   "source": [
    "\"\"\"X[[\"bow_tokens_1\", \"bow_tokens_\"]] = pd.DataFrame(X.bow_tokens.tolist(), index= X.index)\n",
    "X[[\"bow_hashtags_1\", \"bow_hashtags_2\"]] = pd.DataFrame(X.bow_hashtags.tolist(), index= X.index)\n",
    "X\"\"\""
   ]
  },
  {
   "cell_type": "markdown",
   "metadata": {},
   "source": [
    "# Lemmatisation"
   ]
  },
  {
   "cell_type": "code",
   "execution_count": 7,
   "metadata": {},
   "outputs": [
    {
     "data": {
      "text/html": [
       "<div>\n",
       "<style scoped>\n",
       "    .dataframe tbody tr th:only-of-type {\n",
       "        vertical-align: middle;\n",
       "    }\n",
       "\n",
       "    .dataframe tbody tr th {\n",
       "        vertical-align: top;\n",
       "    }\n",
       "\n",
       "    .dataframe thead th {\n",
       "        text-align: right;\n",
       "    }\n",
       "</style>\n",
       "<table border=\"1\" class=\"dataframe\">\n",
       "  <thead>\n",
       "    <tr style=\"text-align: right;\">\n",
       "      <th></th>\n",
       "      <th>lemmatized_tokens</th>\n",
       "      <th>lemmatized_hashtags</th>\n",
       "      <th>n_mentions</th>\n",
       "    </tr>\n",
       "  </thead>\n",
       "  <tbody>\n",
       "    <tr>\n",
       "      <th>0</th>\n",
       "      <td>['user', 'father', 'dysfunctional', 'selfish',...</td>\n",
       "      <td>['run']</td>\n",
       "      <td>1</td>\n",
       "    </tr>\n",
       "    <tr>\n",
       "      <th>1</th>\n",
       "      <td>['user', 'user', 'thanks', 'lyft', 'credit', '...</td>\n",
       "      <td>['lyft', 'disapointed', 'getthanked']</td>\n",
       "      <td>2</td>\n",
       "    </tr>\n",
       "    <tr>\n",
       "      <th>2</th>\n",
       "      <td>['bihday', 'majesty']</td>\n",
       "      <td>[]</td>\n",
       "      <td>0</td>\n",
       "    </tr>\n",
       "    <tr>\n",
       "      <th>3</th>\n",
       "      <td>['model', 'love', 'u', 'take', 'u', 'time', 'u...</td>\n",
       "      <td>['model']</td>\n",
       "      <td>0</td>\n",
       "    </tr>\n",
       "    <tr>\n",
       "      <th>4</th>\n",
       "      <td>['factsguide', 'society', 'motivation']</td>\n",
       "      <td>['motivation']</td>\n",
       "      <td>0</td>\n",
       "    </tr>\n",
       "  </tbody>\n",
       "</table>\n",
       "</div>"
      ],
      "text/plain": [
       "                                   lemmatized_tokens  \\\n",
       "0  ['user', 'father', 'dysfunctional', 'selfish',...   \n",
       "1  ['user', 'user', 'thanks', 'lyft', 'credit', '...   \n",
       "2                              ['bihday', 'majesty']   \n",
       "3  ['model', 'love', 'u', 'take', 'u', 'time', 'u...   \n",
       "4            ['factsguide', 'society', 'motivation']   \n",
       "\n",
       "                     lemmatized_hashtags  n_mentions  \n",
       "0                                ['run']           1  \n",
       "1  ['lyft', 'disapointed', 'getthanked']           2  \n",
       "2                                     []           0  \n",
       "3                              ['model']           0  \n",
       "4                         ['motivation']           0  "
      ]
     },
     "execution_count": 7,
     "metadata": {},
     "output_type": "execute_result"
    }
   ],
   "source": [
    "features = [\"lemmatized_tokens\", \"lemmatized_hashtags\", \"n_mentions\"]\n",
    "\n",
    "X = train_data[features]\n",
    "y = train_data.label\n",
    "\n",
    "X.head()"
   ]
  },
  {
   "cell_type": "markdown",
   "metadata": {},
   "source": [
    "### Using TF-IDF Vectorizer"
   ]
  },
  {
   "cell_type": "code",
   "execution_count": 8,
   "metadata": {},
   "outputs": [
    {
     "data": {
      "text/plain": [
       "(31962, 3)"
      ]
     },
     "execution_count": 8,
     "metadata": {},
     "output_type": "execute_result"
    }
   ],
   "source": [
    "X.shape"
   ]
  },
  {
   "cell_type": "code",
   "execution_count": 9,
   "metadata": {},
   "outputs": [],
   "source": [
    "tf = TfidfVectorizer()\n",
    "\n",
    "X_vec = tf.fit(X[\"lemmatized_tokens\"])\n",
    "X_lem = X_vec.transform(X[\"lemmatized_tokens\"])"
   ]
  },
  {
   "cell_type": "code",
   "execution_count": 10,
   "metadata": {},
   "outputs": [
    {
     "data": {
      "text/plain": [
       "(31962, 40632)"
      ]
     },
     "execution_count": 10,
     "metadata": {},
     "output_type": "execute_result"
    }
   ],
   "source": [
    "X_lem.shape"
   ]
  },
  {
   "cell_type": "markdown",
   "metadata": {},
   "source": [
    "## Split data"
   ]
  },
  {
   "cell_type": "code",
   "execution_count": 11,
   "metadata": {},
   "outputs": [],
   "source": [
    "X_train, X_test, y_train, y_test = train_test_split(X_lem, y, test_size=0.2, random_state = 17, stratify=y)"
   ]
  },
  {
   "cell_type": "code",
   "execution_count": 12,
   "metadata": {},
   "outputs": [
    {
     "name": "stdout",
     "output_type": "stream",
     "text": [
      "Shape X_train (25569, 40632)\n",
      "Shape X_test (6393, 40632)\n"
     ]
    }
   ],
   "source": [
    "print(f\"Shape X_train {X_train.shape}\")\n",
    "print(f\"Shape X_test {X_test.shape}\")"
   ]
  },
  {
   "cell_type": "markdown",
   "metadata": {},
   "source": [
    "## Fitting model"
   ]
  },
  {
   "cell_type": "code",
   "execution_count": 25,
   "metadata": {},
   "outputs": [
    {
     "data": {
      "text/html": [
       "<div>\n",
       "<style scoped>\n",
       "    .dataframe tbody tr th:only-of-type {\n",
       "        vertical-align: middle;\n",
       "    }\n",
       "\n",
       "    .dataframe tbody tr th {\n",
       "        vertical-align: top;\n",
       "    }\n",
       "\n",
       "    .dataframe thead th {\n",
       "        text-align: right;\n",
       "    }\n",
       "</style>\n",
       "<table border=\"1\" class=\"dataframe\">\n",
       "  <thead>\n",
       "    <tr style=\"text-align: right;\">\n",
       "      <th></th>\n",
       "      <th>max_depth</th>\n",
       "      <th>precision_score</th>\n",
       "      <th>recall_score</th>\n",
       "      <th>accuracy_score</th>\n",
       "      <th>f1_score</th>\n",
       "    </tr>\n",
       "  </thead>\n",
       "  <tbody>\n",
       "    <tr>\n",
       "      <th>0</th>\n",
       "      <td>5</td>\n",
       "      <td>0.780142</td>\n",
       "      <td>0.245536</td>\n",
       "      <td>0.942281</td>\n",
       "      <td>0.373514</td>\n",
       "    </tr>\n",
       "    <tr>\n",
       "      <th>1</th>\n",
       "      <td>6</td>\n",
       "      <td>0.779221</td>\n",
       "      <td>0.267857</td>\n",
       "      <td>0.943376</td>\n",
       "      <td>0.398671</td>\n",
       "    </tr>\n",
       "    <tr>\n",
       "      <th>2</th>\n",
       "      <td>7</td>\n",
       "      <td>0.794118</td>\n",
       "      <td>0.301339</td>\n",
       "      <td>0.945565</td>\n",
       "      <td>0.436893</td>\n",
       "    </tr>\n",
       "    <tr>\n",
       "      <th>3</th>\n",
       "      <td>8</td>\n",
       "      <td>0.803681</td>\n",
       "      <td>0.292411</td>\n",
       "      <td>0.945409</td>\n",
       "      <td>0.428805</td>\n",
       "    </tr>\n",
       "    <tr>\n",
       "      <th>4</th>\n",
       "      <td>9</td>\n",
       "      <td>0.807018</td>\n",
       "      <td>0.308036</td>\n",
       "      <td>0.946348</td>\n",
       "      <td>0.445880</td>\n",
       "    </tr>\n",
       "    <tr>\n",
       "      <th>...</th>\n",
       "      <td>...</td>\n",
       "      <td>...</td>\n",
       "      <td>...</td>\n",
       "      <td>...</td>\n",
       "      <td>...</td>\n",
       "    </tr>\n",
       "    <tr>\n",
       "      <th>90</th>\n",
       "      <td>95</td>\n",
       "      <td>0.718182</td>\n",
       "      <td>0.529018</td>\n",
       "      <td>0.952448</td>\n",
       "      <td>0.609254</td>\n",
       "    </tr>\n",
       "    <tr>\n",
       "      <th>91</th>\n",
       "      <td>96</td>\n",
       "      <td>0.716049</td>\n",
       "      <td>0.517857</td>\n",
       "      <td>0.951822</td>\n",
       "      <td>0.601036</td>\n",
       "    </tr>\n",
       "    <tr>\n",
       "      <th>92</th>\n",
       "      <td>97</td>\n",
       "      <td>0.722045</td>\n",
       "      <td>0.504464</td>\n",
       "      <td>0.951666</td>\n",
       "      <td>0.593955</td>\n",
       "    </tr>\n",
       "    <tr>\n",
       "      <th>93</th>\n",
       "      <td>98</td>\n",
       "      <td>0.711246</td>\n",
       "      <td>0.522321</td>\n",
       "      <td>0.951666</td>\n",
       "      <td>0.602317</td>\n",
       "    </tr>\n",
       "    <tr>\n",
       "      <th>94</th>\n",
       "      <td>99</td>\n",
       "      <td>0.714286</td>\n",
       "      <td>0.524554</td>\n",
       "      <td>0.951979</td>\n",
       "      <td>0.604891</td>\n",
       "    </tr>\n",
       "  </tbody>\n",
       "</table>\n",
       "<p>95 rows × 5 columns</p>\n",
       "</div>"
      ],
      "text/plain": [
       "    max_depth  precision_score  recall_score  accuracy_score  f1_score\n",
       "0           5         0.780142      0.245536        0.942281  0.373514\n",
       "1           6         0.779221      0.267857        0.943376  0.398671\n",
       "2           7         0.794118      0.301339        0.945565  0.436893\n",
       "3           8         0.803681      0.292411        0.945409  0.428805\n",
       "4           9         0.807018      0.308036        0.946348  0.445880\n",
       "..        ...              ...           ...             ...       ...\n",
       "90         95         0.718182      0.529018        0.952448  0.609254\n",
       "91         96         0.716049      0.517857        0.951822  0.601036\n",
       "92         97         0.722045      0.504464        0.951666  0.593955\n",
       "93         98         0.711246      0.522321        0.951666  0.602317\n",
       "94         99         0.714286      0.524554        0.951979  0.604891\n",
       "\n",
       "[95 rows x 5 columns]"
      ]
     },
     "execution_count": 25,
     "metadata": {},
     "output_type": "execute_result"
    }
   ],
   "source": [
    "result_precision_score = []\n",
    "result_recall_score = []\n",
    "result_accuracy_score = []\n",
    "result_f1_score = []\n",
    "max_depth = 100\n",
    "\n",
    "for i in range(5, max_depth):\n",
    "    classifier = DecisionTreeClassifier(random_state=55, max_depth=i)\n",
    "\n",
    "    model = classifier.fit(X_train, y_train)\n",
    "\n",
    "    y_pred = model.predict(X_test)\n",
    "    \n",
    "    result_precision_score.append(metrics.precision_score(y_test, y_pred))\n",
    "    result_recall_score.append(metrics.recall_score(y_test, y_pred))\n",
    "    result_accuracy_score.append(metrics.accuracy_score(y_test, y_pred))\n",
    "    result_f1_score.append(metrics.f1_score(y_test, y_pred))\n",
    "\n",
    "\n",
    "#print(len([i for i in range(5, max_depth)]), len(result_precision_score),len(result_recall_score),len(result_accuracy_score),len(result_f1_score))\n",
    "\n",
    "\n",
    "result_data = {\n",
    "    \"max_depth\": [i for i in range(5, max_depth)],\n",
    "    \"precision_score\": result_precision_score,\n",
    "    \"recall_score\": result_recall_score,\n",
    "    \"accuracy_score\": result_accuracy_score,\n",
    "    \"f1_score\": result_f1_score\n",
    "}\n",
    "df = pd.DataFrame(result_data)\n",
    "df"
   ]
  },
  {
   "cell_type": "code",
   "execution_count": 26,
   "metadata": {},
   "outputs": [
    {
     "data": {
      "application/vnd.plotly.v1+json": {
       "config": {
        "plotlyServerURL": "https://plot.ly"
       },
       "data": [
        {
         "hovertemplate": "variable=f1_score<br>max_depth=%{x}<br>value=%{y}<extra></extra>",
         "legendgroup": "f1_score",
         "line": {
          "color": "#636efa",
          "dash": "solid"
         },
         "marker": {
          "symbol": "circle"
         },
         "mode": "lines",
         "name": "f1_score",
         "orientation": "v",
         "showlegend": true,
         "type": "scatter",
         "x": [
          5,
          6,
          7,
          8,
          9,
          10,
          11,
          12,
          13,
          14,
          15,
          16,
          17,
          18,
          19,
          20,
          21,
          22,
          23,
          24,
          25,
          26,
          27,
          28,
          29,
          30,
          31,
          32,
          33,
          34,
          35,
          36,
          37,
          38,
          39,
          40,
          41,
          42,
          43,
          44,
          45,
          46,
          47,
          48,
          49,
          50,
          51,
          52,
          53,
          54,
          55,
          56,
          57,
          58,
          59,
          60,
          61,
          62,
          63,
          64,
          65,
          66,
          67,
          68,
          69,
          70,
          71,
          72,
          73,
          74,
          75,
          76,
          77,
          78,
          79,
          80,
          81,
          82,
          83,
          84,
          85,
          86,
          87,
          88,
          89,
          90,
          91,
          92,
          93,
          94,
          95,
          96,
          97,
          98,
          99
         ],
         "xaxis": "x",
         "y": [
          0.37351443123938877,
          0.39867109634551495,
          0.4368932038834951,
          0.42880523731587566,
          0.4458804523424879,
          0.46496815286624205,
          0.46422893481717015,
          0.46984126984126984,
          0.47301587301587295,
          0.47393364928909953,
          0.49062500000000003,
          0.48513302034428796,
          0.4945904173106646,
          0.5045871559633027,
          0.516030534351145,
          0.5283582089552239,
          0.5180722891566265,
          0.5408618127786033,
          0.5392592592592592,
          0.5341246290801187,
          0.5430267062314541,
          0.5457227138643067,
          0.5339233038348083,
          0.5420289855072464,
          0.5486211901306242,
          0.5425219941348973,
          0.5465116279069767,
          0.5490753911806544,
          0.5454545454545454,
          0.546230440967283,
          0.5528913963328631,
          0.5569620253164557,
          0.5582047685834501,
          0.5589041095890411,
          0.5553997194950911,
          0.5598885793871866,
          0.5726141078838175,
          0.5726256983240223,
          0.5745856353591161,
          0.5638888888888889,
          0.56353591160221,
          0.5662482566248258,
          0.5694444444444444,
          0.565459610027855,
          0.578082191780822,
          0.5745856353591161,
          0.5773480662983425,
          0.5694635488308116,
          0.578875171467764,
          0.5784447476125512,
          0.5783783783783785,
          0.5827633378932968,
          0.578082191780822,
          0.581081081081081,
          0.5733695652173914,
          0.5798657718120805,
          0.5909712722298222,
          0.5826558265582656,
          0.5907859078590786,
          0.5849056603773585,
          0.5921938088829071,
          0.6013422818791946,
          0.5986577181208054,
          0.5915875169606514,
          0.5989304812834225,
          0.5970548862115126,
          0.5883940620782726,
          0.5858854860186419,
          0.5932885906040269,
          0.5883905013192613,
          0.601063829787234,
          0.5976095617529881,
          0.58994708994709,
          0.5917001338688086,
          0.600265604249668,
          0.588548601864181,
          0.6021220159151194,
          0.6,
          0.6005221932114881,
          0.5986754966887416,
          0.6013071895424836,
          0.5986754966887416,
          0.6149802890932984,
          0.6103038309114927,
          0.5926892950391646,
          0.5940337224383917,
          0.6023468057366363,
          0.611183355006502,
          0.5906735751295337,
          0.6023468057366363,
          0.6092544987146529,
          0.6010362694300518,
          0.5939553219448094,
          0.6023166023166023,
          0.6048906048906049
         ],
         "yaxis": "y"
        },
        {
         "hovertemplate": "variable=accuracy_score<br>max_depth=%{x}<br>value=%{y}<extra></extra>",
         "legendgroup": "accuracy_score",
         "line": {
          "color": "#EF553B",
          "dash": "solid"
         },
         "marker": {
          "symbol": "circle"
         },
         "mode": "lines",
         "name": "accuracy_score",
         "orientation": "v",
         "showlegend": true,
         "type": "scatter",
         "x": [
          5,
          6,
          7,
          8,
          9,
          10,
          11,
          12,
          13,
          14,
          15,
          16,
          17,
          18,
          19,
          20,
          21,
          22,
          23,
          24,
          25,
          26,
          27,
          28,
          29,
          30,
          31,
          32,
          33,
          34,
          35,
          36,
          37,
          38,
          39,
          40,
          41,
          42,
          43,
          44,
          45,
          46,
          47,
          48,
          49,
          50,
          51,
          52,
          53,
          54,
          55,
          56,
          57,
          58,
          59,
          60,
          61,
          62,
          63,
          64,
          65,
          66,
          67,
          68,
          69,
          70,
          71,
          72,
          73,
          74,
          75,
          76,
          77,
          78,
          79,
          80,
          81,
          82,
          83,
          84,
          85,
          86,
          87,
          88,
          89,
          90,
          91,
          92,
          93,
          94,
          95,
          96,
          97,
          98,
          99
         ],
         "xaxis": "x",
         "y": [
          0.9422806194274989,
          0.9433755670264352,
          0.9455654622243078,
          0.9454090411387455,
          0.9463475676521195,
          0.9474425152510558,
          0.9472860941654935,
          0.9477553574221805,
          0.9480681995933051,
          0.9479117785077429,
          0.9490067261066791,
          0.9485374628499922,
          0.9488503050211169,
          0.9493195682778038,
          0.9504145158767402,
          0.9505709369623025,
          0.9499452526200531,
          0.9516658845612389,
          0.9513530423901142,
          0.9508837791334271,
          0.9518223056468011,
          0.9518223056468011,
          0.9505709369623025,
          0.9505709369623025,
          0.9513530423901142,
          0.9511966213045518,
          0.9511966213045518,
          0.9504145158767402,
          0.9499452526200531,
          0.9501016737056155,
          0.9504145158767402,
          0.9507273580478649,
          0.9507273580478649,
          0.9496324104489285,
          0.9504145158767402,
          0.9505709369623025,
          0.9516658845612389,
          0.9521351478179259,
          0.9518223056468011,
          0.9508837791334271,
          0.9505709369623025,
          0.9513530423901142,
          0.9515094634756766,
          0.9511966213045518,
          0.9518223056468011,
          0.9518223056468011,
          0.9521351478179259,
          0.9510402002189895,
          0.9519787267323635,
          0.9516658845612389,
          0.9511966213045518,
          0.9522915689034882,
          0.9518223056468011,
          0.9515094634756766,
          0.9508837791334271,
          0.9510402002189895,
          0.9532300954168622,
          0.9518223056468011,
          0.9527608321601752,
          0.9518223056468011,
          0.9526044110746129,
          0.9535429375879868,
          0.9532300954168622,
          0.9529172532457375,
          0.9530736743312999,
          0.9529172532457375,
          0.9522915689034882,
          0.9513530423901142,
          0.9526044110746129,
          0.9511966213045518,
          0.9530736743312999,
          0.9526044110746129,
          0.9515094634756766,
          0.9522915689034882,
          0.9529172532457375,
          0.9516658845612389,
          0.9530736743312999,
          0.9530736743312999,
          0.9521351478179259,
          0.9526044110746129,
          0.9522915689034882,
          0.9526044110746129,
          0.9541686219302362,
          0.9538557797591115,
          0.9511966213045518,
          0.9510402002189895,
          0.9522915689034882,
          0.9532300954168622,
          0.9505709369623025,
          0.9522915689034882,
          0.9524479899890506,
          0.9518223056468011,
          0.9516658845612389,
          0.9516658845612389,
          0.9519787267323635
         ],
         "yaxis": "y"
        }
       ],
       "layout": {
        "legend": {
         "title": {
          "text": "variable"
         },
         "tracegroupgap": 0
        },
        "template": {
         "data": {
          "bar": [
           {
            "error_x": {
             "color": "#2a3f5f"
            },
            "error_y": {
             "color": "#2a3f5f"
            },
            "marker": {
             "line": {
              "color": "#E5ECF6",
              "width": 0.5
             },
             "pattern": {
              "fillmode": "overlay",
              "size": 10,
              "solidity": 0.2
             }
            },
            "type": "bar"
           }
          ],
          "barpolar": [
           {
            "marker": {
             "line": {
              "color": "#E5ECF6",
              "width": 0.5
             },
             "pattern": {
              "fillmode": "overlay",
              "size": 10,
              "solidity": 0.2
             }
            },
            "type": "barpolar"
           }
          ],
          "carpet": [
           {
            "aaxis": {
             "endlinecolor": "#2a3f5f",
             "gridcolor": "white",
             "linecolor": "white",
             "minorgridcolor": "white",
             "startlinecolor": "#2a3f5f"
            },
            "baxis": {
             "endlinecolor": "#2a3f5f",
             "gridcolor": "white",
             "linecolor": "white",
             "minorgridcolor": "white",
             "startlinecolor": "#2a3f5f"
            },
            "type": "carpet"
           }
          ],
          "choropleth": [
           {
            "colorbar": {
             "outlinewidth": 0,
             "ticks": ""
            },
            "type": "choropleth"
           }
          ],
          "contour": [
           {
            "colorbar": {
             "outlinewidth": 0,
             "ticks": ""
            },
            "colorscale": [
             [
              0,
              "#0d0887"
             ],
             [
              0.1111111111111111,
              "#46039f"
             ],
             [
              0.2222222222222222,
              "#7201a8"
             ],
             [
              0.3333333333333333,
              "#9c179e"
             ],
             [
              0.4444444444444444,
              "#bd3786"
             ],
             [
              0.5555555555555556,
              "#d8576b"
             ],
             [
              0.6666666666666666,
              "#ed7953"
             ],
             [
              0.7777777777777778,
              "#fb9f3a"
             ],
             [
              0.8888888888888888,
              "#fdca26"
             ],
             [
              1,
              "#f0f921"
             ]
            ],
            "type": "contour"
           }
          ],
          "contourcarpet": [
           {
            "colorbar": {
             "outlinewidth": 0,
             "ticks": ""
            },
            "type": "contourcarpet"
           }
          ],
          "heatmap": [
           {
            "colorbar": {
             "outlinewidth": 0,
             "ticks": ""
            },
            "colorscale": [
             [
              0,
              "#0d0887"
             ],
             [
              0.1111111111111111,
              "#46039f"
             ],
             [
              0.2222222222222222,
              "#7201a8"
             ],
             [
              0.3333333333333333,
              "#9c179e"
             ],
             [
              0.4444444444444444,
              "#bd3786"
             ],
             [
              0.5555555555555556,
              "#d8576b"
             ],
             [
              0.6666666666666666,
              "#ed7953"
             ],
             [
              0.7777777777777778,
              "#fb9f3a"
             ],
             [
              0.8888888888888888,
              "#fdca26"
             ],
             [
              1,
              "#f0f921"
             ]
            ],
            "type": "heatmap"
           }
          ],
          "heatmapgl": [
           {
            "colorbar": {
             "outlinewidth": 0,
             "ticks": ""
            },
            "colorscale": [
             [
              0,
              "#0d0887"
             ],
             [
              0.1111111111111111,
              "#46039f"
             ],
             [
              0.2222222222222222,
              "#7201a8"
             ],
             [
              0.3333333333333333,
              "#9c179e"
             ],
             [
              0.4444444444444444,
              "#bd3786"
             ],
             [
              0.5555555555555556,
              "#d8576b"
             ],
             [
              0.6666666666666666,
              "#ed7953"
             ],
             [
              0.7777777777777778,
              "#fb9f3a"
             ],
             [
              0.8888888888888888,
              "#fdca26"
             ],
             [
              1,
              "#f0f921"
             ]
            ],
            "type": "heatmapgl"
           }
          ],
          "histogram": [
           {
            "marker": {
             "pattern": {
              "fillmode": "overlay",
              "size": 10,
              "solidity": 0.2
             }
            },
            "type": "histogram"
           }
          ],
          "histogram2d": [
           {
            "colorbar": {
             "outlinewidth": 0,
             "ticks": ""
            },
            "colorscale": [
             [
              0,
              "#0d0887"
             ],
             [
              0.1111111111111111,
              "#46039f"
             ],
             [
              0.2222222222222222,
              "#7201a8"
             ],
             [
              0.3333333333333333,
              "#9c179e"
             ],
             [
              0.4444444444444444,
              "#bd3786"
             ],
             [
              0.5555555555555556,
              "#d8576b"
             ],
             [
              0.6666666666666666,
              "#ed7953"
             ],
             [
              0.7777777777777778,
              "#fb9f3a"
             ],
             [
              0.8888888888888888,
              "#fdca26"
             ],
             [
              1,
              "#f0f921"
             ]
            ],
            "type": "histogram2d"
           }
          ],
          "histogram2dcontour": [
           {
            "colorbar": {
             "outlinewidth": 0,
             "ticks": ""
            },
            "colorscale": [
             [
              0,
              "#0d0887"
             ],
             [
              0.1111111111111111,
              "#46039f"
             ],
             [
              0.2222222222222222,
              "#7201a8"
             ],
             [
              0.3333333333333333,
              "#9c179e"
             ],
             [
              0.4444444444444444,
              "#bd3786"
             ],
             [
              0.5555555555555556,
              "#d8576b"
             ],
             [
              0.6666666666666666,
              "#ed7953"
             ],
             [
              0.7777777777777778,
              "#fb9f3a"
             ],
             [
              0.8888888888888888,
              "#fdca26"
             ],
             [
              1,
              "#f0f921"
             ]
            ],
            "type": "histogram2dcontour"
           }
          ],
          "mesh3d": [
           {
            "colorbar": {
             "outlinewidth": 0,
             "ticks": ""
            },
            "type": "mesh3d"
           }
          ],
          "parcoords": [
           {
            "line": {
             "colorbar": {
              "outlinewidth": 0,
              "ticks": ""
             }
            },
            "type": "parcoords"
           }
          ],
          "pie": [
           {
            "automargin": true,
            "type": "pie"
           }
          ],
          "scatter": [
           {
            "fillpattern": {
             "fillmode": "overlay",
             "size": 10,
             "solidity": 0.2
            },
            "type": "scatter"
           }
          ],
          "scatter3d": [
           {
            "line": {
             "colorbar": {
              "outlinewidth": 0,
              "ticks": ""
             }
            },
            "marker": {
             "colorbar": {
              "outlinewidth": 0,
              "ticks": ""
             }
            },
            "type": "scatter3d"
           }
          ],
          "scattercarpet": [
           {
            "marker": {
             "colorbar": {
              "outlinewidth": 0,
              "ticks": ""
             }
            },
            "type": "scattercarpet"
           }
          ],
          "scattergeo": [
           {
            "marker": {
             "colorbar": {
              "outlinewidth": 0,
              "ticks": ""
             }
            },
            "type": "scattergeo"
           }
          ],
          "scattergl": [
           {
            "marker": {
             "colorbar": {
              "outlinewidth": 0,
              "ticks": ""
             }
            },
            "type": "scattergl"
           }
          ],
          "scattermapbox": [
           {
            "marker": {
             "colorbar": {
              "outlinewidth": 0,
              "ticks": ""
             }
            },
            "type": "scattermapbox"
           }
          ],
          "scatterpolar": [
           {
            "marker": {
             "colorbar": {
              "outlinewidth": 0,
              "ticks": ""
             }
            },
            "type": "scatterpolar"
           }
          ],
          "scatterpolargl": [
           {
            "marker": {
             "colorbar": {
              "outlinewidth": 0,
              "ticks": ""
             }
            },
            "type": "scatterpolargl"
           }
          ],
          "scatterternary": [
           {
            "marker": {
             "colorbar": {
              "outlinewidth": 0,
              "ticks": ""
             }
            },
            "type": "scatterternary"
           }
          ],
          "surface": [
           {
            "colorbar": {
             "outlinewidth": 0,
             "ticks": ""
            },
            "colorscale": [
             [
              0,
              "#0d0887"
             ],
             [
              0.1111111111111111,
              "#46039f"
             ],
             [
              0.2222222222222222,
              "#7201a8"
             ],
             [
              0.3333333333333333,
              "#9c179e"
             ],
             [
              0.4444444444444444,
              "#bd3786"
             ],
             [
              0.5555555555555556,
              "#d8576b"
             ],
             [
              0.6666666666666666,
              "#ed7953"
             ],
             [
              0.7777777777777778,
              "#fb9f3a"
             ],
             [
              0.8888888888888888,
              "#fdca26"
             ],
             [
              1,
              "#f0f921"
             ]
            ],
            "type": "surface"
           }
          ],
          "table": [
           {
            "cells": {
             "fill": {
              "color": "#EBF0F8"
             },
             "line": {
              "color": "white"
             }
            },
            "header": {
             "fill": {
              "color": "#C8D4E3"
             },
             "line": {
              "color": "white"
             }
            },
            "type": "table"
           }
          ]
         },
         "layout": {
          "annotationdefaults": {
           "arrowcolor": "#2a3f5f",
           "arrowhead": 0,
           "arrowwidth": 1
          },
          "autotypenumbers": "strict",
          "coloraxis": {
           "colorbar": {
            "outlinewidth": 0,
            "ticks": ""
           }
          },
          "colorscale": {
           "diverging": [
            [
             0,
             "#8e0152"
            ],
            [
             0.1,
             "#c51b7d"
            ],
            [
             0.2,
             "#de77ae"
            ],
            [
             0.3,
             "#f1b6da"
            ],
            [
             0.4,
             "#fde0ef"
            ],
            [
             0.5,
             "#f7f7f7"
            ],
            [
             0.6,
             "#e6f5d0"
            ],
            [
             0.7,
             "#b8e186"
            ],
            [
             0.8,
             "#7fbc41"
            ],
            [
             0.9,
             "#4d9221"
            ],
            [
             1,
             "#276419"
            ]
           ],
           "sequential": [
            [
             0,
             "#0d0887"
            ],
            [
             0.1111111111111111,
             "#46039f"
            ],
            [
             0.2222222222222222,
             "#7201a8"
            ],
            [
             0.3333333333333333,
             "#9c179e"
            ],
            [
             0.4444444444444444,
             "#bd3786"
            ],
            [
             0.5555555555555556,
             "#d8576b"
            ],
            [
             0.6666666666666666,
             "#ed7953"
            ],
            [
             0.7777777777777778,
             "#fb9f3a"
            ],
            [
             0.8888888888888888,
             "#fdca26"
            ],
            [
             1,
             "#f0f921"
            ]
           ],
           "sequentialminus": [
            [
             0,
             "#0d0887"
            ],
            [
             0.1111111111111111,
             "#46039f"
            ],
            [
             0.2222222222222222,
             "#7201a8"
            ],
            [
             0.3333333333333333,
             "#9c179e"
            ],
            [
             0.4444444444444444,
             "#bd3786"
            ],
            [
             0.5555555555555556,
             "#d8576b"
            ],
            [
             0.6666666666666666,
             "#ed7953"
            ],
            [
             0.7777777777777778,
             "#fb9f3a"
            ],
            [
             0.8888888888888888,
             "#fdca26"
            ],
            [
             1,
             "#f0f921"
            ]
           ]
          },
          "colorway": [
           "#636efa",
           "#EF553B",
           "#00cc96",
           "#ab63fa",
           "#FFA15A",
           "#19d3f3",
           "#FF6692",
           "#B6E880",
           "#FF97FF",
           "#FECB52"
          ],
          "font": {
           "color": "#2a3f5f"
          },
          "geo": {
           "bgcolor": "white",
           "lakecolor": "white",
           "landcolor": "#E5ECF6",
           "showlakes": true,
           "showland": true,
           "subunitcolor": "white"
          },
          "hoverlabel": {
           "align": "left"
          },
          "hovermode": "closest",
          "mapbox": {
           "style": "light"
          },
          "paper_bgcolor": "white",
          "plot_bgcolor": "#E5ECF6",
          "polar": {
           "angularaxis": {
            "gridcolor": "white",
            "linecolor": "white",
            "ticks": ""
           },
           "bgcolor": "#E5ECF6",
           "radialaxis": {
            "gridcolor": "white",
            "linecolor": "white",
            "ticks": ""
           }
          },
          "scene": {
           "xaxis": {
            "backgroundcolor": "#E5ECF6",
            "gridcolor": "white",
            "gridwidth": 2,
            "linecolor": "white",
            "showbackground": true,
            "ticks": "",
            "zerolinecolor": "white"
           },
           "yaxis": {
            "backgroundcolor": "#E5ECF6",
            "gridcolor": "white",
            "gridwidth": 2,
            "linecolor": "white",
            "showbackground": true,
            "ticks": "",
            "zerolinecolor": "white"
           },
           "zaxis": {
            "backgroundcolor": "#E5ECF6",
            "gridcolor": "white",
            "gridwidth": 2,
            "linecolor": "white",
            "showbackground": true,
            "ticks": "",
            "zerolinecolor": "white"
           }
          },
          "shapedefaults": {
           "line": {
            "color": "#2a3f5f"
           }
          },
          "ternary": {
           "aaxis": {
            "gridcolor": "white",
            "linecolor": "white",
            "ticks": ""
           },
           "baxis": {
            "gridcolor": "white",
            "linecolor": "white",
            "ticks": ""
           },
           "bgcolor": "#E5ECF6",
           "caxis": {
            "gridcolor": "white",
            "linecolor": "white",
            "ticks": ""
           }
          },
          "title": {
           "x": 0.05
          },
          "xaxis": {
           "automargin": true,
           "gridcolor": "white",
           "linecolor": "white",
           "ticks": "",
           "title": {
            "standoff": 15
           },
           "zerolinecolor": "white",
           "zerolinewidth": 2
          },
          "yaxis": {
           "automargin": true,
           "gridcolor": "white",
           "linecolor": "white",
           "ticks": "",
           "title": {
            "standoff": 15
           },
           "zerolinecolor": "white",
           "zerolinewidth": 2
          }
         }
        },
        "title": {
         "text": "Lemmatisation results"
        },
        "xaxis": {
         "anchor": "y",
         "domain": [
          0,
          1
         ],
         "title": {
          "text": "max_depth"
         }
        },
        "yaxis": {
         "anchor": "x",
         "domain": [
          0,
          1
         ],
         "title": {
          "text": "value"
         }
        }
       }
      },
      "text/html": [
       "<div>                            <div id=\"e3f9f971-6471-403a-9e51-eb0fb90648a0\" class=\"plotly-graph-div\" style=\"height:525px; width:100%;\"></div>            <script type=\"text/javascript\">                require([\"plotly\"], function(Plotly) {                    window.PLOTLYENV=window.PLOTLYENV || {};                                    if (document.getElementById(\"e3f9f971-6471-403a-9e51-eb0fb90648a0\")) {                    Plotly.newPlot(                        \"e3f9f971-6471-403a-9e51-eb0fb90648a0\",                        [{\"hovertemplate\":\"variable=f1_score<br>max_depth=%{x}<br>value=%{y}<extra></extra>\",\"legendgroup\":\"f1_score\",\"line\":{\"color\":\"#636efa\",\"dash\":\"solid\"},\"marker\":{\"symbol\":\"circle\"},\"mode\":\"lines\",\"name\":\"f1_score\",\"orientation\":\"v\",\"showlegend\":true,\"x\":[5,6,7,8,9,10,11,12,13,14,15,16,17,18,19,20,21,22,23,24,25,26,27,28,29,30,31,32,33,34,35,36,37,38,39,40,41,42,43,44,45,46,47,48,49,50,51,52,53,54,55,56,57,58,59,60,61,62,63,64,65,66,67,68,69,70,71,72,73,74,75,76,77,78,79,80,81,82,83,84,85,86,87,88,89,90,91,92,93,94,95,96,97,98,99],\"xaxis\":\"x\",\"y\":[0.37351443123938877,0.39867109634551495,0.4368932038834951,0.42880523731587566,0.4458804523424879,0.46496815286624205,0.46422893481717015,0.46984126984126984,0.47301587301587295,0.47393364928909953,0.49062500000000003,0.48513302034428796,0.4945904173106646,0.5045871559633027,0.516030534351145,0.5283582089552239,0.5180722891566265,0.5408618127786033,0.5392592592592592,0.5341246290801187,0.5430267062314541,0.5457227138643067,0.5339233038348083,0.5420289855072464,0.5486211901306242,0.5425219941348973,0.5465116279069767,0.5490753911806544,0.5454545454545454,0.546230440967283,0.5528913963328631,0.5569620253164557,0.5582047685834501,0.5589041095890411,0.5553997194950911,0.5598885793871866,0.5726141078838175,0.5726256983240223,0.5745856353591161,0.5638888888888889,0.56353591160221,0.5662482566248258,0.5694444444444444,0.565459610027855,0.578082191780822,0.5745856353591161,0.5773480662983425,0.5694635488308116,0.578875171467764,0.5784447476125512,0.5783783783783785,0.5827633378932968,0.578082191780822,0.581081081081081,0.5733695652173914,0.5798657718120805,0.5909712722298222,0.5826558265582656,0.5907859078590786,0.5849056603773585,0.5921938088829071,0.6013422818791946,0.5986577181208054,0.5915875169606514,0.5989304812834225,0.5970548862115126,0.5883940620782726,0.5858854860186419,0.5932885906040269,0.5883905013192613,0.601063829787234,0.5976095617529881,0.58994708994709,0.5917001338688086,0.600265604249668,0.588548601864181,0.6021220159151194,0.6,0.6005221932114881,0.5986754966887416,0.6013071895424836,0.5986754966887416,0.6149802890932984,0.6103038309114927,0.5926892950391646,0.5940337224383917,0.6023468057366363,0.611183355006502,0.5906735751295337,0.6023468057366363,0.6092544987146529,0.6010362694300518,0.5939553219448094,0.6023166023166023,0.6048906048906049],\"yaxis\":\"y\",\"type\":\"scatter\"},{\"hovertemplate\":\"variable=accuracy_score<br>max_depth=%{x}<br>value=%{y}<extra></extra>\",\"legendgroup\":\"accuracy_score\",\"line\":{\"color\":\"#EF553B\",\"dash\":\"solid\"},\"marker\":{\"symbol\":\"circle\"},\"mode\":\"lines\",\"name\":\"accuracy_score\",\"orientation\":\"v\",\"showlegend\":true,\"x\":[5,6,7,8,9,10,11,12,13,14,15,16,17,18,19,20,21,22,23,24,25,26,27,28,29,30,31,32,33,34,35,36,37,38,39,40,41,42,43,44,45,46,47,48,49,50,51,52,53,54,55,56,57,58,59,60,61,62,63,64,65,66,67,68,69,70,71,72,73,74,75,76,77,78,79,80,81,82,83,84,85,86,87,88,89,90,91,92,93,94,95,96,97,98,99],\"xaxis\":\"x\",\"y\":[0.9422806194274989,0.9433755670264352,0.9455654622243078,0.9454090411387455,0.9463475676521195,0.9474425152510558,0.9472860941654935,0.9477553574221805,0.9480681995933051,0.9479117785077429,0.9490067261066791,0.9485374628499922,0.9488503050211169,0.9493195682778038,0.9504145158767402,0.9505709369623025,0.9499452526200531,0.9516658845612389,0.9513530423901142,0.9508837791334271,0.9518223056468011,0.9518223056468011,0.9505709369623025,0.9505709369623025,0.9513530423901142,0.9511966213045518,0.9511966213045518,0.9504145158767402,0.9499452526200531,0.9501016737056155,0.9504145158767402,0.9507273580478649,0.9507273580478649,0.9496324104489285,0.9504145158767402,0.9505709369623025,0.9516658845612389,0.9521351478179259,0.9518223056468011,0.9508837791334271,0.9505709369623025,0.9513530423901142,0.9515094634756766,0.9511966213045518,0.9518223056468011,0.9518223056468011,0.9521351478179259,0.9510402002189895,0.9519787267323635,0.9516658845612389,0.9511966213045518,0.9522915689034882,0.9518223056468011,0.9515094634756766,0.9508837791334271,0.9510402002189895,0.9532300954168622,0.9518223056468011,0.9527608321601752,0.9518223056468011,0.9526044110746129,0.9535429375879868,0.9532300954168622,0.9529172532457375,0.9530736743312999,0.9529172532457375,0.9522915689034882,0.9513530423901142,0.9526044110746129,0.9511966213045518,0.9530736743312999,0.9526044110746129,0.9515094634756766,0.9522915689034882,0.9529172532457375,0.9516658845612389,0.9530736743312999,0.9530736743312999,0.9521351478179259,0.9526044110746129,0.9522915689034882,0.9526044110746129,0.9541686219302362,0.9538557797591115,0.9511966213045518,0.9510402002189895,0.9522915689034882,0.9532300954168622,0.9505709369623025,0.9522915689034882,0.9524479899890506,0.9518223056468011,0.9516658845612389,0.9516658845612389,0.9519787267323635],\"yaxis\":\"y\",\"type\":\"scatter\"}],                        {\"template\":{\"data\":{\"histogram2dcontour\":[{\"type\":\"histogram2dcontour\",\"colorbar\":{\"outlinewidth\":0,\"ticks\":\"\"},\"colorscale\":[[0.0,\"#0d0887\"],[0.1111111111111111,\"#46039f\"],[0.2222222222222222,\"#7201a8\"],[0.3333333333333333,\"#9c179e\"],[0.4444444444444444,\"#bd3786\"],[0.5555555555555556,\"#d8576b\"],[0.6666666666666666,\"#ed7953\"],[0.7777777777777778,\"#fb9f3a\"],[0.8888888888888888,\"#fdca26\"],[1.0,\"#f0f921\"]]}],\"choropleth\":[{\"type\":\"choropleth\",\"colorbar\":{\"outlinewidth\":0,\"ticks\":\"\"}}],\"histogram2d\":[{\"type\":\"histogram2d\",\"colorbar\":{\"outlinewidth\":0,\"ticks\":\"\"},\"colorscale\":[[0.0,\"#0d0887\"],[0.1111111111111111,\"#46039f\"],[0.2222222222222222,\"#7201a8\"],[0.3333333333333333,\"#9c179e\"],[0.4444444444444444,\"#bd3786\"],[0.5555555555555556,\"#d8576b\"],[0.6666666666666666,\"#ed7953\"],[0.7777777777777778,\"#fb9f3a\"],[0.8888888888888888,\"#fdca26\"],[1.0,\"#f0f921\"]]}],\"heatmap\":[{\"type\":\"heatmap\",\"colorbar\":{\"outlinewidth\":0,\"ticks\":\"\"},\"colorscale\":[[0.0,\"#0d0887\"],[0.1111111111111111,\"#46039f\"],[0.2222222222222222,\"#7201a8\"],[0.3333333333333333,\"#9c179e\"],[0.4444444444444444,\"#bd3786\"],[0.5555555555555556,\"#d8576b\"],[0.6666666666666666,\"#ed7953\"],[0.7777777777777778,\"#fb9f3a\"],[0.8888888888888888,\"#fdca26\"],[1.0,\"#f0f921\"]]}],\"heatmapgl\":[{\"type\":\"heatmapgl\",\"colorbar\":{\"outlinewidth\":0,\"ticks\":\"\"},\"colorscale\":[[0.0,\"#0d0887\"],[0.1111111111111111,\"#46039f\"],[0.2222222222222222,\"#7201a8\"],[0.3333333333333333,\"#9c179e\"],[0.4444444444444444,\"#bd3786\"],[0.5555555555555556,\"#d8576b\"],[0.6666666666666666,\"#ed7953\"],[0.7777777777777778,\"#fb9f3a\"],[0.8888888888888888,\"#fdca26\"],[1.0,\"#f0f921\"]]}],\"contourcarpet\":[{\"type\":\"contourcarpet\",\"colorbar\":{\"outlinewidth\":0,\"ticks\":\"\"}}],\"contour\":[{\"type\":\"contour\",\"colorbar\":{\"outlinewidth\":0,\"ticks\":\"\"},\"colorscale\":[[0.0,\"#0d0887\"],[0.1111111111111111,\"#46039f\"],[0.2222222222222222,\"#7201a8\"],[0.3333333333333333,\"#9c179e\"],[0.4444444444444444,\"#bd3786\"],[0.5555555555555556,\"#d8576b\"],[0.6666666666666666,\"#ed7953\"],[0.7777777777777778,\"#fb9f3a\"],[0.8888888888888888,\"#fdca26\"],[1.0,\"#f0f921\"]]}],\"surface\":[{\"type\":\"surface\",\"colorbar\":{\"outlinewidth\":0,\"ticks\":\"\"},\"colorscale\":[[0.0,\"#0d0887\"],[0.1111111111111111,\"#46039f\"],[0.2222222222222222,\"#7201a8\"],[0.3333333333333333,\"#9c179e\"],[0.4444444444444444,\"#bd3786\"],[0.5555555555555556,\"#d8576b\"],[0.6666666666666666,\"#ed7953\"],[0.7777777777777778,\"#fb9f3a\"],[0.8888888888888888,\"#fdca26\"],[1.0,\"#f0f921\"]]}],\"mesh3d\":[{\"type\":\"mesh3d\",\"colorbar\":{\"outlinewidth\":0,\"ticks\":\"\"}}],\"scatter\":[{\"fillpattern\":{\"fillmode\":\"overlay\",\"size\":10,\"solidity\":0.2},\"type\":\"scatter\"}],\"parcoords\":[{\"type\":\"parcoords\",\"line\":{\"colorbar\":{\"outlinewidth\":0,\"ticks\":\"\"}}}],\"scatterpolargl\":[{\"type\":\"scatterpolargl\",\"marker\":{\"colorbar\":{\"outlinewidth\":0,\"ticks\":\"\"}}}],\"bar\":[{\"error_x\":{\"color\":\"#2a3f5f\"},\"error_y\":{\"color\":\"#2a3f5f\"},\"marker\":{\"line\":{\"color\":\"#E5ECF6\",\"width\":0.5},\"pattern\":{\"fillmode\":\"overlay\",\"size\":10,\"solidity\":0.2}},\"type\":\"bar\"}],\"scattergeo\":[{\"type\":\"scattergeo\",\"marker\":{\"colorbar\":{\"outlinewidth\":0,\"ticks\":\"\"}}}],\"scatterpolar\":[{\"type\":\"scatterpolar\",\"marker\":{\"colorbar\":{\"outlinewidth\":0,\"ticks\":\"\"}}}],\"histogram\":[{\"marker\":{\"pattern\":{\"fillmode\":\"overlay\",\"size\":10,\"solidity\":0.2}},\"type\":\"histogram\"}],\"scattergl\":[{\"type\":\"scattergl\",\"marker\":{\"colorbar\":{\"outlinewidth\":0,\"ticks\":\"\"}}}],\"scatter3d\":[{\"type\":\"scatter3d\",\"line\":{\"colorbar\":{\"outlinewidth\":0,\"ticks\":\"\"}},\"marker\":{\"colorbar\":{\"outlinewidth\":0,\"ticks\":\"\"}}}],\"scattermapbox\":[{\"type\":\"scattermapbox\",\"marker\":{\"colorbar\":{\"outlinewidth\":0,\"ticks\":\"\"}}}],\"scatterternary\":[{\"type\":\"scatterternary\",\"marker\":{\"colorbar\":{\"outlinewidth\":0,\"ticks\":\"\"}}}],\"scattercarpet\":[{\"type\":\"scattercarpet\",\"marker\":{\"colorbar\":{\"outlinewidth\":0,\"ticks\":\"\"}}}],\"carpet\":[{\"aaxis\":{\"endlinecolor\":\"#2a3f5f\",\"gridcolor\":\"white\",\"linecolor\":\"white\",\"minorgridcolor\":\"white\",\"startlinecolor\":\"#2a3f5f\"},\"baxis\":{\"endlinecolor\":\"#2a3f5f\",\"gridcolor\":\"white\",\"linecolor\":\"white\",\"minorgridcolor\":\"white\",\"startlinecolor\":\"#2a3f5f\"},\"type\":\"carpet\"}],\"table\":[{\"cells\":{\"fill\":{\"color\":\"#EBF0F8\"},\"line\":{\"color\":\"white\"}},\"header\":{\"fill\":{\"color\":\"#C8D4E3\"},\"line\":{\"color\":\"white\"}},\"type\":\"table\"}],\"barpolar\":[{\"marker\":{\"line\":{\"color\":\"#E5ECF6\",\"width\":0.5},\"pattern\":{\"fillmode\":\"overlay\",\"size\":10,\"solidity\":0.2}},\"type\":\"barpolar\"}],\"pie\":[{\"automargin\":true,\"type\":\"pie\"}]},\"layout\":{\"autotypenumbers\":\"strict\",\"colorway\":[\"#636efa\",\"#EF553B\",\"#00cc96\",\"#ab63fa\",\"#FFA15A\",\"#19d3f3\",\"#FF6692\",\"#B6E880\",\"#FF97FF\",\"#FECB52\"],\"font\":{\"color\":\"#2a3f5f\"},\"hovermode\":\"closest\",\"hoverlabel\":{\"align\":\"left\"},\"paper_bgcolor\":\"white\",\"plot_bgcolor\":\"#E5ECF6\",\"polar\":{\"bgcolor\":\"#E5ECF6\",\"angularaxis\":{\"gridcolor\":\"white\",\"linecolor\":\"white\",\"ticks\":\"\"},\"radialaxis\":{\"gridcolor\":\"white\",\"linecolor\":\"white\",\"ticks\":\"\"}},\"ternary\":{\"bgcolor\":\"#E5ECF6\",\"aaxis\":{\"gridcolor\":\"white\",\"linecolor\":\"white\",\"ticks\":\"\"},\"baxis\":{\"gridcolor\":\"white\",\"linecolor\":\"white\",\"ticks\":\"\"},\"caxis\":{\"gridcolor\":\"white\",\"linecolor\":\"white\",\"ticks\":\"\"}},\"coloraxis\":{\"colorbar\":{\"outlinewidth\":0,\"ticks\":\"\"}},\"colorscale\":{\"sequential\":[[0.0,\"#0d0887\"],[0.1111111111111111,\"#46039f\"],[0.2222222222222222,\"#7201a8\"],[0.3333333333333333,\"#9c179e\"],[0.4444444444444444,\"#bd3786\"],[0.5555555555555556,\"#d8576b\"],[0.6666666666666666,\"#ed7953\"],[0.7777777777777778,\"#fb9f3a\"],[0.8888888888888888,\"#fdca26\"],[1.0,\"#f0f921\"]],\"sequentialminus\":[[0.0,\"#0d0887\"],[0.1111111111111111,\"#46039f\"],[0.2222222222222222,\"#7201a8\"],[0.3333333333333333,\"#9c179e\"],[0.4444444444444444,\"#bd3786\"],[0.5555555555555556,\"#d8576b\"],[0.6666666666666666,\"#ed7953\"],[0.7777777777777778,\"#fb9f3a\"],[0.8888888888888888,\"#fdca26\"],[1.0,\"#f0f921\"]],\"diverging\":[[0,\"#8e0152\"],[0.1,\"#c51b7d\"],[0.2,\"#de77ae\"],[0.3,\"#f1b6da\"],[0.4,\"#fde0ef\"],[0.5,\"#f7f7f7\"],[0.6,\"#e6f5d0\"],[0.7,\"#b8e186\"],[0.8,\"#7fbc41\"],[0.9,\"#4d9221\"],[1,\"#276419\"]]},\"xaxis\":{\"gridcolor\":\"white\",\"linecolor\":\"white\",\"ticks\":\"\",\"title\":{\"standoff\":15},\"zerolinecolor\":\"white\",\"automargin\":true,\"zerolinewidth\":2},\"yaxis\":{\"gridcolor\":\"white\",\"linecolor\":\"white\",\"ticks\":\"\",\"title\":{\"standoff\":15},\"zerolinecolor\":\"white\",\"automargin\":true,\"zerolinewidth\":2},\"scene\":{\"xaxis\":{\"backgroundcolor\":\"#E5ECF6\",\"gridcolor\":\"white\",\"linecolor\":\"white\",\"showbackground\":true,\"ticks\":\"\",\"zerolinecolor\":\"white\",\"gridwidth\":2},\"yaxis\":{\"backgroundcolor\":\"#E5ECF6\",\"gridcolor\":\"white\",\"linecolor\":\"white\",\"showbackground\":true,\"ticks\":\"\",\"zerolinecolor\":\"white\",\"gridwidth\":2},\"zaxis\":{\"backgroundcolor\":\"#E5ECF6\",\"gridcolor\":\"white\",\"linecolor\":\"white\",\"showbackground\":true,\"ticks\":\"\",\"zerolinecolor\":\"white\",\"gridwidth\":2}},\"shapedefaults\":{\"line\":{\"color\":\"#2a3f5f\"}},\"annotationdefaults\":{\"arrowcolor\":\"#2a3f5f\",\"arrowhead\":0,\"arrowwidth\":1},\"geo\":{\"bgcolor\":\"white\",\"landcolor\":\"#E5ECF6\",\"subunitcolor\":\"white\",\"showland\":true,\"showlakes\":true,\"lakecolor\":\"white\"},\"title\":{\"x\":0.05},\"mapbox\":{\"style\":\"light\"}}},\"xaxis\":{\"anchor\":\"y\",\"domain\":[0.0,1.0],\"title\":{\"text\":\"max_depth\"}},\"yaxis\":{\"anchor\":\"x\",\"domain\":[0.0,1.0],\"title\":{\"text\":\"value\"}},\"legend\":{\"title\":{\"text\":\"variable\"},\"tracegroupgap\":0},\"title\":{\"text\":\"Lemmatisation results\"}},                        {\"responsive\": true}                    ).then(function(){\n",
       "                            \n",
       "var gd = document.getElementById('e3f9f971-6471-403a-9e51-eb0fb90648a0');\n",
       "var x = new MutationObserver(function (mutations, observer) {{\n",
       "        var display = window.getComputedStyle(gd).display;\n",
       "        if (!display || display === 'none') {{\n",
       "            console.log([gd, 'removed!']);\n",
       "            Plotly.purge(gd);\n",
       "            observer.disconnect();\n",
       "        }}\n",
       "}});\n",
       "\n",
       "// Listen for the removal of the full notebook cells\n",
       "var notebookContainer = gd.closest('#notebook-container');\n",
       "if (notebookContainer) {{\n",
       "    x.observe(notebookContainer, {childList: true});\n",
       "}}\n",
       "\n",
       "// Listen for the clearing of the current output cell\n",
       "var outputEl = gd.closest('.output');\n",
       "if (outputEl) {{\n",
       "    x.observe(outputEl, {childList: true});\n",
       "}}\n",
       "\n",
       "                        })                };                });            </script>        </div>"
      ]
     },
     "metadata": {},
     "output_type": "display_data"
    }
   ],
   "source": [
    "import plotly.express as px\n",
    "\n",
    "\n",
    "fig = px.line(df, x=\"max_depth\", y= [\"f1_score\", \"accuracy_score\"], title=\"Lemmatisation results\")\n",
    "fig.show()"
   ]
  },
  {
   "cell_type": "markdown",
   "metadata": {},
   "source": [
    "[[1, 0.9278339764313276], [2, 0.9278339764313276], [3, 0.9296068411721764], [4, 0.9297111273334029], [5, 0.9311711335905726], [6, 0.9316925643967046], [7, 0.9320054228803838], [8, 0.9322139952028365], [9, 0.931275419751799], [10, 0.9327354260089686], [11, 0.932318281364063], [12, 0.9316925643967046], [13, 0.9298154134946293], [14, 0.9300239858170821], [15, 0.9292939826884973], [16, 0.9285639795599124], [17, 0.9292939826884973], [18, 0.9271039733027427], [19, 0.9248096777557618], [20, 0.9244968192720826], [21, 0.9206382313067056], [22, 0.9203253728230264], [23, 0.9161539263739702], [24, 0.9144853477943476], [25, 0.9147982062780269], [26, 0.911982479924914], [27, 0.9087496089268954], [28, 0.9072896026697257], [29, 0.9055167379288769], [30, 0.9042653039941599], [31, 0.9036395870268016], [32, 0.9040567316717072], [33, 0.9028052977369903], [34, 0.9028052977369903], [35, 0.903222442381896], [36, 0.9017624361247263], [37, 0.900928146834915], [38, 0.900928146834915], [39, 0.9011367191573678], [40, 0.9008238606736886], [41, 0.8987381374491605], [42, 0.8992595682552925], [43, 0.8989467097716133], [44, 0.8973824173532172], [45, 0.8958181249348212], [46, 0.8966524142246324], [47, 0.8961309834185004], [48, 0.8964438419021796], [49, 0.8957138387735948]]\n",
    "\n",
    "Dataset split: 0.9278339764313276"
   ]
  },
  {
   "cell_type": "markdown",
   "metadata": {},
   "source": [
    "## Try Up-sample Minority Class"
   ]
  },
  {
   "cell_type": "markdown",
   "metadata": {},
   "source": [
    "Seperate Minortity Class"
   ]
  },
  {
   "cell_type": "code",
   "execution_count": 43,
   "metadata": {},
   "outputs": [
    {
     "name": "stdout",
     "output_type": "stream",
     "text": [
      "length majority 29720\n",
      "length minority 2242\n"
     ]
    }
   ],
   "source": [
    "data_minority = train_data[train_data.label == 1]\n",
    "data_majority = train_data[train_data.label == 0]\n",
    "print(\"length majority\", len(data_majority))\n",
    "print(\"length minority\", len(data_minority))"
   ]
  },
  {
   "cell_type": "markdown",
   "metadata": {},
   "source": [
    "Upsample minority class"
   ]
  },
  {
   "cell_type": "code",
   "execution_count": 44,
   "metadata": {},
   "outputs": [],
   "source": [
    "data_minority = resample(data_minority, replace = True, n_samples=29720, random_state=55)"
   ]
  },
  {
   "cell_type": "markdown",
   "metadata": {},
   "source": [
    "Combine the classes"
   ]
  },
  {
   "cell_type": "code",
   "execution_count": 45,
   "metadata": {},
   "outputs": [
    {
     "data": {
      "text/plain": [
       "0    29720\n",
       "1    29720\n",
       "Name: label, dtype: int64"
      ]
     },
     "execution_count": 45,
     "metadata": {},
     "output_type": "execute_result"
    }
   ],
   "source": [
    "data_upsampled = pd.concat([data_majority, data_minority])\n",
    "data_upsampled.label.value_counts()"
   ]
  },
  {
   "cell_type": "code",
   "execution_count": 46,
   "metadata": {},
   "outputs": [
    {
     "data": {
      "text/html": [
       "<div>\n",
       "<style scoped>\n",
       "    .dataframe tbody tr th:only-of-type {\n",
       "        vertical-align: middle;\n",
       "    }\n",
       "\n",
       "    .dataframe tbody tr th {\n",
       "        vertical-align: top;\n",
       "    }\n",
       "\n",
       "    .dataframe thead th {\n",
       "        text-align: right;\n",
       "    }\n",
       "</style>\n",
       "<table border=\"1\" class=\"dataframe\">\n",
       "  <thead>\n",
       "    <tr style=\"text-align: right;\">\n",
       "      <th></th>\n",
       "      <th>id</th>\n",
       "      <th>label</th>\n",
       "      <th>tweet</th>\n",
       "      <th>tweet_converted_emojis</th>\n",
       "      <th>n_mentions</th>\n",
       "      <th>hashtags</th>\n",
       "      <th>without_punctuation</th>\n",
       "      <th>tweet_lower</th>\n",
       "      <th>tweet_token</th>\n",
       "      <th>clean_token</th>\n",
       "      <th>clean_hashtags</th>\n",
       "      <th>stemmed_tokens</th>\n",
       "      <th>stemmed_hashtags</th>\n",
       "      <th>lemmatized_tokens</th>\n",
       "      <th>lemmatized_hashtags</th>\n",
       "    </tr>\n",
       "  </thead>\n",
       "  <tbody>\n",
       "    <tr>\n",
       "      <th>0</th>\n",
       "      <td>1</td>\n",
       "      <td>0</td>\n",
       "      <td>@user when a father is dysfunctional and is s...</td>\n",
       "      <td>@user when a father is dysfunctional and is s...</td>\n",
       "      <td>1</td>\n",
       "      <td>['run']</td>\n",
       "      <td>user when a father is dysfunctional and is so...</td>\n",
       "      <td>user when a father is dysfunctional and is so...</td>\n",
       "      <td>['user', 'when', 'a', 'father', 'is', 'dysfunc...</td>\n",
       "      <td>['user', 'father', 'dysfunctional', 'selfish',...</td>\n",
       "      <td>['run']</td>\n",
       "      <td>['user', 'father', 'dysfunct', 'selfish', 'dra...</td>\n",
       "      <td>['run']</td>\n",
       "      <td>['user', 'father', 'dysfunctional', 'selfish',...</td>\n",
       "      <td>['run']</td>\n",
       "    </tr>\n",
       "    <tr>\n",
       "      <th>1</th>\n",
       "      <td>2</td>\n",
       "      <td>0</td>\n",
       "      <td>@user @user thanks for #lyft credit i can't us...</td>\n",
       "      <td>@user @user thanks for #lyft credit i can't us...</td>\n",
       "      <td>2</td>\n",
       "      <td>['lyft', 'disapointed', 'getthanked']</td>\n",
       "      <td>user user thanks for lyft credit i cant use ca...</td>\n",
       "      <td>user user thanks for lyft credit i cant use ca...</td>\n",
       "      <td>['user', 'user', 'thanks', 'for', 'lyft', 'cre...</td>\n",
       "      <td>['user', 'user', 'thanks', 'lyft', 'credit', '...</td>\n",
       "      <td>['lyft', 'disapointed', 'getthanked']</td>\n",
       "      <td>['user', 'user', 'thank', 'lyft', 'credit', 'c...</td>\n",
       "      <td>['lyft', 'disapoint', 'getthank']</td>\n",
       "      <td>['user', 'user', 'thanks', 'lyft', 'credit', '...</td>\n",
       "      <td>['lyft', 'disapointed', 'getthanked']</td>\n",
       "    </tr>\n",
       "    <tr>\n",
       "      <th>2</th>\n",
       "      <td>3</td>\n",
       "      <td>0</td>\n",
       "      <td>bihday your majesty</td>\n",
       "      <td>bihday your majesty</td>\n",
       "      <td>0</td>\n",
       "      <td>[]</td>\n",
       "      <td>bihday your majesty</td>\n",
       "      <td>bihday your majesty</td>\n",
       "      <td>['bihday', 'your', 'majesty']</td>\n",
       "      <td>['bihday', 'majesty']</td>\n",
       "      <td>[]</td>\n",
       "      <td>['bihday', 'majesti']</td>\n",
       "      <td>[]</td>\n",
       "      <td>['bihday', 'majesty']</td>\n",
       "      <td>[]</td>\n",
       "    </tr>\n",
       "    <tr>\n",
       "      <th>3</th>\n",
       "      <td>4</td>\n",
       "      <td>0</td>\n",
       "      <td>#model   i love u take with u all the time in ...</td>\n",
       "      <td>#model   i love u take with u all the time in ...</td>\n",
       "      <td>0</td>\n",
       "      <td>['model']</td>\n",
       "      <td>model   i love u take with u all the time in u...</td>\n",
       "      <td>model   i love u take with u all the time in u...</td>\n",
       "      <td>['model', 'i', 'love', 'u', 'take', 'with', 'u...</td>\n",
       "      <td>['model', 'love', 'u', 'take', 'u', 'time', 'u...</td>\n",
       "      <td>['model']</td>\n",
       "      <td>['model', 'love', 'u', 'take', 'u', 'time', 'u...</td>\n",
       "      <td>['model']</td>\n",
       "      <td>['model', 'love', 'u', 'take', 'u', 'time', 'u...</td>\n",
       "      <td>['model']</td>\n",
       "    </tr>\n",
       "    <tr>\n",
       "      <th>4</th>\n",
       "      <td>5</td>\n",
       "      <td>0</td>\n",
       "      <td>factsguide: society now    #motivation</td>\n",
       "      <td>factsguide: society now    #motivation</td>\n",
       "      <td>0</td>\n",
       "      <td>['motivation']</td>\n",
       "      <td>factsguide society now    motivation</td>\n",
       "      <td>factsguide society now    motivation</td>\n",
       "      <td>['factsguide', 'society', 'now', 'motivation']</td>\n",
       "      <td>['factsguide', 'society', 'motivation']</td>\n",
       "      <td>['motivation']</td>\n",
       "      <td>['factsguid', 'societi', 'motiv']</td>\n",
       "      <td>['motiv']</td>\n",
       "      <td>['factsguide', 'society', 'motivation']</td>\n",
       "      <td>['motivation']</td>\n",
       "    </tr>\n",
       "  </tbody>\n",
       "</table>\n",
       "</div>"
      ],
      "text/plain": [
       "   id  label                                              tweet  \\\n",
       "0   1      0   @user when a father is dysfunctional and is s...   \n",
       "1   2      0  @user @user thanks for #lyft credit i can't us...   \n",
       "2   3      0                                bihday your majesty   \n",
       "3   4      0  #model   i love u take with u all the time in ...   \n",
       "4   5      0             factsguide: society now    #motivation   \n",
       "\n",
       "                              tweet_converted_emojis  n_mentions  \\\n",
       "0   @user when a father is dysfunctional and is s...           1   \n",
       "1  @user @user thanks for #lyft credit i can't us...           2   \n",
       "2                                bihday your majesty           0   \n",
       "3  #model   i love u take with u all the time in ...           0   \n",
       "4             factsguide: society now    #motivation           0   \n",
       "\n",
       "                                hashtags  \\\n",
       "0                                ['run']   \n",
       "1  ['lyft', 'disapointed', 'getthanked']   \n",
       "2                                     []   \n",
       "3                              ['model']   \n",
       "4                         ['motivation']   \n",
       "\n",
       "                                 without_punctuation  \\\n",
       "0   user when a father is dysfunctional and is so...   \n",
       "1  user user thanks for lyft credit i cant use ca...   \n",
       "2                                bihday your majesty   \n",
       "3  model   i love u take with u all the time in u...   \n",
       "4               factsguide society now    motivation   \n",
       "\n",
       "                                         tweet_lower  \\\n",
       "0   user when a father is dysfunctional and is so...   \n",
       "1  user user thanks for lyft credit i cant use ca...   \n",
       "2                                bihday your majesty   \n",
       "3  model   i love u take with u all the time in u...   \n",
       "4               factsguide society now    motivation   \n",
       "\n",
       "                                         tweet_token  \\\n",
       "0  ['user', 'when', 'a', 'father', 'is', 'dysfunc...   \n",
       "1  ['user', 'user', 'thanks', 'for', 'lyft', 'cre...   \n",
       "2                      ['bihday', 'your', 'majesty']   \n",
       "3  ['model', 'i', 'love', 'u', 'take', 'with', 'u...   \n",
       "4     ['factsguide', 'society', 'now', 'motivation']   \n",
       "\n",
       "                                         clean_token  \\\n",
       "0  ['user', 'father', 'dysfunctional', 'selfish',...   \n",
       "1  ['user', 'user', 'thanks', 'lyft', 'credit', '...   \n",
       "2                              ['bihday', 'majesty']   \n",
       "3  ['model', 'love', 'u', 'take', 'u', 'time', 'u...   \n",
       "4            ['factsguide', 'society', 'motivation']   \n",
       "\n",
       "                          clean_hashtags  \\\n",
       "0                                ['run']   \n",
       "1  ['lyft', 'disapointed', 'getthanked']   \n",
       "2                                     []   \n",
       "3                              ['model']   \n",
       "4                         ['motivation']   \n",
       "\n",
       "                                      stemmed_tokens  \\\n",
       "0  ['user', 'father', 'dysfunct', 'selfish', 'dra...   \n",
       "1  ['user', 'user', 'thank', 'lyft', 'credit', 'c...   \n",
       "2                              ['bihday', 'majesti']   \n",
       "3  ['model', 'love', 'u', 'take', 'u', 'time', 'u...   \n",
       "4                  ['factsguid', 'societi', 'motiv']   \n",
       "\n",
       "                    stemmed_hashtags  \\\n",
       "0                            ['run']   \n",
       "1  ['lyft', 'disapoint', 'getthank']   \n",
       "2                                 []   \n",
       "3                          ['model']   \n",
       "4                          ['motiv']   \n",
       "\n",
       "                                   lemmatized_tokens  \\\n",
       "0  ['user', 'father', 'dysfunctional', 'selfish',...   \n",
       "1  ['user', 'user', 'thanks', 'lyft', 'credit', '...   \n",
       "2                              ['bihday', 'majesty']   \n",
       "3  ['model', 'love', 'u', 'take', 'u', 'time', 'u...   \n",
       "4            ['factsguide', 'society', 'motivation']   \n",
       "\n",
       "                     lemmatized_hashtags  \n",
       "0                                ['run']  \n",
       "1  ['lyft', 'disapointed', 'getthanked']  \n",
       "2                                     []  \n",
       "3                              ['model']  \n",
       "4                         ['motivation']  "
      ]
     },
     "execution_count": 46,
     "metadata": {},
     "output_type": "execute_result"
    }
   ],
   "source": [
    "data_upsampled.head()"
   ]
  },
  {
   "cell_type": "code",
   "execution_count": 47,
   "metadata": {},
   "outputs": [
    {
     "data": {
      "text/html": [
       "<div>\n",
       "<style scoped>\n",
       "    .dataframe tbody tr th:only-of-type {\n",
       "        vertical-align: middle;\n",
       "    }\n",
       "\n",
       "    .dataframe tbody tr th {\n",
       "        vertical-align: top;\n",
       "    }\n",
       "\n",
       "    .dataframe thead th {\n",
       "        text-align: right;\n",
       "    }\n",
       "</style>\n",
       "<table border=\"1\" class=\"dataframe\">\n",
       "  <thead>\n",
       "    <tr style=\"text-align: right;\">\n",
       "      <th></th>\n",
       "      <th>lemmatized_tokens</th>\n",
       "      <th>lemmatized_hashtags</th>\n",
       "      <th>n_mentions</th>\n",
       "    </tr>\n",
       "  </thead>\n",
       "  <tbody>\n",
       "    <tr>\n",
       "      <th>0</th>\n",
       "      <td>['user', 'father', 'dysfunctional', 'selfish',...</td>\n",
       "      <td>['run']</td>\n",
       "      <td>1</td>\n",
       "    </tr>\n",
       "    <tr>\n",
       "      <th>1</th>\n",
       "      <td>['user', 'user', 'thanks', 'lyft', 'credit', '...</td>\n",
       "      <td>['lyft', 'disapointed', 'getthanked']</td>\n",
       "      <td>2</td>\n",
       "    </tr>\n",
       "    <tr>\n",
       "      <th>2</th>\n",
       "      <td>['bihday', 'majesty']</td>\n",
       "      <td>[]</td>\n",
       "      <td>0</td>\n",
       "    </tr>\n",
       "    <tr>\n",
       "      <th>3</th>\n",
       "      <td>['model', 'love', 'u', 'take', 'u', 'time', 'u...</td>\n",
       "      <td>['model']</td>\n",
       "      <td>0</td>\n",
       "    </tr>\n",
       "    <tr>\n",
       "      <th>4</th>\n",
       "      <td>['factsguide', 'society', 'motivation']</td>\n",
       "      <td>['motivation']</td>\n",
       "      <td>0</td>\n",
       "    </tr>\n",
       "  </tbody>\n",
       "</table>\n",
       "</div>"
      ],
      "text/plain": [
       "                                   lemmatized_tokens  \\\n",
       "0  ['user', 'father', 'dysfunctional', 'selfish',...   \n",
       "1  ['user', 'user', 'thanks', 'lyft', 'credit', '...   \n",
       "2                              ['bihday', 'majesty']   \n",
       "3  ['model', 'love', 'u', 'take', 'u', 'time', 'u...   \n",
       "4            ['factsguide', 'society', 'motivation']   \n",
       "\n",
       "                     lemmatized_hashtags  n_mentions  \n",
       "0                                ['run']           1  \n",
       "1  ['lyft', 'disapointed', 'getthanked']           2  \n",
       "2                                     []           0  \n",
       "3                              ['model']           0  \n",
       "4                         ['motivation']           0  "
      ]
     },
     "execution_count": 47,
     "metadata": {},
     "output_type": "execute_result"
    }
   ],
   "source": [
    "features = [\"lemmatized_tokens\", \"lemmatized_hashtags\", \"n_mentions\"]\n",
    "\n",
    "X_upsampled = data_upsampled[features]\n",
    "y_upsampled = data_upsampled.label\n",
    "\n",
    "X.head()"
   ]
  },
  {
   "cell_type": "markdown",
   "metadata": {},
   "source": [
    "### Using TF-IDF Vectorizer"
   ]
  },
  {
   "cell_type": "code",
   "execution_count": 48,
   "metadata": {},
   "outputs": [
    {
     "data": {
      "text/plain": [
       "(59440, 3)"
      ]
     },
     "execution_count": 48,
     "metadata": {},
     "output_type": "execute_result"
    }
   ],
   "source": [
    "X_upsampled.shape"
   ]
  },
  {
   "cell_type": "code",
   "execution_count": 49,
   "metadata": {},
   "outputs": [],
   "source": [
    "tf = TfidfVectorizer()\n",
    "\n",
    "X_vec = tf.fit(X_upsampled[\"lemmatized_tokens\"])\n",
    "X_lem_up = X_vec.transform(X_upsampled[\"lemmatized_tokens\"])"
   ]
  },
  {
   "cell_type": "code",
   "execution_count": 50,
   "metadata": {},
   "outputs": [
    {
     "data": {
      "text/plain": [
       "(59440, 40632)"
      ]
     },
     "execution_count": 50,
     "metadata": {},
     "output_type": "execute_result"
    }
   ],
   "source": [
    "X_lem_up.shape"
   ]
  },
  {
   "cell_type": "markdown",
   "metadata": {},
   "source": [
    "## Split data"
   ]
  },
  {
   "cell_type": "code",
   "execution_count": 53,
   "metadata": {},
   "outputs": [],
   "source": [
    "X_train_up, X_test_up, y_train_up, y_test_up = train_test_split(X_lem_up, y_upsampled, test_size=0.2, random_state = 17, stratify=y_upsampled)"
   ]
  },
  {
   "cell_type": "code",
   "execution_count": 54,
   "metadata": {},
   "outputs": [
    {
     "name": "stdout",
     "output_type": "stream",
     "text": [
      "Shape X_train (47552, 40632)\n",
      "Shape X_test (11888, 40632)\n"
     ]
    }
   ],
   "source": [
    "print(f\"Shape X_train {X_train_up.shape}\")\n",
    "print(f\"Shape X_test {X_test_up.shape}\")"
   ]
  },
  {
   "cell_type": "markdown",
   "metadata": {},
   "source": [
    "## Fitting model"
   ]
  },
  {
   "cell_type": "code",
   "execution_count": 58,
   "metadata": {},
   "outputs": [
    {
     "data": {
      "text/html": [
       "<div>\n",
       "<style scoped>\n",
       "    .dataframe tbody tr th:only-of-type {\n",
       "        vertical-align: middle;\n",
       "    }\n",
       "\n",
       "    .dataframe tbody tr th {\n",
       "        vertical-align: top;\n",
       "    }\n",
       "\n",
       "    .dataframe thead th {\n",
       "        text-align: right;\n",
       "    }\n",
       "</style>\n",
       "<table border=\"1\" class=\"dataframe\">\n",
       "  <thead>\n",
       "    <tr style=\"text-align: right;\">\n",
       "      <th></th>\n",
       "      <th>max_depth</th>\n",
       "      <th>precision_score</th>\n",
       "      <th>recall_score</th>\n",
       "      <th>accuracy_score</th>\n",
       "      <th>f1_score</th>\n",
       "    </tr>\n",
       "  </thead>\n",
       "  <tbody>\n",
       "    <tr>\n",
       "      <th>0</th>\n",
       "      <td>5</td>\n",
       "      <td>0.712679</td>\n",
       "      <td>0.661003</td>\n",
       "      <td>0.697258</td>\n",
       "      <td>0.685869</td>\n",
       "    </tr>\n",
       "    <tr>\n",
       "      <th>1</th>\n",
       "      <td>6</td>\n",
       "      <td>0.718378</td>\n",
       "      <td>0.679341</td>\n",
       "      <td>0.706511</td>\n",
       "      <td>0.698314</td>\n",
       "    </tr>\n",
       "    <tr>\n",
       "      <th>2</th>\n",
       "      <td>7</td>\n",
       "      <td>0.735017</td>\n",
       "      <td>0.695323</td>\n",
       "      <td>0.722325</td>\n",
       "      <td>0.714619</td>\n",
       "    </tr>\n",
       "    <tr>\n",
       "      <th>3</th>\n",
       "      <td>8</td>\n",
       "      <td>0.745266</td>\n",
       "      <td>0.715175</td>\n",
       "      <td>0.735363</td>\n",
       "      <td>0.729911</td>\n",
       "    </tr>\n",
       "    <tr>\n",
       "      <th>4</th>\n",
       "      <td>9</td>\n",
       "      <td>0.750129</td>\n",
       "      <td>0.735868</td>\n",
       "      <td>0.745373</td>\n",
       "      <td>0.742930</td>\n",
       "    </tr>\n",
       "    <tr>\n",
       "      <th>...</th>\n",
       "      <td>...</td>\n",
       "      <td>...</td>\n",
       "      <td>...</td>\n",
       "      <td>...</td>\n",
       "      <td>...</td>\n",
       "    </tr>\n",
       "    <tr>\n",
       "      <th>90</th>\n",
       "      <td>95</td>\n",
       "      <td>0.935266</td>\n",
       "      <td>0.906629</td>\n",
       "      <td>0.921938</td>\n",
       "      <td>0.920724</td>\n",
       "    </tr>\n",
       "    <tr>\n",
       "      <th>91</th>\n",
       "      <td>96</td>\n",
       "      <td>0.923417</td>\n",
       "      <td>0.914872</td>\n",
       "      <td>0.919499</td>\n",
       "      <td>0.919124</td>\n",
       "    </tr>\n",
       "    <tr>\n",
       "      <th>92</th>\n",
       "      <td>97</td>\n",
       "      <td>0.915602</td>\n",
       "      <td>0.916218</td>\n",
       "      <td>0.915882</td>\n",
       "      <td>0.915910</td>\n",
       "    </tr>\n",
       "    <tr>\n",
       "      <th>93</th>\n",
       "      <td>98</td>\n",
       "      <td>0.914252</td>\n",
       "      <td>0.918405</td>\n",
       "      <td>0.916134</td>\n",
       "      <td>0.916324</td>\n",
       "    </tr>\n",
       "    <tr>\n",
       "      <th>94</th>\n",
       "      <td>99</td>\n",
       "      <td>0.931182</td>\n",
       "      <td>0.912853</td>\n",
       "      <td>0.922695</td>\n",
       "      <td>0.921927</td>\n",
       "    </tr>\n",
       "  </tbody>\n",
       "</table>\n",
       "<p>95 rows × 5 columns</p>\n",
       "</div>"
      ],
      "text/plain": [
       "    max_depth  precision_score  recall_score  accuracy_score  f1_score\n",
       "0           5         0.712679      0.661003        0.697258  0.685869\n",
       "1           6         0.718378      0.679341        0.706511  0.698314\n",
       "2           7         0.735017      0.695323        0.722325  0.714619\n",
       "3           8         0.745266      0.715175        0.735363  0.729911\n",
       "4           9         0.750129      0.735868        0.745373  0.742930\n",
       "..        ...              ...           ...             ...       ...\n",
       "90         95         0.935266      0.906629        0.921938  0.920724\n",
       "91         96         0.923417      0.914872        0.919499  0.919124\n",
       "92         97         0.915602      0.916218        0.915882  0.915910\n",
       "93         98         0.914252      0.918405        0.916134  0.916324\n",
       "94         99         0.931182      0.912853        0.922695  0.921927\n",
       "\n",
       "[95 rows x 5 columns]"
      ]
     },
     "execution_count": 58,
     "metadata": {},
     "output_type": "execute_result"
    }
   ],
   "source": [
    "result_precision_score = []\n",
    "result_recall_score = []\n",
    "result_accuracy_score = []\n",
    "result_f1_score = []\n",
    "max_depth = 100\n",
    "\n",
    "for i in range(5, max_depth):\n",
    "    classifier = DecisionTreeClassifier(random_state=55, max_depth=i)\n",
    "\n",
    "    model = classifier.fit(X_train_up, y_train_up)\n",
    "\n",
    "    y_pred = model.predict(X_test_up)\n",
    "    \n",
    "    result_precision_score.append(metrics.precision_score(y_test_up, y_pred))\n",
    "    result_recall_score.append(metrics.recall_score(y_test_up, y_pred))\n",
    "    result_accuracy_score.append(metrics.accuracy_score(y_test_up, y_pred))\n",
    "    result_f1_score.append(metrics.f1_score(y_test_up, y_pred))\n",
    "\n",
    "\n",
    "#print(len([i for i in range(5, max_depth)]), len(result_precision_score),len(result_recall_score),len(result_accuracy_score),len(result_f1_score))\n",
    "\n",
    "\n",
    "result_data = {\n",
    "    \"max_depth\": [i for i in range(5, max_depth)],\n",
    "    \"precision_score\": result_precision_score,\n",
    "    \"recall_score\": result_recall_score,\n",
    "    \"accuracy_score\": result_accuracy_score,\n",
    "    \"f1_score\": result_f1_score\n",
    "}\n",
    "df_upsampled = pd.DataFrame(result_data)\n",
    "df_upsampled"
   ]
  },
  {
   "cell_type": "code",
   "execution_count": 59,
   "metadata": {},
   "outputs": [
    {
     "data": {
      "application/vnd.plotly.v1+json": {
       "config": {
        "plotlyServerURL": "https://plot.ly"
       },
       "data": [
        {
         "hovertemplate": "variable=f1_score<br>max_depth=%{x}<br>value=%{y}<extra></extra>",
         "legendgroup": "f1_score",
         "line": {
          "color": "#636efa",
          "dash": "solid"
         },
         "marker": {
          "symbol": "circle"
         },
         "mode": "lines",
         "name": "f1_score",
         "orientation": "v",
         "showlegend": true,
         "type": "scatter",
         "x": [
          5,
          6,
          7,
          8,
          9,
          10,
          11,
          12,
          13,
          14,
          15,
          16,
          17,
          18,
          19,
          20,
          21,
          22,
          23,
          24,
          25,
          26,
          27,
          28,
          29,
          30,
          31,
          32,
          33,
          34,
          35,
          36,
          37,
          38,
          39,
          40,
          41,
          42,
          43,
          44,
          45,
          46,
          47,
          48,
          49,
          50,
          51,
          52,
          53,
          54,
          55,
          56,
          57,
          58,
          59,
          60,
          61,
          62,
          63,
          64,
          65,
          66,
          67,
          68,
          69,
          70,
          71,
          72,
          73,
          74,
          75,
          76,
          77,
          78,
          79,
          80,
          81,
          82,
          83,
          84,
          85,
          86,
          87,
          88,
          89,
          90,
          91,
          92,
          93,
          94,
          95,
          96,
          97,
          98,
          99
         ],
         "xaxis": "x",
         "y": [
          0.6858689011084925,
          0.698313878080415,
          0.7146191752399067,
          0.7299107142857143,
          0.7429299363057326,
          0.7538787621873676,
          0.7560394692072133,
          0.7577766445690973,
          0.7602827216213915,
          0.7622044565402278,
          0.7671348789981384,
          0.7691006007276419,
          0.7738075172762514,
          0.7797349438013755,
          0.7822668339606859,
          0.7856429047301798,
          0.7888049165351715,
          0.7920479121610381,
          0.7962210988646722,
          0.799669011170873,
          0.8016194331983806,
          0.8047288359788359,
          0.8070059484467943,
          0.8093540094535201,
          0.8123133089943578,
          0.8151768701847404,
          0.819555112881806,
          0.8216951401559129,
          0.8246893123446563,
          0.82764321732661,
          0.8299049979347378,
          0.8307794251635883,
          0.8340777502067824,
          0.8361712679781782,
          0.8369520350037151,
          0.8382413593994885,
          0.8396506262359921,
          0.8429137760158573,
          0.8439020367774388,
          0.8455324760962744,
          0.8467357342542345,
          0.848534738228515,
          0.8496667489508762,
          0.8515258698692111,
          0.8523512002630714,
          0.8536244971677203,
          0.855617608409987,
          0.8554325543255433,
          0.8569319114027891,
          0.8560674249243105,
          0.8591144335825187,
          0.8610130531155077,
          0.860913039914761,
          0.8617779598525194,
          0.8632268632268632,
          0.8634541438272111,
          0.8655861165684348,
          0.8674916004261246,
          0.8680140741346861,
          0.867995425584055,
          0.8700204498977505,
          0.8710864056241314,
          0.8642988044331965,
          0.8668870715155733,
          0.8681280445372304,
          0.8784970054967594,
          0.8724122996968385,
          0.8786216355220298,
          0.8805128205128205,
          0.8843723313407343,
          0.8848350524251982,
          0.8856534695615156,
          0.8879547014413177,
          0.8890777730556737,
          0.8900343642611683,
          0.8919962254439393,
          0.8946876328091797,
          0.8963284777238265,
          0.8985482638594109,
          0.8994664182264759,
          0.9009884117246081,
          0.9054557777024737,
          0.9034998301053347,
          0.9076714188730481,
          0.9085077650236327,
          0.9116784543729515,
          0.910795742524075,
          0.9152973064543453,
          0.9163885323063756,
          0.9205049471170249,
          0.9207244148300017,
          0.9191244823797854,
          0.9159098553649513,
          0.9163239613932019,
          0.9219267691784896
         ],
         "yaxis": "y"
        },
        {
         "hovertemplate": "variable=accuracy_score<br>max_depth=%{x}<br>value=%{y}<extra></extra>",
         "legendgroup": "accuracy_score",
         "line": {
          "color": "#EF553B",
          "dash": "solid"
         },
         "marker": {
          "symbol": "circle"
         },
         "mode": "lines",
         "name": "accuracy_score",
         "orientation": "v",
         "showlegend": true,
         "type": "scatter",
         "x": [
          5,
          6,
          7,
          8,
          9,
          10,
          11,
          12,
          13,
          14,
          15,
          16,
          17,
          18,
          19,
          20,
          21,
          22,
          23,
          24,
          25,
          26,
          27,
          28,
          29,
          30,
          31,
          32,
          33,
          34,
          35,
          36,
          37,
          38,
          39,
          40,
          41,
          42,
          43,
          44,
          45,
          46,
          47,
          48,
          49,
          50,
          51,
          52,
          53,
          54,
          55,
          56,
          57,
          58,
          59,
          60,
          61,
          62,
          63,
          64,
          65,
          66,
          67,
          68,
          69,
          70,
          71,
          72,
          73,
          74,
          75,
          76,
          77,
          78,
          79,
          80,
          81,
          82,
          83,
          84,
          85,
          86,
          87,
          88,
          89,
          90,
          91,
          92,
          93,
          94,
          95,
          96,
          97,
          98,
          99
         ],
         "xaxis": "x",
         "y": [
          0.6972577388963661,
          0.7065107671601615,
          0.7223250336473755,
          0.7353633916554508,
          0.7453734858681023,
          0.7558041722745625,
          0.7587483176312247,
          0.7602624495289367,
          0.7632065948855989,
          0.7648048452220727,
          0.7685060565275909,
          0.7704407806191117,
          0.7742261103633916,
          0.7791049798115747,
          0.7810397039030955,
          0.7834791386271871,
          0.7860868102288021,
          0.7897039030955586,
          0.7931527590847914,
          0.7963492597577388,
          0.7980316285329744,
          0.8013122476446837,
          0.8034993270524899,
          0.8066117092866757,
          0.8097240915208613,
          0.8123317631224765,
          0.8171265141318977,
          0.8191453566621804,
          0.8220053835800808,
          0.8246130551816958,
          0.826800134589502,
          0.8281460296096904,
          0.8312584118438762,
          0.8332772543741588,
          0.8338660834454913,
          0.8350437415881561,
          0.8363055181695828,
          0.8400067294751009,
          0.840763795423957,
          0.8423620457604307,
          0.8432032301480484,
          0.845222072678331,
          0.8463156123822342,
          0.8481662180349933,
          0.8489232839838493,
          0.8500168236877523,
          0.8521197846567967,
          0.8516991924629879,
          0.8532974427994616,
          0.852035666218035,
          0.8557368775235532,
          0.8575874831763123,
          0.8572510094212651,
          0.8580921938088829,
          0.8595222072678331,
          0.8596063257065949,
          0.8618775235531628,
          0.8639804845222072,
          0.8643169582772544,
          0.8640646029609691,
          0.866335800807537,
          0.8673452220726783,
          0.8691958277254375,
          0.8712987886944819,
          0.8724764468371468,
          0.8754205921938089,
          0.8760935397039031,
          0.8808882907133243,
          0.8824024226110363,
          0.8861036339165546,
          0.8863559892328399,
          0.887028936742934,
          0.8901413189771198,
          0.8902254374158816,
          0.892328398384926,
          0.8940948855989233,
          0.8957772543741588,
          0.8976278600269179,
          0.8994784656796769,
          0.9001514131897712,
          0.9022543741588156,
          0.9061238223418573,
          0.9044414535666218,
          0.9084791386271871,
          0.9088156123822342,
          0.9138627187079408,
          0.9111709286675639,
          0.9158815612382234,
          0.9178162853297442,
          0.9216016150740243,
          0.9219380888290714,
          0.9194986541049798,
          0.9158815612382234,
          0.9161339165545087,
          0.9226951547779273
         ],
         "yaxis": "y"
        }
       ],
       "layout": {
        "legend": {
         "title": {
          "text": "variable"
         },
         "tracegroupgap": 0
        },
        "template": {
         "data": {
          "bar": [
           {
            "error_x": {
             "color": "#2a3f5f"
            },
            "error_y": {
             "color": "#2a3f5f"
            },
            "marker": {
             "line": {
              "color": "#E5ECF6",
              "width": 0.5
             },
             "pattern": {
              "fillmode": "overlay",
              "size": 10,
              "solidity": 0.2
             }
            },
            "type": "bar"
           }
          ],
          "barpolar": [
           {
            "marker": {
             "line": {
              "color": "#E5ECF6",
              "width": 0.5
             },
             "pattern": {
              "fillmode": "overlay",
              "size": 10,
              "solidity": 0.2
             }
            },
            "type": "barpolar"
           }
          ],
          "carpet": [
           {
            "aaxis": {
             "endlinecolor": "#2a3f5f",
             "gridcolor": "white",
             "linecolor": "white",
             "minorgridcolor": "white",
             "startlinecolor": "#2a3f5f"
            },
            "baxis": {
             "endlinecolor": "#2a3f5f",
             "gridcolor": "white",
             "linecolor": "white",
             "minorgridcolor": "white",
             "startlinecolor": "#2a3f5f"
            },
            "type": "carpet"
           }
          ],
          "choropleth": [
           {
            "colorbar": {
             "outlinewidth": 0,
             "ticks": ""
            },
            "type": "choropleth"
           }
          ],
          "contour": [
           {
            "colorbar": {
             "outlinewidth": 0,
             "ticks": ""
            },
            "colorscale": [
             [
              0,
              "#0d0887"
             ],
             [
              0.1111111111111111,
              "#46039f"
             ],
             [
              0.2222222222222222,
              "#7201a8"
             ],
             [
              0.3333333333333333,
              "#9c179e"
             ],
             [
              0.4444444444444444,
              "#bd3786"
             ],
             [
              0.5555555555555556,
              "#d8576b"
             ],
             [
              0.6666666666666666,
              "#ed7953"
             ],
             [
              0.7777777777777778,
              "#fb9f3a"
             ],
             [
              0.8888888888888888,
              "#fdca26"
             ],
             [
              1,
              "#f0f921"
             ]
            ],
            "type": "contour"
           }
          ],
          "contourcarpet": [
           {
            "colorbar": {
             "outlinewidth": 0,
             "ticks": ""
            },
            "type": "contourcarpet"
           }
          ],
          "heatmap": [
           {
            "colorbar": {
             "outlinewidth": 0,
             "ticks": ""
            },
            "colorscale": [
             [
              0,
              "#0d0887"
             ],
             [
              0.1111111111111111,
              "#46039f"
             ],
             [
              0.2222222222222222,
              "#7201a8"
             ],
             [
              0.3333333333333333,
              "#9c179e"
             ],
             [
              0.4444444444444444,
              "#bd3786"
             ],
             [
              0.5555555555555556,
              "#d8576b"
             ],
             [
              0.6666666666666666,
              "#ed7953"
             ],
             [
              0.7777777777777778,
              "#fb9f3a"
             ],
             [
              0.8888888888888888,
              "#fdca26"
             ],
             [
              1,
              "#f0f921"
             ]
            ],
            "type": "heatmap"
           }
          ],
          "heatmapgl": [
           {
            "colorbar": {
             "outlinewidth": 0,
             "ticks": ""
            },
            "colorscale": [
             [
              0,
              "#0d0887"
             ],
             [
              0.1111111111111111,
              "#46039f"
             ],
             [
              0.2222222222222222,
              "#7201a8"
             ],
             [
              0.3333333333333333,
              "#9c179e"
             ],
             [
              0.4444444444444444,
              "#bd3786"
             ],
             [
              0.5555555555555556,
              "#d8576b"
             ],
             [
              0.6666666666666666,
              "#ed7953"
             ],
             [
              0.7777777777777778,
              "#fb9f3a"
             ],
             [
              0.8888888888888888,
              "#fdca26"
             ],
             [
              1,
              "#f0f921"
             ]
            ],
            "type": "heatmapgl"
           }
          ],
          "histogram": [
           {
            "marker": {
             "pattern": {
              "fillmode": "overlay",
              "size": 10,
              "solidity": 0.2
             }
            },
            "type": "histogram"
           }
          ],
          "histogram2d": [
           {
            "colorbar": {
             "outlinewidth": 0,
             "ticks": ""
            },
            "colorscale": [
             [
              0,
              "#0d0887"
             ],
             [
              0.1111111111111111,
              "#46039f"
             ],
             [
              0.2222222222222222,
              "#7201a8"
             ],
             [
              0.3333333333333333,
              "#9c179e"
             ],
             [
              0.4444444444444444,
              "#bd3786"
             ],
             [
              0.5555555555555556,
              "#d8576b"
             ],
             [
              0.6666666666666666,
              "#ed7953"
             ],
             [
              0.7777777777777778,
              "#fb9f3a"
             ],
             [
              0.8888888888888888,
              "#fdca26"
             ],
             [
              1,
              "#f0f921"
             ]
            ],
            "type": "histogram2d"
           }
          ],
          "histogram2dcontour": [
           {
            "colorbar": {
             "outlinewidth": 0,
             "ticks": ""
            },
            "colorscale": [
             [
              0,
              "#0d0887"
             ],
             [
              0.1111111111111111,
              "#46039f"
             ],
             [
              0.2222222222222222,
              "#7201a8"
             ],
             [
              0.3333333333333333,
              "#9c179e"
             ],
             [
              0.4444444444444444,
              "#bd3786"
             ],
             [
              0.5555555555555556,
              "#d8576b"
             ],
             [
              0.6666666666666666,
              "#ed7953"
             ],
             [
              0.7777777777777778,
              "#fb9f3a"
             ],
             [
              0.8888888888888888,
              "#fdca26"
             ],
             [
              1,
              "#f0f921"
             ]
            ],
            "type": "histogram2dcontour"
           }
          ],
          "mesh3d": [
           {
            "colorbar": {
             "outlinewidth": 0,
             "ticks": ""
            },
            "type": "mesh3d"
           }
          ],
          "parcoords": [
           {
            "line": {
             "colorbar": {
              "outlinewidth": 0,
              "ticks": ""
             }
            },
            "type": "parcoords"
           }
          ],
          "pie": [
           {
            "automargin": true,
            "type": "pie"
           }
          ],
          "scatter": [
           {
            "fillpattern": {
             "fillmode": "overlay",
             "size": 10,
             "solidity": 0.2
            },
            "type": "scatter"
           }
          ],
          "scatter3d": [
           {
            "line": {
             "colorbar": {
              "outlinewidth": 0,
              "ticks": ""
             }
            },
            "marker": {
             "colorbar": {
              "outlinewidth": 0,
              "ticks": ""
             }
            },
            "type": "scatter3d"
           }
          ],
          "scattercarpet": [
           {
            "marker": {
             "colorbar": {
              "outlinewidth": 0,
              "ticks": ""
             }
            },
            "type": "scattercarpet"
           }
          ],
          "scattergeo": [
           {
            "marker": {
             "colorbar": {
              "outlinewidth": 0,
              "ticks": ""
             }
            },
            "type": "scattergeo"
           }
          ],
          "scattergl": [
           {
            "marker": {
             "colorbar": {
              "outlinewidth": 0,
              "ticks": ""
             }
            },
            "type": "scattergl"
           }
          ],
          "scattermapbox": [
           {
            "marker": {
             "colorbar": {
              "outlinewidth": 0,
              "ticks": ""
             }
            },
            "type": "scattermapbox"
           }
          ],
          "scatterpolar": [
           {
            "marker": {
             "colorbar": {
              "outlinewidth": 0,
              "ticks": ""
             }
            },
            "type": "scatterpolar"
           }
          ],
          "scatterpolargl": [
           {
            "marker": {
             "colorbar": {
              "outlinewidth": 0,
              "ticks": ""
             }
            },
            "type": "scatterpolargl"
           }
          ],
          "scatterternary": [
           {
            "marker": {
             "colorbar": {
              "outlinewidth": 0,
              "ticks": ""
             }
            },
            "type": "scatterternary"
           }
          ],
          "surface": [
           {
            "colorbar": {
             "outlinewidth": 0,
             "ticks": ""
            },
            "colorscale": [
             [
              0,
              "#0d0887"
             ],
             [
              0.1111111111111111,
              "#46039f"
             ],
             [
              0.2222222222222222,
              "#7201a8"
             ],
             [
              0.3333333333333333,
              "#9c179e"
             ],
             [
              0.4444444444444444,
              "#bd3786"
             ],
             [
              0.5555555555555556,
              "#d8576b"
             ],
             [
              0.6666666666666666,
              "#ed7953"
             ],
             [
              0.7777777777777778,
              "#fb9f3a"
             ],
             [
              0.8888888888888888,
              "#fdca26"
             ],
             [
              1,
              "#f0f921"
             ]
            ],
            "type": "surface"
           }
          ],
          "table": [
           {
            "cells": {
             "fill": {
              "color": "#EBF0F8"
             },
             "line": {
              "color": "white"
             }
            },
            "header": {
             "fill": {
              "color": "#C8D4E3"
             },
             "line": {
              "color": "white"
             }
            },
            "type": "table"
           }
          ]
         },
         "layout": {
          "annotationdefaults": {
           "arrowcolor": "#2a3f5f",
           "arrowhead": 0,
           "arrowwidth": 1
          },
          "autotypenumbers": "strict",
          "coloraxis": {
           "colorbar": {
            "outlinewidth": 0,
            "ticks": ""
           }
          },
          "colorscale": {
           "diverging": [
            [
             0,
             "#8e0152"
            ],
            [
             0.1,
             "#c51b7d"
            ],
            [
             0.2,
             "#de77ae"
            ],
            [
             0.3,
             "#f1b6da"
            ],
            [
             0.4,
             "#fde0ef"
            ],
            [
             0.5,
             "#f7f7f7"
            ],
            [
             0.6,
             "#e6f5d0"
            ],
            [
             0.7,
             "#b8e186"
            ],
            [
             0.8,
             "#7fbc41"
            ],
            [
             0.9,
             "#4d9221"
            ],
            [
             1,
             "#276419"
            ]
           ],
           "sequential": [
            [
             0,
             "#0d0887"
            ],
            [
             0.1111111111111111,
             "#46039f"
            ],
            [
             0.2222222222222222,
             "#7201a8"
            ],
            [
             0.3333333333333333,
             "#9c179e"
            ],
            [
             0.4444444444444444,
             "#bd3786"
            ],
            [
             0.5555555555555556,
             "#d8576b"
            ],
            [
             0.6666666666666666,
             "#ed7953"
            ],
            [
             0.7777777777777778,
             "#fb9f3a"
            ],
            [
             0.8888888888888888,
             "#fdca26"
            ],
            [
             1,
             "#f0f921"
            ]
           ],
           "sequentialminus": [
            [
             0,
             "#0d0887"
            ],
            [
             0.1111111111111111,
             "#46039f"
            ],
            [
             0.2222222222222222,
             "#7201a8"
            ],
            [
             0.3333333333333333,
             "#9c179e"
            ],
            [
             0.4444444444444444,
             "#bd3786"
            ],
            [
             0.5555555555555556,
             "#d8576b"
            ],
            [
             0.6666666666666666,
             "#ed7953"
            ],
            [
             0.7777777777777778,
             "#fb9f3a"
            ],
            [
             0.8888888888888888,
             "#fdca26"
            ],
            [
             1,
             "#f0f921"
            ]
           ]
          },
          "colorway": [
           "#636efa",
           "#EF553B",
           "#00cc96",
           "#ab63fa",
           "#FFA15A",
           "#19d3f3",
           "#FF6692",
           "#B6E880",
           "#FF97FF",
           "#FECB52"
          ],
          "font": {
           "color": "#2a3f5f"
          },
          "geo": {
           "bgcolor": "white",
           "lakecolor": "white",
           "landcolor": "#E5ECF6",
           "showlakes": true,
           "showland": true,
           "subunitcolor": "white"
          },
          "hoverlabel": {
           "align": "left"
          },
          "hovermode": "closest",
          "mapbox": {
           "style": "light"
          },
          "paper_bgcolor": "white",
          "plot_bgcolor": "#E5ECF6",
          "polar": {
           "angularaxis": {
            "gridcolor": "white",
            "linecolor": "white",
            "ticks": ""
           },
           "bgcolor": "#E5ECF6",
           "radialaxis": {
            "gridcolor": "white",
            "linecolor": "white",
            "ticks": ""
           }
          },
          "scene": {
           "xaxis": {
            "backgroundcolor": "#E5ECF6",
            "gridcolor": "white",
            "gridwidth": 2,
            "linecolor": "white",
            "showbackground": true,
            "ticks": "",
            "zerolinecolor": "white"
           },
           "yaxis": {
            "backgroundcolor": "#E5ECF6",
            "gridcolor": "white",
            "gridwidth": 2,
            "linecolor": "white",
            "showbackground": true,
            "ticks": "",
            "zerolinecolor": "white"
           },
           "zaxis": {
            "backgroundcolor": "#E5ECF6",
            "gridcolor": "white",
            "gridwidth": 2,
            "linecolor": "white",
            "showbackground": true,
            "ticks": "",
            "zerolinecolor": "white"
           }
          },
          "shapedefaults": {
           "line": {
            "color": "#2a3f5f"
           }
          },
          "ternary": {
           "aaxis": {
            "gridcolor": "white",
            "linecolor": "white",
            "ticks": ""
           },
           "baxis": {
            "gridcolor": "white",
            "linecolor": "white",
            "ticks": ""
           },
           "bgcolor": "#E5ECF6",
           "caxis": {
            "gridcolor": "white",
            "linecolor": "white",
            "ticks": ""
           }
          },
          "title": {
           "x": 0.05
          },
          "xaxis": {
           "automargin": true,
           "gridcolor": "white",
           "linecolor": "white",
           "ticks": "",
           "title": {
            "standoff": 15
           },
           "zerolinecolor": "white",
           "zerolinewidth": 2
          },
          "yaxis": {
           "automargin": true,
           "gridcolor": "white",
           "linecolor": "white",
           "ticks": "",
           "title": {
            "standoff": 15
           },
           "zerolinecolor": "white",
           "zerolinewidth": 2
          }
         }
        },
        "title": {
         "text": "Lemmatisation results upsampeled"
        },
        "xaxis": {
         "anchor": "y",
         "domain": [
          0,
          1
         ],
         "title": {
          "text": "max_depth"
         }
        },
        "yaxis": {
         "anchor": "x",
         "domain": [
          0,
          1
         ],
         "title": {
          "text": "value"
         }
        }
       }
      },
      "text/html": [
       "<div>                            <div id=\"a1414e5f-0d1a-4931-9e5f-49ab4433dc25\" class=\"plotly-graph-div\" style=\"height:525px; width:100%;\"></div>            <script type=\"text/javascript\">                require([\"plotly\"], function(Plotly) {                    window.PLOTLYENV=window.PLOTLYENV || {};                                    if (document.getElementById(\"a1414e5f-0d1a-4931-9e5f-49ab4433dc25\")) {                    Plotly.newPlot(                        \"a1414e5f-0d1a-4931-9e5f-49ab4433dc25\",                        [{\"hovertemplate\":\"variable=f1_score<br>max_depth=%{x}<br>value=%{y}<extra></extra>\",\"legendgroup\":\"f1_score\",\"line\":{\"color\":\"#636efa\",\"dash\":\"solid\"},\"marker\":{\"symbol\":\"circle\"},\"mode\":\"lines\",\"name\":\"f1_score\",\"orientation\":\"v\",\"showlegend\":true,\"x\":[5,6,7,8,9,10,11,12,13,14,15,16,17,18,19,20,21,22,23,24,25,26,27,28,29,30,31,32,33,34,35,36,37,38,39,40,41,42,43,44,45,46,47,48,49,50,51,52,53,54,55,56,57,58,59,60,61,62,63,64,65,66,67,68,69,70,71,72,73,74,75,76,77,78,79,80,81,82,83,84,85,86,87,88,89,90,91,92,93,94,95,96,97,98,99],\"xaxis\":\"x\",\"y\":[0.6858689011084925,0.698313878080415,0.7146191752399067,0.7299107142857143,0.7429299363057326,0.7538787621873676,0.7560394692072133,0.7577766445690973,0.7602827216213915,0.7622044565402278,0.7671348789981384,0.7691006007276419,0.7738075172762514,0.7797349438013755,0.7822668339606859,0.7856429047301798,0.7888049165351715,0.7920479121610381,0.7962210988646722,0.799669011170873,0.8016194331983806,0.8047288359788359,0.8070059484467943,0.8093540094535201,0.8123133089943578,0.8151768701847404,0.819555112881806,0.8216951401559129,0.8246893123446563,0.82764321732661,0.8299049979347378,0.8307794251635883,0.8340777502067824,0.8361712679781782,0.8369520350037151,0.8382413593994885,0.8396506262359921,0.8429137760158573,0.8439020367774388,0.8455324760962744,0.8467357342542345,0.848534738228515,0.8496667489508762,0.8515258698692111,0.8523512002630714,0.8536244971677203,0.855617608409987,0.8554325543255433,0.8569319114027891,0.8560674249243105,0.8591144335825187,0.8610130531155077,0.860913039914761,0.8617779598525194,0.8632268632268632,0.8634541438272111,0.8655861165684348,0.8674916004261246,0.8680140741346861,0.867995425584055,0.8700204498977505,0.8710864056241314,0.8642988044331965,0.8668870715155733,0.8681280445372304,0.8784970054967594,0.8724122996968385,0.8786216355220298,0.8805128205128205,0.8843723313407343,0.8848350524251982,0.8856534695615156,0.8879547014413177,0.8890777730556737,0.8900343642611683,0.8919962254439393,0.8946876328091797,0.8963284777238265,0.8985482638594109,0.8994664182264759,0.9009884117246081,0.9054557777024737,0.9034998301053347,0.9076714188730481,0.9085077650236327,0.9116784543729515,0.910795742524075,0.9152973064543453,0.9163885323063756,0.9205049471170249,0.9207244148300017,0.9191244823797854,0.9159098553649513,0.9163239613932019,0.9219267691784896],\"yaxis\":\"y\",\"type\":\"scatter\"},{\"hovertemplate\":\"variable=accuracy_score<br>max_depth=%{x}<br>value=%{y}<extra></extra>\",\"legendgroup\":\"accuracy_score\",\"line\":{\"color\":\"#EF553B\",\"dash\":\"solid\"},\"marker\":{\"symbol\":\"circle\"},\"mode\":\"lines\",\"name\":\"accuracy_score\",\"orientation\":\"v\",\"showlegend\":true,\"x\":[5,6,7,8,9,10,11,12,13,14,15,16,17,18,19,20,21,22,23,24,25,26,27,28,29,30,31,32,33,34,35,36,37,38,39,40,41,42,43,44,45,46,47,48,49,50,51,52,53,54,55,56,57,58,59,60,61,62,63,64,65,66,67,68,69,70,71,72,73,74,75,76,77,78,79,80,81,82,83,84,85,86,87,88,89,90,91,92,93,94,95,96,97,98,99],\"xaxis\":\"x\",\"y\":[0.6972577388963661,0.7065107671601615,0.7223250336473755,0.7353633916554508,0.7453734858681023,0.7558041722745625,0.7587483176312247,0.7602624495289367,0.7632065948855989,0.7648048452220727,0.7685060565275909,0.7704407806191117,0.7742261103633916,0.7791049798115747,0.7810397039030955,0.7834791386271871,0.7860868102288021,0.7897039030955586,0.7931527590847914,0.7963492597577388,0.7980316285329744,0.8013122476446837,0.8034993270524899,0.8066117092866757,0.8097240915208613,0.8123317631224765,0.8171265141318977,0.8191453566621804,0.8220053835800808,0.8246130551816958,0.826800134589502,0.8281460296096904,0.8312584118438762,0.8332772543741588,0.8338660834454913,0.8350437415881561,0.8363055181695828,0.8400067294751009,0.840763795423957,0.8423620457604307,0.8432032301480484,0.845222072678331,0.8463156123822342,0.8481662180349933,0.8489232839838493,0.8500168236877523,0.8521197846567967,0.8516991924629879,0.8532974427994616,0.852035666218035,0.8557368775235532,0.8575874831763123,0.8572510094212651,0.8580921938088829,0.8595222072678331,0.8596063257065949,0.8618775235531628,0.8639804845222072,0.8643169582772544,0.8640646029609691,0.866335800807537,0.8673452220726783,0.8691958277254375,0.8712987886944819,0.8724764468371468,0.8754205921938089,0.8760935397039031,0.8808882907133243,0.8824024226110363,0.8861036339165546,0.8863559892328399,0.887028936742934,0.8901413189771198,0.8902254374158816,0.892328398384926,0.8940948855989233,0.8957772543741588,0.8976278600269179,0.8994784656796769,0.9001514131897712,0.9022543741588156,0.9061238223418573,0.9044414535666218,0.9084791386271871,0.9088156123822342,0.9138627187079408,0.9111709286675639,0.9158815612382234,0.9178162853297442,0.9216016150740243,0.9219380888290714,0.9194986541049798,0.9158815612382234,0.9161339165545087,0.9226951547779273],\"yaxis\":\"y\",\"type\":\"scatter\"}],                        {\"template\":{\"data\":{\"histogram2dcontour\":[{\"type\":\"histogram2dcontour\",\"colorbar\":{\"outlinewidth\":0,\"ticks\":\"\"},\"colorscale\":[[0.0,\"#0d0887\"],[0.1111111111111111,\"#46039f\"],[0.2222222222222222,\"#7201a8\"],[0.3333333333333333,\"#9c179e\"],[0.4444444444444444,\"#bd3786\"],[0.5555555555555556,\"#d8576b\"],[0.6666666666666666,\"#ed7953\"],[0.7777777777777778,\"#fb9f3a\"],[0.8888888888888888,\"#fdca26\"],[1.0,\"#f0f921\"]]}],\"choropleth\":[{\"type\":\"choropleth\",\"colorbar\":{\"outlinewidth\":0,\"ticks\":\"\"}}],\"histogram2d\":[{\"type\":\"histogram2d\",\"colorbar\":{\"outlinewidth\":0,\"ticks\":\"\"},\"colorscale\":[[0.0,\"#0d0887\"],[0.1111111111111111,\"#46039f\"],[0.2222222222222222,\"#7201a8\"],[0.3333333333333333,\"#9c179e\"],[0.4444444444444444,\"#bd3786\"],[0.5555555555555556,\"#d8576b\"],[0.6666666666666666,\"#ed7953\"],[0.7777777777777778,\"#fb9f3a\"],[0.8888888888888888,\"#fdca26\"],[1.0,\"#f0f921\"]]}],\"heatmap\":[{\"type\":\"heatmap\",\"colorbar\":{\"outlinewidth\":0,\"ticks\":\"\"},\"colorscale\":[[0.0,\"#0d0887\"],[0.1111111111111111,\"#46039f\"],[0.2222222222222222,\"#7201a8\"],[0.3333333333333333,\"#9c179e\"],[0.4444444444444444,\"#bd3786\"],[0.5555555555555556,\"#d8576b\"],[0.6666666666666666,\"#ed7953\"],[0.7777777777777778,\"#fb9f3a\"],[0.8888888888888888,\"#fdca26\"],[1.0,\"#f0f921\"]]}],\"heatmapgl\":[{\"type\":\"heatmapgl\",\"colorbar\":{\"outlinewidth\":0,\"ticks\":\"\"},\"colorscale\":[[0.0,\"#0d0887\"],[0.1111111111111111,\"#46039f\"],[0.2222222222222222,\"#7201a8\"],[0.3333333333333333,\"#9c179e\"],[0.4444444444444444,\"#bd3786\"],[0.5555555555555556,\"#d8576b\"],[0.6666666666666666,\"#ed7953\"],[0.7777777777777778,\"#fb9f3a\"],[0.8888888888888888,\"#fdca26\"],[1.0,\"#f0f921\"]]}],\"contourcarpet\":[{\"type\":\"contourcarpet\",\"colorbar\":{\"outlinewidth\":0,\"ticks\":\"\"}}],\"contour\":[{\"type\":\"contour\",\"colorbar\":{\"outlinewidth\":0,\"ticks\":\"\"},\"colorscale\":[[0.0,\"#0d0887\"],[0.1111111111111111,\"#46039f\"],[0.2222222222222222,\"#7201a8\"],[0.3333333333333333,\"#9c179e\"],[0.4444444444444444,\"#bd3786\"],[0.5555555555555556,\"#d8576b\"],[0.6666666666666666,\"#ed7953\"],[0.7777777777777778,\"#fb9f3a\"],[0.8888888888888888,\"#fdca26\"],[1.0,\"#f0f921\"]]}],\"surface\":[{\"type\":\"surface\",\"colorbar\":{\"outlinewidth\":0,\"ticks\":\"\"},\"colorscale\":[[0.0,\"#0d0887\"],[0.1111111111111111,\"#46039f\"],[0.2222222222222222,\"#7201a8\"],[0.3333333333333333,\"#9c179e\"],[0.4444444444444444,\"#bd3786\"],[0.5555555555555556,\"#d8576b\"],[0.6666666666666666,\"#ed7953\"],[0.7777777777777778,\"#fb9f3a\"],[0.8888888888888888,\"#fdca26\"],[1.0,\"#f0f921\"]]}],\"mesh3d\":[{\"type\":\"mesh3d\",\"colorbar\":{\"outlinewidth\":0,\"ticks\":\"\"}}],\"scatter\":[{\"fillpattern\":{\"fillmode\":\"overlay\",\"size\":10,\"solidity\":0.2},\"type\":\"scatter\"}],\"parcoords\":[{\"type\":\"parcoords\",\"line\":{\"colorbar\":{\"outlinewidth\":0,\"ticks\":\"\"}}}],\"scatterpolargl\":[{\"type\":\"scatterpolargl\",\"marker\":{\"colorbar\":{\"outlinewidth\":0,\"ticks\":\"\"}}}],\"bar\":[{\"error_x\":{\"color\":\"#2a3f5f\"},\"error_y\":{\"color\":\"#2a3f5f\"},\"marker\":{\"line\":{\"color\":\"#E5ECF6\",\"width\":0.5},\"pattern\":{\"fillmode\":\"overlay\",\"size\":10,\"solidity\":0.2}},\"type\":\"bar\"}],\"scattergeo\":[{\"type\":\"scattergeo\",\"marker\":{\"colorbar\":{\"outlinewidth\":0,\"ticks\":\"\"}}}],\"scatterpolar\":[{\"type\":\"scatterpolar\",\"marker\":{\"colorbar\":{\"outlinewidth\":0,\"ticks\":\"\"}}}],\"histogram\":[{\"marker\":{\"pattern\":{\"fillmode\":\"overlay\",\"size\":10,\"solidity\":0.2}},\"type\":\"histogram\"}],\"scattergl\":[{\"type\":\"scattergl\",\"marker\":{\"colorbar\":{\"outlinewidth\":0,\"ticks\":\"\"}}}],\"scatter3d\":[{\"type\":\"scatter3d\",\"line\":{\"colorbar\":{\"outlinewidth\":0,\"ticks\":\"\"}},\"marker\":{\"colorbar\":{\"outlinewidth\":0,\"ticks\":\"\"}}}],\"scattermapbox\":[{\"type\":\"scattermapbox\",\"marker\":{\"colorbar\":{\"outlinewidth\":0,\"ticks\":\"\"}}}],\"scatterternary\":[{\"type\":\"scatterternary\",\"marker\":{\"colorbar\":{\"outlinewidth\":0,\"ticks\":\"\"}}}],\"scattercarpet\":[{\"type\":\"scattercarpet\",\"marker\":{\"colorbar\":{\"outlinewidth\":0,\"ticks\":\"\"}}}],\"carpet\":[{\"aaxis\":{\"endlinecolor\":\"#2a3f5f\",\"gridcolor\":\"white\",\"linecolor\":\"white\",\"minorgridcolor\":\"white\",\"startlinecolor\":\"#2a3f5f\"},\"baxis\":{\"endlinecolor\":\"#2a3f5f\",\"gridcolor\":\"white\",\"linecolor\":\"white\",\"minorgridcolor\":\"white\",\"startlinecolor\":\"#2a3f5f\"},\"type\":\"carpet\"}],\"table\":[{\"cells\":{\"fill\":{\"color\":\"#EBF0F8\"},\"line\":{\"color\":\"white\"}},\"header\":{\"fill\":{\"color\":\"#C8D4E3\"},\"line\":{\"color\":\"white\"}},\"type\":\"table\"}],\"barpolar\":[{\"marker\":{\"line\":{\"color\":\"#E5ECF6\",\"width\":0.5},\"pattern\":{\"fillmode\":\"overlay\",\"size\":10,\"solidity\":0.2}},\"type\":\"barpolar\"}],\"pie\":[{\"automargin\":true,\"type\":\"pie\"}]},\"layout\":{\"autotypenumbers\":\"strict\",\"colorway\":[\"#636efa\",\"#EF553B\",\"#00cc96\",\"#ab63fa\",\"#FFA15A\",\"#19d3f3\",\"#FF6692\",\"#B6E880\",\"#FF97FF\",\"#FECB52\"],\"font\":{\"color\":\"#2a3f5f\"},\"hovermode\":\"closest\",\"hoverlabel\":{\"align\":\"left\"},\"paper_bgcolor\":\"white\",\"plot_bgcolor\":\"#E5ECF6\",\"polar\":{\"bgcolor\":\"#E5ECF6\",\"angularaxis\":{\"gridcolor\":\"white\",\"linecolor\":\"white\",\"ticks\":\"\"},\"radialaxis\":{\"gridcolor\":\"white\",\"linecolor\":\"white\",\"ticks\":\"\"}},\"ternary\":{\"bgcolor\":\"#E5ECF6\",\"aaxis\":{\"gridcolor\":\"white\",\"linecolor\":\"white\",\"ticks\":\"\"},\"baxis\":{\"gridcolor\":\"white\",\"linecolor\":\"white\",\"ticks\":\"\"},\"caxis\":{\"gridcolor\":\"white\",\"linecolor\":\"white\",\"ticks\":\"\"}},\"coloraxis\":{\"colorbar\":{\"outlinewidth\":0,\"ticks\":\"\"}},\"colorscale\":{\"sequential\":[[0.0,\"#0d0887\"],[0.1111111111111111,\"#46039f\"],[0.2222222222222222,\"#7201a8\"],[0.3333333333333333,\"#9c179e\"],[0.4444444444444444,\"#bd3786\"],[0.5555555555555556,\"#d8576b\"],[0.6666666666666666,\"#ed7953\"],[0.7777777777777778,\"#fb9f3a\"],[0.8888888888888888,\"#fdca26\"],[1.0,\"#f0f921\"]],\"sequentialminus\":[[0.0,\"#0d0887\"],[0.1111111111111111,\"#46039f\"],[0.2222222222222222,\"#7201a8\"],[0.3333333333333333,\"#9c179e\"],[0.4444444444444444,\"#bd3786\"],[0.5555555555555556,\"#d8576b\"],[0.6666666666666666,\"#ed7953\"],[0.7777777777777778,\"#fb9f3a\"],[0.8888888888888888,\"#fdca26\"],[1.0,\"#f0f921\"]],\"diverging\":[[0,\"#8e0152\"],[0.1,\"#c51b7d\"],[0.2,\"#de77ae\"],[0.3,\"#f1b6da\"],[0.4,\"#fde0ef\"],[0.5,\"#f7f7f7\"],[0.6,\"#e6f5d0\"],[0.7,\"#b8e186\"],[0.8,\"#7fbc41\"],[0.9,\"#4d9221\"],[1,\"#276419\"]]},\"xaxis\":{\"gridcolor\":\"white\",\"linecolor\":\"white\",\"ticks\":\"\",\"title\":{\"standoff\":15},\"zerolinecolor\":\"white\",\"automargin\":true,\"zerolinewidth\":2},\"yaxis\":{\"gridcolor\":\"white\",\"linecolor\":\"white\",\"ticks\":\"\",\"title\":{\"standoff\":15},\"zerolinecolor\":\"white\",\"automargin\":true,\"zerolinewidth\":2},\"scene\":{\"xaxis\":{\"backgroundcolor\":\"#E5ECF6\",\"gridcolor\":\"white\",\"linecolor\":\"white\",\"showbackground\":true,\"ticks\":\"\",\"zerolinecolor\":\"white\",\"gridwidth\":2},\"yaxis\":{\"backgroundcolor\":\"#E5ECF6\",\"gridcolor\":\"white\",\"linecolor\":\"white\",\"showbackground\":true,\"ticks\":\"\",\"zerolinecolor\":\"white\",\"gridwidth\":2},\"zaxis\":{\"backgroundcolor\":\"#E5ECF6\",\"gridcolor\":\"white\",\"linecolor\":\"white\",\"showbackground\":true,\"ticks\":\"\",\"zerolinecolor\":\"white\",\"gridwidth\":2}},\"shapedefaults\":{\"line\":{\"color\":\"#2a3f5f\"}},\"annotationdefaults\":{\"arrowcolor\":\"#2a3f5f\",\"arrowhead\":0,\"arrowwidth\":1},\"geo\":{\"bgcolor\":\"white\",\"landcolor\":\"#E5ECF6\",\"subunitcolor\":\"white\",\"showland\":true,\"showlakes\":true,\"lakecolor\":\"white\"},\"title\":{\"x\":0.05},\"mapbox\":{\"style\":\"light\"}}},\"xaxis\":{\"anchor\":\"y\",\"domain\":[0.0,1.0],\"title\":{\"text\":\"max_depth\"}},\"yaxis\":{\"anchor\":\"x\",\"domain\":[0.0,1.0],\"title\":{\"text\":\"value\"}},\"legend\":{\"title\":{\"text\":\"variable\"},\"tracegroupgap\":0},\"title\":{\"text\":\"Lemmatisation results upsampeled\"}},                        {\"responsive\": true}                    ).then(function(){\n",
       "                            \n",
       "var gd = document.getElementById('a1414e5f-0d1a-4931-9e5f-49ab4433dc25');\n",
       "var x = new MutationObserver(function (mutations, observer) {{\n",
       "        var display = window.getComputedStyle(gd).display;\n",
       "        if (!display || display === 'none') {{\n",
       "            console.log([gd, 'removed!']);\n",
       "            Plotly.purge(gd);\n",
       "            observer.disconnect();\n",
       "        }}\n",
       "}});\n",
       "\n",
       "// Listen for the removal of the full notebook cells\n",
       "var notebookContainer = gd.closest('#notebook-container');\n",
       "if (notebookContainer) {{\n",
       "    x.observe(notebookContainer, {childList: true});\n",
       "}}\n",
       "\n",
       "// Listen for the clearing of the current output cell\n",
       "var outputEl = gd.closest('.output');\n",
       "if (outputEl) {{\n",
       "    x.observe(outputEl, {childList: true});\n",
       "}}\n",
       "\n",
       "                        })                };                });            </script>        </div>"
      ]
     },
     "metadata": {},
     "output_type": "display_data"
    }
   ],
   "source": [
    "import plotly.express as px\n",
    "\n",
    "\n",
    "fig = px.line(df_upsampled, x=\"max_depth\", y= [\"f1_score\", \"accuracy_score\"], title=\"Lemmatisation results upsampeled\")\n",
    "fig.show()"
   ]
  }
 ],
 "metadata": {
  "interpreter": {
   "hash": "947cd5ef72fa4485f7ecf5a654ef12bcb7ac0faec018370a70389fc4010d0179"
  },
  "kernelspec": {
   "display_name": "Python 3.9.12 ('env': venv)",
   "language": "python",
   "name": "python3"
  },
  "language_info": {
   "codemirror_mode": {
    "name": "ipython",
    "version": 3
   },
   "file_extension": ".py",
   "mimetype": "text/x-python",
   "name": "python",
   "nbconvert_exporter": "python",
   "pygments_lexer": "ipython3",
   "version": "3.9.12"
  },
  "orig_nbformat": 4
 },
 "nbformat": 4,
 "nbformat_minor": 2
}
