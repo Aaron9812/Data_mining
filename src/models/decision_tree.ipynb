{
 "cells": [
  {
   "cell_type": "markdown",
   "metadata": {},
   "source": [
    "# Decision tree Classification"
   ]
  },
  {
   "cell_type": "markdown",
   "metadata": {},
   "source": [
    "## Preperation "
   ]
  },
  {
   "cell_type": "markdown",
   "metadata": {},
   "source": [
    "### Importing needed libraries"
   ]
  },
  {
   "cell_type": "code",
   "execution_count": 81,
   "metadata": {},
   "outputs": [
    {
     "name": "stderr",
     "output_type": "stream",
     "text": [
      "/Users/aaronsteiner/Documents/GitHub/Data_mining/env/lib/python3.9/site-packages/tqdm/auto.py:22: TqdmWarning:\n",
      "\n",
      "IProgress not found. Please update jupyter and ipywidgets. See https://ipywidgets.readthedocs.io/en/stable/user_install.html\n",
      "\n",
      "/Users/aaronsteiner/Documents/GitHub/Data_mining/src/models/preprocessing.py:18: FutureWarning:\n",
      "\n",
      "The demoji.download_codes attribute is deprecated and will be removed from demoji in a future version. It is an unused attribute as emoji codes are now distributed directly with the demoji package.\n",
      "\n",
      "[nltk_data] Downloading package punkt to\n",
      "[nltk_data]     /Users/aaronsteiner/nltk_data...\n",
      "[nltk_data]   Package punkt is already up-to-date!\n",
      "[nltk_data] Downloading package stopwords to\n",
      "[nltk_data]     /Users/aaronsteiner/nltk_data...\n",
      "[nltk_data]   Package stopwords is already up-to-date!\n",
      "[nltk_data] Downloading package wordnet to\n",
      "[nltk_data]     /Users/aaronsteiner/nltk_data...\n",
      "[nltk_data]   Package wordnet is already up-to-date!\n"
     ]
    }
   ],
   "source": [
    "import pandas as pd\n",
    "from sklearn.tree import DecisionTreeClassifier, plot_tree\n",
    "from sklearn import metrics\n",
    "from sklearn.model_selection import train_test_split\n",
    "from sklearn.utils import resample\n",
    "from sklearn.feature_extraction.text import TfidfVectorizer\n",
    "import preprocessing as pre"
   ]
  },
  {
   "cell_type": "markdown",
   "metadata": {},
   "source": [
    "### Loading Data"
   ]
  },
  {
   "cell_type": "code",
   "execution_count": null,
   "metadata": {},
   "outputs": [
    {
     "name": "stderr",
     "output_type": "stream",
     "text": [
      "Using custom data configuration default\n",
      "Reusing dataset tweets_hate_speech_detection (/Users/aaronsteiner/.cache/huggingface/datasets/tweets_hate_speech_detection/default/0.0.0/c6b6f41e91ac9113e1c032c5ecf7a49b4e1e9dc8699ded3c2d8425c9217568b2)\n",
      "100%|██████████| 1/1 [00:00<00:00, 24.09it/s]\n"
     ]
    }
   ],
   "source": [
    "tfidf, df_train, df_test = pre.setup(do_emojis=True)\n"
   ]
  },
  {
   "cell_type": "code",
   "execution_count": 84,
   "metadata": {},
   "outputs": [
    {
     "data": {
      "text/html": [
       "<div>\n",
       "<style scoped>\n",
       "    .dataframe tbody tr th:only-of-type {\n",
       "        vertical-align: middle;\n",
       "    }\n",
       "\n",
       "    .dataframe tbody tr th {\n",
       "        vertical-align: top;\n",
       "    }\n",
       "\n",
       "    .dataframe thead th {\n",
       "        text-align: right;\n",
       "    }\n",
       "</style>\n",
       "<table border=\"1\" class=\"dataframe\">\n",
       "  <thead>\n",
       "    <tr style=\"text-align: right;\">\n",
       "      <th></th>\n",
       "      <th>label</th>\n",
       "      <th>preprocessed</th>\n",
       "    </tr>\n",
       "  </thead>\n",
       "  <tbody>\n",
       "    <tr>\n",
       "      <th>30405</th>\n",
       "      <td>0</td>\n",
       "      <td>[everyon, free, your, exam, mode, wtf, badtim,...</td>\n",
       "    </tr>\n",
       "    <tr>\n",
       "      <th>27807</th>\n",
       "      <td>0</td>\n",
       "      <td>[jacksonvil, rooster, simul, want, climb, vast...</td>\n",
       "    </tr>\n",
       "    <tr>\n",
       "      <th>8660</th>\n",
       "      <td>0</td>\n",
       "      <td>[user, run, 10km, user, user, loveisal, pour, ...</td>\n",
       "    </tr>\n",
       "    <tr>\n",
       "      <th>19185</th>\n",
       "      <td>0</td>\n",
       "      <td>[user, got, prototyp, new, usb, today, think, ...</td>\n",
       "    </tr>\n",
       "    <tr>\n",
       "      <th>10355</th>\n",
       "      <td>0</td>\n",
       "      <td>[amp, healthi, fathersday, runnerdad, eathealt...</td>\n",
       "    </tr>\n",
       "  </tbody>\n",
       "</table>\n",
       "</div>"
      ],
      "text/plain": [
       "       label                                       preprocessed\n",
       "30405      0  [everyon, free, your, exam, mode, wtf, badtim,...\n",
       "27807      0  [jacksonvil, rooster, simul, want, climb, vast...\n",
       "8660       0  [user, run, 10km, user, user, loveisal, pour, ...\n",
       "19185      0  [user, got, prototyp, new, usb, today, think, ...\n",
       "10355      0  [amp, healthi, fathersday, runnerdad, eathealt..."
      ]
     },
     "execution_count": 84,
     "metadata": {},
     "output_type": "execute_result"
    }
   ],
   "source": [
    "df_train.head()"
   ]
  },
  {
   "cell_type": "code",
   "execution_count": 2,
   "metadata": {},
   "outputs": [
    {
     "data": {
      "text/html": [
       "<div>\n",
       "<style scoped>\n",
       "    .dataframe tbody tr th:only-of-type {\n",
       "        vertical-align: middle;\n",
       "    }\n",
       "\n",
       "    .dataframe tbody tr th {\n",
       "        vertical-align: top;\n",
       "    }\n",
       "\n",
       "    .dataframe thead th {\n",
       "        text-align: right;\n",
       "    }\n",
       "</style>\n",
       "<table border=\"1\" class=\"dataframe\">\n",
       "  <thead>\n",
       "    <tr style=\"text-align: right;\">\n",
       "      <th></th>\n",
       "      <th>id</th>\n",
       "      <th>label</th>\n",
       "      <th>tweet</th>\n",
       "      <th>tweet_converted_emojis</th>\n",
       "      <th>n_mentions</th>\n",
       "      <th>hashtags</th>\n",
       "      <th>without_punctuation</th>\n",
       "      <th>tweet_lower</th>\n",
       "      <th>tweet_token</th>\n",
       "      <th>clean_token</th>\n",
       "      <th>clean_hashtags</th>\n",
       "      <th>stemmed_tokens</th>\n",
       "      <th>stemmed_hashtags</th>\n",
       "      <th>lemmatized_tokens</th>\n",
       "      <th>lemmatized_hashtags</th>\n",
       "    </tr>\n",
       "  </thead>\n",
       "  <tbody>\n",
       "    <tr>\n",
       "      <th>0</th>\n",
       "      <td>1</td>\n",
       "      <td>0</td>\n",
       "      <td>@user when a father is dysfunctional and is s...</td>\n",
       "      <td>@user when a father is dysfunctional and is s...</td>\n",
       "      <td>1</td>\n",
       "      <td>['run']</td>\n",
       "      <td>user when a father is dysfunctional and is so...</td>\n",
       "      <td>user when a father is dysfunctional and is so...</td>\n",
       "      <td>['user', 'when', 'a', 'father', 'is', 'dysfunc...</td>\n",
       "      <td>['user', 'father', 'dysfunctional', 'selfish',...</td>\n",
       "      <td>['run']</td>\n",
       "      <td>['user', 'father', 'dysfunct', 'selfish', 'dra...</td>\n",
       "      <td>['run']</td>\n",
       "      <td>['user', 'father', 'dysfunctional', 'selfish',...</td>\n",
       "      <td>['run']</td>\n",
       "    </tr>\n",
       "    <tr>\n",
       "      <th>1</th>\n",
       "      <td>2</td>\n",
       "      <td>0</td>\n",
       "      <td>@user @user thanks for #lyft credit i can't us...</td>\n",
       "      <td>@user @user thanks for #lyft credit i can't us...</td>\n",
       "      <td>2</td>\n",
       "      <td>['lyft', 'disapointed', 'getthanked']</td>\n",
       "      <td>user user thanks for lyft credit i cant use ca...</td>\n",
       "      <td>user user thanks for lyft credit i cant use ca...</td>\n",
       "      <td>['user', 'user', 'thanks', 'for', 'lyft', 'cre...</td>\n",
       "      <td>['user', 'user', 'thanks', 'lyft', 'credit', '...</td>\n",
       "      <td>['lyft', 'disapointed', 'getthanked']</td>\n",
       "      <td>['user', 'user', 'thank', 'lyft', 'credit', 'c...</td>\n",
       "      <td>['lyft', 'disapoint', 'getthank']</td>\n",
       "      <td>['user', 'user', 'thanks', 'lyft', 'credit', '...</td>\n",
       "      <td>['lyft', 'disapointed', 'getthanked']</td>\n",
       "    </tr>\n",
       "    <tr>\n",
       "      <th>2</th>\n",
       "      <td>3</td>\n",
       "      <td>0</td>\n",
       "      <td>bihday your majesty</td>\n",
       "      <td>bihday your majesty</td>\n",
       "      <td>0</td>\n",
       "      <td>[]</td>\n",
       "      <td>bihday your majesty</td>\n",
       "      <td>bihday your majesty</td>\n",
       "      <td>['bihday', 'your', 'majesty']</td>\n",
       "      <td>['bihday', 'majesty']</td>\n",
       "      <td>[]</td>\n",
       "      <td>['bihday', 'majesti']</td>\n",
       "      <td>[]</td>\n",
       "      <td>['bihday', 'majesty']</td>\n",
       "      <td>[]</td>\n",
       "    </tr>\n",
       "    <tr>\n",
       "      <th>3</th>\n",
       "      <td>4</td>\n",
       "      <td>0</td>\n",
       "      <td>#model   i love u take with u all the time in ...</td>\n",
       "      <td>#model   i love u take with u all the time in ...</td>\n",
       "      <td>0</td>\n",
       "      <td>['model']</td>\n",
       "      <td>model   i love u take with u all the time in u...</td>\n",
       "      <td>model   i love u take with u all the time in u...</td>\n",
       "      <td>['model', 'i', 'love', 'u', 'take', 'with', 'u...</td>\n",
       "      <td>['model', 'love', 'u', 'take', 'u', 'time', 'u...</td>\n",
       "      <td>['model']</td>\n",
       "      <td>['model', 'love', 'u', 'take', 'u', 'time', 'u...</td>\n",
       "      <td>['model']</td>\n",
       "      <td>['model', 'love', 'u', 'take', 'u', 'time', 'u...</td>\n",
       "      <td>['model']</td>\n",
       "    </tr>\n",
       "    <tr>\n",
       "      <th>4</th>\n",
       "      <td>5</td>\n",
       "      <td>0</td>\n",
       "      <td>factsguide: society now    #motivation</td>\n",
       "      <td>factsguide: society now    #motivation</td>\n",
       "      <td>0</td>\n",
       "      <td>['motivation']</td>\n",
       "      <td>factsguide society now    motivation</td>\n",
       "      <td>factsguide society now    motivation</td>\n",
       "      <td>['factsguide', 'society', 'now', 'motivation']</td>\n",
       "      <td>['factsguide', 'society', 'motivation']</td>\n",
       "      <td>['motivation']</td>\n",
       "      <td>['factsguid', 'societi', 'motiv']</td>\n",
       "      <td>['motiv']</td>\n",
       "      <td>['factsguide', 'society', 'motivation']</td>\n",
       "      <td>['motivation']</td>\n",
       "    </tr>\n",
       "  </tbody>\n",
       "</table>\n",
       "</div>"
      ],
      "text/plain": [
       "   id  label                                              tweet  \\\n",
       "0   1      0   @user when a father is dysfunctional and is s...   \n",
       "1   2      0  @user @user thanks for #lyft credit i can't us...   \n",
       "2   3      0                                bihday your majesty   \n",
       "3   4      0  #model   i love u take with u all the time in ...   \n",
       "4   5      0             factsguide: society now    #motivation   \n",
       "\n",
       "                              tweet_converted_emojis  n_mentions  \\\n",
       "0   @user when a father is dysfunctional and is s...           1   \n",
       "1  @user @user thanks for #lyft credit i can't us...           2   \n",
       "2                                bihday your majesty           0   \n",
       "3  #model   i love u take with u all the time in ...           0   \n",
       "4             factsguide: society now    #motivation           0   \n",
       "\n",
       "                                hashtags  \\\n",
       "0                                ['run']   \n",
       "1  ['lyft', 'disapointed', 'getthanked']   \n",
       "2                                     []   \n",
       "3                              ['model']   \n",
       "4                         ['motivation']   \n",
       "\n",
       "                                 without_punctuation  \\\n",
       "0   user when a father is dysfunctional and is so...   \n",
       "1  user user thanks for lyft credit i cant use ca...   \n",
       "2                                bihday your majesty   \n",
       "3  model   i love u take with u all the time in u...   \n",
       "4               factsguide society now    motivation   \n",
       "\n",
       "                                         tweet_lower  \\\n",
       "0   user when a father is dysfunctional and is so...   \n",
       "1  user user thanks for lyft credit i cant use ca...   \n",
       "2                                bihday your majesty   \n",
       "3  model   i love u take with u all the time in u...   \n",
       "4               factsguide society now    motivation   \n",
       "\n",
       "                                         tweet_token  \\\n",
       "0  ['user', 'when', 'a', 'father', 'is', 'dysfunc...   \n",
       "1  ['user', 'user', 'thanks', 'for', 'lyft', 'cre...   \n",
       "2                      ['bihday', 'your', 'majesty']   \n",
       "3  ['model', 'i', 'love', 'u', 'take', 'with', 'u...   \n",
       "4     ['factsguide', 'society', 'now', 'motivation']   \n",
       "\n",
       "                                         clean_token  \\\n",
       "0  ['user', 'father', 'dysfunctional', 'selfish',...   \n",
       "1  ['user', 'user', 'thanks', 'lyft', 'credit', '...   \n",
       "2                              ['bihday', 'majesty']   \n",
       "3  ['model', 'love', 'u', 'take', 'u', 'time', 'u...   \n",
       "4            ['factsguide', 'society', 'motivation']   \n",
       "\n",
       "                          clean_hashtags  \\\n",
       "0                                ['run']   \n",
       "1  ['lyft', 'disapointed', 'getthanked']   \n",
       "2                                     []   \n",
       "3                              ['model']   \n",
       "4                         ['motivation']   \n",
       "\n",
       "                                      stemmed_tokens  \\\n",
       "0  ['user', 'father', 'dysfunct', 'selfish', 'dra...   \n",
       "1  ['user', 'user', 'thank', 'lyft', 'credit', 'c...   \n",
       "2                              ['bihday', 'majesti']   \n",
       "3  ['model', 'love', 'u', 'take', 'u', 'time', 'u...   \n",
       "4                  ['factsguid', 'societi', 'motiv']   \n",
       "\n",
       "                    stemmed_hashtags  \\\n",
       "0                            ['run']   \n",
       "1  ['lyft', 'disapoint', 'getthank']   \n",
       "2                                 []   \n",
       "3                          ['model']   \n",
       "4                          ['motiv']   \n",
       "\n",
       "                                   lemmatized_tokens  \\\n",
       "0  ['user', 'father', 'dysfunctional', 'selfish',...   \n",
       "1  ['user', 'user', 'thanks', 'lyft', 'credit', '...   \n",
       "2                              ['bihday', 'majesty']   \n",
       "3  ['model', 'love', 'u', 'take', 'u', 'time', 'u...   \n",
       "4            ['factsguide', 'society', 'motivation']   \n",
       "\n",
       "                     lemmatized_hashtags  \n",
       "0                                ['run']  \n",
       "1  ['lyft', 'disapointed', 'getthanked']  \n",
       "2                                     []  \n",
       "3                              ['model']  \n",
       "4                         ['motivation']  "
      ]
     },
     "execution_count": 2,
     "metadata": {},
     "output_type": "execute_result"
    }
   ],
   "source": [
    "\"\"\"train_data = pd.read_csv(\"../../data/220510_train_data_preprocessed.csv\", sep=';')\n",
    "test_data = pd.read_csv(\"../../data/220510_test_data_preprocessed.csv\", sep=\";\")\n",
    "train_data.head()\"\"\""
   ]
  },
  {
   "cell_type": "markdown",
   "metadata": {},
   "source": [
    "## Feature Selection Lemmatized"
   ]
  },
  {
   "cell_type": "code",
   "execution_count": 3,
   "metadata": {},
   "outputs": [
    {
     "data": {
      "text/plain": [
       "'features = [\"n_mentions\", \"lemmatized_hashtags\", \"lemmatized_tokens\"]\\nX = data[features]\\ny = data.label\\nX.head()'"
      ]
     },
     "execution_count": 3,
     "metadata": {},
     "output_type": "execute_result"
    }
   ],
   "source": [
    "\"\"\"features = [\"n_mentions\", \"lemmatized_hashtags\", \"lemmatized_tokens\"]\n",
    "X = data[features]\n",
    "y = data.label\n",
    "X.head()\"\"\""
   ]
  },
  {
   "cell_type": "markdown",
   "metadata": {},
   "source": [
    "## Bag of words model"
   ]
  },
  {
   "cell_type": "markdown",
   "metadata": {},
   "source": [
    "Create the bag of words from the data"
   ]
  },
  {
   "cell_type": "code",
   "execution_count": 4,
   "metadata": {},
   "outputs": [
    {
     "data": {
      "text/plain": [
       "'import texthero as hero\\nfrom texthero import preprocessing\\nX[\"bow_tokens\"] = (hero.tfidf(X[\"lemmatized_tokens\"], max_features=15000))\\nX[\"bow_hashtags\"] = (hero.tfidf(X[\"lemmatized_hashtags\"], max_features=15000))\\nX'"
      ]
     },
     "execution_count": 4,
     "metadata": {},
     "output_type": "execute_result"
    }
   ],
   "source": [
    "\"\"\"import texthero as hero\n",
    "from texthero import preprocessing\n",
    "X[\"bow_tokens\"] = (hero.tfidf(X[\"lemmatized_tokens\"], max_features=15000))\n",
    "X[\"bow_hashtags\"] = (hero.tfidf(X[\"lemmatized_hashtags\"], max_features=15000))\n",
    "X\"\"\""
   ]
  },
  {
   "cell_type": "markdown",
   "metadata": {},
   "source": [
    "Reduce the dimension of the vector"
   ]
  },
  {
   "cell_type": "code",
   "execution_count": 5,
   "metadata": {},
   "outputs": [
    {
     "data": {
      "text/plain": [
       "'X[\"bow_tokens\"] = (hero.tsne(X[\"bow_tokens\"]))\\nX[\"bow_hashtags\"] = (hero.tsne(X[\"bow_hashtags\"]))\\nX'"
      ]
     },
     "execution_count": 5,
     "metadata": {},
     "output_type": "execute_result"
    }
   ],
   "source": [
    "\"\"\"X[\"bow_tokens\"] = (hero.tsne(X[\"bow_tokens\"]))\n",
    "X[\"bow_hashtags\"] = (hero.tsne(X[\"bow_hashtags\"]))\n",
    "X\"\"\""
   ]
  },
  {
   "cell_type": "markdown",
   "metadata": {},
   "source": [
    "Split vector into columns"
   ]
  },
  {
   "cell_type": "code",
   "execution_count": 6,
   "metadata": {},
   "outputs": [
    {
     "data": {
      "text/plain": [
       "'X[[\"bow_tokens_1\", \"bow_tokens_\"]] = pd.DataFrame(X.bow_tokens.tolist(), index= X.index)\\nX[[\"bow_hashtags_1\", \"bow_hashtags_2\"]] = pd.DataFrame(X.bow_hashtags.tolist(), index= X.index)\\nX'"
      ]
     },
     "execution_count": 6,
     "metadata": {},
     "output_type": "execute_result"
    }
   ],
   "source": [
    "\"\"\"X[[\"bow_tokens_1\", \"bow_tokens_\"]] = pd.DataFrame(X.bow_tokens.tolist(), index= X.index)\n",
    "X[[\"bow_hashtags_1\", \"bow_hashtags_2\"]] = pd.DataFrame(X.bow_hashtags.tolist(), index= X.index)\n",
    "X\"\"\""
   ]
  },
  {
   "cell_type": "markdown",
   "metadata": {},
   "source": [
    "# Lemmatisation"
   ]
  },
  {
   "cell_type": "code",
   "execution_count": 7,
   "metadata": {},
   "outputs": [
    {
     "data": {
      "text/html": [
       "<div>\n",
       "<style scoped>\n",
       "    .dataframe tbody tr th:only-of-type {\n",
       "        vertical-align: middle;\n",
       "    }\n",
       "\n",
       "    .dataframe tbody tr th {\n",
       "        vertical-align: top;\n",
       "    }\n",
       "\n",
       "    .dataframe thead th {\n",
       "        text-align: right;\n",
       "    }\n",
       "</style>\n",
       "<table border=\"1\" class=\"dataframe\">\n",
       "  <thead>\n",
       "    <tr style=\"text-align: right;\">\n",
       "      <th></th>\n",
       "      <th>lemmatized_tokens</th>\n",
       "      <th>lemmatized_hashtags</th>\n",
       "      <th>n_mentions</th>\n",
       "    </tr>\n",
       "  </thead>\n",
       "  <tbody>\n",
       "    <tr>\n",
       "      <th>0</th>\n",
       "      <td>['user', 'father', 'dysfunctional', 'selfish',...</td>\n",
       "      <td>['run']</td>\n",
       "      <td>1</td>\n",
       "    </tr>\n",
       "    <tr>\n",
       "      <th>1</th>\n",
       "      <td>['user', 'user', 'thanks', 'lyft', 'credit', '...</td>\n",
       "      <td>['lyft', 'disapointed', 'getthanked']</td>\n",
       "      <td>2</td>\n",
       "    </tr>\n",
       "    <tr>\n",
       "      <th>2</th>\n",
       "      <td>['bihday', 'majesty']</td>\n",
       "      <td>[]</td>\n",
       "      <td>0</td>\n",
       "    </tr>\n",
       "    <tr>\n",
       "      <th>3</th>\n",
       "      <td>['model', 'love', 'u', 'take', 'u', 'time', 'u...</td>\n",
       "      <td>['model']</td>\n",
       "      <td>0</td>\n",
       "    </tr>\n",
       "    <tr>\n",
       "      <th>4</th>\n",
       "      <td>['factsguide', 'society', 'motivation']</td>\n",
       "      <td>['motivation']</td>\n",
       "      <td>0</td>\n",
       "    </tr>\n",
       "  </tbody>\n",
       "</table>\n",
       "</div>"
      ],
      "text/plain": [
       "                                   lemmatized_tokens  \\\n",
       "0  ['user', 'father', 'dysfunctional', 'selfish',...   \n",
       "1  ['user', 'user', 'thanks', 'lyft', 'credit', '...   \n",
       "2                              ['bihday', 'majesty']   \n",
       "3  ['model', 'love', 'u', 'take', 'u', 'time', 'u...   \n",
       "4            ['factsguide', 'society', 'motivation']   \n",
       "\n",
       "                     lemmatized_hashtags  n_mentions  \n",
       "0                                ['run']           1  \n",
       "1  ['lyft', 'disapointed', 'getthanked']           2  \n",
       "2                                     []           0  \n",
       "3                              ['model']           0  \n",
       "4                         ['motivation']           0  "
      ]
     },
     "execution_count": 7,
     "metadata": {},
     "output_type": "execute_result"
    }
   ],
   "source": [
    "\"\"\"features = [\"lemmatized_tokens\", \"lemmatized_hashtags\", \"n_mentions\"]\n",
    "\n",
    "X = train_data[features]\n",
    "y = train_data.label\n",
    "\n",
    "X.head()\"\"\""
   ]
  },
  {
   "cell_type": "markdown",
   "metadata": {},
   "source": [
    "### Using TF-IDF Vectorizer"
   ]
  },
  {
   "cell_type": "code",
   "execution_count": 8,
   "metadata": {},
   "outputs": [
    {
     "data": {
      "text/plain": [
       "(31962, 3)"
      ]
     },
     "execution_count": 8,
     "metadata": {},
     "output_type": "execute_result"
    }
   ],
   "source": [
    "X.shape"
   ]
  },
  {
   "cell_type": "code",
   "execution_count": 9,
   "metadata": {},
   "outputs": [],
   "source": [
    "tf = TfidfVectorizer()\n",
    "\n",
    "X_vec = tf.fit(X[\"lemmatized_tokens\"])\n",
    "X_lem = X_vec.transform(X[\"lemmatized_tokens\"])"
   ]
  },
  {
   "cell_type": "code",
   "execution_count": 10,
   "metadata": {},
   "outputs": [
    {
     "data": {
      "text/plain": [
       "(31962, 40632)"
      ]
     },
     "execution_count": 10,
     "metadata": {},
     "output_type": "execute_result"
    }
   ],
   "source": [
    "X_lem.shape"
   ]
  },
  {
   "cell_type": "markdown",
   "metadata": {},
   "source": [
    "## Split data"
   ]
  },
  {
   "cell_type": "code",
   "execution_count": 11,
   "metadata": {},
   "outputs": [],
   "source": [
    "X_train, X_test, y_train, y_test = train_test_split(X_lem, y, test_size=0.2, random_state = 17, stratify=y)"
   ]
  },
  {
   "cell_type": "code",
   "execution_count": 12,
   "metadata": {},
   "outputs": [
    {
     "name": "stdout",
     "output_type": "stream",
     "text": [
      "Shape X_train (25569, 40632)\n",
      "Shape X_test (6393, 40632)\n"
     ]
    }
   ],
   "source": [
    "print(f\"Shape X_train {X_train.shape}\")\n",
    "print(f\"Shape X_test {X_test.shape}\")"
   ]
  },
  {
   "cell_type": "markdown",
   "metadata": {},
   "source": [
    "## Fitting model"
   ]
  },
  {
   "cell_type": "code",
   "execution_count": 25,
   "metadata": {},
   "outputs": [
    {
     "data": {
      "text/html": [
       "<div>\n",
       "<style scoped>\n",
       "    .dataframe tbody tr th:only-of-type {\n",
       "        vertical-align: middle;\n",
       "    }\n",
       "\n",
       "    .dataframe tbody tr th {\n",
       "        vertical-align: top;\n",
       "    }\n",
       "\n",
       "    .dataframe thead th {\n",
       "        text-align: right;\n",
       "    }\n",
       "</style>\n",
       "<table border=\"1\" class=\"dataframe\">\n",
       "  <thead>\n",
       "    <tr style=\"text-align: right;\">\n",
       "      <th></th>\n",
       "      <th>max_depth</th>\n",
       "      <th>precision_score</th>\n",
       "      <th>recall_score</th>\n",
       "      <th>accuracy_score</th>\n",
       "      <th>f1_score</th>\n",
       "    </tr>\n",
       "  </thead>\n",
       "  <tbody>\n",
       "    <tr>\n",
       "      <th>0</th>\n",
       "      <td>5</td>\n",
       "      <td>0.780142</td>\n",
       "      <td>0.245536</td>\n",
       "      <td>0.942281</td>\n",
       "      <td>0.373514</td>\n",
       "    </tr>\n",
       "    <tr>\n",
       "      <th>1</th>\n",
       "      <td>6</td>\n",
       "      <td>0.779221</td>\n",
       "      <td>0.267857</td>\n",
       "      <td>0.943376</td>\n",
       "      <td>0.398671</td>\n",
       "    </tr>\n",
       "    <tr>\n",
       "      <th>2</th>\n",
       "      <td>7</td>\n",
       "      <td>0.794118</td>\n",
       "      <td>0.301339</td>\n",
       "      <td>0.945565</td>\n",
       "      <td>0.436893</td>\n",
       "    </tr>\n",
       "    <tr>\n",
       "      <th>3</th>\n",
       "      <td>8</td>\n",
       "      <td>0.803681</td>\n",
       "      <td>0.292411</td>\n",
       "      <td>0.945409</td>\n",
       "      <td>0.428805</td>\n",
       "    </tr>\n",
       "    <tr>\n",
       "      <th>4</th>\n",
       "      <td>9</td>\n",
       "      <td>0.807018</td>\n",
       "      <td>0.308036</td>\n",
       "      <td>0.946348</td>\n",
       "      <td>0.445880</td>\n",
       "    </tr>\n",
       "    <tr>\n",
       "      <th>...</th>\n",
       "      <td>...</td>\n",
       "      <td>...</td>\n",
       "      <td>...</td>\n",
       "      <td>...</td>\n",
       "      <td>...</td>\n",
       "    </tr>\n",
       "    <tr>\n",
       "      <th>90</th>\n",
       "      <td>95</td>\n",
       "      <td>0.718182</td>\n",
       "      <td>0.529018</td>\n",
       "      <td>0.952448</td>\n",
       "      <td>0.609254</td>\n",
       "    </tr>\n",
       "    <tr>\n",
       "      <th>91</th>\n",
       "      <td>96</td>\n",
       "      <td>0.716049</td>\n",
       "      <td>0.517857</td>\n",
       "      <td>0.951822</td>\n",
       "      <td>0.601036</td>\n",
       "    </tr>\n",
       "    <tr>\n",
       "      <th>92</th>\n",
       "      <td>97</td>\n",
       "      <td>0.722045</td>\n",
       "      <td>0.504464</td>\n",
       "      <td>0.951666</td>\n",
       "      <td>0.593955</td>\n",
       "    </tr>\n",
       "    <tr>\n",
       "      <th>93</th>\n",
       "      <td>98</td>\n",
       "      <td>0.711246</td>\n",
       "      <td>0.522321</td>\n",
       "      <td>0.951666</td>\n",
       "      <td>0.602317</td>\n",
       "    </tr>\n",
       "    <tr>\n",
       "      <th>94</th>\n",
       "      <td>99</td>\n",
       "      <td>0.714286</td>\n",
       "      <td>0.524554</td>\n",
       "      <td>0.951979</td>\n",
       "      <td>0.604891</td>\n",
       "    </tr>\n",
       "  </tbody>\n",
       "</table>\n",
       "<p>95 rows × 5 columns</p>\n",
       "</div>"
      ],
      "text/plain": [
       "    max_depth  precision_score  recall_score  accuracy_score  f1_score\n",
       "0           5         0.780142      0.245536        0.942281  0.373514\n",
       "1           6         0.779221      0.267857        0.943376  0.398671\n",
       "2           7         0.794118      0.301339        0.945565  0.436893\n",
       "3           8         0.803681      0.292411        0.945409  0.428805\n",
       "4           9         0.807018      0.308036        0.946348  0.445880\n",
       "..        ...              ...           ...             ...       ...\n",
       "90         95         0.718182      0.529018        0.952448  0.609254\n",
       "91         96         0.716049      0.517857        0.951822  0.601036\n",
       "92         97         0.722045      0.504464        0.951666  0.593955\n",
       "93         98         0.711246      0.522321        0.951666  0.602317\n",
       "94         99         0.714286      0.524554        0.951979  0.604891\n",
       "\n",
       "[95 rows x 5 columns]"
      ]
     },
     "execution_count": 25,
     "metadata": {},
     "output_type": "execute_result"
    }
   ],
   "source": [
    "result_precision_score = []\n",
    "result_recall_score = []\n",
    "result_accuracy_score = []\n",
    "result_f1_score = []\n",
    "max_depth = 100\n",
    "\n",
    "for i in range(5, max_depth):\n",
    "    classifier = DecisionTreeClassifier(random_state=55, max_depth=i)\n",
    "\n",
    "    model = classifier.fit(X_train, y_train)\n",
    "\n",
    "    y_pred = model.predict(X_test)\n",
    "    \n",
    "    result_precision_score.append(metrics.precision_score(y_test, y_pred))\n",
    "    result_recall_score.append(metrics.recall_score(y_test, y_pred))\n",
    "    result_accuracy_score.append(metrics.accuracy_score(y_test, y_pred))\n",
    "    result_f1_score.append(metrics.f1_score(y_test, y_pred))\n",
    "\n",
    "\n",
    "#print(len([i for i in range(5, max_depth)]), len(result_precision_score),len(result_recall_score),len(result_accuracy_score),len(result_f1_score))\n",
    "\n",
    "\n",
    "result_data = {\n",
    "    \"max_depth\": [i for i in range(5, max_depth)],\n",
    "    \"precision_score\": result_precision_score,\n",
    "    \"recall_score\": result_recall_score,\n",
    "    \"accuracy_score\": result_accuracy_score,\n",
    "    \"f1_score\": result_f1_score\n",
    "}\n",
    "df = pd.DataFrame(result_data)\n",
    "df"
   ]
  },
  {
   "cell_type": "code",
   "execution_count": 26,
   "metadata": {},
   "outputs": [
    {
     "data": {
      "application/vnd.plotly.v1+json": {
       "config": {
        "plotlyServerURL": "https://plot.ly"
       },
       "data": [
        {
         "hovertemplate": "variable=f1_score<br>max_depth=%{x}<br>value=%{y}<extra></extra>",
         "legendgroup": "f1_score",
         "line": {
          "color": "#636efa",
          "dash": "solid"
         },
         "marker": {
          "symbol": "circle"
         },
         "mode": "lines",
         "name": "f1_score",
         "orientation": "v",
         "showlegend": true,
         "type": "scatter",
         "x": [
          5,
          6,
          7,
          8,
          9,
          10,
          11,
          12,
          13,
          14,
          15,
          16,
          17,
          18,
          19,
          20,
          21,
          22,
          23,
          24,
          25,
          26,
          27,
          28,
          29,
          30,
          31,
          32,
          33,
          34,
          35,
          36,
          37,
          38,
          39,
          40,
          41,
          42,
          43,
          44,
          45,
          46,
          47,
          48,
          49,
          50,
          51,
          52,
          53,
          54,
          55,
          56,
          57,
          58,
          59,
          60,
          61,
          62,
          63,
          64,
          65,
          66,
          67,
          68,
          69,
          70,
          71,
          72,
          73,
          74,
          75,
          76,
          77,
          78,
          79,
          80,
          81,
          82,
          83,
          84,
          85,
          86,
          87,
          88,
          89,
          90,
          91,
          92,
          93,
          94,
          95,
          96,
          97,
          98,
          99
         ],
         "xaxis": "x",
         "y": [
          0.37351443123938877,
          0.39867109634551495,
          0.4368932038834951,
          0.42880523731587566,
          0.4458804523424879,
          0.46496815286624205,
          0.46422893481717015,
          0.46984126984126984,
          0.47301587301587295,
          0.47393364928909953,
          0.49062500000000003,
          0.48513302034428796,
          0.4945904173106646,
          0.5045871559633027,
          0.516030534351145,
          0.5283582089552239,
          0.5180722891566265,
          0.5408618127786033,
          0.5392592592592592,
          0.5341246290801187,
          0.5430267062314541,
          0.5457227138643067,
          0.5339233038348083,
          0.5420289855072464,
          0.5486211901306242,
          0.5425219941348973,
          0.5465116279069767,
          0.5490753911806544,
          0.5454545454545454,
          0.546230440967283,
          0.5528913963328631,
          0.5569620253164557,
          0.5582047685834501,
          0.5589041095890411,
          0.5553997194950911,
          0.5598885793871866,
          0.5726141078838175,
          0.5726256983240223,
          0.5745856353591161,
          0.5638888888888889,
          0.56353591160221,
          0.5662482566248258,
          0.5694444444444444,
          0.565459610027855,
          0.578082191780822,
          0.5745856353591161,
          0.5773480662983425,
          0.5694635488308116,
          0.578875171467764,
          0.5784447476125512,
          0.5783783783783785,
          0.5827633378932968,
          0.578082191780822,
          0.581081081081081,
          0.5733695652173914,
          0.5798657718120805,
          0.5909712722298222,
          0.5826558265582656,
          0.5907859078590786,
          0.5849056603773585,
          0.5921938088829071,
          0.6013422818791946,
          0.5986577181208054,
          0.5915875169606514,
          0.5989304812834225,
          0.5970548862115126,
          0.5883940620782726,
          0.5858854860186419,
          0.5932885906040269,
          0.5883905013192613,
          0.601063829787234,
          0.5976095617529881,
          0.58994708994709,
          0.5917001338688086,
          0.600265604249668,
          0.588548601864181,
          0.6021220159151194,
          0.6,
          0.6005221932114881,
          0.5986754966887416,
          0.6013071895424836,
          0.5986754966887416,
          0.6149802890932984,
          0.6103038309114927,
          0.5926892950391646,
          0.5940337224383917,
          0.6023468057366363,
          0.611183355006502,
          0.5906735751295337,
          0.6023468057366363,
          0.6092544987146529,
          0.6010362694300518,
          0.5939553219448094,
          0.6023166023166023,
          0.6048906048906049
         ],
         "yaxis": "y"
        },
        {
         "hovertemplate": "variable=accuracy_score<br>max_depth=%{x}<br>value=%{y}<extra></extra>",
         "legendgroup": "accuracy_score",
         "line": {
          "color": "#EF553B",
          "dash": "solid"
         },
         "marker": {
          "symbol": "circle"
         },
         "mode": "lines",
         "name": "accuracy_score",
         "orientation": "v",
         "showlegend": true,
         "type": "scatter",
         "x": [
          5,
          6,
          7,
          8,
          9,
          10,
          11,
          12,
          13,
          14,
          15,
          16,
          17,
          18,
          19,
          20,
          21,
          22,
          23,
          24,
          25,
          26,
          27,
          28,
          29,
          30,
          31,
          32,
          33,
          34,
          35,
          36,
          37,
          38,
          39,
          40,
          41,
          42,
          43,
          44,
          45,
          46,
          47,
          48,
          49,
          50,
          51,
          52,
          53,
          54,
          55,
          56,
          57,
          58,
          59,
          60,
          61,
          62,
          63,
          64,
          65,
          66,
          67,
          68,
          69,
          70,
          71,
          72,
          73,
          74,
          75,
          76,
          77,
          78,
          79,
          80,
          81,
          82,
          83,
          84,
          85,
          86,
          87,
          88,
          89,
          90,
          91,
          92,
          93,
          94,
          95,
          96,
          97,
          98,
          99
         ],
         "xaxis": "x",
         "y": [
          0.9422806194274989,
          0.9433755670264352,
          0.9455654622243078,
          0.9454090411387455,
          0.9463475676521195,
          0.9474425152510558,
          0.9472860941654935,
          0.9477553574221805,
          0.9480681995933051,
          0.9479117785077429,
          0.9490067261066791,
          0.9485374628499922,
          0.9488503050211169,
          0.9493195682778038,
          0.9504145158767402,
          0.9505709369623025,
          0.9499452526200531,
          0.9516658845612389,
          0.9513530423901142,
          0.9508837791334271,
          0.9518223056468011,
          0.9518223056468011,
          0.9505709369623025,
          0.9505709369623025,
          0.9513530423901142,
          0.9511966213045518,
          0.9511966213045518,
          0.9504145158767402,
          0.9499452526200531,
          0.9501016737056155,
          0.9504145158767402,
          0.9507273580478649,
          0.9507273580478649,
          0.9496324104489285,
          0.9504145158767402,
          0.9505709369623025,
          0.9516658845612389,
          0.9521351478179259,
          0.9518223056468011,
          0.9508837791334271,
          0.9505709369623025,
          0.9513530423901142,
          0.9515094634756766,
          0.9511966213045518,
          0.9518223056468011,
          0.9518223056468011,
          0.9521351478179259,
          0.9510402002189895,
          0.9519787267323635,
          0.9516658845612389,
          0.9511966213045518,
          0.9522915689034882,
          0.9518223056468011,
          0.9515094634756766,
          0.9508837791334271,
          0.9510402002189895,
          0.9532300954168622,
          0.9518223056468011,
          0.9527608321601752,
          0.9518223056468011,
          0.9526044110746129,
          0.9535429375879868,
          0.9532300954168622,
          0.9529172532457375,
          0.9530736743312999,
          0.9529172532457375,
          0.9522915689034882,
          0.9513530423901142,
          0.9526044110746129,
          0.9511966213045518,
          0.9530736743312999,
          0.9526044110746129,
          0.9515094634756766,
          0.9522915689034882,
          0.9529172532457375,
          0.9516658845612389,
          0.9530736743312999,
          0.9530736743312999,
          0.9521351478179259,
          0.9526044110746129,
          0.9522915689034882,
          0.9526044110746129,
          0.9541686219302362,
          0.9538557797591115,
          0.9511966213045518,
          0.9510402002189895,
          0.9522915689034882,
          0.9532300954168622,
          0.9505709369623025,
          0.9522915689034882,
          0.9524479899890506,
          0.9518223056468011,
          0.9516658845612389,
          0.9516658845612389,
          0.9519787267323635
         ],
         "yaxis": "y"
        }
       ],
       "layout": {
        "legend": {
         "title": {
          "text": "variable"
         },
         "tracegroupgap": 0
        },
        "template": {
         "data": {
          "bar": [
           {
            "error_x": {
             "color": "#2a3f5f"
            },
            "error_y": {
             "color": "#2a3f5f"
            },
            "marker": {
             "line": {
              "color": "#E5ECF6",
              "width": 0.5
             },
             "pattern": {
              "fillmode": "overlay",
              "size": 10,
              "solidity": 0.2
             }
            },
            "type": "bar"
           }
          ],
          "barpolar": [
           {
            "marker": {
             "line": {
              "color": "#E5ECF6",
              "width": 0.5
             },
             "pattern": {
              "fillmode": "overlay",
              "size": 10,
              "solidity": 0.2
             }
            },
            "type": "barpolar"
           }
          ],
          "carpet": [
           {
            "aaxis": {
             "endlinecolor": "#2a3f5f",
             "gridcolor": "white",
             "linecolor": "white",
             "minorgridcolor": "white",
             "startlinecolor": "#2a3f5f"
            },
            "baxis": {
             "endlinecolor": "#2a3f5f",
             "gridcolor": "white",
             "linecolor": "white",
             "minorgridcolor": "white",
             "startlinecolor": "#2a3f5f"
            },
            "type": "carpet"
           }
          ],
          "choropleth": [
           {
            "colorbar": {
             "outlinewidth": 0,
             "ticks": ""
            },
            "type": "choropleth"
           }
          ],
          "contour": [
           {
            "colorbar": {
             "outlinewidth": 0,
             "ticks": ""
            },
            "colorscale": [
             [
              0,
              "#0d0887"
             ],
             [
              0.1111111111111111,
              "#46039f"
             ],
             [
              0.2222222222222222,
              "#7201a8"
             ],
             [
              0.3333333333333333,
              "#9c179e"
             ],
             [
              0.4444444444444444,
              "#bd3786"
             ],
             [
              0.5555555555555556,
              "#d8576b"
             ],
             [
              0.6666666666666666,
              "#ed7953"
             ],
             [
              0.7777777777777778,
              "#fb9f3a"
             ],
             [
              0.8888888888888888,
              "#fdca26"
             ],
             [
              1,
              "#f0f921"
             ]
            ],
            "type": "contour"
           }
          ],
          "contourcarpet": [
           {
            "colorbar": {
             "outlinewidth": 0,
             "ticks": ""
            },
            "type": "contourcarpet"
           }
          ],
          "heatmap": [
           {
            "colorbar": {
             "outlinewidth": 0,
             "ticks": ""
            },
            "colorscale": [
             [
              0,
              "#0d0887"
             ],
             [
              0.1111111111111111,
              "#46039f"
             ],
             [
              0.2222222222222222,
              "#7201a8"
             ],
             [
              0.3333333333333333,
              "#9c179e"
             ],
             [
              0.4444444444444444,
              "#bd3786"
             ],
             [
              0.5555555555555556,
              "#d8576b"
             ],
             [
              0.6666666666666666,
              "#ed7953"
             ],
             [
              0.7777777777777778,
              "#fb9f3a"
             ],
             [
              0.8888888888888888,
              "#fdca26"
             ],
             [
              1,
              "#f0f921"
             ]
            ],
            "type": "heatmap"
           }
          ],
          "heatmapgl": [
           {
            "colorbar": {
             "outlinewidth": 0,
             "ticks": ""
            },
            "colorscale": [
             [
              0,
              "#0d0887"
             ],
             [
              0.1111111111111111,
              "#46039f"
             ],
             [
              0.2222222222222222,
              "#7201a8"
             ],
             [
              0.3333333333333333,
              "#9c179e"
             ],
             [
              0.4444444444444444,
              "#bd3786"
             ],
             [
              0.5555555555555556,
              "#d8576b"
             ],
             [
              0.6666666666666666,
              "#ed7953"
             ],
             [
              0.7777777777777778,
              "#fb9f3a"
             ],
             [
              0.8888888888888888,
              "#fdca26"
             ],
             [
              1,
              "#f0f921"
             ]
            ],
            "type": "heatmapgl"
           }
          ],
          "histogram": [
           {
            "marker": {
             "pattern": {
              "fillmode": "overlay",
              "size": 10,
              "solidity": 0.2
             }
            },
            "type": "histogram"
           }
          ],
          "histogram2d": [
           {
            "colorbar": {
             "outlinewidth": 0,
             "ticks": ""
            },
            "colorscale": [
             [
              0,
              "#0d0887"
             ],
             [
              0.1111111111111111,
              "#46039f"
             ],
             [
              0.2222222222222222,
              "#7201a8"
             ],
             [
              0.3333333333333333,
              "#9c179e"
             ],
             [
              0.4444444444444444,
              "#bd3786"
             ],
             [
              0.5555555555555556,
              "#d8576b"
             ],
             [
              0.6666666666666666,
              "#ed7953"
             ],
             [
              0.7777777777777778,
              "#fb9f3a"
             ],
             [
              0.8888888888888888,
              "#fdca26"
             ],
             [
              1,
              "#f0f921"
             ]
            ],
            "type": "histogram2d"
           }
          ],
          "histogram2dcontour": [
           {
            "colorbar": {
             "outlinewidth": 0,
             "ticks": ""
            },
            "colorscale": [
             [
              0,
              "#0d0887"
             ],
             [
              0.1111111111111111,
              "#46039f"
             ],
             [
              0.2222222222222222,
              "#7201a8"
             ],
             [
              0.3333333333333333,
              "#9c179e"
             ],
             [
              0.4444444444444444,
              "#bd3786"
             ],
             [
              0.5555555555555556,
              "#d8576b"
             ],
             [
              0.6666666666666666,
              "#ed7953"
             ],
             [
              0.7777777777777778,
              "#fb9f3a"
             ],
             [
              0.8888888888888888,
              "#fdca26"
             ],
             [
              1,
              "#f0f921"
             ]
            ],
            "type": "histogram2dcontour"
           }
          ],
          "mesh3d": [
           {
            "colorbar": {
             "outlinewidth": 0,
             "ticks": ""
            },
            "type": "mesh3d"
           }
          ],
          "parcoords": [
           {
            "line": {
             "colorbar": {
              "outlinewidth": 0,
              "ticks": ""
             }
            },
            "type": "parcoords"
           }
          ],
          "pie": [
           {
            "automargin": true,
            "type": "pie"
           }
          ],
          "scatter": [
           {
            "fillpattern": {
             "fillmode": "overlay",
             "size": 10,
             "solidity": 0.2
            },
            "type": "scatter"
           }
          ],
          "scatter3d": [
           {
            "line": {
             "colorbar": {
              "outlinewidth": 0,
              "ticks": ""
             }
            },
            "marker": {
             "colorbar": {
              "outlinewidth": 0,
              "ticks": ""
             }
            },
            "type": "scatter3d"
           }
          ],
          "scattercarpet": [
           {
            "marker": {
             "colorbar": {
              "outlinewidth": 0,
              "ticks": ""
             }
            },
            "type": "scattercarpet"
           }
          ],
          "scattergeo": [
           {
            "marker": {
             "colorbar": {
              "outlinewidth": 0,
              "ticks": ""
             }
            },
            "type": "scattergeo"
           }
          ],
          "scattergl": [
           {
            "marker": {
             "colorbar": {
              "outlinewidth": 0,
              "ticks": ""
             }
            },
            "type": "scattergl"
           }
          ],
          "scattermapbox": [
           {
            "marker": {
             "colorbar": {
              "outlinewidth": 0,
              "ticks": ""
             }
            },
            "type": "scattermapbox"
           }
          ],
          "scatterpolar": [
           {
            "marker": {
             "colorbar": {
              "outlinewidth": 0,
              "ticks": ""
             }
            },
            "type": "scatterpolar"
           }
          ],
          "scatterpolargl": [
           {
            "marker": {
             "colorbar": {
              "outlinewidth": 0,
              "ticks": ""
             }
            },
            "type": "scatterpolargl"
           }
          ],
          "scatterternary": [
           {
            "marker": {
             "colorbar": {
              "outlinewidth": 0,
              "ticks": ""
             }
            },
            "type": "scatterternary"
           }
          ],
          "surface": [
           {
            "colorbar": {
             "outlinewidth": 0,
             "ticks": ""
            },
            "colorscale": [
             [
              0,
              "#0d0887"
             ],
             [
              0.1111111111111111,
              "#46039f"
             ],
             [
              0.2222222222222222,
              "#7201a8"
             ],
             [
              0.3333333333333333,
              "#9c179e"
             ],
             [
              0.4444444444444444,
              "#bd3786"
             ],
             [
              0.5555555555555556,
              "#d8576b"
             ],
             [
              0.6666666666666666,
              "#ed7953"
             ],
             [
              0.7777777777777778,
              "#fb9f3a"
             ],
             [
              0.8888888888888888,
              "#fdca26"
             ],
             [
              1,
              "#f0f921"
             ]
            ],
            "type": "surface"
           }
          ],
          "table": [
           {
            "cells": {
             "fill": {
              "color": "#EBF0F8"
             },
             "line": {
              "color": "white"
             }
            },
            "header": {
             "fill": {
              "color": "#C8D4E3"
             },
             "line": {
              "color": "white"
             }
            },
            "type": "table"
           }
          ]
         },
         "layout": {
          "annotationdefaults": {
           "arrowcolor": "#2a3f5f",
           "arrowhead": 0,
           "arrowwidth": 1
          },
          "autotypenumbers": "strict",
          "coloraxis": {
           "colorbar": {
            "outlinewidth": 0,
            "ticks": ""
           }
          },
          "colorscale": {
           "diverging": [
            [
             0,
             "#8e0152"
            ],
            [
             0.1,
             "#c51b7d"
            ],
            [
             0.2,
             "#de77ae"
            ],
            [
             0.3,
             "#f1b6da"
            ],
            [
             0.4,
             "#fde0ef"
            ],
            [
             0.5,
             "#f7f7f7"
            ],
            [
             0.6,
             "#e6f5d0"
            ],
            [
             0.7,
             "#b8e186"
            ],
            [
             0.8,
             "#7fbc41"
            ],
            [
             0.9,
             "#4d9221"
            ],
            [
             1,
             "#276419"
            ]
           ],
           "sequential": [
            [
             0,
             "#0d0887"
            ],
            [
             0.1111111111111111,
             "#46039f"
            ],
            [
             0.2222222222222222,
             "#7201a8"
            ],
            [
             0.3333333333333333,
             "#9c179e"
            ],
            [
             0.4444444444444444,
             "#bd3786"
            ],
            [
             0.5555555555555556,
             "#d8576b"
            ],
            [
             0.6666666666666666,
             "#ed7953"
            ],
            [
             0.7777777777777778,
             "#fb9f3a"
            ],
            [
             0.8888888888888888,
             "#fdca26"
            ],
            [
             1,
             "#f0f921"
            ]
           ],
           "sequentialminus": [
            [
             0,
             "#0d0887"
            ],
            [
             0.1111111111111111,
             "#46039f"
            ],
            [
             0.2222222222222222,
             "#7201a8"
            ],
            [
             0.3333333333333333,
             "#9c179e"
            ],
            [
             0.4444444444444444,
             "#bd3786"
            ],
            [
             0.5555555555555556,
             "#d8576b"
            ],
            [
             0.6666666666666666,
             "#ed7953"
            ],
            [
             0.7777777777777778,
             "#fb9f3a"
            ],
            [
             0.8888888888888888,
             "#fdca26"
            ],
            [
             1,
             "#f0f921"
            ]
           ]
          },
          "colorway": [
           "#636efa",
           "#EF553B",
           "#00cc96",
           "#ab63fa",
           "#FFA15A",
           "#19d3f3",
           "#FF6692",
           "#B6E880",
           "#FF97FF",
           "#FECB52"
          ],
          "font": {
           "color": "#2a3f5f"
          },
          "geo": {
           "bgcolor": "white",
           "lakecolor": "white",
           "landcolor": "#E5ECF6",
           "showlakes": true,
           "showland": true,
           "subunitcolor": "white"
          },
          "hoverlabel": {
           "align": "left"
          },
          "hovermode": "closest",
          "mapbox": {
           "style": "light"
          },
          "paper_bgcolor": "white",
          "plot_bgcolor": "#E5ECF6",
          "polar": {
           "angularaxis": {
            "gridcolor": "white",
            "linecolor": "white",
            "ticks": ""
           },
           "bgcolor": "#E5ECF6",
           "radialaxis": {
            "gridcolor": "white",
            "linecolor": "white",
            "ticks": ""
           }
          },
          "scene": {
           "xaxis": {
            "backgroundcolor": "#E5ECF6",
            "gridcolor": "white",
            "gridwidth": 2,
            "linecolor": "white",
            "showbackground": true,
            "ticks": "",
            "zerolinecolor": "white"
           },
           "yaxis": {
            "backgroundcolor": "#E5ECF6",
            "gridcolor": "white",
            "gridwidth": 2,
            "linecolor": "white",
            "showbackground": true,
            "ticks": "",
            "zerolinecolor": "white"
           },
           "zaxis": {
            "backgroundcolor": "#E5ECF6",
            "gridcolor": "white",
            "gridwidth": 2,
            "linecolor": "white",
            "showbackground": true,
            "ticks": "",
            "zerolinecolor": "white"
           }
          },
          "shapedefaults": {
           "line": {
            "color": "#2a3f5f"
           }
          },
          "ternary": {
           "aaxis": {
            "gridcolor": "white",
            "linecolor": "white",
            "ticks": ""
           },
           "baxis": {
            "gridcolor": "white",
            "linecolor": "white",
            "ticks": ""
           },
           "bgcolor": "#E5ECF6",
           "caxis": {
            "gridcolor": "white",
            "linecolor": "white",
            "ticks": ""
           }
          },
          "title": {
           "x": 0.05
          },
          "xaxis": {
           "automargin": true,
           "gridcolor": "white",
           "linecolor": "white",
           "ticks": "",
           "title": {
            "standoff": 15
           },
           "zerolinecolor": "white",
           "zerolinewidth": 2
          },
          "yaxis": {
           "automargin": true,
           "gridcolor": "white",
           "linecolor": "white",
           "ticks": "",
           "title": {
            "standoff": 15
           },
           "zerolinecolor": "white",
           "zerolinewidth": 2
          }
         }
        },
        "title": {
         "text": "Lemmatisation results"
        },
        "xaxis": {
         "anchor": "y",
         "domain": [
          0,
          1
         ],
         "title": {
          "text": "max_depth"
         }
        },
        "yaxis": {
         "anchor": "x",
         "domain": [
          0,
          1
         ],
         "title": {
          "text": "value"
         }
        }
       }
      },
      "text/html": [
       "<div>                            <div id=\"e3f9f971-6471-403a-9e51-eb0fb90648a0\" class=\"plotly-graph-div\" style=\"height:525px; width:100%;\"></div>            <script type=\"text/javascript\">                require([\"plotly\"], function(Plotly) {                    window.PLOTLYENV=window.PLOTLYENV || {};                                    if (document.getElementById(\"e3f9f971-6471-403a-9e51-eb0fb90648a0\")) {                    Plotly.newPlot(                        \"e3f9f971-6471-403a-9e51-eb0fb90648a0\",                        [{\"hovertemplate\":\"variable=f1_score<br>max_depth=%{x}<br>value=%{y}<extra></extra>\",\"legendgroup\":\"f1_score\",\"line\":{\"color\":\"#636efa\",\"dash\":\"solid\"},\"marker\":{\"symbol\":\"circle\"},\"mode\":\"lines\",\"name\":\"f1_score\",\"orientation\":\"v\",\"showlegend\":true,\"x\":[5,6,7,8,9,10,11,12,13,14,15,16,17,18,19,20,21,22,23,24,25,26,27,28,29,30,31,32,33,34,35,36,37,38,39,40,41,42,43,44,45,46,47,48,49,50,51,52,53,54,55,56,57,58,59,60,61,62,63,64,65,66,67,68,69,70,71,72,73,74,75,76,77,78,79,80,81,82,83,84,85,86,87,88,89,90,91,92,93,94,95,96,97,98,99],\"xaxis\":\"x\",\"y\":[0.37351443123938877,0.39867109634551495,0.4368932038834951,0.42880523731587566,0.4458804523424879,0.46496815286624205,0.46422893481717015,0.46984126984126984,0.47301587301587295,0.47393364928909953,0.49062500000000003,0.48513302034428796,0.4945904173106646,0.5045871559633027,0.516030534351145,0.5283582089552239,0.5180722891566265,0.5408618127786033,0.5392592592592592,0.5341246290801187,0.5430267062314541,0.5457227138643067,0.5339233038348083,0.5420289855072464,0.5486211901306242,0.5425219941348973,0.5465116279069767,0.5490753911806544,0.5454545454545454,0.546230440967283,0.5528913963328631,0.5569620253164557,0.5582047685834501,0.5589041095890411,0.5553997194950911,0.5598885793871866,0.5726141078838175,0.5726256983240223,0.5745856353591161,0.5638888888888889,0.56353591160221,0.5662482566248258,0.5694444444444444,0.565459610027855,0.578082191780822,0.5745856353591161,0.5773480662983425,0.5694635488308116,0.578875171467764,0.5784447476125512,0.5783783783783785,0.5827633378932968,0.578082191780822,0.581081081081081,0.5733695652173914,0.5798657718120805,0.5909712722298222,0.5826558265582656,0.5907859078590786,0.5849056603773585,0.5921938088829071,0.6013422818791946,0.5986577181208054,0.5915875169606514,0.5989304812834225,0.5970548862115126,0.5883940620782726,0.5858854860186419,0.5932885906040269,0.5883905013192613,0.601063829787234,0.5976095617529881,0.58994708994709,0.5917001338688086,0.600265604249668,0.588548601864181,0.6021220159151194,0.6,0.6005221932114881,0.5986754966887416,0.6013071895424836,0.5986754966887416,0.6149802890932984,0.6103038309114927,0.5926892950391646,0.5940337224383917,0.6023468057366363,0.611183355006502,0.5906735751295337,0.6023468057366363,0.6092544987146529,0.6010362694300518,0.5939553219448094,0.6023166023166023,0.6048906048906049],\"yaxis\":\"y\",\"type\":\"scatter\"},{\"hovertemplate\":\"variable=accuracy_score<br>max_depth=%{x}<br>value=%{y}<extra></extra>\",\"legendgroup\":\"accuracy_score\",\"line\":{\"color\":\"#EF553B\",\"dash\":\"solid\"},\"marker\":{\"symbol\":\"circle\"},\"mode\":\"lines\",\"name\":\"accuracy_score\",\"orientation\":\"v\",\"showlegend\":true,\"x\":[5,6,7,8,9,10,11,12,13,14,15,16,17,18,19,20,21,22,23,24,25,26,27,28,29,30,31,32,33,34,35,36,37,38,39,40,41,42,43,44,45,46,47,48,49,50,51,52,53,54,55,56,57,58,59,60,61,62,63,64,65,66,67,68,69,70,71,72,73,74,75,76,77,78,79,80,81,82,83,84,85,86,87,88,89,90,91,92,93,94,95,96,97,98,99],\"xaxis\":\"x\",\"y\":[0.9422806194274989,0.9433755670264352,0.9455654622243078,0.9454090411387455,0.9463475676521195,0.9474425152510558,0.9472860941654935,0.9477553574221805,0.9480681995933051,0.9479117785077429,0.9490067261066791,0.9485374628499922,0.9488503050211169,0.9493195682778038,0.9504145158767402,0.9505709369623025,0.9499452526200531,0.9516658845612389,0.9513530423901142,0.9508837791334271,0.9518223056468011,0.9518223056468011,0.9505709369623025,0.9505709369623025,0.9513530423901142,0.9511966213045518,0.9511966213045518,0.9504145158767402,0.9499452526200531,0.9501016737056155,0.9504145158767402,0.9507273580478649,0.9507273580478649,0.9496324104489285,0.9504145158767402,0.9505709369623025,0.9516658845612389,0.9521351478179259,0.9518223056468011,0.9508837791334271,0.9505709369623025,0.9513530423901142,0.9515094634756766,0.9511966213045518,0.9518223056468011,0.9518223056468011,0.9521351478179259,0.9510402002189895,0.9519787267323635,0.9516658845612389,0.9511966213045518,0.9522915689034882,0.9518223056468011,0.9515094634756766,0.9508837791334271,0.9510402002189895,0.9532300954168622,0.9518223056468011,0.9527608321601752,0.9518223056468011,0.9526044110746129,0.9535429375879868,0.9532300954168622,0.9529172532457375,0.9530736743312999,0.9529172532457375,0.9522915689034882,0.9513530423901142,0.9526044110746129,0.9511966213045518,0.9530736743312999,0.9526044110746129,0.9515094634756766,0.9522915689034882,0.9529172532457375,0.9516658845612389,0.9530736743312999,0.9530736743312999,0.9521351478179259,0.9526044110746129,0.9522915689034882,0.9526044110746129,0.9541686219302362,0.9538557797591115,0.9511966213045518,0.9510402002189895,0.9522915689034882,0.9532300954168622,0.9505709369623025,0.9522915689034882,0.9524479899890506,0.9518223056468011,0.9516658845612389,0.9516658845612389,0.9519787267323635],\"yaxis\":\"y\",\"type\":\"scatter\"}],                        {\"template\":{\"data\":{\"histogram2dcontour\":[{\"type\":\"histogram2dcontour\",\"colorbar\":{\"outlinewidth\":0,\"ticks\":\"\"},\"colorscale\":[[0.0,\"#0d0887\"],[0.1111111111111111,\"#46039f\"],[0.2222222222222222,\"#7201a8\"],[0.3333333333333333,\"#9c179e\"],[0.4444444444444444,\"#bd3786\"],[0.5555555555555556,\"#d8576b\"],[0.6666666666666666,\"#ed7953\"],[0.7777777777777778,\"#fb9f3a\"],[0.8888888888888888,\"#fdca26\"],[1.0,\"#f0f921\"]]}],\"choropleth\":[{\"type\":\"choropleth\",\"colorbar\":{\"outlinewidth\":0,\"ticks\":\"\"}}],\"histogram2d\":[{\"type\":\"histogram2d\",\"colorbar\":{\"outlinewidth\":0,\"ticks\":\"\"},\"colorscale\":[[0.0,\"#0d0887\"],[0.1111111111111111,\"#46039f\"],[0.2222222222222222,\"#7201a8\"],[0.3333333333333333,\"#9c179e\"],[0.4444444444444444,\"#bd3786\"],[0.5555555555555556,\"#d8576b\"],[0.6666666666666666,\"#ed7953\"],[0.7777777777777778,\"#fb9f3a\"],[0.8888888888888888,\"#fdca26\"],[1.0,\"#f0f921\"]]}],\"heatmap\":[{\"type\":\"heatmap\",\"colorbar\":{\"outlinewidth\":0,\"ticks\":\"\"},\"colorscale\":[[0.0,\"#0d0887\"],[0.1111111111111111,\"#46039f\"],[0.2222222222222222,\"#7201a8\"],[0.3333333333333333,\"#9c179e\"],[0.4444444444444444,\"#bd3786\"],[0.5555555555555556,\"#d8576b\"],[0.6666666666666666,\"#ed7953\"],[0.7777777777777778,\"#fb9f3a\"],[0.8888888888888888,\"#fdca26\"],[1.0,\"#f0f921\"]]}],\"heatmapgl\":[{\"type\":\"heatmapgl\",\"colorbar\":{\"outlinewidth\":0,\"ticks\":\"\"},\"colorscale\":[[0.0,\"#0d0887\"],[0.1111111111111111,\"#46039f\"],[0.2222222222222222,\"#7201a8\"],[0.3333333333333333,\"#9c179e\"],[0.4444444444444444,\"#bd3786\"],[0.5555555555555556,\"#d8576b\"],[0.6666666666666666,\"#ed7953\"],[0.7777777777777778,\"#fb9f3a\"],[0.8888888888888888,\"#fdca26\"],[1.0,\"#f0f921\"]]}],\"contourcarpet\":[{\"type\":\"contourcarpet\",\"colorbar\":{\"outlinewidth\":0,\"ticks\":\"\"}}],\"contour\":[{\"type\":\"contour\",\"colorbar\":{\"outlinewidth\":0,\"ticks\":\"\"},\"colorscale\":[[0.0,\"#0d0887\"],[0.1111111111111111,\"#46039f\"],[0.2222222222222222,\"#7201a8\"],[0.3333333333333333,\"#9c179e\"],[0.4444444444444444,\"#bd3786\"],[0.5555555555555556,\"#d8576b\"],[0.6666666666666666,\"#ed7953\"],[0.7777777777777778,\"#fb9f3a\"],[0.8888888888888888,\"#fdca26\"],[1.0,\"#f0f921\"]]}],\"surface\":[{\"type\":\"surface\",\"colorbar\":{\"outlinewidth\":0,\"ticks\":\"\"},\"colorscale\":[[0.0,\"#0d0887\"],[0.1111111111111111,\"#46039f\"],[0.2222222222222222,\"#7201a8\"],[0.3333333333333333,\"#9c179e\"],[0.4444444444444444,\"#bd3786\"],[0.5555555555555556,\"#d8576b\"],[0.6666666666666666,\"#ed7953\"],[0.7777777777777778,\"#fb9f3a\"],[0.8888888888888888,\"#fdca26\"],[1.0,\"#f0f921\"]]}],\"mesh3d\":[{\"type\":\"mesh3d\",\"colorbar\":{\"outlinewidth\":0,\"ticks\":\"\"}}],\"scatter\":[{\"fillpattern\":{\"fillmode\":\"overlay\",\"size\":10,\"solidity\":0.2},\"type\":\"scatter\"}],\"parcoords\":[{\"type\":\"parcoords\",\"line\":{\"colorbar\":{\"outlinewidth\":0,\"ticks\":\"\"}}}],\"scatterpolargl\":[{\"type\":\"scatterpolargl\",\"marker\":{\"colorbar\":{\"outlinewidth\":0,\"ticks\":\"\"}}}],\"bar\":[{\"error_x\":{\"color\":\"#2a3f5f\"},\"error_y\":{\"color\":\"#2a3f5f\"},\"marker\":{\"line\":{\"color\":\"#E5ECF6\",\"width\":0.5},\"pattern\":{\"fillmode\":\"overlay\",\"size\":10,\"solidity\":0.2}},\"type\":\"bar\"}],\"scattergeo\":[{\"type\":\"scattergeo\",\"marker\":{\"colorbar\":{\"outlinewidth\":0,\"ticks\":\"\"}}}],\"scatterpolar\":[{\"type\":\"scatterpolar\",\"marker\":{\"colorbar\":{\"outlinewidth\":0,\"ticks\":\"\"}}}],\"histogram\":[{\"marker\":{\"pattern\":{\"fillmode\":\"overlay\",\"size\":10,\"solidity\":0.2}},\"type\":\"histogram\"}],\"scattergl\":[{\"type\":\"scattergl\",\"marker\":{\"colorbar\":{\"outlinewidth\":0,\"ticks\":\"\"}}}],\"scatter3d\":[{\"type\":\"scatter3d\",\"line\":{\"colorbar\":{\"outlinewidth\":0,\"ticks\":\"\"}},\"marker\":{\"colorbar\":{\"outlinewidth\":0,\"ticks\":\"\"}}}],\"scattermapbox\":[{\"type\":\"scattermapbox\",\"marker\":{\"colorbar\":{\"outlinewidth\":0,\"ticks\":\"\"}}}],\"scatterternary\":[{\"type\":\"scatterternary\",\"marker\":{\"colorbar\":{\"outlinewidth\":0,\"ticks\":\"\"}}}],\"scattercarpet\":[{\"type\":\"scattercarpet\",\"marker\":{\"colorbar\":{\"outlinewidth\":0,\"ticks\":\"\"}}}],\"carpet\":[{\"aaxis\":{\"endlinecolor\":\"#2a3f5f\",\"gridcolor\":\"white\",\"linecolor\":\"white\",\"minorgridcolor\":\"white\",\"startlinecolor\":\"#2a3f5f\"},\"baxis\":{\"endlinecolor\":\"#2a3f5f\",\"gridcolor\":\"white\",\"linecolor\":\"white\",\"minorgridcolor\":\"white\",\"startlinecolor\":\"#2a3f5f\"},\"type\":\"carpet\"}],\"table\":[{\"cells\":{\"fill\":{\"color\":\"#EBF0F8\"},\"line\":{\"color\":\"white\"}},\"header\":{\"fill\":{\"color\":\"#C8D4E3\"},\"line\":{\"color\":\"white\"}},\"type\":\"table\"}],\"barpolar\":[{\"marker\":{\"line\":{\"color\":\"#E5ECF6\",\"width\":0.5},\"pattern\":{\"fillmode\":\"overlay\",\"size\":10,\"solidity\":0.2}},\"type\":\"barpolar\"}],\"pie\":[{\"automargin\":true,\"type\":\"pie\"}]},\"layout\":{\"autotypenumbers\":\"strict\",\"colorway\":[\"#636efa\",\"#EF553B\",\"#00cc96\",\"#ab63fa\",\"#FFA15A\",\"#19d3f3\",\"#FF6692\",\"#B6E880\",\"#FF97FF\",\"#FECB52\"],\"font\":{\"color\":\"#2a3f5f\"},\"hovermode\":\"closest\",\"hoverlabel\":{\"align\":\"left\"},\"paper_bgcolor\":\"white\",\"plot_bgcolor\":\"#E5ECF6\",\"polar\":{\"bgcolor\":\"#E5ECF6\",\"angularaxis\":{\"gridcolor\":\"white\",\"linecolor\":\"white\",\"ticks\":\"\"},\"radialaxis\":{\"gridcolor\":\"white\",\"linecolor\":\"white\",\"ticks\":\"\"}},\"ternary\":{\"bgcolor\":\"#E5ECF6\",\"aaxis\":{\"gridcolor\":\"white\",\"linecolor\":\"white\",\"ticks\":\"\"},\"baxis\":{\"gridcolor\":\"white\",\"linecolor\":\"white\",\"ticks\":\"\"},\"caxis\":{\"gridcolor\":\"white\",\"linecolor\":\"white\",\"ticks\":\"\"}},\"coloraxis\":{\"colorbar\":{\"outlinewidth\":0,\"ticks\":\"\"}},\"colorscale\":{\"sequential\":[[0.0,\"#0d0887\"],[0.1111111111111111,\"#46039f\"],[0.2222222222222222,\"#7201a8\"],[0.3333333333333333,\"#9c179e\"],[0.4444444444444444,\"#bd3786\"],[0.5555555555555556,\"#d8576b\"],[0.6666666666666666,\"#ed7953\"],[0.7777777777777778,\"#fb9f3a\"],[0.8888888888888888,\"#fdca26\"],[1.0,\"#f0f921\"]],\"sequentialminus\":[[0.0,\"#0d0887\"],[0.1111111111111111,\"#46039f\"],[0.2222222222222222,\"#7201a8\"],[0.3333333333333333,\"#9c179e\"],[0.4444444444444444,\"#bd3786\"],[0.5555555555555556,\"#d8576b\"],[0.6666666666666666,\"#ed7953\"],[0.7777777777777778,\"#fb9f3a\"],[0.8888888888888888,\"#fdca26\"],[1.0,\"#f0f921\"]],\"diverging\":[[0,\"#8e0152\"],[0.1,\"#c51b7d\"],[0.2,\"#de77ae\"],[0.3,\"#f1b6da\"],[0.4,\"#fde0ef\"],[0.5,\"#f7f7f7\"],[0.6,\"#e6f5d0\"],[0.7,\"#b8e186\"],[0.8,\"#7fbc41\"],[0.9,\"#4d9221\"],[1,\"#276419\"]]},\"xaxis\":{\"gridcolor\":\"white\",\"linecolor\":\"white\",\"ticks\":\"\",\"title\":{\"standoff\":15},\"zerolinecolor\":\"white\",\"automargin\":true,\"zerolinewidth\":2},\"yaxis\":{\"gridcolor\":\"white\",\"linecolor\":\"white\",\"ticks\":\"\",\"title\":{\"standoff\":15},\"zerolinecolor\":\"white\",\"automargin\":true,\"zerolinewidth\":2},\"scene\":{\"xaxis\":{\"backgroundcolor\":\"#E5ECF6\",\"gridcolor\":\"white\",\"linecolor\":\"white\",\"showbackground\":true,\"ticks\":\"\",\"zerolinecolor\":\"white\",\"gridwidth\":2},\"yaxis\":{\"backgroundcolor\":\"#E5ECF6\",\"gridcolor\":\"white\",\"linecolor\":\"white\",\"showbackground\":true,\"ticks\":\"\",\"zerolinecolor\":\"white\",\"gridwidth\":2},\"zaxis\":{\"backgroundcolor\":\"#E5ECF6\",\"gridcolor\":\"white\",\"linecolor\":\"white\",\"showbackground\":true,\"ticks\":\"\",\"zerolinecolor\":\"white\",\"gridwidth\":2}},\"shapedefaults\":{\"line\":{\"color\":\"#2a3f5f\"}},\"annotationdefaults\":{\"arrowcolor\":\"#2a3f5f\",\"arrowhead\":0,\"arrowwidth\":1},\"geo\":{\"bgcolor\":\"white\",\"landcolor\":\"#E5ECF6\",\"subunitcolor\":\"white\",\"showland\":true,\"showlakes\":true,\"lakecolor\":\"white\"},\"title\":{\"x\":0.05},\"mapbox\":{\"style\":\"light\"}}},\"xaxis\":{\"anchor\":\"y\",\"domain\":[0.0,1.0],\"title\":{\"text\":\"max_depth\"}},\"yaxis\":{\"anchor\":\"x\",\"domain\":[0.0,1.0],\"title\":{\"text\":\"value\"}},\"legend\":{\"title\":{\"text\":\"variable\"},\"tracegroupgap\":0},\"title\":{\"text\":\"Lemmatisation results\"}},                        {\"responsive\": true}                    ).then(function(){\n",
       "                            \n",
       "var gd = document.getElementById('e3f9f971-6471-403a-9e51-eb0fb90648a0');\n",
       "var x = new MutationObserver(function (mutations, observer) {{\n",
       "        var display = window.getComputedStyle(gd).display;\n",
       "        if (!display || display === 'none') {{\n",
       "            console.log([gd, 'removed!']);\n",
       "            Plotly.purge(gd);\n",
       "            observer.disconnect();\n",
       "        }}\n",
       "}});\n",
       "\n",
       "// Listen for the removal of the full notebook cells\n",
       "var notebookContainer = gd.closest('#notebook-container');\n",
       "if (notebookContainer) {{\n",
       "    x.observe(notebookContainer, {childList: true});\n",
       "}}\n",
       "\n",
       "// Listen for the clearing of the current output cell\n",
       "var outputEl = gd.closest('.output');\n",
       "if (outputEl) {{\n",
       "    x.observe(outputEl, {childList: true});\n",
       "}}\n",
       "\n",
       "                        })                };                });            </script>        </div>"
      ]
     },
     "metadata": {},
     "output_type": "display_data"
    }
   ],
   "source": [
    "import plotly.express as px\n",
    "\n",
    "\n",
    "fig = px.line(df, x=\"max_depth\", y= [\"f1_score\", \"accuracy_score\"], title=\"Lemmatisation results\")\n",
    "fig.show()"
   ]
  },
  {
   "cell_type": "markdown",
   "metadata": {},
   "source": [
    "[[1, 0.9278339764313276], [2, 0.9278339764313276], [3, 0.9296068411721764], [4, 0.9297111273334029], [5, 0.9311711335905726], [6, 0.9316925643967046], [7, 0.9320054228803838], [8, 0.9322139952028365], [9, 0.931275419751799], [10, 0.9327354260089686], [11, 0.932318281364063], [12, 0.9316925643967046], [13, 0.9298154134946293], [14, 0.9300239858170821], [15, 0.9292939826884973], [16, 0.9285639795599124], [17, 0.9292939826884973], [18, 0.9271039733027427], [19, 0.9248096777557618], [20, 0.9244968192720826], [21, 0.9206382313067056], [22, 0.9203253728230264], [23, 0.9161539263739702], [24, 0.9144853477943476], [25, 0.9147982062780269], [26, 0.911982479924914], [27, 0.9087496089268954], [28, 0.9072896026697257], [29, 0.9055167379288769], [30, 0.9042653039941599], [31, 0.9036395870268016], [32, 0.9040567316717072], [33, 0.9028052977369903], [34, 0.9028052977369903], [35, 0.903222442381896], [36, 0.9017624361247263], [37, 0.900928146834915], [38, 0.900928146834915], [39, 0.9011367191573678], [40, 0.9008238606736886], [41, 0.8987381374491605], [42, 0.8992595682552925], [43, 0.8989467097716133], [44, 0.8973824173532172], [45, 0.8958181249348212], [46, 0.8966524142246324], [47, 0.8961309834185004], [48, 0.8964438419021796], [49, 0.8957138387735948]]\n",
    "\n",
    "Dataset split: 0.9278339764313276"
   ]
  },
  {
   "cell_type": "markdown",
   "metadata": {},
   "source": [
    "## Try Up-sample Minority Class"
   ]
  },
  {
   "cell_type": "markdown",
   "metadata": {},
   "source": [
    "Seperate Minortity Class"
   ]
  },
  {
   "cell_type": "code",
   "execution_count": 60,
   "metadata": {},
   "outputs": [
    {
     "name": "stdout",
     "output_type": "stream",
     "text": [
      "length majority 29720\n",
      "length minority 2242\n"
     ]
    }
   ],
   "source": [
    "data_minority = train_data[train_data.label == 1]\n",
    "data_majority = train_data[train_data.label == 0]\n",
    "print(\"length majority\", len(data_majority))\n",
    "print(\"length minority\", len(data_minority))"
   ]
  },
  {
   "cell_type": "markdown",
   "metadata": {},
   "source": [
    "Upsample minority class"
   ]
  },
  {
   "cell_type": "code",
   "execution_count": 61,
   "metadata": {},
   "outputs": [],
   "source": [
    "data_minority = resample(data_minority, replace = True, n_samples=10000, random_state=55)"
   ]
  },
  {
   "cell_type": "markdown",
   "metadata": {},
   "source": [
    "Combine the classes"
   ]
  },
  {
   "cell_type": "code",
   "execution_count": 62,
   "metadata": {},
   "outputs": [
    {
     "data": {
      "text/plain": [
       "0    29720\n",
       "1    10000\n",
       "Name: label, dtype: int64"
      ]
     },
     "execution_count": 62,
     "metadata": {},
     "output_type": "execute_result"
    }
   ],
   "source": [
    "data_upsampled = pd.concat([data_majority, data_minority])\n",
    "data_upsampled.label.value_counts()"
   ]
  },
  {
   "cell_type": "code",
   "execution_count": 63,
   "metadata": {},
   "outputs": [
    {
     "data": {
      "text/html": [
       "<div>\n",
       "<style scoped>\n",
       "    .dataframe tbody tr th:only-of-type {\n",
       "        vertical-align: middle;\n",
       "    }\n",
       "\n",
       "    .dataframe tbody tr th {\n",
       "        vertical-align: top;\n",
       "    }\n",
       "\n",
       "    .dataframe thead th {\n",
       "        text-align: right;\n",
       "    }\n",
       "</style>\n",
       "<table border=\"1\" class=\"dataframe\">\n",
       "  <thead>\n",
       "    <tr style=\"text-align: right;\">\n",
       "      <th></th>\n",
       "      <th>id</th>\n",
       "      <th>label</th>\n",
       "      <th>tweet</th>\n",
       "      <th>tweet_converted_emojis</th>\n",
       "      <th>n_mentions</th>\n",
       "      <th>hashtags</th>\n",
       "      <th>without_punctuation</th>\n",
       "      <th>tweet_lower</th>\n",
       "      <th>tweet_token</th>\n",
       "      <th>clean_token</th>\n",
       "      <th>clean_hashtags</th>\n",
       "      <th>stemmed_tokens</th>\n",
       "      <th>stemmed_hashtags</th>\n",
       "      <th>lemmatized_tokens</th>\n",
       "      <th>lemmatized_hashtags</th>\n",
       "    </tr>\n",
       "  </thead>\n",
       "  <tbody>\n",
       "    <tr>\n",
       "      <th>0</th>\n",
       "      <td>1</td>\n",
       "      <td>0</td>\n",
       "      <td>@user when a father is dysfunctional and is s...</td>\n",
       "      <td>@user when a father is dysfunctional and is s...</td>\n",
       "      <td>1</td>\n",
       "      <td>['run']</td>\n",
       "      <td>user when a father is dysfunctional and is so...</td>\n",
       "      <td>user when a father is dysfunctional and is so...</td>\n",
       "      <td>['user', 'when', 'a', 'father', 'is', 'dysfunc...</td>\n",
       "      <td>['user', 'father', 'dysfunctional', 'selfish',...</td>\n",
       "      <td>['run']</td>\n",
       "      <td>['user', 'father', 'dysfunct', 'selfish', 'dra...</td>\n",
       "      <td>['run']</td>\n",
       "      <td>['user', 'father', 'dysfunctional', 'selfish',...</td>\n",
       "      <td>['run']</td>\n",
       "    </tr>\n",
       "    <tr>\n",
       "      <th>1</th>\n",
       "      <td>2</td>\n",
       "      <td>0</td>\n",
       "      <td>@user @user thanks for #lyft credit i can't us...</td>\n",
       "      <td>@user @user thanks for #lyft credit i can't us...</td>\n",
       "      <td>2</td>\n",
       "      <td>['lyft', 'disapointed', 'getthanked']</td>\n",
       "      <td>user user thanks for lyft credit i cant use ca...</td>\n",
       "      <td>user user thanks for lyft credit i cant use ca...</td>\n",
       "      <td>['user', 'user', 'thanks', 'for', 'lyft', 'cre...</td>\n",
       "      <td>['user', 'user', 'thanks', 'lyft', 'credit', '...</td>\n",
       "      <td>['lyft', 'disapointed', 'getthanked']</td>\n",
       "      <td>['user', 'user', 'thank', 'lyft', 'credit', 'c...</td>\n",
       "      <td>['lyft', 'disapoint', 'getthank']</td>\n",
       "      <td>['user', 'user', 'thanks', 'lyft', 'credit', '...</td>\n",
       "      <td>['lyft', 'disapointed', 'getthanked']</td>\n",
       "    </tr>\n",
       "    <tr>\n",
       "      <th>2</th>\n",
       "      <td>3</td>\n",
       "      <td>0</td>\n",
       "      <td>bihday your majesty</td>\n",
       "      <td>bihday your majesty</td>\n",
       "      <td>0</td>\n",
       "      <td>[]</td>\n",
       "      <td>bihday your majesty</td>\n",
       "      <td>bihday your majesty</td>\n",
       "      <td>['bihday', 'your', 'majesty']</td>\n",
       "      <td>['bihday', 'majesty']</td>\n",
       "      <td>[]</td>\n",
       "      <td>['bihday', 'majesti']</td>\n",
       "      <td>[]</td>\n",
       "      <td>['bihday', 'majesty']</td>\n",
       "      <td>[]</td>\n",
       "    </tr>\n",
       "    <tr>\n",
       "      <th>3</th>\n",
       "      <td>4</td>\n",
       "      <td>0</td>\n",
       "      <td>#model   i love u take with u all the time in ...</td>\n",
       "      <td>#model   i love u take with u all the time in ...</td>\n",
       "      <td>0</td>\n",
       "      <td>['model']</td>\n",
       "      <td>model   i love u take with u all the time in u...</td>\n",
       "      <td>model   i love u take with u all the time in u...</td>\n",
       "      <td>['model', 'i', 'love', 'u', 'take', 'with', 'u...</td>\n",
       "      <td>['model', 'love', 'u', 'take', 'u', 'time', 'u...</td>\n",
       "      <td>['model']</td>\n",
       "      <td>['model', 'love', 'u', 'take', 'u', 'time', 'u...</td>\n",
       "      <td>['model']</td>\n",
       "      <td>['model', 'love', 'u', 'take', 'u', 'time', 'u...</td>\n",
       "      <td>['model']</td>\n",
       "    </tr>\n",
       "    <tr>\n",
       "      <th>4</th>\n",
       "      <td>5</td>\n",
       "      <td>0</td>\n",
       "      <td>factsguide: society now    #motivation</td>\n",
       "      <td>factsguide: society now    #motivation</td>\n",
       "      <td>0</td>\n",
       "      <td>['motivation']</td>\n",
       "      <td>factsguide society now    motivation</td>\n",
       "      <td>factsguide society now    motivation</td>\n",
       "      <td>['factsguide', 'society', 'now', 'motivation']</td>\n",
       "      <td>['factsguide', 'society', 'motivation']</td>\n",
       "      <td>['motivation']</td>\n",
       "      <td>['factsguid', 'societi', 'motiv']</td>\n",
       "      <td>['motiv']</td>\n",
       "      <td>['factsguide', 'society', 'motivation']</td>\n",
       "      <td>['motivation']</td>\n",
       "    </tr>\n",
       "  </tbody>\n",
       "</table>\n",
       "</div>"
      ],
      "text/plain": [
       "   id  label                                              tweet  \\\n",
       "0   1      0   @user when a father is dysfunctional and is s...   \n",
       "1   2      0  @user @user thanks for #lyft credit i can't us...   \n",
       "2   3      0                                bihday your majesty   \n",
       "3   4      0  #model   i love u take with u all the time in ...   \n",
       "4   5      0             factsguide: society now    #motivation   \n",
       "\n",
       "                              tweet_converted_emojis  n_mentions  \\\n",
       "0   @user when a father is dysfunctional and is s...           1   \n",
       "1  @user @user thanks for #lyft credit i can't us...           2   \n",
       "2                                bihday your majesty           0   \n",
       "3  #model   i love u take with u all the time in ...           0   \n",
       "4             factsguide: society now    #motivation           0   \n",
       "\n",
       "                                hashtags  \\\n",
       "0                                ['run']   \n",
       "1  ['lyft', 'disapointed', 'getthanked']   \n",
       "2                                     []   \n",
       "3                              ['model']   \n",
       "4                         ['motivation']   \n",
       "\n",
       "                                 without_punctuation  \\\n",
       "0   user when a father is dysfunctional and is so...   \n",
       "1  user user thanks for lyft credit i cant use ca...   \n",
       "2                                bihday your majesty   \n",
       "3  model   i love u take with u all the time in u...   \n",
       "4               factsguide society now    motivation   \n",
       "\n",
       "                                         tweet_lower  \\\n",
       "0   user when a father is dysfunctional and is so...   \n",
       "1  user user thanks for lyft credit i cant use ca...   \n",
       "2                                bihday your majesty   \n",
       "3  model   i love u take with u all the time in u...   \n",
       "4               factsguide society now    motivation   \n",
       "\n",
       "                                         tweet_token  \\\n",
       "0  ['user', 'when', 'a', 'father', 'is', 'dysfunc...   \n",
       "1  ['user', 'user', 'thanks', 'for', 'lyft', 'cre...   \n",
       "2                      ['bihday', 'your', 'majesty']   \n",
       "3  ['model', 'i', 'love', 'u', 'take', 'with', 'u...   \n",
       "4     ['factsguide', 'society', 'now', 'motivation']   \n",
       "\n",
       "                                         clean_token  \\\n",
       "0  ['user', 'father', 'dysfunctional', 'selfish',...   \n",
       "1  ['user', 'user', 'thanks', 'lyft', 'credit', '...   \n",
       "2                              ['bihday', 'majesty']   \n",
       "3  ['model', 'love', 'u', 'take', 'u', 'time', 'u...   \n",
       "4            ['factsguide', 'society', 'motivation']   \n",
       "\n",
       "                          clean_hashtags  \\\n",
       "0                                ['run']   \n",
       "1  ['lyft', 'disapointed', 'getthanked']   \n",
       "2                                     []   \n",
       "3                              ['model']   \n",
       "4                         ['motivation']   \n",
       "\n",
       "                                      stemmed_tokens  \\\n",
       "0  ['user', 'father', 'dysfunct', 'selfish', 'dra...   \n",
       "1  ['user', 'user', 'thank', 'lyft', 'credit', 'c...   \n",
       "2                              ['bihday', 'majesti']   \n",
       "3  ['model', 'love', 'u', 'take', 'u', 'time', 'u...   \n",
       "4                  ['factsguid', 'societi', 'motiv']   \n",
       "\n",
       "                    stemmed_hashtags  \\\n",
       "0                            ['run']   \n",
       "1  ['lyft', 'disapoint', 'getthank']   \n",
       "2                                 []   \n",
       "3                          ['model']   \n",
       "4                          ['motiv']   \n",
       "\n",
       "                                   lemmatized_tokens  \\\n",
       "0  ['user', 'father', 'dysfunctional', 'selfish',...   \n",
       "1  ['user', 'user', 'thanks', 'lyft', 'credit', '...   \n",
       "2                              ['bihday', 'majesty']   \n",
       "3  ['model', 'love', 'u', 'take', 'u', 'time', 'u...   \n",
       "4            ['factsguide', 'society', 'motivation']   \n",
       "\n",
       "                     lemmatized_hashtags  \n",
       "0                                ['run']  \n",
       "1  ['lyft', 'disapointed', 'getthanked']  \n",
       "2                                     []  \n",
       "3                              ['model']  \n",
       "4                         ['motivation']  "
      ]
     },
     "execution_count": 63,
     "metadata": {},
     "output_type": "execute_result"
    }
   ],
   "source": [
    "data_upsampled.head()"
   ]
  },
  {
   "cell_type": "code",
   "execution_count": 64,
   "metadata": {},
   "outputs": [
    {
     "data": {
      "text/html": [
       "<div>\n",
       "<style scoped>\n",
       "    .dataframe tbody tr th:only-of-type {\n",
       "        vertical-align: middle;\n",
       "    }\n",
       "\n",
       "    .dataframe tbody tr th {\n",
       "        vertical-align: top;\n",
       "    }\n",
       "\n",
       "    .dataframe thead th {\n",
       "        text-align: right;\n",
       "    }\n",
       "</style>\n",
       "<table border=\"1\" class=\"dataframe\">\n",
       "  <thead>\n",
       "    <tr style=\"text-align: right;\">\n",
       "      <th></th>\n",
       "      <th>lemmatized_tokens</th>\n",
       "      <th>lemmatized_hashtags</th>\n",
       "      <th>n_mentions</th>\n",
       "    </tr>\n",
       "  </thead>\n",
       "  <tbody>\n",
       "    <tr>\n",
       "      <th>0</th>\n",
       "      <td>['user', 'father', 'dysfunctional', 'selfish',...</td>\n",
       "      <td>['run']</td>\n",
       "      <td>1</td>\n",
       "    </tr>\n",
       "    <tr>\n",
       "      <th>1</th>\n",
       "      <td>['user', 'user', 'thanks', 'lyft', 'credit', '...</td>\n",
       "      <td>['lyft', 'disapointed', 'getthanked']</td>\n",
       "      <td>2</td>\n",
       "    </tr>\n",
       "    <tr>\n",
       "      <th>2</th>\n",
       "      <td>['bihday', 'majesty']</td>\n",
       "      <td>[]</td>\n",
       "      <td>0</td>\n",
       "    </tr>\n",
       "    <tr>\n",
       "      <th>3</th>\n",
       "      <td>['model', 'love', 'u', 'take', 'u', 'time', 'u...</td>\n",
       "      <td>['model']</td>\n",
       "      <td>0</td>\n",
       "    </tr>\n",
       "    <tr>\n",
       "      <th>4</th>\n",
       "      <td>['factsguide', 'society', 'motivation']</td>\n",
       "      <td>['motivation']</td>\n",
       "      <td>0</td>\n",
       "    </tr>\n",
       "  </tbody>\n",
       "</table>\n",
       "</div>"
      ],
      "text/plain": [
       "                                   lemmatized_tokens  \\\n",
       "0  ['user', 'father', 'dysfunctional', 'selfish',...   \n",
       "1  ['user', 'user', 'thanks', 'lyft', 'credit', '...   \n",
       "2                              ['bihday', 'majesty']   \n",
       "3  ['model', 'love', 'u', 'take', 'u', 'time', 'u...   \n",
       "4            ['factsguide', 'society', 'motivation']   \n",
       "\n",
       "                     lemmatized_hashtags  n_mentions  \n",
       "0                                ['run']           1  \n",
       "1  ['lyft', 'disapointed', 'getthanked']           2  \n",
       "2                                     []           0  \n",
       "3                              ['model']           0  \n",
       "4                         ['motivation']           0  "
      ]
     },
     "execution_count": 64,
     "metadata": {},
     "output_type": "execute_result"
    }
   ],
   "source": [
    "features = [\"lemmatized_tokens\", \"lemmatized_hashtags\", \"n_mentions\"]\n",
    "\n",
    "X_upsampled = data_upsampled[features]\n",
    "y_upsampled = data_upsampled.label\n",
    "\n",
    "X.head()"
   ]
  },
  {
   "cell_type": "markdown",
   "metadata": {},
   "source": [
    "### Using TF-IDF Vectorizer"
   ]
  },
  {
   "cell_type": "code",
   "execution_count": 65,
   "metadata": {},
   "outputs": [
    {
     "data": {
      "text/plain": [
       "(39720, 3)"
      ]
     },
     "execution_count": 65,
     "metadata": {},
     "output_type": "execute_result"
    }
   ],
   "source": [
    "X_upsampled.shape"
   ]
  },
  {
   "cell_type": "code",
   "execution_count": 73,
   "metadata": {},
   "outputs": [],
   "source": [
    "tf = TfidfVectorizer()\n",
    "\n",
    "X_vec = tf.fit(X_upsampled[\"lemmatized_tokens\"])\n",
    "X_lem_up = X_vec.transform(X_upsampled[\"lemmatized_tokens\"])"
   ]
  },
  {
   "cell_type": "code",
   "execution_count": 67,
   "metadata": {},
   "outputs": [
    {
     "data": {
      "text/plain": [
       "(39720, 40603)"
      ]
     },
     "execution_count": 67,
     "metadata": {},
     "output_type": "execute_result"
    }
   ],
   "source": [
    "X_lem_up.shape"
   ]
  },
  {
   "cell_type": "markdown",
   "metadata": {},
   "source": [
    "## Split data"
   ]
  },
  {
   "cell_type": "code",
   "execution_count": 68,
   "metadata": {},
   "outputs": [],
   "source": [
    "X_train_up, X_test_up, y_train_up, y_test_up = train_test_split(X_lem_up, y_upsampled, test_size=0.2, random_state = 17, stratify=y_upsampled)"
   ]
  },
  {
   "cell_type": "code",
   "execution_count": 69,
   "metadata": {},
   "outputs": [
    {
     "name": "stdout",
     "output_type": "stream",
     "text": [
      "Shape X_train (31776, 40603)\n",
      "Shape X_test (7944, 40603)\n"
     ]
    }
   ],
   "source": [
    "print(f\"Shape X_train {X_train_up.shape}\")\n",
    "print(f\"Shape X_test {X_test_up.shape}\")"
   ]
  },
  {
   "cell_type": "markdown",
   "metadata": {},
   "source": [
    "## Fitting model"
   ]
  },
  {
   "cell_type": "code",
   "execution_count": 70,
   "metadata": {},
   "outputs": [
    {
     "data": {
      "text/html": [
       "<div>\n",
       "<style scoped>\n",
       "    .dataframe tbody tr th:only-of-type {\n",
       "        vertical-align: middle;\n",
       "    }\n",
       "\n",
       "    .dataframe tbody tr th {\n",
       "        vertical-align: top;\n",
       "    }\n",
       "\n",
       "    .dataframe thead th {\n",
       "        text-align: right;\n",
       "    }\n",
       "</style>\n",
       "<table border=\"1\" class=\"dataframe\">\n",
       "  <thead>\n",
       "    <tr style=\"text-align: right;\">\n",
       "      <th></th>\n",
       "      <th>max_depth</th>\n",
       "      <th>precision_score</th>\n",
       "      <th>recall_score</th>\n",
       "      <th>accuracy_score</th>\n",
       "      <th>f1_score</th>\n",
       "    </tr>\n",
       "  </thead>\n",
       "  <tbody>\n",
       "    <tr>\n",
       "      <th>0</th>\n",
       "      <td>5</td>\n",
       "      <td>0.927273</td>\n",
       "      <td>0.2550</td>\n",
       "      <td>0.807402</td>\n",
       "      <td>0.400000</td>\n",
       "    </tr>\n",
       "    <tr>\n",
       "      <th>1</th>\n",
       "      <td>6</td>\n",
       "      <td>0.792497</td>\n",
       "      <td>0.3380</td>\n",
       "      <td>0.811052</td>\n",
       "      <td>0.473887</td>\n",
       "    </tr>\n",
       "    <tr>\n",
       "      <th>2</th>\n",
       "      <td>7</td>\n",
       "      <td>0.936982</td>\n",
       "      <td>0.2825</td>\n",
       "      <td>0.814577</td>\n",
       "      <td>0.434114</td>\n",
       "    </tr>\n",
       "    <tr>\n",
       "      <th>3</th>\n",
       "      <td>8</td>\n",
       "      <td>0.943114</td>\n",
       "      <td>0.3150</td>\n",
       "      <td>0.822759</td>\n",
       "      <td>0.472264</td>\n",
       "    </tr>\n",
       "    <tr>\n",
       "      <th>4</th>\n",
       "      <td>9</td>\n",
       "      <td>0.911528</td>\n",
       "      <td>0.3400</td>\n",
       "      <td>0.825529</td>\n",
       "      <td>0.495266</td>\n",
       "    </tr>\n",
       "    <tr>\n",
       "      <th>...</th>\n",
       "      <td>...</td>\n",
       "      <td>...</td>\n",
       "      <td>...</td>\n",
       "      <td>...</td>\n",
       "      <td>...</td>\n",
       "    </tr>\n",
       "    <tr>\n",
       "      <th>90</th>\n",
       "      <td>95</td>\n",
       "      <td>0.910137</td>\n",
       "      <td>0.8305</td>\n",
       "      <td>0.936682</td>\n",
       "      <td>0.868497</td>\n",
       "    </tr>\n",
       "    <tr>\n",
       "      <th>91</th>\n",
       "      <td>96</td>\n",
       "      <td>0.913925</td>\n",
       "      <td>0.8335</td>\n",
       "      <td>0.938318</td>\n",
       "      <td>0.871862</td>\n",
       "    </tr>\n",
       "    <tr>\n",
       "      <th>92</th>\n",
       "      <td>97</td>\n",
       "      <td>0.916072</td>\n",
       "      <td>0.8350</td>\n",
       "      <td>0.939199</td>\n",
       "      <td>0.873659</td>\n",
       "    </tr>\n",
       "    <tr>\n",
       "      <th>93</th>\n",
       "      <td>98</td>\n",
       "      <td>0.913162</td>\n",
       "      <td>0.8360</td>\n",
       "      <td>0.938696</td>\n",
       "      <td>0.872879</td>\n",
       "    </tr>\n",
       "    <tr>\n",
       "      <th>94</th>\n",
       "      <td>99</td>\n",
       "      <td>0.913943</td>\n",
       "      <td>0.8390</td>\n",
       "      <td>0.939577</td>\n",
       "      <td>0.874870</td>\n",
       "    </tr>\n",
       "  </tbody>\n",
       "</table>\n",
       "<p>95 rows × 5 columns</p>\n",
       "</div>"
      ],
      "text/plain": [
       "    max_depth  precision_score  recall_score  accuracy_score  f1_score\n",
       "0           5         0.927273        0.2550        0.807402  0.400000\n",
       "1           6         0.792497        0.3380        0.811052  0.473887\n",
       "2           7         0.936982        0.2825        0.814577  0.434114\n",
       "3           8         0.943114        0.3150        0.822759  0.472264\n",
       "4           9         0.911528        0.3400        0.825529  0.495266\n",
       "..        ...              ...           ...             ...       ...\n",
       "90         95         0.910137        0.8305        0.936682  0.868497\n",
       "91         96         0.913925        0.8335        0.938318  0.871862\n",
       "92         97         0.916072        0.8350        0.939199  0.873659\n",
       "93         98         0.913162        0.8360        0.938696  0.872879\n",
       "94         99         0.913943        0.8390        0.939577  0.874870\n",
       "\n",
       "[95 rows x 5 columns]"
      ]
     },
     "execution_count": 70,
     "metadata": {},
     "output_type": "execute_result"
    }
   ],
   "source": [
    "result_precision_score = []\n",
    "result_recall_score = []\n",
    "result_accuracy_score = []\n",
    "result_f1_score = []\n",
    "max_depth = 100\n",
    "\n",
    "for i in range(5, max_depth):\n",
    "    classifier = DecisionTreeClassifier(random_state=55, max_depth=i)\n",
    "\n",
    "    model = classifier.fit(X_train_up, y_train_up)\n",
    "\n",
    "    y_pred = model.predict(X_test_up)\n",
    "    \n",
    "    result_precision_score.append(metrics.precision_score(y_test_up, y_pred))\n",
    "    result_recall_score.append(metrics.recall_score(y_test_up, y_pred))\n",
    "    result_accuracy_score.append(metrics.accuracy_score(y_test_up, y_pred))\n",
    "    result_f1_score.append(metrics.f1_score(y_test_up, y_pred))\n",
    "\n",
    "\n",
    "#print(len([i for i in range(5, max_depth)]), len(result_precision_score),len(result_recall_score),len(result_accuracy_score),len(result_f1_score))\n",
    "\n",
    "\n",
    "result_data = {\n",
    "    \"max_depth\": [i for i in range(5, max_depth)],\n",
    "    \"precision_score\": result_precision_score,\n",
    "    \"recall_score\": result_recall_score,\n",
    "    \"accuracy_score\": result_accuracy_score,\n",
    "    \"f1_score\": result_f1_score\n",
    "}\n",
    "df_upsampled = pd.DataFrame(result_data)\n",
    "df_upsampled"
   ]
  },
  {
   "cell_type": "code",
   "execution_count": 71,
   "metadata": {},
   "outputs": [
    {
     "data": {
      "application/vnd.plotly.v1+json": {
       "config": {
        "plotlyServerURL": "https://plot.ly"
       },
       "data": [
        {
         "hovertemplate": "variable=f1_score<br>max_depth=%{x}<br>value=%{y}<extra></extra>",
         "legendgroup": "f1_score",
         "line": {
          "color": "#636efa",
          "dash": "solid"
         },
         "marker": {
          "symbol": "circle"
         },
         "mode": "lines",
         "name": "f1_score",
         "orientation": "v",
         "showlegend": true,
         "type": "scatter",
         "x": [
          5,
          6,
          7,
          8,
          9,
          10,
          11,
          12,
          13,
          14,
          15,
          16,
          17,
          18,
          19,
          20,
          21,
          22,
          23,
          24,
          25,
          26,
          27,
          28,
          29,
          30,
          31,
          32,
          33,
          34,
          35,
          36,
          37,
          38,
          39,
          40,
          41,
          42,
          43,
          44,
          45,
          46,
          47,
          48,
          49,
          50,
          51,
          52,
          53,
          54,
          55,
          56,
          57,
          58,
          59,
          60,
          61,
          62,
          63,
          64,
          65,
          66,
          67,
          68,
          69,
          70,
          71,
          72,
          73,
          74,
          75,
          76,
          77,
          78,
          79,
          80,
          81,
          82,
          83,
          84,
          85,
          86,
          87,
          88,
          89,
          90,
          91,
          92,
          93,
          94,
          95,
          96,
          97,
          98,
          99
         ],
         "xaxis": "x",
         "y": [
          0.4,
          0.4738871363477042,
          0.4341144832885132,
          0.472263868065967,
          0.495265841223598,
          0.5185185185185185,
          0.5460942997888811,
          0.5713296398891966,
          0.5898397545175589,
          0.6035064059339177,
          0.6147677915135316,
          0.6281755196304849,
          0.6452032520325203,
          0.6522161112908444,
          0.6580728327425072,
          0.6651699807568954,
          0.6730462519936203,
          0.6774603174603174,
          0.6837121212121212,
          0.6906700062617408,
          0.6967621419676213,
          0.7017978921264724,
          0.707920792079208,
          0.7080630213160334,
          0.7168087697929354,
          0.7209231703613725,
          0.720895071061385,
          0.7294541091781643,
          0.7329937069223854,
          0.7362736273627364,
          0.7393759286775632,
          0.7437722419928825,
          0.7489614243323442,
          0.7522228808535861,
          0.7540596397992323,
          0.7585601404741,
          0.765323992994746,
          0.7701718613457618,
          0.775462962962963,
          0.7766541462005201,
          0.7800401491253226,
          0.7884670282614901,
          0.7885325007096224,
          0.7970646344905447,
          0.8001126126126126,
          0.8014623172103488,
          0.8053766451974238,
          0.8083916083916084,
          0.8106904231625834,
          0.8147123893805309,
          0.8155124653739612,
          0.8168467719589914,
          0.8168234643054786,
          0.8176795580110497,
          0.8199339207048458,
          0.82534435261708,
          0.8268861454046639,
          0.8292682926829268,
          0.827416712179137,
          0.82992082992083,
          0.8327868852459015,
          0.8339684267827979,
          0.8354567633505016,
          0.8375372931922972,
          0.8399675060926077,
          0.8411062906724512,
          0.8417071853052404,
          0.8423035522066739,
          0.8445763626551538,
          0.8452830188679246,
          0.8452444922084902,
          0.8497047772410091,
          0.8504947847017919,
          0.8529332976158586,
          0.8543223052294556,
          0.8550879062333511,
          0.8573709419904204,
          0.8575982996811903,
          0.8610079575596817,
          0.8607057574953569,
          0.8618316569613551,
          0.8630354309888947,
          0.8652931854199684,
          0.8649220195611949,
          0.8642366613840465,
          0.8646517739816032,
          0.8662286465177399,
          0.8684210526315789,
          0.8696109358569926,
          0.8694284216046146,
          0.8684967320261439,
          0.8718619246861925,
          0.8736594297671986,
          0.8728791438266771,
          0.8748696558915537
         ],
         "yaxis": "y"
        },
        {
         "hovertemplate": "variable=accuracy_score<br>max_depth=%{x}<br>value=%{y}<extra></extra>",
         "legendgroup": "accuracy_score",
         "line": {
          "color": "#EF553B",
          "dash": "solid"
         },
         "marker": {
          "symbol": "circle"
         },
         "mode": "lines",
         "name": "accuracy_score",
         "orientation": "v",
         "showlegend": true,
         "type": "scatter",
         "x": [
          5,
          6,
          7,
          8,
          9,
          10,
          11,
          12,
          13,
          14,
          15,
          16,
          17,
          18,
          19,
          20,
          21,
          22,
          23,
          24,
          25,
          26,
          27,
          28,
          29,
          30,
          31,
          32,
          33,
          34,
          35,
          36,
          37,
          38,
          39,
          40,
          41,
          42,
          43,
          44,
          45,
          46,
          47,
          48,
          49,
          50,
          51,
          52,
          53,
          54,
          55,
          56,
          57,
          58,
          59,
          60,
          61,
          62,
          63,
          64,
          65,
          66,
          67,
          68,
          69,
          70,
          71,
          72,
          73,
          74,
          75,
          76,
          77,
          78,
          79,
          80,
          81,
          82,
          83,
          84,
          85,
          86,
          87,
          88,
          89,
          90,
          91,
          92,
          93,
          94,
          95,
          96,
          97,
          98,
          99
         ],
         "xaxis": "x",
         "y": [
          0.8074018126888217,
          0.8110523665659617,
          0.8145770392749244,
          0.8227593152064451,
          0.8255287009063444,
          0.8314451158106747,
          0.8376132930513596,
          0.844159113796576,
          0.8485649546827795,
          0.851963746223565,
          0.8548590130916415,
          0.8581319234642497,
          0.8626636455186304,
          0.8646777442094663,
          0.8664400805639476,
          0.8685800604229608,
          0.8709718026183283,
          0.8721047331319235,
          0.8738670694864048,
          0.8756294058408862,
          0.8773917421953675,
          0.8789023162134945,
          0.8811681772406847,
          0.8810422960725075,
          0.8829305135951662,
          0.8843152064451159,
          0.8838116817724069,
          0.8864551863041289,
          0.8878398791540786,
          0.8893504531722054,
          0.8896022155085599,
          0.8912386706948641,
          0.8935045317220544,
          0.8947633434038268,
          0.8951409869083585,
          0.8961480362537765,
          0.8987915407854985,
          0.900679758308157,
          0.9023162134944612,
          0.902693856998993,
          0.9034491440080564,
          0.9067220543806647,
          0.9062185297079557,
          0.9094914400805639,
          0.9106243705941591,
          0.9111278952668681,
          0.9125125881168177,
          0.9137713997985901,
          0.9144008056394763,
          0.9156596173212488,
          0.9161631419939577,
          0.9167925478348439,
          0.9166666666666666,
          0.9169184290030211,
          0.9176737160120846,
          0.9201913393756294,
          0.9205689828801611,
          0.921576032225579,
          0.9204431017119838,
          0.921576032225579,
          0.9229607250755287,
          0.9232124874118832,
          0.923590130916415,
          0.9245971802618328,
          0.9256042296072508,
          0.926233635448137,
          0.926233635448137,
          0.926233635448137,
          0.9274924471299094,
          0.9277442094662638,
          0.9274924471299094,
          0.9295065458207452,
          0.9296324269889225,
          0.9308912386706949,
          0.9312688821752266,
          0.9315206445115811,
          0.932527693856999,
          0.932527693856999,
          0.9340382678751259,
          0.9339123867069486,
          0.9342900302114804,
          0.9347935548841894,
          0.9358006042296072,
          0.93567472306143,
          0.9352970795568983,
          0.9351711983887211,
          0.9359264853977844,
          0.9370594159113796,
          0.9375629405840886,
          0.9373111782477341,
          0.9366817724068479,
          0.9383182275931521,
          0.9391993957703928,
          0.9386958710976838,
          0.9395770392749244
         ],
         "yaxis": "y"
        }
       ],
       "layout": {
        "legend": {
         "title": {
          "text": "variable"
         },
         "tracegroupgap": 0
        },
        "template": {
         "data": {
          "bar": [
           {
            "error_x": {
             "color": "#2a3f5f"
            },
            "error_y": {
             "color": "#2a3f5f"
            },
            "marker": {
             "line": {
              "color": "#E5ECF6",
              "width": 0.5
             },
             "pattern": {
              "fillmode": "overlay",
              "size": 10,
              "solidity": 0.2
             }
            },
            "type": "bar"
           }
          ],
          "barpolar": [
           {
            "marker": {
             "line": {
              "color": "#E5ECF6",
              "width": 0.5
             },
             "pattern": {
              "fillmode": "overlay",
              "size": 10,
              "solidity": 0.2
             }
            },
            "type": "barpolar"
           }
          ],
          "carpet": [
           {
            "aaxis": {
             "endlinecolor": "#2a3f5f",
             "gridcolor": "white",
             "linecolor": "white",
             "minorgridcolor": "white",
             "startlinecolor": "#2a3f5f"
            },
            "baxis": {
             "endlinecolor": "#2a3f5f",
             "gridcolor": "white",
             "linecolor": "white",
             "minorgridcolor": "white",
             "startlinecolor": "#2a3f5f"
            },
            "type": "carpet"
           }
          ],
          "choropleth": [
           {
            "colorbar": {
             "outlinewidth": 0,
             "ticks": ""
            },
            "type": "choropleth"
           }
          ],
          "contour": [
           {
            "colorbar": {
             "outlinewidth": 0,
             "ticks": ""
            },
            "colorscale": [
             [
              0,
              "#0d0887"
             ],
             [
              0.1111111111111111,
              "#46039f"
             ],
             [
              0.2222222222222222,
              "#7201a8"
             ],
             [
              0.3333333333333333,
              "#9c179e"
             ],
             [
              0.4444444444444444,
              "#bd3786"
             ],
             [
              0.5555555555555556,
              "#d8576b"
             ],
             [
              0.6666666666666666,
              "#ed7953"
             ],
             [
              0.7777777777777778,
              "#fb9f3a"
             ],
             [
              0.8888888888888888,
              "#fdca26"
             ],
             [
              1,
              "#f0f921"
             ]
            ],
            "type": "contour"
           }
          ],
          "contourcarpet": [
           {
            "colorbar": {
             "outlinewidth": 0,
             "ticks": ""
            },
            "type": "contourcarpet"
           }
          ],
          "heatmap": [
           {
            "colorbar": {
             "outlinewidth": 0,
             "ticks": ""
            },
            "colorscale": [
             [
              0,
              "#0d0887"
             ],
             [
              0.1111111111111111,
              "#46039f"
             ],
             [
              0.2222222222222222,
              "#7201a8"
             ],
             [
              0.3333333333333333,
              "#9c179e"
             ],
             [
              0.4444444444444444,
              "#bd3786"
             ],
             [
              0.5555555555555556,
              "#d8576b"
             ],
             [
              0.6666666666666666,
              "#ed7953"
             ],
             [
              0.7777777777777778,
              "#fb9f3a"
             ],
             [
              0.8888888888888888,
              "#fdca26"
             ],
             [
              1,
              "#f0f921"
             ]
            ],
            "type": "heatmap"
           }
          ],
          "heatmapgl": [
           {
            "colorbar": {
             "outlinewidth": 0,
             "ticks": ""
            },
            "colorscale": [
             [
              0,
              "#0d0887"
             ],
             [
              0.1111111111111111,
              "#46039f"
             ],
             [
              0.2222222222222222,
              "#7201a8"
             ],
             [
              0.3333333333333333,
              "#9c179e"
             ],
             [
              0.4444444444444444,
              "#bd3786"
             ],
             [
              0.5555555555555556,
              "#d8576b"
             ],
             [
              0.6666666666666666,
              "#ed7953"
             ],
             [
              0.7777777777777778,
              "#fb9f3a"
             ],
             [
              0.8888888888888888,
              "#fdca26"
             ],
             [
              1,
              "#f0f921"
             ]
            ],
            "type": "heatmapgl"
           }
          ],
          "histogram": [
           {
            "marker": {
             "pattern": {
              "fillmode": "overlay",
              "size": 10,
              "solidity": 0.2
             }
            },
            "type": "histogram"
           }
          ],
          "histogram2d": [
           {
            "colorbar": {
             "outlinewidth": 0,
             "ticks": ""
            },
            "colorscale": [
             [
              0,
              "#0d0887"
             ],
             [
              0.1111111111111111,
              "#46039f"
             ],
             [
              0.2222222222222222,
              "#7201a8"
             ],
             [
              0.3333333333333333,
              "#9c179e"
             ],
             [
              0.4444444444444444,
              "#bd3786"
             ],
             [
              0.5555555555555556,
              "#d8576b"
             ],
             [
              0.6666666666666666,
              "#ed7953"
             ],
             [
              0.7777777777777778,
              "#fb9f3a"
             ],
             [
              0.8888888888888888,
              "#fdca26"
             ],
             [
              1,
              "#f0f921"
             ]
            ],
            "type": "histogram2d"
           }
          ],
          "histogram2dcontour": [
           {
            "colorbar": {
             "outlinewidth": 0,
             "ticks": ""
            },
            "colorscale": [
             [
              0,
              "#0d0887"
             ],
             [
              0.1111111111111111,
              "#46039f"
             ],
             [
              0.2222222222222222,
              "#7201a8"
             ],
             [
              0.3333333333333333,
              "#9c179e"
             ],
             [
              0.4444444444444444,
              "#bd3786"
             ],
             [
              0.5555555555555556,
              "#d8576b"
             ],
             [
              0.6666666666666666,
              "#ed7953"
             ],
             [
              0.7777777777777778,
              "#fb9f3a"
             ],
             [
              0.8888888888888888,
              "#fdca26"
             ],
             [
              1,
              "#f0f921"
             ]
            ],
            "type": "histogram2dcontour"
           }
          ],
          "mesh3d": [
           {
            "colorbar": {
             "outlinewidth": 0,
             "ticks": ""
            },
            "type": "mesh3d"
           }
          ],
          "parcoords": [
           {
            "line": {
             "colorbar": {
              "outlinewidth": 0,
              "ticks": ""
             }
            },
            "type": "parcoords"
           }
          ],
          "pie": [
           {
            "automargin": true,
            "type": "pie"
           }
          ],
          "scatter": [
           {
            "fillpattern": {
             "fillmode": "overlay",
             "size": 10,
             "solidity": 0.2
            },
            "type": "scatter"
           }
          ],
          "scatter3d": [
           {
            "line": {
             "colorbar": {
              "outlinewidth": 0,
              "ticks": ""
             }
            },
            "marker": {
             "colorbar": {
              "outlinewidth": 0,
              "ticks": ""
             }
            },
            "type": "scatter3d"
           }
          ],
          "scattercarpet": [
           {
            "marker": {
             "colorbar": {
              "outlinewidth": 0,
              "ticks": ""
             }
            },
            "type": "scattercarpet"
           }
          ],
          "scattergeo": [
           {
            "marker": {
             "colorbar": {
              "outlinewidth": 0,
              "ticks": ""
             }
            },
            "type": "scattergeo"
           }
          ],
          "scattergl": [
           {
            "marker": {
             "colorbar": {
              "outlinewidth": 0,
              "ticks": ""
             }
            },
            "type": "scattergl"
           }
          ],
          "scattermapbox": [
           {
            "marker": {
             "colorbar": {
              "outlinewidth": 0,
              "ticks": ""
             }
            },
            "type": "scattermapbox"
           }
          ],
          "scatterpolar": [
           {
            "marker": {
             "colorbar": {
              "outlinewidth": 0,
              "ticks": ""
             }
            },
            "type": "scatterpolar"
           }
          ],
          "scatterpolargl": [
           {
            "marker": {
             "colorbar": {
              "outlinewidth": 0,
              "ticks": ""
             }
            },
            "type": "scatterpolargl"
           }
          ],
          "scatterternary": [
           {
            "marker": {
             "colorbar": {
              "outlinewidth": 0,
              "ticks": ""
             }
            },
            "type": "scatterternary"
           }
          ],
          "surface": [
           {
            "colorbar": {
             "outlinewidth": 0,
             "ticks": ""
            },
            "colorscale": [
             [
              0,
              "#0d0887"
             ],
             [
              0.1111111111111111,
              "#46039f"
             ],
             [
              0.2222222222222222,
              "#7201a8"
             ],
             [
              0.3333333333333333,
              "#9c179e"
             ],
             [
              0.4444444444444444,
              "#bd3786"
             ],
             [
              0.5555555555555556,
              "#d8576b"
             ],
             [
              0.6666666666666666,
              "#ed7953"
             ],
             [
              0.7777777777777778,
              "#fb9f3a"
             ],
             [
              0.8888888888888888,
              "#fdca26"
             ],
             [
              1,
              "#f0f921"
             ]
            ],
            "type": "surface"
           }
          ],
          "table": [
           {
            "cells": {
             "fill": {
              "color": "#EBF0F8"
             },
             "line": {
              "color": "white"
             }
            },
            "header": {
             "fill": {
              "color": "#C8D4E3"
             },
             "line": {
              "color": "white"
             }
            },
            "type": "table"
           }
          ]
         },
         "layout": {
          "annotationdefaults": {
           "arrowcolor": "#2a3f5f",
           "arrowhead": 0,
           "arrowwidth": 1
          },
          "autotypenumbers": "strict",
          "coloraxis": {
           "colorbar": {
            "outlinewidth": 0,
            "ticks": ""
           }
          },
          "colorscale": {
           "diverging": [
            [
             0,
             "#8e0152"
            ],
            [
             0.1,
             "#c51b7d"
            ],
            [
             0.2,
             "#de77ae"
            ],
            [
             0.3,
             "#f1b6da"
            ],
            [
             0.4,
             "#fde0ef"
            ],
            [
             0.5,
             "#f7f7f7"
            ],
            [
             0.6,
             "#e6f5d0"
            ],
            [
             0.7,
             "#b8e186"
            ],
            [
             0.8,
             "#7fbc41"
            ],
            [
             0.9,
             "#4d9221"
            ],
            [
             1,
             "#276419"
            ]
           ],
           "sequential": [
            [
             0,
             "#0d0887"
            ],
            [
             0.1111111111111111,
             "#46039f"
            ],
            [
             0.2222222222222222,
             "#7201a8"
            ],
            [
             0.3333333333333333,
             "#9c179e"
            ],
            [
             0.4444444444444444,
             "#bd3786"
            ],
            [
             0.5555555555555556,
             "#d8576b"
            ],
            [
             0.6666666666666666,
             "#ed7953"
            ],
            [
             0.7777777777777778,
             "#fb9f3a"
            ],
            [
             0.8888888888888888,
             "#fdca26"
            ],
            [
             1,
             "#f0f921"
            ]
           ],
           "sequentialminus": [
            [
             0,
             "#0d0887"
            ],
            [
             0.1111111111111111,
             "#46039f"
            ],
            [
             0.2222222222222222,
             "#7201a8"
            ],
            [
             0.3333333333333333,
             "#9c179e"
            ],
            [
             0.4444444444444444,
             "#bd3786"
            ],
            [
             0.5555555555555556,
             "#d8576b"
            ],
            [
             0.6666666666666666,
             "#ed7953"
            ],
            [
             0.7777777777777778,
             "#fb9f3a"
            ],
            [
             0.8888888888888888,
             "#fdca26"
            ],
            [
             1,
             "#f0f921"
            ]
           ]
          },
          "colorway": [
           "#636efa",
           "#EF553B",
           "#00cc96",
           "#ab63fa",
           "#FFA15A",
           "#19d3f3",
           "#FF6692",
           "#B6E880",
           "#FF97FF",
           "#FECB52"
          ],
          "font": {
           "color": "#2a3f5f"
          },
          "geo": {
           "bgcolor": "white",
           "lakecolor": "white",
           "landcolor": "#E5ECF6",
           "showlakes": true,
           "showland": true,
           "subunitcolor": "white"
          },
          "hoverlabel": {
           "align": "left"
          },
          "hovermode": "closest",
          "mapbox": {
           "style": "light"
          },
          "paper_bgcolor": "white",
          "plot_bgcolor": "#E5ECF6",
          "polar": {
           "angularaxis": {
            "gridcolor": "white",
            "linecolor": "white",
            "ticks": ""
           },
           "bgcolor": "#E5ECF6",
           "radialaxis": {
            "gridcolor": "white",
            "linecolor": "white",
            "ticks": ""
           }
          },
          "scene": {
           "xaxis": {
            "backgroundcolor": "#E5ECF6",
            "gridcolor": "white",
            "gridwidth": 2,
            "linecolor": "white",
            "showbackground": true,
            "ticks": "",
            "zerolinecolor": "white"
           },
           "yaxis": {
            "backgroundcolor": "#E5ECF6",
            "gridcolor": "white",
            "gridwidth": 2,
            "linecolor": "white",
            "showbackground": true,
            "ticks": "",
            "zerolinecolor": "white"
           },
           "zaxis": {
            "backgroundcolor": "#E5ECF6",
            "gridcolor": "white",
            "gridwidth": 2,
            "linecolor": "white",
            "showbackground": true,
            "ticks": "",
            "zerolinecolor": "white"
           }
          },
          "shapedefaults": {
           "line": {
            "color": "#2a3f5f"
           }
          },
          "ternary": {
           "aaxis": {
            "gridcolor": "white",
            "linecolor": "white",
            "ticks": ""
           },
           "baxis": {
            "gridcolor": "white",
            "linecolor": "white",
            "ticks": ""
           },
           "bgcolor": "#E5ECF6",
           "caxis": {
            "gridcolor": "white",
            "linecolor": "white",
            "ticks": ""
           }
          },
          "title": {
           "x": 0.05
          },
          "xaxis": {
           "automargin": true,
           "gridcolor": "white",
           "linecolor": "white",
           "ticks": "",
           "title": {
            "standoff": 15
           },
           "zerolinecolor": "white",
           "zerolinewidth": 2
          },
          "yaxis": {
           "automargin": true,
           "gridcolor": "white",
           "linecolor": "white",
           "ticks": "",
           "title": {
            "standoff": 15
           },
           "zerolinecolor": "white",
           "zerolinewidth": 2
          }
         }
        },
        "title": {
         "text": "Lemmatisation results upsampeled"
        },
        "xaxis": {
         "anchor": "y",
         "domain": [
          0,
          1
         ],
         "title": {
          "text": "max_depth"
         }
        },
        "yaxis": {
         "anchor": "x",
         "domain": [
          0,
          1
         ],
         "title": {
          "text": "value"
         }
        }
       }
      },
      "text/html": [
       "<div>                            <div id=\"529c296d-48ff-44c9-a8ec-192116c2aa12\" class=\"plotly-graph-div\" style=\"height:525px; width:100%;\"></div>            <script type=\"text/javascript\">                require([\"plotly\"], function(Plotly) {                    window.PLOTLYENV=window.PLOTLYENV || {};                                    if (document.getElementById(\"529c296d-48ff-44c9-a8ec-192116c2aa12\")) {                    Plotly.newPlot(                        \"529c296d-48ff-44c9-a8ec-192116c2aa12\",                        [{\"hovertemplate\":\"variable=f1_score<br>max_depth=%{x}<br>value=%{y}<extra></extra>\",\"legendgroup\":\"f1_score\",\"line\":{\"color\":\"#636efa\",\"dash\":\"solid\"},\"marker\":{\"symbol\":\"circle\"},\"mode\":\"lines\",\"name\":\"f1_score\",\"orientation\":\"v\",\"showlegend\":true,\"x\":[5,6,7,8,9,10,11,12,13,14,15,16,17,18,19,20,21,22,23,24,25,26,27,28,29,30,31,32,33,34,35,36,37,38,39,40,41,42,43,44,45,46,47,48,49,50,51,52,53,54,55,56,57,58,59,60,61,62,63,64,65,66,67,68,69,70,71,72,73,74,75,76,77,78,79,80,81,82,83,84,85,86,87,88,89,90,91,92,93,94,95,96,97,98,99],\"xaxis\":\"x\",\"y\":[0.4,0.4738871363477042,0.4341144832885132,0.472263868065967,0.495265841223598,0.5185185185185185,0.5460942997888811,0.5713296398891966,0.5898397545175589,0.6035064059339177,0.6147677915135316,0.6281755196304849,0.6452032520325203,0.6522161112908444,0.6580728327425072,0.6651699807568954,0.6730462519936203,0.6774603174603174,0.6837121212121212,0.6906700062617408,0.6967621419676213,0.7017978921264724,0.707920792079208,0.7080630213160334,0.7168087697929354,0.7209231703613725,0.720895071061385,0.7294541091781643,0.7329937069223854,0.7362736273627364,0.7393759286775632,0.7437722419928825,0.7489614243323442,0.7522228808535861,0.7540596397992323,0.7585601404741,0.765323992994746,0.7701718613457618,0.775462962962963,0.7766541462005201,0.7800401491253226,0.7884670282614901,0.7885325007096224,0.7970646344905447,0.8001126126126126,0.8014623172103488,0.8053766451974238,0.8083916083916084,0.8106904231625834,0.8147123893805309,0.8155124653739612,0.8168467719589914,0.8168234643054786,0.8176795580110497,0.8199339207048458,0.82534435261708,0.8268861454046639,0.8292682926829268,0.827416712179137,0.82992082992083,0.8327868852459015,0.8339684267827979,0.8354567633505016,0.8375372931922972,0.8399675060926077,0.8411062906724512,0.8417071853052404,0.8423035522066739,0.8445763626551538,0.8452830188679246,0.8452444922084902,0.8497047772410091,0.8504947847017919,0.8529332976158586,0.8543223052294556,0.8550879062333511,0.8573709419904204,0.8575982996811903,0.8610079575596817,0.8607057574953569,0.8618316569613551,0.8630354309888947,0.8652931854199684,0.8649220195611949,0.8642366613840465,0.8646517739816032,0.8662286465177399,0.8684210526315789,0.8696109358569926,0.8694284216046146,0.8684967320261439,0.8718619246861925,0.8736594297671986,0.8728791438266771,0.8748696558915537],\"yaxis\":\"y\",\"type\":\"scatter\"},{\"hovertemplate\":\"variable=accuracy_score<br>max_depth=%{x}<br>value=%{y}<extra></extra>\",\"legendgroup\":\"accuracy_score\",\"line\":{\"color\":\"#EF553B\",\"dash\":\"solid\"},\"marker\":{\"symbol\":\"circle\"},\"mode\":\"lines\",\"name\":\"accuracy_score\",\"orientation\":\"v\",\"showlegend\":true,\"x\":[5,6,7,8,9,10,11,12,13,14,15,16,17,18,19,20,21,22,23,24,25,26,27,28,29,30,31,32,33,34,35,36,37,38,39,40,41,42,43,44,45,46,47,48,49,50,51,52,53,54,55,56,57,58,59,60,61,62,63,64,65,66,67,68,69,70,71,72,73,74,75,76,77,78,79,80,81,82,83,84,85,86,87,88,89,90,91,92,93,94,95,96,97,98,99],\"xaxis\":\"x\",\"y\":[0.8074018126888217,0.8110523665659617,0.8145770392749244,0.8227593152064451,0.8255287009063444,0.8314451158106747,0.8376132930513596,0.844159113796576,0.8485649546827795,0.851963746223565,0.8548590130916415,0.8581319234642497,0.8626636455186304,0.8646777442094663,0.8664400805639476,0.8685800604229608,0.8709718026183283,0.8721047331319235,0.8738670694864048,0.8756294058408862,0.8773917421953675,0.8789023162134945,0.8811681772406847,0.8810422960725075,0.8829305135951662,0.8843152064451159,0.8838116817724069,0.8864551863041289,0.8878398791540786,0.8893504531722054,0.8896022155085599,0.8912386706948641,0.8935045317220544,0.8947633434038268,0.8951409869083585,0.8961480362537765,0.8987915407854985,0.900679758308157,0.9023162134944612,0.902693856998993,0.9034491440080564,0.9067220543806647,0.9062185297079557,0.9094914400805639,0.9106243705941591,0.9111278952668681,0.9125125881168177,0.9137713997985901,0.9144008056394763,0.9156596173212488,0.9161631419939577,0.9167925478348439,0.9166666666666666,0.9169184290030211,0.9176737160120846,0.9201913393756294,0.9205689828801611,0.921576032225579,0.9204431017119838,0.921576032225579,0.9229607250755287,0.9232124874118832,0.923590130916415,0.9245971802618328,0.9256042296072508,0.926233635448137,0.926233635448137,0.926233635448137,0.9274924471299094,0.9277442094662638,0.9274924471299094,0.9295065458207452,0.9296324269889225,0.9308912386706949,0.9312688821752266,0.9315206445115811,0.932527693856999,0.932527693856999,0.9340382678751259,0.9339123867069486,0.9342900302114804,0.9347935548841894,0.9358006042296072,0.93567472306143,0.9352970795568983,0.9351711983887211,0.9359264853977844,0.9370594159113796,0.9375629405840886,0.9373111782477341,0.9366817724068479,0.9383182275931521,0.9391993957703928,0.9386958710976838,0.9395770392749244],\"yaxis\":\"y\",\"type\":\"scatter\"}],                        {\"template\":{\"data\":{\"histogram2dcontour\":[{\"type\":\"histogram2dcontour\",\"colorbar\":{\"outlinewidth\":0,\"ticks\":\"\"},\"colorscale\":[[0.0,\"#0d0887\"],[0.1111111111111111,\"#46039f\"],[0.2222222222222222,\"#7201a8\"],[0.3333333333333333,\"#9c179e\"],[0.4444444444444444,\"#bd3786\"],[0.5555555555555556,\"#d8576b\"],[0.6666666666666666,\"#ed7953\"],[0.7777777777777778,\"#fb9f3a\"],[0.8888888888888888,\"#fdca26\"],[1.0,\"#f0f921\"]]}],\"choropleth\":[{\"type\":\"choropleth\",\"colorbar\":{\"outlinewidth\":0,\"ticks\":\"\"}}],\"histogram2d\":[{\"type\":\"histogram2d\",\"colorbar\":{\"outlinewidth\":0,\"ticks\":\"\"},\"colorscale\":[[0.0,\"#0d0887\"],[0.1111111111111111,\"#46039f\"],[0.2222222222222222,\"#7201a8\"],[0.3333333333333333,\"#9c179e\"],[0.4444444444444444,\"#bd3786\"],[0.5555555555555556,\"#d8576b\"],[0.6666666666666666,\"#ed7953\"],[0.7777777777777778,\"#fb9f3a\"],[0.8888888888888888,\"#fdca26\"],[1.0,\"#f0f921\"]]}],\"heatmap\":[{\"type\":\"heatmap\",\"colorbar\":{\"outlinewidth\":0,\"ticks\":\"\"},\"colorscale\":[[0.0,\"#0d0887\"],[0.1111111111111111,\"#46039f\"],[0.2222222222222222,\"#7201a8\"],[0.3333333333333333,\"#9c179e\"],[0.4444444444444444,\"#bd3786\"],[0.5555555555555556,\"#d8576b\"],[0.6666666666666666,\"#ed7953\"],[0.7777777777777778,\"#fb9f3a\"],[0.8888888888888888,\"#fdca26\"],[1.0,\"#f0f921\"]]}],\"heatmapgl\":[{\"type\":\"heatmapgl\",\"colorbar\":{\"outlinewidth\":0,\"ticks\":\"\"},\"colorscale\":[[0.0,\"#0d0887\"],[0.1111111111111111,\"#46039f\"],[0.2222222222222222,\"#7201a8\"],[0.3333333333333333,\"#9c179e\"],[0.4444444444444444,\"#bd3786\"],[0.5555555555555556,\"#d8576b\"],[0.6666666666666666,\"#ed7953\"],[0.7777777777777778,\"#fb9f3a\"],[0.8888888888888888,\"#fdca26\"],[1.0,\"#f0f921\"]]}],\"contourcarpet\":[{\"type\":\"contourcarpet\",\"colorbar\":{\"outlinewidth\":0,\"ticks\":\"\"}}],\"contour\":[{\"type\":\"contour\",\"colorbar\":{\"outlinewidth\":0,\"ticks\":\"\"},\"colorscale\":[[0.0,\"#0d0887\"],[0.1111111111111111,\"#46039f\"],[0.2222222222222222,\"#7201a8\"],[0.3333333333333333,\"#9c179e\"],[0.4444444444444444,\"#bd3786\"],[0.5555555555555556,\"#d8576b\"],[0.6666666666666666,\"#ed7953\"],[0.7777777777777778,\"#fb9f3a\"],[0.8888888888888888,\"#fdca26\"],[1.0,\"#f0f921\"]]}],\"surface\":[{\"type\":\"surface\",\"colorbar\":{\"outlinewidth\":0,\"ticks\":\"\"},\"colorscale\":[[0.0,\"#0d0887\"],[0.1111111111111111,\"#46039f\"],[0.2222222222222222,\"#7201a8\"],[0.3333333333333333,\"#9c179e\"],[0.4444444444444444,\"#bd3786\"],[0.5555555555555556,\"#d8576b\"],[0.6666666666666666,\"#ed7953\"],[0.7777777777777778,\"#fb9f3a\"],[0.8888888888888888,\"#fdca26\"],[1.0,\"#f0f921\"]]}],\"mesh3d\":[{\"type\":\"mesh3d\",\"colorbar\":{\"outlinewidth\":0,\"ticks\":\"\"}}],\"scatter\":[{\"fillpattern\":{\"fillmode\":\"overlay\",\"size\":10,\"solidity\":0.2},\"type\":\"scatter\"}],\"parcoords\":[{\"type\":\"parcoords\",\"line\":{\"colorbar\":{\"outlinewidth\":0,\"ticks\":\"\"}}}],\"scatterpolargl\":[{\"type\":\"scatterpolargl\",\"marker\":{\"colorbar\":{\"outlinewidth\":0,\"ticks\":\"\"}}}],\"bar\":[{\"error_x\":{\"color\":\"#2a3f5f\"},\"error_y\":{\"color\":\"#2a3f5f\"},\"marker\":{\"line\":{\"color\":\"#E5ECF6\",\"width\":0.5},\"pattern\":{\"fillmode\":\"overlay\",\"size\":10,\"solidity\":0.2}},\"type\":\"bar\"}],\"scattergeo\":[{\"type\":\"scattergeo\",\"marker\":{\"colorbar\":{\"outlinewidth\":0,\"ticks\":\"\"}}}],\"scatterpolar\":[{\"type\":\"scatterpolar\",\"marker\":{\"colorbar\":{\"outlinewidth\":0,\"ticks\":\"\"}}}],\"histogram\":[{\"marker\":{\"pattern\":{\"fillmode\":\"overlay\",\"size\":10,\"solidity\":0.2}},\"type\":\"histogram\"}],\"scattergl\":[{\"type\":\"scattergl\",\"marker\":{\"colorbar\":{\"outlinewidth\":0,\"ticks\":\"\"}}}],\"scatter3d\":[{\"type\":\"scatter3d\",\"line\":{\"colorbar\":{\"outlinewidth\":0,\"ticks\":\"\"}},\"marker\":{\"colorbar\":{\"outlinewidth\":0,\"ticks\":\"\"}}}],\"scattermapbox\":[{\"type\":\"scattermapbox\",\"marker\":{\"colorbar\":{\"outlinewidth\":0,\"ticks\":\"\"}}}],\"scatterternary\":[{\"type\":\"scatterternary\",\"marker\":{\"colorbar\":{\"outlinewidth\":0,\"ticks\":\"\"}}}],\"scattercarpet\":[{\"type\":\"scattercarpet\",\"marker\":{\"colorbar\":{\"outlinewidth\":0,\"ticks\":\"\"}}}],\"carpet\":[{\"aaxis\":{\"endlinecolor\":\"#2a3f5f\",\"gridcolor\":\"white\",\"linecolor\":\"white\",\"minorgridcolor\":\"white\",\"startlinecolor\":\"#2a3f5f\"},\"baxis\":{\"endlinecolor\":\"#2a3f5f\",\"gridcolor\":\"white\",\"linecolor\":\"white\",\"minorgridcolor\":\"white\",\"startlinecolor\":\"#2a3f5f\"},\"type\":\"carpet\"}],\"table\":[{\"cells\":{\"fill\":{\"color\":\"#EBF0F8\"},\"line\":{\"color\":\"white\"}},\"header\":{\"fill\":{\"color\":\"#C8D4E3\"},\"line\":{\"color\":\"white\"}},\"type\":\"table\"}],\"barpolar\":[{\"marker\":{\"line\":{\"color\":\"#E5ECF6\",\"width\":0.5},\"pattern\":{\"fillmode\":\"overlay\",\"size\":10,\"solidity\":0.2}},\"type\":\"barpolar\"}],\"pie\":[{\"automargin\":true,\"type\":\"pie\"}]},\"layout\":{\"autotypenumbers\":\"strict\",\"colorway\":[\"#636efa\",\"#EF553B\",\"#00cc96\",\"#ab63fa\",\"#FFA15A\",\"#19d3f3\",\"#FF6692\",\"#B6E880\",\"#FF97FF\",\"#FECB52\"],\"font\":{\"color\":\"#2a3f5f\"},\"hovermode\":\"closest\",\"hoverlabel\":{\"align\":\"left\"},\"paper_bgcolor\":\"white\",\"plot_bgcolor\":\"#E5ECF6\",\"polar\":{\"bgcolor\":\"#E5ECF6\",\"angularaxis\":{\"gridcolor\":\"white\",\"linecolor\":\"white\",\"ticks\":\"\"},\"radialaxis\":{\"gridcolor\":\"white\",\"linecolor\":\"white\",\"ticks\":\"\"}},\"ternary\":{\"bgcolor\":\"#E5ECF6\",\"aaxis\":{\"gridcolor\":\"white\",\"linecolor\":\"white\",\"ticks\":\"\"},\"baxis\":{\"gridcolor\":\"white\",\"linecolor\":\"white\",\"ticks\":\"\"},\"caxis\":{\"gridcolor\":\"white\",\"linecolor\":\"white\",\"ticks\":\"\"}},\"coloraxis\":{\"colorbar\":{\"outlinewidth\":0,\"ticks\":\"\"}},\"colorscale\":{\"sequential\":[[0.0,\"#0d0887\"],[0.1111111111111111,\"#46039f\"],[0.2222222222222222,\"#7201a8\"],[0.3333333333333333,\"#9c179e\"],[0.4444444444444444,\"#bd3786\"],[0.5555555555555556,\"#d8576b\"],[0.6666666666666666,\"#ed7953\"],[0.7777777777777778,\"#fb9f3a\"],[0.8888888888888888,\"#fdca26\"],[1.0,\"#f0f921\"]],\"sequentialminus\":[[0.0,\"#0d0887\"],[0.1111111111111111,\"#46039f\"],[0.2222222222222222,\"#7201a8\"],[0.3333333333333333,\"#9c179e\"],[0.4444444444444444,\"#bd3786\"],[0.5555555555555556,\"#d8576b\"],[0.6666666666666666,\"#ed7953\"],[0.7777777777777778,\"#fb9f3a\"],[0.8888888888888888,\"#fdca26\"],[1.0,\"#f0f921\"]],\"diverging\":[[0,\"#8e0152\"],[0.1,\"#c51b7d\"],[0.2,\"#de77ae\"],[0.3,\"#f1b6da\"],[0.4,\"#fde0ef\"],[0.5,\"#f7f7f7\"],[0.6,\"#e6f5d0\"],[0.7,\"#b8e186\"],[0.8,\"#7fbc41\"],[0.9,\"#4d9221\"],[1,\"#276419\"]]},\"xaxis\":{\"gridcolor\":\"white\",\"linecolor\":\"white\",\"ticks\":\"\",\"title\":{\"standoff\":15},\"zerolinecolor\":\"white\",\"automargin\":true,\"zerolinewidth\":2},\"yaxis\":{\"gridcolor\":\"white\",\"linecolor\":\"white\",\"ticks\":\"\",\"title\":{\"standoff\":15},\"zerolinecolor\":\"white\",\"automargin\":true,\"zerolinewidth\":2},\"scene\":{\"xaxis\":{\"backgroundcolor\":\"#E5ECF6\",\"gridcolor\":\"white\",\"linecolor\":\"white\",\"showbackground\":true,\"ticks\":\"\",\"zerolinecolor\":\"white\",\"gridwidth\":2},\"yaxis\":{\"backgroundcolor\":\"#E5ECF6\",\"gridcolor\":\"white\",\"linecolor\":\"white\",\"showbackground\":true,\"ticks\":\"\",\"zerolinecolor\":\"white\",\"gridwidth\":2},\"zaxis\":{\"backgroundcolor\":\"#E5ECF6\",\"gridcolor\":\"white\",\"linecolor\":\"white\",\"showbackground\":true,\"ticks\":\"\",\"zerolinecolor\":\"white\",\"gridwidth\":2}},\"shapedefaults\":{\"line\":{\"color\":\"#2a3f5f\"}},\"annotationdefaults\":{\"arrowcolor\":\"#2a3f5f\",\"arrowhead\":0,\"arrowwidth\":1},\"geo\":{\"bgcolor\":\"white\",\"landcolor\":\"#E5ECF6\",\"subunitcolor\":\"white\",\"showland\":true,\"showlakes\":true,\"lakecolor\":\"white\"},\"title\":{\"x\":0.05},\"mapbox\":{\"style\":\"light\"}}},\"xaxis\":{\"anchor\":\"y\",\"domain\":[0.0,1.0],\"title\":{\"text\":\"max_depth\"}},\"yaxis\":{\"anchor\":\"x\",\"domain\":[0.0,1.0],\"title\":{\"text\":\"value\"}},\"legend\":{\"title\":{\"text\":\"variable\"},\"tracegroupgap\":0},\"title\":{\"text\":\"Lemmatisation results upsampeled\"}},                        {\"responsive\": true}                    ).then(function(){\n",
       "                            \n",
       "var gd = document.getElementById('529c296d-48ff-44c9-a8ec-192116c2aa12');\n",
       "var x = new MutationObserver(function (mutations, observer) {{\n",
       "        var display = window.getComputedStyle(gd).display;\n",
       "        if (!display || display === 'none') {{\n",
       "            console.log([gd, 'removed!']);\n",
       "            Plotly.purge(gd);\n",
       "            observer.disconnect();\n",
       "        }}\n",
       "}});\n",
       "\n",
       "// Listen for the removal of the full notebook cells\n",
       "var notebookContainer = gd.closest('#notebook-container');\n",
       "if (notebookContainer) {{\n",
       "    x.observe(notebookContainer, {childList: true});\n",
       "}}\n",
       "\n",
       "// Listen for the clearing of the current output cell\n",
       "var outputEl = gd.closest('.output');\n",
       "if (outputEl) {{\n",
       "    x.observe(outputEl, {childList: true});\n",
       "}}\n",
       "\n",
       "                        })                };                });            </script>        </div>"
      ]
     },
     "metadata": {},
     "output_type": "display_data"
    }
   ],
   "source": [
    "import plotly.express as px\n",
    "\n",
    "\n",
    "fig = px.line(df_upsampled, x=\"max_depth\", y= [\"f1_score\", \"accuracy_score\"], title=\"Lemmatisation results upsampeled\")\n",
    "fig.show()"
   ]
  },
  {
   "cell_type": "markdown",
   "metadata": {},
   "source": [
    "# Grid search"
   ]
  },
  {
   "cell_type": "code",
   "execution_count": 74,
   "metadata": {},
   "outputs": [],
   "source": [
    "from sklearn.pipeline import Pipeline\n",
    "from sklearn.model_selection import GridSearchCV"
   ]
  },
  {
   "cell_type": "markdown",
   "metadata": {},
   "source": [
    "## Setup parameters"
   ]
  },
  {
   "cell_type": "code",
   "execution_count": 77,
   "metadata": {},
   "outputs": [
    {
     "data": {
      "text/plain": [
       "<bound method NDFrame.head of                                        lemmatized_tokens  \\\n",
       "0      ['user', 'father', 'dysfunctional', 'selfish',...   \n",
       "1      ['user', 'user', 'thanks', 'lyft', 'credit', '...   \n",
       "2                                  ['bihday', 'majesty']   \n",
       "3      ['model', 'love', 'u', 'take', 'u', 'time', 'u...   \n",
       "4                ['factsguide', 'society', 'motivation']   \n",
       "...                                                  ...   \n",
       "31957  ['ate', 'user', 'isz', 'youuusmiling', 'face',...   \n",
       "31958  ['see', 'nina', 'turner', 'airwave', 'trying',...   \n",
       "31959  ['listening', 'sad', 'song', 'monday', 'mornin...   \n",
       "31960  ['user', 'sikh', 'temple', 'vandalised', 'calg...   \n",
       "31961                        ['thank', 'user', 'follow']   \n",
       "\n",
       "                         lemmatized_hashtags  n_mentions  \n",
       "0                                    ['run']           1  \n",
       "1      ['lyft', 'disapointed', 'getthanked']           2  \n",
       "2                                         []           0  \n",
       "3                                  ['model']           0  \n",
       "4                             ['motivation']           0  \n",
       "...                                      ...         ...  \n",
       "31957                                     []           1  \n",
       "31958                 ['shame', 'imwithher']           0  \n",
       "31959                                     []           0  \n",
       "31960   ['sikh', 'temple', 'calgary', 'wso']           1  \n",
       "31961                                     []           1  \n",
       "\n",
       "[31962 rows x 3 columns]>"
      ]
     },
     "execution_count": 77,
     "metadata": {},
     "output_type": "execute_result"
    }
   ],
   "source": [
    "X.head()"
   ]
  },
  {
   "cell_type": "code",
   "execution_count": 94,
   "metadata": {},
   "outputs": [],
   "source": [
    "max_depth = 130\n",
    "criterion = ['gini', 'entropy']\n",
    "max_depth = [i for i in range(5, max_depth, 5)]\n",
    "\n",
    "#min_samples_split\n",
    "#min_samples_leaf\n",
    "#min_weight_fraction_leaf\n",
    "#max_featuresint, float or {“auto”, “sqrt”, “log2”}, default=None\n",
    "\n",
    "\n",
    "parameters = dict(dec_tree__criterion=criterion,\n",
    "                  dec_tree__max_depth=max_depth)\n"
   ]
  },
  {
   "cell_type": "markdown",
   "metadata": {},
   "source": [
    "## Pipline"
   ]
  },
  {
   "cell_type": "code",
   "execution_count": 95,
   "metadata": {},
   "outputs": [],
   "source": [
    "dec_tree = DecisionTreeClassifier(random_state=55)\n",
    "\n",
    "pipe = Pipeline(steps=[('dec_tree', dec_tree)])"
   ]
  },
  {
   "cell_type": "markdown",
   "metadata": {},
   "source": [
    "## Search"
   ]
  },
  {
   "cell_type": "code",
   "execution_count": 96,
   "metadata": {},
   "outputs": [
    {
     "name": "stdout",
     "output_type": "stream",
     "text": [
      "Best Criterion: gini\n",
      "Best max_depth: 55\n",
      "DecisionTreeClassifier(max_depth=55, random_state=55)\n"
     ]
    }
   ],
   "source": [
    "clf_GS = GridSearchCV(pipe, parameters)\n",
    "clf_GS.fit(X_train, y_train)\n",
    "\n",
    "print('Best Criterion:', clf_GS.best_estimator_.get_params()['dec_tree__criterion'])\n",
    "print('Best max_depth:', clf_GS.best_estimator_.get_params()['dec_tree__max_depth'])\n",
    "print(clf_GS.best_estimator_.get_params()['dec_tree'])\n"
   ]
  },
  {
   "cell_type": "markdown",
   "metadata": {},
   "source": [
    "# With Preprocessing.py"
   ]
  },
  {
   "cell_type": "markdown",
   "metadata": {},
   "source": [
    "### Loading Data"
   ]
  },
  {
   "cell_type": "code",
   "execution_count": null,
   "metadata": {},
   "outputs": [
    {
     "name": "stderr",
     "output_type": "stream",
     "text": [
      "Using custom data configuration default\n",
      "Reusing dataset tweets_hate_speech_detection (/Users/aaronsteiner/.cache/huggingface/datasets/tweets_hate_speech_detection/default/0.0.0/c6b6f41e91ac9113e1c032c5ecf7a49b4e1e9dc8699ded3c2d8425c9217568b2)\n",
      "100%|██████████| 1/1 [00:00<00:00, 24.09it/s]\n"
     ]
    }
   ],
   "source": [
    "tfidf, df_train, df_test = pre.setup(do_emojis=True)\n"
   ]
  },
  {
   "cell_type": "code",
   "execution_count": null,
   "metadata": {},
   "outputs": [
    {
     "data": {
      "text/html": [
       "<div>\n",
       "<style scoped>\n",
       "    .dataframe tbody tr th:only-of-type {\n",
       "        vertical-align: middle;\n",
       "    }\n",
       "\n",
       "    .dataframe tbody tr th {\n",
       "        vertical-align: top;\n",
       "    }\n",
       "\n",
       "    .dataframe thead th {\n",
       "        text-align: right;\n",
       "    }\n",
       "</style>\n",
       "<table border=\"1\" class=\"dataframe\">\n",
       "  <thead>\n",
       "    <tr style=\"text-align: right;\">\n",
       "      <th></th>\n",
       "      <th>label</th>\n",
       "      <th>preprocessed</th>\n",
       "    </tr>\n",
       "  </thead>\n",
       "  <tbody>\n",
       "    <tr>\n",
       "      <th>30405</th>\n",
       "      <td>0</td>\n",
       "      <td>[everyon, free, your, exam, mode, wtf, badtim,...</td>\n",
       "    </tr>\n",
       "    <tr>\n",
       "      <th>27807</th>\n",
       "      <td>0</td>\n",
       "      <td>[jacksonvil, rooster, simul, want, climb, vast...</td>\n",
       "    </tr>\n",
       "    <tr>\n",
       "      <th>8660</th>\n",
       "      <td>0</td>\n",
       "      <td>[user, run, 10km, user, user, loveisal, pour, ...</td>\n",
       "    </tr>\n",
       "    <tr>\n",
       "      <th>19185</th>\n",
       "      <td>0</td>\n",
       "      <td>[user, got, prototyp, new, usb, today, think, ...</td>\n",
       "    </tr>\n",
       "    <tr>\n",
       "      <th>10355</th>\n",
       "      <td>0</td>\n",
       "      <td>[amp, healthi, fathersday, runnerdad, eathealt...</td>\n",
       "    </tr>\n",
       "  </tbody>\n",
       "</table>\n",
       "</div>"
      ],
      "text/plain": [
       "       label                                       preprocessed\n",
       "30405      0  [everyon, free, your, exam, mode, wtf, badtim,...\n",
       "27807      0  [jacksonvil, rooster, simul, want, climb, vast...\n",
       "8660       0  [user, run, 10km, user, user, loveisal, pour, ...\n",
       "19185      0  [user, got, prototyp, new, usb, today, think, ...\n",
       "10355      0  [amp, healthi, fathersday, runnerdad, eathealt..."
      ]
     },
     "metadata": {},
     "output_type": "display_data"
    }
   ],
   "source": [
    "df_train.head()"
   ]
  },
  {
   "cell_type": "code",
   "execution_count": 127,
   "metadata": {},
   "outputs": [],
   "source": [
    "def train_model(df_train: pd.DataFrame, tfidf: TfidfVectorizer):\n",
    "    tree = DecisionTreeClassifier(random_state=55)\n",
    "\n",
    "    pipe = Pipeline(steps=[('dec_tree', tree)])\n",
    "\n",
    "    Xt_train = tfidf.transform(df_train['preprocessed'])\n",
    "    y_train = df_train['label']\n",
    "    max_depth = 300\n",
    "    min_depth = 100\n",
    "    criterion = ['gini', 'entropy']\n",
    "    max_depth = [i for i in range(min_depth, max_depth, 5)]\n",
    "    min_samples_split = [i for i in range(1, 10)]\n",
    "    min_samples_leaf = [i for i in range(1, 10)]\n",
    "    #min_weight_fraction_leaf = [i for i in range(0, 1, 0.1)]\n",
    "    # max_featuresint, float or {“auto”, “sqrt”, “log2”}, default=None\n",
    "\n",
    "    parameters = dict(dec_tree__criterion=criterion,\n",
    "                      dec_tree__max_depth=max_depth, dec_tree__min_samples_split=min_samples_split,\n",
    "                      dec_tree__min_samples_leaf=min_samples_leaf)\n",
    "\n",
    "    dec_tree = GridSearchCV(pipe, param_grid=parameters)\n",
    "    dec_tree.fit(Xt_train, y_train)\n",
    "\n",
    "    return dec_tree.best_estimator_\n"
   ]
  },
  {
   "cell_type": "code",
   "execution_count": 119,
   "metadata": {},
   "outputs": [],
   "source": [
    "def test_model(model, df_test: pd.DataFrame, tfidf: TfidfVectorizer):\n",
    "    \n",
    "    Xt_test = tfidf.transform(df_test['preprocessed'])\n",
    "    y_test = df_test['label']\n",
    "    y_pred = model.predict(Xt_test)\n",
    "\n",
    "    predictions = []\n",
    "\n",
    "    predictions.append(model.get_params())\n",
    "    predictions.append(metrics.precision_score(y_test, y_pred))\n",
    "    predictions.append(metrics.recall_score(y_test, y_pred))\n",
    "    predictions.append(metrics.accuracy_score(y_test, y_pred))\n",
    "    predictions.append(metrics.f1_score(y_test, y_pred))\n",
    "\n",
    "    return predictions"
   ]
  },
  {
   "cell_type": "code",
   "execution_count": 128,
   "metadata": {},
   "outputs": [],
   "source": [
    "model = train_model(df_train, tfidf)\n",
    "results = test_model(model, df_test, tfidf)\n",
    "\n",
    "print(results)"
   ]
  },
  {
   "cell_type": "markdown",
   "metadata": {},
   "source": [
    "{'memory': None, 'steps': [('dec_tree', DecisionTreeClassifier(criterion='entropy', max_depth=195, random_state=55))], 'verbose': False, 'dec_tree': DecisionTreeClassifier(criterion='entropy', max_depth=195, random_state=55), 'dec_tree__ccp_alpha': 0.0, 'dec_tree__class_weight': None, 'dec_tree__criterion': 'entropy', 'dec_tree__max_depth': 195, 'dec_tree__max_features': None, 'dec_tree__max_leaf_nodes': None, 'dec_tree__min_impurity_decrease': 0.0, 'dec_tree__min_samples_leaf': 1, 'dec_tree__min_samples_split': 2, 'dec_tree__min_weight_fraction_leaf': 0.0, 'dec_tree__random_state': 55, 'dec_tree__splitter': 'best'}\n",
    "{'cv': None, 'error_score': nan, 'estimator__memory': None, 'estimator__steps': [('dec_tree', DecisionTreeClassifier(random_state=55))], 'estimator__verbose': False, 'estimator__dec_tree': DecisionTreeClassifier(random_state=55), 'estimator__dec_tree__ccp_alpha': 0.0, 'estimator__dec_tree__class_weight': None, 'estimator__dec_tree__criterion': 'gini', 'estimator__dec_tree__max_depth': None, 'estimator__dec_tree__max_features': None, 'estimator__dec_tree__max_leaf_nodes': None, 'estimator__dec_tree__min_impurity_decrease': 0.0, 'estimator__dec_tree__min_samples_leaf': 1, 'estimator__dec_tree__min_samples_split': 2, 'estimator__dec_tree__min_weight_fraction_leaf': 0.0, 'estimator__dec_tree__random_state': 55, 'estimator__dec_tree__splitter': 'best', 'estimator': Pipeline(steps=[('dec_tree', DecisionTreeClassifier(random_state=55))]), 'n_jobs': None, 'param_grid': {'dec_tree__criterion': ['gini', 'entropy'], 'dec_tree__max_depth': [100, 105, 110, 115, 120, 125, 130, 135, 140, 145, 150, 155, 160, 165, 170, 175, 180, 185, 190, 195]}, 'pre_dispatch': '2*n_jobs', 'refit': True, 'return_train_score': False, 'scoring': None, 'verbose': 0}\n",
    "[0.5521064301552107, 0.5558035714285714, 0.9372751446895041, 0.5539488320355951]"
   ]
  },
  {
   "cell_type": "markdown",
   "metadata": {},
   "source": [
    "{'memory': None, 'steps': [('dec_tree', DecisionTreeClassifier(criterion='entropy', max_depth=220, random_state=55))], 'verbose': False, 'dec_tree': DecisionTreeClassifier(criterion='entropy', max_depth=220, random_state=55), 'dec_tree__ccp_alpha': 0.0, 'dec_tree__class_weight': None, 'dec_tree__criterion': 'entropy', 'dec_tree__max_depth': 220, 'dec_tree__max_features': None, 'dec_tree__max_leaf_nodes': None, 'dec_tree__min_impurity_decrease': 0.0, 'dec_tree__min_samples_leaf': 1, 'dec_tree__min_samples_split': 2, 'dec_tree__min_weight_fraction_leaf': 0.0, 'dec_tree__random_state': 55, 'dec_tree__splitter': 'best'}\n",
    "[0.5626423690205011, 0.5513392857142857, 0.9385265133740028, 0.5569334836527621]"
   ]
  }
 ],
 "metadata": {
  "interpreter": {
   "hash": "947cd5ef72fa4485f7ecf5a654ef12bcb7ac0faec018370a70389fc4010d0179"
  },
  "kernelspec": {
   "display_name": "Python 3.9.12 ('env': venv)",
   "language": "python",
   "name": "python3"
  },
  "language_info": {
   "codemirror_mode": {
    "name": "ipython",
    "version": 3
   },
   "file_extension": ".py",
   "mimetype": "text/x-python",
   "name": "python",
   "nbconvert_exporter": "python",
   "pygments_lexer": "ipython3",
   "version": "3.9.12"
  },
  "orig_nbformat": 4
 },
 "nbformat": 4,
 "nbformat_minor": 2
}
