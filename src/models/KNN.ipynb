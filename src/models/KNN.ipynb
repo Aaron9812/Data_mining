{
 "cells": [
  {
   "cell_type": "markdown",
   "id": "22350aa6",
   "metadata": {},
   "source": [
    "### KNN "
   ]
  },
  {
   "cell_type": "markdown",
   "id": "99cda7c2",
   "metadata": {},
   "source": [
    "### Table of Contents\n",
    "\n",
    "* [1. Preparation](#Preparation)\n",
    "* [2 Model Building](#modelBuilding)\n",
    "* [3. Training and Evaluation](#training)\n",
    "    * [Evaluate with only tokenization 1.1](#section_1_1)\n",
    "    * [Evaluate with stopwords removal](sSection_1_2)\n",
    "    * [Evaluate with Stemming](sSection_1_2)\n",
    "    * [Evaluate with Upsampling](sSection_1_2)\n",
    "        * [Section 1.2.1](#section_1_2_1)\n",
    "        * [Section 1.2.2](#section_1_2_2)\n",
    "        * [Section 1.2.3](#section_1_2_3)\n",
    "* [3. Deal with imbalanced classes](#training)"
   ]
  },
  {
   "cell_type": "markdown",
   "id": "91916bd0",
   "metadata": {},
   "source": [
    "### 1. Preparation <a class=\"anchor\" id=\"Preparation\"></a>"
   ]
  },
  {
   "cell_type": "code",
   "execution_count": 1,
   "id": "1e48193c",
   "metadata": {
    "colab": {
     "base_uri": "https://localhost:8080/"
    },
    "id": "OXpgP2m6l4s_",
    "outputId": "a337f89c-9a7d-47a4-df86-f7283641d47a"
   },
   "outputs": [
    {
     "name": "stdout",
     "output_type": "stream",
     "text": [
      "Looking in indexes: https://int.repositories.cloud.sap/artifactory/api/pypi/build-releases-pypi/simple, https://int.repositories.cloud.sap/artifactory/api/pypi/build-milestones-pypi/simple\n",
      "Requirement already satisfied: datasets in c:\\users\\d073999\\miniconda3\\lib\\site-packages (2.1.0)\n",
      "Requirement already satisfied: multiprocess in c:\\users\\d073999\\miniconda3\\lib\\site-packages (from datasets) (0.70.12.2)\n",
      "Requirement already satisfied: requests>=2.19.0 in c:\\users\\d073999\\miniconda3\\lib\\site-packages (from datasets) (2.25.1)\n",
      "Requirement already satisfied: pyarrow>=5.0.0 in c:\\users\\d073999\\miniconda3\\lib\\site-packages (from datasets) (7.0.0)\n",
      "Requirement already satisfied: packaging in c:\\users\\d073999\\miniconda3\\lib\\site-packages (from datasets) (21.0)\n",
      "Requirement already satisfied: aiohttp in c:\\users\\d073999\\miniconda3\\lib\\site-packages (from datasets) (3.8.1)\n",
      "Requirement already satisfied: fsspec[http]>=2021.05.0 in c:\\users\\d073999\\miniconda3\\lib\\site-packages (from datasets) (2022.3.0)\n",
      "Requirement already satisfied: responses<0.19 in c:\\users\\d073999\\miniconda3\\lib\\site-packages (from datasets) (0.18.0)\n",
      "Requirement already satisfied: huggingface-hub<1.0.0,>=0.1.0 in c:\\users\\d073999\\miniconda3\\lib\\site-packages (from datasets) (0.5.1)\n",
      "Requirement already satisfied: tqdm>=4.62.1 in c:\\users\\d073999\\miniconda3\\lib\\site-packages (from datasets) (4.64.0)\n",
      "Requirement already satisfied: pandas in c:\\users\\d073999\\miniconda3\\lib\\site-packages (from datasets) (1.4.1)\n",
      "Requirement already satisfied: numpy>=1.17 in c:\\users\\d073999\\miniconda3\\lib\\site-packages (from datasets) (1.21.5)\n",
      "Requirement already satisfied: xxhash in c:\\users\\d073999\\miniconda3\\lib\\site-packages (from datasets) (3.0.0)\n"
     ]
    },
    {
     "name": "stderr",
     "output_type": "stream",
     "text": [
      "WARNING: You are using pip version 21.3.1; however, version 22.1 is available.\n",
      "You should consider upgrading via the 'c:\\users\\d073999\\miniconda3\\python.exe -m pip install --upgrade pip' command.\n"
     ]
    },
    {
     "name": "stdout",
     "output_type": "stream",
     "text": [
      "Requirement already satisfied: dill in c:\\users\\d073999\\miniconda3\\lib\\site-packages (from datasets) (0.3.4)\n",
      "Requirement already satisfied: filelock in c:\\users\\d073999\\miniconda3\\lib\\site-packages (from huggingface-hub<1.0.0,>=0.1.0->datasets) (3.6.0)\n",
      "Requirement already satisfied: typing-extensions>=3.7.4.3 in c:\\users\\d073999\\miniconda3\\lib\\site-packages (from huggingface-hub<1.0.0,>=0.1.0->datasets) (4.1.1)\n",
      "Requirement already satisfied: pyyaml in c:\\users\\d073999\\miniconda3\\lib\\site-packages (from huggingface-hub<1.0.0,>=0.1.0->datasets) (6.0)\n",
      "Requirement already satisfied: pyparsing>=2.0.2 in c:\\users\\d073999\\miniconda3\\lib\\site-packages (from packaging->datasets) (2.4.7)\n",
      "Requirement already satisfied: urllib3<1.27,>=1.21.1 in c:\\users\\d073999\\miniconda3\\lib\\site-packages (from requests>=2.19.0->datasets) (1.26.6)\n",
      "Requirement already satisfied: certifi>=2017.4.17 in c:\\users\\d073999\\miniconda3\\lib\\site-packages (from requests>=2.19.0->datasets) (2021.10.8)\n",
      "Requirement already satisfied: idna<3,>=2.5 in c:\\users\\d073999\\miniconda3\\lib\\site-packages (from requests>=2.19.0->datasets) (2.10)\n",
      "Requirement already satisfied: chardet<5,>=3.0.2 in c:\\users\\d073999\\miniconda3\\lib\\site-packages (from requests>=2.19.0->datasets) (4.0.0)\n",
      "Requirement already satisfied: colorama in c:\\users\\d073999\\miniconda3\\lib\\site-packages (from tqdm>=4.62.1->datasets) (0.4.4)\n",
      "Requirement already satisfied: attrs>=17.3.0 in c:\\users\\d073999\\miniconda3\\lib\\site-packages (from aiohttp->datasets) (21.2.0)\n",
      "Requirement already satisfied: async-timeout<5.0,>=4.0.0a3 in c:\\users\\d073999\\miniconda3\\lib\\site-packages (from aiohttp->datasets) (4.0.2)\n",
      "Requirement already satisfied: charset-normalizer<3.0,>=2.0 in c:\\users\\d073999\\miniconda3\\lib\\site-packages (from aiohttp->datasets) (2.0.12)\n",
      "Requirement already satisfied: multidict<7.0,>=4.5 in c:\\users\\d073999\\miniconda3\\lib\\site-packages (from aiohttp->datasets) (6.0.2)\n",
      "Requirement already satisfied: aiosignal>=1.1.2 in c:\\users\\d073999\\miniconda3\\lib\\site-packages (from aiohttp->datasets) (1.2.0)\n",
      "Requirement already satisfied: yarl<2.0,>=1.0 in c:\\users\\d073999\\miniconda3\\lib\\site-packages (from aiohttp->datasets) (1.7.2)\n",
      "Requirement already satisfied: frozenlist>=1.1.1 in c:\\users\\d073999\\miniconda3\\lib\\site-packages (from aiohttp->datasets) (1.3.0)\n",
      "Requirement already satisfied: python-dateutil>=2.8.1 in c:\\users\\d073999\\miniconda3\\lib\\site-packages (from pandas->datasets) (2.8.2)\n",
      "Requirement already satisfied: pytz>=2020.1 in c:\\users\\d073999\\miniconda3\\lib\\site-packages (from pandas->datasets) (2021.3)\n",
      "Requirement already satisfied: six>=1.5 in c:\\users\\d073999\\miniconda3\\lib\\site-packages (from python-dateutil>=2.8.1->pandas->datasets) (1.16.0)\n"
     ]
    }
   ],
   "source": [
    "!pip install datasets"
   ]
  },
  {
   "cell_type": "code",
   "execution_count": 2,
   "id": "2c4e4ac3",
   "metadata": {},
   "outputs": [
    {
     "name": "stdout",
     "output_type": "stream",
     "text": [
      "Looking in indexes: https://int.repositories.cloud.sap/artifactory/api/pypi/build-releases-pypi/simple, https://int.repositories.cloud.sap/artifactory/api/pypi/build-milestones-pypi/simple"
     ]
    },
    {
     "name": "stderr",
     "output_type": "stream",
     "text": [
      "WARNING: You are using pip version 21.3.1; however, version 22.1 is available.\n",
      "You should consider upgrading via the 'c:\\users\\d073999\\miniconda3\\python.exe -m pip install --upgrade pip' command.\n"
     ]
    },
    {
     "name": "stdout",
     "output_type": "stream",
     "text": [
      "\n",
      "Requirement already satisfied: demoji in c:\\users\\d073999\\miniconda3\\lib\\site-packages (1.1.0)\n"
     ]
    }
   ],
   "source": [
    "!pip install demoji"
   ]
  },
  {
   "cell_type": "code",
   "execution_count": 3,
   "id": "24d8b711",
   "metadata": {},
   "outputs": [
    {
     "name": "stdout",
     "output_type": "stream",
     "text": [
      "Looking in indexes: https://int.repositories.cloud.sap/artifactory/api/pypi/build-releases-pypi/simple, https://int.repositories.cloud.sap/artifactory/api/pypi/build-milestones-pypi/simple\n",
      "Requirement already satisfied: mlxtend in c:\\users\\d073999\\miniconda3\\lib\\site-packages (0.19.0)\n",
      "Requirement already satisfied: pandas>=0.24.2 in c:\\users\\d073999\\miniconda3\\lib\\site-packages (from mlxtend) (1.4.1)\n",
      "Requirement already satisfied: joblib>=0.13.2 in c:\\users\\d073999\\miniconda3\\lib\\site-packages (from mlxtend) (1.1.0)\n",
      "Requirement already satisfied: setuptools in c:\\users\\d073999\\miniconda3\\lib\\site-packages (from mlxtend) (52.0.0.post20210125)\n",
      "Requirement already satisfied: scikit-learn>=0.20.3 in c:\\users\\d073999\\miniconda3\\lib\\site-packages (from mlxtend) (1.0.2)\n",
      "Requirement already satisfied: matplotlib>=3.0.0 in c:\\users\\d073999\\miniconda3\\lib\\site-packages (from mlxtend) (3.5.1)\n",
      "Requirement already satisfied: scipy>=1.2.1 in c:\\users\\d073999\\miniconda3\\lib\\site-packages (from mlxtend) (1.8.0)\n",
      "Requirement already satisfied: numpy>=1.16.2 in c:\\users\\d073999\\miniconda3\\lib\\site-packages (from mlxtend) (1.21.5)\n",
      "Requirement already satisfied: fonttools>=4.22.0 in c:\\users\\d073999\\miniconda3\\lib\\site-packages (from matplotlib>=3.0.0->mlxtend) (4.29.1)\n",
      "Requirement already satisfied: cycler>=0.10 in c:\\users\\d073999\\miniconda3\\lib\\site-packages (from matplotlib>=3.0.0->mlxtend) (0.11.0)\n",
      "Requirement already satisfied: pillow>=6.2.0 in c:\\users\\d073999\\miniconda3\\lib\\site-packages (from matplotlib>=3.0.0->mlxtend) (9.0.1)\n",
      "Requirement already satisfied: kiwisolver>=1.0.1 in c:\\users\\d073999\\miniconda3\\lib\\site-packages (from matplotlib>=3.0.0->mlxtend) (1.3.2)\n",
      "Requirement already satisfied: packaging>=20.0 in c:\\users\\d073999\\miniconda3\\lib\\site-packages (from matplotlib>=3.0.0->mlxtend) (21.0)\n",
      "Requirement already satisfied: pyparsing>=2.2.1 in c:\\users\\d073999\\miniconda3\\lib\\site-packages (from matplotlib>=3.0.0->mlxtend) (2.4.7)\n",
      "Requirement already satisfied: python-dateutil>=2.7 in c:\\users\\d073999\\miniconda3\\lib\\site-packages (from matplotlib>=3.0.0->mlxtend) (2.8.2)"
     ]
    },
    {
     "name": "stderr",
     "output_type": "stream",
     "text": [
      "WARNING: You are using pip version 21.3.1; however, version 22.1 is available.\n",
      "You should consider upgrading via the 'c:\\users\\d073999\\miniconda3\\python.exe -m pip install --upgrade pip' command.\n"
     ]
    },
    {
     "name": "stdout",
     "output_type": "stream",
     "text": [
      "\n",
      "Requirement already satisfied: pytz>=2020.1 in c:\\users\\d073999\\miniconda3\\lib\\site-packages (from pandas>=0.24.2->mlxtend) (2021.3)\n",
      "Requirement already satisfied: threadpoolctl>=2.0.0 in c:\\users\\d073999\\miniconda3\\lib\\site-packages (from scikit-learn>=0.20.3->mlxtend) (3.1.0)\n",
      "Requirement already satisfied: six>=1.5 in c:\\users\\d073999\\miniconda3\\lib\\site-packages (from python-dateutil>=2.7->matplotlib>=3.0.0->mlxtend) (1.16.0)\n"
     ]
    }
   ],
   "source": [
    "!pip install mlxtend"
   ]
  },
  {
   "cell_type": "code",
   "execution_count": 4,
   "id": "556c7765",
   "metadata": {
    "id": "aeVbKIG2kdys"
   },
   "outputs": [
    {
     "name": "stdout",
     "output_type": "stream",
     "text": [
      "C:\\Users\\D073999\\Documents\\uni-Mannheim\\Data_Mining_I\\Data_mining\\src\\models\\preprocessing.py\n"
     ]
    }
   ],
   "source": [
    "# import libraries\n",
    "\n",
    "\n",
    "import seaborn as sns\n",
    "import pandas as pd\n",
    "import numpy as np\n",
    "import itertools\n",
    "#from datasets import list_datasets, load_dataset # hugging face dataset\n",
    "from pprint import pprint\n",
    "import seaborn as sns\n",
    "import matplotlib.pyplot as plt\n",
    "import tqdm\n",
    "\n",
    "from sklearn.model_selection import train_test_split\n",
    "from sklearn.utils import resample\n",
    "import random\n",
    "import torch\n",
    "RANDOM_SEED = 42\n",
    "random.seed(RANDOM_SEED)\n",
    "np.random.seed(RANDOM_SEED)\n",
    "torch.manual_seed(RANDOM_SEED)\n",
    "torch.cuda.manual_seed_all(RANDOM_SEED)\n",
    "\n",
    "import os\n",
    "import glob\n",
    "import sys\n",
    "#sys.path.append(os.path.dirname((os.path.abspath(''))))\n",
    "\n",
    "path = \"preprocessing.py\"\n",
    "\n",
    "file_name = os.path.abspath(os.path.join(os.path.dirname( 'data'), '..'))\n",
    "file_name = os.path.abspath(path)\n",
    "print(file_name)\n",
    "#from src.data.preprocessing import setup\n",
    "\n",
    "\n",
    "\n",
    "import sklearn.model_selection as ms\n",
    "import sklearn.feature_extraction.text as text\n",
    "from sklearn.feature_extraction.text import TfidfVectorizer, CountVectorizer\n",
    "from sklearn.metrics import confusion_matrix, accuracy_score, precision_score, recall_score, f1_score\n",
    "from mlxtend.plotting import plot_confusion_matrix\n",
    "from sklearn.model_selection import train_test_split\n",
    "from sklearn.neighbors import KNeighborsClassifier\n",
    "from sklearn.metrics import classification_report\n",
    "from sklearn.pipeline import Pipeline\n",
    "\n",
    "from sklearn.base import BaseEstimator, ClassifierMixin, RegressorMixin, TransformerMixin\n",
    "from sklearn.utils.estimator_checks import check_estimator\n",
    "from sklearn.utils.validation import check_X_y, check_array, check_is_fitted\n",
    "from sklearn.utils.multiclass import unique_labels\n",
    "from sklearn.metrics import euclidean_distances\n",
    "from sklearn.pipeline import Pipeline\n",
    "from sklearn.decomposition import PCA\n",
    "from sklearn.preprocessing import MinMaxScaler\n",
    "from sklearn.ensemble import RandomForestRegressor\n",
    "from sklearn.model_selection import GridSearchCV, StratifiedKFold\n",
    "from  sklearn.feature_extraction.text import TfidfTransformer\n",
    "SEED = 1234\n",
    "\n",
    "from string import punctuation\n",
    "import re\n",
    "import nltk\n",
    "from nltk.corpus import stopwords\n",
    "from nltk.stem import WordNetLemmatizer\n",
    "from nltk.stem.porter import PorterStemmer\n",
    "from IPython.core.display import HTML\n",
    "\n",
    "\n",
    "\n",
    "from datasets import list_datasets, load_dataset\n",
    "from pprint import pprint\n",
    "\n",
    "from time import time\n",
    "import logging\n",
    "# Display progress logs on stdout\n",
    "logging.basicConfig(level=logging.INFO, format=\"%(asctime)s %(levelname)s %(message)s\")\n",
    "\n",
    "from tqdm import tqdm\n",
    "tqdm.pandas()\n",
    "import warnings\n",
    "warnings.filterwarnings('ignore')"
   ]
  },
  {
   "cell_type": "code",
   "execution_count": 5,
   "id": "b509d73f",
   "metadata": {},
   "outputs": [
    {
     "name": "stdout",
     "output_type": "stream",
     "text": [
      "C:\\Users\\D073999\\Documents\\uni-Mannheim\\Data_Mining_I\\Data_mining\\src\\models\\KNN.ipynb\n"
     ]
    }
   ],
   "source": [
    "import os\n",
    "\n",
    "path = \"KNN.ipynb\"\n",
    "\n",
    "file_name = os.path.abspath(os.path.join(os.path.dirname( 'models'), '.'))\n",
    "file_name = os.path.abspath(path)\n",
    "\n",
    "print(file_name)"
   ]
  },
  {
   "cell_type": "code",
   "execution_count": 7,
   "id": "36a1ddfc",
   "metadata": {},
   "outputs": [],
   "source": [
    "import sys  \n",
    "sys.path.insert(0, 'C:\\\\Users\\\\D073999\\\\Documents\\\\uni-Mannheim\\\\Data_Mining_I\\\\Data_mining\\\\src\\\\data')\n",
    "\n",
    "from preprocessing import preprocess,load_data, convert_emoji, upsampling, setup\n",
    "#from src.data import preprocessing"
   ]
  },
  {
   "cell_type": "code",
   "execution_count": 8,
   "id": "a81da7fd",
   "metadata": {},
   "outputs": [
    {
     "name": "stderr",
     "output_type": "stream",
     "text": [
      "2022-05-21 10:51:25,175 WARNING Using custom data configuration default\n",
      "2022-05-21 10:51:25,207 WARNING Reusing dataset tweets_hate_speech_detection (C:\\Users\\D073999\\.cache\\huggingface\\datasets\\tweets_hate_speech_detection\\default\\0.0.0\\c6b6f41e91ac9113e1c032c5ecf7a49b4e1e9dc8699ded3c2d8425c9217568b2)\n"
     ]
    },
    {
     "data": {
      "application/vnd.jupyter.widget-view+json": {
       "model_id": "19c5b296567a49d4ac103b8a99923fcd",
       "version_major": 2,
       "version_minor": 0
      },
      "text/plain": [
       "  0%|          | 0/1 [00:00<?, ?it/s]"
      ]
     },
     "metadata": {},
     "output_type": "display_data"
    }
   ],
   "source": [
    "tfidf, df_train, df_test = setup(do_emojis=True)"
   ]
  },
  {
   "cell_type": "code",
   "execution_count": 7,
   "id": "ffa34ea9",
   "metadata": {},
   "outputs": [],
   "source": [
    "class DownloadManager():\n",
    "    def __init__(self):\n",
    "        self.db = DBManager()\n",
    "        #self.data_transformer = Transformer()\n",
    "        \n",
    "    def fit(self):\n",
    "        df = db.load_data()\n",
    "        df = db.replace_user(df)\n",
    "        X, y = db.target_feature_selection(df)\n",
    "        X_train, X_test, y_train, y_test = db.split_data(X, y)\n",
    "        \n",
    "        return self"
   ]
  },
  {
   "cell_type": "code",
   "execution_count": 8,
   "id": "1136b206",
   "metadata": {},
   "outputs": [],
   "source": [
    "class SegmentFeaturizer():\n",
    "    def __init__(self):\n",
    "        self.porter_stemmer = PorterStemmer()\n",
    "    \n",
    "    @staticmethod\n",
    "    def replace_user(df):\n",
    "        assert isinstance(df, pd.DataFrame), \"input musst be a data-frame\"\n",
    "        df['tweet']= df['tweet'].str.replace(\"@user\",\"\")\n",
    "        print(\"removed @user\")\n",
    "        return df\n",
    "\n",
    "    \n",
    "    # Currently not in use\n",
    "    @staticmethod\n",
    "    def remove_punctioation(text:str) -> str:\n",
    "        return \"\".join([i for i in text if i not in punctuation])\n",
    "\n",
    "    @staticmethod\n",
    "    def tokenization(text:str) -> list:\n",
    "        return nltk.word_tokenize(text)\n",
    "    \n",
    "    @staticmethod\n",
    "    def remove_stopwords(tokens) ->list:\n",
    "        stopwords_list = stopwords.words(\"english\")\n",
    "        return [token for token in tokens if token not in stopwords_list]\n",
    "\n",
    "    \n",
    "   \n",
    "    def stemming(self, text:str) -> list:\n",
    "        return [self.porter_stemmer.stem(word) for word in text]\n",
    "\n",
    "    @staticmethod\n",
    "    def lower_case(row):\n",
    "        return row_lower()\n",
    "        #return row.apply(lambda x: stemming(remove_stopwords(tokenization(remove_punctioation(x.lower())))))\n",
    "     \n",
    "    @staticmethod\n",
    "    def convert_emoji(text: str):\n",
    "        return emoji.demojize(text.lower(), language='en')\n",
    "    \n",
    "    \n",
    "\n",
    "    def dummy(self, text):\n",
    "        return text\n",
    "    \n",
    "    \n",
    "    def featurize(self, data):\n",
    "        df['tweet']= df['tweet'].str.replace(\"@user\",\"\")\n",
    "        #data['tweet'] = data['tweet'].progress_apply(self.lower_case)\n",
    "        print(\"Remove emojis..\")\n",
    "        data['removed_emoji'] =  data['tweet'].progress_apply(convert_emoji)\n",
    "        print(\"Tokenized..\")\n",
    "        data['tokenized'] = data['removed_emoji'].progress_apply(self.tokenization)\n",
    "        print(\"Remove Stopwords ...\")\n",
    "        data['remove_stopwords'] = data['tokenized'].progress_apply(self.remove_stopwords)\n",
    "        print(\"stemming..\")\n",
    "        data['stemmed_words'] = data['remove_stopwords'].progress_apply(self.stemming)\n",
    "        \n",
    "        feature_dict = {\n",
    "                \"tokenized_sentence\": data['tokenized'],\n",
    "                \"remove_stopwords\": data['remove_stopwords'],\n",
    "                \"stemmed_words\": data['stemmed_words'],\n",
    "                \"removed_emoji\": data['removed_emoji'],\n",
    "                #\"lower_case\": data['lower_case']\n",
    "            }\n",
    "        return data"
   ]
  },
  {
   "cell_type": "code",
   "execution_count": 9,
   "id": "57b79f79",
   "metadata": {},
   "outputs": [],
   "source": [
    "SEED = 1234\n",
    "class DBManager(SegmentFeaturizer):\n",
    "    def __init__(self):\n",
    "        super().__init__()\n",
    "    \n",
    "    def __str__(self):\n",
    "            return repr(self) + \" load, splitt, process & encode data\"\n",
    "    \n",
    "    def list_avaliable_data(self):\n",
    "        datasets_list = list_datasets() \n",
    "        pprint(datasets_list)\n",
    "    \n",
    "    \n",
    "    def load_data(self, data_name : str = \"tweets_hate_speech_detection\"):\n",
    "        dataset = load_dataset(data_name)\n",
    "        df = pd.DataFrame.from_dict(dataset['train'])\n",
    "        print(f'{data_name} has been loaded with the shape of {df.shape}')\n",
    "        return df\n",
    "    \n",
    "    \n",
    "    def target_feature_selection(self, df):\n",
    "        print('target feature selection')\n",
    "        print(f'Select X as {df.columns.values.tolist()[0]} & y as {df.columns.values.tolist()[1]}')\n",
    "        return df['tweet'], df['label']\n",
    "    \n",
    "        \n",
    "    def split_data(self, X, y, test_size= 0.2, random_state= SEED):\n",
    "         return ms.train_test_split(\n",
    "                                     X,\n",
    "                                     y,\n",
    "                                     test_size=test_size,\n",
    "                                     random_state = 17,\n",
    "                                     stratify=y);"
   ]
  },
  {
   "cell_type": "code",
   "execution_count": 10,
   "id": "8773cf7d",
   "metadata": {},
   "outputs": [],
   "source": [
    "### 2 Downl <a class=\"anchor\" id=\"chapter2\"></a>"
   ]
  },
  {
   "cell_type": "code",
   "execution_count": 11,
   "id": "292a5bdc",
   "metadata": {},
   "outputs": [
    {
     "name": "stderr",
     "output_type": "stream",
     "text": [
      "2022-05-20 23:37:03,225 WARNING Using custom data configuration default\n",
      "2022-05-20 23:37:03,236 WARNING Reusing dataset tweets_hate_speech_detection (C:\\Users\\D073999\\.cache\\huggingface\\datasets\\tweets_hate_speech_detection\\default\\0.0.0\\c6b6f41e91ac9113e1c032c5ecf7a49b4e1e9dc8699ded3c2d8425c9217568b2)\n"
     ]
    },
    {
     "data": {
      "application/vnd.jupyter.widget-view+json": {
       "model_id": "44e70bba632f4b97b11f286921eb7cb0",
       "version_major": 2,
       "version_minor": 0
      },
      "text/plain": [
       "  0%|          | 0/1 [00:00<?, ?it/s]"
      ]
     },
     "metadata": {},
     "output_type": "display_data"
    },
    {
     "name": "stdout",
     "output_type": "stream",
     "text": [
      "tweets_hate_speech_detection has been loaded with the shape of (31962, 2)\n"
     ]
    }
   ],
   "source": [
    "db = DBManager()\n",
    "df = db.load_data()"
   ]
  },
  {
   "cell_type": "code",
   "execution_count": 12,
   "id": "df851ee4",
   "metadata": {},
   "outputs": [
    {
     "name": "stdout",
     "output_type": "stream",
     "text": [
      "Remove emojis..\n"
     ]
    },
    {
     "name": "stderr",
     "output_type": "stream",
     "text": [
      "100%|██████████████████████████████████████████████████████████████████████████| 31962/31962 [00:13<00:00, 2360.00it/s]\n"
     ]
    },
    {
     "name": "stdout",
     "output_type": "stream",
     "text": [
      "Tokenized..\n"
     ]
    },
    {
     "name": "stderr",
     "output_type": "stream",
     "text": [
      "100%|██████████████████████████████████████████████████████████████████████████| 31962/31962 [00:04<00:00, 7243.38it/s]\n"
     ]
    },
    {
     "name": "stdout",
     "output_type": "stream",
     "text": [
      "Remove Stopwords ...\n"
     ]
    },
    {
     "name": "stderr",
     "output_type": "stream",
     "text": [
      "100%|██████████████████████████████████████████████████████████████████████████| 31962/31962 [00:20<00:00, 1590.17it/s]\n"
     ]
    },
    {
     "name": "stdout",
     "output_type": "stream",
     "text": [
      "stemming..\n"
     ]
    },
    {
     "name": "stderr",
     "output_type": "stream",
     "text": [
      "100%|██████████████████████████████████████████████████████████████████████████| 31962/31962 [00:05<00:00, 6147.45it/s]\n"
     ]
    }
   ],
   "source": [
    "data = db.featurize(df)"
   ]
  },
  {
   "cell_type": "code",
   "execution_count": 13,
   "id": "1f827320",
   "metadata": {},
   "outputs": [
    {
     "data": {
      "text/html": [
       "<div>\n",
       "<style scoped>\n",
       "    .dataframe tbody tr th:only-of-type {\n",
       "        vertical-align: middle;\n",
       "    }\n",
       "\n",
       "    .dataframe tbody tr th {\n",
       "        vertical-align: top;\n",
       "    }\n",
       "\n",
       "    .dataframe thead th {\n",
       "        text-align: right;\n",
       "    }\n",
       "</style>\n",
       "<table border=\"1\" class=\"dataframe\">\n",
       "  <thead>\n",
       "    <tr style=\"text-align: right;\">\n",
       "      <th></th>\n",
       "      <th>label</th>\n",
       "      <th>tweet</th>\n",
       "      <th>removed_emoji</th>\n",
       "      <th>tokenized</th>\n",
       "      <th>remove_stopwords</th>\n",
       "      <th>stemmed_words</th>\n",
       "    </tr>\n",
       "  </thead>\n",
       "  <tbody>\n",
       "    <tr>\n",
       "      <th>0</th>\n",
       "      <td>0</td>\n",
       "      <td>when a father is dysfunctional and is so self...</td>\n",
       "      <td>when a father is dysfunctional and is so self...</td>\n",
       "      <td>[when, a, father, is, dysfunctional, and, is, ...</td>\n",
       "      <td>[father, dysfunctional, selfish, drags, kids, ...</td>\n",
       "      <td>[father, dysfunct, selfish, drag, kid, dysfunc...</td>\n",
       "    </tr>\n",
       "    <tr>\n",
       "      <th>1</th>\n",
       "      <td>0</td>\n",
       "      <td>thanks for #lyft credit i can't use cause th...</td>\n",
       "      <td>thanks for #lyft credit i can't use cause th...</td>\n",
       "      <td>[thanks, for, #, lyft, credit, i, ca, n't, use...</td>\n",
       "      <td>[thanks, #, lyft, credit, ca, n't, use, cause,...</td>\n",
       "      <td>[thank, #, lyft, credit, ca, n't, use, caus, n...</td>\n",
       "    </tr>\n",
       "    <tr>\n",
       "      <th>2</th>\n",
       "      <td>0</td>\n",
       "      <td>bihday your majesty</td>\n",
       "      <td>bihday your majesty</td>\n",
       "      <td>[bihday, your, majesty]</td>\n",
       "      <td>[bihday, majesty]</td>\n",
       "      <td>[bihday, majesti]</td>\n",
       "    </tr>\n",
       "    <tr>\n",
       "      <th>3</th>\n",
       "      <td>0</td>\n",
       "      <td>#model   i love u take with u all the time in ...</td>\n",
       "      <td>#model   i love u take with u all the time in ...</td>\n",
       "      <td>[#, model, i, love, u, take, with, u, all, the...</td>\n",
       "      <td>[#, model, love, u, take, u, time, urmobile, p...</td>\n",
       "      <td>[#, model, love, u, take, u, time, urmobil, ph...</td>\n",
       "    </tr>\n",
       "    <tr>\n",
       "      <th>4</th>\n",
       "      <td>0</td>\n",
       "      <td>factsguide: society now    #motivation</td>\n",
       "      <td>factsguide: society now    #motivation</td>\n",
       "      <td>[factsguide, :, society, now, #, motivation]</td>\n",
       "      <td>[factsguide, :, society, #, motivation]</td>\n",
       "      <td>[factsguid, :, societi, #, motiv]</td>\n",
       "    </tr>\n",
       "    <tr>\n",
       "      <th>...</th>\n",
       "      <td>...</td>\n",
       "      <td>...</td>\n",
       "      <td>...</td>\n",
       "      <td>...</td>\n",
       "      <td>...</td>\n",
       "      <td>...</td>\n",
       "    </tr>\n",
       "    <tr>\n",
       "      <th>31957</th>\n",
       "      <td>0</td>\n",
       "      <td>ate  isz that youuu?ððððððð...</td>\n",
       "      <td>ate  isz that youuu?smiling face with heart-ey...</td>\n",
       "      <td>[ate, isz, that, youuu, ?, smiling, face, with...</td>\n",
       "      <td>[ate, isz, youuu, ?, smiling, face, heart-eyes...</td>\n",
       "      <td>[ate, isz, youuu, ?, smile, face, heart-ey, sm...</td>\n",
       "    </tr>\n",
       "    <tr>\n",
       "      <th>31958</th>\n",
       "      <td>0</td>\n",
       "      <td>to see nina turner on the airwaves trying to w...</td>\n",
       "      <td>to see nina turner on the airwaves trying to w...</td>\n",
       "      <td>[to, see, nina, turner, on, the, airwaves, try...</td>\n",
       "      <td>[see, nina, turner, airwaves, trying, wrap, ma...</td>\n",
       "      <td>[see, nina, turner, airwav, tri, wrap, mantl, ...</td>\n",
       "    </tr>\n",
       "    <tr>\n",
       "      <th>31959</th>\n",
       "      <td>0</td>\n",
       "      <td>listening to sad songs on a monday morning otw...</td>\n",
       "      <td>listening to sad songs on a monday morning otw...</td>\n",
       "      <td>[listening, to, sad, songs, on, a, monday, mor...</td>\n",
       "      <td>[listening, sad, songs, monday, morning, otw, ...</td>\n",
       "      <td>[listen, sad, song, monday, morn, otw, work, sad]</td>\n",
       "    </tr>\n",
       "    <tr>\n",
       "      <th>31960</th>\n",
       "      <td>1</td>\n",
       "      <td>#sikh #temple vandalised in in #calgary, #wso...</td>\n",
       "      <td>#sikh #temple vandalised in in #calgary, #wso...</td>\n",
       "      <td>[#, sikh, #, temple, vandalised, in, in, #, ca...</td>\n",
       "      <td>[#, sikh, #, temple, vandalised, #, calgary, ,...</td>\n",
       "      <td>[#, sikh, #, templ, vandalis, #, calgari, ,, #...</td>\n",
       "    </tr>\n",
       "    <tr>\n",
       "      <th>31961</th>\n",
       "      <td>0</td>\n",
       "      <td>thank you  for you follow</td>\n",
       "      <td>thank you  for you follow</td>\n",
       "      <td>[thank, you, for, you, follow]</td>\n",
       "      <td>[thank, follow]</td>\n",
       "      <td>[thank, follow]</td>\n",
       "    </tr>\n",
       "  </tbody>\n",
       "</table>\n",
       "<p>31962 rows × 6 columns</p>\n",
       "</div>"
      ],
      "text/plain": [
       "       label                                              tweet  \\\n",
       "0          0   when a father is dysfunctional and is so self...   \n",
       "1          0    thanks for #lyft credit i can't use cause th...   \n",
       "2          0                                bihday your majesty   \n",
       "3          0  #model   i love u take with u all the time in ...   \n",
       "4          0             factsguide: society now    #motivation   \n",
       "...      ...                                                ...   \n",
       "31957      0  ate  isz that youuu?ððððððð...   \n",
       "31958      0  to see nina turner on the airwaves trying to w...   \n",
       "31959      0  listening to sad songs on a monday morning otw...   \n",
       "31960      1   #sikh #temple vandalised in in #calgary, #wso...   \n",
       "31961      0                        thank you  for you follow     \n",
       "\n",
       "                                           removed_emoji  \\\n",
       "0       when a father is dysfunctional and is so self...   \n",
       "1        thanks for #lyft credit i can't use cause th...   \n",
       "2                                    bihday your majesty   \n",
       "3      #model   i love u take with u all the time in ...   \n",
       "4                 factsguide: society now    #motivation   \n",
       "...                                                  ...   \n",
       "31957  ate  isz that youuu?smiling face with heart-ey...   \n",
       "31958  to see nina turner on the airwaves trying to w...   \n",
       "31959  listening to sad songs on a monday morning otw...   \n",
       "31960   #sikh #temple vandalised in in #calgary, #wso...   \n",
       "31961                        thank you  for you follow     \n",
       "\n",
       "                                               tokenized  \\\n",
       "0      [when, a, father, is, dysfunctional, and, is, ...   \n",
       "1      [thanks, for, #, lyft, credit, i, ca, n't, use...   \n",
       "2                                [bihday, your, majesty]   \n",
       "3      [#, model, i, love, u, take, with, u, all, the...   \n",
       "4           [factsguide, :, society, now, #, motivation]   \n",
       "...                                                  ...   \n",
       "31957  [ate, isz, that, youuu, ?, smiling, face, with...   \n",
       "31958  [to, see, nina, turner, on, the, airwaves, try...   \n",
       "31959  [listening, to, sad, songs, on, a, monday, mor...   \n",
       "31960  [#, sikh, #, temple, vandalised, in, in, #, ca...   \n",
       "31961                     [thank, you, for, you, follow]   \n",
       "\n",
       "                                        remove_stopwords  \\\n",
       "0      [father, dysfunctional, selfish, drags, kids, ...   \n",
       "1      [thanks, #, lyft, credit, ca, n't, use, cause,...   \n",
       "2                                      [bihday, majesty]   \n",
       "3      [#, model, love, u, take, u, time, urmobile, p...   \n",
       "4                [factsguide, :, society, #, motivation]   \n",
       "...                                                  ...   \n",
       "31957  [ate, isz, youuu, ?, smiling, face, heart-eyes...   \n",
       "31958  [see, nina, turner, airwaves, trying, wrap, ma...   \n",
       "31959  [listening, sad, songs, monday, morning, otw, ...   \n",
       "31960  [#, sikh, #, temple, vandalised, #, calgary, ,...   \n",
       "31961                                    [thank, follow]   \n",
       "\n",
       "                                           stemmed_words  \n",
       "0      [father, dysfunct, selfish, drag, kid, dysfunc...  \n",
       "1      [thank, #, lyft, credit, ca, n't, use, caus, n...  \n",
       "2                                      [bihday, majesti]  \n",
       "3      [#, model, love, u, take, u, time, urmobil, ph...  \n",
       "4                      [factsguid, :, societi, #, motiv]  \n",
       "...                                                  ...  \n",
       "31957  [ate, isz, youuu, ?, smile, face, heart-ey, sm...  \n",
       "31958  [see, nina, turner, airwav, tri, wrap, mantl, ...  \n",
       "31959  [listen, sad, song, monday, morn, otw, work, sad]  \n",
       "31960  [#, sikh, #, templ, vandalis, #, calgari, ,, #...  \n",
       "31961                                    [thank, follow]  \n",
       "\n",
       "[31962 rows x 6 columns]"
      ]
     },
     "execution_count": 13,
     "metadata": {},
     "output_type": "execute_result"
    }
   ],
   "source": [
    "data"
   ]
  },
  {
   "cell_type": "code",
   "execution_count": 14,
   "id": "f629d1b1",
   "metadata": {},
   "outputs": [],
   "source": [
    "segment_featurizer = SegmentFeaturizer()  # more on this below\n",
    "class CustomLinguisticFeatureTransformer(BaseEstimator, TransformerMixin):\n",
    "    def __init__(self):\n",
    "        pass\n",
    "    def fit(self, x, y=None):\n",
    "        return self\n",
    "    def transform(self, data):\n",
    "        return segment_featurizer.featurize(data)"
   ]
  },
  {
   "cell_type": "markdown",
   "id": "1b340bb2",
   "metadata": {},
   "source": [
    "### 1. Upload & Splitt Data"
   ]
  },
  {
   "cell_type": "markdown",
   "id": "2c390a8d",
   "metadata": {},
   "source": [
    "### 1.1 check the distribution of labels, i.e. labels-distribution on test are to some extent reasonable"
   ]
  },
  {
   "cell_type": "code",
   "execution_count": null,
   "id": "bbe3e929",
   "metadata": {
    "scrolled": true
   },
   "outputs": [],
   "source": [
    "ax=sns.countplot(df_train.label);"
   ]
  },
  {
   "cell_type": "code",
   "execution_count": null,
   "id": "1dd3d242",
   "metadata": {},
   "outputs": [],
   "source": [
    "ax=sns.countplot(df_test.label);"
   ]
  },
  {
   "cell_type": "code",
   "execution_count": null,
   "id": "1358c7a3",
   "metadata": {},
   "outputs": [],
   "source": [
    "print(f'label distribution on train:\\n {y_train.value_counts()}')\n",
    "print(80*'-')\n",
    "print(f'label distribution on test:\\n {y_test.value_counts()}')"
   ]
  },
  {
   "cell_type": "code",
   "execution_count": null,
   "id": "618dcc19",
   "metadata": {},
   "outputs": [],
   "source": [
    "y_train = df_train['label']; X_train = df_train.drop(columns=['label'])\n",
    "y_test = df_test['label']; X_test = df_test.drop(columns=['label'])\n",
    "print(f'X_train: {X_train.shape}')\n",
    "print(f'y_train: {y_train.shape}')\n",
    "\n",
    "print(f'X_test: {X_test.shape}')\n",
    "print(f'y_test: {y_test.shape}')"
   ]
  },
  {
   "cell_type": "code",
   "execution_count": null,
   "id": "076bf15c",
   "metadata": {},
   "outputs": [],
   "source": [
    "X_t_copy = X_train\n",
    "y_t_copy = y_train\n",
    "X_s_copy = X_test\n",
    "y_s_copy = y_test"
   ]
  },
  {
   "cell_type": "markdown",
   "id": "a9e970ed",
   "metadata": {},
   "source": [
    "### TFIDF Embedding"
   ]
  },
  {
   "cell_type": "code",
   "execution_count": 15,
   "id": "e8f222c6",
   "metadata": {},
   "outputs": [],
   "source": [
    "class TFIDFTransformer(TransformerMixin, BaseEstimator):\n",
    "    def __init__(self):\n",
    "        self.tf_idf = text.TfidfVectorizer(stop_words='english')\n",
    "\n",
    "    def fit(self, X, y=None, tf_idf=True):\n",
    "        print(\"Embedding using TFIDF started\")\n",
    "        #X = check_array(X, accept_sparse=False)\n",
    "        if np.array(X).ndim >= 2: \n",
    "            self.n_features_in_ = X.shape[1]\n",
    "            self.n_features_ = X.shape[1]\n",
    "        X = super().fit_transform(X)\n",
    "        self._tf_idf.fit(X)\n",
    "        self.is_fitted_ = True\n",
    "\n",
    "        return self\n",
    "            \n",
    "\n",
    "    def transform(self, X):\n",
    "        check_is_fitted(self, ['is_fitted_'])\n",
    "\n",
    "        #X = check_array(X, accept_sparse=False)\n",
    "        if np.array(X).ndim >= 2:\n",
    "            if X.shape[1] != self.n_features_:\n",
    "                raise ValueError('Shape of input is different from what was seen in `fit`')\n",
    "\n",
    "\n",
    "        return self.tf_idf.transform(X)"
   ]
  },
  {
   "cell_type": "markdown",
   "id": "e85c2d16",
   "metadata": {},
   "source": [
    "### Countvectorizer"
   ]
  },
  {
   "cell_type": "code",
   "execution_count": 16,
   "id": "31004261",
   "metadata": {},
   "outputs": [],
   "source": [
    "class CountTransformer(TransformerMixin, BaseEstimator):\n",
    "    def __init__(self):\n",
    "        self.co = text.CountVectorizer(stop_words='english')\n",
    "\n",
    "    def fit(self, X, y=None, tf_idf=True):\n",
    "        print(\"Embedding using CountVectorizer started\")\n",
    "        if np.array(X).ndim >= 2: \n",
    "            self.n_features_in_ = X.shape[1]\n",
    "            self.n_features_ = X.shape[1]\n",
    "        X = self.co.fit(X)\n",
    "        self.is_fitted_ = True\n",
    "        return self\n",
    "            \n",
    "\n",
    "    def transform(self, X):\n",
    "        check_is_fitted(self, ['is_fitted_'])\n",
    "\n",
    "        #X = check_array(X, accept_sparse=False)\n",
    "        if np.array(X).ndim >= 2:\n",
    "            if X.shape[1] != self.n_features_:\n",
    "                raise ValueError('Shape of input is different from what was seen in `fit`')\n",
    "        return self.co.transform(X)"
   ]
  },
  {
   "cell_type": "code",
   "execution_count": 17,
   "id": "d782f2f9",
   "metadata": {},
   "outputs": [],
   "source": [
    "import functools\n",
    "import time\n",
    "\n",
    "\n",
    "def time_decorater(function):\n",
    "\n",
    "    @functools.wraps(function)\n",
    "    def time_measurement(*args, **kwargs):\n",
    "        start = time.perf_counter()\n",
    "        result = function(*args, **kwargs)\n",
    "        end = time.perf_counter()\n",
    "        print(\"function: {} finished in {} seconds.\".format(repr(function.__name__), round((end - start), 2)))\n",
    "        return result\n",
    "\n",
    "    return time_measurement"
   ]
  },
  {
   "cell_type": "markdown",
   "id": "5b0166e6",
   "metadata": {},
   "source": [
    "# 2. Model Building <a class=\"anchor\" id=\"modelBuilding\"></a>"
   ]
  },
  {
   "cell_type": "code",
   "execution_count": 40,
   "id": "e8065eb2",
   "metadata": {},
   "outputs": [],
   "source": [
    "class KNN_DM(BaseEstimator, ClassifierMixin):\n",
    "    \n",
    "    def __init__(self):\n",
    "        pass    \n",
    "                \n",
    "    \n",
    "    def __get_pipeline(self):\n",
    "        \n",
    "            classifier = KNeighborsClassifier(**{\n",
    "                'n_neighbors': 3\n",
    "            })\n",
    "\n",
    "            steps=[\n",
    "                #(\"vect\",  CountVectorizer()),\n",
    "                #(\"tfidf\", TfidfTransformer()),\n",
    "                ('clf', classifier)]\n",
    "\n",
    "            self.pipeline = Pipeline(steps=steps)\n",
    "            return self.pipeline\n",
    "    \n",
    "    \n",
    "    def __get_model(self, feature_range, n_estimators, X, y): \n",
    "        \n",
    "        self.parameters = {\n",
    "                'clf__n_neighbors': n_estimators,                                   \n",
    "                'clf__algorithm': ['ball_tree', 'kd_tree', 'auto'],          \n",
    "                'clf__metric': ['euclidean', 'manhattan']\n",
    "        }\n",
    "        \"\"\"self.parameters = {\n",
    "                'clf__n_neighbors': n_estimators.\n",
    "                'clf__metric': ['l1', 'l2']\n",
    "        }\"\"\"\n",
    "        grid_search = GridSearchCV(**{\n",
    "                'estimator': self.__get_pipeline(),\n",
    "                'cv': 2,\n",
    "                'param_grid': self.parameters,\n",
    "                'scoring': 'f1',#{'F1': 'f1', 'Precision': 'precision', 'Recall':'recall'},\n",
    "                 'refit': True,\n",
    "                'verbose': 5,\n",
    "                 'n_jobs': -1\n",
    "            })\n",
    "        return grid_search\n",
    "    \n",
    "    @time_decorater\n",
    "    def fit(self, X, y, optim):\n",
    "        print(100* '-')\n",
    "        display(HTML(\"<h4>[1/5] Started Fitting...</h4>\"))\n",
    "        if y is None:\n",
    "                raise ValueError('requires y to be passed, but the target y is None')\n",
    "        \n",
    "        X, y = check_X_y(X, y)\n",
    "        self.is_fitted_ = True\n",
    "        if optim:\n",
    "            self.model_ = self.__get_model(feature_range=None, n_estimators =[3,5,10], X =X, y=y) #np.arange(1, 21)\n",
    "            print(\"Performing grid search...\")\n",
    "            print(\"pipeline:\", [name for name, _ in self.pipeline.steps])\n",
    "            print(\"parameters:\")\n",
    "            pprint(self.parameters)\n",
    "            #t0 = time()\n",
    "            self.model_.fit(X, y)\n",
    "            #print(\"done in %0.3fs\" % (time() - t0))\n",
    "            print(\"Done\")\n",
    "            print()\n",
    "\n",
    "            print(\"Best score: %0.3f\" % self.model_.best_score_)\n",
    "            print(\"Best parameters set:\")\n",
    "            best_parameters = self.model_.best_estimator_.get_params()\n",
    "            for param_name in sorted(self.parameters.keys()):\n",
    "                print(\"\\t%s: %r\" % (param_name, best_parameters[param_name]))\n",
    "        else:\n",
    "            # if not opt true, create knn with default 3 neigh.\n",
    "            self.model_  = KNeighborsClassifier(**{\n",
    "                    'n_neighbors': 3\n",
    "                })\n",
    "\n",
    "            self.model_ .fit(X, y)\n",
    "        print()\n",
    "        return self\n",
    "            \n",
    "    @time_decorater        \n",
    "    def predict(self, X, y=None):\n",
    "        print(100* '-')\n",
    "        display(HTML(\"<h4>[2/5] Started Prediction...</h4>\"))\n",
    "        self.y_test = y\n",
    "        #check_is_fitted(self, ['is_fitted_', 'model_'])\n",
    "        X = check_array(X)\n",
    "        self.y_pred = self.model_.predict(X)\n",
    "        print(\"head of y_pred is \\t%s: \" % (self.y_pred[0:6]))\n",
    "        print()\n",
    "        return self.y_pred #self.model_.predict(X)\n",
    "    \n",
    "    @time_decorater\n",
    "    def predict_proba(self, X, y=None):\n",
    "        print(100* '-')\n",
    "        display(HTML(\"<h4>Started Predicting Model confidence...</h4>\"))\n",
    "        print()\n",
    "        return self.model_ .predict_propa(X, y)\n",
    "     \n",
    "    @time_decorater\n",
    "    def evaluate(self, title = \"KNN Classifier on Test Set\"):\n",
    "        print(100* '-')\n",
    "        display(HTML(\"<h4>[3/5] Started Evaluation...</h4>\"))\n",
    "     \n",
    "        f1 = f1_score(self.y_test, self.y_pred)\n",
    "        accuracy = accuracy_score(self.y_test, self.y_pred)*100\n",
    "        recall = recall_score(self.y_test, self.y_pred)\n",
    "        precision = precision_score(self.y_test, self.y_pred)\n",
    "        \n",
    "        #scores\n",
    "        print(\"f1-score         \\t%s: \" % (f1))\n",
    "        print(\"accuracy-score   \\t%s: \" % (accuracy))\n",
    "        print(\"precision-score  \\t%s: \" % (precision))\n",
    "        print(\"recall-score     \\t%s: \" % (recall))\n",
    "        print()\n",
    "        self.report = self.print_report(self.y_test, self.y_pred)\n",
    "        cm = confusion_matrix(self.y_test, self.y_pred)\n",
    "        self.__plot_confusion_matrix(cm, unique_labels(self.y_test),  title = title) #classes = np.unique(y_train),\n",
    "        \n",
    "        return self.report, accuracy, recall, precision, f1\n",
    "    \n",
    "    @staticmethod\n",
    "    @time_decorater  \n",
    "    def print_report(y_test, y_pred):\n",
    "        print(100* '-')\n",
    "        display(HTML(\"<h4>[4/5] Started creating a report...</h4>\"))\n",
    "        report = classification_report(y_test, y_pred, output_dict=True)\n",
    "        report = pd.DataFrame(report).transpose()\n",
    "        display(report)\n",
    "        print()\n",
    "        return report\n",
    "        \n",
    "    @staticmethod   \n",
    "    @time_decorater   \n",
    "    def __plot_confusion_matrix(cm, classes,\n",
    "                              normalize=False,\n",
    "                              title='Confusion matrix',\n",
    "                              cmap=plt.cm.Blues):\n",
    "        \"\"\"\n",
    "        This function prints and plots the confusion matrix.\n",
    "        Normalization can be applied by setting `normalize=True`.\n",
    "        \"\"\"\n",
    "        print(100* '-')\n",
    "        display(HTML(\"<h4>[5/5] Started plotting the confusion matrix...</h4>\"))\n",
    "        print(\"Start plotting the confusion matrix...\\n\")\n",
    "        if normalize:\n",
    "            cm = cm.astype('float') / cm.sum(axis=1)[:, np.newaxis]\n",
    "\n",
    "        plt.imshow(cm, interpolation='nearest', cmap=cmap)\n",
    "        plt.title(title)\n",
    "        plt.colorbar()\n",
    "        tick_marks = np.arange(len(classes))\n",
    "        plt.xticks(tick_marks, classes, rotation=45)\n",
    "        plt.yticks(tick_marks, classes)\n",
    "\n",
    "        fmt = '.2f' if normalize else 'd'\n",
    "        thresh = cm.max() / 2.\n",
    "        for i, j in itertools.product(range(cm.shape[0]), range(cm.shape[1])):\n",
    "            plt.text(j, i, format(cm[i, j], fmt),\n",
    "                     horizontalalignment=\"center\",\n",
    "                     color=\"white\" if cm[i, j] > thresh else \"black\")\n",
    "\n",
    "        plt.ylabel('True label')\n",
    "        plt.xlabel('Predicted label')\n",
    "        plt.tight_layout()"
   ]
  },
  {
   "cell_type": "code",
   "execution_count": 26,
   "id": "0c66c6e5",
   "metadata": {},
   "outputs": [],
   "source": [
    "#X_train = np.array(X_train)\n",
    "#knn = KNeighborsClassifier()\n",
    "#print(knn.get_params().keys())\n",
    "#check_estimator(KNN_DM())\n",
    "#knn = KNN_DM()"
   ]
  },
  {
   "cell_type": "code",
   "execution_count": 10,
   "id": "986df23a",
   "metadata": {},
   "outputs": [
    {
     "data": {
      "text/html": [
       "<div>\n",
       "<style scoped>\n",
       "    .dataframe tbody tr th:only-of-type {\n",
       "        vertical-align: middle;\n",
       "    }\n",
       "\n",
       "    .dataframe tbody tr th {\n",
       "        vertical-align: top;\n",
       "    }\n",
       "\n",
       "    .dataframe thead th {\n",
       "        text-align: right;\n",
       "    }\n",
       "</style>\n",
       "<table border=\"1\" class=\"dataframe\">\n",
       "  <thead>\n",
       "    <tr style=\"text-align: right;\">\n",
       "      <th></th>\n",
       "      <th>label</th>\n",
       "      <th>preprocessed</th>\n",
       "    </tr>\n",
       "  </thead>\n",
       "  <tbody>\n",
       "    <tr>\n",
       "      <th>30405</th>\n",
       "      <td>0</td>\n",
       "      <td>[everyon, free, your, exam, mode, wtf, badtim,...</td>\n",
       "    </tr>\n",
       "    <tr>\n",
       "      <th>27807</th>\n",
       "      <td>0</td>\n",
       "      <td>[jacksonvil, rooster, simul, want, climb, vast...</td>\n",
       "    </tr>\n",
       "    <tr>\n",
       "      <th>8660</th>\n",
       "      <td>0</td>\n",
       "      <td>[user, run, 10km, user, user, loveisal, pour, ...</td>\n",
       "    </tr>\n",
       "    <tr>\n",
       "      <th>19185</th>\n",
       "      <td>0</td>\n",
       "      <td>[user, got, prototyp, new, usb, today, think, ...</td>\n",
       "    </tr>\n",
       "    <tr>\n",
       "      <th>10355</th>\n",
       "      <td>0</td>\n",
       "      <td>[amp, healthi, fathersday, runnerdad, eathealt...</td>\n",
       "    </tr>\n",
       "  </tbody>\n",
       "</table>\n",
       "</div>"
      ],
      "text/plain": [
       "       label                                       preprocessed\n",
       "30405      0  [everyon, free, your, exam, mode, wtf, badtim,...\n",
       "27807      0  [jacksonvil, rooster, simul, want, climb, vast...\n",
       "8660       0  [user, run, 10km, user, user, loveisal, pour, ...\n",
       "19185      0  [user, got, prototyp, new, usb, today, think, ...\n",
       "10355      0  [amp, healthi, fathersday, runnerdad, eathealt..."
      ]
     },
     "execution_count": 10,
     "metadata": {},
     "output_type": "execute_result"
    }
   ],
   "source": [
    "df_train.head()"
   ]
  },
  {
   "cell_type": "code",
   "execution_count": 13,
   "id": "7f2c5a05",
   "metadata": {},
   "outputs": [
    {
     "ename": "TypeError",
     "evalue": "ord() expected a character, but string of length 7 found",
     "output_type": "error",
     "traceback": [
      "\u001b[1;31m---------------------------------------------------------------------------\u001b[0m",
      "\u001b[1;31mTypeError\u001b[0m                                 Traceback (most recent call last)",
      "Input \u001b[1;32mIn [13]\u001b[0m, in \u001b[0;36m<cell line: 2>\u001b[1;34m()\u001b[0m\n\u001b[0;32m      1\u001b[0m \u001b[38;5;66;03m# prepare data \u001b[39;00m\n\u001b[1;32m----> 2\u001b[0m data[\u001b[38;5;124m'\u001b[39m\u001b[38;5;124memojis_to_text\u001b[39m\u001b[38;5;124m'\u001b[39m] \u001b[38;5;241m=\u001b[39m  \u001b[43mpreprocess\u001b[49m\u001b[43m(\u001b[49m\u001b[43mdf_train\u001b[49m\u001b[43m[\u001b[49m\u001b[38;5;124;43m'\u001b[39;49m\u001b[38;5;124;43mpreprocessed\u001b[39;49m\u001b[38;5;124;43m'\u001b[39;49m\u001b[43m]\u001b[49m\u001b[43m,\u001b[49m\u001b[43m \u001b[49m\u001b[43mrem_stop\u001b[49m\u001b[38;5;241;43m=\u001b[39;49m\u001b[38;5;28;43;01mFalse\u001b[39;49;00m\u001b[43m,\u001b[49m\u001b[43m \u001b[49m\u001b[43mdo_stem\u001b[49m\u001b[38;5;241;43m=\u001b[39;49m\u001b[38;5;28;43;01mFalse\u001b[39;49;00m\u001b[43m,\u001b[49m\u001b[43m \u001b[49m\u001b[43mdo_lem\u001b[49m\u001b[38;5;241;43m=\u001b[39;49m\u001b[38;5;28;43;01mFalse\u001b[39;49;00m\u001b[43m,\u001b[49m\u001b[43m \u001b[49m\u001b[43mdo_emojis\u001b[49m\u001b[38;5;241;43m=\u001b[39;49m\u001b[38;5;28;43;01mTrue\u001b[39;49;00m\u001b[43m)\u001b[49m\n",
      "File \u001b[1;32m~\\Documents\\uni-Mannheim\\Data_Mining_I\\Data_mining\\src\\data\\preprocessing.py:52\u001b[0m, in \u001b[0;36mpreprocess\u001b[1;34m(data, rem_stop, do_stem, do_lem, do_emojis)\u001b[0m\n\u001b[0;32m     50\u001b[0m \u001b[38;5;28;01mfor\u001b[39;00m tweet \u001b[38;5;129;01min\u001b[39;00m data:\n\u001b[0;32m     51\u001b[0m     \u001b[38;5;28;01mif\u001b[39;00m do_emojis \u001b[38;5;129;01mis\u001b[39;00m \u001b[38;5;28;01mTrue\u001b[39;00m:\n\u001b[1;32m---> 52\u001b[0m         tweet \u001b[38;5;241m=\u001b[39m \u001b[43mconvert_emoji\u001b[49m\u001b[43m(\u001b[49m\u001b[43mtweet\u001b[49m\u001b[43m)\u001b[49m\n\u001b[0;32m     53\u001b[0m     tokens \u001b[38;5;241m=\u001b[39m tokenization(remove_punctuation(tweet))\n\u001b[0;32m     54\u001b[0m     \u001b[38;5;28;01mif\u001b[39;00m rem_stop \u001b[38;5;129;01mis\u001b[39;00m \u001b[38;5;28;01mTrue\u001b[39;00m:\n",
      "File \u001b[1;32m~\\Documents\\uni-Mannheim\\Data_Mining_I\\Data_mining\\src\\data\\preprocessing.py:126\u001b[0m, in \u001b[0;36mconvert_emoji\u001b[1;34m(text)\u001b[0m\n\u001b[0;32m    124\u001b[0m \u001b[38;5;28;01mdef\u001b[39;00m \u001b[38;5;21mconvert_emoji\u001b[39m(text: \u001b[38;5;28mstr\u001b[39m) \u001b[38;5;241m-\u001b[39m\u001b[38;5;241m>\u001b[39m \u001b[38;5;28mstr\u001b[39m:\n\u001b[0;32m    125\u001b[0m     \u001b[38;5;66;03m# convert string to binary representation\u001b[39;00m\n\u001b[1;32m--> 126\u001b[0m     binary \u001b[38;5;241m=\u001b[39m \u001b[38;5;124;43m'\u001b[39;49m\u001b[38;5;124;43m \u001b[39;49m\u001b[38;5;124;43m'\u001b[39;49m\u001b[38;5;241;43m.\u001b[39;49m\u001b[43mjoin\u001b[49m\u001b[43m(\u001b[49m\u001b[38;5;28;43mformat\u001b[39;49m\u001b[43m(\u001b[49m\u001b[38;5;28;43mord\u001b[39;49m\u001b[43m(\u001b[49m\u001b[43mx\u001b[49m\u001b[43m)\u001b[49m\u001b[43m,\u001b[49m\u001b[43m \u001b[49m\u001b[38;5;124;43m'\u001b[39;49m\u001b[38;5;124;43mb\u001b[39;49m\u001b[38;5;124;43m'\u001b[39;49m\u001b[43m)\u001b[49m\u001b[43m \u001b[49m\u001b[38;5;28;43;01mfor\u001b[39;49;00m\u001b[43m \u001b[49m\u001b[43mx\u001b[49m\u001b[43m \u001b[49m\u001b[38;5;129;43;01min\u001b[39;49;00m\u001b[43m \u001b[49m\u001b[43mtext\u001b[49m\u001b[43m)\u001b[49m\n\u001b[0;32m    128\u001b[0m     \u001b[38;5;66;03m# convert binary representation to utf8 representation\u001b[39;00m\n\u001b[0;32m    129\u001b[0m     listRes \u001b[38;5;241m=\u001b[39m \u001b[38;5;28mlist\u001b[39m(binary\u001b[38;5;241m.\u001b[39msplit(\u001b[38;5;124m\"\u001b[39m\u001b[38;5;124m \u001b[39m\u001b[38;5;124m\"\u001b[39m))\n",
      "File \u001b[1;32m~\\Documents\\uni-Mannheim\\Data_Mining_I\\Data_mining\\src\\data\\preprocessing.py:126\u001b[0m, in \u001b[0;36m<genexpr>\u001b[1;34m(.0)\u001b[0m\n\u001b[0;32m    124\u001b[0m \u001b[38;5;28;01mdef\u001b[39;00m \u001b[38;5;21mconvert_emoji\u001b[39m(text: \u001b[38;5;28mstr\u001b[39m) \u001b[38;5;241m-\u001b[39m\u001b[38;5;241m>\u001b[39m \u001b[38;5;28mstr\u001b[39m:\n\u001b[0;32m    125\u001b[0m     \u001b[38;5;66;03m# convert string to binary representation\u001b[39;00m\n\u001b[1;32m--> 126\u001b[0m     binary \u001b[38;5;241m=\u001b[39m \u001b[38;5;124m'\u001b[39m\u001b[38;5;124m \u001b[39m\u001b[38;5;124m'\u001b[39m\u001b[38;5;241m.\u001b[39mjoin(\u001b[38;5;28mformat\u001b[39m(\u001b[38;5;28;43mord\u001b[39;49m\u001b[43m(\u001b[49m\u001b[43mx\u001b[49m\u001b[43m)\u001b[49m, \u001b[38;5;124m'\u001b[39m\u001b[38;5;124mb\u001b[39m\u001b[38;5;124m'\u001b[39m) \u001b[38;5;28;01mfor\u001b[39;00m x \u001b[38;5;129;01min\u001b[39;00m text)\n\u001b[0;32m    128\u001b[0m     \u001b[38;5;66;03m# convert binary representation to utf8 representation\u001b[39;00m\n\u001b[0;32m    129\u001b[0m     listRes \u001b[38;5;241m=\u001b[39m \u001b[38;5;28mlist\u001b[39m(binary\u001b[38;5;241m.\u001b[39msplit(\u001b[38;5;124m\"\u001b[39m\u001b[38;5;124m \u001b[39m\u001b[38;5;124m\"\u001b[39m))\n",
      "\u001b[1;31mTypeError\u001b[0m: ord() expected a character, but string of length 7 found"
     ]
    }
   ],
   "source": [
    "# prepare data \n",
    "data['emojis_to_text'] =  preprocess(df_train['preprocessed'], rem_stop=False, do_stem=False, do_lem=False, do_emojis=True)\n",
    "#data['tokenized'] = preprocess(df_train['emojis_to_text'], rem_stop=False, do_stem=False, do_lem=False, do_emojis=False)  \n",
    "#data['removed_stopwords'] = preprocess(df_train['tokenized'], rem_stop=True, do_stem=False, do_lem=False, do_emojis=False)  \n",
    "#data['stemmed_words'] = preprocess(df_train['removed_stopwords'], rem_stop=False, do_stem=True, do_lem=False, do_emojis=False)"
   ]
  },
  {
   "cell_type": "markdown",
   "id": "dd724458",
   "metadata": {},
   "source": [
    "# 3. Training & Evaluation  <a class=\"anchor\" id=\"training\"></a>"
   ]
  },
  {
   "cell_type": "markdown",
   "id": "5f0f47a5",
   "metadata": {},
   "source": [
    "### try differnt steps to find the best ones to choosse\n",
    "accroding to previous tries, removing the emoji have a positive effect to the accuracy\n",
    "so, this step will not be perfromed. \n",
    "follows the steps will be performed:\n",
    "\n",
    "1- tokenization\n",
    "\n",
    "2- stopwords removal\n",
    "\n",
    "3- stemming \n",
    "\n",
    "4- upsampling"
   ]
  },
  {
   "cell_type": "code",
   "execution_count": 28,
   "id": "0c1417f9",
   "metadata": {},
   "outputs": [],
   "source": [
    "results = []"
   ]
  },
  {
   "cell_type": "markdown",
   "id": "764c38a0",
   "metadata": {},
   "source": [
    "# 1. With only Tokenization"
   ]
  },
  {
   "cell_type": "code",
   "execution_count": 29,
   "id": "aae4336e",
   "metadata": {},
   "outputs": [
    {
     "name": "stdout",
     "output_type": "stream",
     "text": [
      "target feature selection\n",
      "Select X as label & y as tweet\n"
     ]
    }
   ],
   "source": [
    "# Only tokenization \n",
    "df[['tweet', 'label']] = data[['tokenized', 'label']]\n",
    "X, y = db.target_feature_selection(df)\n",
    "# Splitting of data into training and test data\n",
    "X_train, X_test, y_train, y_test = ms.train_test_split(X, y, test_size=0.2, random_state = 17, stratify=y)"
   ]
  },
  {
   "cell_type": "code",
   "execution_count": 21,
   "id": "5834c439",
   "metadata": {},
   "outputs": [],
   "source": [
    "def convert_to_tf_idf(X_train, X_test):\n",
    "    count_vect = CountVectorizer(stop_words='english')\n",
    "    transformer = TfidfTransformer(norm='l2',sublinear_tf=True)\n",
    "    xd = pd.Series(X_train)\n",
    "    text = xd.map(' '.join)\n",
    "    X_train_counts = count_vect.fit_transform(text)\n",
    "    X_train = transformer.fit_transform(X_train_counts)\n",
    "    print(X_train_counts.shape)\n",
    "    print(X_train.shape)\n",
    "    text = X_test.map(' '.join)\n",
    "    X_test_counts = count_vect.transform(text)\n",
    "    X_test = transformer.transform(X_test_counts)\n",
    "    print(X_test_counts.shape)\n",
    "    print(X_test.shape)\n",
    "    return X_train, X_test, X_train_counts, X_test_counts"
   ]
  },
  {
   "cell_type": "markdown",
   "id": "e0e6c85c",
   "metadata": {},
   "source": [
    "## 1.1. Using TF-IDF"
   ]
  },
  {
   "cell_type": "code",
   "execution_count": 31,
   "id": "60c711b2",
   "metadata": {},
   "outputs": [
    {
     "name": "stdout",
     "output_type": "stream",
     "text": [
      "(25569, 34768)\n",
      "(25569, 34768)\n",
      "(6393, 34768)\n",
      "(6393, 34768)\n"
     ]
    },
    {
     "data": {
      "text/plain": [
       "<25569x34768 sparse matrix of type '<class 'numpy.float64'>'\n",
       "\twith 203529 stored elements in Compressed Sparse Row format>"
      ]
     },
     "execution_count": 31,
     "metadata": {},
     "output_type": "execute_result"
    }
   ],
   "source": [
    "X_train, X_test, X_train_c, X_test_c = convert_to_tf_idf(X_train, X_test); X_train"
   ]
  },
  {
   "cell_type": "markdown",
   "id": "c965ec7e",
   "metadata": {},
   "source": [
    "###  classification, Evaluation & plotting with only tokenization"
   ]
  },
  {
   "cell_type": "code",
   "execution_count": 32,
   "id": "9e607d96",
   "metadata": {},
   "outputs": [
    {
     "name": "stdout",
     "output_type": "stream",
     "text": [
      "----------------------------------------------------------------------------------------------------\n"
     ]
    },
    {
     "data": {
      "text/html": [
       "<h4>[1/5] Started Fitting...</h4>"
      ],
      "text/plain": [
       "<IPython.core.display.HTML object>"
      ]
     },
     "metadata": {},
     "output_type": "display_data"
    },
    {
     "name": "stdout",
     "output_type": "stream",
     "text": [
      "\n",
      "function: 'fit' finished in 3.71 seconds.\n",
      "----------------------------------------------------------------------------------------------------\n"
     ]
    },
    {
     "data": {
      "text/html": [
       "<h4>[2/5] Started Prediction...</h4>"
      ],
      "text/plain": [
       "<IPython.core.display.HTML object>"
      ]
     },
     "metadata": {},
     "output_type": "display_data"
    },
    {
     "name": "stdout",
     "output_type": "stream",
     "text": [
      "head of y_pred is \t[0 0 0 0 0 0]: \n",
      "\n",
      "function: 'predict' finished in 48.75 seconds.\n",
      "----------------------------------------------------------------------------------------------------\n"
     ]
    },
    {
     "data": {
      "text/html": [
       "<h4>[3/5] Started Evaluation...</h4>"
      ],
      "text/plain": [
       "<IPython.core.display.HTML object>"
      ]
     },
     "metadata": {},
     "output_type": "display_data"
    },
    {
     "name": "stdout",
     "output_type": "stream",
     "text": [
      "f1-score         \t0.3202979515828678: \n",
      "accuracy-score   \t94.29063037697482: \n",
      "precision-score  \t0.9662921348314607: \n",
      "recall-score     \t0.19196428571428573: \n",
      "\n",
      "----------------------------------------------------------------------------------------------------\n"
     ]
    },
    {
     "data": {
      "text/html": [
       "<h4>[4/5] Started creating a report...</h4>"
      ],
      "text/plain": [
       "<IPython.core.display.HTML object>"
      ]
     },
     "metadata": {},
     "output_type": "display_data"
    },
    {
     "data": {
      "text/html": [
       "<div>\n",
       "<style scoped>\n",
       "    .dataframe tbody tr th:only-of-type {\n",
       "        vertical-align: middle;\n",
       "    }\n",
       "\n",
       "    .dataframe tbody tr th {\n",
       "        vertical-align: top;\n",
       "    }\n",
       "\n",
       "    .dataframe thead th {\n",
       "        text-align: right;\n",
       "    }\n",
       "</style>\n",
       "<table border=\"1\" class=\"dataframe\">\n",
       "  <thead>\n",
       "    <tr style=\"text-align: right;\">\n",
       "      <th></th>\n",
       "      <th>precision</th>\n",
       "      <th>recall</th>\n",
       "      <th>f1-score</th>\n",
       "      <th>support</th>\n",
       "    </tr>\n",
       "  </thead>\n",
       "  <tbody>\n",
       "    <tr>\n",
       "      <th>0</th>\n",
       "      <td>0.942576</td>\n",
       "      <td>0.999495</td>\n",
       "      <td>0.970202</td>\n",
       "      <td>5945.000000</td>\n",
       "    </tr>\n",
       "    <tr>\n",
       "      <th>1</th>\n",
       "      <td>0.966292</td>\n",
       "      <td>0.191964</td>\n",
       "      <td>0.320298</td>\n",
       "      <td>448.000000</td>\n",
       "    </tr>\n",
       "    <tr>\n",
       "      <th>accuracy</th>\n",
       "      <td>0.942906</td>\n",
       "      <td>0.942906</td>\n",
       "      <td>0.942906</td>\n",
       "      <td>0.942906</td>\n",
       "    </tr>\n",
       "    <tr>\n",
       "      <th>macro avg</th>\n",
       "      <td>0.954434</td>\n",
       "      <td>0.595730</td>\n",
       "      <td>0.645250</td>\n",
       "      <td>6393.000000</td>\n",
       "    </tr>\n",
       "    <tr>\n",
       "      <th>weighted avg</th>\n",
       "      <td>0.944238</td>\n",
       "      <td>0.942906</td>\n",
       "      <td>0.924659</td>\n",
       "      <td>6393.000000</td>\n",
       "    </tr>\n",
       "  </tbody>\n",
       "</table>\n",
       "</div>"
      ],
      "text/plain": [
       "              precision    recall  f1-score      support\n",
       "0              0.942576  0.999495  0.970202  5945.000000\n",
       "1              0.966292  0.191964  0.320298   448.000000\n",
       "accuracy       0.942906  0.942906  0.942906     0.942906\n",
       "macro avg      0.954434  0.595730  0.645250  6393.000000\n",
       "weighted avg   0.944238  0.942906  0.924659  6393.000000"
      ]
     },
     "metadata": {},
     "output_type": "display_data"
    },
    {
     "name": "stdout",
     "output_type": "stream",
     "text": [
      "\n",
      "function: 'print_report' finished in 0.01 seconds.\n",
      "----------------------------------------------------------------------------------------------------\n"
     ]
    },
    {
     "data": {
      "text/html": [
       "<h4>[5/5] Started plotting the confusion matrix...</h4>"
      ],
      "text/plain": [
       "<IPython.core.display.HTML object>"
      ]
     },
     "metadata": {},
     "output_type": "display_data"
    },
    {
     "name": "stdout",
     "output_type": "stream",
     "text": [
      "Start plotting the confusion matrix...\n",
      "\n",
      "function: '__plot_confusion_matrix' finished in 0.08 seconds.\n",
      "function: 'evaluate' finished in 0.1 seconds.\n",
      "\n"
     ]
    },
    {
     "data": {
      "image/png": "[encoded data removed]",
      "text/plain": [
       "<Figure size 432x288 with 2 Axes>"
      ]
     },
     "metadata": {
      "needs_background": "light"
     },
     "output_type": "display_data"
    }
   ],
   "source": [
    "knn = KNN_DM()\n",
    "model = knn.fit(X_train.toarray(), y_train, optim=False)\n",
    "y_pred = model.predict(X_test.toarray(), y_test)\n",
    "report, accuracy, recall, precision, f1 = model.evaluate()\n",
    "\"\"\"results_a.append({\n",
    "                'activation function__'+str(i): fct_names[idx],\n",
    "                \"layers\": com['layers'][i],\n",
    "                \"training error\": training_error,\n",
    "                \"test error\": test_error\n",
    "            })\"\"\"\n",
    "print()"
   ]
  },
  {
   "cell_type": "markdown",
   "id": "6e6caf33",
   "metadata": {},
   "source": [
    "## 1.2 Using Count-Vectroizer"
   ]
  },
  {
   "cell_type": "markdown",
   "id": "6aaba21e",
   "metadata": {},
   "source": [
    " ### classification, Evaluation & plotting with only tokenization"
   ]
  },
  {
   "cell_type": "code",
   "execution_count": 33,
   "id": "3945833e",
   "metadata": {},
   "outputs": [
    {
     "name": "stdout",
     "output_type": "stream",
     "text": [
      "----------------------------------------------------------------------------------------------------\n"
     ]
    },
    {
     "data": {
      "text/html": [
       "<h4>[1/5] Started Fitting...</h4>"
      ],
      "text/plain": [
       "<IPython.core.display.HTML object>"
      ]
     },
     "metadata": {},
     "output_type": "display_data"
    },
    {
     "name": "stdout",
     "output_type": "stream",
     "text": [
      "\n",
      "function: 'fit' finished in 0.0 seconds.\n",
      "----------------------------------------------------------------------------------------------------\n"
     ]
    },
    {
     "data": {
      "text/html": [
       "<h4>[2/5] Started Prediction...</h4>"
      ],
      "text/plain": [
       "<IPython.core.display.HTML object>"
      ]
     },
     "metadata": {},
     "output_type": "display_data"
    },
    {
     "name": "stdout",
     "output_type": "stream",
     "text": [
      "head of y_pred is \t[0 0 0 0 0 0]: \n",
      "\n",
      "function: 'predict' finished in 56.66 seconds.\n",
      "----------------------------------------------------------------------------------------------------\n"
     ]
    },
    {
     "data": {
      "text/html": [
       "<h4>[3/5] Started Evaluation...</h4>"
      ],
      "text/plain": [
       "<IPython.core.display.HTML object>"
      ]
     },
     "metadata": {},
     "output_type": "display_data"
    },
    {
     "name": "stdout",
     "output_type": "stream",
     "text": [
      "f1-score         \t0.3623445825932504: \n",
      "accuracy-score   \t94.38448302831222: \n",
      "precision-score  \t0.8869565217391304: \n",
      "recall-score     \t0.22767857142857142: \n",
      "\n",
      "----------------------------------------------------------------------------------------------------\n"
     ]
    },
    {
     "data": {
      "text/html": [
       "<h4>[4/5] Started creating a report...</h4>"
      ],
      "text/plain": [
       "<IPython.core.display.HTML object>"
      ]
     },
     "metadata": {},
     "output_type": "display_data"
    },
    {
     "data": {
      "text/html": [
       "<div>\n",
       "<style scoped>\n",
       "    .dataframe tbody tr th:only-of-type {\n",
       "        vertical-align: middle;\n",
       "    }\n",
       "\n",
       "    .dataframe tbody tr th {\n",
       "        vertical-align: top;\n",
       "    }\n",
       "\n",
       "    .dataframe thead th {\n",
       "        text-align: right;\n",
       "    }\n",
       "</style>\n",
       "<table border=\"1\" class=\"dataframe\">\n",
       "  <thead>\n",
       "    <tr style=\"text-align: right;\">\n",
       "      <th></th>\n",
       "      <th>precision</th>\n",
       "      <th>recall</th>\n",
       "      <th>f1-score</th>\n",
       "      <th>support</th>\n",
       "    </tr>\n",
       "  </thead>\n",
       "  <tbody>\n",
       "    <tr>\n",
       "      <th>0</th>\n",
       "      <td>0.944887</td>\n",
       "      <td>0.997813</td>\n",
       "      <td>0.970629</td>\n",
       "      <td>5945.000000</td>\n",
       "    </tr>\n",
       "    <tr>\n",
       "      <th>1</th>\n",
       "      <td>0.886957</td>\n",
       "      <td>0.227679</td>\n",
       "      <td>0.362345</td>\n",
       "      <td>448.000000</td>\n",
       "    </tr>\n",
       "    <tr>\n",
       "      <th>accuracy</th>\n",
       "      <td>0.943845</td>\n",
       "      <td>0.943845</td>\n",
       "      <td>0.943845</td>\n",
       "      <td>0.943845</td>\n",
       "    </tr>\n",
       "    <tr>\n",
       "      <th>macro avg</th>\n",
       "      <td>0.915922</td>\n",
       "      <td>0.612746</td>\n",
       "      <td>0.666487</td>\n",
       "      <td>6393.000000</td>\n",
       "    </tr>\n",
       "    <tr>\n",
       "      <th>weighted avg</th>\n",
       "      <td>0.940827</td>\n",
       "      <td>0.943845</td>\n",
       "      <td>0.928003</td>\n",
       "      <td>6393.000000</td>\n",
       "    </tr>\n",
       "  </tbody>\n",
       "</table>\n",
       "</div>"
      ],
      "text/plain": [
       "              precision    recall  f1-score      support\n",
       "0              0.944887  0.997813  0.970629  5945.000000\n",
       "1              0.886957  0.227679  0.362345   448.000000\n",
       "accuracy       0.943845  0.943845  0.943845     0.943845\n",
       "macro avg      0.915922  0.612746  0.666487  6393.000000\n",
       "weighted avg   0.940827  0.943845  0.928003  6393.000000"
      ]
     },
     "metadata": {},
     "output_type": "display_data"
    },
    {
     "name": "stdout",
     "output_type": "stream",
     "text": [
      "\n",
      "function: 'print_report' finished in 0.04 seconds.\n",
      "----------------------------------------------------------------------------------------------------\n"
     ]
    },
    {
     "data": {
      "text/html": [
       "<h4>[5/5] Started plotting the confusion matrix...</h4>"
      ],
      "text/plain": [
       "<IPython.core.display.HTML object>"
      ]
     },
     "metadata": {},
     "output_type": "display_data"
    },
    {
     "name": "stdout",
     "output_type": "stream",
     "text": [
      "Start plotting the confusion matrix...\n",
      "\n",
      "function: '__plot_confusion_matrix' finished in 0.09 seconds.\n",
      "function: 'evaluate' finished in 0.17 seconds.\n",
      "\n"
     ]
    },
    {
     "data": {
      "image/png": "[encoded data removed]",
      "text/plain": [
       "<Figure size 432x288 with 2 Axes>"
      ]
     },
     "metadata": {
      "needs_background": "light"
     },
     "output_type": "display_data"
    }
   ],
   "source": [
    "knn = KNN_DM()\n",
    "model = knn.fit(X_train_c.toarray(), y_train, optim=False)\n",
    "y_pred = model.predict(X_test_c.toarray(), y_test)\n",
    "report, accuracy, recall, precision, f1 = model.evaluate()\n",
    "print()"
   ]
  },
  {
   "cell_type": "markdown",
   "id": "83ce6082",
   "metadata": {},
   "source": [
    "# 2 with only Removing Stopwords"
   ]
  },
  {
   "cell_type": "code",
   "execution_count": null,
   "id": "84acd003",
   "metadata": {},
   "outputs": [],
   "source": [
    "# Only tokenization \n",
    "df[['tweet', 'label']] = data[['remove_stopwords', 'label']]\n",
    "X, y = db.target_feature_selection(df)\n",
    "# Splitting of data into training and test data\n",
    "X_train, X_test, y_train, y_test = ms.train_test_split(X, y, test_size=0.2, random_state = 17, stratify=y)"
   ]
  },
  {
   "cell_type": "markdown",
   "id": "d36c0184",
   "metadata": {},
   "source": [
    "### vectorize with tfidf countvectorizer\n",
    "   "
   ]
  },
  {
   "cell_type": "code",
   "execution_count": null,
   "id": "56779044",
   "metadata": {},
   "outputs": [],
   "source": [
    "X_train, X_test, X_train_c, X_test_c = convert_to_tf_idf(X_train, X_test); X_train"
   ]
  },
  {
   "cell_type": "markdown",
   "id": "3aebf719",
   "metadata": {},
   "source": [
    "## 2.1 Using TF-IDF"
   ]
  },
  {
   "cell_type": "markdown",
   "id": "777aa640",
   "metadata": {},
   "source": [
    "###  classification, Evaluation & plotting with only tokenization"
   ]
  },
  {
   "cell_type": "code",
   "execution_count": null,
   "id": "a1446c91",
   "metadata": {},
   "outputs": [],
   "source": [
    "knn = KNN_DM()\n",
    "model = knn.fit(X_train.toarray(), y_train, optim=False)\n",
    "y_pred = model.predict(X_test.toarray(), y_test)\n",
    "report, accuracy, recall, precision, f1 = model.evaluate()\n",
    "print()"
   ]
  },
  {
   "cell_type": "markdown",
   "id": "98f3c6b0",
   "metadata": {},
   "source": [
    "## 2.2 Using Count-Vectroizer"
   ]
  },
  {
   "cell_type": "markdown",
   "id": "ba3bcc68",
   "metadata": {},
   "source": [
    "###  classification, Evaluation & plotting with only tokenization"
   ]
  },
  {
   "cell_type": "code",
   "execution_count": 68,
   "id": "e3714c7e",
   "metadata": {},
   "outputs": [
    {
     "name": "stdout",
     "output_type": "stream",
     "text": [
      "----------------------------------------------------------------------------------------------------\n"
     ]
    },
    {
     "data": {
      "text/html": [
       "<h4>[1/5] Started Fitting...</h4>"
      ],
      "text/plain": [
       "<IPython.core.display.HTML object>"
      ]
     },
     "metadata": {},
     "output_type": "display_data"
    },
    {
     "name": "stdout",
     "output_type": "stream",
     "text": [
      "\n",
      "function: 'fit' finished in 0.0 seconds.\n",
      "----------------------------------------------------------------------------------------------------\n"
     ]
    },
    {
     "data": {
      "text/html": [
       "<h4>[2/5] Started Prediction...</h4>"
      ],
      "text/plain": [
       "<IPython.core.display.HTML object>"
      ]
     },
     "metadata": {},
     "output_type": "display_data"
    },
    {
     "name": "stdout",
     "output_type": "stream",
     "text": [
      "head of y_pred is \t[0 0 0 0 0 0]: \n",
      "\n",
      "function: 'predict' finished in 62.61 seconds.\n",
      "----------------------------------------------------------------------------------------------------\n"
     ]
    },
    {
     "data": {
      "text/html": [
       "<h4>[3/5] Started Evaluation...</h4>"
      ],
      "text/plain": [
       "<IPython.core.display.HTML object>"
      ]
     },
     "metadata": {},
     "output_type": "display_data"
    },
    {
     "name": "stdout",
     "output_type": "stream",
     "text": [
      "f1-score         \t0.36332179930795844: \n",
      "accuracy-score   \t94.24370405130612: \n",
      "precision-score  \t0.8076923076923077: \n",
      "recall-score     \t0.234375: \n",
      "\n",
      "----------------------------------------------------------------------------------------------------\n"
     ]
    },
    {
     "data": {
      "text/html": [
       "<h4>[4/5] Started creating a report...</h4>"
      ],
      "text/plain": [
       "<IPython.core.display.HTML object>"
      ]
     },
     "metadata": {},
     "output_type": "display_data"
    },
    {
     "data": {
      "text/html": [
       "<div>\n",
       "<style scoped>\n",
       "    .dataframe tbody tr th:only-of-type {\n",
       "        vertical-align: middle;\n",
       "    }\n",
       "\n",
       "    .dataframe tbody tr th {\n",
       "        vertical-align: top;\n",
       "    }\n",
       "\n",
       "    .dataframe thead th {\n",
       "        text-align: right;\n",
       "    }\n",
       "</style>\n",
       "<table border=\"1\" class=\"dataframe\">\n",
       "  <thead>\n",
       "    <tr style=\"text-align: right;\">\n",
       "      <th></th>\n",
       "      <th>precision</th>\n",
       "      <th>recall</th>\n",
       "      <th>f1-score</th>\n",
       "      <th>support</th>\n",
       "    </tr>\n",
       "  </thead>\n",
       "  <tbody>\n",
       "    <tr>\n",
       "      <th>0</th>\n",
       "      <td>0.945234</td>\n",
       "      <td>0.995795</td>\n",
       "      <td>0.969856</td>\n",
       "      <td>5945.000000</td>\n",
       "    </tr>\n",
       "    <tr>\n",
       "      <th>1</th>\n",
       "      <td>0.807692</td>\n",
       "      <td>0.234375</td>\n",
       "      <td>0.363322</td>\n",
       "      <td>448.000000</td>\n",
       "    </tr>\n",
       "    <tr>\n",
       "      <th>accuracy</th>\n",
       "      <td>0.942437</td>\n",
       "      <td>0.942437</td>\n",
       "      <td>0.942437</td>\n",
       "      <td>0.942437</td>\n",
       "    </tr>\n",
       "    <tr>\n",
       "      <th>macro avg</th>\n",
       "      <td>0.876463</td>\n",
       "      <td>0.615085</td>\n",
       "      <td>0.666589</td>\n",
       "      <td>6393.000000</td>\n",
       "    </tr>\n",
       "    <tr>\n",
       "      <th>weighted avg</th>\n",
       "      <td>0.935595</td>\n",
       "      <td>0.942437</td>\n",
       "      <td>0.927352</td>\n",
       "      <td>6393.000000</td>\n",
       "    </tr>\n",
       "  </tbody>\n",
       "</table>\n",
       "</div>"
      ],
      "text/plain": [
       "              precision    recall  f1-score      support\n",
       "0              0.945234  0.995795  0.969856  5945.000000\n",
       "1              0.807692  0.234375  0.363322   448.000000\n",
       "accuracy       0.942437  0.942437  0.942437     0.942437\n",
       "macro avg      0.876463  0.615085  0.666589  6393.000000\n",
       "weighted avg   0.935595  0.942437  0.927352  6393.000000"
      ]
     },
     "metadata": {},
     "output_type": "display_data"
    },
    {
     "name": "stdout",
     "output_type": "stream",
     "text": [
      "\n",
      "function: 'print_report' finished in 0.04 seconds.\n",
      "----------------------------------------------------------------------------------------------------\n"
     ]
    },
    {
     "data": {
      "text/html": [
       "<h4>[5/5] Started plotting the confusion matrix...</h4>"
      ],
      "text/plain": [
       "<IPython.core.display.HTML object>"
      ]
     },
     "metadata": {},
     "output_type": "display_data"
    },
    {
     "name": "stdout",
     "output_type": "stream",
     "text": [
      "Start plotting the confusion matrix...\n",
      "\n",
      "function: '__plot_confusion_matrix' finished in 0.1 seconds.\n",
      "function: 'evaluate' finished in 0.19 seconds.\n",
      "\n"
     ]
    },
    {
     "data": {
      "image/png": "[encoded data removed]",
      "text/plain": [
       "<Figure size 432x288 with 2 Axes>"
      ]
     },
     "metadata": {
      "needs_background": "light"
     },
     "output_type": "display_data"
    }
   ],
   "source": [
    "knn = KNN_DM()\n",
    "model = knn.fit(X_train_c.toarray(), y_train, optim=False)\n",
    "y_pred = model.predict(X_test_c.toarray(), y_test)\n",
    "report, accuracy, recall, precision, f1 = model.evaluate()\n",
    "print()"
   ]
  },
  {
   "cell_type": "markdown",
   "id": "f35edf07",
   "metadata": {},
   "source": [
    "# 3 with  Stemming"
   ]
  },
  {
   "cell_type": "code",
   "execution_count": 69,
   "id": "f31b0d47",
   "metadata": {},
   "outputs": [
    {
     "name": "stdout",
     "output_type": "stream",
     "text": [
      "target feature selection\n",
      "Select X as label & y as tweet\n"
     ]
    }
   ],
   "source": [
    "# Only tokenization \n",
    "df[['tweet', 'label']] = data[['stemmed_words', 'label']]\n",
    "X, y = db.target_feature_selection(df)\n",
    "# Splitting of data into training and test data\n",
    "X_train, X_test, y_train, y_test = ms.train_test_split(X, y, test_size=0.2, random_state = 17, stratify=y)"
   ]
  },
  {
   "cell_type": "markdown",
   "id": "25a46fa0",
   "metadata": {},
   "source": [
    "### vectorize with tfidf countvectorizer"
   ]
  },
  {
   "cell_type": "code",
   "execution_count": 70,
   "id": "5e73da3a",
   "metadata": {},
   "outputs": [
    {
     "name": "stdout",
     "output_type": "stream",
     "text": [
      "(25569, 30055)\n",
      "(25569, 30055)\n",
      "(6393, 30055)\n",
      "(6393, 30055)\n"
     ]
    },
    {
     "data": {
      "text/plain": [
       "<25569x30055 sparse matrix of type '<class 'numpy.float64'>'\n",
       "\twith 201642 stored elements in Compressed Sparse Row format>"
      ]
     },
     "execution_count": 70,
     "metadata": {},
     "output_type": "execute_result"
    }
   ],
   "source": [
    "X_train, X_test, X_train_c, X_test_c = convert_to_tf_idf(X_train, X_test); X_train"
   ]
  },
  {
   "cell_type": "markdown",
   "id": "3de39b5d",
   "metadata": {},
   "source": [
    "## 3.1 Using TF-IDF"
   ]
  },
  {
   "cell_type": "markdown",
   "id": "cb678eb9",
   "metadata": {},
   "source": [
    "###  classification, Evaluation & plotting with only tokenization"
   ]
  },
  {
   "cell_type": "code",
   "execution_count": 71,
   "id": "bd52b9ec",
   "metadata": {},
   "outputs": [
    {
     "name": "stdout",
     "output_type": "stream",
     "text": [
      "----------------------------------------------------------------------------------------------------\n"
     ]
    },
    {
     "data": {
      "text/html": [
       "<h4>[1/5] Started Fitting...</h4>"
      ],
      "text/plain": [
       "<IPython.core.display.HTML object>"
      ]
     },
     "metadata": {},
     "output_type": "display_data"
    },
    {
     "name": "stdout",
     "output_type": "stream",
     "text": [
      "\n",
      "function: 'fit' finished in 3.01 seconds.\n",
      "----------------------------------------------------------------------------------------------------\n"
     ]
    },
    {
     "data": {
      "text/html": [
       "<h4>[2/5] Started Prediction...</h4>"
      ],
      "text/plain": [
       "<IPython.core.display.HTML object>"
      ]
     },
     "metadata": {},
     "output_type": "display_data"
    },
    {
     "name": "stdout",
     "output_type": "stream",
     "text": [
      "head of y_pred is \t[0 0 0 0 0 0]: \n",
      "\n",
      "function: 'predict' finished in 44.24 seconds.\n",
      "----------------------------------------------------------------------------------------------------\n"
     ]
    },
    {
     "data": {
      "text/html": [
       "<h4>[3/5] Started Evaluation...</h4>"
      ],
      "text/plain": [
       "<IPython.core.display.HTML object>"
      ]
     },
     "metadata": {},
     "output_type": "display_data"
    },
    {
     "name": "stdout",
     "output_type": "stream",
     "text": [
      "f1-score         \t0.3171641791044776: \n",
      "accuracy-score   \t94.27498826841858: \n",
      "precision-score  \t0.9659090909090909: \n",
      "recall-score     \t0.18973214285714285: \n",
      "\n",
      "----------------------------------------------------------------------------------------------------\n"
     ]
    },
    {
     "data": {
      "text/html": [
       "<h4>[4/5] Started creating a report...</h4>"
      ],
      "text/plain": [
       "<IPython.core.display.HTML object>"
      ]
     },
     "metadata": {},
     "output_type": "display_data"
    },
    {
     "data": {
      "text/html": [
       "<div>\n",
       "<style scoped>\n",
       "    .dataframe tbody tr th:only-of-type {\n",
       "        vertical-align: middle;\n",
       "    }\n",
       "\n",
       "    .dataframe tbody tr th {\n",
       "        vertical-align: top;\n",
       "    }\n",
       "\n",
       "    .dataframe thead th {\n",
       "        text-align: right;\n",
       "    }\n",
       "</style>\n",
       "<table border=\"1\" class=\"dataframe\">\n",
       "  <thead>\n",
       "    <tr style=\"text-align: right;\">\n",
       "      <th></th>\n",
       "      <th>precision</th>\n",
       "      <th>recall</th>\n",
       "      <th>f1-score</th>\n",
       "      <th>support</th>\n",
       "    </tr>\n",
       "  </thead>\n",
       "  <tbody>\n",
       "    <tr>\n",
       "      <th>0</th>\n",
       "      <td>0.942427</td>\n",
       "      <td>0.999495</td>\n",
       "      <td>0.970122</td>\n",
       "      <td>5945.00000</td>\n",
       "    </tr>\n",
       "    <tr>\n",
       "      <th>1</th>\n",
       "      <td>0.965909</td>\n",
       "      <td>0.189732</td>\n",
       "      <td>0.317164</td>\n",
       "      <td>448.00000</td>\n",
       "    </tr>\n",
       "    <tr>\n",
       "      <th>accuracy</th>\n",
       "      <td>0.942750</td>\n",
       "      <td>0.942750</td>\n",
       "      <td>0.942750</td>\n",
       "      <td>0.94275</td>\n",
       "    </tr>\n",
       "    <tr>\n",
       "      <th>macro avg</th>\n",
       "      <td>0.954168</td>\n",
       "      <td>0.594614</td>\n",
       "      <td>0.643643</td>\n",
       "      <td>6393.00000</td>\n",
       "    </tr>\n",
       "    <tr>\n",
       "      <th>weighted avg</th>\n",
       "      <td>0.944072</td>\n",
       "      <td>0.942750</td>\n",
       "      <td>0.924365</td>\n",
       "      <td>6393.00000</td>\n",
       "    </tr>\n",
       "  </tbody>\n",
       "</table>\n",
       "</div>"
      ],
      "text/plain": [
       "              precision    recall  f1-score     support\n",
       "0              0.942427  0.999495  0.970122  5945.00000\n",
       "1              0.965909  0.189732  0.317164   448.00000\n",
       "accuracy       0.942750  0.942750  0.942750     0.94275\n",
       "macro avg      0.954168  0.594614  0.643643  6393.00000\n",
       "weighted avg   0.944072  0.942750  0.924365  6393.00000"
      ]
     },
     "metadata": {},
     "output_type": "display_data"
    },
    {
     "name": "stdout",
     "output_type": "stream",
     "text": [
      "\n",
      "function: 'print_report' finished in 0.01 seconds.\n",
      "----------------------------------------------------------------------------------------------------\n"
     ]
    },
    {
     "data": {
      "text/html": [
       "<h4>[5/5] Started plotting the confusion matrix...</h4>"
      ],
      "text/plain": [
       "<IPython.core.display.HTML object>"
      ]
     },
     "metadata": {},
     "output_type": "display_data"
    },
    {
     "name": "stdout",
     "output_type": "stream",
     "text": [
      "Start plotting the confusion matrix...\n",
      "\n",
      "function: '__plot_confusion_matrix' finished in 0.05 seconds.\n",
      "function: 'evaluate' finished in 0.07 seconds.\n",
      "\n"
     ]
    },
    {
     "data": {
      "image/png": "[encoded data removed]",
      "text/plain": [
       "<Figure size 432x288 with 2 Axes>"
      ]
     },
     "metadata": {
      "needs_background": "light"
     },
     "output_type": "display_data"
    }
   ],
   "source": [
    "knn = KNN_DM()\n",
    "model = knn.fit(X_train.toarray(), y_train, optim=False)\n",
    "y_pred = model.predict(X_test.toarray(), y_test)\n",
    "report, accuracy, recall, precision, f1 = model.evaluate()\n",
    "print()"
   ]
  },
  {
   "cell_type": "markdown",
   "id": "d387dc58",
   "metadata": {},
   "source": [
    "## 3 .2 Using Count-Vectroizer"
   ]
  },
  {
   "cell_type": "markdown",
   "id": "ac61c37e",
   "metadata": {},
   "source": [
    "###  classification, Evaluation & plotting with only tokenization"
   ]
  },
  {
   "cell_type": "code",
   "execution_count": 72,
   "id": "3a78583f",
   "metadata": {},
   "outputs": [
    {
     "name": "stdout",
     "output_type": "stream",
     "text": [
      "----------------------------------------------------------------------------------------------------\n"
     ]
    },
    {
     "data": {
      "text/html": [
       "<h4>[1/5] Started Fitting...</h4>"
      ],
      "text/plain": [
       "<IPython.core.display.HTML object>"
      ]
     },
     "metadata": {},
     "output_type": "display_data"
    },
    {
     "name": "stdout",
     "output_type": "stream",
     "text": [
      "\n",
      "function: 'fit' finished in 0.0 seconds.\n",
      "----------------------------------------------------------------------------------------------------\n"
     ]
    },
    {
     "data": {
      "text/html": [
       "<h4>[2/5] Started Prediction...</h4>"
      ],
      "text/plain": [
       "<IPython.core.display.HTML object>"
      ]
     },
     "metadata": {},
     "output_type": "display_data"
    },
    {
     "name": "stdout",
     "output_type": "stream",
     "text": [
      "head of y_pred is \t[0 0 0 0 0 0]: \n",
      "\n",
      "function: 'predict' finished in 47.6 seconds.\n",
      "----------------------------------------------------------------------------------------------------\n"
     ]
    },
    {
     "data": {
      "text/html": [
       "<h4>[3/5] Started Evaluation...</h4>"
      ],
      "text/plain": [
       "<IPython.core.display.HTML object>"
      ]
     },
     "metadata": {},
     "output_type": "display_data"
    },
    {
     "name": "stdout",
     "output_type": "stream",
     "text": [
      "f1-score         \t0.3875432525951557: \n",
      "accuracy-score   \t94.46269357109338: \n",
      "precision-score  \t0.8615384615384616: \n",
      "recall-score     \t0.25: \n",
      "\n",
      "----------------------------------------------------------------------------------------------------\n"
     ]
    },
    {
     "data": {
      "text/html": [
       "<h4>[4/5] Started creating a report...</h4>"
      ],
      "text/plain": [
       "<IPython.core.display.HTML object>"
      ]
     },
     "metadata": {},
     "output_type": "display_data"
    },
    {
     "data": {
      "text/html": [
       "<div>\n",
       "<style scoped>\n",
       "    .dataframe tbody tr th:only-of-type {\n",
       "        vertical-align: middle;\n",
       "    }\n",
       "\n",
       "    .dataframe tbody tr th {\n",
       "        vertical-align: top;\n",
       "    }\n",
       "\n",
       "    .dataframe thead th {\n",
       "        text-align: right;\n",
       "    }\n",
       "</style>\n",
       "<table border=\"1\" class=\"dataframe\">\n",
       "  <thead>\n",
       "    <tr style=\"text-align: right;\">\n",
       "      <th></th>\n",
       "      <th>precision</th>\n",
       "      <th>recall</th>\n",
       "      <th>f1-score</th>\n",
       "      <th>support</th>\n",
       "    </tr>\n",
       "  </thead>\n",
       "  <tbody>\n",
       "    <tr>\n",
       "      <th>0</th>\n",
       "      <td>0.946352</td>\n",
       "      <td>0.996972</td>\n",
       "      <td>0.971003</td>\n",
       "      <td>5945.000000</td>\n",
       "    </tr>\n",
       "    <tr>\n",
       "      <th>1</th>\n",
       "      <td>0.861538</td>\n",
       "      <td>0.250000</td>\n",
       "      <td>0.387543</td>\n",
       "      <td>448.000000</td>\n",
       "    </tr>\n",
       "    <tr>\n",
       "      <th>accuracy</th>\n",
       "      <td>0.944627</td>\n",
       "      <td>0.944627</td>\n",
       "      <td>0.944627</td>\n",
       "      <td>0.944627</td>\n",
       "    </tr>\n",
       "    <tr>\n",
       "      <th>macro avg</th>\n",
       "      <td>0.903945</td>\n",
       "      <td>0.623486</td>\n",
       "      <td>0.679273</td>\n",
       "      <td>6393.000000</td>\n",
       "    </tr>\n",
       "    <tr>\n",
       "      <th>weighted avg</th>\n",
       "      <td>0.940408</td>\n",
       "      <td>0.944627</td>\n",
       "      <td>0.930116</td>\n",
       "      <td>6393.000000</td>\n",
       "    </tr>\n",
       "  </tbody>\n",
       "</table>\n",
       "</div>"
      ],
      "text/plain": [
       "              precision    recall  f1-score      support\n",
       "0              0.946352  0.996972  0.971003  5945.000000\n",
       "1              0.861538  0.250000  0.387543   448.000000\n",
       "accuracy       0.944627  0.944627  0.944627     0.944627\n",
       "macro avg      0.903945  0.623486  0.679273  6393.000000\n",
       "weighted avg   0.940408  0.944627  0.930116  6393.000000"
      ]
     },
     "metadata": {},
     "output_type": "display_data"
    },
    {
     "name": "stdout",
     "output_type": "stream",
     "text": [
      "\n",
      "function: 'print_report' finished in 0.01 seconds.\n",
      "----------------------------------------------------------------------------------------------------\n"
     ]
    },
    {
     "data": {
      "text/html": [
       "<h4>[5/5] Started plotting the confusion matrix...</h4>"
      ],
      "text/plain": [
       "<IPython.core.display.HTML object>"
      ]
     },
     "metadata": {},
     "output_type": "display_data"
    },
    {
     "name": "stdout",
     "output_type": "stream",
     "text": [
      "Start plotting the confusion matrix...\n",
      "\n",
      "function: '__plot_confusion_matrix' finished in 0.05 seconds.\n",
      "function: 'evaluate' finished in 0.08 seconds.\n",
      "\n"
     ]
    },
    {
     "data": {
      "image/png": "[encoded data removed]",
      "text/plain": [
       "<Figure size 432x288 with 2 Axes>"
      ]
     },
     "metadata": {
      "needs_background": "light"
     },
     "output_type": "display_data"
    }
   ],
   "source": [
    "knn = KNN_DM()\n",
    "model = knn.fit(X_train_c.toarray(), y_train, optim=False)\n",
    "y_pred = model.predict(X_test_c.toarray(), y_test)\n",
    "report, accuracy, recall, precision, f1 = model.evaluate()\n",
    "print()"
   ]
  },
  {
   "cell_type": "markdown",
   "id": "4214e5af",
   "metadata": {},
   "source": [
    "# 4 with Upsampling"
   ]
  },
  {
   "cell_type": "code",
   "execution_count": null,
   "id": "392eacd0",
   "metadata": {},
   "outputs": [],
   "source": [
    "# best results were achieved after the stemming and count_vectorizer therefore this will be upsampled\n"
   ]
  },
  {
   "cell_type": "code",
   "execution_count": 19,
   "id": "69b2ac58",
   "metadata": {},
   "outputs": [
    {
     "name": "stdout",
     "output_type": "stream",
     "text": [
      "target feature selection\n",
      "Select X as label & y as tweet\n"
     ]
    }
   ],
   "source": [
    "df[['tweet', 'label']] = data[['stemmed_words', 'label']]\n",
    "X, y = db.target_feature_selection(df)\n",
    "# Splitting of data into training and test data\n",
    "X_train, X_test, y_train, y_test = ms.train_test_split(X, y, test_size=0.2, random_state = 17, stratify=y)"
   ]
  },
  {
   "cell_type": "code",
   "execution_count": 35,
   "id": "a178aae6",
   "metadata": {},
   "outputs": [],
   "source": [
    "new_df = df.copy()\n",
    "new_df['label'] = y_train\n",
    "new_df['tweet'] = X_train"
   ]
  },
  {
   "cell_type": "code",
   "execution_count": 36,
   "id": "8e649721",
   "metadata": {},
   "outputs": [
    {
     "data": {
      "text/plain": [
       "0.0    23775\n",
       "1.0    23775\n",
       "Name: label, dtype: int64"
      ]
     },
     "execution_count": 36,
     "metadata": {},
     "output_type": "execute_result"
    }
   ],
   "source": [
    "# upsample train set\n",
    "df = upsampling(new_df)\n",
    "df.label.value_counts()"
   ]
  },
  {
   "cell_type": "code",
   "execution_count": 37,
   "id": "ce5b992b",
   "metadata": {},
   "outputs": [],
   "source": [
    "X_train = df['tweet']\n",
    "y_train = df['label']"
   ]
  },
  {
   "cell_type": "markdown",
   "id": "aab0a5e2",
   "metadata": {},
   "source": [
    "### vectorize with tfidf countvectorizer"
   ]
  },
  {
   "cell_type": "code",
   "execution_count": 22,
   "id": "3181a8b2",
   "metadata": {},
   "outputs": [
    {
     "name": "stdout",
     "output_type": "stream",
     "text": [
      "(25569, 30055)\n",
      "(25569, 30055)\n",
      "(6393, 30055)\n",
      "(6393, 30055)\n"
     ]
    },
    {
     "data": {
      "text/plain": [
       "<25569x30055 sparse matrix of type '<class 'numpy.float64'>'\n",
       "\twith 201644 stored elements in Compressed Sparse Row format>"
      ]
     },
     "execution_count": 22,
     "metadata": {},
     "output_type": "execute_result"
    }
   ],
   "source": [
    "X_train, X_test, X_train_c, X_test_c = convert_to_tf_idf(X_train, X_test); X_train"
   ]
  },
  {
   "cell_type": "markdown",
   "id": "94a09b74",
   "metadata": {},
   "source": [
    "## 4.1 Using TF-IDF"
   ]
  },
  {
   "cell_type": "markdown",
   "id": "dcaa6ae3",
   "metadata": {},
   "source": [
    "###  classification, Evaluation & plotting with only tokenization"
   ]
  },
  {
   "cell_type": "code",
   "execution_count": 39,
   "id": "7a69fc67",
   "metadata": {},
   "outputs": [
    {
     "name": "stdout",
     "output_type": "stream",
     "text": [
      "----------------------------------------------------------------------------------------------------\n"
     ]
    },
    {
     "data": {
      "text/html": [
       "<h4>[1/5] Started Fitting...</h4>"
      ],
      "text/plain": [
       "<IPython.core.display.HTML object>"
      ]
     },
     "metadata": {},
     "output_type": "display_data"
    },
    {
     "name": "stdout",
     "output_type": "stream",
     "text": [
      "\n",
      "function: 'fit' finished in 5.8 seconds.\n",
      "----------------------------------------------------------------------------------------------------\n"
     ]
    },
    {
     "data": {
      "text/html": [
       "<h4>[2/5] Started Prediction...</h4>"
      ],
      "text/plain": [
       "<IPython.core.display.HTML object>"
      ]
     },
     "metadata": {},
     "output_type": "display_data"
    },
    {
     "name": "stdout",
     "output_type": "stream",
     "text": [
      "head of y_pred is \t[0. 0. 0. 0. 0. 0.]: \n",
      "\n",
      "function: 'predict' finished in 82.4 seconds.\n",
      "----------------------------------------------------------------------------------------------------\n"
     ]
    },
    {
     "data": {
      "text/html": [
       "<h4>[3/5] Started Evaluation...</h4>"
      ],
      "text/plain": [
       "<IPython.core.display.HTML object>"
      ]
     },
     "metadata": {},
     "output_type": "display_data"
    },
    {
     "name": "stdout",
     "output_type": "stream",
     "text": [
      "f1-score         \t0.5333333333333333: \n",
      "accuracy-score   \t95.29172532457375: \n",
      "precision-score  \t0.8730964467005076: \n",
      "recall-score     \t0.38392857142857145: \n",
      "\n",
      "----------------------------------------------------------------------------------------------------\n"
     ]
    },
    {
     "data": {
      "text/html": [
       "<h4>[4/5] Started creating a report...</h4>"
      ],
      "text/plain": [
       "<IPython.core.display.HTML object>"
      ]
     },
     "metadata": {},
     "output_type": "display_data"
    },
    {
     "data": {
      "text/html": [
       "<div>\n",
       "<style scoped>\n",
       "    .dataframe tbody tr th:only-of-type {\n",
       "        vertical-align: middle;\n",
       "    }\n",
       "\n",
       "    .dataframe tbody tr th {\n",
       "        vertical-align: top;\n",
       "    }\n",
       "\n",
       "    .dataframe thead th {\n",
       "        text-align: right;\n",
       "    }\n",
       "</style>\n",
       "<table border=\"1\" class=\"dataframe\">\n",
       "  <thead>\n",
       "    <tr style=\"text-align: right;\">\n",
       "      <th></th>\n",
       "      <th>precision</th>\n",
       "      <th>recall</th>\n",
       "      <th>f1-score</th>\n",
       "      <th>support</th>\n",
       "    </tr>\n",
       "  </thead>\n",
       "  <tbody>\n",
       "    <tr>\n",
       "      <th>0</th>\n",
       "      <td>0.955455</td>\n",
       "      <td>0.995795</td>\n",
       "      <td>0.975208</td>\n",
       "      <td>5945.000000</td>\n",
       "    </tr>\n",
       "    <tr>\n",
       "      <th>1</th>\n",
       "      <td>0.873096</td>\n",
       "      <td>0.383929</td>\n",
       "      <td>0.533333</td>\n",
       "      <td>448.000000</td>\n",
       "    </tr>\n",
       "    <tr>\n",
       "      <th>accuracy</th>\n",
       "      <td>0.952917</td>\n",
       "      <td>0.952917</td>\n",
       "      <td>0.952917</td>\n",
       "      <td>0.952917</td>\n",
       "    </tr>\n",
       "    <tr>\n",
       "      <th>macro avg</th>\n",
       "      <td>0.914276</td>\n",
       "      <td>0.689862</td>\n",
       "      <td>0.754271</td>\n",
       "      <td>6393.000000</td>\n",
       "    </tr>\n",
       "    <tr>\n",
       "      <th>weighted avg</th>\n",
       "      <td>0.949684</td>\n",
       "      <td>0.952917</td>\n",
       "      <td>0.944243</td>\n",
       "      <td>6393.000000</td>\n",
       "    </tr>\n",
       "  </tbody>\n",
       "</table>\n",
       "</div>"
      ],
      "text/plain": [
       "              precision    recall  f1-score      support\n",
       "0              0.955455  0.995795  0.975208  5945.000000\n",
       "1              0.873096  0.383929  0.533333   448.000000\n",
       "accuracy       0.952917  0.952917  0.952917     0.952917\n",
       "macro avg      0.914276  0.689862  0.754271  6393.000000\n",
       "weighted avg   0.949684  0.952917  0.944243  6393.000000"
      ]
     },
     "metadata": {},
     "output_type": "display_data"
    },
    {
     "name": "stdout",
     "output_type": "stream",
     "text": [
      "\n",
      "function: 'print_report' finished in 0.02 seconds.\n",
      "----------------------------------------------------------------------------------------------------\n"
     ]
    },
    {
     "data": {
      "text/html": [
       "<h4>[5/5] Started plotting the confusion matrix...</h4>"
      ],
      "text/plain": [
       "<IPython.core.display.HTML object>"
      ]
     },
     "metadata": {},
     "output_type": "display_data"
    },
    {
     "name": "stdout",
     "output_type": "stream",
     "text": [
      "Start plotting the confusion matrix...\n",
      "\n",
      "function: '__plot_confusion_matrix' finished in 0.05 seconds.\n",
      "function: 'evaluate' finished in 0.07 seconds.\n",
      "\n"
     ]
    },
    {
     "data": {
      "image/png": "[encoded data removed]",
      "text/plain": [
       "<Figure size 432x288 with 2 Axes>"
      ]
     },
     "metadata": {
      "needs_background": "light"
     },
     "output_type": "display_data"
    }
   ],
   "source": [
    "knn = KNN_DM()\n",
    "model = knn.fit(X_train.toarray(), y_train, optim=False)\n",
    "y_pred = model.predict(X_test.toarray(), y_test)\n",
    "report, accuracy, recall, precision, f1 = model.evaluate()\n",
    "print()"
   ]
  },
  {
   "cell_type": "markdown",
   "id": "56c23896",
   "metadata": {},
   "source": [
    "## 4 .2 Using Count-Vectroizer"
   ]
  },
  {
   "cell_type": "markdown",
   "id": "12639e94",
   "metadata": {},
   "source": [
    "###  classification, Evaluation & plotting with only tokenization"
   ]
  },
  {
   "cell_type": "code",
   "execution_count": 23,
   "id": "41b10ccd",
   "metadata": {},
   "outputs": [
    {
     "name": "stdout",
     "output_type": "stream",
     "text": [
      "----------------------------------------------------------------------------------------------------\n"
     ]
    },
    {
     "data": {
      "text/html": [
       "<h4>[1/5] Started Fitting...</h4>"
      ],
      "text/plain": [
       "<IPython.core.display.HTML object>"
      ]
     },
     "metadata": {},
     "output_type": "display_data"
    },
    {
     "name": "stdout",
     "output_type": "stream",
     "text": [
      "\n",
      "function: 'fit' finished in 0.0 seconds.\n",
      "----------------------------------------------------------------------------------------------------\n"
     ]
    },
    {
     "data": {
      "text/html": [
       "<h4>[2/5] Started Prediction...</h4>"
      ],
      "text/plain": [
       "<IPython.core.display.HTML object>"
      ]
     },
     "metadata": {},
     "output_type": "display_data"
    },
    {
     "name": "stdout",
     "output_type": "stream",
     "text": [
      "head of y_pred is \t[0 0 0 0 0 0]: \n",
      "\n",
      "function: 'predict' finished in 64.31 seconds.\n",
      "----------------------------------------------------------------------------------------------------\n"
     ]
    },
    {
     "data": {
      "text/html": [
       "<h4>[3/5] Started Evaluation...</h4>"
      ],
      "text/plain": [
       "<IPython.core.display.HTML object>"
      ]
     },
     "metadata": {},
     "output_type": "display_data"
    },
    {
     "name": "stdout",
     "output_type": "stream",
     "text": [
      "f1-score         \t0.3875432525951557: \n",
      "accuracy-score   \t94.46269357109338: \n",
      "precision-score  \t0.8615384615384616: \n",
      "recall-score     \t0.25: \n",
      "\n",
      "----------------------------------------------------------------------------------------------------\n"
     ]
    },
    {
     "data": {
      "text/html": [
       "<h4>[4/5] Started creating a report...</h4>"
      ],
      "text/plain": [
       "<IPython.core.display.HTML object>"
      ]
     },
     "metadata": {},
     "output_type": "display_data"
    },
    {
     "data": {
      "text/html": [
       "<div>\n",
       "<style scoped>\n",
       "    .dataframe tbody tr th:only-of-type {\n",
       "        vertical-align: middle;\n",
       "    }\n",
       "\n",
       "    .dataframe tbody tr th {\n",
       "        vertical-align: top;\n",
       "    }\n",
       "\n",
       "    .dataframe thead th {\n",
       "        text-align: right;\n",
       "    }\n",
       "</style>\n",
       "<table border=\"1\" class=\"dataframe\">\n",
       "  <thead>\n",
       "    <tr style=\"text-align: right;\">\n",
       "      <th></th>\n",
       "      <th>precision</th>\n",
       "      <th>recall</th>\n",
       "      <th>f1-score</th>\n",
       "      <th>support</th>\n",
       "    </tr>\n",
       "  </thead>\n",
       "  <tbody>\n",
       "    <tr>\n",
       "      <th>0</th>\n",
       "      <td>0.946352</td>\n",
       "      <td>0.996972</td>\n",
       "      <td>0.971003</td>\n",
       "      <td>5945.000000</td>\n",
       "    </tr>\n",
       "    <tr>\n",
       "      <th>1</th>\n",
       "      <td>0.861538</td>\n",
       "      <td>0.250000</td>\n",
       "      <td>0.387543</td>\n",
       "      <td>448.000000</td>\n",
       "    </tr>\n",
       "    <tr>\n",
       "      <th>accuracy</th>\n",
       "      <td>0.944627</td>\n",
       "      <td>0.944627</td>\n",
       "      <td>0.944627</td>\n",
       "      <td>0.944627</td>\n",
       "    </tr>\n",
       "    <tr>\n",
       "      <th>macro avg</th>\n",
       "      <td>0.903945</td>\n",
       "      <td>0.623486</td>\n",
       "      <td>0.679273</td>\n",
       "      <td>6393.000000</td>\n",
       "    </tr>\n",
       "    <tr>\n",
       "      <th>weighted avg</th>\n",
       "      <td>0.940408</td>\n",
       "      <td>0.944627</td>\n",
       "      <td>0.930116</td>\n",
       "      <td>6393.000000</td>\n",
       "    </tr>\n",
       "  </tbody>\n",
       "</table>\n",
       "</div>"
      ],
      "text/plain": [
       "              precision    recall  f1-score      support\n",
       "0              0.946352  0.996972  0.971003  5945.000000\n",
       "1              0.861538  0.250000  0.387543   448.000000\n",
       "accuracy       0.944627  0.944627  0.944627     0.944627\n",
       "macro avg      0.903945  0.623486  0.679273  6393.000000\n",
       "weighted avg   0.940408  0.944627  0.930116  6393.000000"
      ]
     },
     "metadata": {},
     "output_type": "display_data"
    },
    {
     "name": "stdout",
     "output_type": "stream",
     "text": [
      "\n",
      "function: 'print_report' finished in 0.08 seconds.\n",
      "----------------------------------------------------------------------------------------------------\n"
     ]
    },
    {
     "data": {
      "text/html": [
       "<h4>[5/5] Started plotting the confusion matrix...</h4>"
      ],
      "text/plain": [
       "<IPython.core.display.HTML object>"
      ]
     },
     "metadata": {},
     "output_type": "display_data"
    },
    {
     "name": "stdout",
     "output_type": "stream",
     "text": [
      "Start plotting the confusion matrix...\n",
      "\n",
      "function: '__plot_confusion_matrix' finished in 0.16 seconds.\n",
      "function: 'evaluate' finished in 0.29 seconds.\n",
      "\n"
     ]
    },
    {
     "data": {
      "image/png": "[encoded data removed]",
      "text/plain": [
       "<Figure size 432x288 with 2 Axes>"
      ]
     },
     "metadata": {
      "needs_background": "light"
     },
     "output_type": "display_data"
    }
   ],
   "source": [
    "knn = KNN_DM()\n",
    "model = knn.fit(X_train_c.toarray(), y_train, optim=False)\n",
    "y_pred = model.predict(X_test_c.toarray(), y_test)\n",
    "report, accuracy, recall, precision, f1 = model.evaluate()\n",
    "print()"
   ]
  },
  {
   "cell_type": "markdown",
   "id": "94aa8d4e",
   "metadata": {},
   "source": [
    "### Hyperparameter optimization"
   ]
  },
  {
   "cell_type": "code",
   "execution_count": 42,
   "id": "ef1ca944",
   "metadata": {},
   "outputs": [
    {
     "name": "stdout",
     "output_type": "stream",
     "text": [
      "----------------------------------------------------------------------------------------------------\n"
     ]
    },
    {
     "data": {
      "text/html": [
       "<h4>[1/5] Started Fitting...</h4>"
      ],
      "text/plain": [
       "<IPython.core.display.HTML object>"
      ]
     },
     "metadata": {},
     "output_type": "display_data"
    },
    {
     "name": "stdout",
     "output_type": "stream",
     "text": [
      "Performing grid search...\n",
      "pipeline: ['clf']\n",
      "parameters:\n",
      "{'clf__algorithm': ['ball_tree', 'kd_tree', 'auto'],\n",
      " 'clf__metric': ['euclidean', 'manhattan'],\n",
      " 'clf__n_neighbors': [3, 5, 10]}\n",
      "Fitting 2 folds for each of 18 candidates, totalling 36 fits\n"
     ]
    },
    {
     "ename": "MemoryError",
     "evalue": "Unable to allocate 2.86 GiB for an array with shape (12785, 30055) and data type int64",
     "output_type": "error",
     "traceback": [
      "\u001b[1;31m---------------------------------------------------------------------------\u001b[0m",
      "\u001b[1;31m_RemoteTraceback\u001b[0m                          Traceback (most recent call last)",
      "\u001b[1;31m_RemoteTraceback\u001b[0m: \n\"\"\"\nTraceback (most recent call last):\n  File \"C:\\Users\\D073999\\Miniconda3\\lib\\site-packages\\joblib\\externals\\loky\\process_executor.py\", line 436, in _process_worker\n    r = call_item()\n  File \"C:\\Users\\D073999\\Miniconda3\\lib\\site-packages\\joblib\\externals\\loky\\process_executor.py\", line 288, in __call__\n    return self.fn(*self.args, **self.kwargs)\n  File \"C:\\Users\\D073999\\Miniconda3\\lib\\site-packages\\joblib\\_parallel_backends.py\", line 595, in __call__\n    return self.func(*args, **kwargs)\n  File \"C:\\Users\\D073999\\Miniconda3\\lib\\site-packages\\joblib\\parallel.py\", line 262, in __call__\n    return [func(*args, **kwargs)\n  File \"C:\\Users\\D073999\\Miniconda3\\lib\\site-packages\\joblib\\parallel.py\", line 262, in <listcomp>\n    return [func(*args, **kwargs)\n  File \"C:\\Users\\D073999\\Miniconda3\\lib\\site-packages\\sklearn\\utils\\fixes.py\", line 216, in __call__\n    return self.function(*args, **kwargs)\n  File \"C:\\Users\\D073999\\Miniconda3\\lib\\site-packages\\sklearn\\model_selection\\_validation.py\", line 673, in _fit_and_score\n    X_test, y_test = _safe_split(estimator, X, y, test, train)\n  File \"C:\\Users\\D073999\\Miniconda3\\lib\\site-packages\\sklearn\\utils\\metaestimators.py\", line 288, in _safe_split\n    X_subset = _safe_indexing(X, indices)\n  File \"C:\\Users\\D073999\\Miniconda3\\lib\\site-packages\\sklearn\\utils\\__init__.py\", line 378, in _safe_indexing\n    return _array_indexing(X, indices, indices_dtype, axis=axis)\n  File \"C:\\Users\\D073999\\Miniconda3\\lib\\site-packages\\sklearn\\utils\\__init__.py\", line 202, in _array_indexing\n    return array[key] if axis == 0 else array[:, key]\n  File \"C:\\Users\\D073999\\Miniconda3\\lib\\site-packages\\numpy\\core\\memmap.py\", line 334, in __getitem__\n    res = super().__getitem__(index)\nnumpy.core._exceptions._ArrayMemoryError: Unable to allocate 2.86 GiB for an array with shape (12785, 30055) and data type int64\n\"\"\"",
      "\nThe above exception was the direct cause of the following exception:\n",
      "\u001b[1;31mMemoryError\u001b[0m                               Traceback (most recent call last)",
      "Input \u001b[1;32mIn [42]\u001b[0m, in \u001b[0;36m<cell line: 2>\u001b[1;34m()\u001b[0m\n\u001b[0;32m      1\u001b[0m knn \u001b[38;5;241m=\u001b[39m KNN_DM()\n\u001b[1;32m----> 2\u001b[0m model \u001b[38;5;241m=\u001b[39m \u001b[43mknn\u001b[49m\u001b[38;5;241;43m.\u001b[39;49m\u001b[43mfit\u001b[49m\u001b[43m(\u001b[49m\u001b[43mX_train_c\u001b[49m\u001b[38;5;241;43m.\u001b[39;49m\u001b[43mtoarray\u001b[49m\u001b[43m(\u001b[49m\u001b[43m)\u001b[49m\u001b[43m,\u001b[49m\u001b[43m \u001b[49m\u001b[43my_train\u001b[49m\u001b[43m,\u001b[49m\u001b[43m \u001b[49m\u001b[43moptim\u001b[49m\u001b[38;5;241;43m=\u001b[39;49m\u001b[38;5;28;43;01mTrue\u001b[39;49;00m\u001b[43m)\u001b[49m\n",
      "Input \u001b[1;32mIn [17]\u001b[0m, in \u001b[0;36mtime_decorater.<locals>.time_measurement\u001b[1;34m(*args, **kwargs)\u001b[0m\n\u001b[0;32m      7\u001b[0m \u001b[38;5;129m@functools\u001b[39m\u001b[38;5;241m.\u001b[39mwraps(function)\n\u001b[0;32m      8\u001b[0m \u001b[38;5;28;01mdef\u001b[39;00m \u001b[38;5;21mtime_measurement\u001b[39m(\u001b[38;5;241m*\u001b[39margs, \u001b[38;5;241m*\u001b[39m\u001b[38;5;241m*\u001b[39mkwargs):\n\u001b[0;32m      9\u001b[0m     start \u001b[38;5;241m=\u001b[39m time\u001b[38;5;241m.\u001b[39mperf_counter()\n\u001b[1;32m---> 10\u001b[0m     result \u001b[38;5;241m=\u001b[39m function(\u001b[38;5;241m*\u001b[39margs, \u001b[38;5;241m*\u001b[39m\u001b[38;5;241m*\u001b[39mkwargs)\n\u001b[0;32m     11\u001b[0m     end \u001b[38;5;241m=\u001b[39m time\u001b[38;5;241m.\u001b[39mperf_counter()\n\u001b[0;32m     12\u001b[0m     \u001b[38;5;28mprint\u001b[39m(\u001b[38;5;124m\"\u001b[39m\u001b[38;5;124mfunction: \u001b[39m\u001b[38;5;132;01m{}\u001b[39;00m\u001b[38;5;124m finished in \u001b[39m\u001b[38;5;132;01m{}\u001b[39;00m\u001b[38;5;124m seconds.\u001b[39m\u001b[38;5;124m\"\u001b[39m\u001b[38;5;241m.\u001b[39mformat(\u001b[38;5;28mrepr\u001b[39m(function\u001b[38;5;241m.\u001b[39m\u001b[38;5;18m__name__\u001b[39m), \u001b[38;5;28mround\u001b[39m((end \u001b[38;5;241m-\u001b[39m start), \u001b[38;5;241m2\u001b[39m)))\n",
      "Input \u001b[1;32mIn [40]\u001b[0m, in \u001b[0;36mKNN_DM.fit\u001b[1;34m(self, X, y, optim)\u001b[0m\n\u001b[0;32m     58\u001b[0m pprint(\u001b[38;5;28mself\u001b[39m\u001b[38;5;241m.\u001b[39mparameters)\n\u001b[0;32m     59\u001b[0m \u001b[38;5;66;03m#t0 = time()\u001b[39;00m\n\u001b[1;32m---> 60\u001b[0m \u001b[38;5;28;43mself\u001b[39;49m\u001b[38;5;241;43m.\u001b[39;49m\u001b[43mmodel_\u001b[49m\u001b[38;5;241;43m.\u001b[39;49m\u001b[43mfit\u001b[49m\u001b[43m(\u001b[49m\u001b[43mX\u001b[49m\u001b[43m,\u001b[49m\u001b[43m \u001b[49m\u001b[43my\u001b[49m\u001b[43m)\u001b[49m\n\u001b[0;32m     61\u001b[0m \u001b[38;5;66;03m#print(\"done in %0.3fs\" % (time() - t0))\u001b[39;00m\n\u001b[0;32m     62\u001b[0m \u001b[38;5;28mprint\u001b[39m(\u001b[38;5;124m\"\u001b[39m\u001b[38;5;124mDone\u001b[39m\u001b[38;5;124m\"\u001b[39m)\n",
      "File \u001b[1;32m~\\Miniconda3\\lib\\site-packages\\sklearn\\model_selection\\_search.py:891\u001b[0m, in \u001b[0;36mBaseSearchCV.fit\u001b[1;34m(self, X, y, groups, **fit_params)\u001b[0m\n\u001b[0;32m    885\u001b[0m     results \u001b[38;5;241m=\u001b[39m \u001b[38;5;28mself\u001b[39m\u001b[38;5;241m.\u001b[39m_format_results(\n\u001b[0;32m    886\u001b[0m         all_candidate_params, n_splits, all_out, all_more_results\n\u001b[0;32m    887\u001b[0m     )\n\u001b[0;32m    889\u001b[0m     \u001b[38;5;28;01mreturn\u001b[39;00m results\n\u001b[1;32m--> 891\u001b[0m \u001b[38;5;28;43mself\u001b[39;49m\u001b[38;5;241;43m.\u001b[39;49m\u001b[43m_run_search\u001b[49m\u001b[43m(\u001b[49m\u001b[43mevaluate_candidates\u001b[49m\u001b[43m)\u001b[49m\n\u001b[0;32m    893\u001b[0m \u001b[38;5;66;03m# multimetric is determined here because in the case of a callable\u001b[39;00m\n\u001b[0;32m    894\u001b[0m \u001b[38;5;66;03m# self.scoring the return type is only known after calling\u001b[39;00m\n\u001b[0;32m    895\u001b[0m first_test_score \u001b[38;5;241m=\u001b[39m all_out[\u001b[38;5;241m0\u001b[39m][\u001b[38;5;124m\"\u001b[39m\u001b[38;5;124mtest_scores\u001b[39m\u001b[38;5;124m\"\u001b[39m]\n",
      "File \u001b[1;32m~\\Miniconda3\\lib\\site-packages\\sklearn\\model_selection\\_search.py:1392\u001b[0m, in \u001b[0;36mGridSearchCV._run_search\u001b[1;34m(self, evaluate_candidates)\u001b[0m\n\u001b[0;32m   1390\u001b[0m \u001b[38;5;28;01mdef\u001b[39;00m \u001b[38;5;21m_run_search\u001b[39m(\u001b[38;5;28mself\u001b[39m, evaluate_candidates):\n\u001b[0;32m   1391\u001b[0m     \u001b[38;5;124;03m\"\"\"Search all candidates in param_grid\"\"\"\u001b[39;00m\n\u001b[1;32m-> 1392\u001b[0m     \u001b[43mevaluate_candidates\u001b[49m\u001b[43m(\u001b[49m\u001b[43mParameterGrid\u001b[49m\u001b[43m(\u001b[49m\u001b[38;5;28;43mself\u001b[39;49m\u001b[38;5;241;43m.\u001b[39;49m\u001b[43mparam_grid\u001b[49m\u001b[43m)\u001b[49m\u001b[43m)\u001b[49m\n",
      "File \u001b[1;32m~\\Miniconda3\\lib\\site-packages\\sklearn\\model_selection\\_search.py:838\u001b[0m, in \u001b[0;36mBaseSearchCV.fit.<locals>.evaluate_candidates\u001b[1;34m(candidate_params, cv, more_results)\u001b[0m\n\u001b[0;32m    830\u001b[0m \u001b[38;5;28;01mif\u001b[39;00m \u001b[38;5;28mself\u001b[39m\u001b[38;5;241m.\u001b[39mverbose \u001b[38;5;241m>\u001b[39m \u001b[38;5;241m0\u001b[39m:\n\u001b[0;32m    831\u001b[0m     \u001b[38;5;28mprint\u001b[39m(\n\u001b[0;32m    832\u001b[0m         \u001b[38;5;124m\"\u001b[39m\u001b[38;5;124mFitting \u001b[39m\u001b[38;5;132;01m{0}\u001b[39;00m\u001b[38;5;124m folds for each of \u001b[39m\u001b[38;5;132;01m{1}\u001b[39;00m\u001b[38;5;124m candidates,\u001b[39m\u001b[38;5;124m\"\u001b[39m\n\u001b[0;32m    833\u001b[0m         \u001b[38;5;124m\"\u001b[39m\u001b[38;5;124m totalling \u001b[39m\u001b[38;5;132;01m{2}\u001b[39;00m\u001b[38;5;124m fits\u001b[39m\u001b[38;5;124m\"\u001b[39m\u001b[38;5;241m.\u001b[39mformat(\n\u001b[0;32m    834\u001b[0m             n_splits, n_candidates, n_candidates \u001b[38;5;241m*\u001b[39m n_splits\n\u001b[0;32m    835\u001b[0m         )\n\u001b[0;32m    836\u001b[0m     )\n\u001b[1;32m--> 838\u001b[0m out \u001b[38;5;241m=\u001b[39m \u001b[43mparallel\u001b[49m\u001b[43m(\u001b[49m\n\u001b[0;32m    839\u001b[0m \u001b[43m    \u001b[49m\u001b[43mdelayed\u001b[49m\u001b[43m(\u001b[49m\u001b[43m_fit_and_score\u001b[49m\u001b[43m)\u001b[49m\u001b[43m(\u001b[49m\n\u001b[0;32m    840\u001b[0m \u001b[43m        \u001b[49m\u001b[43mclone\u001b[49m\u001b[43m(\u001b[49m\u001b[43mbase_estimator\u001b[49m\u001b[43m)\u001b[49m\u001b[43m,\u001b[49m\n\u001b[0;32m    841\u001b[0m \u001b[43m        \u001b[49m\u001b[43mX\u001b[49m\u001b[43m,\u001b[49m\n\u001b[0;32m    842\u001b[0m \u001b[43m        \u001b[49m\u001b[43my\u001b[49m\u001b[43m,\u001b[49m\n\u001b[0;32m    843\u001b[0m \u001b[43m        \u001b[49m\u001b[43mtrain\u001b[49m\u001b[38;5;241;43m=\u001b[39;49m\u001b[43mtrain\u001b[49m\u001b[43m,\u001b[49m\n\u001b[0;32m    844\u001b[0m \u001b[43m        \u001b[49m\u001b[43mtest\u001b[49m\u001b[38;5;241;43m=\u001b[39;49m\u001b[43mtest\u001b[49m\u001b[43m,\u001b[49m\n\u001b[0;32m    845\u001b[0m \u001b[43m        \u001b[49m\u001b[43mparameters\u001b[49m\u001b[38;5;241;43m=\u001b[39;49m\u001b[43mparameters\u001b[49m\u001b[43m,\u001b[49m\n\u001b[0;32m    846\u001b[0m \u001b[43m        \u001b[49m\u001b[43msplit_progress\u001b[49m\u001b[38;5;241;43m=\u001b[39;49m\u001b[43m(\u001b[49m\u001b[43msplit_idx\u001b[49m\u001b[43m,\u001b[49m\u001b[43m \u001b[49m\u001b[43mn_splits\u001b[49m\u001b[43m)\u001b[49m\u001b[43m,\u001b[49m\n\u001b[0;32m    847\u001b[0m \u001b[43m        \u001b[49m\u001b[43mcandidate_progress\u001b[49m\u001b[38;5;241;43m=\u001b[39;49m\u001b[43m(\u001b[49m\u001b[43mcand_idx\u001b[49m\u001b[43m,\u001b[49m\u001b[43m \u001b[49m\u001b[43mn_candidates\u001b[49m\u001b[43m)\u001b[49m\u001b[43m,\u001b[49m\n\u001b[0;32m    848\u001b[0m \u001b[43m        \u001b[49m\u001b[38;5;241;43m*\u001b[39;49m\u001b[38;5;241;43m*\u001b[39;49m\u001b[43mfit_and_score_kwargs\u001b[49m\u001b[43m,\u001b[49m\n\u001b[0;32m    849\u001b[0m \u001b[43m    \u001b[49m\u001b[43m)\u001b[49m\n\u001b[0;32m    850\u001b[0m \u001b[43m    \u001b[49m\u001b[38;5;28;43;01mfor\u001b[39;49;00m\u001b[43m \u001b[49m\u001b[43m(\u001b[49m\u001b[43mcand_idx\u001b[49m\u001b[43m,\u001b[49m\u001b[43m \u001b[49m\u001b[43mparameters\u001b[49m\u001b[43m)\u001b[49m\u001b[43m,\u001b[49m\u001b[43m \u001b[49m\u001b[43m(\u001b[49m\u001b[43msplit_idx\u001b[49m\u001b[43m,\u001b[49m\u001b[43m \u001b[49m\u001b[43m(\u001b[49m\u001b[43mtrain\u001b[49m\u001b[43m,\u001b[49m\u001b[43m \u001b[49m\u001b[43mtest\u001b[49m\u001b[43m)\u001b[49m\u001b[43m)\u001b[49m\u001b[43m \u001b[49m\u001b[38;5;129;43;01min\u001b[39;49;00m\u001b[43m \u001b[49m\u001b[43mproduct\u001b[49m\u001b[43m(\u001b[49m\n\u001b[0;32m    851\u001b[0m \u001b[43m        \u001b[49m\u001b[38;5;28;43menumerate\u001b[39;49m\u001b[43m(\u001b[49m\u001b[43mcandidate_params\u001b[49m\u001b[43m)\u001b[49m\u001b[43m,\u001b[49m\u001b[43m \u001b[49m\u001b[38;5;28;43menumerate\u001b[39;49m\u001b[43m(\u001b[49m\u001b[43mcv\u001b[49m\u001b[38;5;241;43m.\u001b[39;49m\u001b[43msplit\u001b[49m\u001b[43m(\u001b[49m\u001b[43mX\u001b[49m\u001b[43m,\u001b[49m\u001b[43m \u001b[49m\u001b[43my\u001b[49m\u001b[43m,\u001b[49m\u001b[43m \u001b[49m\u001b[43mgroups\u001b[49m\u001b[43m)\u001b[49m\u001b[43m)\u001b[49m\n\u001b[0;32m    852\u001b[0m \u001b[43m    \u001b[49m\u001b[43m)\u001b[49m\n\u001b[0;32m    853\u001b[0m \u001b[43m\u001b[49m\u001b[43m)\u001b[49m\n\u001b[0;32m    855\u001b[0m \u001b[38;5;28;01mif\u001b[39;00m \u001b[38;5;28mlen\u001b[39m(out) \u001b[38;5;241m<\u001b[39m \u001b[38;5;241m1\u001b[39m:\n\u001b[0;32m    856\u001b[0m     \u001b[38;5;28;01mraise\u001b[39;00m \u001b[38;5;167;01mValueError\u001b[39;00m(\n\u001b[0;32m    857\u001b[0m         \u001b[38;5;124m\"\u001b[39m\u001b[38;5;124mNo fits were performed. \u001b[39m\u001b[38;5;124m\"\u001b[39m\n\u001b[0;32m    858\u001b[0m         \u001b[38;5;124m\"\u001b[39m\u001b[38;5;124mWas the CV iterator empty? \u001b[39m\u001b[38;5;124m\"\u001b[39m\n\u001b[0;32m    859\u001b[0m         \u001b[38;5;124m\"\u001b[39m\u001b[38;5;124mWere there no candidates?\u001b[39m\u001b[38;5;124m\"\u001b[39m\n\u001b[0;32m    860\u001b[0m     )\n",
      "File \u001b[1;32m~\\Miniconda3\\lib\\site-packages\\joblib\\parallel.py:1056\u001b[0m, in \u001b[0;36mParallel.__call__\u001b[1;34m(self, iterable)\u001b[0m\n\u001b[0;32m   1053\u001b[0m     \u001b[38;5;28mself\u001b[39m\u001b[38;5;241m.\u001b[39m_iterating \u001b[38;5;241m=\u001b[39m \u001b[38;5;28;01mFalse\u001b[39;00m\n\u001b[0;32m   1055\u001b[0m \u001b[38;5;28;01mwith\u001b[39;00m \u001b[38;5;28mself\u001b[39m\u001b[38;5;241m.\u001b[39m_backend\u001b[38;5;241m.\u001b[39mretrieval_context():\n\u001b[1;32m-> 1056\u001b[0m     \u001b[38;5;28;43mself\u001b[39;49m\u001b[38;5;241;43m.\u001b[39;49m\u001b[43mretrieve\u001b[49m\u001b[43m(\u001b[49m\u001b[43m)\u001b[49m\n\u001b[0;32m   1057\u001b[0m \u001b[38;5;66;03m# Make sure that we get a last message telling us we are done\u001b[39;00m\n\u001b[0;32m   1058\u001b[0m elapsed_time \u001b[38;5;241m=\u001b[39m time\u001b[38;5;241m.\u001b[39mtime() \u001b[38;5;241m-\u001b[39m \u001b[38;5;28mself\u001b[39m\u001b[38;5;241m.\u001b[39m_start_time\n",
      "File \u001b[1;32m~\\Miniconda3\\lib\\site-packages\\joblib\\parallel.py:935\u001b[0m, in \u001b[0;36mParallel.retrieve\u001b[1;34m(self)\u001b[0m\n\u001b[0;32m    933\u001b[0m \u001b[38;5;28;01mtry\u001b[39;00m:\n\u001b[0;32m    934\u001b[0m     \u001b[38;5;28;01mif\u001b[39;00m \u001b[38;5;28mgetattr\u001b[39m(\u001b[38;5;28mself\u001b[39m\u001b[38;5;241m.\u001b[39m_backend, \u001b[38;5;124m'\u001b[39m\u001b[38;5;124msupports_timeout\u001b[39m\u001b[38;5;124m'\u001b[39m, \u001b[38;5;28;01mFalse\u001b[39;00m):\n\u001b[1;32m--> 935\u001b[0m         \u001b[38;5;28mself\u001b[39m\u001b[38;5;241m.\u001b[39m_output\u001b[38;5;241m.\u001b[39mextend(\u001b[43mjob\u001b[49m\u001b[38;5;241;43m.\u001b[39;49m\u001b[43mget\u001b[49m\u001b[43m(\u001b[49m\u001b[43mtimeout\u001b[49m\u001b[38;5;241;43m=\u001b[39;49m\u001b[38;5;28;43mself\u001b[39;49m\u001b[38;5;241;43m.\u001b[39;49m\u001b[43mtimeout\u001b[49m\u001b[43m)\u001b[49m)\n\u001b[0;32m    936\u001b[0m     \u001b[38;5;28;01melse\u001b[39;00m:\n\u001b[0;32m    937\u001b[0m         \u001b[38;5;28mself\u001b[39m\u001b[38;5;241m.\u001b[39m_output\u001b[38;5;241m.\u001b[39mextend(job\u001b[38;5;241m.\u001b[39mget())\n",
      "File \u001b[1;32m~\\Miniconda3\\lib\\site-packages\\joblib\\_parallel_backends.py:542\u001b[0m, in \u001b[0;36mLokyBackend.wrap_future_result\u001b[1;34m(future, timeout)\u001b[0m\n\u001b[0;32m    539\u001b[0m \u001b[38;5;124;03m\"\"\"Wrapper for Future.result to implement the same behaviour as\u001b[39;00m\n\u001b[0;32m    540\u001b[0m \u001b[38;5;124;03mAsyncResults.get from multiprocessing.\"\"\"\u001b[39;00m\n\u001b[0;32m    541\u001b[0m \u001b[38;5;28;01mtry\u001b[39;00m:\n\u001b[1;32m--> 542\u001b[0m     \u001b[38;5;28;01mreturn\u001b[39;00m \u001b[43mfuture\u001b[49m\u001b[38;5;241;43m.\u001b[39;49m\u001b[43mresult\u001b[49m\u001b[43m(\u001b[49m\u001b[43mtimeout\u001b[49m\u001b[38;5;241;43m=\u001b[39;49m\u001b[43mtimeout\u001b[49m\u001b[43m)\u001b[49m\n\u001b[0;32m    543\u001b[0m \u001b[38;5;28;01mexcept\u001b[39;00m CfTimeoutError \u001b[38;5;28;01mas\u001b[39;00m e:\n\u001b[0;32m    544\u001b[0m     \u001b[38;5;28;01mraise\u001b[39;00m \u001b[38;5;167;01mTimeoutError\u001b[39;00m \u001b[38;5;28;01mfrom\u001b[39;00m \u001b[38;5;21;01me\u001b[39;00m\n",
      "File \u001b[1;32m~\\Miniconda3\\lib\\concurrent\\futures\\_base.py:445\u001b[0m, in \u001b[0;36mFuture.result\u001b[1;34m(self, timeout)\u001b[0m\n\u001b[0;32m    443\u001b[0m     \u001b[38;5;28;01mraise\u001b[39;00m CancelledError()\n\u001b[0;32m    444\u001b[0m \u001b[38;5;28;01melif\u001b[39;00m \u001b[38;5;28mself\u001b[39m\u001b[38;5;241m.\u001b[39m_state \u001b[38;5;241m==\u001b[39m FINISHED:\n\u001b[1;32m--> 445\u001b[0m     \u001b[38;5;28;01mreturn\u001b[39;00m \u001b[38;5;28;43mself\u001b[39;49m\u001b[38;5;241;43m.\u001b[39;49m\u001b[43m__get_result\u001b[49m\u001b[43m(\u001b[49m\u001b[43m)\u001b[49m\n\u001b[0;32m    446\u001b[0m \u001b[38;5;28;01melse\u001b[39;00m:\n\u001b[0;32m    447\u001b[0m     \u001b[38;5;28;01mraise\u001b[39;00m \u001b[38;5;167;01mTimeoutError\u001b[39;00m()\n",
      "File \u001b[1;32m~\\Miniconda3\\lib\\concurrent\\futures\\_base.py:390\u001b[0m, in \u001b[0;36mFuture.__get_result\u001b[1;34m(self)\u001b[0m\n\u001b[0;32m    388\u001b[0m \u001b[38;5;28;01mif\u001b[39;00m \u001b[38;5;28mself\u001b[39m\u001b[38;5;241m.\u001b[39m_exception:\n\u001b[0;32m    389\u001b[0m     \u001b[38;5;28;01mtry\u001b[39;00m:\n\u001b[1;32m--> 390\u001b[0m         \u001b[38;5;28;01mraise\u001b[39;00m \u001b[38;5;28mself\u001b[39m\u001b[38;5;241m.\u001b[39m_exception\n\u001b[0;32m    391\u001b[0m     \u001b[38;5;28;01mfinally\u001b[39;00m:\n\u001b[0;32m    392\u001b[0m         \u001b[38;5;66;03m# Break a reference cycle with the exception in self._exception\u001b[39;00m\n\u001b[0;32m    393\u001b[0m         \u001b[38;5;28mself\u001b[39m \u001b[38;5;241m=\u001b[39m \u001b[38;5;28;01mNone\u001b[39;00m\n",
      "\u001b[1;31mMemoryError\u001b[0m: Unable to allocate 2.86 GiB for an array with shape (12785, 30055) and data type int64"
     ]
    }
   ],
   "source": [
    "knn = KNN_DM()\n",
    "model = knn.fit(X_train_c.toarray(), y_train, optim=True)"
   ]
  },
  {
   "cell_type": "code",
   "execution_count": null,
   "id": "19c459d7",
   "metadata": {},
   "outputs": [],
   "source": []
  },
  {
   "cell_type": "markdown",
   "id": "911bf5d4",
   "metadata": {},
   "source": [
    "### Impalanced classes"
   ]
  },
  {
   "cell_type": "markdown",
   "id": "76e59f4f",
   "metadata": {},
   "source": [
    "F1-score is very low, \n",
    "try to find tech. that specifically target the f-1 (like ensambles targets  overfitting).\n",
    "the idea is rather to deal with imbalanced classes and not directly the f1-score, but as a result of handling the \n",
    "imbalance state in the right way, the f1-score should also be boosted:\n",
    "\n",
    "1- use Ensembles or balanced-bagging-classifier: this is a rather simple solution and redandant, it is a normal classifier\n",
    "but it will resample the data without having to use a sampler, so the results should be the same as if one resampled and then used another normal classifier\n",
    "\n",
    "2- Resampling like resample from sklearn: already used above\n",
    "\n",
    "3- SMOTE Synthetic Minority Oversampling Technique: oversampling the minor class by creating synthetic examples\n",
    "    form original data and not only deleting or duplicating the examples\n",
    "    \n",
    "4- Threshold moving: most of the learners in sklearn have predict_proba, which give a probabillity "
   ]
  },
  {
   "cell_type": "code",
   "execution_count": 41,
   "id": "5d3a1d62",
   "metadata": {},
   "outputs": [
    {
     "ename": "MemoryError",
     "evalue": "Unable to allocate 10.6 GiB for an array with shape (30055, 47550) and data type int64",
     "output_type": "error",
     "traceback": [
      "\u001b[1;31m---------------------------------------------------------------------------\u001b[0m",
      "\u001b[1;31mMemoryError\u001b[0m                               Traceback (most recent call last)",
      "Input \u001b[1;32mIn [41]\u001b[0m, in \u001b[0;36m<cell line: 11>\u001b[1;34m()\u001b[0m\n\u001b[0;32m      2\u001b[0m \u001b[38;5;66;03m# KNeighborsClassifier\u001b[39;00m\n\u001b[0;32m      3\u001b[0m \u001b[38;5;66;03m# KNN_DM is just a convient way to reuse the code, it will not work on all cases, because, \u001b[39;00m\n\u001b[0;32m      4\u001b[0m \u001b[38;5;66;03m#they are not covered during the impl.\u001b[39;00m\n\u001b[0;32m      5\u001b[0m \u001b[38;5;66;03m# in this case we use the original classifier\u001b[39;00m\n\u001b[0;32m      6\u001b[0m \u001b[38;5;66;03m#Create an instance\u001b[39;00m\n\u001b[0;32m      7\u001b[0m classifier \u001b[38;5;241m=\u001b[39m BalancedBaggingClassifier(base_estimator\u001b[38;5;241m=\u001b[39mKNeighborsClassifier(),\n\u001b[0;32m      8\u001b[0m                                 sampling_strategy\u001b[38;5;241m=\u001b[39m\u001b[38;5;124m'\u001b[39m\u001b[38;5;124mnot majority\u001b[39m\u001b[38;5;124m'\u001b[39m,\n\u001b[0;32m      9\u001b[0m                                 replacement\u001b[38;5;241m=\u001b[39m\u001b[38;5;28;01mFalse\u001b[39;00m,\n\u001b[0;32m     10\u001b[0m                                 random_state\u001b[38;5;241m=\u001b[39m\u001b[38;5;241m42\u001b[39m)\n\u001b[1;32m---> 11\u001b[0m \u001b[43mclassifier\u001b[49m\u001b[38;5;241;43m.\u001b[39;49m\u001b[43mfit\u001b[49m\u001b[43m(\u001b[49m\u001b[43mX_train_c\u001b[49m\u001b[38;5;241;43m.\u001b[39;49m\u001b[43mtoarray\u001b[49m\u001b[43m(\u001b[49m\u001b[43m)\u001b[49m\u001b[43m,\u001b[49m\u001b[43m \u001b[49m\u001b[43my_train\u001b[49m\u001b[43m)\u001b[49m\n\u001b[0;32m     12\u001b[0m preds \u001b[38;5;241m=\u001b[39m classifier\u001b[38;5;241m.\u001b[39mpredict(X_test_c)\n",
      "File \u001b[1;32m~\\Miniconda3\\lib\\site-packages\\imblearn\\ensemble\\_bagging.py:331\u001b[0m, in \u001b[0;36mBalancedBaggingClassifier.fit\u001b[1;34m(self, X, y)\u001b[0m\n\u001b[0;32m    313\u001b[0m \u001b[38;5;124;03m\"\"\"Build a Bagging ensemble of estimators from the training set (X, y).\u001b[39;00m\n\u001b[0;32m    314\u001b[0m \n\u001b[0;32m    315\u001b[0m \u001b[38;5;124;03mParameters\u001b[39;00m\n\u001b[1;32m   (...)\u001b[0m\n\u001b[0;32m    328\u001b[0m \u001b[38;5;124;03m    Fitted estimator.\u001b[39;00m\n\u001b[0;32m    329\u001b[0m \u001b[38;5;124;03m\"\"\"\u001b[39;00m\n\u001b[0;32m    330\u001b[0m \u001b[38;5;66;03m# overwrite the base class method by disallowing `sample_weight`\u001b[39;00m\n\u001b[1;32m--> 331\u001b[0m \u001b[38;5;28;01mreturn\u001b[39;00m \u001b[38;5;28;43msuper\u001b[39;49m\u001b[43m(\u001b[49m\u001b[43m)\u001b[49m\u001b[38;5;241;43m.\u001b[39;49m\u001b[43mfit\u001b[49m\u001b[43m(\u001b[49m\u001b[43mX\u001b[49m\u001b[43m,\u001b[49m\u001b[43m \u001b[49m\u001b[43my\u001b[49m\u001b[43m)\u001b[49m\n",
      "File \u001b[1;32m~\\Miniconda3\\lib\\site-packages\\sklearn\\ensemble\\_bagging.py:269\u001b[0m, in \u001b[0;36mBaseBagging.fit\u001b[1;34m(self, X, y, sample_weight)\u001b[0m\n\u001b[0;32m    260\u001b[0m \u001b[38;5;66;03m# Convert data (X is required to be 2d and indexable)\u001b[39;00m\n\u001b[0;32m    261\u001b[0m X, y \u001b[38;5;241m=\u001b[39m \u001b[38;5;28mself\u001b[39m\u001b[38;5;241m.\u001b[39m_validate_data(\n\u001b[0;32m    262\u001b[0m     X,\n\u001b[0;32m    263\u001b[0m     y,\n\u001b[1;32m   (...)\u001b[0m\n\u001b[0;32m    267\u001b[0m     multi_output\u001b[38;5;241m=\u001b[39m\u001b[38;5;28;01mTrue\u001b[39;00m,\n\u001b[0;32m    268\u001b[0m )\n\u001b[1;32m--> 269\u001b[0m \u001b[38;5;28;01mreturn\u001b[39;00m \u001b[38;5;28;43mself\u001b[39;49m\u001b[38;5;241;43m.\u001b[39;49m\u001b[43m_fit\u001b[49m\u001b[43m(\u001b[49m\u001b[43mX\u001b[49m\u001b[43m,\u001b[49m\u001b[43m \u001b[49m\u001b[43my\u001b[49m\u001b[43m,\u001b[49m\u001b[43m \u001b[49m\u001b[38;5;28;43mself\u001b[39;49m\u001b[38;5;241;43m.\u001b[39;49m\u001b[43mmax_samples\u001b[49m\u001b[43m,\u001b[49m\u001b[43m \u001b[49m\u001b[43msample_weight\u001b[49m\u001b[38;5;241;43m=\u001b[39;49m\u001b[43msample_weight\u001b[49m\u001b[43m)\u001b[49m\n",
      "File \u001b[1;32m~\\Miniconda3\\lib\\site-packages\\imblearn\\ensemble\\_bagging.py:346\u001b[0m, in \u001b[0;36mBalancedBaggingClassifier._fit\u001b[1;34m(self, X, y, max_samples, max_depth, sample_weight)\u001b[0m\n\u001b[0;32m    343\u001b[0m     \u001b[38;5;28mself\u001b[39m\u001b[38;5;241m.\u001b[39msampler_ \u001b[38;5;241m=\u001b[39m clone(\u001b[38;5;28mself\u001b[39m\u001b[38;5;241m.\u001b[39msampler)\n\u001b[0;32m    344\u001b[0m \u001b[38;5;66;03m# RandomUnderSampler is not supporting sample_weight. We need to pass\u001b[39;00m\n\u001b[0;32m    345\u001b[0m \u001b[38;5;66;03m# None.\u001b[39;00m\n\u001b[1;32m--> 346\u001b[0m \u001b[38;5;28;01mreturn\u001b[39;00m \u001b[38;5;28;43msuper\u001b[39;49m\u001b[43m(\u001b[49m\u001b[43m)\u001b[49m\u001b[38;5;241;43m.\u001b[39;49m\u001b[43m_fit\u001b[49m\u001b[43m(\u001b[49m\u001b[43mX\u001b[49m\u001b[43m,\u001b[49m\u001b[43m \u001b[49m\u001b[43my\u001b[49m\u001b[43m,\u001b[49m\u001b[43m \u001b[49m\u001b[38;5;28;43mself\u001b[39;49m\u001b[38;5;241;43m.\u001b[39;49m\u001b[43mmax_samples\u001b[49m\u001b[43m,\u001b[49m\u001b[43m \u001b[49m\u001b[43msample_weight\u001b[49m\u001b[38;5;241;43m=\u001b[39;49m\u001b[38;5;28;43;01mNone\u001b[39;49;00m\u001b[43m)\u001b[49m\n",
      "File \u001b[1;32m~\\Miniconda3\\lib\\site-packages\\sklearn\\ensemble\\_bagging.py:394\u001b[0m, in \u001b[0;36mBaseBagging._fit\u001b[1;34m(self, X, y, max_samples, max_depth, sample_weight)\u001b[0m\n\u001b[0;32m    391\u001b[0m seeds \u001b[38;5;241m=\u001b[39m random_state\u001b[38;5;241m.\u001b[39mrandint(MAX_INT, size\u001b[38;5;241m=\u001b[39mn_more_estimators)\n\u001b[0;32m    392\u001b[0m \u001b[38;5;28mself\u001b[39m\u001b[38;5;241m.\u001b[39m_seeds \u001b[38;5;241m=\u001b[39m seeds\n\u001b[1;32m--> 394\u001b[0m all_results \u001b[38;5;241m=\u001b[39m \u001b[43mParallel\u001b[49m\u001b[43m(\u001b[49m\n\u001b[0;32m    395\u001b[0m \u001b[43m    \u001b[49m\u001b[43mn_jobs\u001b[49m\u001b[38;5;241;43m=\u001b[39;49m\u001b[43mn_jobs\u001b[49m\u001b[43m,\u001b[49m\u001b[43m \u001b[49m\u001b[43mverbose\u001b[49m\u001b[38;5;241;43m=\u001b[39;49m\u001b[38;5;28;43mself\u001b[39;49m\u001b[38;5;241;43m.\u001b[39;49m\u001b[43mverbose\u001b[49m\u001b[43m,\u001b[49m\u001b[43m \u001b[49m\u001b[38;5;241;43m*\u001b[39;49m\u001b[38;5;241;43m*\u001b[39;49m\u001b[38;5;28;43mself\u001b[39;49m\u001b[38;5;241;43m.\u001b[39;49m\u001b[43m_parallel_args\u001b[49m\u001b[43m(\u001b[49m\u001b[43m)\u001b[49m\n\u001b[0;32m    396\u001b[0m \u001b[43m\u001b[49m\u001b[43m)\u001b[49m\u001b[43m(\u001b[49m\n\u001b[0;32m    397\u001b[0m \u001b[43m    \u001b[49m\u001b[43mdelayed\u001b[49m\u001b[43m(\u001b[49m\u001b[43m_parallel_build_estimators\u001b[49m\u001b[43m)\u001b[49m\u001b[43m(\u001b[49m\n\u001b[0;32m    398\u001b[0m \u001b[43m        \u001b[49m\u001b[43mn_estimators\u001b[49m\u001b[43m[\u001b[49m\u001b[43mi\u001b[49m\u001b[43m]\u001b[49m\u001b[43m,\u001b[49m\n\u001b[0;32m    399\u001b[0m \u001b[43m        \u001b[49m\u001b[38;5;28;43mself\u001b[39;49m\u001b[43m,\u001b[49m\n\u001b[0;32m    400\u001b[0m \u001b[43m        \u001b[49m\u001b[43mX\u001b[49m\u001b[43m,\u001b[49m\n\u001b[0;32m    401\u001b[0m \u001b[43m        \u001b[49m\u001b[43my\u001b[49m\u001b[43m,\u001b[49m\n\u001b[0;32m    402\u001b[0m \u001b[43m        \u001b[49m\u001b[43msample_weight\u001b[49m\u001b[43m,\u001b[49m\n\u001b[0;32m    403\u001b[0m \u001b[43m        \u001b[49m\u001b[43mseeds\u001b[49m\u001b[43m[\u001b[49m\u001b[43mstarts\u001b[49m\u001b[43m[\u001b[49m\u001b[43mi\u001b[49m\u001b[43m]\u001b[49m\u001b[43m \u001b[49m\u001b[43m:\u001b[49m\u001b[43m \u001b[49m\u001b[43mstarts\u001b[49m\u001b[43m[\u001b[49m\u001b[43mi\u001b[49m\u001b[43m \u001b[49m\u001b[38;5;241;43m+\u001b[39;49m\u001b[43m \u001b[49m\u001b[38;5;241;43m1\u001b[39;49m\u001b[43m]\u001b[49m\u001b[43m]\u001b[49m\u001b[43m,\u001b[49m\n\u001b[0;32m    404\u001b[0m \u001b[43m        \u001b[49m\u001b[43mtotal_n_estimators\u001b[49m\u001b[43m,\u001b[49m\n\u001b[0;32m    405\u001b[0m \u001b[43m        \u001b[49m\u001b[43mverbose\u001b[49m\u001b[38;5;241;43m=\u001b[39;49m\u001b[38;5;28;43mself\u001b[39;49m\u001b[38;5;241;43m.\u001b[39;49m\u001b[43mverbose\u001b[49m\u001b[43m,\u001b[49m\n\u001b[0;32m    406\u001b[0m \u001b[43m    \u001b[49m\u001b[43m)\u001b[49m\n\u001b[0;32m    407\u001b[0m \u001b[43m    \u001b[49m\u001b[38;5;28;43;01mfor\u001b[39;49;00m\u001b[43m \u001b[49m\u001b[43mi\u001b[49m\u001b[43m \u001b[49m\u001b[38;5;129;43;01min\u001b[39;49;00m\u001b[43m \u001b[49m\u001b[38;5;28;43mrange\u001b[39;49m\u001b[43m(\u001b[49m\u001b[43mn_jobs\u001b[49m\u001b[43m)\u001b[49m\n\u001b[0;32m    408\u001b[0m \u001b[43m\u001b[49m\u001b[43m)\u001b[49m\n\u001b[0;32m    410\u001b[0m \u001b[38;5;66;03m# Reduce\u001b[39;00m\n\u001b[0;32m    411\u001b[0m \u001b[38;5;28mself\u001b[39m\u001b[38;5;241m.\u001b[39mestimators_ \u001b[38;5;241m+\u001b[39m\u001b[38;5;241m=\u001b[39m \u001b[38;5;28mlist\u001b[39m(\n\u001b[0;32m    412\u001b[0m     itertools\u001b[38;5;241m.\u001b[39mchain\u001b[38;5;241m.\u001b[39mfrom_iterable(t[\u001b[38;5;241m0\u001b[39m] \u001b[38;5;28;01mfor\u001b[39;00m t \u001b[38;5;129;01min\u001b[39;00m all_results)\n\u001b[0;32m    413\u001b[0m )\n",
      "File \u001b[1;32m~\\Miniconda3\\lib\\site-packages\\joblib\\parallel.py:1043\u001b[0m, in \u001b[0;36mParallel.__call__\u001b[1;34m(self, iterable)\u001b[0m\n\u001b[0;32m   1034\u001b[0m \u001b[38;5;28;01mtry\u001b[39;00m:\n\u001b[0;32m   1035\u001b[0m     \u001b[38;5;66;03m# Only set self._iterating to True if at least a batch\u001b[39;00m\n\u001b[0;32m   1036\u001b[0m     \u001b[38;5;66;03m# was dispatched. In particular this covers the edge\u001b[39;00m\n\u001b[1;32m   (...)\u001b[0m\n\u001b[0;32m   1040\u001b[0m     \u001b[38;5;66;03m# was very quick and its callback already dispatched all the\u001b[39;00m\n\u001b[0;32m   1041\u001b[0m     \u001b[38;5;66;03m# remaining jobs.\u001b[39;00m\n\u001b[0;32m   1042\u001b[0m     \u001b[38;5;28mself\u001b[39m\u001b[38;5;241m.\u001b[39m_iterating \u001b[38;5;241m=\u001b[39m \u001b[38;5;28;01mFalse\u001b[39;00m\n\u001b[1;32m-> 1043\u001b[0m     \u001b[38;5;28;01mif\u001b[39;00m \u001b[38;5;28;43mself\u001b[39;49m\u001b[38;5;241;43m.\u001b[39;49m\u001b[43mdispatch_one_batch\u001b[49m\u001b[43m(\u001b[49m\u001b[43miterator\u001b[49m\u001b[43m)\u001b[49m:\n\u001b[0;32m   1044\u001b[0m         \u001b[38;5;28mself\u001b[39m\u001b[38;5;241m.\u001b[39m_iterating \u001b[38;5;241m=\u001b[39m \u001b[38;5;28mself\u001b[39m\u001b[38;5;241m.\u001b[39m_original_iterator \u001b[38;5;129;01mis\u001b[39;00m \u001b[38;5;129;01mnot\u001b[39;00m \u001b[38;5;28;01mNone\u001b[39;00m\n\u001b[0;32m   1046\u001b[0m     \u001b[38;5;28;01mwhile\u001b[39;00m \u001b[38;5;28mself\u001b[39m\u001b[38;5;241m.\u001b[39mdispatch_one_batch(iterator):\n",
      "File \u001b[1;32m~\\Miniconda3\\lib\\site-packages\\joblib\\parallel.py:861\u001b[0m, in \u001b[0;36mParallel.dispatch_one_batch\u001b[1;34m(self, iterator)\u001b[0m\n\u001b[0;32m    859\u001b[0m     \u001b[38;5;28;01mreturn\u001b[39;00m \u001b[38;5;28;01mFalse\u001b[39;00m\n\u001b[0;32m    860\u001b[0m \u001b[38;5;28;01melse\u001b[39;00m:\n\u001b[1;32m--> 861\u001b[0m     \u001b[38;5;28;43mself\u001b[39;49m\u001b[38;5;241;43m.\u001b[39;49m\u001b[43m_dispatch\u001b[49m\u001b[43m(\u001b[49m\u001b[43mtasks\u001b[49m\u001b[43m)\u001b[49m\n\u001b[0;32m    862\u001b[0m     \u001b[38;5;28;01mreturn\u001b[39;00m \u001b[38;5;28;01mTrue\u001b[39;00m\n",
      "File \u001b[1;32m~\\Miniconda3\\lib\\site-packages\\joblib\\parallel.py:779\u001b[0m, in \u001b[0;36mParallel._dispatch\u001b[1;34m(self, batch)\u001b[0m\n\u001b[0;32m    777\u001b[0m \u001b[38;5;28;01mwith\u001b[39;00m \u001b[38;5;28mself\u001b[39m\u001b[38;5;241m.\u001b[39m_lock:\n\u001b[0;32m    778\u001b[0m     job_idx \u001b[38;5;241m=\u001b[39m \u001b[38;5;28mlen\u001b[39m(\u001b[38;5;28mself\u001b[39m\u001b[38;5;241m.\u001b[39m_jobs)\n\u001b[1;32m--> 779\u001b[0m     job \u001b[38;5;241m=\u001b[39m \u001b[38;5;28;43mself\u001b[39;49m\u001b[38;5;241;43m.\u001b[39;49m\u001b[43m_backend\u001b[49m\u001b[38;5;241;43m.\u001b[39;49m\u001b[43mapply_async\u001b[49m\u001b[43m(\u001b[49m\u001b[43mbatch\u001b[49m\u001b[43m,\u001b[49m\u001b[43m \u001b[49m\u001b[43mcallback\u001b[49m\u001b[38;5;241;43m=\u001b[39;49m\u001b[43mcb\u001b[49m\u001b[43m)\u001b[49m\n\u001b[0;32m    780\u001b[0m     \u001b[38;5;66;03m# A job can complete so quickly than its callback is\u001b[39;00m\n\u001b[0;32m    781\u001b[0m     \u001b[38;5;66;03m# called before we get here, causing self._jobs to\u001b[39;00m\n\u001b[0;32m    782\u001b[0m     \u001b[38;5;66;03m# grow. To ensure correct results ordering, .insert is\u001b[39;00m\n\u001b[0;32m    783\u001b[0m     \u001b[38;5;66;03m# used (rather than .append) in the following line\u001b[39;00m\n\u001b[0;32m    784\u001b[0m     \u001b[38;5;28mself\u001b[39m\u001b[38;5;241m.\u001b[39m_jobs\u001b[38;5;241m.\u001b[39minsert(job_idx, job)\n",
      "File \u001b[1;32m~\\Miniconda3\\lib\\site-packages\\joblib\\_parallel_backends.py:208\u001b[0m, in \u001b[0;36mSequentialBackend.apply_async\u001b[1;34m(self, func, callback)\u001b[0m\n\u001b[0;32m    206\u001b[0m \u001b[38;5;28;01mdef\u001b[39;00m \u001b[38;5;21mapply_async\u001b[39m(\u001b[38;5;28mself\u001b[39m, func, callback\u001b[38;5;241m=\u001b[39m\u001b[38;5;28;01mNone\u001b[39;00m):\n\u001b[0;32m    207\u001b[0m     \u001b[38;5;124;03m\"\"\"Schedule a func to be run\"\"\"\u001b[39;00m\n\u001b[1;32m--> 208\u001b[0m     result \u001b[38;5;241m=\u001b[39m \u001b[43mImmediateResult\u001b[49m\u001b[43m(\u001b[49m\u001b[43mfunc\u001b[49m\u001b[43m)\u001b[49m\n\u001b[0;32m    209\u001b[0m     \u001b[38;5;28;01mif\u001b[39;00m callback:\n\u001b[0;32m    210\u001b[0m         callback(result)\n",
      "File \u001b[1;32m~\\Miniconda3\\lib\\site-packages\\joblib\\_parallel_backends.py:572\u001b[0m, in \u001b[0;36mImmediateResult.__init__\u001b[1;34m(self, batch)\u001b[0m\n\u001b[0;32m    569\u001b[0m \u001b[38;5;28;01mdef\u001b[39;00m \u001b[38;5;21m__init__\u001b[39m(\u001b[38;5;28mself\u001b[39m, batch):\n\u001b[0;32m    570\u001b[0m     \u001b[38;5;66;03m# Don't delay the application, to avoid keeping the input\u001b[39;00m\n\u001b[0;32m    571\u001b[0m     \u001b[38;5;66;03m# arguments in memory\u001b[39;00m\n\u001b[1;32m--> 572\u001b[0m     \u001b[38;5;28mself\u001b[39m\u001b[38;5;241m.\u001b[39mresults \u001b[38;5;241m=\u001b[39m \u001b[43mbatch\u001b[49m\u001b[43m(\u001b[49m\u001b[43m)\u001b[49m\n",
      "File \u001b[1;32m~\\Miniconda3\\lib\\site-packages\\joblib\\parallel.py:262\u001b[0m, in \u001b[0;36mBatchedCalls.__call__\u001b[1;34m(self)\u001b[0m\n\u001b[0;32m    258\u001b[0m \u001b[38;5;28;01mdef\u001b[39;00m \u001b[38;5;21m__call__\u001b[39m(\u001b[38;5;28mself\u001b[39m):\n\u001b[0;32m    259\u001b[0m     \u001b[38;5;66;03m# Set the default nested backend to self._backend but do not set the\u001b[39;00m\n\u001b[0;32m    260\u001b[0m     \u001b[38;5;66;03m# change the default number of processes to -1\u001b[39;00m\n\u001b[0;32m    261\u001b[0m     \u001b[38;5;28;01mwith\u001b[39;00m parallel_backend(\u001b[38;5;28mself\u001b[39m\u001b[38;5;241m.\u001b[39m_backend, n_jobs\u001b[38;5;241m=\u001b[39m\u001b[38;5;28mself\u001b[39m\u001b[38;5;241m.\u001b[39m_n_jobs):\n\u001b[1;32m--> 262\u001b[0m         \u001b[38;5;28;01mreturn\u001b[39;00m [func(\u001b[38;5;241m*\u001b[39margs, \u001b[38;5;241m*\u001b[39m\u001b[38;5;241m*\u001b[39mkwargs)\n\u001b[0;32m    263\u001b[0m                 \u001b[38;5;28;01mfor\u001b[39;00m func, args, kwargs \u001b[38;5;129;01min\u001b[39;00m \u001b[38;5;28mself\u001b[39m\u001b[38;5;241m.\u001b[39mitems]\n",
      "File \u001b[1;32m~\\Miniconda3\\lib\\site-packages\\joblib\\parallel.py:262\u001b[0m, in \u001b[0;36m<listcomp>\u001b[1;34m(.0)\u001b[0m\n\u001b[0;32m    258\u001b[0m \u001b[38;5;28;01mdef\u001b[39;00m \u001b[38;5;21m__call__\u001b[39m(\u001b[38;5;28mself\u001b[39m):\n\u001b[0;32m    259\u001b[0m     \u001b[38;5;66;03m# Set the default nested backend to self._backend but do not set the\u001b[39;00m\n\u001b[0;32m    260\u001b[0m     \u001b[38;5;66;03m# change the default number of processes to -1\u001b[39;00m\n\u001b[0;32m    261\u001b[0m     \u001b[38;5;28;01mwith\u001b[39;00m parallel_backend(\u001b[38;5;28mself\u001b[39m\u001b[38;5;241m.\u001b[39m_backend, n_jobs\u001b[38;5;241m=\u001b[39m\u001b[38;5;28mself\u001b[39m\u001b[38;5;241m.\u001b[39m_n_jobs):\n\u001b[1;32m--> 262\u001b[0m         \u001b[38;5;28;01mreturn\u001b[39;00m [func(\u001b[38;5;241m*\u001b[39margs, \u001b[38;5;241m*\u001b[39m\u001b[38;5;241m*\u001b[39mkwargs)\n\u001b[0;32m    263\u001b[0m                 \u001b[38;5;28;01mfor\u001b[39;00m func, args, kwargs \u001b[38;5;129;01min\u001b[39;00m \u001b[38;5;28mself\u001b[39m\u001b[38;5;241m.\u001b[39mitems]\n",
      "File \u001b[1;32m~\\Miniconda3\\lib\\site-packages\\sklearn\\utils\\fixes.py:216\u001b[0m, in \u001b[0;36m_FuncWrapper.__call__\u001b[1;34m(self, *args, **kwargs)\u001b[0m\n\u001b[0;32m    214\u001b[0m \u001b[38;5;28;01mdef\u001b[39;00m \u001b[38;5;21m__call__\u001b[39m(\u001b[38;5;28mself\u001b[39m, \u001b[38;5;241m*\u001b[39margs, \u001b[38;5;241m*\u001b[39m\u001b[38;5;241m*\u001b[39mkwargs):\n\u001b[0;32m    215\u001b[0m     \u001b[38;5;28;01mwith\u001b[39;00m config_context(\u001b[38;5;241m*\u001b[39m\u001b[38;5;241m*\u001b[39m\u001b[38;5;28mself\u001b[39m\u001b[38;5;241m.\u001b[39mconfig):\n\u001b[1;32m--> 216\u001b[0m         \u001b[38;5;28;01mreturn\u001b[39;00m \u001b[38;5;28mself\u001b[39m\u001b[38;5;241m.\u001b[39mfunction(\u001b[38;5;241m*\u001b[39margs, \u001b[38;5;241m*\u001b[39m\u001b[38;5;241m*\u001b[39mkwargs)\n",
      "File \u001b[1;32m~\\Miniconda3\\lib\\site-packages\\sklearn\\ensemble\\_bagging.py:126\u001b[0m, in \u001b[0;36m_parallel_build_estimators\u001b[1;34m(n_estimators, ensemble, X, y, sample_weight, seeds, total_n_estimators, verbose)\u001b[0m\n\u001b[0;32m    123\u001b[0m     estimator\u001b[38;5;241m.\u001b[39mfit(X[:, features], y, sample_weight\u001b[38;5;241m=\u001b[39mcurr_sample_weight)\n\u001b[0;32m    125\u001b[0m \u001b[38;5;28;01melse\u001b[39;00m:\n\u001b[1;32m--> 126\u001b[0m     estimator\u001b[38;5;241m.\u001b[39mfit(\u001b[43m(\u001b[49m\u001b[43mX\u001b[49m\u001b[43m[\u001b[49m\u001b[43mindices\u001b[49m\u001b[43m]\u001b[49m\u001b[43m)\u001b[49m\u001b[43m[\u001b[49m\u001b[43m:\u001b[49m\u001b[43m,\u001b[49m\u001b[43m \u001b[49m\u001b[43mfeatures\u001b[49m\u001b[43m]\u001b[49m, y[indices])\n\u001b[0;32m    128\u001b[0m estimators\u001b[38;5;241m.\u001b[39mappend(estimator)\n\u001b[0;32m    129\u001b[0m estimators_features\u001b[38;5;241m.\u001b[39mappend(features)\n",
      "\u001b[1;31mMemoryError\u001b[0m: Unable to allocate 10.6 GiB for an array with shape (30055, 47550) and data type int64"
     ]
    }
   ],
   "source": [
    "from imblearn.ensemble import BalancedBaggingClassifier\n",
    "# KNeighborsClassifier\n",
    "# KNN_DM is just a convient way to reuse the code, it will not work on all cases, because, \n",
    "#they are not covered during the impl.\n",
    "# in this case we use the original classifier\n",
    "#Create an instance\n",
    "classifier = BalancedBaggingClassifier(base_estimator=KNeighborsClassifier(),\n",
    "                                sampling_strategy='not majority',\n",
    "                                replacement=False,\n",
    "                                random_state=42)\n",
    "classifier.fit(X_train_c.toarray(), y_train)\n",
    "preds = classifier.predict(X_test_c)"
   ]
  },
  {
   "cell_type": "code",
   "execution_count": 94,
   "id": "10c0daba",
   "metadata": {},
   "outputs": [
    {
     "name": "stdout",
     "output_type": "stream",
     "text": [
      "----------------------------------------------------------------------------------------------------\n"
     ]
    },
    {
     "data": {
      "text/html": [
       "<h4>[1/5] Started Fitting...</h4>"
      ],
      "text/plain": [
       "<IPython.core.display.HTML object>"
      ]
     },
     "metadata": {},
     "output_type": "display_data"
    },
    {
     "name": "stdout",
     "output_type": "stream",
     "text": [
      "\n",
      "function: 'fit' finished in 0.01 seconds.\n",
      "----------------------------------------------------------------------------------------------------\n"
     ]
    },
    {
     "data": {
      "text/html": [
       "<h4>[2/5] Started Prediction...</h4>"
      ],
      "text/plain": [
       "<IPython.core.display.HTML object>"
      ]
     },
     "metadata": {},
     "output_type": "display_data"
    },
    {
     "name": "stdout",
     "output_type": "stream",
     "text": [
      "head of y_pred is \t[0. 0. 0. 0. 0. 0.]: \n",
      "\n",
      "function: 'predict' finished in 171.95 seconds.\n",
      "----------------------------------------------------------------------------------------------------\n"
     ]
    },
    {
     "data": {
      "text/html": [
       "<h4>[3/5] Started Evaluation...</h4>"
      ],
      "text/plain": [
       "<IPython.core.display.HTML object>"
      ]
     },
     "metadata": {},
     "output_type": "display_data"
    },
    {
     "name": "stdout",
     "output_type": "stream",
     "text": [
      "f1-score         \t0.5423242467718794: \n",
      "accuracy-score   \t95.01016737056155: \n",
      "precision-score  \t0.7590361445783133: \n",
      "recall-score     \t0.421875: \n",
      "\n",
      "----------------------------------------------------------------------------------------------------\n"
     ]
    },
    {
     "data": {
      "text/html": [
       "<h4>[4/5] Started creating a report...</h4>"
      ],
      "text/plain": [
       "<IPython.core.display.HTML object>"
      ]
     },
     "metadata": {},
     "output_type": "display_data"
    },
    {
     "data": {
      "text/html": [
       "<div>\n",
       "<style scoped>\n",
       "    .dataframe tbody tr th:only-of-type {\n",
       "        vertical-align: middle;\n",
       "    }\n",
       "\n",
       "    .dataframe tbody tr th {\n",
       "        vertical-align: top;\n",
       "    }\n",
       "\n",
       "    .dataframe thead th {\n",
       "        text-align: right;\n",
       "    }\n",
       "</style>\n",
       "<table border=\"1\" class=\"dataframe\">\n",
       "  <thead>\n",
       "    <tr style=\"text-align: right;\">\n",
       "      <th></th>\n",
       "      <th>precision</th>\n",
       "      <th>recall</th>\n",
       "      <th>f1-score</th>\n",
       "      <th>support</th>\n",
       "    </tr>\n",
       "  </thead>\n",
       "  <tbody>\n",
       "    <tr>\n",
       "      <th>0</th>\n",
       "      <td>0.957845</td>\n",
       "      <td>0.989907</td>\n",
       "      <td>0.973612</td>\n",
       "      <td>5945.000000</td>\n",
       "    </tr>\n",
       "    <tr>\n",
       "      <th>1</th>\n",
       "      <td>0.759036</td>\n",
       "      <td>0.421875</td>\n",
       "      <td>0.542324</td>\n",
       "      <td>448.000000</td>\n",
       "    </tr>\n",
       "    <tr>\n",
       "      <th>accuracy</th>\n",
       "      <td>0.950102</td>\n",
       "      <td>0.950102</td>\n",
       "      <td>0.950102</td>\n",
       "      <td>0.950102</td>\n",
       "    </tr>\n",
       "    <tr>\n",
       "      <th>macro avg</th>\n",
       "      <td>0.858441</td>\n",
       "      <td>0.705891</td>\n",
       "      <td>0.757968</td>\n",
       "      <td>6393.000000</td>\n",
       "    </tr>\n",
       "    <tr>\n",
       "      <th>weighted avg</th>\n",
       "      <td>0.943913</td>\n",
       "      <td>0.950102</td>\n",
       "      <td>0.943389</td>\n",
       "      <td>6393.000000</td>\n",
       "    </tr>\n",
       "  </tbody>\n",
       "</table>\n",
       "</div>"
      ],
      "text/plain": [
       "              precision    recall  f1-score      support\n",
       "0              0.957845  0.989907  0.973612  5945.000000\n",
       "1              0.759036  0.421875  0.542324   448.000000\n",
       "accuracy       0.950102  0.950102  0.950102     0.950102\n",
       "macro avg      0.858441  0.705891  0.757968  6393.000000\n",
       "weighted avg   0.943913  0.950102  0.943389  6393.000000"
      ]
     },
     "metadata": {},
     "output_type": "display_data"
    },
    {
     "name": "stdout",
     "output_type": "stream",
     "text": [
      "\n",
      "function: 'print_report' finished in 0.04 seconds.\n",
      "----------------------------------------------------------------------------------------------------\n"
     ]
    },
    {
     "data": {
      "text/html": [
       "<h4>[5/5] Started plotting the confusion matrix...</h4>"
      ],
      "text/plain": [
       "<IPython.core.display.HTML object>"
      ]
     },
     "metadata": {},
     "output_type": "display_data"
    },
    {
     "name": "stdout",
     "output_type": "stream",
     "text": [
      "Start plotting the confusion matrix...\n",
      "\n",
      "function: '__plot_confusion_matrix' finished in 0.1 seconds.\n",
      "function: 'evaluate' finished in 0.18 seconds.\n",
      "\n"
     ]
    },
    {
     "data": {
      "image/png": "[encoded data removed]",
      "text/plain": [
       "<Figure size 432x288 with 2 Axes>"
      ]
     },
     "metadata": {
      "needs_background": "light"
     },
     "output_type": "display_data"
    }
   ],
   "source": [
    "# SMOTE\n",
    "from imblearn.over_sampling import SMOTE\n",
    "# Resampling the minority class. The strategy can be changed as required.\n",
    "sm = SMOTE(sampling_strategy='minority', random_state=42)\n",
    "# Fit the model to generate the data.\n",
    "oversampled_X, oversampled_Y = sm.fit_resample(X_train_c, y_train)\n",
    "#oversampled = pd.concat([pd.DataFrame(oversampled_Y), pd.DataFrame(oversampled_X)], axis=1)\n",
    "knn = KNN_DM()\n",
    "model = knn.fit(oversampled_X.toarray(), oversampled_Y, optim=False)\n",
    "y_pred = model.predict(X_test_c.toarray(), y_test)\n",
    "report, accuracy, recall, precision, f1 = model.evaluate()\n",
    "print()"
   ]
  },
  {
   "cell_type": "code",
   "execution_count": 29,
   "id": "50b367f4",
   "metadata": {},
   "outputs": [
    {
     "data": {
      "text/plain": [
       "array([[1., 0.],\n",
       "       [1., 0.],\n",
       "       [1., 0.],\n",
       "       ...,\n",
       "       [1., 0.],\n",
       "       [1., 0.],\n",
       "       [1., 0.]])"
      ]
     },
     "execution_count": 29,
     "metadata": {},
     "output_type": "execute_result"
    }
   ],
   "source": [
    "# Moving threshold \n",
    "knn = KNeighborsClassifier()\n",
    "knn.fit(X_train_c.toarray(),y_train)\n",
    "knn.predict_proba(X_test_c.toarray()) #probability of the class label predict_proba"
   ]
  },
  {
   "cell_type": "code",
   "execution_count": 31,
   "id": "4c0f1835",
   "metadata": {},
   "outputs": [
    {
     "name": "stdout",
     "output_type": "stream",
     "text": [
      "Threshold 0.2 -- 0.7348490252913613\n",
      "Threshold 0.25 -- 0.6617824852817493\n",
      "Threshold 0.3 -- 0.6617824852817493\n",
      "Threshold 0.35 -- 0.6617824852817493\n",
      "Threshold 0.39999999999999997 -- 0.6617824852817493\n",
      "Threshold 0.44999999999999996 -- 0.590845022828307\n",
      "Threshold 0.49999999999999994 -- 0.590845022828307\n",
      "Threshold 0.5499999999999999 -- 0.590845022828307\n",
      "Threshold 0.6 -- 0.590845022828307\n",
      "Threshold 0.65 -- 0.5667960771356482\n",
      "Threshold 0.7000000000000001 -- 0.5667960771356482\n",
      "Threshold 0.7500000000000001 -- 0.5667960771356482\n",
      "---Optimum Threshold --- 0.2 --ROC-- 0.7348490252913613\n"
     ]
    }
   ],
   "source": [
    "from sklearn.metrics import roc_auc_score\n",
    "step_factor = 0.05 \n",
    "threshold_value = 0.2 \n",
    "roc_score=0\n",
    "predicted_proba = knn.predict_proba(X_test_c.toarray()) #probability of prediction\n",
    "while threshold_value <=0.8: #continue to check best threshold upto probability 0.8\n",
    "    temp_thresh = threshold_value\n",
    "    predicted = (predicted_proba [:,1] >= temp_thresh).astype('int') #change the class boundary for prediction\n",
    "    print('Threshold',temp_thresh,'--',roc_auc_score(y_test, predicted))\n",
    "    if roc_score<roc_auc_score(y_test, predicted): #store the threshold for best classification\n",
    "        roc_score = roc_auc_score(y_test, predicted)\n",
    "        thrsh_score = threshold_value\n",
    "    threshold_value = threshold_value + step_factor\n",
    "print('---Optimum Threshold ---',thrsh_score,'--ROC--',roc_score)"
   ]
  },
  {
   "cell_type": "code",
   "execution_count": 34,
   "id": "3e40d78c",
   "metadata": {},
   "outputs": [],
   "source": [
    "knn = KNeighborsClassifier()\n",
    "knn.fit(X_train_c.toarray(),y_train)\n",
    "y_pred = knn.predict(X_test_c.toarray())  # default threshold is 0.5\n",
    "\n",
    "y_pred = (knn.predict_proba(X_test.toarray())[:,1] >= 0.2).astype(bool) # set threshold as 0.2"
   ]
  },
  {
   "cell_type": "code",
   "execution_count": 35,
   "id": "a3cbb676",
   "metadata": {},
   "outputs": [
    {
     "name": "stdout",
     "output_type": "stream",
     "text": [
      "f1 after changing the threshold:  0.133422281521014\n"
     ]
    }
   ],
   "source": [
    "f1 = f1_score(y_test, y_pred);\n",
    "print(\"f1 after changing the threshold: \", f1)"
   ]
  },
  {
   "cell_type": "code",
   "execution_count": 224,
   "id": "413d67fa",
   "metadata": {},
   "outputs": [
    {
     "name": "stdout",
     "output_type": "stream",
     "text": [
      "Looking in indexes: https://int.repositories.cloud.sap/artifactory/api/pypi/build-releases-pypi/simple, https://int.repositories.cloud.sap/artifactory/api/pypi/build-milestones-pypi/simple"
     ]
    },
    {
     "name": "stderr",
     "output_type": "stream",
     "text": [
      "WARNING: You are using pip version 21.3.1; however, version 22.1 is available.\n",
      "You should consider upgrading via the 'c:\\users\\d073999\\miniconda3\\python.exe -m pip install --upgrade pip' command.\n"
     ]
    },
    {
     "name": "stdout",
     "output_type": "stream",
     "text": [
      "\n",
      "Collecting mlens\n",
      "  Downloading https://int.repositories.cloud.sap/artifactory/api/pypi/build-milestones-pypi/packages/packages/0b/f7/c04bda423ac93ddb54bc4c3a21c79c9a24bc83844efc30dc4c11c289e894/mlens-0.2.3-py2.py3-none-any.whl (227 kB)\n",
      "Requirement already satisfied: scipy>=0.17 in c:\\users\\d073999\\miniconda3\\lib\\site-packages (from mlens) (1.8.0)\n",
      "Requirement already satisfied: numpy>=1.11 in c:\\users\\d073999\\miniconda3\\lib\\site-packages (from mlens) (1.21.5)\n",
      "Installing collected packages: mlens\n",
      "Successfully installed mlens-0.2.3\n"
     ]
    }
   ],
   "source": [
    "!pip install mlens"
   ]
  },
  {
   "cell_type": "code",
   "execution_count": null,
   "id": "2b6113ea",
   "metadata": {},
   "outputs": [
    {
     "name": "stderr",
     "output_type": "stream",
     "text": [
      "[MLENS] backend: threading\n"
     ]
    }
   ],
   "source": [
    "from mlens.ensemble import SuperLearner\n",
    "from sklearn.tree import DecisionTreeClassifier\n",
    "from sklearn.svm import SVC\n",
    "from sklearn.neighbors import KNeighborsClassifier\n",
    "from sklearn.metrics import classification_report, f1_score, accuracy_score, confusion_matrix\n",
    "\n",
    "ensemble = SuperLearner(scorer=f1_score, verbose=0)\n",
    "# Build the first layer\n",
    "ensemble.add([KNeighborsClassifier(algorithm='ball_tree', metric='l1', n_neighbors=2), SVC(C=5)])\n",
    "\n",
    "# Attach the final meta estimator\n",
    "ensemble.add_meta(DecisionTreeClassifier())\n",
    "\n",
    "# Fit ensemble\n",
    "ensemble.fit(X_train_c.toarray(),y_train)\n",
    "\n",
    "# Predict\n",
    "preds = ensemble.predict(X_test_c)\n",
    "\n",
    "print(classification_report(y_test,preds))\n",
    "#print(\"Fit data:\\n%r\" % ensemble.data)\n",
    "#print(\"Prediction score: %.3f\" % accuracy_score(y_test, preds)) "
   ]
  },
  {
   "cell_type": "code",
   "execution_count": null,
   "id": "aecc4cf6",
   "metadata": {
    "colab": {
     "base_uri": "https://localhost:8080/"
    },
    "id": "HbNGkkX63lx4",
    "outputId": "a65ee0a9-78e0-4285-e9e4-56d15f5ccc2d"
   },
   "outputs": [
    {
     "name": "stdout",
     "output_type": "stream",
     "text": [
      "Fitting 10 folds for each of 48 candidates, totalling 480 fits\n"
     ]
    },
    {
     "name": "stderr",
     "output_type": "stream",
     "text": [
      "/usr/local/lib/python3.7/dist-packages/sklearn/neighbors/_base.py:504: UserWarning: cannot use tree with sparse input: using brute force\n",
      "  warnings.warn(\"cannot use tree with sparse input: using brute force\")\n"
     ]
    },
    {
     "name": "stdout",
     "output_type": "stream",
     "text": [
      "KNeighborsClassifier(algorithm='ball_tree', metric='l1', n_neighbors=2)\n",
      "0.5182829888712241\n"
     ]
    },
    {
     "data": {
      "text/plain": [
       "95.26044110746129"
      ]
     },
     "execution_count": 55,
     "metadata": {},
     "output_type": "execute_result"
    }
   ],
   "source": [
    "from sklearn.neighbors import KNeighborsClassifier\n",
    "from sklearn.model_selection import GridSearchCV\n",
    "#, 'auto'\n",
    "param_grid_knn = {\n",
    "    'n_neighbors': [2, 5, 10, 15],                                   \n",
    "    'algorithm': ['ball_tree', 'kd_tree', 'auto'],          \n",
    "    'metric': ['euclidean', 'l1', 'l2', 'manhattan']\n",
    "}\n",
    "\n",
    "kNNModel_grid = GridSearchCV(estimator=KNeighborsClassifier(), param_grid=param_grid_knn, verbose=1, cv=10, n_jobs=-1)\n",
    "kNNModel_grid.fit(x_train_tfidf, y_train_balanced)\n",
    "print(kNNModel_grid.best_estimator_)\n",
    "\n",
    "y_pred = kNNModel_grid.predict(x_test_tfidf)\n",
    "\n",
    "print(f1_score(y_test,y_pred))\n",
    "accuracy_score(y_test,y_pred)*100"
   ]
  },
  {
   "cell_type": "code",
   "execution_count": null,
   "id": "b40b62cf",
   "metadata": {
    "colab": {
     "base_uri": "https://localhost:8080/"
    },
    "id": "eulgAyINEX0r",
    "outputId": "5f92103c-6cc8-4873-8cc0-430ba796517f"
   },
   "outputs": [
    {
     "data": {
      "text/plain": [
       "['cityblock', 'cosine', 'euclidean', 'l1', 'l2', 'manhattan', 'precomputed']"
      ]
     },
     "execution_count": 47,
     "metadata": {},
     "output_type": "execute_result"
    }
   ],
   "source": [
    "import sklearn\n",
    "sorted(sklearn.neighbors.VALID_METRICS_SPARSE['brute'])"
   ]
  },
  {
   "cell_type": "code",
   "execution_count": null,
   "id": "35efc117",
   "metadata": {
    "colab": {
     "base_uri": "https://localhost:8080/"
    },
    "id": "TI7h2ESYcW9c",
    "outputId": "7afe3743-d617-4cca-a93c-0ecc3bf05362"
   },
   "outputs": [
    {
     "data": {
      "text/plain": [
       "['chebyshev',\n",
       " 'cityblock',\n",
       " 'euclidean',\n",
       " 'infinity',\n",
       " 'l1',\n",
       " 'l2',\n",
       " 'manhattan',\n",
       " 'minkowski',\n",
       " 'p']"
      ]
     },
     "execution_count": 53,
     "metadata": {},
     "output_type": "execute_result"
    }
   ],
   "source": [
    "sorted(sklearn.neighbors.VALID_METRICS['kd_tree'])"
   ]
  },
  {
   "cell_type": "code",
   "execution_count": 217,
   "id": "2d507a69",
   "metadata": {
    "colab": {
     "base_uri": "https://localhost:8080/"
    },
    "id": "75ZbAFory4RZ",
    "outputId": "1a906c5e-2e92-4de2-a159-7c783bebbbf5"
   },
   "outputs": [
    {
     "name": "stdout",
     "output_type": "stream",
     "text": [
      "Looking in indexes: https://int.repositories.cloud.sap/artifactory/api/pypi/build-releases-pypi/simple, https://int.repositories.cloud.sap/artifactory/api/pypi/build-milestones-pypi/simple\n",
      "Requirement already satisfied: xgboost in c:\\users\\d073999\\miniconda3\\lib\\site-packages (1.5.2)\n",
      "Requirement already satisfied: scipy in c:\\users\\d073999\\miniconda3\\lib\\site-packages (from xgboost) (1.8.0)\n",
      "Requirement already satisfied: numpy in c:\\users\\d073999\\miniconda3\\lib\\site-packages (from xgboost) (1.21.5)\n"
     ]
    },
    {
     "name": "stderr",
     "output_type": "stream",
     "text": [
      "WARNING: You are using pip version 21.3.1; however, version 22.1 is available.\n",
      "You should consider upgrading via the 'c:\\users\\d073999\\miniconda3\\python.exe -m pip install --upgrade pip' command.\n"
     ]
    }
   ],
   "source": [
    "!pip install xgboost"
   ]
  },
  {
   "cell_type": "code",
   "execution_count": null,
   "id": "14bb7b5f",
   "metadata": {
    "colab": {
     "base_uri": "https://localhost:8080/",
     "height": 345
    },
    "id": "Guh2jx-EzBgm",
    "outputId": "79ad41e4-435f-4924-93b5-9546413396d5"
   },
   "outputs": [
    {
     "ename": "ValueError",
     "evalue": "ignored",
     "output_type": "error",
     "traceback": [
      "\u001b[0;31m---------------------------------------------------------------------------\u001b[0m",
      "\u001b[0;31mValueError\u001b[0m                                Traceback (most recent call last)",
      "\u001b[0;32m<ipython-input-26-3f12261bffec>\u001b[0m in \u001b[0;36m<module>\u001b[0;34m()\u001b[0m\n\u001b[1;32m     10\u001b[0m \u001b[0mxgb_preds\u001b[0m \u001b[0;34m=\u001b[0m \u001b[0mbst\u001b[0m\u001b[0;34m.\u001b[0m\u001b[0mpredict\u001b[0m\u001b[0;34m(\u001b[0m\u001b[0mdtest\u001b[0m\u001b[0;34m)\u001b[0m\u001b[0;34m\u001b[0m\u001b[0;34m\u001b[0m\u001b[0m\n\u001b[1;32m     11\u001b[0m \u001b[0;31m#print(f1_score(y_test,xgb_preds))\u001b[0m\u001b[0;34m\u001b[0m\u001b[0;34m\u001b[0m\u001b[0;34m\u001b[0m\u001b[0m\n\u001b[0;32m---> 12\u001b[0;31m \u001b[0mprint\u001b[0m\u001b[0;34m(\u001b[0m\u001b[0maccuracy_score\u001b[0m\u001b[0;34m(\u001b[0m\u001b[0my_test\u001b[0m\u001b[0;34m,\u001b[0m\u001b[0mxgb_preds\u001b[0m\u001b[0;34m)\u001b[0m\u001b[0;34m*\u001b[0m\u001b[0;36m100\u001b[0m\u001b[0;34m)\u001b[0m\u001b[0;34m\u001b[0m\u001b[0;34m\u001b[0m\u001b[0m\n\u001b[0m",
      "\u001b[0;32m/usr/local/lib/python3.7/dist-packages/sklearn/metrics/_classification.py\u001b[0m in \u001b[0;36maccuracy_score\u001b[0;34m(y_true, y_pred, normalize, sample_weight)\u001b[0m\n\u001b[1;32m    209\u001b[0m \u001b[0;34m\u001b[0m\u001b[0m\n\u001b[1;32m    210\u001b[0m     \u001b[0;31m# Compute accuracy for each possible representation\u001b[0m\u001b[0;34m\u001b[0m\u001b[0;34m\u001b[0m\u001b[0;34m\u001b[0m\u001b[0m\n\u001b[0;32m--> 211\u001b[0;31m     \u001b[0my_type\u001b[0m\u001b[0;34m,\u001b[0m \u001b[0my_true\u001b[0m\u001b[0;34m,\u001b[0m \u001b[0my_pred\u001b[0m \u001b[0;34m=\u001b[0m \u001b[0m_check_targets\u001b[0m\u001b[0;34m(\u001b[0m\u001b[0my_true\u001b[0m\u001b[0;34m,\u001b[0m \u001b[0my_pred\u001b[0m\u001b[0;34m)\u001b[0m\u001b[0;34m\u001b[0m\u001b[0;34m\u001b[0m\u001b[0m\n\u001b[0m\u001b[1;32m    212\u001b[0m     \u001b[0mcheck_consistent_length\u001b[0m\u001b[0;34m(\u001b[0m\u001b[0my_true\u001b[0m\u001b[0;34m,\u001b[0m \u001b[0my_pred\u001b[0m\u001b[0;34m,\u001b[0m \u001b[0msample_weight\u001b[0m\u001b[0;34m)\u001b[0m\u001b[0;34m\u001b[0m\u001b[0;34m\u001b[0m\u001b[0m\n\u001b[1;32m    213\u001b[0m     \u001b[0;32mif\u001b[0m \u001b[0my_type\u001b[0m\u001b[0;34m.\u001b[0m\u001b[0mstartswith\u001b[0m\u001b[0;34m(\u001b[0m\u001b[0;34m\"multilabel\"\u001b[0m\u001b[0;34m)\u001b[0m\u001b[0;34m:\u001b[0m\u001b[0;34m\u001b[0m\u001b[0;34m\u001b[0m\u001b[0m\n",
      "\u001b[0;32m/usr/local/lib/python3.7/dist-packages/sklearn/metrics/_classification.py\u001b[0m in \u001b[0;36m_check_targets\u001b[0;34m(y_true, y_pred)\u001b[0m\n\u001b[1;32m     93\u001b[0m         raise ValueError(\n\u001b[1;32m     94\u001b[0m             \"Classification metrics can't handle a mix of {0} and {1} targets\".format(\n\u001b[0;32m---> 95\u001b[0;31m                 \u001b[0mtype_true\u001b[0m\u001b[0;34m,\u001b[0m \u001b[0mtype_pred\u001b[0m\u001b[0;34m\u001b[0m\u001b[0;34m\u001b[0m\u001b[0m\n\u001b[0m\u001b[1;32m     96\u001b[0m             )\n\u001b[1;32m     97\u001b[0m         )\n",
      "\u001b[0;31mValueError\u001b[0m: Classification metrics can't handle a mix of binary and continuous targets"
     ]
    }
   ],
   "source": [
    "import xgboost as xgb\n",
    "# read in data\n",
    "dtrain = xgb.DMatrix(x_train_tfidf, label=y_train_balanced)\n",
    "dtest = xgb.DMatrix(x_test_tfidf, y_test)\n",
    "# specify parameters via map\n",
    "param = {'max_depth':2, 'eta':1, 'objective':'binary:logistic' }\n",
    "num_round = 2\n",
    "bst = xgb.train(param, dtrain, num_round)\n",
    "# make prediction\n",
    "xgb_preds = bst.predict(dtest)\n",
    "print()\n",
    "#print(f1_score(y_test,xgb_preds))\n",
    "#print(accuracy_score(y_test,xgb_preds)*100)\n",
    "#print(\"Prediction score xgboost: %.3f\" % accuracy_score(y_test, xgb_preds))"
   ]
  },
  {
   "cell_type": "code",
   "execution_count": null,
   "id": "3fa7c486",
   "metadata": {
    "colab": {
     "base_uri": "https://localhost:8080/"
    },
    "id": "zUrko_UAt9z8",
    "outputId": "9d2a7259-47c1-46ec-b8ae-122fe4708663"
   },
   "outputs": [
    {
     "name": "stdout",
     "output_type": "stream",
     "text": [
      "Collecting mlens\n",
      "  Downloading mlens-0.2.3-py2.py3-none-any.whl (227 kB)\n",
      "\u001b[?25l\r",
      "\u001b[K     |█▍                              | 10 kB 22.8 MB/s eta 0:00:01\r",
      "\u001b[K     |██▉                             | 20 kB 29.3 MB/s eta 0:00:01\r",
      "\u001b[K     |████▎                           | 30 kB 22.0 MB/s eta 0:00:01\r",
      "\u001b[K     |█████▊                          | 40 kB 8.9 MB/s eta 0:00:01\r",
      "\u001b[K     |███████▏                        | 51 kB 8.6 MB/s eta 0:00:01\r",
      "\u001b[K     |████████▋                       | 61 kB 10.0 MB/s eta 0:00:01\r",
      "\u001b[K     |██████████                      | 71 kB 9.3 MB/s eta 0:00:01\r",
      "\u001b[K     |███████████▌                    | 81 kB 9.4 MB/s eta 0:00:01\r",
      "\u001b[K     |█████████████                   | 92 kB 10.3 MB/s eta 0:00:01\r",
      "\u001b[K     |██████████████▍                 | 102 kB 9.1 MB/s eta 0:00:01\r",
      "\u001b[K     |███████████████▉                | 112 kB 9.1 MB/s eta 0:00:01\r",
      "\u001b[K     |█████████████████▎              | 122 kB 9.1 MB/s eta 0:00:01\r",
      "\u001b[K     |██████████████████▊             | 133 kB 9.1 MB/s eta 0:00:01\r",
      "\u001b[K     |████████████████████▏           | 143 kB 9.1 MB/s eta 0:00:01\r",
      "\u001b[K     |█████████████████████▋          | 153 kB 9.1 MB/s eta 0:00:01\r",
      "\u001b[K     |███████████████████████         | 163 kB 9.1 MB/s eta 0:00:01\r",
      "\u001b[K     |████████████████████████▌       | 174 kB 9.1 MB/s eta 0:00:01\r",
      "\u001b[K     |██████████████████████████      | 184 kB 9.1 MB/s eta 0:00:01\r",
      "\u001b[K     |███████████████████████████▍    | 194 kB 9.1 MB/s eta 0:00:01\r",
      "\u001b[K     |████████████████████████████▉   | 204 kB 9.1 MB/s eta 0:00:01\r",
      "\u001b[K     |██████████████████████████████▎ | 215 kB 9.1 MB/s eta 0:00:01\r",
      "\u001b[K     |███████████████████████████████▋| 225 kB 9.1 MB/s eta 0:00:01\r",
      "\u001b[K     |████████████████████████████████| 227 kB 9.1 MB/s \n",
      "\u001b[?25hRequirement already satisfied: scipy>=0.17 in /usr/local/lib/python3.7/dist-packages (from mlens) (1.4.1)\n",
      "Requirement already satisfied: numpy>=1.11 in /usr/local/lib/python3.7/dist-packages (from mlens) (1.21.6)\n",
      "Installing collected packages: mlens\n",
      "Successfully installed mlens-0.2.3\n"
     ]
    }
   ],
   "source": [
    "!pip install mlens"
   ]
  },
  {
   "cell_type": "code",
   "execution_count": null,
   "id": "e4433346",
   "metadata": {
    "colab": {
     "base_uri": "https://localhost:8080/",
     "height": 252
    },
    "id": "9JetywURsZFY",
    "outputId": "d685000a-0ce0-4e62-c586-7d326f9e529e"
   },
   "outputs": [
    {
     "name": "stderr",
     "output_type": "stream",
     "text": [
      "[MLENS] backend: threading\n"
     ]
    },
    {
     "ename": "NameError",
     "evalue": "ignored",
     "output_type": "error",
     "traceback": [
      "\u001b[0;31m---------------------------------------------------------------------------\u001b[0m",
      "\u001b[0;31mNameError\u001b[0m                                 Traceback (most recent call last)",
      "\u001b[0;32m<ipython-input-2-65a27b7b5ddc>\u001b[0m in \u001b[0;36m<module>\u001b[0;34m()\u001b[0m\n\u001b[1;32m     13\u001b[0m \u001b[0;34m\u001b[0m\u001b[0m\n\u001b[1;32m     14\u001b[0m \u001b[0;31m# Fit ensemble\u001b[0m\u001b[0;34m\u001b[0m\u001b[0;34m\u001b[0m\u001b[0;34m\u001b[0m\u001b[0m\n\u001b[0;32m---> 15\u001b[0;31m \u001b[0mensemble\u001b[0m\u001b[0;34m.\u001b[0m\u001b[0mfit\u001b[0m\u001b[0;34m(\u001b[0m\u001b[0mx_train_tfidf\u001b[0m\u001b[0;34m.\u001b[0m\u001b[0mtoarray\u001b[0m\u001b[0;34m(\u001b[0m\u001b[0;34m)\u001b[0m\u001b[0;34m,\u001b[0m\u001b[0my_train_balanced\u001b[0m\u001b[0;34m)\u001b[0m\u001b[0;34m\u001b[0m\u001b[0;34m\u001b[0m\u001b[0m\n\u001b[0m\u001b[1;32m     16\u001b[0m \u001b[0;34m\u001b[0m\u001b[0m\n\u001b[1;32m     17\u001b[0m \u001b[0;31m# Predict\u001b[0m\u001b[0;34m\u001b[0m\u001b[0;34m\u001b[0m\u001b[0;34m\u001b[0m\u001b[0m\n",
      "\u001b[0;31mNameError\u001b[0m: name 'x_train_tfidf' is not defined"
     ]
    }
   ],
   "source": [
    "from mlens.ensemble import SuperLearner\n",
    "from sklearn.tree import DecisionTreeClassifier\n",
    "from sklearn.svm import SVC\n",
    "from sklearn.neighbors import KNeighborsClassifier\n",
    "from sklearn.metrics import classification_report, f1_score, accuracy_score, confusion_matrix\n",
    "\n",
    "ensemble = SuperLearner(scorer=f1_score, verbose=0)\n",
    "# Build the first layer\n",
    "ensemble.add([KNeighborsClassifier(algorithm='ball_tree', metric='l1', n_neighbors=2), SVC(C=5)])\n",
    "\n",
    "# Attach the final meta estimator\n",
    "ensemble.add_meta(DecisionTreeClassifier())\n",
    "\n",
    "# Fit ensemble\n",
    "ensemble.fit(x_train_tfidf.toarray(),y_train_balanced)\n",
    "\n",
    "# Predict\n",
    "preds = ensemble.predict(x_test_tfidf)\n",
    "print(\"Fit data:\\n%r\" % ensemble.data)\n",
    "print(\"Prediction score: %.3f\" % accuracy_score(y_test, preds)) "
   ]
  },
  {
   "cell_type": "code",
   "execution_count": null,
   "id": "379cd4b1",
   "metadata": {
    "colab": {
     "base_uri": "https://localhost:8080/"
    },
    "id": "4VzWYCRgjpXw",
    "outputId": "5e3c57b4-7842-4e13-a30c-f4ca9e545f5e"
   },
   "outputs": [
    {
     "data": {
      "text/plain": [
       "(47566, 33166)"
      ]
     },
     "execution_count": 26,
     "metadata": {},
     "output_type": "execute_result"
    }
   ],
   "source": [
    "len(y_train_balanced)\n",
    "x_train_tfidf.shape"
   ]
  },
  {
   "cell_type": "code",
   "execution_count": null,
   "id": "b393c1e0",
   "metadata": {
    "colab": {
     "base_uri": "https://localhost:8080/"
    },
    "id": "eIbkSaK_LYJI",
    "outputId": "f3e188f0-ec65-4dce-b8df-c2c784955487"
   },
   "outputs": [
    {
     "data": {
      "text/plain": [
       "0.5125"
      ]
     },
     "execution_count": 24,
     "metadata": {},
     "output_type": "execute_result"
    }
   ],
   "source": [
    "from sklearn.metrics import f1_score\n",
    "f1_score(y_test,predictions)"
   ]
  },
  {
   "cell_type": "markdown",
   "id": "cd6676e6",
   "metadata": {
    "id": "1XX6MLOnmf1E"
   },
   "source": [
    "Aaron"
   ]
  },
  {
   "cell_type": "code",
   "execution_count": null,
   "id": "97526e0d",
   "metadata": {
    "id": "KBIqdozAl2gl"
   },
   "outputs": [],
   "source": [
    "##Aaron\n",
    "X_train = x_train_tfidf\n",
    "y_train = y_train_balanced\n",
    "X_test = x_test_tfidf"
   ]
  },
  {
   "cell_type": "code",
   "execution_count": null,
   "id": "e9e76d0b",
   "metadata": {
    "colab": {
     "base_uri": "https://localhost:8080/"
    },
    "id": "v90nZ3CSlgU5",
    "outputId": "164a3f9e-822b-471e-988d-47a7502d4667"
   },
   "outputs": [
    {
     "name": "stdout",
     "output_type": "stream",
     "text": [
      "[[1, 0.1484436101986548, 0.14321687126219704], [2, 0.1484436101986548, 0.14321687126219704], [3, 0.9321132488659472, 0.2359154929577465], [4, 0.23072110120444236, 0.1541107671138631], [5, 0.9164711403097138, 0.28989361702127664], [6, 0.9189738776787111, 0.3272727272727273], [7, 0.923197246988894, 0.37292464878671777], [8, 0.9239793524167058, 0.40586797066014674], [9, 0.9242921945878304, 0.42105263157894735], [10, 0.9253871421867668, 0.4341637010676157], [11, 0.9256999843578915, 0.4431418522860492], [12, 0.9242921945878304, 0.4561797752808988], [13, 0.9258564054434538, 0.4709821428571429], [14, 0.9255435632723291, 0.46993318485523383], [15, 0.9253871421867668, 0.47292817679558014], [16, 0.9244486156733928, 0.4755700325732899], [17, 0.9264820897857031, 0.4812362030905077], [18, 0.9261692476145784, 0.47902869757174393], [19, 0.9266385108712655, 0.48404840484048406], [20, 0.9255435632723291, 0.4870689655172414], [21, 0.9264820897857031, 0.4978632478632478], [22, 0.9272641952135148, 0.507936507936508], [23, 0.9250743000156421, 0.4941921858500528], [24, 0.9253871421867668, 0.4984227129337539], [25, 0.9271077741279524, 0.51255230125523], [26, 0.9263256687001408, 0.5098855359001041], [27, 0.9275770373846395, 0.5211995863495347], [28, 0.9272641952135148, 0.5151199165797706], [29, 0.9297669325825121, 0.5278654048370136], [30, 0.9292976693258251, 0.5291666666666667], [31, 0.9297669325825121, 0.5288562434417629], [32, 0.9308618801814484, 0.5357142857142858], [33, 0.9296105114969498, 0.527310924369748], [34, 0.9322696699515095, 0.5437302423603793], [35, 0.9300797747536368, 0.5358255451713396], [36, 0.9285155638980135, 0.5388496468213926], [37, 0.9264820897857031, 0.5281124497991968], [38, 0.9286719849835758, 0.5318275154004106], [39, 0.9297669325825121, 0.537590113285273], [40, 0.9296105114969498, 0.5360824742268041], [41, 0.9288284060691381, 0.5333333333333334], [42, 0.9250743000156421, 0.5233830845771145], [43, 0.9260128265290161, 0.5284147557328016], [44, 0.9264820897857031, 0.5290581162324649], [45, 0.9267949319568278, 0.5347912524850894], [46, 0.9278898795557641, 0.5403788634097707], [47, 0.9272641952135148, 0.5317220543806647], [48, 0.9277334584702018, 0.5352112676056338], [49, 0.9275770373846395, 0.5383848454636092]]\n",
      "0.9286719849835758\n"
     ]
    }
   ],
   "source": [
    "from sklearn.tree import DecisionTreeClassifier, plot_tree\n",
    "from sklearn.metrics import classification_report, f1_score, accuracy_score, confusion_matrix\n",
    "results = []\n",
    "for i in range(1, 50):\n",
    "    classifier = DecisionTreeClassifier(random_state=55, max_depth=i)\n",
    "\n",
    "    model = classifier.fit(X_train, y_train)\n",
    "\n",
    "    y_pred = model.predict(X_test)\n",
    "    #print(\"Accuracy:\", accuracy_score(y_test, y_pred))\n",
    "    #print(\"Confusion Matrix:\\n\", confusion_matrix(y_test, y_pred))\n",
    "    results.append([i,accuracy_score(y_test, y_pred), f1_score(y_test, y_pred)])\n",
    "\n",
    "print(results)\n",
    "print(y_test.value_counts()[0]/len(y_test))\n",
    "\n",
    "#plot_tree(classifier, max_depth=2)"
   ]
  },
  {
   "cell_type": "code",
   "execution_count": null,
   "id": "3e04a301",
   "metadata": {
    "id": "f7a90r0lLaPK"
   },
   "outputs": [],
   "source": [
    "from scipy import sparse\n",
    "# Stack matrices horizontally (column wise) using hstack().\n",
    "trainX_tfidf = sparse.hstack([x_train_tfidf, x_train_tfidf])\n",
    "\n",
    "# Convert Spare Matrix into an Array using toarray() \n",
    "trainX_tfidf_arr = trainX_tfidf.toarray()\n",
    "\n",
    "# Concatenate TF-IDF and Cosine Similarity using numpy.c_[], \n",
    "# which is just another column stack.\n",
    "trainX_tfidf_cos = np.c_[trainX_tfidf_arr, trainX_tfidf_arr]\n",
    "trainX_tfidf_cos"
   ]
  },
  {
   "cell_type": "code",
   "execution_count": null,
   "id": "392089fe",
   "metadata": {
    "colab": {
     "base_uri": "https://localhost:8080/"
    },
    "id": "cHh4n0owqi7X",
    "outputId": "89191b1a-06db-4278-e176-7420b00b22e8"
   },
   "outputs": [
    {
     "name": "stderr",
     "output_type": "stream",
     "text": [
      "[Parallel(n_jobs=1)]: Using backend SequentialBackend with 1 concurrent workers.\n"
     ]
    },
    {
     "name": "stdout",
     "output_type": "stream",
     "text": [
      "[CV] START .....................................................................\n",
      "[CV] END ................................ score: (test=0.795) total time=   4.1s\n",
      "[CV] START .....................................................................\n"
     ]
    },
    {
     "name": "stderr",
     "output_type": "stream",
     "text": [
      "[Parallel(n_jobs=1)]: Done   1 out of   1 | elapsed:    4.1s remaining:    0.0s\n"
     ]
    },
    {
     "name": "stdout",
     "output_type": "stream",
     "text": [
      "[CV] END ................................ score: (test=0.800) total time=   3.2s\n",
      "[CV] START .....................................................................\n"
     ]
    },
    {
     "name": "stderr",
     "output_type": "stream",
     "text": [
      "[Parallel(n_jobs=1)]: Done   2 out of   2 | elapsed:    7.4s remaining:    0.0s\n"
     ]
    },
    {
     "name": "stdout",
     "output_type": "stream",
     "text": [
      "[CV] END ................................ score: (test=0.798) total time=   3.2s\n",
      "[CV] START .....................................................................\n"
     ]
    },
    {
     "name": "stderr",
     "output_type": "stream",
     "text": [
      "[Parallel(n_jobs=1)]: Done   3 out of   3 | elapsed:   10.6s remaining:    0.0s\n"
     ]
    },
    {
     "name": "stdout",
     "output_type": "stream",
     "text": [
      "[CV] END ................................ score: (test=0.798) total time=   3.5s\n",
      "[CV] START .....................................................................\n"
     ]
    },
    {
     "name": "stderr",
     "output_type": "stream",
     "text": [
      "[Parallel(n_jobs=1)]: Done   4 out of   4 | elapsed:   14.1s remaining:    0.0s\n"
     ]
    },
    {
     "name": "stdout",
     "output_type": "stream",
     "text": [
      "[CV] END ................................ score: (test=0.802) total time=   2.0s\n",
      "[0.79548798 0.79995136 0.79795396 0.79810955 0.80174715]\n"
     ]
    },
    {
     "name": "stderr",
     "output_type": "stream",
     "text": [
      "[Parallel(n_jobs=1)]: Done   5 out of   5 | elapsed:   16.2s remaining:    0.0s\n",
      "[Parallel(n_jobs=1)]: Done   5 out of   5 | elapsed:   16.2s finished\n"
     ]
    },
    {
     "data": {
      "text/plain": [
       "0.7986500004807436"
      ]
     },
     "execution_count": 28,
     "metadata": {},
     "output_type": "execute_result"
    }
   ],
   "source": [
    "from sklearn.model_selection import StratifiedKFold, cross_val_score\n",
    "\n",
    "def corss_val(model):\n",
    "    kf = StratifiedKFold(5, shuffle=True, random_state=1)\n",
    "    auc = cross_val_score(\n",
    "        model, x_train_tfidf, y_train_balanced, scoring=\"f1\", cv=kf, verbose=10)\n",
    "    print(auc)\n",
    "    return auc.mean()\n",
    "    \n",
    "corss_val(model)"
   ]
  },
  {
   "cell_type": "code",
   "execution_count": null,
   "id": "7e7b5a68",
   "metadata": {
    "colab": {
     "base_uri": "https://localhost:8080/"
    },
    "id": "XdCnGQvJusL-",
    "outputId": "906bbd56-5a82-4e97-c407-367570d8b4b7"
   },
   "outputs": [
    {
     "metadata": {
      "tags": null
     },
     "name": "stdout",
     "output_type": "stream",
     "text": [
      "Fitting 5 folds for each of 4 candidates, totalling 20 fits\n",
      "[CV 1/5; 1/4] START C=1, class_weight=None, kernel=linear.......................\n",
      "[CV 1/5; 1/4] END C=1, class_weight=None, kernel=linear; AUC: (train=0.999, test=0.998) F1: (train=0.993, test=0.988) Precision: (train=0.992, test=0.981) Recall: (train=0.994, test=0.995) total time= 1.9min\n",
      "[CV 2/5; 1/4] START C=1, class_weight=None, kernel=linear.......................\n",
      "[CV 2/5; 1/4] END C=1, class_weight=None, kernel=linear; AUC: (train=0.999, test=0.998) F1: (train=0.994, test=0.987) Precision: (train=0.992, test=0.980) Recall: (train=0.995, test=0.995) total time= 2.0min\n",
      "[CV 3/5; 1/4] START C=1, class_weight=None, kernel=linear.......................\n",
      "[CV 3/5; 1/4] END C=1, class_weight=None, kernel=linear; AUC: (train=0.999, test=0.998) F1: (train=0.994, test=0.987) Precision: (train=0.992, test=0.980) Recall: (train=0.995, test=0.994) total time= 2.0min\n",
      "[CV 4/5; 1/4] START C=1, class_weight=None, kernel=linear.......................\n",
      "[CV 4/5; 1/4] END C=1, class_weight=None, kernel=linear; AUC: (train=0.999, test=0.997) F1: (train=0.994, test=0.986) Precision: (train=0.993, test=0.976) Recall: (train=0.995, test=0.995) total time= 1.9min\n",
      "[CV 5/5; 1/4] START C=1, class_weight=None, kernel=linear.......................\n",
      "[CV 5/5; 1/4] END C=1, class_weight=None, kernel=linear; AUC: (train=0.999, test=0.997) F1: (train=0.994, test=0.986) Precision: (train=0.992, test=0.978) Recall: (train=0.995, test=0.995) total time= 1.9min\n",
      "[CV 1/5; 2/4] START C=1, class_weight=None, kernel=rbf..........................\n",
      "[CV 1/5; 2/4] END C=1, class_weight=None, kernel=rbf; AUC: (train=0.999, test=0.999) F1: (train=0.999, test=0.997) Precision: (train=0.998, test=0.994) Recall: (train=1.000, test=1.000) total time= 4.3min\n",
      "[CV 2/5; 2/4] START C=1, class_weight=None, kernel=rbf..........................\n",
      "[CV 2/5; 2/4] END C=1, class_weight=None, kernel=rbf; AUC: (train=0.999, test=0.999) F1: (train=0.999, test=0.998) Precision: (train=0.998, test=0.996) Recall: (train=1.000, test=1.000) total time= 4.5min\n",
      "[CV 3/5; 2/4] START C=1, class_weight=None, kernel=rbf..........................\n",
      "[CV 3/5; 2/4] END C=1, class_weight=None, kernel=rbf; AUC: (train=0.999, test=0.998) F1: (train=0.999, test=0.998) Precision: (train=0.998, test=0.995) Recall: (train=1.000, test=1.000) total time= 4.4min\n",
      "[CV 4/5; 2/4] START C=1, class_weight=None, kernel=rbf..........................\n",
      "[CV 4/5; 2/4] END C=1, class_weight=None, kernel=rbf; AUC: (train=0.999, test=1.000) F1: (train=0.999, test=0.997) Precision: (train=0.998, test=0.994) Recall: (train=1.000, test=1.000) total time= 4.4min\n",
      "[CV 5/5; 2/4] START C=1, class_weight=None, kernel=rbf..........................\n",
      "[CV 5/5; 2/4] END C=1, class_weight=None, kernel=rbf; AUC: (train=0.999, test=0.999) F1: (train=0.999, test=0.997) Precision: (train=0.998, test=0.995) Recall: (train=1.000, test=1.000) total time= 4.4min\n",
      "[CV 1/5; 3/4] START C=1, class_weight=balanced, kernel=linear...................\n",
      "[CV 1/5; 3/4] END C=1, class_weight=balanced, kernel=linear; AUC: (train=0.999, test=0.998) F1: (train=0.993, test=0.988) Precision: (train=0.992, test=0.981) Recall: (train=0.994, test=0.995) total time= 1.9min\n",
      "[CV 2/5; 3/4] START C=1, class_weight=balanced, kernel=linear...................\n",
      "[CV 2/5; 3/4] END C=1, class_weight=balanced, kernel=linear; AUC: (train=0.999, test=0.998) F1: (train=0.994, test=0.988) Precision: (train=0.992, test=0.981) Recall: (train=0.995, test=0.995) total time= 2.0min\n",
      "[CV 3/5; 3/4] START C=1, class_weight=balanced, kernel=linear...................\n",
      "[CV 3/5; 3/4] END C=1, class_weight=balanced, kernel=linear; AUC: (train=0.999, test=0.998) F1: (train=0.994, test=0.987) Precision: (train=0.992, test=0.980) Recall: (train=0.995, test=0.994) total time= 2.0min\n",
      "[CV 4/5; 3/4] START C=1, class_weight=balanced, kernel=linear...................\n",
      "[CV 4/5; 3/4] END C=1, class_weight=balanced, kernel=linear; AUC: (train=0.999, test=0.997) F1: (train=0.994, test=0.986) Precision: (train=0.993, test=0.976) Recall: (train=0.995, test=0.995) total time= 2.0min\n",
      "[CV 5/5; 3/4] START C=1, class_weight=balanced, kernel=linear...................\n",
      "[CV 5/5; 3/4] END C=1, class_weight=balanced, kernel=linear; AUC: (train=0.999, test=0.997) F1: (train=0.994, test=0.986) Precision: (train=0.992, test=0.978) Recall: (train=0.995, test=0.995) total time= 2.0min\n",
      "[CV 1/5; 4/4] START C=1, class_weight=balanced, kernel=rbf......................\n",
      "[CV 1/5; 4/4] END C=1, class_weight=balanced, kernel=rbf; AUC: (train=0.999, test=0.999) F1: (train=0.999, test=0.997) Precision: (train=0.998, test=0.994) Recall: (train=1.000, test=1.000) total time= 4.5min\n",
      "[CV 2/5; 4/4] START C=1, class_weight=balanced, kernel=rbf......................\n",
      "[CV 2/5; 4/4] END C=1, class_weight=balanced, kernel=rbf; AUC: (train=0.999, test=0.999) F1: (train=0.999, test=0.998) Precision: (train=0.998, test=0.996) Recall: (train=1.000, test=1.000) total time= 4.6min\n",
      "[CV 3/5; 4/4] START C=1, class_weight=balanced, kernel=rbf......................\n",
      "[CV 3/5; 4/4] END C=1, class_weight=balanced, kernel=rbf; AUC: (train=0.999, test=0.999) F1: (train=0.999, test=0.998) Precision: (train=0.998, test=0.995) Recall: (train=1.000, test=1.000) total time= 4.8min\n",
      "[CV 4/5; 4/4] START C=1, class_weight=balanced, kernel=rbf......................\n",
      "[CV 4/5; 4/4] END C=1, class_weight=balanced, kernel=rbf; AUC: (train=1.000, test=1.000) F1: (train=0.999, test=0.997) Precision: (train=0.998, test=0.994) Recall: (train=1.000, test=1.000) total time= 4.7min\n",
      "[CV 5/5; 4/4] START C=1, class_weight=balanced, kernel=rbf......................\n"
     ]
    }
   ],
   "source": [
    "from sklearn.model_selection import GridSearchCV\n",
    "from sklearn import svm\n",
    "svm_estimator = svm.SVC()\n",
    "\n",
    "scoring = {'AUC': 'roc_auc', 'F1': 'f1', 'Precision': 'precision', 'Recall':'recall'}\n",
    "svm = GridSearchCV(estimator=svm_estimator,\n",
    "             param_grid={'C': [1, ], 'kernel': (\"linear\", \"rbf\"), 'class_weight': (None, \"balanced\")},\n",
    "             scoring=scoring,\n",
    "             refit='AUC',\n",
    "             return_train_score=True, \n",
    "             verbose=10)\n",
    "svm.fit(X_train, y_train)"
   ]
  },
  {
   "cell_type": "code",
   "execution_count": null,
   "id": "039795fd",
   "metadata": {
    "colab": {
     "base_uri": "https://localhost:8080/"
    },
    "id": "dpTGdsa5uxUU",
    "outputId": "08ef6633-4c8a-4877-e2af-a5ad1b344e6f"
   },
   "outputs": [
    {
     "data": {
      "text/plain": [
       "0.6241519674355496"
      ]
     },
     "execution_count": 32,
     "metadata": {},
     "output_type": "execute_result"
    }
   ],
   "source": [
    "f1_score(y_test, svm.predict(X_test))"
   ]
  },
  {
   "cell_type": "code",
   "execution_count": null,
   "id": "3ae534dd",
   "metadata": {
    "colab": {
     "base_uri": "https://localhost:8080/",
     "height": 235
    },
    "id": "gyd2l8rBooji",
    "outputId": "9910980c-1f40-4013-d724-f7feb98c1697"
   },
   "outputs": [
    {
     "ename": "AttributeError",
     "evalue": "ignored",
     "output_type": "error",
     "traceback": [
      "\u001b[0;31m---------------------------------------------------------------------------\u001b[0m",
      "\u001b[0;31mAttributeError\u001b[0m                            Traceback (most recent call last)",
      "\u001b[0;32m<ipython-input-37-a404435d526b>\u001b[0m in \u001b[0;36m<module>\u001b[0;34m()\u001b[0m\n\u001b[1;32m     19\u001b[0m \u001b[0mclf\u001b[0m\u001b[0;34m.\u001b[0m\u001b[0mfit\u001b[0m\u001b[0;34m(\u001b[0m\u001b[0mX_train\u001b[0m\u001b[0;34m,\u001b[0m \u001b[0my_train\u001b[0m\u001b[0;34m)\u001b[0m\u001b[0;34m\u001b[0m\u001b[0;34m\u001b[0m\u001b[0m\n\u001b[1;32m     20\u001b[0m \u001b[0;34m\u001b[0m\u001b[0m\n\u001b[0;32m---> 21\u001b[0;31m \u001b[0mscores\u001b[0m \u001b[0;34m=\u001b[0m \u001b[0;34m[\u001b[0m\u001b[0mx\u001b[0m\u001b[0;34m[\u001b[0m\u001b[0;36m1\u001b[0m\u001b[0;34m]\u001b[0m \u001b[0;32mfor\u001b[0m \u001b[0mx\u001b[0m \u001b[0;32min\u001b[0m \u001b[0mclf\u001b[0m\u001b[0;34m.\u001b[0m\u001b[0mgrid_scores_\u001b[0m\u001b[0;34m]\u001b[0m\u001b[0;34m\u001b[0m\u001b[0;34m\u001b[0m\u001b[0m\n\u001b[0m\u001b[1;32m     22\u001b[0m \u001b[0mscores\u001b[0m \u001b[0;34m=\u001b[0m \u001b[0mnp\u001b[0m\u001b[0;34m.\u001b[0m\u001b[0marray\u001b[0m\u001b[0;34m(\u001b[0m\u001b[0mscores\u001b[0m\u001b[0;34m)\u001b[0m\u001b[0;34m.\u001b[0m\u001b[0mreshape\u001b[0m\u001b[0;34m(\u001b[0m\u001b[0mlen\u001b[0m\u001b[0;34m(\u001b[0m\u001b[0mCs\u001b[0m\u001b[0;34m)\u001b[0m\u001b[0;34m,\u001b[0m \u001b[0mlen\u001b[0m\u001b[0;34m(\u001b[0m\u001b[0mGammas\u001b[0m\u001b[0;34m)\u001b[0m\u001b[0;34m)\u001b[0m\u001b[0;34m\u001b[0m\u001b[0;34m\u001b[0m\u001b[0m\n\u001b[1;32m     23\u001b[0m \u001b[0;34m\u001b[0m\u001b[0m\n",
      "\u001b[0;31mAttributeError\u001b[0m: 'GridSearchCV' object has no attribute 'grid_scores_'"
     ]
    }
   ],
   "source": [
    "import matplotlib.pyplot as plt\n",
    "import seaborn as sns\n",
    "import numpy as np\n",
    "from sklearn import svm\n",
    "\n",
    "\n",
    "#svm_estimator = svm.SVC()\n",
    "\n",
    "clf_ = svm.SVC(kernel='rbf')\n",
    "Cs = [1, 10, 100, 1000]\n",
    "Gammas = [1e-3, 1e-4]\n",
    "clf = GridSearchCV(clf_,\n",
    "            dict(C=Cs,\n",
    "                 gamma=Gammas),\n",
    "                 cv=2,\n",
    "                 pre_dispatch='1*n_jobs',\n",
    "                 n_jobs=1)\n",
    "\n",
    "clf.fit(X_train, y_train)\n",
    "\n",
    "scores = [x[1] for x in clf.grid_scores_]\n",
    "scores = np.array(scores).reshape(len(Cs), len(Gammas))\n",
    "\n",
    "for ind, i in enumerate(Cs):\n",
    "    plt.plot(Gammas, scores[ind], label='C: ' + str(i))\n",
    "plt.legend()\n",
    "plt.xlabel('Gamma')\n",
    "plt.ylabel('Mean score')\n",
    "plt.show()"
   ]
  },
  {
   "cell_type": "code",
   "execution_count": null,
   "id": "08163a49",
   "metadata": {
    "colab": {
     "base_uri": "https://localhost:8080/"
    },
    "id": "UxpM3aUP9Aju",
    "outputId": "0d82410c-fa3f-43dc-be1a-54f918150751"
   },
   "outputs": [
    {
     "name": "stdout",
     "output_type": "stream",
     "text": [
      "[nltk_data] Downloading package punkt to /root/nltk_data...\n",
      "[nltk_data]   Unzipping tokenizers/punkt.zip.\n"
     ]
    }
   ],
   "source": [
    "import nltk\n",
    "nltk.download(\"punkt\");\n",
    "import numpy as np\n",
    "import re\n",
    "import urllib\n",
    "SEED = 1234\n",
    "\n",
    "# Set seed for reproducibility\n",
    "np.random.seed(SEED)"
   ]
  },
  {
   "cell_type": "code",
   "execution_count": null,
   "id": "64a19751",
   "metadata": {
    "colab": {
     "base_uri": "https://localhost:8080/"
    },
    "id": "mW6lxign9HmR",
    "outputId": "3456e41c-40f2-48c9-9b6f-366ff87480cf"
   },
   "outputs": [
    {
     "name": "stdout",
     "output_type": "stream",
     "text": [
      "12443 sentences\n"
     ]
    }
   ],
   "source": [
    "# Split text into sentences\n",
    "tokenizer = nltk.data.load(\"tokenizers/punkt/english.pickle\")\n",
    "book = urllib.request.urlopen(url=\"https://raw.githubusercontent.com/GokuMohandas/MadeWithML/main/datasets/harrypotter.txt\")\n",
    "sentences = tokenizer.tokenize(str(book.read()))\n",
    "print (f\"{len(sentences)} sentences\")"
   ]
  },
  {
   "cell_type": "code",
   "execution_count": null,
   "id": "776b56a8",
   "metadata": {
    "id": "rPDfkspo9KXH"
   },
   "outputs": [],
   "source": [
    "def preprocess(text):\n",
    "    \"\"\"Conditional preprocessing on our text.\"\"\"\n",
    "    # Lower\n",
    "    text = text.lower()\n",
    "\n",
    "    # Spacing and filters\n",
    "    text = re.sub(r\"([-;;.,!?<=>])\", r\" \\1 \", text)\n",
    "    text = re.sub(\"[^A-Za-z0-9]+\", \" \", text) # remove non alphanumeric chars\n",
    "    text = re.sub(\" +\", \" \", text)  # remove multiple spaces\n",
    "    text = text.strip()\n",
    "\n",
    "    # Separate into word tokens\n",
    "    text = text.split(\" \")\n",
    "\n",
    "    return text"
   ]
  },
  {
   "cell_type": "code",
   "execution_count": null,
   "id": "3dec62f9",
   "metadata": {
    "colab": {
     "base_uri": "https://localhost:8080/"
    },
    "id": "Z6bhNb8S9R2e",
    "outputId": "3b410a2a-fccf-4d0b-f2b5-4d77dedaf0d3"
   },
   "outputs": [
    {
     "name": "stdout",
     "output_type": "stream",
     "text": [
      "Snape nodded, but did not elaborate.\n",
      "['snape', 'nodded', 'but', 'did', 'not', 'elaborate']\n"
     ]
    }
   ],
   "source": [
    "# Preprocess sentences\n",
    "print (sentences[11])\n",
    "sentences = [preprocess(sentence) for sentence in sentences]\n",
    "print (sentences[11])"
   ]
  },
  {
   "cell_type": "code",
   "execution_count": null,
   "id": "01b81df2",
   "metadata": {
    "colab": {
     "base_uri": "https://localhost:8080/"
    },
    "id": "_pDU9y4S9YAL",
    "outputId": "80114e03-c2ac-449e-ad53-d7c229721e44"
   },
   "outputs": [
    {
     "name": "stdout",
     "output_type": "stream",
     "text": [
      "Requirement already satisfied: gensim in /usr/local/lib/python3.7/dist-packages (3.6.0)\n",
      "Requirement already satisfied: scipy>=0.18.1 in /usr/local/lib/python3.7/dist-packages (from gensim) (1.4.1)\n",
      "Requirement already satisfied: smart-open>=1.2.1 in /usr/local/lib/python3.7/dist-packages (from gensim) (6.0.0)\n",
      "Requirement already satisfied: six>=1.5.0 in /usr/local/lib/python3.7/dist-packages (from gensim) (1.15.0)\n",
      "Requirement already satisfied: numpy>=1.11.3 in /usr/local/lib/python3.7/dist-packages (from gensim) (1.21.6)\n"
     ]
    }
   ],
   "source": [
    "!pip install gensim"
   ]
  },
  {
   "cell_type": "code",
   "execution_count": null,
   "id": "0e07e68b",
   "metadata": {
    "id": "gJfAMt3T-Fsd"
   },
   "outputs": [],
   "source": [
    "from gensim.models import FastText\n"
   ]
  },
  {
   "cell_type": "code",
   "execution_count": null,
   "id": "d3c24ca1",
   "metadata": {
    "id": "cn6B0lqq-GON"
   },
   "outputs": [],
   "source": [
    "from urllib.request import urlopen\n",
    "from zipfile import ZipFile\n",
    "from io import BytesIO"
   ]
  },
  {
   "cell_type": "code",
   "execution_count": null,
   "id": "ed402d77",
   "metadata": {
    "id": "KVpFyoCg-GtC"
   },
   "outputs": [],
   "source": [
    "from gensim.scripts.glove2word2vec import glove2word2vec\n",
    "from io import BytesIO\n",
    "import matplotlib.pyplot as plt\n",
    "from sklearn.decomposition import PCA\n",
    "from urllib.request import urlopen\n",
    "from zipfile import ZipFile"
   ]
  },
  {
   "cell_type": "code",
   "execution_count": null,
   "id": "3be0c8ba",
   "metadata": {
    "colab": {
     "base_uri": "https://localhost:8080/"
    },
    "id": "Vhfqu59W-C66",
    "outputId": "64b9db22-7f06-4296-d4cf-d55156e19cd8"
   },
   "outputs": [
    {
     "data": {
      "text/plain": [
       "['glove.6B.50d.txt',\n",
       " 'glove.6B.100d.txt',\n",
       " 'glove.6B.200d.txt',\n",
       " 'glove.6B.300d.txt']"
      ]
     },
     "execution_count": 22,
     "metadata": {},
     "output_type": "execute_result"
    }
   ],
   "source": [
    "# Unzip the file (may take ~3-5 minutes)\n",
    "resp = urlopen(\"http://nlp.stanford.edu/data/glove.6B.zip\")\n",
    "zipfile = ZipFile(BytesIO(resp.read()))\n",
    "zipfile.namelist()"
   ]
  },
  {
   "cell_type": "code",
   "execution_count": null,
   "id": "df1af70a",
   "metadata": {
    "colab": {
     "base_uri": "https://localhost:8080/",
     "height": 35
    },
    "id": "iJpL5YVR-uKy",
    "outputId": "c1544182-165c-4edc-f381-a7cc556be5d9"
   },
   "outputs": [
    {
     "data": {
      "application/vnd.google.colaboratory.intrinsic+json": {
       "type": "string"
      },
      "text/plain": [
       "'/content/glove.6B.100d.txt'"
      ]
     },
     "execution_count": 23,
     "metadata": {},
     "output_type": "execute_result"
    }
   ],
   "source": [
    "# Write embeddings to file\n",
    "embeddings_file = \"glove.6B.{0}d.txt\".format(100)\n",
    "zipfile.extract(embeddings_file)"
   ]
  },
  {
   "cell_type": "code",
   "execution_count": null,
   "id": "cc13340e",
   "metadata": {
    "colab": {
     "base_uri": "https://localhost:8080/"
    },
    "id": "C-bINWif_Y6e",
    "outputId": "cab83c1a-1f1e-410d-a00e-7e14fdc66d9f"
   },
   "outputs": [
    {
     "name": "stdout",
     "output_type": "stream",
     "text": [
      "word: the\n",
      "embedding:\n",
      "[-0.038194 -0.24487   0.72812  -0.39961   0.083172  0.043953 -0.39141\n",
      "  0.3344   -0.57545   0.087459  0.28787  -0.06731   0.30906  -0.26384\n",
      " -0.13231  -0.20757   0.33395  -0.33848  -0.31743  -0.48336   0.1464\n",
      " -0.37304   0.34577   0.052041  0.44946  -0.46971   0.02628  -0.54155\n",
      " -0.15518  -0.14107  -0.039722  0.28277   0.14393   0.23464  -0.31021\n",
      "  0.086173  0.20397   0.52624   0.17164  -0.082378 -0.71787  -0.41531\n",
      "  0.20335  -0.12763   0.41367   0.55187   0.57908  -0.33477  -0.36559\n",
      " -0.54857  -0.062892  0.26584   0.30205   0.99775  -0.80481  -3.0243\n",
      "  0.01254  -0.36942   2.2167    0.72201  -0.24978   0.92136   0.034514\n",
      "  0.46745   1.1079   -0.19358  -0.074575  0.23353  -0.052062 -0.22044\n",
      "  0.057162 -0.15806  -0.30798  -0.41625   0.37972   0.15006  -0.53212\n",
      " -0.2055   -1.2526    0.071624  0.70565   0.49744  -0.42063   0.26148\n",
      " -1.538    -0.30223  -0.073438 -0.28312   0.37104  -0.25217   0.016215\n",
      " -0.017099 -0.38984   0.87424  -0.72569  -0.51058  -0.52028  -0.1459\n",
      "  0.8278    0.27062 ]\n",
      "embedding dim: 100\n"
     ]
    }
   ],
   "source": [
    "# Preview of the GloVe embeddings file\n",
    "with open(embeddings_file, \"r\") as fp:\n",
    "    line = next(fp)\n",
    "    values = line.split()\n",
    "    word = values[0]\n",
    "    embedding = np.asarray(values[1:], dtype='float32')\n",
    "    print (f\"word: {word}\")\n",
    "    print (f\"embedding:\\n{embedding}\")\n",
    "    print (f\"embedding dim: {len(embedding)}\")"
   ]
  },
  {
   "cell_type": "code",
   "execution_count": null,
   "id": "62fdf5f5",
   "metadata": {
    "colab": {
     "base_uri": "https://localhost:8080/"
    },
    "id": "mK0NP4sa_bMx",
    "outputId": "3fe110b1-8705-483a-8bb4-3012f983b7ce"
   },
   "outputs": [
    {
     "data": {
      "text/plain": [
       "(400000, 100)"
      ]
     },
     "execution_count": 34,
     "metadata": {},
     "output_type": "execute_result"
    }
   ],
   "source": [
    "# Save GloVe embeddings to local directory in word2vec format\n",
    "word2vec_output_file = \"{0}.word2vec\".format(embeddings_file)\n",
    "glove2word2vec(embeddings_file, word2vec_output_file)"
   ]
  },
  {
   "cell_type": "code",
   "execution_count": null,
   "id": "ccdf7676",
   "metadata": {
    "id": "8dM_QdEZ_yql"
   },
   "outputs": [],
   "source": [
    "import gensim\n",
    "from gensim.models import KeyedVectors\n",
    "from gensim.models import Word2Vec"
   ]
  },
  {
   "cell_type": "code",
   "execution_count": null,
   "id": "88844e6d",
   "metadata": {
    "id": "OIBWqRvO_nVE"
   },
   "outputs": [],
   "source": [
    "# Load embeddings (may take a minute)\n",
    "glove = KeyedVectors.load_word2vec_format(word2vec_output_file, binary=False)"
   ]
  },
  {
   "cell_type": "code",
   "execution_count": null,
   "id": "25d30e7b",
   "metadata": {
    "colab": {
     "base_uri": "https://localhost:8080/"
    },
    "id": "faq27mGX_0ij",
    "outputId": "600f5796-0df5-4d45-8243-1df410368aee"
   },
   "outputs": [
    {
     "data": {
      "text/plain": [
       "[('queen', 0.7698541283607483),\n",
       " ('monarch', 0.6843380928039551),\n",
       " ('throne', 0.6755735874176025),\n",
       " ('daughter', 0.6594556570053101),\n",
       " ('princess', 0.6520534753799438)]"
      ]
     },
     "execution_count": 38,
     "metadata": {},
     "output_type": "execute_result"
    }
   ],
   "source": [
    "# (king - man) + woman = ?\n",
    "# king - man = ? -  woman\n",
    "glove.most_similar(positive=[\"woman\", \"king\"], negative=[\"man\"], topn=5)"
   ]
  },
  {
   "cell_type": "code",
   "execution_count": null,
   "id": "71d62c71",
   "metadata": {
    "colab": {
     "base_uri": "https://localhost:8080/"
    },
    "id": "XTByGuAo_t8o",
    "outputId": "22315c1a-32eb-4ade-d27c-a4699e9475ce"
   },
   "outputs": [
    {
     "name": "stderr",
     "output_type": "stream",
     "text": [
      "/usr/local/lib/python3.7/dist-packages/ipykernel_launcher.py:2: DeprecationWarning: Call to deprecated `wv` (Attribute will be removed in 4.0.0, use self instead).\n",
      "  \n"
     ]
    },
    {
     "data": {
      "text/plain": [
       "[('gohan', 0.7246542572975159),\n",
       " ('bulma', 0.6497020125389099),\n",
       " ('raistlin', 0.6443604230880737),\n",
       " ('skaar', 0.6316742897033691),\n",
       " ('guybrush', 0.6231324672698975)]"
      ]
     },
     "execution_count": 39,
     "metadata": {},
     "output_type": "execute_result"
    }
   ],
   "source": [
    "# Get nearest neighbors (excluding itself)\n",
    "glove.wv.most_similar(positive=\"goku\", topn=5)"
   ]
  },
  {
   "cell_type": "code",
   "execution_count": null,
   "id": "1db09611",
   "metadata": {
    "colab": {
     "base_uri": "https://localhost:8080/"
    },
    "id": "wqlmbEYGAASh",
    "outputId": "676fdae9-5cd9-4dad-c406-19950d33a944"
   },
   "outputs": [
    {
     "name": "stderr",
     "output_type": "stream",
     "text": [
      "/usr/local/lib/python3.7/dist-packages/ipykernel_launcher.py:2: DeprecationWarning: Call to deprecated `wv` (Attribute will be removed in 4.0.0, use self instead).\n",
      "  \n"
     ]
    }
   ],
   "source": [
    "# Reduce dimensionality for plotting\n",
    "X = glove[glove.wv.vocab]\n",
    "pca = PCA(n_components=2)\n",
    "pca_results = pca.fit_transform(X)"
   ]
  },
  {
   "cell_type": "code",
   "execution_count": null,
   "id": "064289a0",
   "metadata": {
    "id": "NU05bgv1_KD4"
   },
   "outputs": [],
   "source": [
    "import numpy as np\n",
    "import pandas as pd\n",
    "import random\n",
    "import torch\n",
    "import torch.nn as nn"
   ]
  },
  {
   "cell_type": "code",
   "execution_count": null,
   "id": "b1f3a213",
   "metadata": {
    "id": "R32oe5DrALf-"
   },
   "outputs": [],
   "source": [
    "SEED = 1234\n",
    "\n",
    "def set_seeds(seed=1234):\n",
    "    \"\"\"Set seeds for reproducibility.\"\"\"\n",
    "    np.random.seed(seed)\n",
    "    random.seed(seed)\n",
    "    torch.manual_seed(seed)\n",
    "    torch.cuda.manual_seed(seed)\n",
    "    torch.cuda.manual_seed_all(seed) # multi-GPU"
   ]
  },
  {
   "cell_type": "code",
   "execution_count": null,
   "id": "533cd2e6",
   "metadata": {
    "id": "xyJpYIC_AS1x"
   },
   "outputs": [],
   "source": [
    "set_seeds(seed=SEED)"
   ]
  },
  {
   "cell_type": "code",
   "execution_count": null,
   "id": "417941d9",
   "metadata": {
    "colab": {
     "base_uri": "https://localhost:8080/"
    },
    "id": "YvUpd0OiAYrF",
    "outputId": "31755e0e-f085-4dc1-8bc3-7bdd6e2d4df3"
   },
   "outputs": [
    {
     "name": "stdout",
     "output_type": "stream",
     "text": [
      "cpu\n"
     ]
    }
   ],
   "source": [
    "# Set device\n",
    "cuda = True\n",
    "device = torch.device(\"cuda\" if (\n",
    "    torch.cuda.is_available() and cuda) else \"cpu\")\n",
    "torch.set_default_tensor_type(\"torch.FloatTensor\")\n",
    "if device.type == \"cuda\":\n",
    "    torch.set_default_tensor_type(\"torch.cuda.FloatTensor\")\n",
    "print (device)"
   ]
  },
  {
   "cell_type": "code",
   "execution_count": null,
   "id": "665f3c71",
   "metadata": {
    "colab": {
     "base_uri": "https://localhost:8080/",
     "height": 206
    },
    "id": "FGjTtjLHAZYF",
    "outputId": "b4473bd2-bf5e-4fc7-fa0f-9f2884874aaf"
   },
   "outputs": [
    {
     "data": {
      "text/html": [
       "\n",
       "  <div id=\"df-3c091898-0514-49e8-adb5-4dddcb8823a4\">\n",
       "    <div class=\"colab-df-container\">\n",
       "      <div>\n",
       "<style scoped>\n",
       "    .dataframe tbody tr th:only-of-type {\n",
       "        vertical-align: middle;\n",
       "    }\n",
       "\n",
       "    .dataframe tbody tr th {\n",
       "        vertical-align: top;\n",
       "    }\n",
       "\n",
       "    .dataframe thead th {\n",
       "        text-align: right;\n",
       "    }\n",
       "</style>\n",
       "<table border=\"1\" class=\"dataframe\">\n",
       "  <thead>\n",
       "    <tr style=\"text-align: right;\">\n",
       "      <th></th>\n",
       "      <th>title</th>\n",
       "      <th>category</th>\n",
       "    </tr>\n",
       "  </thead>\n",
       "  <tbody>\n",
       "    <tr>\n",
       "      <th>0</th>\n",
       "      <td>Sharon Accepts Plan to Reduce Gaza Army Operat...</td>\n",
       "      <td>World</td>\n",
       "    </tr>\n",
       "    <tr>\n",
       "      <th>1</th>\n",
       "      <td>Internet Key Battleground in Wildlife Crime Fight</td>\n",
       "      <td>Sci/Tech</td>\n",
       "    </tr>\n",
       "    <tr>\n",
       "      <th>2</th>\n",
       "      <td>July Durable Good Orders Rise 1.7 Percent</td>\n",
       "      <td>Business</td>\n",
       "    </tr>\n",
       "    <tr>\n",
       "      <th>3</th>\n",
       "      <td>Growing Signs of a Slowing on Wall Street</td>\n",
       "      <td>Business</td>\n",
       "    </tr>\n",
       "    <tr>\n",
       "      <th>4</th>\n",
       "      <td>The New Faces of Reality TV</td>\n",
       "      <td>World</td>\n",
       "    </tr>\n",
       "  </tbody>\n",
       "</table>\n",
       "</div>\n",
       "      <button class=\"colab-df-convert\" onclick=\"convertToInteractive('df-3c091898-0514-49e8-adb5-4dddcb8823a4')\"\n",
       "              title=\"Convert this dataframe to an interactive table.\"\n",
       "              style=\"display:none;\">\n",
       "        \n",
       "  <svg xmlns=\"http://www.w3.org/2000/svg\" height=\"24px\"viewBox=\"0 0 24 24\"\n",
       "       width=\"24px\">\n",
       "    <path d=\"M0 0h24v24H0V0z\" fill=\"none\"/>\n",
       "    <path d=\"M18.56 5.44l.94 2.06.94-2.06 2.06-.94-2.06-.94-.94-2.06-.94 2.06-2.06.94zm-11 1L8.5 8.5l.94-2.06 2.06-.94-2.06-.94L8.5 2.5l-.94 2.06-2.06.94zm10 10l.94 2.06.94-2.06 2.06-.94-2.06-.94-.94-2.06-.94 2.06-2.06.94z\"/><path d=\"M17.41 7.96l-1.37-1.37c-.4-.4-.92-.59-1.43-.59-.52 0-1.04.2-1.43.59L10.3 9.45l-7.72 7.72c-.78.78-.78 2.05 0 2.83L4 21.41c.39.39.9.59 1.41.59.51 0 1.02-.2 1.41-.59l7.78-7.78 2.81-2.81c.8-.78.8-2.07 0-2.86zM5.41 20L4 18.59l7.72-7.72 1.47 1.35L5.41 20z\"/>\n",
       "  </svg>\n",
       "      </button>\n",
       "      \n",
       "  <style>\n",
       "    .colab-df-container {\n",
       "      display:flex;\n",
       "      flex-wrap:wrap;\n",
       "      gap: 12px;\n",
       "    }\n",
       "\n",
       "    .colab-df-convert {\n",
       "      background-color: #E8F0FE;\n",
       "      border: none;\n",
       "      border-radius: 50%;\n",
       "      cursor: pointer;\n",
       "      display: none;\n",
       "      fill: #1967D2;\n",
       "      height: 32px;\n",
       "      padding: 0 0 0 0;\n",
       "      width: 32px;\n",
       "    }\n",
       "\n",
       "    .colab-df-convert:hover {\n",
       "      background-color: #E2EBFA;\n",
       "      box-shadow: 0px 1px 2px rgba(60, 64, 67, 0.3), 0px 1px 3px 1px rgba(60, 64, 67, 0.15);\n",
       "      fill: #174EA6;\n",
       "    }\n",
       "\n",
       "    [theme=dark] .colab-df-convert {\n",
       "      background-color: #3B4455;\n",
       "      fill: #D2E3FC;\n",
       "    }\n",
       "\n",
       "    [theme=dark] .colab-df-convert:hover {\n",
       "      background-color: #434B5C;\n",
       "      box-shadow: 0px 1px 3px 1px rgba(0, 0, 0, 0.15);\n",
       "      filter: drop-shadow(0px 1px 2px rgba(0, 0, 0, 0.3));\n",
       "      fill: #FFFFFF;\n",
       "    }\n",
       "  </style>\n",
       "\n",
       "      <script>\n",
       "        const buttonEl =\n",
       "          document.querySelector('#df-3c091898-0514-49e8-adb5-4dddcb8823a4 button.colab-df-convert');\n",
       "        buttonEl.style.display =\n",
       "          google.colab.kernel.accessAllowed ? 'block' : 'none';\n",
       "\n",
       "        async function convertToInteractive(key) {\n",
       "          const element = document.querySelector('#df-3c091898-0514-49e8-adb5-4dddcb8823a4');\n",
       "          const dataTable =\n",
       "            await google.colab.kernel.invokeFunction('convertToInteractive',\n",
       "                                                     [key], {});\n",
       "          if (!dataTable) return;\n",
       "\n",
       "          const docLinkHtml = 'Like what you see? Visit the ' +\n",
       "            '<a target=\"_blank\" href=https://colab.research.google.com/notebooks/data_table.ipynb>data table notebook</a>'\n",
       "            + ' to learn more about interactive tables.';\n",
       "          element.innerHTML = '';\n",
       "          dataTable['output_type'] = 'display_data';\n",
       "          await google.colab.output.renderOutput(dataTable, element);\n",
       "          const docLink = document.createElement('div');\n",
       "          docLink.innerHTML = docLinkHtml;\n",
       "          element.appendChild(docLink);\n",
       "        }\n",
       "      </script>\n",
       "    </div>\n",
       "  </div>\n",
       "  "
      ],
      "text/plain": [
       "                                               title  category\n",
       "0  Sharon Accepts Plan to Reduce Gaza Army Operat...     World\n",
       "1  Internet Key Battleground in Wildlife Crime Fight  Sci/Tech\n",
       "2          July Durable Good Orders Rise 1.7 Percent  Business\n",
       "3          Growing Signs of a Slowing on Wall Street  Business\n",
       "4                        The New Faces of Reality TV     World"
      ]
     },
     "execution_count": 45,
     "metadata": {},
     "output_type": "execute_result"
    }
   ],
   "source": [
    "# Load data\n",
    "url = \"https://raw.githubusercontent.com/GokuMohandas/MadeWithML/main/datasets/news.csv\"\n",
    "df = pd.read_csv(url, header=0) # load\n",
    "df = df.sample(frac=1).reset_index(drop=True) # shuffle\n",
    "df.head()"
   ]
  },
  {
   "cell_type": "code",
   "execution_count": null,
   "id": "1d61c31d",
   "metadata": {
    "id": "ka-hI-taA3bY"
   },
   "outputs": [],
   "source": [
    "import nltk\n",
    "from nltk.corpus import stopwords\n",
    "from nltk.stem import PorterStemmer\n",
    "import re"
   ]
  },
  {
   "cell_type": "code",
   "execution_count": null,
   "id": "cad917c0",
   "metadata": {
    "colab": {
     "base_uri": "https://localhost:8080/"
    },
    "id": "drsCXsRSA6zS",
    "outputId": "76e6969c-b310-4ec4-9bd3-5857691fe9c6"
   },
   "outputs": [
    {
     "name": "stdout",
     "output_type": "stream",
     "text": [
      "[nltk_data] Downloading package stopwords to /root/nltk_data...\n",
      "[nltk_data]   Unzipping corpora/stopwords.zip.\n",
      "['i', 'me', 'my', 'myself', 'we']\n"
     ]
    }
   ],
   "source": [
    "nltk.download(\"stopwords\")\n",
    "STOPWORDS = stopwords.words(\"english\")\n",
    "print (STOPWORDS[:5])\n",
    "porter = PorterStemmer()"
   ]
  },
  {
   "cell_type": "code",
   "execution_count": null,
   "id": "a1b64cca",
   "metadata": {
    "id": "zPaHgkk1A9N6"
   },
   "outputs": [],
   "source": [
    "def preprocess(text, stopwords=STOPWORDS):\n",
    "    \"\"\"Conditional preprocessing on our text unique to our task.\"\"\"\n",
    "    # Lower\n",
    "    text = text.lower()\n",
    "\n",
    "    # Remove stopwords\n",
    "    pattern = re.compile(r\"\\b(\" + r\"|\".join(stopwords) + r\")\\b\\s*\")\n",
    "    text = pattern.sub(\"\", text)\n",
    "\n",
    "    # Remove words in paranthesis\n",
    "    text = re.sub(r\"\\([^)]*\\)\", \"\", text)\n",
    "\n",
    "    # Spacing and filters\n",
    "    text = re.sub(r\"([-;;.,!?<=>])\", r\" \\1 \", text)\n",
    "    text = re.sub(\"[^A-Za-z0-9]+\", \" \", text) # remove non alphanumeric chars\n",
    "    text = re.sub(\" +\", \" \", text)  # remove multiple spaces\n",
    "    text = text.strip()\n",
    "\n",
    "    return text"
   ]
  },
  {
   "cell_type": "code",
   "execution_count": null,
   "id": "cefe18ab",
   "metadata": {
    "colab": {
     "base_uri": "https://localhost:8080/",
     "height": 35
    },
    "id": "gNIViGLtBAAK",
    "outputId": "658f0cf6-a6c5-4f88-c1d4-a572c85634e5"
   },
   "outputs": [
    {
     "data": {
      "application/vnd.google.colaboratory.intrinsic+json": {
       "type": "string"
      },
      "text/plain": [
       "'great week nyse'"
      ]
     },
     "execution_count": 49,
     "metadata": {},
     "output_type": "execute_result"
    }
   ],
   "source": [
    "# Sample\n",
    "text = \"Great week for the NYSE!\"\n",
    "preprocess(text=text)"
   ]
  },
  {
   "cell_type": "code",
   "execution_count": null,
   "id": "76848042",
   "metadata": {
    "colab": {
     "base_uri": "https://localhost:8080/"
    },
    "id": "CjFKOs8CBDqk",
    "outputId": "8f5fc7a3-9159-4967-e04c-e08e4f9d2903"
   },
   "outputs": [
    {
     "name": "stdout",
     "output_type": "stream",
     "text": [
      "Sharon Accepts Plan to Reduce Gaza Army Operation, Haaretz Says\n",
      "\n",
      "sharon accepts plan reduce gaza army operation haaretz says\n"
     ]
    }
   ],
   "source": [
    "# Apply to dataframe\n",
    "preprocessed_df = df.copy()\n",
    "preprocessed_df.title = preprocessed_df.title.apply(preprocess)\n",
    "print (f\"{df.title.values[0]}\\n\\n{preprocessed_df.title.values[0]}\")"
   ]
  },
  {
   "cell_type": "code",
   "execution_count": null,
   "id": "b707c1c7",
   "metadata": {
    "id": "vobBIvnqBGOf"
   },
   "outputs": [],
   "source": [
    "import collections\n",
    "from sklearn.model_selection import train_test_split"
   ]
  },
  {
   "cell_type": "code",
   "execution_count": null,
   "id": "632d3613",
   "metadata": {
    "id": "E82ff7FWBVDB"
   },
   "outputs": [],
   "source": [
    "TRAIN_SIZE = 0.7\n",
    "VAL_SIZE = 0.15\n",
    "TEST_SIZE = 0.15"
   ]
  },
  {
   "cell_type": "code",
   "execution_count": null,
   "id": "4de91729",
   "metadata": {
    "id": "Z-Y8_B1PBXaP"
   },
   "outputs": [],
   "source": [
    "def train_val_test_split(X, y, train_size):\n",
    "    \"\"\"Split dataset into data splits.\"\"\"\n",
    "    X_train, X_, y_train, y_ = train_test_split(X, y, train_size=TRAIN_SIZE, stratify=y)\n",
    "    X_val, X_test, y_val, y_test = train_test_split(X_, y_, train_size=0.5, stratify=y_)\n",
    "    return X_train, X_val, X_test, y_train, y_val, y_test\n"
   ]
  },
  {
   "cell_type": "code",
   "execution_count": null,
   "id": "b85e8a30",
   "metadata": {
    "id": "4dFFKm1DBZts"
   },
   "outputs": [],
   "source": [
    "# Data\n",
    "X = preprocessed_df[\"title\"].values\n",
    "y = preprocessed_df[\"category\"].values"
   ]
  },
  {
   "cell_type": "code",
   "execution_count": null,
   "id": "cf48e59a",
   "metadata": {
    "colab": {
     "base_uri": "https://localhost:8080/"
    },
    "id": "AxDvjMDmBeN7",
    "outputId": "e5ad67d0-ddc1-4cc8-eea5-0471236e9145"
   },
   "outputs": [
    {
     "name": "stdout",
     "output_type": "stream",
     "text": [
      "X_train: (84000,), y_train: (84000,)\n",
      "X_val: (18000,), y_val: (18000,)\n",
      "X_test: (18000,), y_test: (18000,)\n",
      "Sample point: china battles north korea nuclear talks → World\n"
     ]
    }
   ],
   "source": [
    "# Create data splits\n",
    "X_train, X_val, X_test, y_train, y_val, y_test = train_val_test_split(\n",
    "    X=X, y=y, train_size=TRAIN_SIZE)\n",
    "print (f\"X_train: {X_train.shape}, y_train: {y_train.shape}\")\n",
    "print (f\"X_val: {X_val.shape}, y_val: {y_val.shape}\")\n",
    "print (f\"X_test: {X_test.shape}, y_test: {y_test.shape}\")\n",
    "print (f\"Sample point: {X_train[0]} → {y_train[0]}\")"
   ]
  },
  {
   "cell_type": "code",
   "execution_count": null,
   "id": "7f6e7cb2",
   "metadata": {
    "id": "L8KPRKk598ff"
   },
   "outputs": [],
   "source": [
    "import itertools\n",
    "import json"
   ]
  },
  {
   "cell_type": "code",
   "execution_count": null,
   "id": "36ad4886",
   "metadata": {
    "id": "shuU8eCBB5Fp"
   },
   "outputs": [],
   "source": []
  },
  {
   "cell_type": "code",
   "execution_count": null,
   "id": "bbf5b07e",
   "metadata": {
    "id": "hzm2mLkTBoLr"
   },
   "outputs": [],
   "source": [
    "class LabelEncoder(object):\n",
    "    \"\"\"Label encoder for tag labels.\"\"\"\n",
    "    def __init__(self, class_to_index={}):\n",
    "        self.class_to_index = class_to_index\n",
    "        self.index_to_class = {v: k for k, v in self.class_to_index.items()}\n",
    "        self.classes = list(self.class_to_index.keys())\n",
    "\n",
    "    def __len__(self):\n",
    "        return len(self.class_to_index)\n",
    "\n",
    "    def __str__(self):\n",
    "        return f\"<LabelEncoder(num_classes={len(self)})>\"\n",
    "\n",
    "    def fit(self, y):\n",
    "        classes = np.unique(y)\n",
    "        for i, class_ in enumerate(classes):\n",
    "            self.class_to_index[class_] = i\n",
    "        self.index_to_class = {v: k for k, v in self.class_to_index.items()}\n",
    "        self.classes = list(self.class_to_index.keys())\n",
    "        return self\n",
    "\n",
    "    def encode(self, y):\n",
    "        encoded = np.zeros((len(y)), dtype=int)\n",
    "        for i, item in enumerate(y):\n",
    "            encoded[i] = self.class_to_index[item]\n",
    "        return encoded\n",
    "\n",
    "    def decode(self, y):\n",
    "        classes = []\n",
    "        for i, item in enumerate(y):\n",
    "            classes.append(self.index_to_class[item])\n",
    "        return classes\n",
    "\n",
    "    def save(self, fp):\n",
    "        with open(fp, \"w\") as fp:\n",
    "            contents = {'class_to_index': self.class_to_index}\n",
    "            json.dump(contents, fp, indent=4, sort_keys=False)\n",
    "\n",
    "    @classmethod\n",
    "    def load(cls, fp):\n",
    "        with open(fp, \"r\") as fp:\n",
    "            kwargs = json.load(fp=fp)\n",
    "        return cls(**kwargs)"
   ]
  },
  {
   "cell_type": "code",
   "execution_count": null,
   "id": "399082f6",
   "metadata": {
    "colab": {
     "base_uri": "https://localhost:8080/"
    },
    "id": "D5f6RPOoB8is",
    "outputId": "be553382-32c2-4e5c-b828-b4b9903b03f6"
   },
   "outputs": [
    {
     "data": {
      "text/plain": [
       "{'Business': 0, 'Sci/Tech': 1, 'Sports': 2, 'World': 3}"
      ]
     },
     "execution_count": 60,
     "metadata": {},
     "output_type": "execute_result"
    }
   ],
   "source": [
    "# Encode\n",
    "label_encoder = LabelEncoder()\n",
    "label_encoder.fit(y_train)\n",
    "NUM_CLASSES = len(label_encoder)\n",
    "label_encoder.class_to_index"
   ]
  },
  {
   "cell_type": "code",
   "execution_count": null,
   "id": "d58527f0",
   "metadata": {
    "colab": {
     "base_uri": "https://localhost:8080/"
    },
    "id": "DRudgusPB9JJ",
    "outputId": "9665fcc5-5423-40a2-97f3-d50daa1995cc"
   },
   "outputs": [
    {
     "name": "stdout",
     "output_type": "stream",
     "text": [
      "y_train[0]: World\n",
      "y_train[0]: 3\n"
     ]
    }
   ],
   "source": [
    "# Convert labels to tokens\n",
    "print (f\"y_train[0]: {y_train[0]}\")\n",
    "y_train = label_encoder.encode(y_train)\n",
    "y_val = label_encoder.encode(y_val)\n",
    "y_test = label_encoder.encode(y_test)\n",
    "print (f\"y_train[0]: {y_train[0]}\")"
   ]
  },
  {
   "cell_type": "code",
   "execution_count": null,
   "id": "27a2b200",
   "metadata": {
    "colab": {
     "base_uri": "https://localhost:8080/"
    },
    "id": "6FdshaYQCDzN",
    "outputId": "84913173-ee76-4a84-9ea1-24eb9906bff9"
   },
   "outputs": [
    {
     "name": "stdout",
     "output_type": "stream",
     "text": [
      "counts: [21000 21000 21000 21000]\n",
      "weights: {0: 4.761904761904762e-05, 1: 4.761904761904762e-05, 2: 4.761904761904762e-05, 3: 4.761904761904762e-05}\n"
     ]
    }
   ],
   "source": [
    "# Class weights\n",
    "counts = np.bincount(y_train)\n",
    "class_weights = {i: 1.0/count for i, count in enumerate(counts)}\n",
    "print (f\"counts: {counts}\\nweights: {class_weights}\")"
   ]
  },
  {
   "cell_type": "code",
   "execution_count": null,
   "id": "c3d786be",
   "metadata": {
    "id": "ZiOYRhY6CPul"
   },
   "outputs": [],
   "source": [
    "import json\n",
    "from collections import Counter\n",
    "from more_itertools import take"
   ]
  },
  {
   "cell_type": "code",
   "execution_count": null,
   "id": "facce869",
   "metadata": {
    "id": "TfusLDEOCURY"
   },
   "outputs": [],
   "source": [
    "class Tokenizer(object):\n",
    "    def __init__(self, char_level, num_tokens=None,\n",
    "                 pad_token=\"<PAD>\", oov_token=\"<UNK>\",\n",
    "                 token_to_index=None):\n",
    "        self.char_level = char_level\n",
    "        self.separator = \"\" if self.char_level else \" \"\n",
    "        if num_tokens: num_tokens -= 2 # pad + unk tokens\n",
    "        self.num_tokens = num_tokens\n",
    "        self.pad_token = pad_token\n",
    "        self.oov_token = oov_token\n",
    "        if not token_to_index:\n",
    "            token_to_index = {pad_token: 0, oov_token: 1}\n",
    "        self.token_to_index = token_to_index\n",
    "        self.index_to_token = {v: k for k, v in self.token_to_index.items()}\n",
    "\n",
    "    def __len__(self):\n",
    "        return len(self.token_to_index)\n",
    "\n",
    "    def __str__(self):\n",
    "        return f\"<Tokenizer(num_tokens={len(self)})>\"\n",
    "\n",
    "    def fit_on_texts(self, texts):\n",
    "        if not self.char_level:\n",
    "            texts = [text.split(\" \") for text in texts]\n",
    "        all_tokens = [token for text in texts for token in text]\n",
    "        counts = Counter(all_tokens).most_common(self.num_tokens)\n",
    "        self.min_token_freq = counts[-1][1]\n",
    "        for token, count in counts:\n",
    "            index = len(self)\n",
    "            self.token_to_index[token] = index\n",
    "            self.index_to_token[index] = token\n",
    "        return self\n",
    "\n",
    "    def texts_to_sequences(self, texts):\n",
    "        sequences = []\n",
    "        for text in texts:\n",
    "            if not self.char_level:\n",
    "                text = text.split(\" \")\n",
    "            sequence = []\n",
    "            for token in text:\n",
    "                sequence.append(self.token_to_index.get(\n",
    "                    token, self.token_to_index[self.oov_token]))\n",
    "            sequences.append(np.asarray(sequence))\n",
    "        return sequences\n",
    "\n",
    "    def sequences_to_texts(self, sequences):\n",
    "        texts = []\n",
    "        for sequence in sequences:\n",
    "            text = []\n",
    "            for index in sequence:\n",
    "                text.append(self.index_to_token.get(index, self.oov_token))\n",
    "            texts.append(self.separator.join([token for token in text]))\n",
    "        return texts\n",
    "\n",
    "    def save(self, fp):\n",
    "        with open(fp, \"w\") as fp:\n",
    "            contents = {\n",
    "                \"char_level\": self.char_level,\n",
    "                \"oov_token\": self.oov_token,\n",
    "                \"token_to_index\": self.token_to_index\n",
    "            }\n",
    "            json.dump(contents, fp, indent=4, sort_keys=False)\n",
    "\n",
    "    @classmethod\n",
    "    def load(cls, fp):\n",
    "        with open(fp, \"r\") as fp:\n",
    "            kwargs = json.load(fp=fp)\n",
    "        return cls(**kwargs)"
   ]
  },
  {
   "cell_type": "code",
   "execution_count": null,
   "id": "191c84fc",
   "metadata": {
    "colab": {
     "base_uri": "https://localhost:8080/"
    },
    "id": "0hw-yzDeCXC_",
    "outputId": "9901e9c9-d40c-421b-bad7-4002a9c9a74a"
   },
   "outputs": [
    {
     "name": "stdout",
     "output_type": "stream",
     "text": [
      "<Tokenizer(num_tokens=5000)>\n"
     ]
    }
   ],
   "source": [
    "# Tokenize\n",
    "tokenizer = Tokenizer(char_level=False, num_tokens=5000)\n",
    "tokenizer.fit_on_texts(texts=X_train)\n",
    "VOCAB_SIZE = len(tokenizer)\n",
    "print (tokenizer)"
   ]
  },
  {
   "cell_type": "code",
   "execution_count": null,
   "id": "ee6057b3",
   "metadata": {
    "colab": {
     "base_uri": "https://localhost:8080/"
    },
    "id": "hZFzQSs-CaM5",
    "outputId": "9a4b74bc-7765-49ba-a720-4aa1f20755f7"
   },
   "outputs": [
    {
     "name": "stdout",
     "output_type": "stream",
     "text": [
      "[('<PAD>', 0), ('<UNK>', 1), ('39', 2), ('b', 3), ('gt', 4)]\n",
      "least freq token's freq: 14\n"
     ]
    }
   ],
   "source": [
    "# Sample of tokens\n",
    "print (take(5, tokenizer.token_to_index.items()))\n",
    "print (f\"least freq token's freq: {tokenizer.min_token_freq}\") # use this to adjust num_tokens"
   ]
  },
  {
   "cell_type": "code",
   "execution_count": null,
   "id": "3d1cc465",
   "metadata": {
    "colab": {
     "base_uri": "https://localhost:8080/"
    },
    "id": "4RzOVnCvCdVV",
    "outputId": "4e4c0e19-9739-4d81-850e-7b702d6e2741"
   },
   "outputs": [
    {
     "name": "stdout",
     "output_type": "stream",
     "text": [
      "Text to indices:\n",
      "  (preprocessed) → china battles north korea nuclear talks\n",
      "  (tokenized) → [  16 1491  285  142  114   24]\n"
     ]
    }
   ],
   "source": [
    "# Convert texts to sequences of indices\n",
    "X_train = tokenizer.texts_to_sequences(X_train)\n",
    "X_val = tokenizer.texts_to_sequences(X_val)\n",
    "X_test = tokenizer.texts_to_sequences(X_test)\n",
    "preprocessed_text = tokenizer.sequences_to_texts([X_train[0]])[0]\n",
    "print (\"Text to indices:\\n\"\n",
    "    f\"  (preprocessed) → {preprocessed_text}\\n\"\n",
    "    f\"  (tokenized) → {X_train[0]}\")"
   ]
  },
  {
   "cell_type": "code",
   "execution_count": null,
   "id": "91319d09",
   "metadata": {
    "colab": {
     "base_uri": "https://localhost:8080/"
    },
    "id": "GZX2_UclChxn",
    "outputId": "4ff0cacf-33c5-4bd3-c3c3-42f2eb5dc855"
   },
   "outputs": [
    {
     "name": "stdout",
     "output_type": "stream",
     "text": [
      "tensor([[5, 1, 6, 5, 6]])\n",
      "torch.Size([1, 5])\n"
     ]
    }
   ],
   "source": [
    "# Input\n",
    "vocab_size = 10\n",
    "x = torch.randint(high=vocab_size, size=(1,5))\n",
    "print (x)\n",
    "print (x.shape)"
   ]
  },
  {
   "cell_type": "code",
   "execution_count": null,
   "id": "28f81b30",
   "metadata": {
    "colab": {
     "base_uri": "https://localhost:8080/"
    },
    "id": "KZ8fOxJuC-7B",
    "outputId": "d982b3c6-cb26-4524-a024-b32742df6329"
   },
   "outputs": [
    {
     "data": {
      "text/plain": [
       "Embedding(10, 100)"
      ]
     },
     "execution_count": 71,
     "metadata": {},
     "output_type": "execute_result"
    }
   ],
   "source": [
    "embeddings"
   ]
  },
  {
   "cell_type": "code",
   "execution_count": null,
   "id": "6ca0826f",
   "metadata": {
    "colab": {
     "base_uri": "https://localhost:8080/"
    },
    "id": "KLJXn4EECpEe",
    "outputId": "eb3fb5a5-67bf-4e4a-db07-7e55828fbf66"
   },
   "outputs": [
    {
     "name": "stdout",
     "output_type": "stream",
     "text": [
      "torch.Size([10, 100])\n"
     ]
    }
   ],
   "source": [
    "# Embedding layer\n",
    "embeddings = nn.Embedding(embedding_dim=100, num_embeddings=vocab_size)\n",
    "print (embeddings.weight.shape)"
   ]
  },
  {
   "cell_type": "code",
   "execution_count": null,
   "id": "70f88e7c",
   "metadata": {
    "id": "KEsFtF9AC9Uk"
   },
   "outputs": [],
   "source": [
    "def pad_sequences(sequences, max_seq_len=0):\n",
    "    \"\"\"Pad sequences to max length in sequence.\"\"\"\n",
    "    max_seq_len = max(max_seq_len, max(len(sequence) for sequence in sequences))\n",
    "    padded_sequences = np.zeros((len(sequences), max_seq_len))\n",
    "    for i, sequence in enumerate(sequences):\n",
    "        padded_sequences[i][:len(sequence)] = sequence\n",
    "    return padded_sequences\n"
   ]
  },
  {
   "cell_type": "code",
   "execution_count": null,
   "id": "ea92a842",
   "metadata": {
    "colab": {
     "base_uri": "https://localhost:8080/"
    },
    "id": "6DFGr7aFFPW4",
    "outputId": "49c247f3-a3e7-451e-ba75-8520241ecde9"
   },
   "outputs": [
    {
     "name": "stdout",
     "output_type": "stream",
     "text": [
      "(3, 6)\n",
      "[[1.600e+01 1.491e+03 2.850e+02 1.420e+02 1.140e+02 2.400e+01]\n",
      " [1.445e+03 2.300e+01 6.560e+02 2.197e+03 1.000e+00 0.000e+00]\n",
      " [1.200e+02 1.400e+01 1.955e+03 1.005e+03 1.529e+03 4.014e+03]]\n"
     ]
    }
   ],
   "source": [
    "# 2D sequences\n",
    "padded = pad_sequences(X_train[0:3])\n",
    "print (padded.shape)\n",
    "print (padded)"
   ]
  },
  {
   "cell_type": "code",
   "execution_count": null,
   "id": "9c10c3d4",
   "metadata": {
    "id": "a80gKRykFUrm"
   },
   "outputs": [],
   "source": [
    "FILTER_SIZES = list(range(1, 4)) # uni, bi and tri grams"
   ]
  },
  {
   "cell_type": "code",
   "execution_count": null,
   "id": "ef2027e5",
   "metadata": {
    "id": "U0FeOp4mFZxf"
   },
   "outputs": [],
   "source": [
    "class Dataset(torch.utils.data.Dataset):\n",
    "    def __init__(self, X, y, max_filter_size):\n",
    "        self.X = X\n",
    "        self.y = y\n",
    "        self.max_filter_size = max_filter_size\n",
    "\n",
    "    def __len__(self):\n",
    "        return len(self.y)\n",
    "\n",
    "    def __str__(self):\n",
    "        return f\"<Dataset(N={len(self)})>\"\n",
    "\n",
    "    def __getitem__(self, index):\n",
    "        X = self.X[index]\n",
    "        y = self.y[index]\n",
    "        return [X, y]\n",
    "\n",
    "    def collate_fn(self, batch):\n",
    "        \"\"\"Processing on a batch.\"\"\"\n",
    "        # Get inputs\n",
    "        batch = np.array(batch)\n",
    "        X = batch[:, 0]\n",
    "        y = batch[:, 1]\n",
    "\n",
    "        # Pad sequences\n",
    "        X = pad_sequences(X)\n",
    "\n",
    "        # Cast\n",
    "        X = torch.LongTensor(X.astype(np.int32))\n",
    "        y = torch.LongTensor(y.astype(np.int32))\n",
    "\n",
    "        return X, y\n",
    "\n",
    "    def create_dataloader(self, batch_size, shuffle=False, drop_last=False):\n",
    "        return torch.utils.data.DataLoader(\n",
    "            dataset=self, batch_size=batch_size, collate_fn=self.collate_fn,\n",
    "            shuffle=shuffle, drop_last=drop_last, pin_memory=True)\n"
   ]
  },
  {
   "cell_type": "code",
   "execution_count": null,
   "id": "977d95e1",
   "metadata": {
    "colab": {
     "base_uri": "https://localhost:8080/"
    },
    "id": "ILWbQOhrFnNf",
    "outputId": "52e747ea-fd69-418c-8d68-fd5857cda782"
   },
   "outputs": [
    {
     "name": "stdout",
     "output_type": "stream",
     "text": [
      "Datasets:\n",
      "  Train dataset:<Dataset(N=84000)>\n",
      "  Val dataset: <Dataset(N=18000)>\n",
      "  Test dataset: <Dataset(N=18000)>\n",
      "Sample point:\n",
      "  X: [  16 1491  285  142  114   24]\n",
      "  y: 3\n"
     ]
    }
   ],
   "source": [
    "# Create datasets\n",
    "max_filter_size = max(FILTER_SIZES)\n",
    "train_dataset = Dataset(X=X_train, y=y_train, max_filter_size=max_filter_size)\n",
    "val_dataset = Dataset(X=X_val, y=y_val, max_filter_size=max_filter_size)\n",
    "test_dataset = Dataset(X=X_test, y=y_test, max_filter_size=max_filter_size)\n",
    "print (\"Datasets:\\n\"\n",
    "    f\"  Train dataset:{train_dataset.__str__()}\\n\"\n",
    "    f\"  Val dataset: {val_dataset.__str__()}\\n\"\n",
    "    f\"  Test dataset: {test_dataset.__str__()}\\n\"\n",
    "    \"Sample point:\\n\"\n",
    "    f\"  X: {train_dataset[0][0]}\\n\"\n",
    "    f\"  y: {train_dataset[0][1]}\")"
   ]
  },
  {
   "cell_type": "code",
   "execution_count": null,
   "id": "96d94bd5",
   "metadata": {
    "colab": {
     "base_uri": "https://localhost:8080/"
    },
    "id": "aVU5OALCFqKK",
    "outputId": "860c78b3-ab8e-44d9-84cb-b94d95fcebbe"
   },
   "outputs": [
    {
     "name": "stdout",
     "output_type": "stream",
     "text": [
      "Sample batch:\n",
      "  X: [64, 14]\n",
      "  y: [64]\n",
      "Sample point:\n",
      "  X: tensor([  16, 1491,  285,  142,  114,   24,    0,    0,    0,    0,    0,    0,\n",
      "           0,    0])\n",
      "  y: 3\n"
     ]
    },
    {
     "name": "stderr",
     "output_type": "stream",
     "text": [
      "/usr/local/lib/python3.7/dist-packages/ipykernel_launcher.py:21: VisibleDeprecationWarning: Creating an ndarray from ragged nested sequences (which is a list-or-tuple of lists-or-tuples-or ndarrays with different lengths or shapes) is deprecated. If you meant to do this, you must specify 'dtype=object' when creating the ndarray.\n"
     ]
    }
   ],
   "source": [
    "# Create dataloaders\n",
    "batch_size = 64\n",
    "train_dataloader = train_dataset.create_dataloader(batch_size=batch_size)\n",
    "val_dataloader = val_dataset.create_dataloader(batch_size=batch_size)\n",
    "test_dataloader = test_dataset.create_dataloader(batch_size=batch_size)\n",
    "batch_X, batch_y = next(iter(train_dataloader))\n",
    "print (\"Sample batch:\\n\"\n",
    "    f\"  X: {list(batch_X.size())}\\n\"\n",
    "    f\"  y: {list(batch_y.size())}\\n\"\n",
    "    \"Sample point:\\n\"\n",
    "    f\"  X: {batch_X[0]}\\n\"\n",
    "    f\"  y: {batch_y[0]}\")"
   ]
  },
  {
   "cell_type": "code",
   "execution_count": null,
   "id": "ecdf35ac",
   "metadata": {
    "id": "ZYAnuwKOIq0d"
   },
   "outputs": [],
   "source": [
    "import math\n",
    "import torch.nn.functional as F"
   ]
  },
  {
   "cell_type": "code",
   "execution_count": null,
   "id": "3f8ea58a",
   "metadata": {
    "id": "UhYdq6XcIsKW"
   },
   "outputs": [],
   "source": [
    "EMBEDDING_DIM = 100\n",
    "HIDDEN_DIM = 100\n",
    "DROPOUT_P = 0.1"
   ]
  },
  {
   "cell_type": "code",
   "execution_count": null,
   "id": "d68daae8",
   "metadata": {
    "id": "RXPOCt3bIvI7"
   },
   "outputs": [],
   "source": [
    "class CNN(nn.Module):\n",
    "    def __init__(self, embedding_dim, vocab_size, num_filters,\n",
    "                 filter_sizes, hidden_dim, dropout_p, num_classes,\n",
    "                 pretrained_embeddings=None, freeze_embeddings=False,\n",
    "                 padding_idx=0):\n",
    "        super(CNN, self).__init__()\n",
    "\n",
    "        # Filter sizes\n",
    "        self.filter_sizes = filter_sizes\n",
    "\n",
    "        # Initialize embeddings\n",
    "        if pretrained_embeddings is None:\n",
    "            self.embeddings = nn.Embedding(\n",
    "                embedding_dim=embedding_dim, num_embeddings=vocab_size,\n",
    "                padding_idx=padding_idx)\n",
    "        else:\n",
    "            pretrained_embeddings = torch.from_numpy(pretrained_embeddings).float()\n",
    "            self.embeddings = nn.Embedding(\n",
    "                embedding_dim=embedding_dim, num_embeddings=vocab_size,\n",
    "                padding_idx=padding_idx, _weight=pretrained_embeddings)\n",
    "\n",
    "        # Freeze embeddings or not\n",
    "        if freeze_embeddings:\n",
    "            self.embeddings.weight.requires_grad = False\n",
    "\n",
    "        # Conv weights\n",
    "        self.conv = nn.ModuleList(\n",
    "            [nn.Conv1d(in_channels=embedding_dim,\n",
    "                       out_channels=num_filters,\n",
    "                       kernel_size=f) for f in filter_sizes])\n",
    "\n",
    "        # FC weights\n",
    "        self.dropout = nn.Dropout(dropout_p)\n",
    "        self.fc1 = nn.Linear(num_filters*len(filter_sizes), hidden_dim)\n",
    "        self.fc2 = nn.Linear(hidden_dim, num_classes)\n",
    "\n",
    "    def forward(self, inputs, channel_first=False):\n",
    "\n",
    "        # Embed\n",
    "        x_in, = inputs\n",
    "        x_in = self.embeddings(x_in)\n",
    "\n",
    "        # Rearrange input so num_channels is in dim 1 (N, C, L)\n",
    "        if not channel_first:\n",
    "            x_in = x_in.transpose(1, 2)\n",
    "\n",
    "        # Conv outputs\n",
    "        z = []\n",
    "        max_seq_len = x_in.shape[2]\n",
    "        for i, f in enumerate(self.filter_sizes):\n",
    "            # `SAME` padding\n",
    "            padding_left = int((self.conv[i].stride[0]*(max_seq_len-1) - max_seq_len + self.filter_sizes[i])/2)\n",
    "            padding_right = int(math.ceil((self.conv[i].stride[0]*(max_seq_len-1) - max_seq_len + self.filter_sizes[i])/2))\n",
    "\n",
    "            # Conv + pool\n",
    "            _z = self.conv[i](F.pad(x_in, (padding_left, padding_right)))\n",
    "            _z = F.max_pool1d(_z, _z.size(2)).squeeze(2)\n",
    "            z.append(_z)\n",
    "\n",
    "        # Concat conv outputs\n",
    "        z = torch.cat(z, 1)\n",
    "\n",
    "        # FC layers\n",
    "        z = self.fc1(z)\n",
    "        z = self.dropout(z)\n",
    "        z = self.fc2(z)\n",
    "        return z\n"
   ]
  },
  {
   "cell_type": "code",
   "execution_count": null,
   "id": "2421cef6",
   "metadata": {
    "id": "8t4Rujw9OwE8"
   },
   "outputs": [],
   "source": [
    "def load_glove_embeddings(embeddings_file):\n",
    "    \"\"\"Load embeddings from a file.\"\"\"\n",
    "    embeddings = {}\n",
    "    with open(embeddings_file, \"r\") as fp:\n",
    "        for index, line in enumerate(fp):\n",
    "            values = line.split()\n",
    "            word = values[0]\n",
    "            embedding = np.asarray(values[1:], dtype='float32')\n",
    "            embeddings[word] = embedding\n",
    "    return embeddings"
   ]
  },
  {
   "cell_type": "code",
   "execution_count": null,
   "id": "88688fd2",
   "metadata": {
    "id": "3-z20z_jOz-6"
   },
   "outputs": [],
   "source": [
    "def make_embeddings_matrix(embeddings, word_index, embedding_dim):\n",
    "    \"\"\"Create embeddings matrix to use in Embedding layer.\"\"\"\n",
    "    embedding_matrix = np.zeros((len(word_index), embedding_dim))\n",
    "    for word, i in word_index.items():\n",
    "        embedding_vector = embeddings.get(word)\n",
    "        if embedding_vector is not None:\n",
    "            embedding_matrix[i] = embedding_vector\n",
    "    return embedding_matrix"
   ]
  },
  {
   "cell_type": "code",
   "execution_count": null,
   "id": "9511de0f",
   "metadata": {
    "colab": {
     "base_uri": "https://localhost:8080/"
    },
    "id": "-axf5AkEO2cJ",
    "outputId": "9e063edd-20f4-428e-fdb9-7c5d0a783efb"
   },
   "outputs": [
    {
     "name": "stdout",
     "output_type": "stream",
     "text": [
      "<Embeddings(words=5000, dim=100)>\n"
     ]
    }
   ],
   "source": [
    "# Create embeddings\n",
    "embeddings_file = 'glove.6B.{0}d.txt'.format(EMBEDDING_DIM)\n",
    "glove_embeddings = load_glove_embeddings(embeddings_file=embeddings_file)\n",
    "embedding_matrix = make_embeddings_matrix(\n",
    "    embeddings=glove_embeddings, word_index=tokenizer.token_to_index,\n",
    "    embedding_dim=EMBEDDING_DIM)\n",
    "print (f\"<Embeddings(words={embedding_matrix.shape[0]}, dim={embedding_matrix.shape[1]})>\")"
   ]
  },
  {
   "cell_type": "code",
   "execution_count": null,
   "id": "497d4210",
   "metadata": {
    "id": "xAumI9qcO-_f"
   },
   "outputs": [],
   "source": [
    "from string import punctuation\n",
    "from collections import Counter\n",
    "import numpy as np\n",
    "import torch\n",
    "from torch.utils.data import DataLoader, TensorDataset\n",
    "import torch.nn as nn\n",
    "\n",
    "\n",
    "def reviews_preprocess(reviews, labels):\n",
    "    \"\"\"\n",
    "    Remove punctuation from review data and replace multiple space with single space.\n",
    "    Map labels from positive/negative to 1/0.\n",
    "\n",
    "    Parameters\n",
    "    ----------\n",
    "    reviews: list of reviews\n",
    "    labels: list of labels\n",
    "    Returns\n",
    "    -------\n",
    "    all_reviews: reviews with punctuation removed\n",
    "    all_words: list of all words occurring in the reviews\n",
    "    labels: labels with 1 for positive and 0 for negative\n",
    "    \"\"\"\n",
    "    all_reviews = list()\n",
    "    for text in reviews:\n",
    "        text = text.lower()\n",
    "        text = \"\".join([ch for ch in text if ch not in punctuation])\n",
    "        # replace multiple spaces with single space\n",
    "        text = \" \".join(text.split())\n",
    "        all_reviews.append(text)\n",
    "    all_text = \" \".join(all_reviews)\n",
    "    all_words = all_text.split()\n",
    "\n",
    "    # map labels: \"positive\" = 1 and \"negative\" = 0\n",
    "    labels = [1 if label.strip() == \"positive\" else 0 for label in labels]\n",
    "\n",
    "    return all_reviews, all_words, labels\n",
    "\n",
    "\n",
    "def reviews_create_word_ids(all_words):\n",
    "    \"\"\"\n",
    "    Creates a dictionary mapping each word to an unique id.\n",
    "    Parameters\n",
    "    ----------\n",
    "    all_words: list of all words occurring in the data\n",
    "    Returns\n",
    "    -------\n",
    "    dictionary with word as key and corresponding id as value\n",
    "    \"\"\"\n",
    "    count_words = Counter(all_words)\n",
    "    total_words = len(all_words)\n",
    "    sorted_words = count_words.most_common(total_words)\n",
    "    word_ids = {w: i + 1 for i, (w, c) in enumerate(sorted_words)}\n",
    "    return word_ids\n",
    "\n",
    "\n",
    "def reviews_encode(word_ids, reviews):\n",
    "    \"\"\"\n",
    "    Replace each word in the review with its corresponding id specified in the\n",
    "    dictionary word_ids\n",
    "\n",
    "    Parameters\n",
    "    ----------\n",
    "    word_ids: dictionary with word as key and id as value\n",
    "    reviews: review data\n",
    "\n",
    "    Returns\n",
    "    -------\n",
    "    review data with each word replaced by its corresponding id\n",
    "\n",
    "    \"\"\"\n",
    "    encoded_reviews = list()\n",
    "    for review in reviews:\n",
    "        encoded_review = list()\n",
    "        for word in review.split():\n",
    "            if word not in word_ids.keys():\n",
    "                # if word is not available in word_ids put 0 in that place\n",
    "                encoded_review.append(0)\n",
    "            else:\n",
    "                encoded_review.append(word_ids[word])\n",
    "        encoded_reviews.append(encoded_review)\n",
    "\n",
    "    return encoded_reviews\n",
    "\n",
    "\n",
    "def reviews_pad(encoded_reviews, sequence_length):\n",
    "    \"\"\"\n",
    "    Pad/truncate encoded reviews to the same sequence length, by adding zeros at the\n",
    "    beginning or cutting the end.\n",
    "\n",
    "    Parameters\n",
    "    ----------\n",
    "    encoded_reviews: review data with each word encoded with corresponding id\n",
    "    sequence_length: length to pad/truncate the reviews to\n",
    "\n",
    "    Returns\n",
    "    -------\n",
    "    Encoded reviews padded/truncated to sequence_length\n",
    "\n",
    "    \"\"\"\n",
    "    padded_reviews = np.zeros((len(encoded_reviews), sequence_length), dtype=int)\n",
    "    for i, review in enumerate(encoded_reviews):\n",
    "        review_len = len(review)\n",
    "        if review_len <= sequence_length:\n",
    "            zeros = list(np.zeros(sequence_length - review_len, dtype=int))\n",
    "            new = zeros + review\n",
    "        else:\n",
    "            new = review[:sequence_length]\n",
    "        padded_reviews[i, :] = np.array(new)\n",
    "    return padded_reviews\n",
    "\n",
    "\n",
    "def reviews_split(padded_reviews, labels):\n",
    "    \"\"\"\n",
    "    Splits data into train, validation and test set with a 80, 10, 10 split.\n",
    "\n",
    "    Parameters\n",
    "    ----------\n",
    "    padded_reviews: reviews padded to the same sequence length\n",
    "    labels: labels correspoding to reviews\n",
    "\n",
    "    Returns\n",
    "    -------\n",
    "    train_x: Training data\n",
    "    train_y: Training labels\n",
    "    valid_x: Validation data\n",
    "    valid_y: Validation labels\n",
    "    test_x: Test data\n",
    "    test_y: Test labels\n",
    "    \"\"\"\n",
    "    train_x = padded_reviews[: int(0.8 * len(padded_reviews))]\n",
    "    train_y = labels[: int(0.8 * len(padded_reviews))]\n",
    "    valid_x = padded_reviews[\n",
    "        int(0.8 * len(padded_reviews)) : int(0.9 * len(padded_reviews))\n",
    "    ]\n",
    "    valid_y = labels[int(0.8 * len(padded_reviews)) : int(0.9 * len(padded_reviews))]\n",
    "    test_x = padded_reviews[int(0.9 * len(padded_reviews)) :]\n",
    "    test_y = labels[int(0.9 * len(padded_reviews)) :]\n",
    "    return train_x, train_y, valid_x, valid_y, test_x, test_y\n"
   ]
  },
  {
   "cell_type": "code",
   "execution_count": null,
   "id": "132c7abc",
   "metadata": {
    "colab": {
     "base_uri": "https://localhost:8080/"
    },
    "id": "h9s8CfxOtf46",
    "outputId": "e48ad7f1-ded7-4207-cdf6-9097066047ef"
   },
   "outputs": [
    {
     "name": "stdout",
     "output_type": "stream",
     "text": [
      "user when a father is dysfunctional and is so selfish he drags his kids into his dysfunction run\n",
      "First ten words:  ['user', 'when', 'a', 'father', 'is', 'dysfunctional', 'and', 'is', 'so', 'selfish']\n",
      "First label:  0\n"
     ]
    }
   ],
   "source": [
    "reviews_lines = df_hate_speech[\"tweet\"]\n",
    "label_lines = df_hate_speech[\"tweet\"]\n",
    "raw_reviews, words, labels = reviews_preprocess(reviews_lines, label_lines)\n",
    "print(raw_reviews[0])\n",
    "print(\"First ten words: \", words[:10])\n",
    "print(\"First label: \", labels[0])"
   ]
  },
  {
   "cell_type": "code",
   "execution_count": null,
   "id": "730e6a79",
   "metadata": {
    "colab": {
     "base_uri": "https://localhost:8080/"
    },
    "id": "CTwfoM6KuFUL",
    "outputId": "72c677c0-34f9-4651-a5a1-1516ea3af45c"
   },
   "outputs": [
    {
     "name": "stdout",
     "output_type": "stream",
     "text": [
      "2\n",
      "499\n"
     ]
    }
   ],
   "source": [
    "# Determine an integer id for each unique word\n",
    "word_ids = reviews_create_word_ids(words)\n",
    "print(word_ids.get(\"the\"))\n",
    "print(word_ids.get(\"movie\"))"
   ]
  },
  {
   "cell_type": "code",
   "execution_count": null,
   "id": "f5dc0a82",
   "metadata": {
    "colab": {
     "base_uri": "https://localhost:8080/"
    },
    "id": "JaAB9iImuKZq",
    "outputId": "1c3dff51-8375-4d3b-90f7-7133d052cb63"
   },
   "outputs": [
    {
     "name": "stdout",
     "output_type": "stream",
     "text": [
      "user when a father is dysfunctional and is so selfish he drags his kids into his dysfunction run\n",
      "[1, 34, 4, 261, 10, 16392, 7, 10, 20, 3338, 100, 6525, 93, 254, 253, 93, 7974, 472]\n"
     ]
    }
   ],
   "source": [
    "# Encode each word in the review by its unique identifier\n",
    "encoded_reviews = reviews_encode(word_ids, raw_reviews)\n",
    "print(raw_reviews[0])\n",
    "print(encoded_reviews[0])"
   ]
  },
  {
   "cell_type": "code",
   "execution_count": null,
   "id": "361fcfcd",
   "metadata": {
    "colab": {
     "base_uri": "https://localhost:8080/"
    },
    "id": "S_hvnY6CuPXZ",
    "outputId": "40979fec-70c1-495e-f932-646075b30d19"
   },
   "outputs": [
    {
     "name": "stdout",
     "output_type": "stream",
     "text": [
      "[    0     0     0     0     0     0     0     0     0     0     0     0\n",
      "     0     0     0     0     0     0     0     0     0     0     0     0\n",
      "     0     0     0     0     0     0     0     0     0     0     0     0\n",
      "     0     0     0     0     0     0     0     0     0     0     0     0\n",
      "     0     0     0     0     0     0     0     0     0     0     0     0\n",
      "     0     0     0     0     0     0     0     0     0     0     0     0\n",
      "     0     0     0     0     0     0     0     0     0     0     0     0\n",
      "     0     0     0     0     0     0     0     0     0     0     0     0\n",
      "     0     0     0     0     0     0     0     0     0     0     0     0\n",
      "     0     0     0     0     0     0     0     0     0     0     0     0\n",
      "     0     0     0     0     0     0     0     0     0     0     0     0\n",
      "     0     0     0     0     0     0     0     0     0     0     0     0\n",
      "     0     0     0     0     0     0     0     0     0     0     0     0\n",
      "     0     0     0     0     0     0     0     0     0     0     0     0\n",
      "     0     0     0     0     0     0     0     0     0     0     0     0\n",
      "     0     0     1    34     4   261    10 16392     7    10    20  3338\n",
      "   100  6525    93   254   253    93  7974   472]\n"
     ]
    }
   ],
   "source": [
    "# Padding/truncating all reviews to the same length. Although this isn't strictly\n",
    "# necessary, it facilitates batch processing: all inputs of a batch need to have the\n",
    "# same length.\n",
    "sequence_length = 200\n",
    "padded_reviews = reviews_pad(encoded_reviews, sequence_length)\n",
    "print(padded_reviews[0])"
   ]
  },
  {
   "cell_type": "code",
   "execution_count": null,
   "id": "3a0d03e5",
   "metadata": {
    "id": "BMo3nDqRuLgv"
   },
   "outputs": [],
   "source": [
    "DEVICE = \"cuda\" if torch.cuda.is_available() else \"cpu\"\n",
    "def reviews_split(padded_reviews, labels):\n",
    "    \"\"\"\n",
    "    Splits data into train, validation and test set with a 80, 10, 10 split.\n",
    "\n",
    "    Parameters\n",
    "    ----------\n",
    "    padded_reviews: reviews padded to the same sequence length\n",
    "    labels: labels correspoding to reviews\n",
    "\n",
    "    Returns\n",
    "    -------\n",
    "    train_x: Training data\n",
    "    train_y: Training labels\n",
    "    valid_x: Validation data\n",
    "    valid_y: Validation labels\n",
    "    test_x: Test data\n",
    "    test_y: Test labels\n",
    "    \"\"\"\n",
    "    train_x = padded_reviews[: int(0.8 * len(padded_reviews))]\n",
    "    train_y = labels[: int(0.8 * len(padded_reviews))]\n",
    "    valid_x = padded_reviews[\n",
    "        int(0.8 * len(padded_reviews)) : int(0.9 * len(padded_reviews))\n",
    "    ]\n",
    "    valid_y = labels[int(0.8 * len(padded_reviews)) : int(0.9 * len(padded_reviews))]\n",
    "    test_x = padded_reviews[int(0.9 * len(padded_reviews)) :]\n",
    "    test_y = labels[int(0.9 * len(padded_reviews)) :]\n",
    "    return train_x, train_y, valid_x, valid_y, test_x, test_y\n",
    "\n",
    "\n",
    "def reviews_create_dataloaders(\n",
    "    train_x, train_y, valid_x, valid_y, test_x, test_y, batch_size=50\n",
    "):\n",
    "    \"\"\"\n",
    "    Creates PyTorch data loaders\n",
    "\n",
    "    Parameters\n",
    "    ----------\n",
    "    train_x: Training data\n",
    "    train_y: Training labels\n",
    "    valid_x: Validation data\n",
    "    valid_y: Validation labels\n",
    "    test_x: Test data\n",
    "    test_y: Test labels\n",
    "    batch_size: size of the batch\n",
    "\n",
    "    Returns\n",
    "    -------\n",
    "    PyTorch data loaders for train, validation and test\n",
    "    \"\"\"\n",
    "    # create Tensor Dataset\n",
    "    train_data = TensorDataset(torch.LongTensor(train_x), torch.IntTensor(train_y))\n",
    "    valid_data = TensorDataset(torch.LongTensor(valid_x), torch.IntTensor(valid_y))\n",
    "    test_data = TensorDataset(torch.LongTensor(test_x), torch.IntTensor(test_y))\n",
    "\n",
    "    # dataloader\n",
    "    train_loader = DataLoader(train_data, batch_size=batch_size, shuffle=True)\n",
    "    valid_loader = DataLoader(valid_data, batch_size=batch_size, shuffle=False)\n",
    "    test_loader = DataLoader(test_data, batch_size=batch_size, shuffle=False)\n",
    "    return train_loader, valid_loader, test_loader\n",
    "\n",
    "\n",
    "def reviews_train(\n",
    "    net,\n",
    "    train_loader,\n",
    "    valid_loader,\n",
    "    lr=0.01,\n",
    "    lr_decay=0.0001,\n",
    "    epochs=3,\n",
    "    clip=5,\n",
    "    print_every=5,\n",
    "    criterion=nn.BCELoss(),\n",
    "    device=DEVICE,\n",
    "):\n",
    "    \"\"\"\n",
    "    Train a network on the review data\n",
    "\n",
    "    Parameters\n",
    "    ----------\n",
    "    net: Initialized model\n",
    "    train_loader: Dataloader containing the training data\n",
    "    valid_loader: Dataloader containing the validation data\n",
    "    lr: learning rate\n",
    "    epochs: number of epochs\n",
    "    clip: clip gradients at this value\n",
    "    print_every: print current train and validation loss every x steps\n",
    "    criterion: Loss function\n",
    "    device: device to train on - cpu or cuda\n",
    "    \"\"\"\n",
    "    optimizer = torch.optim.Adagrad(\n",
    "        [param for param in net.parameters() if param.requires_grad == True], lr=lr, lr_decay=lr_decay,\n",
    "    )\n",
    "    batch_processed_counter = 0\n",
    "\n",
    "    net = net.to(device)\n",
    "    criterion = criterion.to(device)\n",
    "\n",
    "    net.train()\n",
    "\n",
    "    # train for some number of epochs\n",
    "    for e in range(epochs):\n",
    "        valid_counter = 0\n",
    "        epoch_val_losses = []\n",
    "        losses = []\n",
    "        print(\"Starting epoch\", e + 1)\n",
    "\n",
    "        # batch loop\n",
    "        for inputs, labels in train_loader:\n",
    "            batch_processed_counter += 1\n",
    "            inputs = inputs.to(device)\n",
    "            labels = labels.to(device)\n",
    "\n",
    "            # zero accumulated gradients\n",
    "            net.zero_grad()\n",
    "\n",
    "            # get the output from the model\n",
    "            # output, h = net(inputs, h)\n",
    "            output = net(inputs)\n",
    "\n",
    "            # calculate the loss and perform backprop\n",
    "            loss = criterion(output.squeeze(), labels.float())\n",
    "            losses.append(loss.item())\n",
    "            loss.backward()\n",
    "            # `clip_grad_norm` helps prevent the exploding gradient problem in RNNs /\n",
    "            # LSTMs.\n",
    "            nn.utils.clip_grad_norm_(net.parameters(), clip)\n",
    "            optimizer.step()\n",
    "\n",
    "            # loss stats\n",
    "            if batch_processed_counter % print_every == 0:\n",
    "                valid_counter += 1\n",
    "                # Get validation loss\n",
    "                val_losses = []\n",
    "                net.eval()\n",
    "                num_correct = 0\n",
    "                for inputs, labels in valid_loader:\n",
    "                    inputs = inputs.to(device)\n",
    "                    labels = labels.to(device)\n",
    "\n",
    "                    output = net(inputs)\n",
    "                    val_loss = criterion(output.squeeze(), labels.float())\n",
    "\n",
    "                    val_losses.append(val_loss.item())\n",
    "                    epoch_val_losses.append(val_loss.item())\n",
    "                    \n",
    "                    # convert output probabilities to predicted class (0 or 1)\n",
    "                    pred = torch.round(output.squeeze())  # rounds to the nearest integer\n",
    "\n",
    "                    # compare predictions to true label\n",
    "                    correct_tensor = pred.eq(labels.float().view_as(pred)).cpu()\n",
    "                    correct = np.squeeze(correct_tensor.numpy())\n",
    "                    num_correct += np.sum(correct)\n",
    "                    \n",
    "                val_acc = num_correct / len(valid_loader.dataset)\n",
    "                net.train()\n",
    "                print(\n",
    "                    \"Epoch: {:2d}/{:2d}   \".format(e + 1, epochs),\n",
    "                    \"Batch: {:2d}  \".format(batch_processed_counter),\n",
    "                    \"Batch loss: {:.6f}   \".format(loss.item()),\n",
    "                    \"Val loss: {:.6f}\".format(np.mean(val_losses)),\n",
    "                    \"Val acc: {:.6f}\".format(val_acc),\n",
    "                )\n",
    "        print(len(epoch_val_losses))\n",
    "\n",
    "        print(\n",
    "            (\n",
    "                \"Finished epoch {}. Average batch loss: {}. \"\n",
    "                \"Average validation loss: {}\"\n",
    "            ).format(e + 1, np.mean(losses), np.mean(epoch_val_losses))\n",
    "        )\n",
    "\n",
    "\n",
    "def reviews_test(net, test_loader, criterion=nn.BCELoss(), device=DEVICE):\n",
    "    \"\"\"\n",
    "    Evaluate a trained network on the review data.\n",
    "\n",
    "    Parameters\n",
    "    ----------\n",
    "    net: trained model\n",
    "    test_loader: Dataloader containing the training data\n",
    "    criterion: Loss function\n",
    "    device: device to train on - cpu or cuda\n",
    "    \"\"\"\n",
    "    test_losses = []  # track loss\n",
    "    num_correct = 0\n",
    "\n",
    "    correct = 0  # number of correct predictions\n",
    "    total = 0  # total number of examples\n",
    "\n",
    "    net.eval()\n",
    "\n",
    "    net = net.to(device)\n",
    "    criterion = criterion.to(device)\n",
    "\n",
    "    # iterate over test data\n",
    "    for inputs, labels in test_loader:\n",
    "        inputs = inputs.to(device)\n",
    "        labels = labels.to(device)\n",
    "\n",
    "        output = net(inputs)\n",
    "\n",
    "        # calculate loss\n",
    "        test_loss = criterion(output.squeeze(), labels.float())\n",
    "        test_losses.append(test_loss.item())\n",
    "\n",
    "        # convert output probabilities to predicted class (0 or 1)\n",
    "        pred = torch.round(output.squeeze())  # rounds to the nearest integer\n",
    "\n",
    "        # compare predictions to true label\n",
    "        correct_tensor = pred.eq(labels.float().view_as(pred)).cpu()\n",
    "        correct = np.squeeze(correct_tensor.numpy())\n",
    "        num_correct += np.sum(correct)\n",
    "\n",
    "        total += labels.shape[0]\n",
    "\n",
    "\n",
    "    # -- stats! -- ##\n",
    "    # avg test loss\n",
    "    print(\"Test loss: {:.3f}\".format(np.mean(test_losses)))\n",
    "\n",
    "    # accuracy over all test data\n",
    "    test_acc = num_correct / len(test_loader.dataset)\n",
    "    print(\"Test accuracy: {:.3f}\".format(test_acc))\n"
   ]
  },
  {
   "cell_type": "code",
   "execution_count": null,
   "id": "612c3d41",
   "metadata": {
    "colab": {
     "base_uri": "https://localhost:8080/"
    },
    "id": "pFRoX9Uqubqg",
    "outputId": "501b128e-d32d-470d-88f9-2b3c70b0f14f"
   },
   "outputs": [
    {
     "name": "stdout",
     "output_type": "stream",
     "text": [
      "25569 3196 3197\n"
     ]
    }
   ],
   "source": [
    "# Split dataset into 80% training, 10% test, and 10% validation Dataset\n",
    "train_x, train_y, valid_x, valid_y, test_x, test_y = reviews_split(\n",
    "    padded_reviews, labels\n",
    ")\n",
    "print(len(train_y), len(valid_y), len(test_y))"
   ]
  },
  {
   "cell_type": "code",
   "execution_count": null,
   "id": "fe1b4304",
   "metadata": {
    "id": "JwzpjuXYuwEw"
   },
   "outputs": [],
   "source": [
    "# Create data loaders for training\n",
    "train_loader, valid_loader, test_loader = reviews_create_dataloaders(\n",
    "    train_x, train_y, valid_x, valid_y, test_x, test_y\n",
    ")"
   ]
  },
  {
   "cell_type": "code",
   "execution_count": null,
   "id": "a2ea01d1",
   "metadata": {
    "id": "6ZDPuV2fu312"
   },
   "outputs": [],
   "source": [
    "# ME\n",
    "class SimpleLSTM(nn.Module):\n",
    "    \"\"\"\n",
    "    The RNN model that will be used to perform sentiment analysis.\n",
    "    \"\"\"\n",
    "\n",
    "    def __init__(\n",
    "        self,\n",
    "        vocab_size,\n",
    "        embedding_dim,\n",
    "        hidden_dim,\n",
    "        num_layers=1,\n",
    "        lstm_dropout_prob=0.5,\n",
    "        dropout_prob=0.3,\n",
    "    ):\n",
    "        \"\"\"\n",
    "        Initialize the model by setting up the layers\n",
    "\n",
    "        Parameters\n",
    "        ----------\n",
    "        vocab_size: number of unique words in the reviews\n",
    "        embeddings_dim: size of the embeddings\n",
    "        hidden_dim: dimension of the LSTM output\n",
    "        num_layers: number of LSTM layers\n",
    "        lstm_dropout_prob: dropout applied between the LSTM layers\n",
    "        dropout_prob: dropout applied before the fully connected layer\n",
    "        \"\"\"\n",
    "        super().__init__()\n",
    "\n",
    "        self.num_layers = num_layers\n",
    "        self.hidden_dim = hidden_dim\n",
    "        self.embedding = nn.Embedding(vocab_size, embedding_dim)\n",
    "        self.lstm = nn.LSTM(embedding_dim, hidden_dim, num_layers, dropout=lstm_dropout_prob, batch_first=True)\n",
    "        self.dropout = nn.Dropout(dropout_prob)\n",
    "        self.fc = nn.Linear(hidden_dim, 1)\n",
    "        self.sigmoid = nn.Sigmoid()\n",
    "\n",
    "        # YOUR CODE HERE\n",
    "\n",
    "    def forward(self, x):\n",
    "        \"\"\"\n",
    "        Perform a forward pass of our model on some input and hidden state.\n",
    "\n",
    "        Parameters\n",
    "        ----------\n",
    "        x: batch as a (batch_size, sequence_length) tensor\n",
    "\n",
    "        Returns\n",
    "        -------\n",
    "        Probability of positive class.\n",
    "        \"\"\"\n",
    "        # init hidden layer, which is needed for the LSTM\n",
    "        batch_size = len(x)\n",
    "        hidden = self.init_hidden(batch_size)\n",
    "        # YOUR CODE HERE\n",
    "        #x = x.long()\n",
    "        embeds = self.embedding(x)\n",
    "        lstm_out, hidden = self.lstm(embeds, hidden)\n",
    "        lstm_out = lstm_out.contiguous().view(-1, self.hidden_dim)\n",
    "        \n",
    "        out = self.dropout(lstm_out)\n",
    "        out = self.fc(out)\n",
    "        out = self.sigmoid(out)\n",
    "        \n",
    "        out = out.view(batch_size, -1)\n",
    "        out = out[:,-1]\n",
    "        return out        \n",
    "\n",
    "    def init_hidden(self, batch_size):\n",
    "        \"\"\"\n",
    "        Initialize hidden state.\n",
    "\n",
    "        Returns\n",
    "        -------\n",
    "        Empty hidden LSTM state.\n",
    "        \"\"\"\n",
    "\n",
    "        # Create two new tensors with sizes num_layers x batch_size x hidden_dim,\n",
    "        # initialized to zero, for hidden state and cell state of LSTM\n",
    "        weight = next(self.parameters())  # only used to determine device\n",
    "\n",
    "        hidden = (\n",
    "            weight.new(self.num_layers, batch_size, self.hidden_dim).zero_(),\n",
    "            weight.new(self.num_layers, batch_size, self.hidden_dim).zero_(),\n",
    "        )\n",
    "\n",
    "        return hidden"
   ]
  },
  {
   "cell_type": "code",
   "execution_count": null,
   "id": "40f4c95e",
   "metadata": {
    "colab": {
     "base_uri": "https://localhost:8080/"
    },
    "id": "dKts2FzTu-W3",
    "outputId": "b2954c41-6f17-4125-b0a4-bdb294b7a153"
   },
   "outputs": [
    {
     "name": "stderr",
     "output_type": "stream",
     "text": [
      "/usr/local/lib/python3.7/dist-packages/torch/nn/modules/rnn.py:65: UserWarning: dropout option adds dropout after all but last recurrent layer, so non-zero dropout expects num_layers greater than 1, but got dropout=0.5 and num_layers=1\n",
      "  \"num_layers={}\".format(dropout, num_layers))\n"
     ]
    }
   ],
   "source": [
    "# Instantiate the model w/ hyperparams\n",
    "vocab_size = len(word_ids) + 1  # +1 for the 0 padding\n",
    "embedding_dim = 100\n",
    "hidden_dim = 64\n",
    "num_layers = 1\n",
    "\n",
    "\n",
    "# this may raise a warning when num_layers=1 (which is fine)\n",
    "# make sure to reinizialize the model if you want to train multiple times\n",
    "model = SimpleLSTM(vocab_size, embedding_dim, hidden_dim, num_layers).to(DEVICE)"
   ]
  },
  {
   "cell_type": "code",
   "execution_count": null,
   "id": "9f1df882",
   "metadata": {
    "id": "BmXl1IFcwPfG"
   },
   "outputs": [],
   "source": [
    "embeddings = nn.Embedding(len(word_ids) + 1, 100).to(DEVICE)"
   ]
  },
  {
   "cell_type": "code",
   "execution_count": null,
   "id": "866ee00f",
   "metadata": {
    "id": "CvnLlE_3wk0p"
   },
   "outputs": [],
   "source": [
    "@torch.no_grad()\n",
    "def reviews_load_embeddings(\n",
    "    embedding_layer, word_ids, pretrained_embeddings_file=\"data/word-embeddings.txt\"\n",
    "):\n",
    "    \"\"\"Load pretrained embeddings into an embedding layer.\n",
    "\n",
    "    Updates the weights of the embedding layer with with the embeddings given in the\n",
    "    provided word embeddings file.\n",
    "\n",
    "    Parameters\n",
    "    ----------\n",
    "    embedding_layer: torch.nn.Embedding used in the model\n",
    "    word_ids: dictionary mapping each word to its unique identifier\n",
    "    pretrained_embeddings_file: path to the file containing pretrained embeddings\n",
    "\n",
    "    \"\"\"\n",
    "    print(\"Initializing embedding layer with pretrained word embeddings...\")\n",
    "    embeddings_index = dict()\n",
    "    words_initialized = 0\n",
    "    with open(pretrained_embeddings_file, encoding=\"utf8\") as f:\n",
    "        for line in f:\n",
    "            values = line.split()\n",
    "            word = values[0]\n",
    "            encoded_word = word_ids.get(word)\n",
    "            if encoded_word is not None:\n",
    "                words_initialized += 1\n",
    "                embedding_layer.weight[encoded_word, :] = torch.from_numpy(\n",
    "                    np.asarray(values[1:], dtype=\"float32\")\n",
    "                )\n",
    "    print(\n",
    "        \"Initialized {}/{} word embeddings\".format(\n",
    "            words_initialized, embedding_layer.num_embeddings\n",
    "        )\n",
    "    )"
   ]
  },
  {
   "cell_type": "code",
   "execution_count": null,
   "id": "3541da83",
   "metadata": {
    "colab": {
     "base_uri": "https://localhost:8080/"
    },
    "id": "WvgzGZ60wSSM",
    "outputId": "38eacbcc-751a-4b3b-c450-4cff22c335d2"
   },
   "outputs": [
    {
     "name": "stdout",
     "output_type": "stream",
     "text": [
      "Initializing embedding layer with pretrained word embeddings...\n",
      "Initialized 20948/47522 word embeddings\n"
     ]
    }
   ],
   "source": [
    "reviews_load_embeddings(embeddings, word_ids, embeddings_file )"
   ]
  },
  {
   "cell_type": "code",
   "execution_count": null,
   "id": "f367ed9d",
   "metadata": {
    "colab": {
     "base_uri": "https://localhost:8080/"
    },
    "id": "0Mc6ubOXw3fF",
    "outputId": "c3fe57fb-05d7-4f33-f8e9-dd13d53c831e"
   },
   "outputs": [
    {
     "name": "stderr",
     "output_type": "stream",
     "text": [
      "/usr/local/lib/python3.7/dist-packages/torch/nn/modules/rnn.py:65: UserWarning: dropout option adds dropout after all but last recurrent layer, so non-zero dropout expects num_layers greater than 1, but got dropout=0.5 and num_layers=1\n",
      "  \"num_layers={}\".format(dropout, num_layers))\n"
     ]
    },
    {
     "name": "stdout",
     "output_type": "stream",
     "text": [
      "Starting epoch 1\n",
      "Epoch:  1/ 5    Batch:  5   Batch loss: 0.040715    Val loss: 0.020985 Val acc: 1.000000\n",
      "Epoch:  1/ 5    Batch: 10   Batch loss: 0.008147    Val loss: 0.006501 Val acc: 1.000000\n",
      "Epoch:  1/ 5    Batch: 15   Batch loss: 0.004446    Val loss: 0.004354 Val acc: 1.000000\n",
      "Epoch:  1/ 5    Batch: 20   Batch loss: 0.004189    Val loss: 0.003352 Val acc: 1.000000\n",
      "Epoch:  1/ 5    Batch: 25   Batch loss: 0.003335    Val loss: 0.002743 Val acc: 1.000000\n",
      "Epoch:  1/ 5    Batch: 30   Batch loss: 0.002622    Val loss: 0.002354 Val acc: 1.000000\n",
      "Epoch:  1/ 5    Batch: 35   Batch loss: 0.002305    Val loss: 0.002080 Val acc: 1.000000\n",
      "Epoch:  1/ 5    Batch: 40   Batch loss: 0.001956    Val loss: 0.001864 Val acc: 1.000000\n",
      "Epoch:  1/ 5    Batch: 45   Batch loss: 0.002153    Val loss: 0.001688 Val acc: 1.000000\n",
      "Epoch:  1/ 5    Batch: 50   Batch loss: 0.001736    Val loss: 0.001545 Val acc: 1.000000\n",
      "Epoch:  1/ 5    Batch: 55   Batch loss: 0.001545    Val loss: 0.001430 Val acc: 1.000000\n",
      "Epoch:  1/ 5    Batch: 60   Batch loss: 0.001427    Val loss: 0.001329 Val acc: 1.000000\n",
      "Epoch:  1/ 5    Batch: 65   Batch loss: 0.001458    Val loss: 0.001243 Val acc: 1.000000\n",
      "Epoch:  1/ 5    Batch: 70   Batch loss: 0.001342    Val loss: 0.001167 Val acc: 1.000000\n",
      "Epoch:  1/ 5    Batch: 75   Batch loss: 0.001269    Val loss: 0.001098 Val acc: 1.000000\n",
      "Epoch:  1/ 5    Batch: 80   Batch loss: 0.001338    Val loss: 0.001039 Val acc: 1.000000\n",
      "Epoch:  1/ 5    Batch: 85   Batch loss: 0.001289    Val loss: 0.000986 Val acc: 1.000000\n",
      "Epoch:  1/ 5    Batch: 90   Batch loss: 0.001018    Val loss: 0.000941 Val acc: 1.000000\n",
      "Epoch:  1/ 5    Batch: 95   Batch loss: 0.001011    Val loss: 0.000900 Val acc: 1.000000\n",
      "Epoch:  1/ 5    Batch: 100   Batch loss: 0.001119    Val loss: 0.000858 Val acc: 1.000000\n",
      "Epoch:  1/ 5    Batch: 105   Batch loss: 0.001149    Val loss: 0.000822 Val acc: 1.000000\n",
      "Epoch:  1/ 5    Batch: 110   Batch loss: 0.000992    Val loss: 0.000788 Val acc: 1.000000\n",
      "Epoch:  1/ 5    Batch: 115   Batch loss: 0.001057    Val loss: 0.000757 Val acc: 1.000000\n",
      "Epoch:  1/ 5    Batch: 120   Batch loss: 0.000866    Val loss: 0.000729 Val acc: 1.000000\n",
      "Epoch:  1/ 5    Batch: 125   Batch loss: 0.000904    Val loss: 0.000702 Val acc: 1.000000\n",
      "Epoch:  1/ 5    Batch: 130   Batch loss: 0.000714    Val loss: 0.000679 Val acc: 1.000000\n",
      "Epoch:  1/ 5    Batch: 135   Batch loss: 0.000866    Val loss: 0.000655 Val acc: 1.000000\n",
      "Epoch:  1/ 5    Batch: 140   Batch loss: 0.000967    Val loss: 0.000634 Val acc: 1.000000\n",
      "Epoch:  1/ 5    Batch: 145   Batch loss: 0.000699    Val loss: 0.000613 Val acc: 1.000000\n",
      "Epoch:  1/ 5    Batch: 150   Batch loss: 0.000737    Val loss: 0.000595 Val acc: 1.000000\n",
      "Epoch:  1/ 5    Batch: 155   Batch loss: 0.000750    Val loss: 0.000578 Val acc: 1.000000\n",
      "Epoch:  1/ 5    Batch: 160   Batch loss: 0.000575    Val loss: 0.000562 Val acc: 1.000000\n",
      "Epoch:  1/ 5    Batch: 165   Batch loss: 0.000679    Val loss: 0.000546 Val acc: 1.000000\n",
      "Epoch:  1/ 5    Batch: 170   Batch loss: 0.000725    Val loss: 0.000530 Val acc: 1.000000\n",
      "Epoch:  1/ 5    Batch: 175   Batch loss: 0.000597    Val loss: 0.000515 Val acc: 1.000000\n",
      "Epoch:  1/ 5    Batch: 180   Batch loss: 0.000592    Val loss: 0.000502 Val acc: 1.000000\n",
      "Epoch:  1/ 5    Batch: 185   Batch loss: 0.000566    Val loss: 0.000491 Val acc: 1.000000\n",
      "Epoch:  1/ 5    Batch: 190   Batch loss: 0.000621    Val loss: 0.000479 Val acc: 1.000000\n",
      "Epoch:  1/ 5    Batch: 195   Batch loss: 0.000556    Val loss: 0.000467 Val acc: 1.000000\n",
      "Epoch:  1/ 5    Batch: 200   Batch loss: 0.000553    Val loss: 0.000457 Val acc: 1.000000\n",
      "Epoch:  1/ 5    Batch: 205   Batch loss: 0.000617    Val loss: 0.000446 Val acc: 1.000000\n",
      "Epoch:  1/ 5    Batch: 210   Batch loss: 0.000579    Val loss: 0.000437 Val acc: 1.000000\n",
      "Epoch:  1/ 5    Batch: 215   Batch loss: 0.000566    Val loss: 0.000428 Val acc: 1.000000\n",
      "Epoch:  1/ 5    Batch: 220   Batch loss: 0.000449    Val loss: 0.000418 Val acc: 1.000000\n",
      "Epoch:  1/ 5    Batch: 225   Batch loss: 0.000504    Val loss: 0.000410 Val acc: 1.000000\n",
      "Epoch:  1/ 5    Batch: 230   Batch loss: 0.000433    Val loss: 0.000402 Val acc: 1.000000\n",
      "Epoch:  1/ 5    Batch: 235   Batch loss: 0.000486    Val loss: 0.000394 Val acc: 1.000000\n",
      "Epoch:  1/ 5    Batch: 240   Batch loss: 0.000462    Val loss: 0.000386 Val acc: 1.000000\n",
      "Epoch:  1/ 5    Batch: 245   Batch loss: 0.000510    Val loss: 0.000379 Val acc: 1.000000\n",
      "Epoch:  1/ 5    Batch: 250   Batch loss: 0.000510    Val loss: 0.000371 Val acc: 1.000000\n",
      "Epoch:  1/ 5    Batch: 255   Batch loss: 0.000421    Val loss: 0.000365 Val acc: 1.000000\n",
      "Epoch:  1/ 5    Batch: 260   Batch loss: 0.000474    Val loss: 0.000358 Val acc: 1.000000\n",
      "Epoch:  1/ 5    Batch: 265   Batch loss: 0.000482    Val loss: 0.000351 Val acc: 1.000000\n",
      "Epoch:  1/ 5    Batch: 270   Batch loss: 0.000443    Val loss: 0.000345 Val acc: 1.000000\n",
      "Epoch:  1/ 5    Batch: 275   Batch loss: 0.000430    Val loss: 0.000339 Val acc: 1.000000\n",
      "Epoch:  1/ 5    Batch: 280   Batch loss: 0.000489    Val loss: 0.000333 Val acc: 1.000000\n",
      "Epoch:  1/ 5    Batch: 285   Batch loss: 0.000390    Val loss: 0.000328 Val acc: 1.000000\n",
      "Epoch:  1/ 5    Batch: 290   Batch loss: 0.000448    Val loss: 0.000323 Val acc: 1.000000\n",
      "Epoch:  1/ 5    Batch: 295   Batch loss: 0.000444    Val loss: 0.000317 Val acc: 1.000000\n",
      "Epoch:  1/ 5    Batch: 300   Batch loss: 0.000414    Val loss: 0.000313 Val acc: 1.000000\n",
      "Epoch:  1/ 5    Batch: 305   Batch loss: 0.000431    Val loss: 0.000308 Val acc: 1.000000\n",
      "Epoch:  1/ 5    Batch: 310   Batch loss: 0.000391    Val loss: 0.000303 Val acc: 1.000000\n",
      "Epoch:  1/ 5    Batch: 315   Batch loss: 0.000343    Val loss: 0.000299 Val acc: 1.000000\n",
      "Epoch:  1/ 5    Batch: 320   Batch loss: 0.000368    Val loss: 0.000294 Val acc: 1.000000\n",
      "Epoch:  1/ 5    Batch: 325   Batch loss: 0.000416    Val loss: 0.000290 Val acc: 1.000000\n",
      "Epoch:  1/ 5    Batch: 330   Batch loss: 0.000303    Val loss: 0.000286 Val acc: 1.000000\n",
      "Epoch:  1/ 5    Batch: 335   Batch loss: 0.000321    Val loss: 0.000282 Val acc: 1.000000\n",
      "Epoch:  1/ 5    Batch: 340   Batch loss: 0.000295    Val loss: 0.000278 Val acc: 1.000000\n",
      "Epoch:  1/ 5    Batch: 345   Batch loss: 0.000331    Val loss: 0.000274 Val acc: 1.000000\n",
      "Epoch:  1/ 5    Batch: 350   Batch loss: 0.000314    Val loss: 0.000271 Val acc: 1.000000\n",
      "Epoch:  1/ 5    Batch: 355   Batch loss: 0.000427    Val loss: 0.000267 Val acc: 1.000000\n",
      "Epoch:  1/ 5    Batch: 360   Batch loss: 0.000331    Val loss: 0.000264 Val acc: 1.000000\n",
      "Epoch:  1/ 5    Batch: 365   Batch loss: 0.000353    Val loss: 0.000260 Val acc: 1.000000\n",
      "Epoch:  1/ 5    Batch: 370   Batch loss: 0.000323    Val loss: 0.000257 Val acc: 1.000000\n",
      "Epoch:  1/ 5    Batch: 375   Batch loss: 0.000296    Val loss: 0.000253 Val acc: 1.000000\n",
      "Epoch:  1/ 5    Batch: 380   Batch loss: 0.000317    Val loss: 0.000250 Val acc: 1.000000\n",
      "Epoch:  1/ 5    Batch: 385   Batch loss: 0.000259    Val loss: 0.000247 Val acc: 1.000000\n",
      "Epoch:  1/ 5    Batch: 390   Batch loss: 0.000251    Val loss: 0.000244 Val acc: 1.000000\n",
      "Epoch:  1/ 5    Batch: 395   Batch loss: 0.000259    Val loss: 0.000241 Val acc: 1.000000\n",
      "Epoch:  1/ 5    Batch: 400   Batch loss: 0.000281    Val loss: 0.000238 Val acc: 1.000000\n",
      "Epoch:  1/ 5    Batch: 405   Batch loss: 0.000396    Val loss: 0.000235 Val acc: 1.000000\n",
      "Epoch:  1/ 5    Batch: 410   Batch loss: 0.000307    Val loss: 0.000233 Val acc: 1.000000\n",
      "Epoch:  1/ 5    Batch: 415   Batch loss: 0.000312    Val loss: 0.000230 Val acc: 1.000000\n",
      "Epoch:  1/ 5    Batch: 420   Batch loss: 0.000313    Val loss: 0.000227 Val acc: 1.000000\n",
      "Epoch:  1/ 5    Batch: 425   Batch loss: 0.000250    Val loss: 0.000225 Val acc: 1.000000\n",
      "Epoch:  1/ 5    Batch: 430   Batch loss: 0.000298    Val loss: 0.000222 Val acc: 1.000000\n",
      "Epoch:  1/ 5    Batch: 435   Batch loss: 0.000252    Val loss: 0.000220 Val acc: 1.000000\n",
      "Epoch:  1/ 5    Batch: 440   Batch loss: 0.000284    Val loss: 0.000218 Val acc: 1.000000\n",
      "Epoch:  1/ 5    Batch: 445   Batch loss: 0.000244    Val loss: 0.000215 Val acc: 1.000000\n",
      "Epoch:  1/ 5    Batch: 450   Batch loss: 0.000275    Val loss: 0.000213 Val acc: 1.000000\n",
      "Epoch:  1/ 5    Batch: 455   Batch loss: 0.000395    Val loss: 0.000210 Val acc: 1.000000\n",
      "Epoch:  1/ 5    Batch: 460   Batch loss: 0.000265    Val loss: 0.000208 Val acc: 1.000000\n",
      "Epoch:  1/ 5    Batch: 465   Batch loss: 0.000325    Val loss: 0.000206 Val acc: 1.000000\n",
      "Epoch:  1/ 5    Batch: 470   Batch loss: 0.000236    Val loss: 0.000204 Val acc: 1.000000\n",
      "Epoch:  1/ 5    Batch: 475   Batch loss: 0.000235    Val loss: 0.000202 Val acc: 1.000000\n",
      "Epoch:  1/ 5    Batch: 480   Batch loss: 0.000229    Val loss: 0.000200 Val acc: 1.000000\n",
      "Epoch:  1/ 5    Batch: 485   Batch loss: 0.000243    Val loss: 0.000198 Val acc: 1.000000\n",
      "Epoch:  1/ 5    Batch: 490   Batch loss: 0.000273    Val loss: 0.000196 Val acc: 1.000000\n",
      "Epoch:  1/ 5    Batch: 495   Batch loss: 0.000258    Val loss: 0.000194 Val acc: 1.000000\n",
      "Epoch:  1/ 5    Batch: 500   Batch loss: 0.000282    Val loss: 0.000192 Val acc: 1.000000\n",
      "Epoch:  1/ 5    Batch: 505   Batch loss: 0.000259    Val loss: 0.000190 Val acc: 1.000000\n",
      "Epoch:  1/ 5    Batch: 510   Batch loss: 0.000279    Val loss: 0.000189 Val acc: 1.000000\n",
      "6528\n",
      "Finished epoch 1. Average batch loss: 0.003853913106837581. Average validation loss: 0.0008630759947548131\n",
      "Starting epoch 2\n",
      "Epoch:  2/ 5    Batch: 515   Batch loss: 0.000222    Val loss: 0.000187 Val acc: 1.000000\n",
      "Epoch:  2/ 5    Batch: 520   Batch loss: 0.000219    Val loss: 0.000185 Val acc: 1.000000\n",
      "Epoch:  2/ 5    Batch: 525   Batch loss: 0.000188    Val loss: 0.000184 Val acc: 1.000000\n",
      "Epoch:  2/ 5    Batch: 530   Batch loss: 0.000293    Val loss: 0.000182 Val acc: 1.000000\n",
      "Epoch:  2/ 5    Batch: 535   Batch loss: 0.000217    Val loss: 0.000180 Val acc: 1.000000\n",
      "Epoch:  2/ 5    Batch: 540   Batch loss: 0.000221    Val loss: 0.000179 Val acc: 1.000000\n",
      "Epoch:  2/ 5    Batch: 545   Batch loss: 0.000195    Val loss: 0.000177 Val acc: 1.000000\n",
      "Epoch:  2/ 5    Batch: 550   Batch loss: 0.000227    Val loss: 0.000176 Val acc: 1.000000\n",
      "Epoch:  2/ 5    Batch: 555   Batch loss: 0.000210    Val loss: 0.000174 Val acc: 1.000000\n",
      "Epoch:  2/ 5    Batch: 560   Batch loss: 0.000262    Val loss: 0.000173 Val acc: 1.000000\n",
      "Epoch:  2/ 5    Batch: 565   Batch loss: 0.000218    Val loss: 0.000171 Val acc: 1.000000\n",
      "Epoch:  2/ 5    Batch: 570   Batch loss: 0.000237    Val loss: 0.000170 Val acc: 1.000000\n",
      "Epoch:  2/ 5    Batch: 575   Batch loss: 0.000259    Val loss: 0.000168 Val acc: 1.000000\n",
      "Epoch:  2/ 5    Batch: 580   Batch loss: 0.000213    Val loss: 0.000167 Val acc: 1.000000\n",
      "Epoch:  2/ 5    Batch: 585   Batch loss: 0.000252    Val loss: 0.000166 Val acc: 1.000000\n",
      "Epoch:  2/ 5    Batch: 590   Batch loss: 0.000202    Val loss: 0.000164 Val acc: 1.000000\n",
      "Epoch:  2/ 5    Batch: 595   Batch loss: 0.000215    Val loss: 0.000163 Val acc: 1.000000\n",
      "Epoch:  2/ 5    Batch: 600   Batch loss: 0.000187    Val loss: 0.000162 Val acc: 1.000000\n",
      "Epoch:  2/ 5    Batch: 605   Batch loss: 0.000225    Val loss: 0.000161 Val acc: 1.000000\n",
      "Epoch:  2/ 5    Batch: 610   Batch loss: 0.000222    Val loss: 0.000159 Val acc: 1.000000\n",
      "Epoch:  2/ 5    Batch: 615   Batch loss: 0.000191    Val loss: 0.000158 Val acc: 1.000000\n",
      "Epoch:  2/ 5    Batch: 620   Batch loss: 0.000221    Val loss: 0.000157 Val acc: 1.000000\n",
      "Epoch:  2/ 5    Batch: 625   Batch loss: 0.000189    Val loss: 0.000156 Val acc: 1.000000\n",
      "Epoch:  2/ 5    Batch: 630   Batch loss: 0.000163    Val loss: 0.000154 Val acc: 1.000000\n",
      "Epoch:  2/ 5    Batch: 635   Batch loss: 0.000257    Val loss: 0.000153 Val acc: 1.000000\n",
      "Epoch:  2/ 5    Batch: 640   Batch loss: 0.000269    Val loss: 0.000152 Val acc: 1.000000\n",
      "Epoch:  2/ 5    Batch: 645   Batch loss: 0.000217    Val loss: 0.000151 Val acc: 1.000000\n",
      "Epoch:  2/ 5    Batch: 650   Batch loss: 0.000206    Val loss: 0.000150 Val acc: 1.000000\n",
      "Epoch:  2/ 5    Batch: 655   Batch loss: 0.000190    Val loss: 0.000149 Val acc: 1.000000\n",
      "Epoch:  2/ 5    Batch: 660   Batch loss: 0.000250    Val loss: 0.000147 Val acc: 1.000000\n",
      "Epoch:  2/ 5    Batch: 665   Batch loss: 0.000166    Val loss: 0.000146 Val acc: 1.000000\n",
      "Epoch:  2/ 5    Batch: 670   Batch loss: 0.000198    Val loss: 0.000145 Val acc: 1.000000\n",
      "Epoch:  2/ 5    Batch: 675   Batch loss: 0.000225    Val loss: 0.000144 Val acc: 1.000000\n",
      "Epoch:  2/ 5    Batch: 680   Batch loss: 0.000218    Val loss: 0.000143 Val acc: 1.000000\n",
      "Epoch:  2/ 5    Batch: 685   Batch loss: 0.000198    Val loss: 0.000142 Val acc: 1.000000\n",
      "Epoch:  2/ 5    Batch: 690   Batch loss: 0.000182    Val loss: 0.000141 Val acc: 1.000000\n",
      "Epoch:  2/ 5    Batch: 695   Batch loss: 0.000210    Val loss: 0.000140 Val acc: 1.000000\n",
      "Epoch:  2/ 5    Batch: 700   Batch loss: 0.000209    Val loss: 0.000139 Val acc: 1.000000\n",
      "Epoch:  2/ 5    Batch: 705   Batch loss: 0.000204    Val loss: 0.000138 Val acc: 1.000000\n",
      "Epoch:  2/ 5    Batch: 710   Batch loss: 0.000157    Val loss: 0.000138 Val acc: 1.000000\n",
      "Epoch:  2/ 5    Batch: 715   Batch loss: 0.000172    Val loss: 0.000137 Val acc: 1.000000\n",
      "Epoch:  2/ 5    Batch: 720   Batch loss: 0.000181    Val loss: 0.000136 Val acc: 1.000000\n",
      "Epoch:  2/ 5    Batch: 725   Batch loss: 0.000164    Val loss: 0.000135 Val acc: 1.000000\n",
      "Epoch:  2/ 5    Batch: 730   Batch loss: 0.000196    Val loss: 0.000134 Val acc: 1.000000\n",
      "Epoch:  2/ 5    Batch: 735   Batch loss: 0.000155    Val loss: 0.000133 Val acc: 1.000000\n",
      "Epoch:  2/ 5    Batch: 740   Batch loss: 0.000175    Val loss: 0.000132 Val acc: 1.000000\n",
      "Epoch:  2/ 5    Batch: 745   Batch loss: 0.000207    Val loss: 0.000131 Val acc: 1.000000\n",
      "Epoch:  2/ 5    Batch: 750   Batch loss: 0.000200    Val loss: 0.000130 Val acc: 1.000000\n",
      "Epoch:  2/ 5    Batch: 755   Batch loss: 0.000151    Val loss: 0.000130 Val acc: 1.000000\n",
      "Epoch:  2/ 5    Batch: 760   Batch loss: 0.000174    Val loss: 0.000129 Val acc: 1.000000\n",
      "Epoch:  2/ 5    Batch: 765   Batch loss: 0.000145    Val loss: 0.000128 Val acc: 1.000000\n",
      "Epoch:  2/ 5    Batch: 770   Batch loss: 0.000210    Val loss: 0.000127 Val acc: 1.000000\n",
      "Epoch:  2/ 5    Batch: 775   Batch loss: 0.000156    Val loss: 0.000126 Val acc: 1.000000\n",
      "Epoch:  2/ 5    Batch: 780   Batch loss: 0.000136    Val loss: 0.000126 Val acc: 1.000000\n",
      "Epoch:  2/ 5    Batch: 785   Batch loss: 0.000185    Val loss: 0.000125 Val acc: 1.000000\n",
      "Epoch:  2/ 5    Batch: 790   Batch loss: 0.000135    Val loss: 0.000124 Val acc: 1.000000\n",
      "Epoch:  2/ 5    Batch: 795   Batch loss: 0.000175    Val loss: 0.000123 Val acc: 1.000000\n",
      "Epoch:  2/ 5    Batch: 800   Batch loss: 0.000152    Val loss: 0.000123 Val acc: 1.000000\n",
      "Epoch:  2/ 5    Batch: 805   Batch loss: 0.000162    Val loss: 0.000122 Val acc: 1.000000\n",
      "Epoch:  2/ 5    Batch: 810   Batch loss: 0.000174    Val loss: 0.000121 Val acc: 1.000000\n",
      "Epoch:  2/ 5    Batch: 815   Batch loss: 0.000165    Val loss: 0.000121 Val acc: 1.000000\n",
      "Epoch:  2/ 5    Batch: 820   Batch loss: 0.000154    Val loss: 0.000120 Val acc: 1.000000\n",
      "Epoch:  2/ 5    Batch: 825   Batch loss: 0.000180    Val loss: 0.000119 Val acc: 1.000000\n",
      "Epoch:  2/ 5    Batch: 830   Batch loss: 0.000130    Val loss: 0.000119 Val acc: 1.000000\n",
      "Epoch:  2/ 5    Batch: 835   Batch loss: 0.000114    Val loss: 0.000118 Val acc: 1.000000\n",
      "Epoch:  2/ 5    Batch: 840   Batch loss: 0.000134    Val loss: 0.000117 Val acc: 1.000000\n",
      "Epoch:  2/ 5    Batch: 845   Batch loss: 0.000130    Val loss: 0.000117 Val acc: 1.000000\n",
      "Epoch:  2/ 5    Batch: 850   Batch loss: 0.000161    Val loss: 0.000116 Val acc: 1.000000\n",
      "Epoch:  2/ 5    Batch: 855   Batch loss: 0.000137    Val loss: 0.000115 Val acc: 1.000000\n",
      "Epoch:  2/ 5    Batch: 860   Batch loss: 0.000153    Val loss: 0.000115 Val acc: 1.000000\n",
      "Epoch:  2/ 5    Batch: 865   Batch loss: 0.000149    Val loss: 0.000114 Val acc: 1.000000\n",
      "Epoch:  2/ 5    Batch: 870   Batch loss: 0.000173    Val loss: 0.000113 Val acc: 1.000000\n",
      "Epoch:  2/ 5    Batch: 875   Batch loss: 0.000141    Val loss: 0.000113 Val acc: 1.000000\n",
      "Epoch:  2/ 5    Batch: 880   Batch loss: 0.000115    Val loss: 0.000112 Val acc: 1.000000\n",
      "Epoch:  2/ 5    Batch: 885   Batch loss: 0.000146    Val loss: 0.000112 Val acc: 1.000000\n",
      "Epoch:  2/ 5    Batch: 890   Batch loss: 0.000149    Val loss: 0.000111 Val acc: 1.000000\n",
      "Epoch:  2/ 5    Batch: 895   Batch loss: 0.000180    Val loss: 0.000111 Val acc: 1.000000\n",
      "Epoch:  2/ 5    Batch: 900   Batch loss: 0.000121    Val loss: 0.000110 Val acc: 1.000000\n",
      "Epoch:  2/ 5    Batch: 905   Batch loss: 0.000144    Val loss: 0.000109 Val acc: 1.000000\n",
      "Epoch:  2/ 5    Batch: 910   Batch loss: 0.000143    Val loss: 0.000109 Val acc: 1.000000\n",
      "Epoch:  2/ 5    Batch: 915   Batch loss: 0.000141    Val loss: 0.000108 Val acc: 1.000000\n",
      "Epoch:  2/ 5    Batch: 920   Batch loss: 0.000160    Val loss: 0.000108 Val acc: 1.000000\n",
      "Epoch:  2/ 5    Batch: 925   Batch loss: 0.000132    Val loss: 0.000107 Val acc: 1.000000\n",
      "Epoch:  2/ 5    Batch: 930   Batch loss: 0.000126    Val loss: 0.000107 Val acc: 1.000000\n",
      "Epoch:  2/ 5    Batch: 935   Batch loss: 0.000125    Val loss: 0.000106 Val acc: 1.000000\n",
      "Epoch:  2/ 5    Batch: 940   Batch loss: 0.000144    Val loss: 0.000105 Val acc: 1.000000\n",
      "Epoch:  2/ 5    Batch: 945   Batch loss: 0.000131    Val loss: 0.000105 Val acc: 1.000000\n",
      "Epoch:  2/ 5    Batch: 950   Batch loss: 0.000128    Val loss: 0.000104 Val acc: 1.000000\n",
      "Epoch:  2/ 5    Batch: 955   Batch loss: 0.000143    Val loss: 0.000104 Val acc: 1.000000\n",
      "Epoch:  2/ 5    Batch: 960   Batch loss: 0.000123    Val loss: 0.000103 Val acc: 1.000000\n",
      "Epoch:  2/ 5    Batch: 965   Batch loss: 0.000117    Val loss: 0.000103 Val acc: 1.000000\n",
      "Epoch:  2/ 5    Batch: 970   Batch loss: 0.000133    Val loss: 0.000102 Val acc: 1.000000\n",
      "Epoch:  2/ 5    Batch: 975   Batch loss: 0.000130    Val loss: 0.000102 Val acc: 1.000000\n",
      "Epoch:  2/ 5    Batch: 980   Batch loss: 0.000128    Val loss: 0.000101 Val acc: 1.000000\n",
      "Epoch:  2/ 5    Batch: 985   Batch loss: 0.000138    Val loss: 0.000101 Val acc: 1.000000\n",
      "Epoch:  2/ 5    Batch: 990   Batch loss: 0.000133    Val loss: 0.000100 Val acc: 1.000000\n",
      "Epoch:  2/ 5    Batch: 995   Batch loss: 0.000130    Val loss: 0.000100 Val acc: 1.000000\n",
      "Epoch:  2/ 5    Batch: 1000   Batch loss: 0.000126    Val loss: 0.000099 Val acc: 1.000000\n",
      "Epoch:  2/ 5    Batch: 1005   Batch loss: 0.000123    Val loss: 0.000099 Val acc: 1.000000\n",
      "Epoch:  2/ 5    Batch: 1010   Batch loss: 0.000136    Val loss: 0.000098 Val acc: 1.000000\n",
      "Epoch:  2/ 5    Batch: 1015   Batch loss: 0.000105    Val loss: 0.000098 Val acc: 1.000000\n",
      "Epoch:  2/ 5    Batch: 1020   Batch loss: 0.000147    Val loss: 0.000097 Val acc: 1.000000\n",
      "6528\n",
      "Finished epoch 2. Average batch loss: 0.00017576850348177686. Average validation loss: 0.00013248755601803257\n",
      "Starting epoch 3\n",
      "Epoch:  3/ 5    Batch: 1025   Batch loss: 0.000186    Val loss: 0.000097 Val acc: 1.000000\n",
      "Epoch:  3/ 5    Batch: 1030   Batch loss: 0.000122    Val loss: 0.000096 Val acc: 1.000000\n",
      "Epoch:  3/ 5    Batch: 1035   Batch loss: 0.000105    Val loss: 0.000096 Val acc: 1.000000\n",
      "Epoch:  3/ 5    Batch: 1040   Batch loss: 0.000119    Val loss: 0.000096 Val acc: 1.000000\n",
      "Epoch:  3/ 5    Batch: 1045   Batch loss: 0.000127    Val loss: 0.000095 Val acc: 1.000000\n",
      "Epoch:  3/ 5    Batch: 1050   Batch loss: 0.000151    Val loss: 0.000095 Val acc: 1.000000\n",
      "Epoch:  3/ 5    Batch: 1055   Batch loss: 0.000120    Val loss: 0.000094 Val acc: 1.000000\n",
      "Epoch:  3/ 5    Batch: 1060   Batch loss: 0.000157    Val loss: 0.000094 Val acc: 1.000000\n",
      "Epoch:  3/ 5    Batch: 1065   Batch loss: 0.000126    Val loss: 0.000093 Val acc: 1.000000\n",
      "Epoch:  3/ 5    Batch: 1070   Batch loss: 0.000139    Val loss: 0.000093 Val acc: 1.000000\n",
      "Epoch:  3/ 5    Batch: 1075   Batch loss: 0.000123    Val loss: 0.000093 Val acc: 1.000000\n",
      "Epoch:  3/ 5    Batch: 1080   Batch loss: 0.000123    Val loss: 0.000092 Val acc: 1.000000\n",
      "Epoch:  3/ 5    Batch: 1085   Batch loss: 0.000127    Val loss: 0.000092 Val acc: 1.000000\n",
      "Epoch:  3/ 5    Batch: 1090   Batch loss: 0.000127    Val loss: 0.000091 Val acc: 1.000000\n",
      "Epoch:  3/ 5    Batch: 1095   Batch loss: 0.000120    Val loss: 0.000091 Val acc: 1.000000\n",
      "Epoch:  3/ 5    Batch: 1100   Batch loss: 0.000140    Val loss: 0.000091 Val acc: 1.000000\n",
      "Epoch:  3/ 5    Batch: 1105   Batch loss: 0.000120    Val loss: 0.000090 Val acc: 1.000000\n",
      "Epoch:  3/ 5    Batch: 1110   Batch loss: 0.000133    Val loss: 0.000090 Val acc: 1.000000\n",
      "Epoch:  3/ 5    Batch: 1115   Batch loss: 0.000107    Val loss: 0.000089 Val acc: 1.000000\n",
      "Epoch:  3/ 5    Batch: 1120   Batch loss: 0.000117    Val loss: 0.000089 Val acc: 1.000000\n",
      "Epoch:  3/ 5    Batch: 1125   Batch loss: 0.000111    Val loss: 0.000089 Val acc: 1.000000\n",
      "Epoch:  3/ 5    Batch: 1130   Batch loss: 0.000097    Val loss: 0.000088 Val acc: 1.000000\n",
      "Epoch:  3/ 5    Batch: 1135   Batch loss: 0.000116    Val loss: 0.000088 Val acc: 1.000000\n",
      "Epoch:  3/ 5    Batch: 1140   Batch loss: 0.000131    Val loss: 0.000088 Val acc: 1.000000\n",
      "Epoch:  3/ 5    Batch: 1145   Batch loss: 0.000105    Val loss: 0.000087 Val acc: 1.000000\n",
      "Epoch:  3/ 5    Batch: 1150   Batch loss: 0.000132    Val loss: 0.000087 Val acc: 1.000000\n",
      "Epoch:  3/ 5    Batch: 1155   Batch loss: 0.000131    Val loss: 0.000086 Val acc: 1.000000\n",
      "Epoch:  3/ 5    Batch: 1160   Batch loss: 0.000154    Val loss: 0.000086 Val acc: 1.000000\n",
      "Epoch:  3/ 5    Batch: 1165   Batch loss: 0.000130    Val loss: 0.000086 Val acc: 1.000000\n",
      "Epoch:  3/ 5    Batch: 1170   Batch loss: 0.000130    Val loss: 0.000085 Val acc: 1.000000\n",
      "Epoch:  3/ 5    Batch: 1175   Batch loss: 0.000117    Val loss: 0.000085 Val acc: 1.000000\n",
      "Epoch:  3/ 5    Batch: 1180   Batch loss: 0.000122    Val loss: 0.000085 Val acc: 1.000000\n",
      "Epoch:  3/ 5    Batch: 1185   Batch loss: 0.000102    Val loss: 0.000084 Val acc: 1.000000\n",
      "Epoch:  3/ 5    Batch: 1190   Batch loss: 0.000099    Val loss: 0.000084 Val acc: 1.000000\n",
      "Epoch:  3/ 5    Batch: 1195   Batch loss: 0.000130    Val loss: 0.000084 Val acc: 1.000000\n",
      "Epoch:  3/ 5    Batch: 1200   Batch loss: 0.000117    Val loss: 0.000083 Val acc: 1.000000\n",
      "Epoch:  3/ 5    Batch: 1205   Batch loss: 0.000168    Val loss: 0.000083 Val acc: 1.000000\n",
      "Epoch:  3/ 5    Batch: 1210   Batch loss: 0.000100    Val loss: 0.000083 Val acc: 1.000000\n",
      "Epoch:  3/ 5    Batch: 1215   Batch loss: 0.000133    Val loss: 0.000082 Val acc: 1.000000\n",
      "Epoch:  3/ 5    Batch: 1220   Batch loss: 0.000131    Val loss: 0.000082 Val acc: 1.000000\n",
      "Epoch:  3/ 5    Batch: 1225   Batch loss: 0.000093    Val loss: 0.000082 Val acc: 1.000000\n",
      "Epoch:  3/ 5    Batch: 1230   Batch loss: 0.000141    Val loss: 0.000081 Val acc: 1.000000\n",
      "Epoch:  3/ 5    Batch: 1235   Batch loss: 0.000124    Val loss: 0.000081 Val acc: 1.000000\n",
      "Epoch:  3/ 5    Batch: 1240   Batch loss: 0.000094    Val loss: 0.000081 Val acc: 1.000000\n",
      "Epoch:  3/ 5    Batch: 1245   Batch loss: 0.000097    Val loss: 0.000080 Val acc: 1.000000\n",
      "Epoch:  3/ 5    Batch: 1250   Batch loss: 0.000114    Val loss: 0.000080 Val acc: 1.000000\n",
      "Epoch:  3/ 5    Batch: 1255   Batch loss: 0.000129    Val loss: 0.000080 Val acc: 1.000000\n",
      "Epoch:  3/ 5    Batch: 1260   Batch loss: 0.000102    Val loss: 0.000079 Val acc: 1.000000\n",
      "Epoch:  3/ 5    Batch: 1265   Batch loss: 0.000127    Val loss: 0.000079 Val acc: 1.000000\n",
      "Epoch:  3/ 5    Batch: 1270   Batch loss: 0.000115    Val loss: 0.000079 Val acc: 1.000000\n",
      "Epoch:  3/ 5    Batch: 1275   Batch loss: 0.000125    Val loss: 0.000079 Val acc: 1.000000\n",
      "Epoch:  3/ 5    Batch: 1280   Batch loss: 0.000100    Val loss: 0.000078 Val acc: 1.000000\n",
      "Epoch:  3/ 5    Batch: 1285   Batch loss: 0.000114    Val loss: 0.000078 Val acc: 1.000000\n",
      "Epoch:  3/ 5    Batch: 1290   Batch loss: 0.000094    Val loss: 0.000078 Val acc: 1.000000\n",
      "Epoch:  3/ 5    Batch: 1295   Batch loss: 0.000096    Val loss: 0.000077 Val acc: 1.000000\n",
      "Epoch:  3/ 5    Batch: 1300   Batch loss: 0.000115    Val loss: 0.000077 Val acc: 1.000000\n",
      "Epoch:  3/ 5    Batch: 1305   Batch loss: 0.000093    Val loss: 0.000077 Val acc: 1.000000\n",
      "Epoch:  3/ 5    Batch: 1310   Batch loss: 0.000114    Val loss: 0.000077 Val acc: 1.000000\n",
      "Epoch:  3/ 5    Batch: 1315   Batch loss: 0.000087    Val loss: 0.000076 Val acc: 1.000000\n",
      "Epoch:  3/ 5    Batch: 1320   Batch loss: 0.000104    Val loss: 0.000076 Val acc: 1.000000\n",
      "Epoch:  3/ 5    Batch: 1325   Batch loss: 0.000105    Val loss: 0.000076 Val acc: 1.000000\n",
      "Epoch:  3/ 5    Batch: 1330   Batch loss: 0.000111    Val loss: 0.000075 Val acc: 1.000000\n",
      "Epoch:  3/ 5    Batch: 1335   Batch loss: 0.000086    Val loss: 0.000075 Val acc: 1.000000\n",
      "Epoch:  3/ 5    Batch: 1340   Batch loss: 0.000087    Val loss: 0.000075 Val acc: 1.000000\n",
      "Epoch:  3/ 5    Batch: 1345   Batch loss: 0.000108    Val loss: 0.000075 Val acc: 1.000000\n",
      "Epoch:  3/ 5    Batch: 1350   Batch loss: 0.000121    Val loss: 0.000074 Val acc: 1.000000\n",
      "Epoch:  3/ 5    Batch: 1355   Batch loss: 0.000093    Val loss: 0.000074 Val acc: 1.000000\n",
      "Epoch:  3/ 5    Batch: 1360   Batch loss: 0.000104    Val loss: 0.000074 Val acc: 1.000000\n",
      "Epoch:  3/ 5    Batch: 1365   Batch loss: 0.000120    Val loss: 0.000074 Val acc: 1.000000\n",
      "Epoch:  3/ 5    Batch: 1370   Batch loss: 0.000107    Val loss: 0.000073 Val acc: 1.000000\n",
      "Epoch:  3/ 5    Batch: 1375   Batch loss: 0.000101    Val loss: 0.000073 Val acc: 1.000000\n",
      "Epoch:  3/ 5    Batch: 1380   Batch loss: 0.000105    Val loss: 0.000073 Val acc: 1.000000\n",
      "Epoch:  3/ 5    Batch: 1385   Batch loss: 0.000099    Val loss: 0.000073 Val acc: 1.000000\n",
      "Epoch:  3/ 5    Batch: 1390   Batch loss: 0.000076    Val loss: 0.000072 Val acc: 1.000000\n",
      "Epoch:  3/ 5    Batch: 1395   Batch loss: 0.000075    Val loss: 0.000072 Val acc: 1.000000\n",
      "Epoch:  3/ 5    Batch: 1400   Batch loss: 0.000103    Val loss: 0.000072 Val acc: 1.000000\n",
      "Epoch:  3/ 5    Batch: 1405   Batch loss: 0.000096    Val loss: 0.000072 Val acc: 1.000000\n",
      "Epoch:  3/ 5    Batch: 1410   Batch loss: 0.000125    Val loss: 0.000071 Val acc: 1.000000\n",
      "Epoch:  3/ 5    Batch: 1415   Batch loss: 0.000084    Val loss: 0.000071 Val acc: 1.000000\n",
      "Epoch:  3/ 5    Batch: 1420   Batch loss: 0.000085    Val loss: 0.000071 Val acc: 1.000000\n",
      "Epoch:  3/ 5    Batch: 1425   Batch loss: 0.000076    Val loss: 0.000071 Val acc: 1.000000\n",
      "Epoch:  3/ 5    Batch: 1430   Batch loss: 0.000085    Val loss: 0.000070 Val acc: 1.000000\n",
      "Epoch:  3/ 5    Batch: 1435   Batch loss: 0.000105    Val loss: 0.000070 Val acc: 1.000000\n",
      "Epoch:  3/ 5    Batch: 1440   Batch loss: 0.000109    Val loss: 0.000070 Val acc: 1.000000\n",
      "Epoch:  3/ 5    Batch: 1445   Batch loss: 0.000089    Val loss: 0.000070 Val acc: 1.000000\n",
      "Epoch:  3/ 5    Batch: 1450   Batch loss: 0.000115    Val loss: 0.000069 Val acc: 1.000000\n",
      "Epoch:  3/ 5    Batch: 1455   Batch loss: 0.000112    Val loss: 0.000069 Val acc: 1.000000\n",
      "Epoch:  3/ 5    Batch: 1460   Batch loss: 0.000090    Val loss: 0.000069 Val acc: 1.000000\n",
      "Epoch:  3/ 5    Batch: 1465   Batch loss: 0.000087    Val loss: 0.000069 Val acc: 1.000000\n",
      "Epoch:  3/ 5    Batch: 1470   Batch loss: 0.000101    Val loss: 0.000069 Val acc: 1.000000\n",
      "Epoch:  3/ 5    Batch: 1475   Batch loss: 0.000110    Val loss: 0.000068 Val acc: 1.000000\n",
      "Epoch:  3/ 5    Batch: 1480   Batch loss: 0.000084    Val loss: 0.000068 Val acc: 1.000000\n",
      "Epoch:  3/ 5    Batch: 1485   Batch loss: 0.000101    Val loss: 0.000068 Val acc: 1.000000\n",
      "Epoch:  3/ 5    Batch: 1490   Batch loss: 0.000090    Val loss: 0.000068 Val acc: 1.000000\n",
      "Epoch:  3/ 5    Batch: 1495   Batch loss: 0.000076    Val loss: 0.000067 Val acc: 1.000000\n",
      "Epoch:  3/ 5    Batch: 1500   Batch loss: 0.000108    Val loss: 0.000067 Val acc: 1.000000\n",
      "Epoch:  3/ 5    Batch: 1505   Batch loss: 0.000110    Val loss: 0.000067 Val acc: 1.000000\n",
      "Epoch:  3/ 5    Batch: 1510   Batch loss: 0.000088    Val loss: 0.000067 Val acc: 1.000000\n",
      "Epoch:  3/ 5    Batch: 1515   Batch loss: 0.000085    Val loss: 0.000067 Val acc: 1.000000\n",
      "Epoch:  3/ 5    Batch: 1520   Batch loss: 0.000091    Val loss: 0.000066 Val acc: 1.000000\n",
      "Epoch:  3/ 5    Batch: 1525   Batch loss: 0.000075    Val loss: 0.000066 Val acc: 1.000000\n",
      "Epoch:  3/ 5    Batch: 1530   Batch loss: 0.000082    Val loss: 0.000066 Val acc: 1.000000\n",
      "Epoch:  3/ 5    Batch: 1535   Batch loss: 0.000088    Val loss: 0.000066 Val acc: 1.000000\n",
      "6592\n",
      "Finished epoch 3. Average batch loss: 0.00010947744496547784. Average validation loss: 7.93054114911657e-05\n",
      "Starting epoch 4\n",
      "Epoch:  4/ 5    Batch: 1540   Batch loss: 0.000122    Val loss: 0.000066 Val acc: 1.000000\n",
      "Epoch:  4/ 5    Batch: 1545   Batch loss: 0.000086    Val loss: 0.000065 Val acc: 1.000000\n",
      "Epoch:  4/ 5    Batch: 1550   Batch loss: 0.000085    Val loss: 0.000065 Val acc: 1.000000\n",
      "Epoch:  4/ 5    Batch: 1555   Batch loss: 0.000075    Val loss: 0.000065 Val acc: 1.000000\n",
      "Epoch:  4/ 5    Batch: 1560   Batch loss: 0.000083    Val loss: 0.000065 Val acc: 1.000000\n",
      "Epoch:  4/ 5    Batch: 1565   Batch loss: 0.000096    Val loss: 0.000065 Val acc: 1.000000\n",
      "Epoch:  4/ 5    Batch: 1570   Batch loss: 0.000122    Val loss: 0.000064 Val acc: 1.000000\n",
      "Epoch:  4/ 5    Batch: 1575   Batch loss: 0.000073    Val loss: 0.000064 Val acc: 1.000000\n",
      "Epoch:  4/ 5    Batch: 1580   Batch loss: 0.000087    Val loss: 0.000064 Val acc: 1.000000\n",
      "Epoch:  4/ 5    Batch: 1585   Batch loss: 0.000086    Val loss: 0.000064 Val acc: 1.000000\n",
      "Epoch:  4/ 5    Batch: 1590   Batch loss: 0.000089    Val loss: 0.000064 Val acc: 1.000000\n",
      "Epoch:  4/ 5    Batch: 1595   Batch loss: 0.000070    Val loss: 0.000063 Val acc: 1.000000\n",
      "Epoch:  4/ 5    Batch: 1600   Batch loss: 0.000082    Val loss: 0.000063 Val acc: 1.000000\n",
      "Epoch:  4/ 5    Batch: 1605   Batch loss: 0.000079    Val loss: 0.000063 Val acc: 1.000000\n",
      "Epoch:  4/ 5    Batch: 1610   Batch loss: 0.000080    Val loss: 0.000063 Val acc: 1.000000\n",
      "Epoch:  4/ 5    Batch: 1615   Batch loss: 0.000058    Val loss: 0.000063 Val acc: 1.000000\n",
      "Epoch:  4/ 5    Batch: 1620   Batch loss: 0.000084    Val loss: 0.000063 Val acc: 1.000000\n",
      "Epoch:  4/ 5    Batch: 1625   Batch loss: 0.000086    Val loss: 0.000062 Val acc: 1.000000\n",
      "Epoch:  4/ 5    Batch: 1630   Batch loss: 0.000088    Val loss: 0.000062 Val acc: 1.000000\n",
      "Epoch:  4/ 5    Batch: 1635   Batch loss: 0.000095    Val loss: 0.000062 Val acc: 1.000000\n",
      "Epoch:  4/ 5    Batch: 1640   Batch loss: 0.000074    Val loss: 0.000062 Val acc: 1.000000\n",
      "Epoch:  4/ 5    Batch: 1645   Batch loss: 0.000130    Val loss: 0.000062 Val acc: 1.000000\n",
      "Epoch:  4/ 5    Batch: 1650   Batch loss: 0.000096    Val loss: 0.000061 Val acc: 1.000000\n",
      "Epoch:  4/ 5    Batch: 1655   Batch loss: 0.000095    Val loss: 0.000061 Val acc: 1.000000\n",
      "Epoch:  4/ 5    Batch: 1660   Batch loss: 0.000091    Val loss: 0.000061 Val acc: 1.000000\n",
      "Epoch:  4/ 5    Batch: 1665   Batch loss: 0.000085    Val loss: 0.000061 Val acc: 1.000000\n",
      "Epoch:  4/ 5    Batch: 1670   Batch loss: 0.000092    Val loss: 0.000061 Val acc: 1.000000\n",
      "Epoch:  4/ 5    Batch: 1675   Batch loss: 0.000083    Val loss: 0.000061 Val acc: 1.000000\n",
      "Epoch:  4/ 5    Batch: 1680   Batch loss: 0.000069    Val loss: 0.000060 Val acc: 1.000000\n",
      "Epoch:  4/ 5    Batch: 1685   Batch loss: 0.000084    Val loss: 0.000060 Val acc: 1.000000\n",
      "Epoch:  4/ 5    Batch: 1690   Batch loss: 0.000080    Val loss: 0.000060 Val acc: 1.000000\n",
      "Epoch:  4/ 5    Batch: 1695   Batch loss: 0.000090    Val loss: 0.000060 Val acc: 1.000000\n",
      "Epoch:  4/ 5    Batch: 1700   Batch loss: 0.000102    Val loss: 0.000060 Val acc: 1.000000\n",
      "Epoch:  4/ 5    Batch: 1705   Batch loss: 0.000099    Val loss: 0.000060 Val acc: 1.000000\n",
      "Epoch:  4/ 5    Batch: 1710   Batch loss: 0.000093    Val loss: 0.000059 Val acc: 1.000000\n",
      "Epoch:  4/ 5    Batch: 1715   Batch loss: 0.000100    Val loss: 0.000059 Val acc: 1.000000\n",
      "Epoch:  4/ 5    Batch: 1720   Batch loss: 0.000071    Val loss: 0.000059 Val acc: 1.000000\n",
      "Epoch:  4/ 5    Batch: 1725   Batch loss: 0.000067    Val loss: 0.000059 Val acc: 1.000000\n",
      "Epoch:  4/ 5    Batch: 1730   Batch loss: 0.000103    Val loss: 0.000059 Val acc: 1.000000\n",
      "Epoch:  4/ 5    Batch: 1735   Batch loss: 0.000074    Val loss: 0.000059 Val acc: 1.000000\n",
      "Epoch:  4/ 5    Batch: 1740   Batch loss: 0.000070    Val loss: 0.000059 Val acc: 1.000000\n",
      "Epoch:  4/ 5    Batch: 1745   Batch loss: 0.000084    Val loss: 0.000058 Val acc: 1.000000\n",
      "Epoch:  4/ 5    Batch: 1750   Batch loss: 0.000074    Val loss: 0.000058 Val acc: 1.000000\n",
      "Epoch:  4/ 5    Batch: 1755   Batch loss: 0.000086    Val loss: 0.000058 Val acc: 1.000000\n",
      "Epoch:  4/ 5    Batch: 1760   Batch loss: 0.000082    Val loss: 0.000058 Val acc: 1.000000\n",
      "Epoch:  4/ 5    Batch: 1765   Batch loss: 0.000068    Val loss: 0.000058 Val acc: 1.000000\n",
      "Epoch:  4/ 5    Batch: 1770   Batch loss: 0.000062    Val loss: 0.000058 Val acc: 1.000000\n",
      "Epoch:  4/ 5    Batch: 1775   Batch loss: 0.000083    Val loss: 0.000057 Val acc: 1.000000\n",
      "Epoch:  4/ 5    Batch: 1780   Batch loss: 0.000093    Val loss: 0.000057 Val acc: 1.000000\n",
      "Epoch:  4/ 5    Batch: 1785   Batch loss: 0.000095    Val loss: 0.000057 Val acc: 1.000000\n",
      "Epoch:  4/ 5    Batch: 1790   Batch loss: 0.000116    Val loss: 0.000057 Val acc: 1.000000\n",
      "Epoch:  4/ 5    Batch: 1795   Batch loss: 0.000061    Val loss: 0.000057 Val acc: 1.000000\n",
      "Epoch:  4/ 5    Batch: 1800   Batch loss: 0.000091    Val loss: 0.000057 Val acc: 1.000000\n",
      "Epoch:  4/ 5    Batch: 1805   Batch loss: 0.000085    Val loss: 0.000057 Val acc: 1.000000\n",
      "Epoch:  4/ 5    Batch: 1810   Batch loss: 0.000063    Val loss: 0.000056 Val acc: 1.000000\n",
      "Epoch:  4/ 5    Batch: 1815   Batch loss: 0.000074    Val loss: 0.000056 Val acc: 1.000000\n",
      "Epoch:  4/ 5    Batch: 1820   Batch loss: 0.000072    Val loss: 0.000056 Val acc: 1.000000\n",
      "Epoch:  4/ 5    Batch: 1825   Batch loss: 0.000095    Val loss: 0.000056 Val acc: 1.000000\n",
      "Epoch:  4/ 5    Batch: 1830   Batch loss: 0.000079    Val loss: 0.000056 Val acc: 1.000000\n",
      "Epoch:  4/ 5    Batch: 1835   Batch loss: 0.000056    Val loss: 0.000056 Val acc: 1.000000\n",
      "Epoch:  4/ 5    Batch: 1840   Batch loss: 0.000074    Val loss: 0.000055 Val acc: 1.000000\n",
      "Epoch:  4/ 5    Batch: 1845   Batch loss: 0.000071    Val loss: 0.000055 Val acc: 1.000000\n",
      "Epoch:  4/ 5    Batch: 1850   Batch loss: 0.000091    Val loss: 0.000055 Val acc: 1.000000\n",
      "Epoch:  4/ 5    Batch: 1855   Batch loss: 0.000083    Val loss: 0.000055 Val acc: 1.000000\n",
      "Epoch:  4/ 5    Batch: 1860   Batch loss: 0.000078    Val loss: 0.000055 Val acc: 1.000000\n",
      "Epoch:  4/ 5    Batch: 1865   Batch loss: 0.000080    Val loss: 0.000055 Val acc: 1.000000\n",
      "Epoch:  4/ 5    Batch: 1870   Batch loss: 0.000067    Val loss: 0.000055 Val acc: 1.000000\n",
      "Epoch:  4/ 5    Batch: 1875   Batch loss: 0.000084    Val loss: 0.000054 Val acc: 1.000000\n",
      "Epoch:  4/ 5    Batch: 1880   Batch loss: 0.000067    Val loss: 0.000054 Val acc: 1.000000\n",
      "Epoch:  4/ 5    Batch: 1885   Batch loss: 0.000068    Val loss: 0.000054 Val acc: 1.000000\n",
      "Epoch:  4/ 5    Batch: 1890   Batch loss: 0.000071    Val loss: 0.000054 Val acc: 1.000000\n",
      "Epoch:  4/ 5    Batch: 1895   Batch loss: 0.000085    Val loss: 0.000054 Val acc: 1.000000\n",
      "Epoch:  4/ 5    Batch: 1900   Batch loss: 0.000075    Val loss: 0.000054 Val acc: 1.000000\n",
      "Epoch:  4/ 5    Batch: 1905   Batch loss: 0.000059    Val loss: 0.000054 Val acc: 1.000000\n",
      "Epoch:  4/ 5    Batch: 1910   Batch loss: 0.000069    Val loss: 0.000054 Val acc: 1.000000\n",
      "Epoch:  4/ 5    Batch: 1915   Batch loss: 0.000069    Val loss: 0.000053 Val acc: 1.000000\n",
      "Epoch:  4/ 5    Batch: 1920   Batch loss: 0.000076    Val loss: 0.000053 Val acc: 1.000000\n",
      "Epoch:  4/ 5    Batch: 1925   Batch loss: 0.000077    Val loss: 0.000053 Val acc: 1.000000\n",
      "Epoch:  4/ 5    Batch: 1930   Batch loss: 0.000068    Val loss: 0.000053 Val acc: 1.000000\n",
      "Epoch:  4/ 5    Batch: 1935   Batch loss: 0.000063    Val loss: 0.000053 Val acc: 1.000000\n",
      "Epoch:  4/ 5    Batch: 1940   Batch loss: 0.000073    Val loss: 0.000053 Val acc: 1.000000\n",
      "Epoch:  4/ 5    Batch: 1945   Batch loss: 0.000068    Val loss: 0.000053 Val acc: 1.000000\n",
      "Epoch:  4/ 5    Batch: 1950   Batch loss: 0.000059    Val loss: 0.000053 Val acc: 1.000000\n",
      "Epoch:  4/ 5    Batch: 1955   Batch loss: 0.000074    Val loss: 0.000052 Val acc: 1.000000\n",
      "Epoch:  4/ 5    Batch: 1960   Batch loss: 0.000058    Val loss: 0.000052 Val acc: 1.000000\n",
      "Epoch:  4/ 5    Batch: 1965   Batch loss: 0.000084    Val loss: 0.000052 Val acc: 1.000000\n",
      "Epoch:  4/ 5    Batch: 1970   Batch loss: 0.000076    Val loss: 0.000052 Val acc: 1.000000\n",
      "Epoch:  4/ 5    Batch: 1975   Batch loss: 0.000069    Val loss: 0.000052 Val acc: 1.000000\n",
      "Epoch:  4/ 5    Batch: 1980   Batch loss: 0.000074    Val loss: 0.000052 Val acc: 1.000000\n",
      "Epoch:  4/ 5    Batch: 1985   Batch loss: 0.000084    Val loss: 0.000052 Val acc: 1.000000\n",
      "Epoch:  4/ 5    Batch: 1990   Batch loss: 0.000063    Val loss: 0.000052 Val acc: 1.000000\n",
      "Epoch:  4/ 5    Batch: 1995   Batch loss: 0.000058    Val loss: 0.000051 Val acc: 1.000000\n",
      "Epoch:  4/ 5    Batch: 2000   Batch loss: 0.000061    Val loss: 0.000051 Val acc: 1.000000\n",
      "Epoch:  4/ 5    Batch: 2005   Batch loss: 0.000077    Val loss: 0.000051 Val acc: 1.000000\n",
      "Epoch:  4/ 5    Batch: 2010   Batch loss: 0.000054    Val loss: 0.000051 Val acc: 1.000000\n",
      "Epoch:  4/ 5    Batch: 2015   Batch loss: 0.000071    Val loss: 0.000051 Val acc: 1.000000\n",
      "Epoch:  4/ 5    Batch: 2020   Batch loss: 0.000058    Val loss: 0.000051 Val acc: 1.000000\n",
      "Epoch:  4/ 5    Batch: 2025   Batch loss: 0.000067    Val loss: 0.000051 Val acc: 1.000000\n",
      "Epoch:  4/ 5    Batch: 2030   Batch loss: 0.000082    Val loss: 0.000051 Val acc: 1.000000\n",
      "Epoch:  4/ 5    Batch: 2035   Batch loss: 0.000103    Val loss: 0.000050 Val acc: 1.000000\n",
      "Epoch:  4/ 5    Batch: 2040   Batch loss: 0.000092    Val loss: 0.000050 Val acc: 1.000000\n",
      "Epoch:  4/ 5    Batch: 2045   Batch loss: 0.000077    Val loss: 0.000050 Val acc: 1.000000\n",
      "6528\n",
      "Finished epoch 4. Average batch loss: 8.094658931412368e-05. Average validation loss: 5.72150006090111e-05\n",
      "Starting epoch 5\n",
      "Epoch:  5/ 5    Batch: 2050   Batch loss: 0.000073    Val loss: 0.000050 Val acc: 1.000000\n",
      "Epoch:  5/ 5    Batch: 2055   Batch loss: 0.000068    Val loss: 0.000050 Val acc: 1.000000\n",
      "Epoch:  5/ 5    Batch: 2060   Batch loss: 0.000076    Val loss: 0.000050 Val acc: 1.000000\n",
      "Epoch:  5/ 5    Batch: 2065   Batch loss: 0.000086    Val loss: 0.000050 Val acc: 1.000000\n",
      "Epoch:  5/ 5    Batch: 2070   Batch loss: 0.000049    Val loss: 0.000050 Val acc: 1.000000\n",
      "Epoch:  5/ 5    Batch: 2075   Batch loss: 0.000064    Val loss: 0.000049 Val acc: 1.000000\n",
      "Epoch:  5/ 5    Batch: 2080   Batch loss: 0.000053    Val loss: 0.000049 Val acc: 1.000000\n",
      "Epoch:  5/ 5    Batch: 2085   Batch loss: 0.000066    Val loss: 0.000049 Val acc: 1.000000\n",
      "Epoch:  5/ 5    Batch: 2090   Batch loss: 0.000066    Val loss: 0.000049 Val acc: 1.000000\n",
      "Epoch:  5/ 5    Batch: 2095   Batch loss: 0.000070    Val loss: 0.000049 Val acc: 1.000000\n",
      "Epoch:  5/ 5    Batch: 2100   Batch loss: 0.000069    Val loss: 0.000049 Val acc: 1.000000\n",
      "Epoch:  5/ 5    Batch: 2105   Batch loss: 0.000050    Val loss: 0.000049 Val acc: 1.000000\n",
      "Epoch:  5/ 5    Batch: 2110   Batch loss: 0.000074    Val loss: 0.000049 Val acc: 1.000000\n",
      "Epoch:  5/ 5    Batch: 2115   Batch loss: 0.000084    Val loss: 0.000049 Val acc: 1.000000\n",
      "Epoch:  5/ 5    Batch: 2120   Batch loss: 0.000070    Val loss: 0.000048 Val acc: 1.000000\n",
      "Epoch:  5/ 5    Batch: 2125   Batch loss: 0.000056    Val loss: 0.000048 Val acc: 1.000000\n",
      "Epoch:  5/ 5    Batch: 2130   Batch loss: 0.000055    Val loss: 0.000048 Val acc: 1.000000\n",
      "Epoch:  5/ 5    Batch: 2135   Batch loss: 0.000076    Val loss: 0.000048 Val acc: 1.000000\n",
      "Epoch:  5/ 5    Batch: 2140   Batch loss: 0.000056    Val loss: 0.000048 Val acc: 1.000000\n",
      "Epoch:  5/ 5    Batch: 2145   Batch loss: 0.000077    Val loss: 0.000048 Val acc: 1.000000\n",
      "Epoch:  5/ 5    Batch: 2150   Batch loss: 0.000074    Val loss: 0.000048 Val acc: 1.000000\n",
      "Epoch:  5/ 5    Batch: 2155   Batch loss: 0.000067    Val loss: 0.000048 Val acc: 1.000000\n",
      "Epoch:  5/ 5    Batch: 2160   Batch loss: 0.000065    Val loss: 0.000048 Val acc: 1.000000\n",
      "Epoch:  5/ 5    Batch: 2165   Batch loss: 0.000070    Val loss: 0.000048 Val acc: 1.000000\n",
      "Epoch:  5/ 5    Batch: 2170   Batch loss: 0.000084    Val loss: 0.000047 Val acc: 1.000000\n",
      "Epoch:  5/ 5    Batch: 2175   Batch loss: 0.000099    Val loss: 0.000047 Val acc: 1.000000\n",
      "Epoch:  5/ 5    Batch: 2180   Batch loss: 0.000074    Val loss: 0.000047 Val acc: 1.000000\n",
      "Epoch:  5/ 5    Batch: 2185   Batch loss: 0.000063    Val loss: 0.000047 Val acc: 1.000000\n",
      "Epoch:  5/ 5    Batch: 2190   Batch loss: 0.000070    Val loss: 0.000047 Val acc: 1.000000\n",
      "Epoch:  5/ 5    Batch: 2195   Batch loss: 0.000064    Val loss: 0.000047 Val acc: 1.000000\n",
      "Epoch:  5/ 5    Batch: 2200   Batch loss: 0.000049    Val loss: 0.000047 Val acc: 1.000000\n",
      "Epoch:  5/ 5    Batch: 2205   Batch loss: 0.000062    Val loss: 0.000047 Val acc: 1.000000\n",
      "Epoch:  5/ 5    Batch: 2210   Batch loss: 0.000073    Val loss: 0.000047 Val acc: 1.000000\n",
      "Epoch:  5/ 5    Batch: 2215   Batch loss: 0.000068    Val loss: 0.000046 Val acc: 1.000000\n",
      "Epoch:  5/ 5    Batch: 2220   Batch loss: 0.000076    Val loss: 0.000046 Val acc: 1.000000\n",
      "Epoch:  5/ 5    Batch: 2225   Batch loss: 0.000061    Val loss: 0.000046 Val acc: 1.000000\n",
      "Epoch:  5/ 5    Batch: 2230   Batch loss: 0.000061    Val loss: 0.000046 Val acc: 1.000000\n",
      "Epoch:  5/ 5    Batch: 2235   Batch loss: 0.000068    Val loss: 0.000046 Val acc: 1.000000\n",
      "Epoch:  5/ 5    Batch: 2240   Batch loss: 0.000060    Val loss: 0.000046 Val acc: 1.000000\n",
      "Epoch:  5/ 5    Batch: 2245   Batch loss: 0.000070    Val loss: 0.000046 Val acc: 1.000000\n",
      "Epoch:  5/ 5    Batch: 2250   Batch loss: 0.000063    Val loss: 0.000046 Val acc: 1.000000\n",
      "Epoch:  5/ 5    Batch: 2255   Batch loss: 0.000069    Val loss: 0.000046 Val acc: 1.000000\n",
      "Epoch:  5/ 5    Batch: 2260   Batch loss: 0.000054    Val loss: 0.000046 Val acc: 1.000000\n",
      "Epoch:  5/ 5    Batch: 2265   Batch loss: 0.000065    Val loss: 0.000046 Val acc: 1.000000\n",
      "Epoch:  5/ 5    Batch: 2270   Batch loss: 0.000073    Val loss: 0.000045 Val acc: 1.000000\n",
      "Epoch:  5/ 5    Batch: 2275   Batch loss: 0.000048    Val loss: 0.000045 Val acc: 1.000000\n",
      "Epoch:  5/ 5    Batch: 2280   Batch loss: 0.000061    Val loss: 0.000045 Val acc: 1.000000\n",
      "Epoch:  5/ 5    Batch: 2285   Batch loss: 0.000087    Val loss: 0.000045 Val acc: 1.000000\n",
      "Epoch:  5/ 5    Batch: 2290   Batch loss: 0.000059    Val loss: 0.000045 Val acc: 1.000000\n",
      "Epoch:  5/ 5    Batch: 2295   Batch loss: 0.000055    Val loss: 0.000045 Val acc: 1.000000\n",
      "Epoch:  5/ 5    Batch: 2300   Batch loss: 0.000078    Val loss: 0.000045 Val acc: 1.000000\n",
      "Epoch:  5/ 5    Batch: 2305   Batch loss: 0.000072    Val loss: 0.000045 Val acc: 1.000000\n",
      "Epoch:  5/ 5    Batch: 2310   Batch loss: 0.000071    Val loss: 0.000045 Val acc: 1.000000\n",
      "Epoch:  5/ 5    Batch: 2315   Batch loss: 0.000071    Val loss: 0.000045 Val acc: 1.000000\n",
      "Epoch:  5/ 5    Batch: 2320   Batch loss: 0.000058    Val loss: 0.000045 Val acc: 1.000000\n",
      "Epoch:  5/ 5    Batch: 2325   Batch loss: 0.000068    Val loss: 0.000044 Val acc: 1.000000\n",
      "Epoch:  5/ 5    Batch: 2330   Batch loss: 0.000066    Val loss: 0.000044 Val acc: 1.000000\n",
      "Epoch:  5/ 5    Batch: 2335   Batch loss: 0.000045    Val loss: 0.000044 Val acc: 1.000000\n",
      "Epoch:  5/ 5    Batch: 2340   Batch loss: 0.000060    Val loss: 0.000044 Val acc: 1.000000\n",
      "Epoch:  5/ 5    Batch: 2345   Batch loss: 0.000061    Val loss: 0.000044 Val acc: 1.000000\n",
      "Epoch:  5/ 5    Batch: 2350   Batch loss: 0.000076    Val loss: 0.000044 Val acc: 1.000000\n",
      "Epoch:  5/ 5    Batch: 2355   Batch loss: 0.000064    Val loss: 0.000044 Val acc: 1.000000\n",
      "Epoch:  5/ 5    Batch: 2360   Batch loss: 0.000060    Val loss: 0.000044 Val acc: 1.000000\n",
      "Epoch:  5/ 5    Batch: 2365   Batch loss: 0.000056    Val loss: 0.000044 Val acc: 1.000000\n",
      "Epoch:  5/ 5    Batch: 2370   Batch loss: 0.000059    Val loss: 0.000044 Val acc: 1.000000\n",
      "Epoch:  5/ 5    Batch: 2375   Batch loss: 0.000067    Val loss: 0.000044 Val acc: 1.000000\n",
      "Epoch:  5/ 5    Batch: 2380   Batch loss: 0.000059    Val loss: 0.000044 Val acc: 1.000000\n",
      "Epoch:  5/ 5    Batch: 2385   Batch loss: 0.000074    Val loss: 0.000043 Val acc: 1.000000\n",
      "Epoch:  5/ 5    Batch: 2390   Batch loss: 0.000055    Val loss: 0.000043 Val acc: 1.000000\n",
      "Epoch:  5/ 5    Batch: 2395   Batch loss: 0.000077    Val loss: 0.000043 Val acc: 1.000000\n",
      "Epoch:  5/ 5    Batch: 2400   Batch loss: 0.000078    Val loss: 0.000043 Val acc: 1.000000\n",
      "Epoch:  5/ 5    Batch: 2405   Batch loss: 0.000082    Val loss: 0.000043 Val acc: 1.000000\n",
      "Epoch:  5/ 5    Batch: 2410   Batch loss: 0.000066    Val loss: 0.000043 Val acc: 1.000000\n",
      "Epoch:  5/ 5    Batch: 2415   Batch loss: 0.000054    Val loss: 0.000043 Val acc: 1.000000\n",
      "Epoch:  5/ 5    Batch: 2420   Batch loss: 0.000046    Val loss: 0.000043 Val acc: 1.000000\n",
      "Epoch:  5/ 5    Batch: 2425   Batch loss: 0.000061    Val loss: 0.000043 Val acc: 1.000000\n",
      "Epoch:  5/ 5    Batch: 2430   Batch loss: 0.000067    Val loss: 0.000043 Val acc: 1.000000\n",
      "Epoch:  5/ 5    Batch: 2435   Batch loss: 0.000048    Val loss: 0.000043 Val acc: 1.000000\n",
      "Epoch:  5/ 5    Batch: 2440   Batch loss: 0.000051    Val loss: 0.000043 Val acc: 1.000000\n",
      "Epoch:  5/ 5    Batch: 2445   Batch loss: 0.000056    Val loss: 0.000042 Val acc: 1.000000\n",
      "Epoch:  5/ 5    Batch: 2450   Batch loss: 0.000071    Val loss: 0.000042 Val acc: 1.000000\n",
      "Epoch:  5/ 5    Batch: 2455   Batch loss: 0.000046    Val loss: 0.000042 Val acc: 1.000000\n",
      "Epoch:  5/ 5    Batch: 2460   Batch loss: 0.000059    Val loss: 0.000042 Val acc: 1.000000\n",
      "Epoch:  5/ 5    Batch: 2465   Batch loss: 0.000072    Val loss: 0.000042 Val acc: 1.000000\n",
      "Epoch:  5/ 5    Batch: 2470   Batch loss: 0.000053    Val loss: 0.000042 Val acc: 1.000000\n",
      "Epoch:  5/ 5    Batch: 2475   Batch loss: 0.000060    Val loss: 0.000042 Val acc: 1.000000\n",
      "Epoch:  5/ 5    Batch: 2480   Batch loss: 0.000054    Val loss: 0.000042 Val acc: 1.000000\n",
      "Epoch:  5/ 5    Batch: 2485   Batch loss: 0.000054    Val loss: 0.000042 Val acc: 1.000000\n",
      "Epoch:  5/ 5    Batch: 2490   Batch loss: 0.000060    Val loss: 0.000042 Val acc: 1.000000\n",
      "Epoch:  5/ 5    Batch: 2495   Batch loss: 0.000067    Val loss: 0.000042 Val acc: 1.000000\n",
      "Epoch:  5/ 5    Batch: 2500   Batch loss: 0.000058    Val loss: 0.000042 Val acc: 1.000000\n",
      "Epoch:  5/ 5    Batch: 2505   Batch loss: 0.000050    Val loss: 0.000042 Val acc: 1.000000\n",
      "Epoch:  5/ 5    Batch: 2510   Batch loss: 0.000061    Val loss: 0.000041 Val acc: 1.000000\n",
      "Epoch:  5/ 5    Batch: 2515   Batch loss: 0.000044    Val loss: 0.000041 Val acc: 1.000000\n",
      "Epoch:  5/ 5    Batch: 2520   Batch loss: 0.000063    Val loss: 0.000041 Val acc: 1.000000\n",
      "Epoch:  5/ 5    Batch: 2525   Batch loss: 0.000037    Val loss: 0.000041 Val acc: 1.000000\n",
      "Epoch:  5/ 5    Batch: 2530   Batch loss: 0.000078    Val loss: 0.000041 Val acc: 1.000000\n",
      "Epoch:  5/ 5    Batch: 2535   Batch loss: 0.000049    Val loss: 0.000041 Val acc: 1.000000\n",
      "Epoch:  5/ 5    Batch: 2540   Batch loss: 0.000043    Val loss: 0.000041 Val acc: 1.000000\n",
      "Epoch:  5/ 5    Batch: 2545   Batch loss: 0.000057    Val loss: 0.000041 Val acc: 1.000000\n",
      "Epoch:  5/ 5    Batch: 2550   Batch loss: 0.000069    Val loss: 0.000041 Val acc: 1.000000\n",
      "Epoch:  5/ 5    Batch: 2555   Batch loss: 0.000042    Val loss: 0.000041 Val acc: 1.000000\n",
      "Epoch:  5/ 5    Batch: 2560   Batch loss: 0.000054    Val loss: 0.000041 Val acc: 1.000000\n",
      "6592\n",
      "Finished epoch 5. Average batch loss: 6.415359928269027e-05. Average validation loss: 4.499377151269426e-05\n",
      "Test loss: 0.000\n",
      "Test accuracy: 1.000\n"
     ]
    }
   ],
   "source": [
    "# Fit and evaluate a model with pretrained embeddings with fine-tuning.\n",
    "# YOUR CODE HERE\n",
    "\n",
    "# Fit and evaluate a model with pretrained embeddings without fine-tuning\n",
    "# YOUR CODE HERE\n",
    "# Instantiate the model w/ hyperparams\n",
    "vocab_size = len(word_ids) + 1  # +1 for the 0 padding\n",
    "embedding_dim = 100\n",
    "hidden_dim = 64\n",
    "num_layers = 1\n",
    "\n",
    "model = SimpleLSTM(vocab_size, embedding_dim, hidden_dim, num_layers).to(DEVICE)\n",
    "model.embedding = embeddings\n",
    "model.embedding.weight.requires_grad = True\n",
    "#print(model.named_parameters)\n",
    "# Fit and evaluate a model (without pretrained embeddings)\n",
    "n_epochs = 5\n",
    "# YOUR CODE HERE\n",
    "reviews_train(model, train_loader, valid_loader, epochs=n_epochs, device=DEVICE)\n",
    "reviews_test(model, test_loader, device=DEVICE)\n"
   ]
  },
  {
   "cell_type": "code",
   "execution_count": null,
   "id": "4c9803bc",
   "metadata": {
    "colab": {
     "base_uri": "https://localhost:8080/",
     "height": 339
    },
    "id": "292AMUaQv1v8",
    "outputId": "c2102090-2767-4ab0-d5d2-33490d143afc"
   },
   "outputs": [
    {
     "ename": "TypeError",
     "evalue": "ignored",
     "output_type": "error",
     "traceback": [
      "\u001b[0;31m---------------------------------------------------------------------------\u001b[0m",
      "\u001b[0;31mTypeError\u001b[0m                                 Traceback (most recent call last)",
      "\u001b[0;32m<ipython-input-41-e34b7647139c>\u001b[0m in \u001b[0;36m<module>\u001b[0;34m()\u001b[0m\n\u001b[1;32m      4\u001b[0m embedding_matrix = make_embeddings_matrix(\n\u001b[1;32m      5\u001b[0m     \u001b[0membeddings\u001b[0m\u001b[0;34m=\u001b[0m\u001b[0mglove_embeddings\u001b[0m\u001b[0;34m,\u001b[0m \u001b[0mword_index\u001b[0m\u001b[0;34m=\u001b[0m\u001b[0mvocab_size\u001b[0m\u001b[0;34m,\u001b[0m\u001b[0;34m\u001b[0m\u001b[0;34m\u001b[0m\u001b[0m\n\u001b[0;32m----> 6\u001b[0;31m     embedding_dim=embedding_dim)\n\u001b[0m\u001b[1;32m      7\u001b[0m \u001b[0mprint\u001b[0m \u001b[0;34m(\u001b[0m\u001b[0;34mf\"<Embeddings(words={embedding_matrix.shape[0]}, dim={embedding_matrix.shape[1]})>\"\u001b[0m\u001b[0;34m)\u001b[0m\u001b[0;34m\u001b[0m\u001b[0;34m\u001b[0m\u001b[0m\n",
      "\u001b[0;32m<ipython-input-26-7a00103c9cd9>\u001b[0m in \u001b[0;36mmake_embeddings_matrix\u001b[0;34m(embeddings, word_index, embedding_dim)\u001b[0m\n\u001b[1;32m      1\u001b[0m \u001b[0;32mdef\u001b[0m \u001b[0mmake_embeddings_matrix\u001b[0m\u001b[0;34m(\u001b[0m\u001b[0membeddings\u001b[0m\u001b[0;34m,\u001b[0m \u001b[0mword_index\u001b[0m\u001b[0;34m,\u001b[0m \u001b[0membedding_dim\u001b[0m\u001b[0;34m)\u001b[0m\u001b[0;34m:\u001b[0m\u001b[0;34m\u001b[0m\u001b[0;34m\u001b[0m\u001b[0m\n\u001b[1;32m      2\u001b[0m     \u001b[0;34m\"\"\"Create embeddings matrix to use in Embedding layer.\"\"\"\u001b[0m\u001b[0;34m\u001b[0m\u001b[0;34m\u001b[0m\u001b[0m\n\u001b[0;32m----> 3\u001b[0;31m     \u001b[0membedding_matrix\u001b[0m \u001b[0;34m=\u001b[0m \u001b[0mnp\u001b[0m\u001b[0;34m.\u001b[0m\u001b[0mzeros\u001b[0m\u001b[0;34m(\u001b[0m\u001b[0;34m(\u001b[0m\u001b[0mlen\u001b[0m\u001b[0;34m(\u001b[0m\u001b[0mword_index\u001b[0m\u001b[0;34m)\u001b[0m\u001b[0;34m,\u001b[0m \u001b[0membedding_dim\u001b[0m\u001b[0;34m)\u001b[0m\u001b[0;34m)\u001b[0m\u001b[0;34m\u001b[0m\u001b[0;34m\u001b[0m\u001b[0m\n\u001b[0m\u001b[1;32m      4\u001b[0m     \u001b[0;32mfor\u001b[0m \u001b[0mword\u001b[0m\u001b[0;34m,\u001b[0m \u001b[0mi\u001b[0m \u001b[0;32min\u001b[0m \u001b[0mword_index\u001b[0m\u001b[0;34m.\u001b[0m\u001b[0mitems\u001b[0m\u001b[0;34m(\u001b[0m\u001b[0;34m)\u001b[0m\u001b[0;34m:\u001b[0m\u001b[0;34m\u001b[0m\u001b[0;34m\u001b[0m\u001b[0m\n\u001b[1;32m      5\u001b[0m         \u001b[0membedding_vector\u001b[0m \u001b[0;34m=\u001b[0m \u001b[0membeddings\u001b[0m\u001b[0;34m.\u001b[0m\u001b[0mget\u001b[0m\u001b[0;34m(\u001b[0m\u001b[0mword\u001b[0m\u001b[0;34m)\u001b[0m\u001b[0;34m\u001b[0m\u001b[0;34m\u001b[0m\u001b[0m\n",
      "\u001b[0;31mTypeError\u001b[0m: object of type 'int' has no len()"
     ]
    }
   ],
   "source": [
    "# Create embeddings\n",
    "embeddings_file = 'glove.6B.{0}d.txt'.format(embedding_dim)\n",
    "glove_embeddings = load_glove_embeddings(embeddings_file=embeddings_file)\n",
    "embedding_matrix = make_embeddings_matrix(\n",
    "    embeddings=glove_embeddings, word_index=vocab_size,\n",
    "    embedding_dim=embedding_dim)\n",
    "print (f\"<Embeddings(words={embedding_matrix.shape[0]}, dim={embedding_matrix.shape[1]})>\")"
   ]
  }
 ],
 "metadata": {
  "colab": {
   "name": "KNN.ipynb",
   "provenance": []
  },
  "kernelspec": {
   "display_name": "Python 3 (ipykernel)",
   "language": "python",
   "name": "python3"
  },
  "language_info": {
   "codemirror_mode": {
    "name": "ipython",
    "version": 3
   },
   "file_extension": ".py",
   "mimetype": "text/x-python",
   "name": "python",
   "nbconvert_exporter": "python",
   "pygments_lexer": "ipython3",
   "version": "3.9.5"
  },
  "widgets": {
   "application/vnd.jupyter.widget-state+json": {
    "03829352802b45299b092ec73ffbe49f": {
     "model_module": "@jupyter-widgets/controls",
     "model_module_version": "1.5.0",
     "model_name": "HTMLModel",
     "state": {
      "_dom_classes": [],
      "_model_module": "@jupyter-widgets/controls",
      "_model_module_version": "1.5.0",
      "_model_name": "HTMLModel",
      "_view_count": null,
      "_view_module": "@jupyter-widgets/controls",
      "_view_module_version": "1.5.0",
      "_view_name": "HTMLView",
      "description": "",
      "description_tooltip": null,
      "layout": "IPY_MODEL_13a6debd591544988d322459c85677fe",
      "placeholder": "​",
      "style": "IPY_MODEL_113ca1dac48648688ad6cc6c49aa6f57",
      "value": " 3.14k/? [00:00&lt;00:00, 17.0kB/s]"
     }
    },
    "0e2f4b3f9bc04a8c8e529b4a5be9a008": {
     "model_module": "@jupyter-widgets/base",
     "model_module_version": "1.2.0",
     "model_name": "LayoutModel",
     "state": {
      "_model_module": "@jupyter-widgets/base",
      "_model_module_version": "1.2.0",
      "_model_name": "LayoutModel",
      "_view_count": null,
      "_view_module": "@jupyter-widgets/base",
      "_view_module_version": "1.2.0",
      "_view_name": "LayoutView",
      "align_content": null,
      "align_items": null,
      "align_self": null,
      "border": null,
      "bottom": null,
      "display": null,
      "flex": null,
      "flex_flow": null,
      "grid_area": null,
      "grid_auto_columns": null,
      "grid_auto_flow": null,
      "grid_auto_rows": null,
      "grid_column": null,
      "grid_gap": null,
      "grid_row": null,
      "grid_template_areas": null,
      "grid_template_columns": null,
      "grid_template_rows": null,
      "height": null,
      "justify_content": null,
      "justify_items": null,
      "left": null,
      "margin": null,
      "max_height": null,
      "max_width": null,
      "min_height": null,
      "min_width": null,
      "object_fit": null,
      "object_position": null,
      "order": null,
      "overflow": null,
      "overflow_x": null,
      "overflow_y": null,
      "padding": null,
      "right": null,
      "top": null,
      "visibility": null,
      "width": null
     }
    },
    "113ca1dac48648688ad6cc6c49aa6f57": {
     "model_module": "@jupyter-widgets/controls",
     "model_module_version": "1.5.0",
     "model_name": "DescriptionStyleModel",
     "state": {
      "_model_module": "@jupyter-widgets/controls",
      "_model_module_version": "1.5.0",
      "_model_name": "DescriptionStyleModel",
      "_view_count": null,
      "_view_module": "@jupyter-widgets/base",
      "_view_module_version": "1.2.0",
      "_view_name": "StyleView",
      "description_width": ""
     }
    },
    "11638d748b2a403c811bf61162c4d8ac": {
     "model_module": "@jupyter-widgets/base",
     "model_module_version": "1.2.0",
     "model_name": "LayoutModel",
     "state": {
      "_model_module": "@jupyter-widgets/base",
      "_model_module_version": "1.2.0",
      "_model_name": "LayoutModel",
      "_view_count": null,
      "_view_module": "@jupyter-widgets/base",
      "_view_module_version": "1.2.0",
      "_view_name": "LayoutView",
      "align_content": null,
      "align_items": null,
      "align_self": null,
      "border": null,
      "bottom": null,
      "display": null,
      "flex": null,
      "flex_flow": null,
      "grid_area": null,
      "grid_auto_columns": null,
      "grid_auto_flow": null,
      "grid_auto_rows": null,
      "grid_column": null,
      "grid_gap": null,
      "grid_row": null,
      "grid_template_areas": null,
      "grid_template_columns": null,
      "grid_template_rows": null,
      "height": null,
      "justify_content": null,
      "justify_items": null,
      "left": null,
      "margin": null,
      "max_height": null,
      "max_width": null,
      "min_height": null,
      "min_width": null,
      "object_fit": null,
      "object_position": null,
      "order": null,
      "overflow": null,
      "overflow_x": null,
      "overflow_y": null,
      "padding": null,
      "right": null,
      "top": null,
      "visibility": null,
      "width": null
     }
    },
    "13a6debd591544988d322459c85677fe": {
     "model_module": "@jupyter-widgets/base",
     "model_module_version": "1.2.0",
     "model_name": "LayoutModel",
     "state": {
      "_model_module": "@jupyter-widgets/base",
      "_model_module_version": "1.2.0",
      "_model_name": "LayoutModel",
      "_view_count": null,
      "_view_module": "@jupyter-widgets/base",
      "_view_module_version": "1.2.0",
      "_view_name": "LayoutView",
      "align_content": null,
      "align_items": null,
      "align_self": null,
      "border": null,
      "bottom": null,
      "display": null,
      "flex": null,
      "flex_flow": null,
      "grid_area": null,
      "grid_auto_columns": null,
      "grid_auto_flow": null,
      "grid_auto_rows": null,
      "grid_column": null,
      "grid_gap": null,
      "grid_row": null,
      "grid_template_areas": null,
      "grid_template_columns": null,
      "grid_template_rows": null,
      "height": null,
      "justify_content": null,
      "justify_items": null,
      "left": null,
      "margin": null,
      "max_height": null,
      "max_width": null,
      "min_height": null,
      "min_width": null,
      "object_fit": null,
      "object_position": null,
      "order": null,
      "overflow": null,
      "overflow_x": null,
      "overflow_y": null,
      "padding": null,
      "right": null,
      "top": null,
      "visibility": null,
      "width": null
     }
    },
    "15c088e1d8c74da99f3fb0c955c62875": {
     "model_module": "@jupyter-widgets/controls",
     "model_module_version": "1.5.0",
     "model_name": "FloatProgressModel",
     "state": {
      "_dom_classes": [],
      "_model_module": "@jupyter-widgets/controls",
      "_model_module_version": "1.5.0",
      "_model_name": "FloatProgressModel",
      "_view_count": null,
      "_view_module": "@jupyter-widgets/controls",
      "_view_module_version": "1.5.0",
      "_view_name": "ProgressView",
      "bar_style": "success",
      "description": "",
      "description_tooltip": null,
      "layout": "IPY_MODEL_888faf1e019744d8906833d08e8c5bde",
      "max": 881,
      "min": 0,
      "orientation": "horizontal",
      "style": "IPY_MODEL_f1f98dd1e5224d76b6b732ea18716213",
      "value": 881
     }
    },
    "1a73d15415be47efbffd40bbb84fe6fc": {
     "model_module": "@jupyter-widgets/controls",
     "model_module_version": "1.5.0",
     "model_name": "FloatProgressModel",
     "state": {
      "_dom_classes": [],
      "_model_module": "@jupyter-widgets/controls",
      "_model_module_version": "1.5.0",
      "_model_name": "FloatProgressModel",
      "_view_count": null,
      "_view_module": "@jupyter-widgets/controls",
      "_view_module_version": "1.5.0",
      "_view_name": "ProgressView",
      "bar_style": "",
      "description": "",
      "description_tooltip": null,
      "layout": "IPY_MODEL_7c99bc480b00439eb20565d122e1d060",
      "max": 31962,
      "min": 0,
      "orientation": "horizontal",
      "style": "IPY_MODEL_e5c27deea54c416e9b668457f62ad5a7",
      "value": 31962
     }
    },
    "1c8aa4225399435097dd95237e5724e7": {
     "model_module": "@jupyter-widgets/base",
     "model_module_version": "1.2.0",
     "model_name": "LayoutModel",
     "state": {
      "_model_module": "@jupyter-widgets/base",
      "_model_module_version": "1.2.0",
      "_model_name": "LayoutModel",
      "_view_count": null,
      "_view_module": "@jupyter-widgets/base",
      "_view_module_version": "1.2.0",
      "_view_name": "LayoutView",
      "align_content": null,
      "align_items": null,
      "align_self": null,
      "border": null,
      "bottom": null,
      "display": null,
      "flex": null,
      "flex_flow": null,
      "grid_area": null,
      "grid_auto_columns": null,
      "grid_auto_flow": null,
      "grid_auto_rows": null,
      "grid_column": null,
      "grid_gap": null,
      "grid_row": null,
      "grid_template_areas": null,
      "grid_template_columns": null,
      "grid_template_rows": null,
      "height": null,
      "justify_content": null,
      "justify_items": null,
      "left": null,
      "margin": null,
      "max_height": null,
      "max_width": null,
      "min_height": null,
      "min_width": null,
      "object_fit": null,
      "object_position": null,
      "order": null,
      "overflow": null,
      "overflow_x": null,
      "overflow_y": null,
      "padding": null,
      "right": null,
      "top": null,
      "visibility": null,
      "width": null
     }
    },
    "1f14c080703c4f1e859db27476484600": {
     "model_module": "@jupyter-widgets/base",
     "model_module_version": "1.2.0",
     "model_name": "LayoutModel",
     "state": {
      "_model_module": "@jupyter-widgets/base",
      "_model_module_version": "1.2.0",
      "_model_name": "LayoutModel",
      "_view_count": null,
      "_view_module": "@jupyter-widgets/base",
      "_view_module_version": "1.2.0",
      "_view_name": "LayoutView",
      "align_content": null,
      "align_items": null,
      "align_self": null,
      "border": null,
      "bottom": null,
      "display": null,
      "flex": null,
      "flex_flow": null,
      "grid_area": null,
      "grid_auto_columns": null,
      "grid_auto_flow": null,
      "grid_auto_rows": null,
      "grid_column": null,
      "grid_gap": null,
      "grid_row": null,
      "grid_template_areas": null,
      "grid_template_columns": null,
      "grid_template_rows": null,
      "height": null,
      "justify_content": null,
      "justify_items": null,
      "left": null,
      "margin": null,
      "max_height": null,
      "max_width": null,
      "min_height": null,
      "min_width": null,
      "object_fit": null,
      "object_position": null,
      "order": null,
      "overflow": null,
      "overflow_x": null,
      "overflow_y": null,
      "padding": null,
      "right": null,
      "top": null,
      "visibility": null,
      "width": null
     }
    },
    "22134f7c3292447d8f2998bc44976122": {
     "model_module": "@jupyter-widgets/controls",
     "model_module_version": "1.5.0",
     "model_name": "DescriptionStyleModel",
     "state": {
      "_model_module": "@jupyter-widgets/controls",
      "_model_module_version": "1.5.0",
      "_model_name": "DescriptionStyleModel",
      "_view_count": null,
      "_view_module": "@jupyter-widgets/base",
      "_view_module_version": "1.2.0",
      "_view_name": "StyleView",
      "description_width": ""
     }
    },
    "28424ef7db684103a1224dd5e94e018b": {
     "model_module": "@jupyter-widgets/controls",
     "model_module_version": "1.5.0",
     "model_name": "DescriptionStyleModel",
     "state": {
      "_model_module": "@jupyter-widgets/controls",
      "_model_module_version": "1.5.0",
      "_model_name": "DescriptionStyleModel",
      "_view_count": null,
      "_view_module": "@jupyter-widgets/base",
      "_view_module_version": "1.2.0",
      "_view_name": "StyleView",
      "description_width": ""
     }
    },
    "29ecece00f374776a89b5ce6e7bdc31d": {
     "model_module": "@jupyter-widgets/base",
     "model_module_version": "1.2.0",
     "model_name": "LayoutModel",
     "state": {
      "_model_module": "@jupyter-widgets/base",
      "_model_module_version": "1.2.0",
      "_model_name": "LayoutModel",
      "_view_count": null,
      "_view_module": "@jupyter-widgets/base",
      "_view_module_version": "1.2.0",
      "_view_name": "LayoutView",
      "align_content": null,
      "align_items": null,
      "align_self": null,
      "border": null,
      "bottom": null,
      "display": null,
      "flex": null,
      "flex_flow": null,
      "grid_area": null,
      "grid_auto_columns": null,
      "grid_auto_flow": null,
      "grid_auto_rows": null,
      "grid_column": null,
      "grid_gap": null,
      "grid_row": null,
      "grid_template_areas": null,
      "grid_template_columns": null,
      "grid_template_rows": null,
      "height": null,
      "justify_content": null,
      "justify_items": null,
      "left": null,
      "margin": null,
      "max_height": null,
      "max_width": null,
      "min_height": null,
      "min_width": null,
      "object_fit": null,
      "object_position": null,
      "order": null,
      "overflow": null,
      "overflow_x": null,
      "overflow_y": null,
      "padding": null,
      "right": null,
      "top": null,
      "visibility": null,
      "width": null
     }
    },
    "3486229ed2e4423a9d7e4de9cdd74b62": {
     "model_module": "@jupyter-widgets/controls",
     "model_module_version": "1.5.0",
     "model_name": "HBoxModel",
     "state": {
      "_dom_classes": [],
      "_model_module": "@jupyter-widgets/controls",
      "_model_module_version": "1.5.0",
      "_model_name": "HBoxModel",
      "_view_count": null,
      "_view_module": "@jupyter-widgets/controls",
      "_view_module_version": "1.5.0",
      "_view_name": "HBoxView",
      "box_style": "",
      "children": [
       "IPY_MODEL_604053a05295405da7d14ecbde3539f8",
       "IPY_MODEL_c0304393e2884ff2ba7b7f274a1f72e7",
       "IPY_MODEL_a3c46c3b134d4b9fb9934cfd6151a66c"
      ],
      "layout": "IPY_MODEL_f4de580834004ad09b9ddd4cb438e8e4"
     }
    },
    "3515335c7ac54574833cc6fcf50fc797": {
     "model_module": "@jupyter-widgets/base",
     "model_module_version": "1.2.0",
     "model_name": "LayoutModel",
     "state": {
      "_model_module": "@jupyter-widgets/base",
      "_model_module_version": "1.2.0",
      "_model_name": "LayoutModel",
      "_view_count": null,
      "_view_module": "@jupyter-widgets/base",
      "_view_module_version": "1.2.0",
      "_view_name": "LayoutView",
      "align_content": null,
      "align_items": null,
      "align_self": null,
      "border": null,
      "bottom": null,
      "display": null,
      "flex": null,
      "flex_flow": null,
      "grid_area": null,
      "grid_auto_columns": null,
      "grid_auto_flow": null,
      "grid_auto_rows": null,
      "grid_column": null,
      "grid_gap": null,
      "grid_row": null,
      "grid_template_areas": null,
      "grid_template_columns": null,
      "grid_template_rows": null,
      "height": null,
      "justify_content": null,
      "justify_items": null,
      "left": null,
      "margin": null,
      "max_height": null,
      "max_width": null,
      "min_height": null,
      "min_width": null,
      "object_fit": null,
      "object_position": null,
      "order": null,
      "overflow": null,
      "overflow_x": null,
      "overflow_y": null,
      "padding": null,
      "right": null,
      "top": null,
      "visibility": null,
      "width": null
     }
    },
    "39c5685109af480bbbe592b7081f06cc": {
     "model_module": "@jupyter-widgets/controls",
     "model_module_version": "1.5.0",
     "model_name": "HBoxModel",
     "state": {
      "_dom_classes": [],
      "_model_module": "@jupyter-widgets/controls",
      "_model_module_version": "1.5.0",
      "_model_name": "HBoxModel",
      "_view_count": null,
      "_view_module": "@jupyter-widgets/controls",
      "_view_module_version": "1.5.0",
      "_view_name": "HBoxView",
      "box_style": "",
      "children": [
       "IPY_MODEL_77692eb292644914b34ad9fba0f3980b",
       "IPY_MODEL_a7ba5003ed9349459582a76d15145cf3",
       "IPY_MODEL_03829352802b45299b092ec73ffbe49f"
      ],
      "layout": "IPY_MODEL_bb10b4d0ccf04b4aa5197970072fa5ea"
     }
    },
    "3bc8c5dd6474418f83245208c073cbd4": {
     "model_module": "@jupyter-widgets/controls",
     "model_module_version": "1.5.0",
     "model_name": "DescriptionStyleModel",
     "state": {
      "_model_module": "@jupyter-widgets/controls",
      "_model_module_version": "1.5.0",
      "_model_name": "DescriptionStyleModel",
      "_view_count": null,
      "_view_module": "@jupyter-widgets/base",
      "_view_module_version": "1.2.0",
      "_view_name": "StyleView",
      "description_width": ""
     }
    },
    "3e7ca544decf448aaa3b807925d4f260": {
     "model_module": "@jupyter-widgets/base",
     "model_module_version": "1.2.0",
     "model_name": "LayoutModel",
     "state": {
      "_model_module": "@jupyter-widgets/base",
      "_model_module_version": "1.2.0",
      "_model_name": "LayoutModel",
      "_view_count": null,
      "_view_module": "@jupyter-widgets/base",
      "_view_module_version": "1.2.0",
      "_view_name": "LayoutView",
      "align_content": null,
      "align_items": null,
      "align_self": null,
      "border": null,
      "bottom": null,
      "display": null,
      "flex": null,
      "flex_flow": null,
      "grid_area": null,
      "grid_auto_columns": null,
      "grid_auto_flow": null,
      "grid_auto_rows": null,
      "grid_column": null,
      "grid_gap": null,
      "grid_row": null,
      "grid_template_areas": null,
      "grid_template_columns": null,
      "grid_template_rows": null,
      "height": null,
      "justify_content": null,
      "justify_items": null,
      "left": null,
      "margin": null,
      "max_height": null,
      "max_width": null,
      "min_height": null,
      "min_width": null,
      "object_fit": null,
      "object_position": null,
      "order": null,
      "overflow": null,
      "overflow_x": null,
      "overflow_y": null,
      "padding": null,
      "right": null,
      "top": null,
      "visibility": null,
      "width": null
     }
    },
    "5d82cb59b8824654a21ded08004c01f1": {
     "model_module": "@jupyter-widgets/controls",
     "model_module_version": "1.5.0",
     "model_name": "HBoxModel",
     "state": {
      "_dom_classes": [],
      "_model_module": "@jupyter-widgets/controls",
      "_model_module_version": "1.5.0",
      "_model_name": "HBoxModel",
      "_view_count": null,
      "_view_module": "@jupyter-widgets/controls",
      "_view_module_version": "1.5.0",
      "_view_name": "HBoxView",
      "box_style": "",
      "children": [
       "IPY_MODEL_b3ae8057eca44439950d36d9ec08a987",
       "IPY_MODEL_15c088e1d8c74da99f3fb0c955c62875",
       "IPY_MODEL_7063224fb642434d97546f5f55c706ef"
      ],
      "layout": "IPY_MODEL_29ecece00f374776a89b5ce6e7bdc31d"
     }
    },
    "604053a05295405da7d14ecbde3539f8": {
     "model_module": "@jupyter-widgets/controls",
     "model_module_version": "1.5.0",
     "model_name": "HTMLModel",
     "state": {
      "_dom_classes": [],
      "_model_module": "@jupyter-widgets/controls",
      "_model_module_version": "1.5.0",
      "_model_name": "HTMLModel",
      "_view_count": null,
      "_view_module": "@jupyter-widgets/controls",
      "_view_module_version": "1.5.0",
      "_view_name": "HTMLView",
      "description": "",
      "description_tooltip": null,
      "layout": "IPY_MODEL_c6dc665dfcc44c02a4fdb349764d1f3a",
      "placeholder": "​",
      "style": "IPY_MODEL_aa995c724d6e48b9bab7e6a96419b3be",
      "value": "Downloading data: "
     }
    },
    "6446fa662a4b40c3b3dd39fe17bba7e2": {
     "model_module": "@jupyter-widgets/controls",
     "model_module_version": "1.5.0",
     "model_name": "HTMLModel",
     "state": {
      "_dom_classes": [],
      "_model_module": "@jupyter-widgets/controls",
      "_model_module_version": "1.5.0",
      "_model_name": "HTMLModel",
      "_view_count": null,
      "_view_module": "@jupyter-widgets/controls",
      "_view_module_version": "1.5.0",
      "_view_name": "HTMLView",
      "description": "",
      "description_tooltip": null,
      "layout": "IPY_MODEL_a4816d752df349f088eb15d4a8d94475",
      "placeholder": "​",
      "style": "IPY_MODEL_22134f7c3292447d8f2998bc44976122",
      "value": "Generating train split:  96%"
     }
    },
    "65f6c6908d604f1eb196972e7b1c20f4": {
     "model_module": "@jupyter-widgets/controls",
     "model_module_version": "1.5.0",
     "model_name": "HTMLModel",
     "state": {
      "_dom_classes": [],
      "_model_module": "@jupyter-widgets/controls",
      "_model_module_version": "1.5.0",
      "_model_name": "HTMLModel",
      "_view_count": null,
      "_view_module": "@jupyter-widgets/controls",
      "_view_module_version": "1.5.0",
      "_view_name": "HTMLView",
      "description": "",
      "description_tooltip": null,
      "layout": "IPY_MODEL_3e7ca544decf448aaa3b807925d4f260",
      "placeholder": "​",
      "style": "IPY_MODEL_9030b542946e4327943e74a4fc55f396",
      "value": " 1/1 [00:00&lt;00:00, 12.33it/s]"
     }
    },
    "7063224fb642434d97546f5f55c706ef": {
     "model_module": "@jupyter-widgets/controls",
     "model_module_version": "1.5.0",
     "model_name": "HTMLModel",
     "state": {
      "_dom_classes": [],
      "_model_module": "@jupyter-widgets/controls",
      "_model_module_version": "1.5.0",
      "_model_name": "HTMLModel",
      "_view_count": null,
      "_view_module": "@jupyter-widgets/controls",
      "_view_module_version": "1.5.0",
      "_view_name": "HTMLView",
      "description": "",
      "description_tooltip": null,
      "layout": "IPY_MODEL_3515335c7ac54574833cc6fcf50fc797",
      "placeholder": "​",
      "style": "IPY_MODEL_a1993f78862b41aeabd30a5e92a558f8",
      "value": " 1.84k/? [00:00&lt;00:00, 14.0kB/s]"
     }
    },
    "75cdfc780bca4ed38c56ad2b3884e759": {
     "model_module": "@jupyter-widgets/controls",
     "model_module_version": "1.5.0",
     "model_name": "HBoxModel",
     "state": {
      "_dom_classes": [],
      "_model_module": "@jupyter-widgets/controls",
      "_model_module_version": "1.5.0",
      "_model_name": "HBoxModel",
      "_view_count": null,
      "_view_module": "@jupyter-widgets/controls",
      "_view_module_version": "1.5.0",
      "_view_name": "HBoxView",
      "box_style": "",
      "children": [
       "IPY_MODEL_6446fa662a4b40c3b3dd39fe17bba7e2",
       "IPY_MODEL_1a73d15415be47efbffd40bbb84fe6fc",
       "IPY_MODEL_c6904de91e2541939601183b9ed97094"
      ],
      "layout": "IPY_MODEL_0e2f4b3f9bc04a8c8e529b4a5be9a008"
     }
    },
    "77692eb292644914b34ad9fba0f3980b": {
     "model_module": "@jupyter-widgets/controls",
     "model_module_version": "1.5.0",
     "model_name": "HTMLModel",
     "state": {
      "_dom_classes": [],
      "_model_module": "@jupyter-widgets/controls",
      "_model_module_version": "1.5.0",
      "_model_name": "HTMLModel",
      "_view_count": null,
      "_view_module": "@jupyter-widgets/controls",
      "_view_module_version": "1.5.0",
      "_view_name": "HTMLView",
      "description": "",
      "description_tooltip": null,
      "layout": "IPY_MODEL_1c8aa4225399435097dd95237e5724e7",
      "placeholder": "​",
      "style": "IPY_MODEL_28424ef7db684103a1224dd5e94e018b",
      "value": "Downloading builder script: "
     }
    },
    "7c99bc480b00439eb20565d122e1d060": {
     "model_module": "@jupyter-widgets/base",
     "model_module_version": "1.2.0",
     "model_name": "LayoutModel",
     "state": {
      "_model_module": "@jupyter-widgets/base",
      "_model_module_version": "1.2.0",
      "_model_name": "LayoutModel",
      "_view_count": null,
      "_view_module": "@jupyter-widgets/base",
      "_view_module_version": "1.2.0",
      "_view_name": "LayoutView",
      "align_content": null,
      "align_items": null,
      "align_self": null,
      "border": null,
      "bottom": null,
      "display": null,
      "flex": null,
      "flex_flow": null,
      "grid_area": null,
      "grid_auto_columns": null,
      "grid_auto_flow": null,
      "grid_auto_rows": null,
      "grid_column": null,
      "grid_gap": null,
      "grid_row": null,
      "grid_template_areas": null,
      "grid_template_columns": null,
      "grid_template_rows": null,
      "height": null,
      "justify_content": null,
      "justify_items": null,
      "left": null,
      "margin": null,
      "max_height": null,
      "max_width": null,
      "min_height": null,
      "min_width": null,
      "object_fit": null,
      "object_position": null,
      "order": null,
      "overflow": null,
      "overflow_x": null,
      "overflow_y": null,
      "padding": null,
      "right": null,
      "top": null,
      "visibility": null,
      "width": null
     }
    },
    "7f097c2a673345efa5dc5056574f2d17": {
     "model_module": "@jupyter-widgets/base",
     "model_module_version": "1.2.0",
     "model_name": "LayoutModel",
     "state": {
      "_model_module": "@jupyter-widgets/base",
      "_model_module_version": "1.2.0",
      "_model_name": "LayoutModel",
      "_view_count": null,
      "_view_module": "@jupyter-widgets/base",
      "_view_module_version": "1.2.0",
      "_view_name": "LayoutView",
      "align_content": null,
      "align_items": null,
      "align_self": null,
      "border": null,
      "bottom": null,
      "display": null,
      "flex": null,
      "flex_flow": null,
      "grid_area": null,
      "grid_auto_columns": null,
      "grid_auto_flow": null,
      "grid_auto_rows": null,
      "grid_column": null,
      "grid_gap": null,
      "grid_row": null,
      "grid_template_areas": null,
      "grid_template_columns": null,
      "grid_template_rows": null,
      "height": null,
      "justify_content": null,
      "justify_items": null,
      "left": null,
      "margin": null,
      "max_height": null,
      "max_width": null,
      "min_height": null,
      "min_width": null,
      "object_fit": null,
      "object_position": null,
      "order": null,
      "overflow": null,
      "overflow_x": null,
      "overflow_y": null,
      "padding": null,
      "right": null,
      "top": null,
      "visibility": null,
      "width": null
     }
    },
    "885574e0288742f28dc9dd6cc3bcbb5d": {
     "model_module": "@jupyter-widgets/controls",
     "model_module_version": "1.5.0",
     "model_name": "DescriptionStyleModel",
     "state": {
      "_model_module": "@jupyter-widgets/controls",
      "_model_module_version": "1.5.0",
      "_model_name": "DescriptionStyleModel",
      "_view_count": null,
      "_view_module": "@jupyter-widgets/base",
      "_view_module_version": "1.2.0",
      "_view_name": "StyleView",
      "description_width": ""
     }
    },
    "888faf1e019744d8906833d08e8c5bde": {
     "model_module": "@jupyter-widgets/base",
     "model_module_version": "1.2.0",
     "model_name": "LayoutModel",
     "state": {
      "_model_module": "@jupyter-widgets/base",
      "_model_module_version": "1.2.0",
      "_model_name": "LayoutModel",
      "_view_count": null,
      "_view_module": "@jupyter-widgets/base",
      "_view_module_version": "1.2.0",
      "_view_name": "LayoutView",
      "align_content": null,
      "align_items": null,
      "align_self": null,
      "border": null,
      "bottom": null,
      "display": null,
      "flex": null,
      "flex_flow": null,
      "grid_area": null,
      "grid_auto_columns": null,
      "grid_auto_flow": null,
      "grid_auto_rows": null,
      "grid_column": null,
      "grid_gap": null,
      "grid_row": null,
      "grid_template_areas": null,
      "grid_template_columns": null,
      "grid_template_rows": null,
      "height": null,
      "justify_content": null,
      "justify_items": null,
      "left": null,
      "margin": null,
      "max_height": null,
      "max_width": null,
      "min_height": null,
      "min_width": null,
      "object_fit": null,
      "object_position": null,
      "order": null,
      "overflow": null,
      "overflow_x": null,
      "overflow_y": null,
      "padding": null,
      "right": null,
      "top": null,
      "visibility": null,
      "width": null
     }
    },
    "9030b542946e4327943e74a4fc55f396": {
     "model_module": "@jupyter-widgets/controls",
     "model_module_version": "1.5.0",
     "model_name": "DescriptionStyleModel",
     "state": {
      "_model_module": "@jupyter-widgets/controls",
      "_model_module_version": "1.5.0",
      "_model_name": "DescriptionStyleModel",
      "_view_count": null,
      "_view_module": "@jupyter-widgets/base",
      "_view_module_version": "1.2.0",
      "_view_name": "StyleView",
      "description_width": ""
     }
    },
    "930820d87522448a9f384f823cef1ba7": {
     "model_module": "@jupyter-widgets/controls",
     "model_module_version": "1.5.0",
     "model_name": "DescriptionStyleModel",
     "state": {
      "_model_module": "@jupyter-widgets/controls",
      "_model_module_version": "1.5.0",
      "_model_name": "DescriptionStyleModel",
      "_view_count": null,
      "_view_module": "@jupyter-widgets/base",
      "_view_module_version": "1.2.0",
      "_view_name": "StyleView",
      "description_width": ""
     }
    },
    "96f7ef0a1ced435db2044b7cc0b2cf7c": {
     "model_module": "@jupyter-widgets/controls",
     "model_module_version": "1.5.0",
     "model_name": "ProgressStyleModel",
     "state": {
      "_model_module": "@jupyter-widgets/controls",
      "_model_module_version": "1.5.0",
      "_model_name": "ProgressStyleModel",
      "_view_count": null,
      "_view_module": "@jupyter-widgets/base",
      "_view_module_version": "1.2.0",
      "_view_name": "StyleView",
      "bar_color": null,
      "description_width": ""
     }
    },
    "9db1afb3e65e43be93717c57380135d1": {
     "model_module": "@jupyter-widgets/controls",
     "model_module_version": "1.5.0",
     "model_name": "HBoxModel",
     "state": {
      "_dom_classes": [],
      "_model_module": "@jupyter-widgets/controls",
      "_model_module_version": "1.5.0",
      "_model_name": "HBoxModel",
      "_view_count": null,
      "_view_module": "@jupyter-widgets/controls",
      "_view_module_version": "1.5.0",
      "_view_name": "HBoxView",
      "box_style": "",
      "children": [
       "IPY_MODEL_c2a11838bd2e4a37b01b37958fe5e4dd",
       "IPY_MODEL_aa65a8389e724ad0af2879ad52341b55",
       "IPY_MODEL_65f6c6908d604f1eb196972e7b1c20f4"
      ],
      "layout": "IPY_MODEL_b9d6ecdec2da4303b106e1621525188d"
     }
    },
    "a1993f78862b41aeabd30a5e92a558f8": {
     "model_module": "@jupyter-widgets/controls",
     "model_module_version": "1.5.0",
     "model_name": "DescriptionStyleModel",
     "state": {
      "_model_module": "@jupyter-widgets/controls",
      "_model_module_version": "1.5.0",
      "_model_name": "DescriptionStyleModel",
      "_view_count": null,
      "_view_module": "@jupyter-widgets/base",
      "_view_module_version": "1.2.0",
      "_view_name": "StyleView",
      "description_width": ""
     }
    },
    "a3c46c3b134d4b9fb9934cfd6151a66c": {
     "model_module": "@jupyter-widgets/controls",
     "model_module_version": "1.5.0",
     "model_name": "HTMLModel",
     "state": {
      "_dom_classes": [],
      "_model_module": "@jupyter-widgets/controls",
      "_model_module_version": "1.5.0",
      "_model_name": "HTMLModel",
      "_view_count": null,
      "_view_module": "@jupyter-widgets/controls",
      "_view_module_version": "1.5.0",
      "_view_name": "HTMLView",
      "description": "",
      "description_tooltip": null,
      "layout": "IPY_MODEL_cd00d4d4c47f422f8dd3581732dd1c0c",
      "placeholder": "​",
      "style": "IPY_MODEL_885574e0288742f28dc9dd6cc3bcbb5d",
      "value": " 3.10M/? [00:00&lt;00:00, 8.69MB/s]"
     }
    },
    "a4816d752df349f088eb15d4a8d94475": {
     "model_module": "@jupyter-widgets/base",
     "model_module_version": "1.2.0",
     "model_name": "LayoutModel",
     "state": {
      "_model_module": "@jupyter-widgets/base",
      "_model_module_version": "1.2.0",
      "_model_name": "LayoutModel",
      "_view_count": null,
      "_view_module": "@jupyter-widgets/base",
      "_view_module_version": "1.2.0",
      "_view_name": "LayoutView",
      "align_content": null,
      "align_items": null,
      "align_self": null,
      "border": null,
      "bottom": null,
      "display": null,
      "flex": null,
      "flex_flow": null,
      "grid_area": null,
      "grid_auto_columns": null,
      "grid_auto_flow": null,
      "grid_auto_rows": null,
      "grid_column": null,
      "grid_gap": null,
      "grid_row": null,
      "grid_template_areas": null,
      "grid_template_columns": null,
      "grid_template_rows": null,
      "height": null,
      "justify_content": null,
      "justify_items": null,
      "left": null,
      "margin": null,
      "max_height": null,
      "max_width": null,
      "min_height": null,
      "min_width": null,
      "object_fit": null,
      "object_position": null,
      "order": null,
      "overflow": null,
      "overflow_x": null,
      "overflow_y": null,
      "padding": null,
      "right": null,
      "top": null,
      "visibility": null,
      "width": null
     }
    },
    "a6c8c9301391468d8568cdd4af555a18": {
     "model_module": "@jupyter-widgets/controls",
     "model_module_version": "1.5.0",
     "model_name": "DescriptionStyleModel",
     "state": {
      "_model_module": "@jupyter-widgets/controls",
      "_model_module_version": "1.5.0",
      "_model_name": "DescriptionStyleModel",
      "_view_count": null,
      "_view_module": "@jupyter-widgets/base",
      "_view_module_version": "1.2.0",
      "_view_name": "StyleView",
      "description_width": ""
     }
    },
    "a7ba5003ed9349459582a76d15145cf3": {
     "model_module": "@jupyter-widgets/controls",
     "model_module_version": "1.5.0",
     "model_name": "FloatProgressModel",
     "state": {
      "_dom_classes": [],
      "_model_module": "@jupyter-widgets/controls",
      "_model_module_version": "1.5.0",
      "_model_name": "FloatProgressModel",
      "_view_count": null,
      "_view_module": "@jupyter-widgets/controls",
      "_view_module_version": "1.5.0",
      "_view_name": "ProgressView",
      "bar_style": "success",
      "description": "",
      "description_tooltip": null,
      "layout": "IPY_MODEL_11638d748b2a403c811bf61162c4d8ac",
      "max": 1448,
      "min": 0,
      "orientation": "horizontal",
      "style": "IPY_MODEL_96f7ef0a1ced435db2044b7cc0b2cf7c",
      "value": 1448
     }
    },
    "aa65a8389e724ad0af2879ad52341b55": {
     "model_module": "@jupyter-widgets/controls",
     "model_module_version": "1.5.0",
     "model_name": "FloatProgressModel",
     "state": {
      "_dom_classes": [],
      "_model_module": "@jupyter-widgets/controls",
      "_model_module_version": "1.5.0",
      "_model_name": "FloatProgressModel",
      "_view_count": null,
      "_view_module": "@jupyter-widgets/controls",
      "_view_module_version": "1.5.0",
      "_view_name": "ProgressView",
      "bar_style": "success",
      "description": "",
      "description_tooltip": null,
      "layout": "IPY_MODEL_fd3e042646c7428580b2f4dc7e964e25",
      "max": 1,
      "min": 0,
      "orientation": "horizontal",
      "style": "IPY_MODEL_afb84b4c7e0946f7a64d4fdb35c3b189",
      "value": 1
     }
    },
    "aa995c724d6e48b9bab7e6a96419b3be": {
     "model_module": "@jupyter-widgets/controls",
     "model_module_version": "1.5.0",
     "model_name": "DescriptionStyleModel",
     "state": {
      "_model_module": "@jupyter-widgets/controls",
      "_model_module_version": "1.5.0",
      "_model_name": "DescriptionStyleModel",
      "_view_count": null,
      "_view_module": "@jupyter-widgets/base",
      "_view_module_version": "1.2.0",
      "_view_name": "StyleView",
      "description_width": ""
     }
    },
    "afb84b4c7e0946f7a64d4fdb35c3b189": {
     "model_module": "@jupyter-widgets/controls",
     "model_module_version": "1.5.0",
     "model_name": "ProgressStyleModel",
     "state": {
      "_model_module": "@jupyter-widgets/controls",
      "_model_module_version": "1.5.0",
      "_model_name": "ProgressStyleModel",
      "_view_count": null,
      "_view_module": "@jupyter-widgets/base",
      "_view_module_version": "1.2.0",
      "_view_name": "StyleView",
      "bar_color": null,
      "description_width": ""
     }
    },
    "b3ae8057eca44439950d36d9ec08a987": {
     "model_module": "@jupyter-widgets/controls",
     "model_module_version": "1.5.0",
     "model_name": "HTMLModel",
     "state": {
      "_dom_classes": [],
      "_model_module": "@jupyter-widgets/controls",
      "_model_module_version": "1.5.0",
      "_model_name": "HTMLModel",
      "_view_count": null,
      "_view_module": "@jupyter-widgets/controls",
      "_view_module_version": "1.5.0",
      "_view_name": "HTMLView",
      "description": "",
      "description_tooltip": null,
      "layout": "IPY_MODEL_1f14c080703c4f1e859db27476484600",
      "placeholder": "​",
      "style": "IPY_MODEL_3bc8c5dd6474418f83245208c073cbd4",
      "value": "Downloading metadata: "
     }
    },
    "b9d6ecdec2da4303b106e1621525188d": {
     "model_module": "@jupyter-widgets/base",
     "model_module_version": "1.2.0",
     "model_name": "LayoutModel",
     "state": {
      "_model_module": "@jupyter-widgets/base",
      "_model_module_version": "1.2.0",
      "_model_name": "LayoutModel",
      "_view_count": null,
      "_view_module": "@jupyter-widgets/base",
      "_view_module_version": "1.2.0",
      "_view_name": "LayoutView",
      "align_content": null,
      "align_items": null,
      "align_self": null,
      "border": null,
      "bottom": null,
      "display": null,
      "flex": null,
      "flex_flow": null,
      "grid_area": null,
      "grid_auto_columns": null,
      "grid_auto_flow": null,
      "grid_auto_rows": null,
      "grid_column": null,
      "grid_gap": null,
      "grid_row": null,
      "grid_template_areas": null,
      "grid_template_columns": null,
      "grid_template_rows": null,
      "height": null,
      "justify_content": null,
      "justify_items": null,
      "left": null,
      "margin": null,
      "max_height": null,
      "max_width": null,
      "min_height": null,
      "min_width": null,
      "object_fit": null,
      "object_position": null,
      "order": null,
      "overflow": null,
      "overflow_x": null,
      "overflow_y": null,
      "padding": null,
      "right": null,
      "top": null,
      "visibility": null,
      "width": null
     }
    },
    "bb10b4d0ccf04b4aa5197970072fa5ea": {
     "model_module": "@jupyter-widgets/base",
     "model_module_version": "1.2.0",
     "model_name": "LayoutModel",
     "state": {
      "_model_module": "@jupyter-widgets/base",
      "_model_module_version": "1.2.0",
      "_model_name": "LayoutModel",
      "_view_count": null,
      "_view_module": "@jupyter-widgets/base",
      "_view_module_version": "1.2.0",
      "_view_name": "LayoutView",
      "align_content": null,
      "align_items": null,
      "align_self": null,
      "border": null,
      "bottom": null,
      "display": null,
      "flex": null,
      "flex_flow": null,
      "grid_area": null,
      "grid_auto_columns": null,
      "grid_auto_flow": null,
      "grid_auto_rows": null,
      "grid_column": null,
      "grid_gap": null,
      "grid_row": null,
      "grid_template_areas": null,
      "grid_template_columns": null,
      "grid_template_rows": null,
      "height": null,
      "justify_content": null,
      "justify_items": null,
      "left": null,
      "margin": null,
      "max_height": null,
      "max_width": null,
      "min_height": null,
      "min_width": null,
      "object_fit": null,
      "object_position": null,
      "order": null,
      "overflow": null,
      "overflow_x": null,
      "overflow_y": null,
      "padding": null,
      "right": null,
      "top": null,
      "visibility": null,
      "width": null
     }
    },
    "c0304393e2884ff2ba7b7f274a1f72e7": {
     "model_module": "@jupyter-widgets/controls",
     "model_module_version": "1.5.0",
     "model_name": "FloatProgressModel",
     "state": {
      "_dom_classes": [],
      "_model_module": "@jupyter-widgets/controls",
      "_model_module_version": "1.5.0",
      "_model_name": "FloatProgressModel",
      "_view_count": null,
      "_view_module": "@jupyter-widgets/controls",
      "_view_module_version": "1.5.0",
      "_view_name": "ProgressView",
      "bar_style": "success",
      "description": "",
      "description_tooltip": null,
      "layout": "IPY_MODEL_c09c72ec78034334a006ce3684a29412",
      "max": 1276746,
      "min": 0,
      "orientation": "horizontal",
      "style": "IPY_MODEL_fb3d59314312417194af36596912f0ee",
      "value": 1276746
     }
    },
    "c09c72ec78034334a006ce3684a29412": {
     "model_module": "@jupyter-widgets/base",
     "model_module_version": "1.2.0",
     "model_name": "LayoutModel",
     "state": {
      "_model_module": "@jupyter-widgets/base",
      "_model_module_version": "1.2.0",
      "_model_name": "LayoutModel",
      "_view_count": null,
      "_view_module": "@jupyter-widgets/base",
      "_view_module_version": "1.2.0",
      "_view_name": "LayoutView",
      "align_content": null,
      "align_items": null,
      "align_self": null,
      "border": null,
      "bottom": null,
      "display": null,
      "flex": null,
      "flex_flow": null,
      "grid_area": null,
      "grid_auto_columns": null,
      "grid_auto_flow": null,
      "grid_auto_rows": null,
      "grid_column": null,
      "grid_gap": null,
      "grid_row": null,
      "grid_template_areas": null,
      "grid_template_columns": null,
      "grid_template_rows": null,
      "height": null,
      "justify_content": null,
      "justify_items": null,
      "left": null,
      "margin": null,
      "max_height": null,
      "max_width": null,
      "min_height": null,
      "min_width": null,
      "object_fit": null,
      "object_position": null,
      "order": null,
      "overflow": null,
      "overflow_x": null,
      "overflow_y": null,
      "padding": null,
      "right": null,
      "top": null,
      "visibility": null,
      "width": null
     }
    },
    "c2a11838bd2e4a37b01b37958fe5e4dd": {
     "model_module": "@jupyter-widgets/controls",
     "model_module_version": "1.5.0",
     "model_name": "HTMLModel",
     "state": {
      "_dom_classes": [],
      "_model_module": "@jupyter-widgets/controls",
      "_model_module_version": "1.5.0",
      "_model_name": "HTMLModel",
      "_view_count": null,
      "_view_module": "@jupyter-widgets/controls",
      "_view_module_version": "1.5.0",
      "_view_name": "HTMLView",
      "description": "",
      "description_tooltip": null,
      "layout": "IPY_MODEL_7f097c2a673345efa5dc5056574f2d17",
      "placeholder": "​",
      "style": "IPY_MODEL_930820d87522448a9f384f823cef1ba7",
      "value": "100%"
     }
    },
    "c6904de91e2541939601183b9ed97094": {
     "model_module": "@jupyter-widgets/controls",
     "model_module_version": "1.5.0",
     "model_name": "HTMLModel",
     "state": {
      "_dom_classes": [],
      "_model_module": "@jupyter-widgets/controls",
      "_model_module_version": "1.5.0",
      "_model_name": "HTMLModel",
      "_view_count": null,
      "_view_module": "@jupyter-widgets/controls",
      "_view_module_version": "1.5.0",
      "_view_name": "HTMLView",
      "description": "",
      "description_tooltip": null,
      "layout": "IPY_MODEL_e6e3c67b71ce48d2a24ea54dbf026336",
      "placeholder": "​",
      "style": "IPY_MODEL_a6c8c9301391468d8568cdd4af555a18",
      "value": " 30685/31962 [00:02&lt;00:00, 11829.55 examples/s]"
     }
    },
    "c6dc665dfcc44c02a4fdb349764d1f3a": {
     "model_module": "@jupyter-widgets/base",
     "model_module_version": "1.2.0",
     "model_name": "LayoutModel",
     "state": {
      "_model_module": "@jupyter-widgets/base",
      "_model_module_version": "1.2.0",
      "_model_name": "LayoutModel",
      "_view_count": null,
      "_view_module": "@jupyter-widgets/base",
      "_view_module_version": "1.2.0",
      "_view_name": "LayoutView",
      "align_content": null,
      "align_items": null,
      "align_self": null,
      "border": null,
      "bottom": null,
      "display": null,
      "flex": null,
      "flex_flow": null,
      "grid_area": null,
      "grid_auto_columns": null,
      "grid_auto_flow": null,
      "grid_auto_rows": null,
      "grid_column": null,
      "grid_gap": null,
      "grid_row": null,
      "grid_template_areas": null,
      "grid_template_columns": null,
      "grid_template_rows": null,
      "height": null,
      "justify_content": null,
      "justify_items": null,
      "left": null,
      "margin": null,
      "max_height": null,
      "max_width": null,
      "min_height": null,
      "min_width": null,
      "object_fit": null,
      "object_position": null,
      "order": null,
      "overflow": null,
      "overflow_x": null,
      "overflow_y": null,
      "padding": null,
      "right": null,
      "top": null,
      "visibility": null,
      "width": null
     }
    },
    "cd00d4d4c47f422f8dd3581732dd1c0c": {
     "model_module": "@jupyter-widgets/base",
     "model_module_version": "1.2.0",
     "model_name": "LayoutModel",
     "state": {
      "_model_module": "@jupyter-widgets/base",
      "_model_module_version": "1.2.0",
      "_model_name": "LayoutModel",
      "_view_count": null,
      "_view_module": "@jupyter-widgets/base",
      "_view_module_version": "1.2.0",
      "_view_name": "LayoutView",
      "align_content": null,
      "align_items": null,
      "align_self": null,
      "border": null,
      "bottom": null,
      "display": null,
      "flex": null,
      "flex_flow": null,
      "grid_area": null,
      "grid_auto_columns": null,
      "grid_auto_flow": null,
      "grid_auto_rows": null,
      "grid_column": null,
      "grid_gap": null,
      "grid_row": null,
      "grid_template_areas": null,
      "grid_template_columns": null,
      "grid_template_rows": null,
      "height": null,
      "justify_content": null,
      "justify_items": null,
      "left": null,
      "margin": null,
      "max_height": null,
      "max_width": null,
      "min_height": null,
      "min_width": null,
      "object_fit": null,
      "object_position": null,
      "order": null,
      "overflow": null,
      "overflow_x": null,
      "overflow_y": null,
      "padding": null,
      "right": null,
      "top": null,
      "visibility": null,
      "width": null
     }
    },
    "e5c27deea54c416e9b668457f62ad5a7": {
     "model_module": "@jupyter-widgets/controls",
     "model_module_version": "1.5.0",
     "model_name": "ProgressStyleModel",
     "state": {
      "_model_module": "@jupyter-widgets/controls",
      "_model_module_version": "1.5.0",
      "_model_name": "ProgressStyleModel",
      "_view_count": null,
      "_view_module": "@jupyter-widgets/base",
      "_view_module_version": "1.2.0",
      "_view_name": "StyleView",
      "bar_color": null,
      "description_width": ""
     }
    },
    "e6e3c67b71ce48d2a24ea54dbf026336": {
     "model_module": "@jupyter-widgets/base",
     "model_module_version": "1.2.0",
     "model_name": "LayoutModel",
     "state": {
      "_model_module": "@jupyter-widgets/base",
      "_model_module_version": "1.2.0",
      "_model_name": "LayoutModel",
      "_view_count": null,
      "_view_module": "@jupyter-widgets/base",
      "_view_module_version": "1.2.0",
      "_view_name": "LayoutView",
      "align_content": null,
      "align_items": null,
      "align_self": null,
      "border": null,
      "bottom": null,
      "display": null,
      "flex": null,
      "flex_flow": null,
      "grid_area": null,
      "grid_auto_columns": null,
      "grid_auto_flow": null,
      "grid_auto_rows": null,
      "grid_column": null,
      "grid_gap": null,
      "grid_row": null,
      "grid_template_areas": null,
      "grid_template_columns": null,
      "grid_template_rows": null,
      "height": null,
      "justify_content": null,
      "justify_items": null,
      "left": null,
      "margin": null,
      "max_height": null,
      "max_width": null,
      "min_height": null,
      "min_width": null,
      "object_fit": null,
      "object_position": null,
      "order": null,
      "overflow": null,
      "overflow_x": null,
      "overflow_y": null,
      "padding": null,
      "right": null,
      "top": null,
      "visibility": null,
      "width": null
     }
    },
    "f1f98dd1e5224d76b6b732ea18716213": {
     "model_module": "@jupyter-widgets/controls",
     "model_module_version": "1.5.0",
     "model_name": "ProgressStyleModel",
     "state": {
      "_model_module": "@jupyter-widgets/controls",
      "_model_module_version": "1.5.0",
      "_model_name": "ProgressStyleModel",
      "_view_count": null,
      "_view_module": "@jupyter-widgets/base",
      "_view_module_version": "1.2.0",
      "_view_name": "StyleView",
      "bar_color": null,
      "description_width": ""
     }
    },
    "f4de580834004ad09b9ddd4cb438e8e4": {
     "model_module": "@jupyter-widgets/base",
     "model_module_version": "1.2.0",
     "model_name": "LayoutModel",
     "state": {
      "_model_module": "@jupyter-widgets/base",
      "_model_module_version": "1.2.0",
      "_model_name": "LayoutModel",
      "_view_count": null,
      "_view_module": "@jupyter-widgets/base",
      "_view_module_version": "1.2.0",
      "_view_name": "LayoutView",
      "align_content": null,
      "align_items": null,
      "align_self": null,
      "border": null,
      "bottom": null,
      "display": null,
      "flex": null,
      "flex_flow": null,
      "grid_area": null,
      "grid_auto_columns": null,
      "grid_auto_flow": null,
      "grid_auto_rows": null,
      "grid_column": null,
      "grid_gap": null,
      "grid_row": null,
      "grid_template_areas": null,
      "grid_template_columns": null,
      "grid_template_rows": null,
      "height": null,
      "justify_content": null,
      "justify_items": null,
      "left": null,
      "margin": null,
      "max_height": null,
      "max_width": null,
      "min_height": null,
      "min_width": null,
      "object_fit": null,
      "object_position": null,
      "order": null,
      "overflow": null,
      "overflow_x": null,
      "overflow_y": null,
      "padding": null,
      "right": null,
      "top": null,
      "visibility": null,
      "width": null
     }
    },
    "fb3d59314312417194af36596912f0ee": {
     "model_module": "@jupyter-widgets/controls",
     "model_module_version": "1.5.0",
     "model_name": "ProgressStyleModel",
     "state": {
      "_model_module": "@jupyter-widgets/controls",
      "_model_module_version": "1.5.0",
      "_model_name": "ProgressStyleModel",
      "_view_count": null,
      "_view_module": "@jupyter-widgets/base",
      "_view_module_version": "1.2.0",
      "_view_name": "StyleView",
      "bar_color": null,
      "description_width": ""
     }
    },
    "fd3e042646c7428580b2f4dc7e964e25": {
     "model_module": "@jupyter-widgets/base",
     "model_module_version": "1.2.0",
     "model_name": "LayoutModel",
     "state": {
      "_model_module": "@jupyter-widgets/base",
      "_model_module_version": "1.2.0",
      "_model_name": "LayoutModel",
      "_view_count": null,
      "_view_module": "@jupyter-widgets/base",
      "_view_module_version": "1.2.0",
      "_view_name": "LayoutView",
      "align_content": null,
      "align_items": null,
      "align_self": null,
      "border": null,
      "bottom": null,
      "display": null,
      "flex": null,
      "flex_flow": null,
      "grid_area": null,
      "grid_auto_columns": null,
      "grid_auto_flow": null,
      "grid_auto_rows": null,
      "grid_column": null,
      "grid_gap": null,
      "grid_row": null,
      "grid_template_areas": null,
      "grid_template_columns": null,
      "grid_template_rows": null,
      "height": null,
      "justify_content": null,
      "justify_items": null,
      "left": null,
      "margin": null,
      "max_height": null,
      "max_width": null,
      "min_height": null,
      "min_width": null,
      "object_fit": null,
      "object_position": null,
      "order": null,
      "overflow": null,
      "overflow_x": null,
      "overflow_y": null,
      "padding": null,
      "right": null,
      "top": null,
      "visibility": null,
      "width": null
     }
    }
   }
  }
 },
 "nbformat": 4,
 "nbformat_minor": 5
}
