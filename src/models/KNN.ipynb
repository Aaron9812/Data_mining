{
 "cells": [
  {
   "cell_type": "code",
   "execution_count": 1,
   "metadata": {
    "colab": {
     "base_uri": "https://localhost:8080/"
    },
    "id": "OXpgP2m6l4s_",
    "outputId": "b3b99481-b4a8-4303-e6bc-c2d32cfc9ce3"
   },
   "outputs": [
    {
     "name": "stdout",
     "output_type": "stream",
     "text": [
      "Looking in indexes: https://int.repositories.cloud.sap/artifactory/api/pypi/build-releases-pypi/simple, https://int.repositories.cloud.sap/artifactory/api/pypi/build-milestones-pypi/simple\n",
      "Requirement already satisfied: datasets in c:\\users\\d073999\\miniconda3\\lib\\site-packages (2.1.0)\n",
      "Requirement already satisfied: dill in c:\\users\\d073999\\miniconda3\\lib\\site-packages (from datasets) (0.3.4)\n",
      "Requirement already satisfied: packaging in c:\\users\\d073999\\miniconda3\\lib\\site-packages (from datasets) (21.0)\n",
      "Requirement already satisfied: fsspec[http]>=2021.05.0 in c:\\users\\d073999\\miniconda3\\lib\\site-packages (from datasets) (2022.3.0)\n",
      "Requirement already satisfied: tqdm>=4.62.1 in c:\\users\\d073999\\miniconda3\\lib\\site-packages (from datasets) (4.64.0)\n",
      "Requirement already satisfied: pandas in c:\\users\\d073999\\miniconda3\\lib\\site-packages (from datasets) (1.4.1)\n",
      "Requirement already satisfied: requests>=2.19.0 in c:\\users\\d073999\\miniconda3\\lib\\site-packages (from datasets) (2.25.1)\n",
      "Requirement already satisfied: huggingface-hub<1.0.0,>=0.1.0 in c:\\users\\d073999\\miniconda3\\lib\\site-packages (from datasets) (0.5.1)\n",
      "Requirement already satisfied: xxhash in c:\\users\\d073999\\miniconda3\\lib\\site-packages (from datasets) (3.0.0)\n",
      "Requirement already satisfied: numpy>=1.17 in c:\\users\\d073999\\miniconda3\\lib\\site-packages (from datasets) (1.21.5)\n",
      "Requirement already satisfied: responses<0.19 in c:\\users\\d073999\\miniconda3\\lib\\site-packages (from datasets) (0.18.0)\n",
      "Requirement already satisfied: multiprocess in c:\\users\\d073999\\miniconda3\\lib\\site-packages (from datasets) (0.70.12.2)\n",
      "Requirement already satisfied: aiohttp in c:\\users\\d073999\\miniconda3\\lib\\site-packages (from datasets) (3.8.1)\n",
      "Requirement already satisfied: pyarrow>=5.0.0 in c:\\users\\d073999\\miniconda3\\lib\\site-packages (from datasets) (7.0.0)\n",
      "Requirement already satisfied: pyyaml in c:\\users\\d073999\\miniconda3\\lib\\site-packages (from huggingface-hub<1.0.0,>=0.1.0->datasets) (6.0)\n",
      "Requirement already satisfied: filelock in c:\\users\\d073999\\miniconda3\\lib\\site-packages (from huggingface-hub<1.0.0,>=0.1.0->datasets) (3.6.0)\n",
      "Requirement already satisfied: typing-extensions>=3.7.4.3 in c:\\users\\d073999\\miniconda3\\lib\\site-packages (from huggingface-hub<1.0.0,>=0.1.0->datasets) (4.1.1)\n",
      "Requirement already satisfied: pyparsing>=2.0.2 in c:\\users\\d073999\\miniconda3\\lib\\site-packages (from packaging->datasets) (2.4.7)\n",
      "Requirement already satisfied: certifi>=2017.4.17 in c:\\users\\d073999\\miniconda3\\lib\\site-packages (from requests>=2.19.0->datasets) (2021.10.8)\n",
      "Requirement already satisfied: chardet<5,>=3.0.2 in c:\\users\\d073999\\miniconda3\\lib\\site-packages (from requests>=2.19.0->datasets) (4.0.0)\n",
      "Requirement already satisfied: idna<3,>=2.5 in c:\\users\\d073999\\miniconda3\\lib\\site-packages (from requests>=2.19.0->datasets) (2.10)\n",
      "Requirement already satisfied: urllib3<1.27,>=1.21.1 in c:\\users\\d073999\\miniconda3\\lib\\site-packages (from requests>=2.19.0->datasets) (1.26.6)\n",
      "Requirement already satisfied: colorama in c:\\users\\d073999\\miniconda3\\lib\\site-packages (from tqdm>=4.62.1->datasets) (0.4.4)\n",
      "Requirement already satisfied: frozenlist>=1.1.1 in c:\\users\\d073999\\miniconda3\\lib\\site-packages (from aiohttp->datasets) (1.3.0)\n",
      "Requirement already satisfied: multidict<7.0,>=4.5 in c:\\users\\d073999\\miniconda3\\lib\\site-packages (from aiohttp->datasets) (6.0.2)\n",
      "Requirement already satisfied: attrs>=17.3.0 in c:\\users\\d073999\\miniconda3\\lib\\site-packages (from aiohttp->datasets) (21.2.0)\n",
      "Requirement already satisfied: async-timeout<5.0,>=4.0.0a3 in c:\\users\\d073999\\miniconda3\\lib\\site-packages (from aiohttp->datasets) (4.0.2)\n",
      "Requirement already satisfied: charset-normalizer<3.0,>=2.0 in c:\\users\\d073999\\miniconda3\\lib\\site-packages (from aiohttp->datasets) (2.0.12)\n",
      "Requirement already satisfied: aiosignal>=1.1.2 in c:\\users\\d073999\\miniconda3\\lib\\site-packages (from aiohttp->datasets) (1.2.0)\n",
      "Requirement already satisfied: yarl<2.0,>=1.0 in c:\\users\\d073999\\miniconda3\\lib\\site-packages (from aiohttp->datasets) (1.7.2)\n",
      "Requirement already satisfied: python-dateutil>=2.8.1 in c:\\users\\d073999\\miniconda3\\lib\\site-packages (from pandas->datasets) (2.8.2)\n",
      "Requirement already satisfied: pytz>=2020.1 in c:\\users\\d073999\\miniconda3\\lib\\site-packages (from pandas->datasets) (2021.3)\n",
      "Requirement already satisfied: six>=1.5 in c:\\users\\d073999\\miniconda3\\lib\\site-packages (from python-dateutil>=2.8.1->pandas->datasets) (1.16.0)\n"
     ]
    },
    {
     "name": "stderr",
     "output_type": "stream",
     "text": [
      "WARNING: You are using pip version 21.3.1; however, version 22.0.4 is available.\n",
      "You should consider upgrading via the 'c:\\users\\d073999\\miniconda3\\python.exe -m pip install --upgrade pip' command.\n"
     ]
    }
   ],
   "source": [
    "!pip install datasets"
   ]
  },
  {
   "cell_type": "code",
   "execution_count": 2,
   "metadata": {},
   "outputs": [
    {
     "name": "stdout",
     "output_type": "stream",
     "text": [
      "Looking in indexes: https://int.repositories.cloud.sap/artifactory/api/pypi/build-releases-pypi/simple, https://int.repositories.cloud.sap/artifactory/api/pypi/build-milestones-pypi/simple\n",
      "Collecting seaborn\n",
      "  Using cached https://int.repositories.cloud.sap/artifactory/api/pypi/build-milestones-pypi/packages/packages/10/5b/0479d7d845b5ba410ca702ffcd7f2cd95a14a4dfff1fde2637802b258b9b/seaborn-0.11.2-py3-none-any.whl (292 kB)\n",
      "Requirement already satisfied: pandas in c:\\users\\d073999\\miniconda3\\lib\\site-packages (1.4.1)\n",
      "Requirement already satisfied: numpy in c:\\users\\d073999\\miniconda3\\lib\\site-packages (1.21.5)\n",
      "Requirement already satisfied: matplotlib in c:\\users\\d073999\\miniconda3\\lib\\site-packages (3.5.1)\n",
      "Collecting sklearn\n",
      "  Using cached sklearn-0.0-py2.py3-none-any.whl\n",
      "Requirement already satisfied: torch in c:\\users\\d073999\\miniconda3\\lib\\site-packages (1.10.2)\n"
     ]
    },
    {
     "name": "stderr",
     "output_type": "stream",
     "text": [
      "WARNING: You are using pip version 21.3.1; however, version 22.0.4 is available.\n",
      "You should consider upgrading via the 'c:\\users\\d073999\\miniconda3\\python.exe -m pip install --upgrade pip' command.\n"
     ]
    },
    {
     "name": "stdout",
     "output_type": "stream",
     "text": [
      "Requirement already satisfied: scipy>=1.0 in c:\\users\\d073999\\miniconda3\\lib\\site-packages (from seaborn) (1.8.0)\n",
      "Requirement already satisfied: python-dateutil>=2.8.1 in c:\\users\\d073999\\miniconda3\\lib\\site-packages (from pandas) (2.8.2)\n",
      "Requirement already satisfied: pytz>=2020.1 in c:\\users\\d073999\\miniconda3\\lib\\site-packages (from pandas) (2021.3)\n",
      "Requirement already satisfied: pillow>=6.2.0 in c:\\users\\d073999\\miniconda3\\lib\\site-packages (from matplotlib) (9.0.1)\n",
      "Requirement already satisfied: cycler>=0.10 in c:\\users\\d073999\\miniconda3\\lib\\site-packages (from matplotlib) (0.11.0)\n",
      "Requirement already satisfied: fonttools>=4.22.0 in c:\\users\\d073999\\miniconda3\\lib\\site-packages (from matplotlib) (4.29.1)\n",
      "Requirement already satisfied: kiwisolver>=1.0.1 in c:\\users\\d073999\\miniconda3\\lib\\site-packages (from matplotlib) (1.3.2)\n",
      "Requirement already satisfied: packaging>=20.0 in c:\\users\\d073999\\miniconda3\\lib\\site-packages (from matplotlib) (21.0)\n",
      "Requirement already satisfied: pyparsing>=2.2.1 in c:\\users\\d073999\\miniconda3\\lib\\site-packages (from matplotlib) (2.4.7)\n",
      "Requirement already satisfied: scikit-learn in c:\\users\\d073999\\miniconda3\\lib\\site-packages (from sklearn) (1.0.2)\n",
      "Requirement already satisfied: typing_extensions in c:\\users\\d073999\\miniconda3\\lib\\site-packages (from torch) (4.1.1)\n",
      "Requirement already satisfied: six>=1.5 in c:\\users\\d073999\\miniconda3\\lib\\site-packages (from python-dateutil>=2.8.1->pandas) (1.16.0)\n",
      "Requirement already satisfied: joblib>=0.11 in c:\\users\\d073999\\miniconda3\\lib\\site-packages (from scikit-learn->sklearn) (1.1.0)\n",
      "Requirement already satisfied: threadpoolctl>=2.0.0 in c:\\users\\d073999\\miniconda3\\lib\\site-packages (from scikit-learn->sklearn) (3.1.0)\n",
      "Installing collected packages: sklearn, seaborn\n",
      "Successfully installed seaborn-0.11.2 sklearn-0.0\n"
     ]
    }
   ],
   "source": [
    "!pip install seaborn pandas numpy matplotlib sklearn torch "
   ]
  },
  {
   "cell_type": "code",
   "execution_count": 1,
   "metadata": {
    "id": "aeVbKIG2kdys"
   },
   "outputs": [],
   "source": [
    "# import libraries\n",
    "\n",
    "import seaborn as sns\n",
    "import pandas as pd\n",
    "import numpy as np\n",
    "#from datasets import list_datasets, load_dataset # hugging face dataset\n",
    "from pprint import pprint\n",
    "import seaborn as sns\n",
    "import matplotlib.pyplot as plt\n",
    "import warnings\n",
    "warnings.filterwarnings('ignore')\n",
    "\n",
    "from sklearn.model_selection import train_test_split\n",
    "from sklearn.utils import resample\n",
    "import random\n",
    "import torch\n",
    "RANDOM_SEED = 42\n",
    "random.seed(RANDOM_SEED)\n",
    "np.random.seed(RANDOM_SEED)\n",
    "torch.manual_seed(RANDOM_SEED)\n",
    "torch.cuda.manual_seed_all(RANDOM_SEED)\n",
    "\n",
    "import os\n",
    "import glob\n",
    "import sys\n",
    "sys.path.append(os.path.dirname((os.path.abspath(''))))\n",
    "\n",
    "from datasets import list_datasets, load_dataset\n",
    "from pprint import pprint"
   ]
  },
  {
   "cell_type": "code",
   "execution_count": 5,
   "metadata": {
    "id": "S947iQ5Tmrzx"
   },
   "outputs": [],
   "source": [
    "datasets_list = list_datasets() \n",
    "#pprint(datasets_list,compact=True) "
   ]
  },
  {
   "cell_type": "code",
   "execution_count": null,
   "metadata": {},
   "outputs": [],
   "source": [
    "import sys  \n",
    "sys.path.insert(0, '/path/to/application/app/folder')\n",
    "\n",
    "import file"
   ]
  },
  {
   "cell_type": "markdown",
   "metadata": {
    "id": "XPP6B6VXyJDD"
   },
   "source": [
    "Colab craches skip this for now"
   ]
  },
  {
   "cell_type": "code",
   "execution_count": 25,
   "metadata": {
    "colab": {
     "base_uri": "https://localhost:8080/",
     "height": 83,
     "referenced_widgets": [
      "c0e2153a1cdc4b1b9a4529bca0ebe22f",
      "a70a0499ad2542c489de80b8145814b5",
      "35c43543413d42e1a01fdf43505ec583",
      "92bf5009babc4a6a868debb9f732a532",
      "034fa9e57cd04f0cb7b06d9c72917ce7",
      "fa4f9326c232407498da36923b6497dc",
      "b056f2edc7ee4561bcdb2b8fa3d13109",
      "f3ecb212ebd34f888e77a7941fbc1807",
      "8f9a40ccf4e644278114be35d54be80e",
      "851c9359070b46b399733fbc72c4cb43",
      "cb41ce2d09fc4eb8b8b7cf49519e6727"
     ]
    },
    "id": "BWAux-QWq_7b",
    "outputId": "1010bdb0-5fe5-4902-bbcc-a499fd282ad4"
   },
   "outputs": [
    {
     "data": {
      "text/html": [
       "<div>\n",
       "<style scoped>\n",
       "    .dataframe tbody tr th:only-of-type {\n",
       "        vertical-align: middle;\n",
       "    }\n",
       "\n",
       "    .dataframe tbody tr th {\n",
       "        vertical-align: top;\n",
       "    }\n",
       "\n",
       "    .dataframe thead th {\n",
       "        text-align: right;\n",
       "    }\n",
       "</style>\n",
       "<table border=\"1\" class=\"dataframe\">\n",
       "  <thead>\n",
       "    <tr style=\"text-align: right;\">\n",
       "      <th></th>\n",
       "      <th>id</th>\n",
       "      <th>label</th>\n",
       "      <th>tweet</th>\n",
       "    </tr>\n",
       "  </thead>\n",
       "  <tbody>\n",
       "    <tr>\n",
       "      <th>0</th>\n",
       "      <td>1</td>\n",
       "      <td>0</td>\n",
       "      <td>@user when a father is dysfunctional and is s...</td>\n",
       "    </tr>\n",
       "    <tr>\n",
       "      <th>1</th>\n",
       "      <td>2</td>\n",
       "      <td>0</td>\n",
       "      <td>@user @user thanks for #lyft credit i can't us...</td>\n",
       "    </tr>\n",
       "    <tr>\n",
       "      <th>2</th>\n",
       "      <td>3</td>\n",
       "      <td>0</td>\n",
       "      <td>bihday your majesty</td>\n",
       "    </tr>\n",
       "    <tr>\n",
       "      <th>3</th>\n",
       "      <td>4</td>\n",
       "      <td>0</td>\n",
       "      <td>#model   i love u take with u all the time in ...</td>\n",
       "    </tr>\n",
       "    <tr>\n",
       "      <th>4</th>\n",
       "      <td>5</td>\n",
       "      <td>0</td>\n",
       "      <td>factsguide: society now    #motivation</td>\n",
       "    </tr>\n",
       "  </tbody>\n",
       "</table>\n",
       "</div>"
      ],
      "text/plain": [
       "   id  label                                              tweet\n",
       "0   1      0   @user when a father is dysfunctional and is s...\n",
       "1   2      0  @user @user thanks for #lyft credit i can't us...\n",
       "2   3      0                                bihday your majesty\n",
       "3   4      0  #model   i love u take with u all the time in ...\n",
       "4   5      0             factsguide: society now    #motivation"
      ]
     },
     "execution_count": 25,
     "metadata": {},
     "output_type": "execute_result"
    }
   ],
   "source": [
    "hate_speech = pd.read_csv(\"./train_tweet.csv\", sep=',', error_bad_lines=False) #\n",
    "hate_speech.head()#load_dataset(\"tweets_hate_speech_detection\")"
   ]
  },
  {
   "cell_type": "code",
   "execution_count": 26,
   "metadata": {
    "id": "Gkq7tsw8xYIC"
   },
   "outputs": [],
   "source": [
    "df_hate_speech = hate_speech#hate_speech[\"train\"].to_pandas()"
   ]
  },
  {
   "cell_type": "code",
   "execution_count": 27,
   "metadata": {
    "colab": {
     "base_uri": "https://localhost:8080/"
    },
    "id": "gThrMKsxx6Vl",
    "outputId": "9434fc42-fe45-456a-fbc8-9cee1a18b8aa"
   },
   "outputs": [
    {
     "data": {
      "text/plain": [
       "(31962, 3)"
      ]
     },
     "execution_count": 27,
     "metadata": {},
     "output_type": "execute_result"
    }
   ],
   "source": [
    "df_hate_speech.shape #(31962, 14)"
   ]
  },
  {
   "cell_type": "code",
   "execution_count": 28,
   "metadata": {
    "colab": {
     "base_uri": "https://localhost:8080/"
    },
    "id": "efeOfsG9zjT5",
    "outputId": "b257a470-d703-4d96-9a98-db908a54d70f"
   },
   "outputs": [
    {
     "data": {
      "text/plain": [
       "0    29720\n",
       "1     2242\n",
       "Name: label, dtype: int64"
      ]
     },
     "execution_count": 28,
     "metadata": {},
     "output_type": "execute_result"
    }
   ],
   "source": [
    "df_hate_speech['label'].value_counts()"
   ]
  },
  {
   "cell_type": "code",
   "execution_count": 29,
   "metadata": {
    "colab": {
     "base_uri": "https://localhost:8080/",
     "height": 423
    },
    "id": "BU4UM5xZyBav",
    "outputId": "11507266-cf4b-4c5f-f97b-12bcbdea20a1"
   },
   "outputs": [
    {
     "data": {
      "text/html": [
       "<div>\n",
       "<style scoped>\n",
       "    .dataframe tbody tr th:only-of-type {\n",
       "        vertical-align: middle;\n",
       "    }\n",
       "\n",
       "    .dataframe tbody tr th {\n",
       "        vertical-align: top;\n",
       "    }\n",
       "\n",
       "    .dataframe thead th {\n",
       "        text-align: right;\n",
       "    }\n",
       "</style>\n",
       "<table border=\"1\" class=\"dataframe\">\n",
       "  <thead>\n",
       "    <tr style=\"text-align: right;\">\n",
       "      <th></th>\n",
       "      <th>id</th>\n",
       "      <th>label</th>\n",
       "      <th>tweet</th>\n",
       "    </tr>\n",
       "  </thead>\n",
       "  <tbody>\n",
       "    <tr>\n",
       "      <th>29615</th>\n",
       "      <td>29616</td>\n",
       "      <td>0</td>\n",
       "      <td>ó¾­© duchess ó¾  roxie sinesh  ó¾­© â½ #sup...</td>\n",
       "    </tr>\n",
       "    <tr>\n",
       "      <th>8385</th>\n",
       "      <td>8386</td>\n",
       "      <td>0</td>\n",
       "      <td>ó¾¬¥ó¾ó¾¬ó¾­ #daughter @user just got #gra...</td>\n",
       "    </tr>\n",
       "    <tr>\n",
       "      <th>22314</th>\n",
       "      <td>22315</td>\n",
       "      <td>0</td>\n",
       "      <td>ó¾¬chill time with my fave guilty pleasure an...</td>\n",
       "    </tr>\n",
       "    <tr>\n",
       "      <th>11031</th>\n",
       "      <td>11032</td>\n",
       "      <td>0</td>\n",
       "      <td>ó¾¬ó¾¬ó¾¬ love you. ó¾¬ó¾¬ó¾¬ . #sunday ...</td>\n",
       "    </tr>\n",
       "    <tr>\n",
       "      <th>4739</th>\n",
       "      <td>4740</td>\n",
       "      <td>0</td>\n",
       "      <td>ó¾ð»ó¾ð»ó¾ð»   #sunday  #relax #fu...</td>\n",
       "    </tr>\n",
       "    <tr>\n",
       "      <th>...</th>\n",
       "      <td>...</td>\n",
       "      <td>...</td>\n",
       "      <td>...</td>\n",
       "    </tr>\n",
       "    <tr>\n",
       "      <th>19126</th>\n",
       "      <td>19127</td>\n",
       "      <td>0</td>\n",
       "      <td>#fathersday to all the the #dads and to my ...</td>\n",
       "    </tr>\n",
       "    <tr>\n",
       "      <th>18879</th>\n",
       "      <td>18880</td>\n",
       "      <td>0</td>\n",
       "      <td>#bihday on 29/6 44 where has the time gone xx</td>\n",
       "    </tr>\n",
       "    <tr>\n",
       "      <th>30673</th>\n",
       "      <td>30674</td>\n",
       "      <td>0</td>\n",
       "      <td>#90th bihday to #her #majesty the #queen, q...</td>\n",
       "    </tr>\n",
       "    <tr>\n",
       "      <th>8611</th>\n",
       "      <td>8612</td>\n",
       "      <td>0</td>\n",
       "      <td>what you conjure up a smile today?</td>\n",
       "    </tr>\n",
       "    <tr>\n",
       "      <th>13159</th>\n",
       "      <td>13160</td>\n",
       "      <td>0</td>\n",
       "      <td>#friday #beat #instrumental the wonder of ...</td>\n",
       "    </tr>\n",
       "  </tbody>\n",
       "</table>\n",
       "<p>31962 rows × 3 columns</p>\n",
       "</div>"
      ],
      "text/plain": [
       "          id  label                                              tweet\n",
       "29615  29616      0  ó¾­© duchess ó¾  roxie sinesh  ó¾­© â½ #sup...\n",
       "8385    8386      0  ó¾¬¥ó¾ó¾¬ó¾­ #daughter @user just got #gra...\n",
       "22314  22315      0  ó¾¬chill time with my fave guilty pleasure an...\n",
       "11031  11032      0  ó¾¬ó¾¬ó¾¬ love you. ó¾¬ó¾¬ó¾¬ . #sunday ...\n",
       "4739    4740      0  ó¾ð»ó¾ð»ó¾ð»   #sunday  #relax #fu...\n",
       "...      ...    ...                                                ...\n",
       "19126  19127      0     #fathersday to all the the #dads and to my ...\n",
       "18879  18880      0      #bihday on 29/6 44 where has the time gone xx\n",
       "30673  30674      0     #90th bihday to #her #majesty the #queen, q...\n",
       "8611    8612      0                 what you conjure up a smile today?\n",
       "13159  13160      0      #friday #beat #instrumental the wonder of ...\n",
       "\n",
       "[31962 rows x 3 columns]"
      ]
     },
     "execution_count": 29,
     "metadata": {},
     "output_type": "execute_result"
    }
   ],
   "source": [
    "df_hate_speech[\"tweet\"]\n",
    "tweet_df = df_hate_speech.sort_values(by='tweet', ascending=False)\n",
    "tweet_df"
   ]
  },
  {
   "cell_type": "code",
   "execution_count": 33,
   "metadata": {
    "id": "HzWPOE6nJJSP"
   },
   "outputs": [],
   "source": [
    "data = df_hate_speech"
   ]
  },
  {
   "cell_type": "code",
   "execution_count": 34,
   "metadata": {
    "colab": {
     "base_uri": "https://localhost:8080/",
     "height": 334
    },
    "id": "YINfzQWDztCP",
    "outputId": "28ea9c2c-bd63-4dcd-f75e-9f08eef39fac"
   },
   "outputs": [
    {
     "data": {
      "image/png": "[encoded data removed]",
      "text/plain": [
       "<Figure size 432x288 with 1 Axes>"
      ]
     },
     "metadata": {
      "needs_background": "light"
     },
     "output_type": "display_data"
    }
   ],
   "source": [
    "#https://medium.com/analytics-vidhya/twitter-sentiment-analysis-8ef90df6579c\n",
    "import seaborn as sns\n",
    "ax=sns.countplot(data.label);"
   ]
  },
  {
   "cell_type": "code",
   "execution_count": 32,
   "metadata": {},
   "outputs": [
    {
     "data": {
      "text/html": [
       "<div>\n",
       "<style scoped>\n",
       "    .dataframe tbody tr th:only-of-type {\n",
       "        vertical-align: middle;\n",
       "    }\n",
       "\n",
       "    .dataframe tbody tr th {\n",
       "        vertical-align: top;\n",
       "    }\n",
       "\n",
       "    .dataframe thead th {\n",
       "        text-align: right;\n",
       "    }\n",
       "</style>\n",
       "<table border=\"1\" class=\"dataframe\">\n",
       "  <thead>\n",
       "    <tr style=\"text-align: right;\">\n",
       "      <th></th>\n",
       "      <th>id</th>\n",
       "      <th>tweet</th>\n",
       "      <th>n_mentions</th>\n",
       "      <th>hashtags</th>\n",
       "      <th>without_puctioation</th>\n",
       "      <th>tweet_lower</th>\n",
       "      <th>tweet_token</th>\n",
       "      <th>clean_token</th>\n",
       "      <th>clean_hashtags</th>\n",
       "      <th>stemmed_tokens</th>\n",
       "      <th>stemmed_hashtags</th>\n",
       "      <th>lemmatized_tokens</th>\n",
       "      <th>lemmatized_hashtags</th>\n",
       "    </tr>\n",
       "  </thead>\n",
       "  <tbody>\n",
       "    <tr>\n",
       "      <th>0</th>\n",
       "      <td>1</td>\n",
       "      <td>@user when a father is dysfunctional and is s...</td>\n",
       "      <td>1</td>\n",
       "      <td>['run']</td>\n",
       "      <td>user when a father is dysfunctional and is so...</td>\n",
       "      <td>user when a father is dysfunctional and is so...</td>\n",
       "      <td>['user', 'when', 'a', 'father', 'is', 'dysfunc...</td>\n",
       "      <td>['user', 'father', 'dysfunctional', 'selfish',...</td>\n",
       "      <td>['run']</td>\n",
       "      <td>['user', 'father', 'dysfunct', 'selfish', 'dra...</td>\n",
       "      <td>['run']</td>\n",
       "      <td>['user', 'father', 'dysfunctional', 'selfish',...</td>\n",
       "      <td>['run']</td>\n",
       "    </tr>\n",
       "    <tr>\n",
       "      <th>1</th>\n",
       "      <td>2</td>\n",
       "      <td>@user @user thanks for #lyft credit i can't us...</td>\n",
       "      <td>2</td>\n",
       "      <td>['lyft', 'disapointed', 'getthanked']</td>\n",
       "      <td>user user thanks for lyft credit i cant use ca...</td>\n",
       "      <td>user user thanks for lyft credit i cant use ca...</td>\n",
       "      <td>['user', 'user', 'thanks', 'for', 'lyft', 'cre...</td>\n",
       "      <td>['user', 'user', 'thanks', 'lyft', 'credit', '...</td>\n",
       "      <td>['lyft', 'disapointed', 'getthanked']</td>\n",
       "      <td>['user', 'user', 'thank', 'lyft', 'credit', 'c...</td>\n",
       "      <td>['lyft', 'disapoint', 'getthank']</td>\n",
       "      <td>['user', 'user', 'thanks', 'lyft', 'credit', '...</td>\n",
       "      <td>['lyft', 'disapointed', 'getthanked']</td>\n",
       "    </tr>\n",
       "    <tr>\n",
       "      <th>2</th>\n",
       "      <td>3</td>\n",
       "      <td>bihday your majesty</td>\n",
       "      <td>0</td>\n",
       "      <td>[]</td>\n",
       "      <td>bihday your majesty</td>\n",
       "      <td>bihday your majesty</td>\n",
       "      <td>['bihday', 'your', 'majesty']</td>\n",
       "      <td>['bihday', 'majesty']</td>\n",
       "      <td>[]</td>\n",
       "      <td>['bihday', 'majesti']</td>\n",
       "      <td>[]</td>\n",
       "      <td>['bihday', 'majesty']</td>\n",
       "      <td>[]</td>\n",
       "    </tr>\n",
       "    <tr>\n",
       "      <th>3</th>\n",
       "      <td>4</td>\n",
       "      <td>#model   i love u take with u all the time in ...</td>\n",
       "      <td>0</td>\n",
       "      <td>['model']</td>\n",
       "      <td>model   i love u take with u all the time in u...</td>\n",
       "      <td>model   i love u take with u all the time in u...</td>\n",
       "      <td>['model', 'i', 'love', 'u', 'take', 'with', 'u...</td>\n",
       "      <td>['model', 'love', 'u', 'take', 'u', 'time', 'u...</td>\n",
       "      <td>['model']</td>\n",
       "      <td>['model', 'love', 'u', 'take', 'u', 'time', 'u...</td>\n",
       "      <td>['model']</td>\n",
       "      <td>['model', 'love', 'u', 'take', 'u', 'time', 'u...</td>\n",
       "      <td>['model']</td>\n",
       "    </tr>\n",
       "    <tr>\n",
       "      <th>4</th>\n",
       "      <td>5</td>\n",
       "      <td>factsguide: society now    #motivation</td>\n",
       "      <td>0</td>\n",
       "      <td>['motivation']</td>\n",
       "      <td>factsguide society now    motivation</td>\n",
       "      <td>factsguide society now    motivation</td>\n",
       "      <td>['factsguide', 'society', 'now', 'motivation']</td>\n",
       "      <td>['factsguide', 'society', 'motivation']</td>\n",
       "      <td>['motivation']</td>\n",
       "      <td>['factsguid', 'societi', 'motiv']</td>\n",
       "      <td>['motiv']</td>\n",
       "      <td>['factsguide', 'society', 'motivation']</td>\n",
       "      <td>['motivation']</td>\n",
       "    </tr>\n",
       "    <tr>\n",
       "      <th>...</th>\n",
       "      <td>...</td>\n",
       "      <td>...</td>\n",
       "      <td>...</td>\n",
       "      <td>...</td>\n",
       "      <td>...</td>\n",
       "      <td>...</td>\n",
       "      <td>...</td>\n",
       "      <td>...</td>\n",
       "      <td>...</td>\n",
       "      <td>...</td>\n",
       "      <td>...</td>\n",
       "      <td>...</td>\n",
       "      <td>...</td>\n",
       "    </tr>\n",
       "    <tr>\n",
       "      <th>31957</th>\n",
       "      <td>31958</td>\n",
       "      <td>ate @user isz that youuu?ðððððð...</td>\n",
       "      <td>1</td>\n",
       "      <td>[]</td>\n",
       "      <td>ate user isz that youuuðððððð...</td>\n",
       "      <td>ate user isz that youuuðððððð...</td>\n",
       "      <td>['ate', 'user', 'isz', 'that', 'youuuð\\x9f\\x98...</td>\n",
       "      <td>['ate', 'user', 'isz', 'youuuð\\x9f\\x98\\x8dð\\x9...</td>\n",
       "      <td>[]</td>\n",
       "      <td>['ate', 'user', 'isz', 'youuuð\\x9f\\x98\\x8dð\\x9...</td>\n",
       "      <td>[]</td>\n",
       "      <td>['ate', 'user', 'isz', 'youuuð\\x9f\\x98\\x8dð\\x9...</td>\n",
       "      <td>[]</td>\n",
       "    </tr>\n",
       "    <tr>\n",
       "      <th>31958</th>\n",
       "      <td>31959</td>\n",
       "      <td>to see nina turner on the airwaves trying to...</td>\n",
       "      <td>0</td>\n",
       "      <td>['shame', 'imwithher']</td>\n",
       "      <td>to see nina turner on the airwaves trying to...</td>\n",
       "      <td>to see nina turner on the airwaves trying to...</td>\n",
       "      <td>['to', 'see', 'nina', 'turner', 'on', 'the', '...</td>\n",
       "      <td>['see', 'nina', 'turner', 'airwaves', 'trying'...</td>\n",
       "      <td>['shame', 'imwithher']</td>\n",
       "      <td>['see', 'nina', 'turner', 'airwav', 'tri', 'wr...</td>\n",
       "      <td>['shame', 'imwithh']</td>\n",
       "      <td>['see', 'nina', 'turner', 'airwave', 'trying',...</td>\n",
       "      <td>['shame', 'imwithher']</td>\n",
       "    </tr>\n",
       "    <tr>\n",
       "      <th>31959</th>\n",
       "      <td>31960</td>\n",
       "      <td>listening to sad songs on a monday morning otw...</td>\n",
       "      <td>0</td>\n",
       "      <td>[]</td>\n",
       "      <td>listening to sad songs on a monday morning otw...</td>\n",
       "      <td>listening to sad songs on a monday morning otw...</td>\n",
       "      <td>['listening', 'to', 'sad', 'songs', 'on', 'a',...</td>\n",
       "      <td>['listening', 'sad', 'songs', 'monday', 'morni...</td>\n",
       "      <td>[]</td>\n",
       "      <td>['listen', 'sad', 'song', 'monday', 'morn', 'o...</td>\n",
       "      <td>[]</td>\n",
       "      <td>['listening', 'sad', 'song', 'monday', 'mornin...</td>\n",
       "      <td>[]</td>\n",
       "    </tr>\n",
       "    <tr>\n",
       "      <th>31960</th>\n",
       "      <td>31961</td>\n",
       "      <td>@user #sikh #temple vandalised in in #calgary,...</td>\n",
       "      <td>1</td>\n",
       "      <td>['sikh', 'temple', 'calgary', 'wso']</td>\n",
       "      <td>user sikh temple vandalised in in calgary wso ...</td>\n",
       "      <td>user sikh temple vandalised in in calgary wso ...</td>\n",
       "      <td>['user', 'sikh', 'temple', 'vandalised', 'in',...</td>\n",
       "      <td>['user', 'sikh', 'temple', 'vandalised', 'calg...</td>\n",
       "      <td>['sikh', 'temple', 'calgary', 'wso']</td>\n",
       "      <td>['user', 'sikh', 'templ', 'vandalis', 'calgari...</td>\n",
       "      <td>['sikh', 'templ', 'calgari', 'wso']</td>\n",
       "      <td>['user', 'sikh', 'temple', 'vandalised', 'calg...</td>\n",
       "      <td>['sikh', 'temple', 'calgary', 'wso']</td>\n",
       "    </tr>\n",
       "    <tr>\n",
       "      <th>31961</th>\n",
       "      <td>31962</td>\n",
       "      <td>thank you @user for you follow</td>\n",
       "      <td>1</td>\n",
       "      <td>[]</td>\n",
       "      <td>thank you user for you follow</td>\n",
       "      <td>thank you user for you follow</td>\n",
       "      <td>['thank', 'you', 'user', 'for', 'you', 'follow']</td>\n",
       "      <td>['thank', 'user', 'follow']</td>\n",
       "      <td>[]</td>\n",
       "      <td>['thank', 'user', 'follow']</td>\n",
       "      <td>[]</td>\n",
       "      <td>['thank', 'user', 'follow']</td>\n",
       "      <td>[]</td>\n",
       "    </tr>\n",
       "  </tbody>\n",
       "</table>\n",
       "<p>31962 rows × 13 columns</p>\n",
       "</div>"
      ],
      "text/plain": [
       "          id                                              tweet  n_mentions  \\\n",
       "0          1   @user when a father is dysfunctional and is s...           1   \n",
       "1          2  @user @user thanks for #lyft credit i can't us...           2   \n",
       "2          3                                bihday your majesty           0   \n",
       "3          4  #model   i love u take with u all the time in ...           0   \n",
       "4          5             factsguide: society now    #motivation           0   \n",
       "...      ...                                                ...         ...   \n",
       "31957  31958  ate @user isz that youuu?ðððððð...           1   \n",
       "31958  31959    to see nina turner on the airwaves trying to...           0   \n",
       "31959  31960  listening to sad songs on a monday morning otw...           0   \n",
       "31960  31961  @user #sikh #temple vandalised in in #calgary,...           1   \n",
       "31961  31962                   thank you @user for you follow             1   \n",
       "\n",
       "                                    hashtags  \\\n",
       "0                                    ['run']   \n",
       "1      ['lyft', 'disapointed', 'getthanked']   \n",
       "2                                         []   \n",
       "3                                  ['model']   \n",
       "4                             ['motivation']   \n",
       "...                                      ...   \n",
       "31957                                     []   \n",
       "31958                 ['shame', 'imwithher']   \n",
       "31959                                     []   \n",
       "31960   ['sikh', 'temple', 'calgary', 'wso']   \n",
       "31961                                     []   \n",
       "\n",
       "                                     without_puctioation  \\\n",
       "0       user when a father is dysfunctional and is so...   \n",
       "1      user user thanks for lyft credit i cant use ca...   \n",
       "2                                    bihday your majesty   \n",
       "3      model   i love u take with u all the time in u...   \n",
       "4                   factsguide society now    motivation   \n",
       "...                                                  ...   \n",
       "31957  ate user isz that youuuðððððð...   \n",
       "31958    to see nina turner on the airwaves trying to...   \n",
       "31959  listening to sad songs on a monday morning otw...   \n",
       "31960  user sikh temple vandalised in in calgary wso ...   \n",
       "31961                    thank you user for you follow     \n",
       "\n",
       "                                             tweet_lower  \\\n",
       "0       user when a father is dysfunctional and is so...   \n",
       "1      user user thanks for lyft credit i cant use ca...   \n",
       "2                                    bihday your majesty   \n",
       "3      model   i love u take with u all the time in u...   \n",
       "4                   factsguide society now    motivation   \n",
       "...                                                  ...   \n",
       "31957  ate user isz that youuuðððððð...   \n",
       "31958    to see nina turner on the airwaves trying to...   \n",
       "31959  listening to sad songs on a monday morning otw...   \n",
       "31960  user sikh temple vandalised in in calgary wso ...   \n",
       "31961                    thank you user for you follow     \n",
       "\n",
       "                                             tweet_token  \\\n",
       "0      ['user', 'when', 'a', 'father', 'is', 'dysfunc...   \n",
       "1      ['user', 'user', 'thanks', 'for', 'lyft', 'cre...   \n",
       "2                          ['bihday', 'your', 'majesty']   \n",
       "3      ['model', 'i', 'love', 'u', 'take', 'with', 'u...   \n",
       "4         ['factsguide', 'society', 'now', 'motivation']   \n",
       "...                                                  ...   \n",
       "31957  ['ate', 'user', 'isz', 'that', 'youuuð\\x9f\\x98...   \n",
       "31958  ['to', 'see', 'nina', 'turner', 'on', 'the', '...   \n",
       "31959  ['listening', 'to', 'sad', 'songs', 'on', 'a',...   \n",
       "31960  ['user', 'sikh', 'temple', 'vandalised', 'in',...   \n",
       "31961   ['thank', 'you', 'user', 'for', 'you', 'follow']   \n",
       "\n",
       "                                             clean_token  \\\n",
       "0      ['user', 'father', 'dysfunctional', 'selfish',...   \n",
       "1      ['user', 'user', 'thanks', 'lyft', 'credit', '...   \n",
       "2                                  ['bihday', 'majesty']   \n",
       "3      ['model', 'love', 'u', 'take', 'u', 'time', 'u...   \n",
       "4                ['factsguide', 'society', 'motivation']   \n",
       "...                                                  ...   \n",
       "31957  ['ate', 'user', 'isz', 'youuuð\\x9f\\x98\\x8dð\\x9...   \n",
       "31958  ['see', 'nina', 'turner', 'airwaves', 'trying'...   \n",
       "31959  ['listening', 'sad', 'songs', 'monday', 'morni...   \n",
       "31960  ['user', 'sikh', 'temple', 'vandalised', 'calg...   \n",
       "31961                        ['thank', 'user', 'follow']   \n",
       "\n",
       "                              clean_hashtags  \\\n",
       "0                                    ['run']   \n",
       "1      ['lyft', 'disapointed', 'getthanked']   \n",
       "2                                         []   \n",
       "3                                  ['model']   \n",
       "4                             ['motivation']   \n",
       "...                                      ...   \n",
       "31957                                     []   \n",
       "31958                 ['shame', 'imwithher']   \n",
       "31959                                     []   \n",
       "31960   ['sikh', 'temple', 'calgary', 'wso']   \n",
       "31961                                     []   \n",
       "\n",
       "                                          stemmed_tokens  \\\n",
       "0      ['user', 'father', 'dysfunct', 'selfish', 'dra...   \n",
       "1      ['user', 'user', 'thank', 'lyft', 'credit', 'c...   \n",
       "2                                  ['bihday', 'majesti']   \n",
       "3      ['model', 'love', 'u', 'take', 'u', 'time', 'u...   \n",
       "4                      ['factsguid', 'societi', 'motiv']   \n",
       "...                                                  ...   \n",
       "31957  ['ate', 'user', 'isz', 'youuuð\\x9f\\x98\\x8dð\\x9...   \n",
       "31958  ['see', 'nina', 'turner', 'airwav', 'tri', 'wr...   \n",
       "31959  ['listen', 'sad', 'song', 'monday', 'morn', 'o...   \n",
       "31960  ['user', 'sikh', 'templ', 'vandalis', 'calgari...   \n",
       "31961                        ['thank', 'user', 'follow']   \n",
       "\n",
       "                          stemmed_hashtags  \\\n",
       "0                                  ['run']   \n",
       "1        ['lyft', 'disapoint', 'getthank']   \n",
       "2                                       []   \n",
       "3                                ['model']   \n",
       "4                                ['motiv']   \n",
       "...                                    ...   \n",
       "31957                                   []   \n",
       "31958                 ['shame', 'imwithh']   \n",
       "31959                                   []   \n",
       "31960  ['sikh', 'templ', 'calgari', 'wso']   \n",
       "31961                                   []   \n",
       "\n",
       "                                       lemmatized_tokens  \\\n",
       "0      ['user', 'father', 'dysfunctional', 'selfish',...   \n",
       "1      ['user', 'user', 'thanks', 'lyft', 'credit', '...   \n",
       "2                                  ['bihday', 'majesty']   \n",
       "3      ['model', 'love', 'u', 'take', 'u', 'time', 'u...   \n",
       "4                ['factsguide', 'society', 'motivation']   \n",
       "...                                                  ...   \n",
       "31957  ['ate', 'user', 'isz', 'youuuð\\x9f\\x98\\x8dð\\x9...   \n",
       "31958  ['see', 'nina', 'turner', 'airwave', 'trying',...   \n",
       "31959  ['listening', 'sad', 'song', 'monday', 'mornin...   \n",
       "31960  ['user', 'sikh', 'temple', 'vandalised', 'calg...   \n",
       "31961                        ['thank', 'user', 'follow']   \n",
       "\n",
       "                         lemmatized_hashtags  \n",
       "0                                    ['run']  \n",
       "1      ['lyft', 'disapointed', 'getthanked']  \n",
       "2                                         []  \n",
       "3                                  ['model']  \n",
       "4                             ['motivation']  \n",
       "...                                      ...  \n",
       "31957                                     []  \n",
       "31958                 ['shame', 'imwithher']  \n",
       "31959                                     []  \n",
       "31960   ['sikh', 'temple', 'calgary', 'wso']  \n",
       "31961                                     []  \n",
       "\n",
       "[31962 rows x 13 columns]"
      ]
     },
     "execution_count": 32,
     "metadata": {},
     "output_type": "execute_result"
    }
   ],
   "source": [
    "#data = pd.read_csv(\"../../data/220502_train_data_preprocessed.csv\", sep=';')\n",
    "#label = data['label'].copy()\n",
    "#data = data.drop(columns=['label'])\n",
    "#data\n",
    "#x_train, x_test, y_train, y_test =     train_test_split(data[\"lemmatized_tokens\"], \n",
    "#      label, test_size = 0.2, random_state = 42)"
   ]
  },
  {
   "cell_type": "code",
   "execution_count": 35,
   "metadata": {},
   "outputs": [],
   "source": [
    "label = data['label'].copy()\n",
    "data = data.drop(columns=['label'])"
   ]
  },
  {
   "cell_type": "code",
   "execution_count": 36,
   "metadata": {},
   "outputs": [],
   "source": [
    "x_train, x_test, y_train, y_test =     train_test_split(data, \n",
    "      label, test_size = 0.2, random_state = 42)"
   ]
  },
  {
   "cell_type": "code",
   "execution_count": 37,
   "metadata": {},
   "outputs": [
    {
     "data": {
      "text/html": [
       "<div>\n",
       "<style scoped>\n",
       "    .dataframe tbody tr th:only-of-type {\n",
       "        vertical-align: middle;\n",
       "    }\n",
       "\n",
       "    .dataframe tbody tr th {\n",
       "        vertical-align: top;\n",
       "    }\n",
       "\n",
       "    .dataframe thead th {\n",
       "        text-align: right;\n",
       "    }\n",
       "</style>\n",
       "<table border=\"1\" class=\"dataframe\">\n",
       "  <thead>\n",
       "    <tr style=\"text-align: right;\">\n",
       "      <th></th>\n",
       "      <th>id</th>\n",
       "      <th>tweet</th>\n",
       "    </tr>\n",
       "  </thead>\n",
       "  <tbody>\n",
       "    <tr>\n",
       "      <th>12110</th>\n",
       "      <td>12111</td>\n",
       "      <td>@user @user @user because i've been paying att...</td>\n",
       "    </tr>\n",
       "    <tr>\n",
       "      <th>14081</th>\n",
       "      <td>14082</td>\n",
       "      <td>@user raft building at salford quays as pa of...</td>\n",
       "    </tr>\n",
       "    <tr>\n",
       "      <th>1829</th>\n",
       "      <td>1830</td>\n",
       "      <td>friday ð",
       "ð» #gdegblog #friday #selfie   #b...</td>\n",
       "    </tr>\n",
       "    <tr>\n",
       "      <th>2769</th>\n",
       "      <td>2770</td>\n",
       "      <td>#fashion it is a true   #fact</td>\n",
       "    </tr>\n",
       "    <tr>\n",
       "      <th>31818</th>\n",
       "      <td>31819</td>\n",
       "      <td>so   to #share the #simple, #elegant #business...</td>\n",
       "    </tr>\n",
       "    <tr>\n",
       "      <th>...</th>\n",
       "      <td>...</td>\n",
       "      <td>...</td>\n",
       "    </tr>\n",
       "    <tr>\n",
       "      <th>29802</th>\n",
       "      <td>29803</td>\n",
       "      <td>#waltdisneyreso  should be ashamed of themselv...</td>\n",
       "    </tr>\n",
       "    <tr>\n",
       "      <th>5390</th>\n",
       "      <td>5391</td>\n",
       "      <td>@user invited @user over for a catch up and i...</td>\n",
       "    </tr>\n",
       "    <tr>\n",
       "      <th>860</th>\n",
       "      <td>861</td>\n",
       "      <td>black professor makes assumptions about an ent...</td>\n",
       "    </tr>\n",
       "    <tr>\n",
       "      <th>15795</th>\n",
       "      <td>15796</td>\n",
       "      <td>#lgbtqhatetrumppay is total #liberal trash. it...</td>\n",
       "    </tr>\n",
       "    <tr>\n",
       "      <th>23654</th>\n",
       "      <td>23655</td>\n",
       "      <td>what makes people   is relative. we have our w...</td>\n",
       "    </tr>\n",
       "  </tbody>\n",
       "</table>\n",
       "<p>25569 rows × 2 columns</p>\n",
       "</div>"
      ],
      "text/plain": [
       "          id                                              tweet\n",
       "12110  12111  @user @user @user because i've been paying att...\n",
       "14081  14082   @user raft building at salford quays as pa of...\n",
       "1829    1830  friday ð\n",
       "ð» #gdegblog #friday #selfie   #b...\n",
       "2769    2770                      #fashion it is a true   #fact\n",
       "31818  31819  so   to #share the #simple, #elegant #business...\n",
       "...      ...                                                ...\n",
       "29802  29803  #waltdisneyreso  should be ashamed of themselv...\n",
       "5390    5391   @user invited @user over for a catch up and i...\n",
       "860      861  black professor makes assumptions about an ent...\n",
       "15795  15796  #lgbtqhatetrumppay is total #liberal trash. it...\n",
       "23654  23655  what makes people   is relative. we have our w...\n",
       "\n",
       "[25569 rows x 2 columns]"
      ]
     },
     "execution_count": 37,
     "metadata": {},
     "output_type": "execute_result"
    }
   ],
   "source": [
    "x_train"
   ]
  },
  {
   "cell_type": "code",
   "execution_count": 27,
   "metadata": {},
   "outputs": [
    {
     "name": "stdout",
     "output_type": "stream",
     "text": [
      "Looking in indexes: https://int.repositories.cloud.sap/artifactory/api/pypi/build-releases-pypi/simple, https://int.repositories.cloud.sap/artifactory/api/pypi/build-milestones-pypi/simple\n",
      "Requirement already satisfied: imblearn in c:\\users\\d073999\\miniconda3\\lib\\site-packages (0.0)\n",
      "Requirement already satisfied: imbalanced-learn in c:\\users\\d073999\\miniconda3\\lib\\site-packages (from imblearn) (0.9.0)\n",
      "Requirement already satisfied: numpy>=1.14.6 in c:\\users\\d073999\\miniconda3\\lib\\site-packages (from imbalanced-learn->imblearn) (1.21.5)\n",
      "Requirement already satisfied: joblib>=0.11 in c:\\users\\d073999\\miniconda3\\lib\\site-packages (from imbalanced-learn->imblearn) (1.1.0)\n",
      "Requirement already satisfied: scipy>=1.1.0 in c:\\users\\d073999\\miniconda3\\lib\\site-packages (from imbalanced-learn->imblearn) (1.8.0)\n"
     ]
    },
    {
     "name": "stderr",
     "output_type": "stream",
     "text": [
      "WARNING: You are using pip version 21.3.1; however, version 22.0.4 is available.\n",
      "You should consider upgrading via the 'c:\\users\\d073999\\miniconda3\\python.exe -m pip install --upgrade pip' command.\n"
     ]
    },
    {
     "name": "stdout",
     "output_type": "stream",
     "text": [
      "Requirement already satisfied: scikit-learn>=1.0.1 in c:\\users\\d073999\\miniconda3\\lib\\site-packages (from imbalanced-learn->imblearn) (1.0.2)\n",
      "Requirement already satisfied: threadpoolctl>=2.0.0 in c:\\users\\d073999\\miniconda3\\lib\\site-packages (from imbalanced-learn->imblearn) (3.1.0)\n"
     ]
    }
   ],
   "source": [
    "!pip install imblearn"
   ]
  },
  {
   "cell_type": "code",
   "execution_count": 60,
   "metadata": {
    "colab": {
     "base_uri": "https://localhost:8080/",
     "height": 454
    },
    "id": "Y_rfyYYoR6dE",
    "outputId": "a52b9f5c-fd81-47d7-8273-b844c2d8753c"
   },
   "outputs": [
    {
     "data": {
      "image/png": "[encoded data removed]",
      "text/plain": [
       "<Figure size 432x288 with 1 Axes>"
      ]
     },
     "metadata": {
      "needs_background": "light"
     },
     "output_type": "display_data"
    },
    {
     "data": {
      "text/html": [
       "<div>\n",
       "<style scoped>\n",
       "    .dataframe tbody tr th:only-of-type {\n",
       "        vertical-align: middle;\n",
       "    }\n",
       "\n",
       "    .dataframe tbody tr th {\n",
       "        vertical-align: top;\n",
       "    }\n",
       "\n",
       "    .dataframe thead th {\n",
       "        text-align: right;\n",
       "    }\n",
       "</style>\n",
       "<table border=\"1\" class=\"dataframe\">\n",
       "  <thead>\n",
       "    <tr style=\"text-align: right;\">\n",
       "      <th></th>\n",
       "      <th>lemmatized_tokens</th>\n",
       "      <th>label</th>\n",
       "    </tr>\n",
       "  </thead>\n",
       "  <tbody>\n",
       "    <tr>\n",
       "      <th>0</th>\n",
       "      <td>['user', 'user', 'user', 'ive', 'paying', 'att...</td>\n",
       "      <td>1</td>\n",
       "    </tr>\n",
       "    <tr>\n",
       "      <th>1</th>\n",
       "      <td>['user', 'raft', 'building', 'salford', 'quay'...</td>\n",
       "      <td>0</td>\n",
       "    </tr>\n",
       "    <tr>\n",
       "      <th>2</th>\n",
       "      <td>['friday', 'ð\\x9f\\x92', 'ð\\x9f\\x8f', '»', 'gde...</td>\n",
       "      <td>0</td>\n",
       "    </tr>\n",
       "    <tr>\n",
       "      <th>3</th>\n",
       "      <td>['fashion', 'true', 'fact']</td>\n",
       "      <td>0</td>\n",
       "    </tr>\n",
       "    <tr>\n",
       "      <th>4</th>\n",
       "      <td>['share', 'simple', 'elegant', 'businesscards'...</td>\n",
       "      <td>0</td>\n",
       "    </tr>\n",
       "  </tbody>\n",
       "</table>\n",
       "</div>"
      ],
      "text/plain": [
       "                                   lemmatized_tokens  label\n",
       "0  ['user', 'user', 'user', 'ive', 'paying', 'att...      1\n",
       "1  ['user', 'raft', 'building', 'salford', 'quay'...      0\n",
       "2  ['friday', 'ð\\x9f\\x92', 'ð\\x9f\\x8f', '»', 'gde...      0\n",
       "3                        ['fashion', 'true', 'fact']      0\n",
       "4  ['share', 'simple', 'elegant', 'businesscards'...      0"
      ]
     },
     "execution_count": 60,
     "metadata": {},
     "output_type": "execute_result"
    }
   ],
   "source": [
    "from imblearn.over_sampling import RandomOverSampler\n",
    "sampler = RandomOverSampler()\n",
    "x_train_blanaced, y_train_balanced = sampler.fit_resample(\n",
    "                                    np.array(np.array(x_train).reshape(-1,1)), list(y_train))\n",
    "data = x_train_blanaced\n",
    "label = y_train_balanced\n",
    "class_dist = pd.Series(label).value_counts()\n",
    "plt.bar(class_dist.index, class_dist)\n",
    "plt.ylabel(\"Frequency\")\n",
    "plt.show()\n",
    "data.flatten()\n",
    "data = pd.DataFrame(data, columns = ['lemmatized_tokens'])\n",
    "data['label'] = y_train_balanced\n",
    "data.head()"
   ]
  },
  {
   "cell_type": "code",
   "execution_count": 61,
   "metadata": {
    "colab": {
     "base_uri": "https://localhost:8080/"
    },
    "id": "8nI1Y3oiR1fh",
    "outputId": "baca2941-4a11-417e-dd4c-21e6f931780f"
   },
   "outputs": [
    {
     "name": "stdout",
     "output_type": "stream",
     "text": [
      "(47566, 36223)\n",
      "(47566, 36223)\n",
      "(6393, 36223)\n",
      "(6393, 36223)\n"
     ]
    }
   ],
   "source": [
    "from sklearn.feature_extraction.text import CountVectorizer, TfidfTransformer\n",
    "\n",
    "count_vect = CountVectorizer(stop_words='english')\n",
    "transformer = TfidfTransformer(norm='l2',sublinear_tf=True)\n",
    "xd = pd.Series(x_train_blanaced.flatten())\n",
    "text = xd.map(' '.join)\n",
    "x_train_counts = count_vect.fit_transform(xd)\n",
    "x_train_tfidf = transformer.fit_transform(x_train_counts)\n",
    "print(x_train_counts.shape)\n",
    "print(x_train_tfidf.shape)\n",
    "#Output :(25569, 27304) (25569, 27304)\n",
    "text = x_test.map(' '.join)\n",
    "x_test_counts = count_vect.transform(text)\n",
    "x_test_tfidf = transformer.transform(x_test_counts)\n",
    "print(x_test_counts.shape)\n",
    "print(x_test_tfidf.shape)\n",
    "#Output : (6393, 27304) (6393, 27304)"
   ]
  },
  {
   "cell_type": "code",
   "execution_count": 32,
   "metadata": {
    "id": "OglH-UvLgJeW"
   },
   "outputs": [],
   "source": [
    "\n",
    "\n",
    "\n",
    "\n",
    "\n"
   ]
  },
  {
   "cell_type": "code",
   "execution_count": 62,
   "metadata": {
    "colab": {
     "base_uri": "https://localhost:8080/"
    },
    "id": "ZfgRPN09GecX",
    "outputId": "894b36cf-1e41-48e9-f716-12d2d729eebd"
   },
   "outputs": [
    {
     "data": {
      "text/plain": [
       "92.86719849835758"
      ]
     },
     "execution_count": 62,
     "metadata": {},
     "output_type": "execute_result"
    }
   ],
   "source": [
    "from sklearn.ensemble import RandomForestClassifier\n",
    "from sklearn.neighbors import KNeighborsClassifier\n",
    "\n",
    "model = KNeighborsClassifier(n_neighbors=3)\n",
    "model.fit(x_train_tfidf,y_train_balanced)\n",
    "predictions = model.predict(x_test_tfidf)\n",
    "#Confusion Matrix \n",
    "from sklearn.metrics import confusion_matrix,f1_score\n",
    "confusion_matrix(y_test,predictions)\n",
    "#Output: array([[5898,   39],        \n",
    "#               [ 207,  249]], dtype=int64)\n",
    "#f1-score\n",
    "f1_score(y_test,predictions)\n",
    "#Output : 0.6693548387096774\n",
    "#Accuracy_score\n",
    "from sklearn.metrics import accuracy_score\n",
    "accuracy_score(y_test,predictions)*100\n",
    "# 92.86719849835758"
   ]
  },
  {
   "cell_type": "code",
   "execution_count": 64,
   "metadata": {
    "colab": {
     "base_uri": "https://localhost:8080/"
    },
    "id": "eIbkSaK_LYJI",
    "outputId": "6934e615-b904-47cc-fba6-8ce284a298d8"
   },
   "outputs": [
    {
     "data": {
      "text/plain": [
       "0.4815085158150852"
      ]
     },
     "execution_count": 64,
     "metadata": {},
     "output_type": "execute_result"
    }
   ],
   "source": [
    "from sklearn.metrics import f1_score\n",
    "f1_score(y_test,predictions, average='macro')\n",
    "# 0.7434062654371809"
   ]
  },
  {
   "cell_type": "code",
   "execution_count": 66,
   "metadata": {},
   "outputs": [
    {
     "name": "stdout",
     "output_type": "stream",
     "text": [
      "[[1, 0.9286719849835758, 0.0], [2, 0.9286719849835758, 0.0], [3, 0.9286719849835758, 0.0], [4, 0.9286719849835758, 0.0], [5, 0.9286719849835758, 0.0], [6, 0.9286719849835758, 0.0], [7, 0.9286719849835758, 0.0], [8, 0.9286719849835758, 0.0], [9, 0.9286719849835758, 0.0], [10, 0.9286719849835758, 0.0], [11, 0.9286719849835758, 0.0], [12, 0.9286719849835758, 0.0], [13, 0.9286719849835758, 0.0], [14, 0.9286719849835758, 0.0], [15, 0.9286719849835758, 0.0], [16, 0.9286719849835758, 0.0], [17, 0.9286719849835758, 0.0], [18, 0.9286719849835758, 0.0], [19, 0.9286719849835758, 0.0], [20, 0.9286719849835758, 0.0], [21, 0.9286719849835758, 0.0], [22, 0.9286719849835758, 0.0], [23, 0.9286719849835758, 0.0], [24, 0.9286719849835758, 0.0], [25, 0.9286719849835758, 0.0], [26, 0.9286719849835758, 0.0], [27, 0.9286719849835758, 0.0], [28, 0.9286719849835758, 0.0], [29, 0.9286719849835758, 0.0], [30, 0.9286719849835758, 0.0], [31, 0.9286719849835758, 0.0], [32, 0.9286719849835758, 0.0], [33, 0.9286719849835758, 0.0], [34, 0.9286719849835758, 0.0], [35, 0.9286719849835758, 0.0], [36, 0.9286719849835758, 0.0], [37, 0.9286719849835758, 0.0], [38, 0.9286719849835758, 0.0], [39, 0.9286719849835758, 0.0], [40, 0.9286719849835758, 0.0], [41, 0.9286719849835758, 0.0], [42, 0.9286719849835758, 0.0], [43, 0.9286719849835758, 0.0], [44, 0.9286719849835758, 0.0], [45, 0.9286719849835758, 0.0], [46, 0.9286719849835758, 0.0], [47, 0.9286719849835758, 0.0], [48, 0.9286719849835758, 0.0], [49, 0.9286719849835758, 0.0]]\n",
      "0.9286719849835758\n"
     ]
    }
   ],
   "source": [
    "from sklearn.tree import DecisionTreeClassifier\n",
    "results = []\n",
    "for i in range(1, 50):\n",
    "    classifier = DecisionTreeClassifier(random_state=55, max_depth=i)\n",
    "\n",
    "    model = classifier.fit(x_train_tfidf, y_train_balanced)\n",
    "\n",
    "    y_pred = model.predict(x_test_tfidf)\n",
    "    #print(\"Accuracy:\", accuracy_score(y_test, y_pred))\n",
    "    #print(\"Confusion Matrix:\\n\", confusion_matrix(y_test, y_pred))\n",
    "    results.append([i,accuracy_score(y_test, y_pred), f1_score(y_test, y_pred)])\n",
    "\n",
    "print(results)\n",
    "print(y_test.value_counts()[0]/len(y_test))"
   ]
  },
  {
   "cell_type": "code",
   "execution_count": null,
   "metadata": {},
   "outputs": [],
   "source": []
  },
  {
   "cell_type": "code",
   "execution_count": null,
   "metadata": {},
   "outputs": [],
   "source": []
  },
  {
   "cell_type": "code",
   "execution_count": null,
   "metadata": {},
   "outputs": [],
   "source": []
  },
  {
   "cell_type": "code",
   "execution_count": 41,
   "metadata": {},
   "outputs": [],
   "source": [
    "X_folds, Y_folds = split_folds(x_train_tfidf, np.array(y_train_balanced), 2)"
   ]
  },
  {
   "cell_type": "code",
   "execution_count": 58,
   "metadata": {},
   "outputs": [
    {
     "ename": "ValueError",
     "evalue": "Unknown label type: 'continuous-multioutput'",
     "output_type": "error",
     "traceback": [
      "\u001b[1;31m---------------------------------------------------------------------------\u001b[0m",
      "\u001b[1;31mValueError\u001b[0m                                Traceback (most recent call last)",
      "\u001b[1;32m~\\AppData\\Local\\Temp/ipykernel_11556/1403008267.py\u001b[0m in \u001b[0;36m<module>\u001b[1;34m\u001b[0m\n\u001b[0;32m     30\u001b[0m \u001b[1;33m\u001b[0m\u001b[0m\n\u001b[0;32m     31\u001b[0m             \u001b[0msk_classifier\u001b[0m \u001b[1;33m=\u001b[0m \u001b[0mKNeighborsClassifier\u001b[0m\u001b[1;33m(\u001b[0m\u001b[0mn_neighbors\u001b[0m \u001b[1;33m=\u001b[0m \u001b[0mk\u001b[0m\u001b[1;33m)\u001b[0m\u001b[1;33m\u001b[0m\u001b[1;33m\u001b[0m\u001b[0m\n\u001b[1;32m---> 32\u001b[1;33m             \u001b[0msk_classifier\u001b[0m\u001b[1;33m.\u001b[0m\u001b[0mfit\u001b[0m\u001b[1;33m(\u001b[0m\u001b[0mtrain_set_x\u001b[0m\u001b[1;33m,\u001b[0m \u001b[0mtrain_set_y\u001b[0m\u001b[1;33m)\u001b[0m\u001b[1;33m\u001b[0m\u001b[1;33m\u001b[0m\u001b[0m\n\u001b[0m\u001b[0;32m     33\u001b[0m             \u001b[0merror\u001b[0m \u001b[1;33m=\u001b[0m \u001b[0mtest_classifier\u001b[0m\u001b[1;33m(\u001b[0m\u001b[0mtest_set_x\u001b[0m\u001b[1;33m,\u001b[0m \u001b[0mtest_set_y\u001b[0m\u001b[1;33m,\u001b[0m \u001b[0msk_classifier\u001b[0m\u001b[1;33m.\u001b[0m\u001b[0mpredict\u001b[0m\u001b[1;33m)\u001b[0m\u001b[1;33m\u001b[0m\u001b[1;33m\u001b[0m\u001b[0m\n\u001b[0;32m     34\u001b[0m             \u001b[0mprint\u001b[0m\u001b[1;33m(\u001b[0m\u001b[0merror\u001b[0m\u001b[1;33m)\u001b[0m\u001b[1;33m\u001b[0m\u001b[1;33m\u001b[0m\u001b[0m\n",
      "\u001b[1;32m~\\Miniconda3\\lib\\site-packages\\sklearn\\neighbors\\_classification.py\u001b[0m in \u001b[0;36mfit\u001b[1;34m(self, X, y)\u001b[0m\n\u001b[0;32m    196\u001b[0m         \u001b[0mself\u001b[0m\u001b[1;33m.\u001b[0m\u001b[0mweights\u001b[0m \u001b[1;33m=\u001b[0m \u001b[0m_check_weights\u001b[0m\u001b[1;33m(\u001b[0m\u001b[0mself\u001b[0m\u001b[1;33m.\u001b[0m\u001b[0mweights\u001b[0m\u001b[1;33m)\u001b[0m\u001b[1;33m\u001b[0m\u001b[1;33m\u001b[0m\u001b[0m\n\u001b[0;32m    197\u001b[0m \u001b[1;33m\u001b[0m\u001b[0m\n\u001b[1;32m--> 198\u001b[1;33m         \u001b[1;32mreturn\u001b[0m \u001b[0mself\u001b[0m\u001b[1;33m.\u001b[0m\u001b[0m_fit\u001b[0m\u001b[1;33m(\u001b[0m\u001b[0mX\u001b[0m\u001b[1;33m,\u001b[0m \u001b[0my\u001b[0m\u001b[1;33m)\u001b[0m\u001b[1;33m\u001b[0m\u001b[1;33m\u001b[0m\u001b[0m\n\u001b[0m\u001b[0;32m    199\u001b[0m \u001b[1;33m\u001b[0m\u001b[0m\n\u001b[0;32m    200\u001b[0m     \u001b[1;32mdef\u001b[0m \u001b[0mpredict\u001b[0m\u001b[1;33m(\u001b[0m\u001b[0mself\u001b[0m\u001b[1;33m,\u001b[0m \u001b[0mX\u001b[0m\u001b[1;33m)\u001b[0m\u001b[1;33m:\u001b[0m\u001b[1;33m\u001b[0m\u001b[1;33m\u001b[0m\u001b[0m\n",
      "\u001b[1;32m~\\Miniconda3\\lib\\site-packages\\sklearn\\neighbors\\_base.py\u001b[0m in \u001b[0;36m_fit\u001b[1;34m(self, X, y)\u001b[0m\n\u001b[0;32m    418\u001b[0m                     \u001b[0mself\u001b[0m\u001b[1;33m.\u001b[0m\u001b[0moutputs_2d_\u001b[0m \u001b[1;33m=\u001b[0m \u001b[1;32mTrue\u001b[0m\u001b[1;33m\u001b[0m\u001b[1;33m\u001b[0m\u001b[0m\n\u001b[0;32m    419\u001b[0m \u001b[1;33m\u001b[0m\u001b[0m\n\u001b[1;32m--> 420\u001b[1;33m                 \u001b[0mcheck_classification_targets\u001b[0m\u001b[1;33m(\u001b[0m\u001b[0my\u001b[0m\u001b[1;33m)\u001b[0m\u001b[1;33m\u001b[0m\u001b[1;33m\u001b[0m\u001b[0m\n\u001b[0m\u001b[0;32m    421\u001b[0m                 \u001b[0mself\u001b[0m\u001b[1;33m.\u001b[0m\u001b[0mclasses_\u001b[0m \u001b[1;33m=\u001b[0m \u001b[1;33m[\u001b[0m\u001b[1;33m]\u001b[0m\u001b[1;33m\u001b[0m\u001b[1;33m\u001b[0m\u001b[0m\n\u001b[0;32m    422\u001b[0m                 \u001b[0mself\u001b[0m\u001b[1;33m.\u001b[0m\u001b[0m_y\u001b[0m \u001b[1;33m=\u001b[0m \u001b[0mnp\u001b[0m\u001b[1;33m.\u001b[0m\u001b[0mempty\u001b[0m\u001b[1;33m(\u001b[0m\u001b[0my\u001b[0m\u001b[1;33m.\u001b[0m\u001b[0mshape\u001b[0m\u001b[1;33m,\u001b[0m \u001b[0mdtype\u001b[0m\u001b[1;33m=\u001b[0m\u001b[0mint\u001b[0m\u001b[1;33m)\u001b[0m\u001b[1;33m\u001b[0m\u001b[1;33m\u001b[0m\u001b[0m\n",
      "\u001b[1;32m~\\Miniconda3\\lib\\site-packages\\sklearn\\utils\\multiclass.py\u001b[0m in \u001b[0;36mcheck_classification_targets\u001b[1;34m(y)\u001b[0m\n\u001b[0;32m    195\u001b[0m         \u001b[1;34m\"multilabel-sequences\"\u001b[0m\u001b[1;33m,\u001b[0m\u001b[1;33m\u001b[0m\u001b[1;33m\u001b[0m\u001b[0m\n\u001b[0;32m    196\u001b[0m     ]:\n\u001b[1;32m--> 197\u001b[1;33m         \u001b[1;32mraise\u001b[0m \u001b[0mValueError\u001b[0m\u001b[1;33m(\u001b[0m\u001b[1;34m\"Unknown label type: %r\"\u001b[0m \u001b[1;33m%\u001b[0m \u001b[0my_type\u001b[0m\u001b[1;33m)\u001b[0m\u001b[1;33m\u001b[0m\u001b[1;33m\u001b[0m\u001b[0m\n\u001b[0m\u001b[0;32m    198\u001b[0m \u001b[1;33m\u001b[0m\u001b[0m\n\u001b[0;32m    199\u001b[0m \u001b[1;33m\u001b[0m\u001b[0m\n",
      "\u001b[1;31mValueError\u001b[0m: Unknown label type: 'continuous-multioutput'"
     ]
    }
   ],
   "source": [
    "\n",
    "Ls = [2,5,10]\n",
    "ks = [1,5,33]\n",
    "# shape: classifier X k X L X [errors]\n",
    "errors = {'diy' : {}, 'sk' : {}}\n",
    "for k in ks:\n",
    "    errors['diy'][k] = {}\n",
    "    errors['sk'][k] = {}\n",
    "    for L in Ls:\n",
    "        errors['diy'][k][L] = []\n",
    "        errors['sk'][k][L] = []\n",
    "\n",
    "for L in Ls:\n",
    "    X_folds, Y_folds = split_folds(x_train_tfidf, np.array(y_train_balanced), L)\n",
    "    fold_count = len(X_folds)\n",
    "    for pick in range(fold_count):\n",
    "        test_set_x = X_folds[pick]\n",
    "        test_set_y = Y_folds[pick]\n",
    "        \n",
    "        train_set_x = sparse.vstack([ X_folds[pick], X_folds[pick+1] ]).toarray()\n",
    "        train_set_y = sparse.vstack([X_folds[pick], X_folds[pick+1]]).toarray() \n",
    "                        \n",
    "        for k in ks:\n",
    "            sk_classifier = KNeighborsClassifier(n_neighbors = k)\n",
    "            sk_classifier.fit(train_set_x, train_set_y)\n",
    "            error = test_classifier(test_set_x, test_set_y, sk_classifier.predict)\n",
    "            print(error)\n",
    "            errors['sk'][k][L].append(error)\n",
    "          "
   ]
  },
  {
   "cell_type": "code",
   "execution_count": null,
   "metadata": {},
   "outputs": [],
   "source": [
    "errors"
   ]
  },
  {
   "cell_type": "code",
   "execution_count": null,
   "metadata": {
    "id": "f7a90r0lLaPK"
   },
   "outputs": [],
   "source": [
    "from scipy import sparse\n",
    "print(X_folds[0])\n",
    "# Stack matrices horizontally (column wise) using hstack().\n",
    "trainX_tfidf = sparse.hstack([X_folds[0], X_folds[1]])\n",
    "\n",
    "# Convert Spare Matrix into an Array using toarray() \n",
    "trainX_tfidf_arr = trainX_tfidf.toarray()\n",
    "\n",
    "# Concatenate TF-IDF and Cosine Similarity using numpy.c_[], \n",
    "# which is just another column stack.\n",
    "trainX_tfidf_cos = np.c_[trainX_tfidf_arr, trainX_tfidf_arr]\n",
    "trainX_tfidf_cos"
   ]
  },
  {
   "cell_type": "code",
   "execution_count": 55,
   "metadata": {},
   "outputs": [
    {
     "data": {
      "text/plain": [
       "(47566, 33166)"
      ]
     },
     "execution_count": 55,
     "metadata": {},
     "output_type": "execute_result"
    }
   ],
   "source": [
    "x_train_tfidf.shape"
   ]
  },
  {
   "cell_type": "code",
   "execution_count": 50,
   "metadata": {},
   "outputs": [
    {
     "name": "stdout",
     "output_type": "stream",
     "text": [
      "(23783, 33166)\n",
      "(23783, 33166)\n",
      "(47566, 33166)\n",
      "(47566, 33166)\n"
     ]
    }
   ],
   "source": [
    "print(X_folds[0].shape)\n",
    "print(X_folds[1].shape)\n",
    "print(trainX_tfidf.shape)\n",
    "trainX_tfidf_arr = sparse.vstack([ X_folds[0], X_folds[1] ]).toarray()\n",
    "\n",
    "# Convert Spare Matrix into an Array using toarray() \n",
    "#trainX_tfidf_arr = trainX_tfidf.toarray()\n",
    "print(trainX_tfidf.shape)"
   ]
  },
  {
   "cell_type": "code",
   "execution_count": null,
   "metadata": {},
   "outputs": [],
   "source": []
  },
  {
   "cell_type": "code",
   "execution_count": null,
   "metadata": {},
   "outputs": [],
   "source": [
    "def split_folds(data, target, L):\n",
    "    perm = np.random.permutation(range(len(target)))\n",
    "    print(\"here 1\")\n",
    "    #print(np.array_split(data[perm], 2))\n",
    "    #X_folds = np.array_split(data[perm], L)\n",
    "    print(\"her 2\", target[2])\n",
    "    y_folds = np.array_split(target[perm], L)\n",
    "    print(\"her 3\")\n",
    "    \n",
    "    return X_folds, y_folds"
   ]
  },
  {
   "cell_type": "code",
   "execution_count": null,
   "metadata": {},
   "outputs": [],
   "source": [
    "def cross_validate(data, target, k, L):\n",
    "        Ls = [2, 5, 10]\n",
    "\n",
    "        sklearn_knn = KNeighborsClassifier(n_neighbors=k)\n",
    "        \n",
    "\n",
    "        X_folds, y_folds = split_folds(data, target, L)\n",
    "        error_rates_own = []\n",
    "        error_rates_sklearn = []\n",
    "        for n in range(L):\n",
    "            # construct train and test set from folds\n",
    "            X_train_f = np.concatenate([X_folds[i].toarray() for i in range(L) if i != n])\n",
    "            X_test_f = X_folds[n]\n",
    "            y_train_f = np.concatenate([y_folds[i].toarray() for i in range(L) if i != n])\n",
    "            y_test_f = y_folds[n]\n",
    "            # run our own nearest neighbor classifier\n",
    "            #result_own = k_nearest_neighbors(X_train_f, y_train_f, X_test_f, k)\n",
    "            #error_rates_own.append( 100 * (1 - np.count_nonzero(result_own == y_test_f) / len(result_own)))\n",
    "            # run sklearn's nearest neighbor classifier\n",
    "            sklearn_knn.fit(X_train_f, y_train_f)\n",
    "            result_sklearn = sklearn_knn.predict(X_test_f)\n",
    "            error_rates_sklearn.append(100* (1- np.count_nonzero(result_sklearn == y_test_f) / len(result_sklearn)))\n",
    "\n",
    "        return np.mean(error_rates_own), np.std(error_rates_own), np.mean(error_rates_sklearn), np.std(error_rates_sklearn)"
   ]
  },
  {
   "cell_type": "code",
   "execution_count": null,
   "metadata": {},
   "outputs": [],
   "source": [
    "# run experiments for say k=5\n",
    "Ls = [2,5,10]\n",
    "from sklearn.neighbors import KNeighborsClassifier\n",
    "Ls = [2, 5, 10]\n",
    "ks = [1, 5]\n",
    "values = np.zeros((len(ks), len(Ls), 4)) # k, L, results\n",
    "for i, k in enumerate(ks):\n",
    "    for j, L in enumerate(Ls):\n",
    "      values[i, j, :] = cross_validate(x_train_tfidf, y_train_balanced, k, L)"
   ]
  },
  {
   "cell_type": "code",
   "execution_count": null,
   "metadata": {},
   "outputs": [],
   "source": [
    "from sklearn.model_selection import StratifiedKFold\n",
    "cv = StratifiedKFold(n_splits=10, shuffle=True, random_state=42)\n",
    "sklearn_knn = KNeighborsClassifier(n_neighbors=2)\n",
    "for train_indices, test_indices in cv.split(x_train_tfidf, y_train_balanced):\n",
    "    display(test_indices)\n",
    "    \n",
    "    train_data = x_train_tfidf[train_indices]\n",
    "    train_target = y_train_balanced[train_indices]\n",
    "    \n",
    "    #dt.fit(train_data, train_target)\n",
    "    sklearn_knn.fit(train_data, train_target)\n",
    "    test_data = data[test_indices]\n",
    "    test_target = y_train_balanced[test_indices]\n",
    "    \n",
    "    #test_prediction = dt.predict(test_data)\n",
    "    result_sklearn = sklearn_knn.predict(test_data)"
   ]
  },
  {
   "cell_type": "code",
   "execution_count": null,
   "metadata": {},
   "outputs": [],
   "source": [
    "def test_classifier(x_test, y_test, classifier_callback):\n",
    "    error = classifier_callback(x_test) != y_test\n",
    "    return np.mean(error)"
   ]
  },
  {
   "cell_type": "code",
   "execution_count": null,
   "metadata": {},
   "outputs": [],
   "source": [
    "def split_folds(data, target, L):\n",
    "    X_folds = []\n",
    "    Y_folds = []\n",
    "    #indices based on rows\n",
    "    fold_indices = np.arange(data.shape[0])\n",
    "    #shuffle and split indices\n",
    "    folds = np.array_split(np.random.permutation(fold_indices), L)\n",
    "\n",
    "    for fold in folds:\n",
    "        X_folds.append(data[fold])\n",
    "        Y_folds.append(target[fold])\n",
    "        \n",
    "    return X_folds, Y_folds"
   ]
  },
  {
   "cell_type": "code",
   "execution_count": null,
   "metadata": {},
   "outputs": [],
   "source": [
    "from sklearn.neighbors import KNeighborsClassifier\n",
    "\n",
    "Ls = [2,5,10]\n",
    "ks = [1,5,33]\n",
    "# shape: classifier X k X L X [errors]\n",
    "errors = {'diy' : {}, 'sk' : {}}\n",
    "for k in ks:\n",
    "    errors['diy'][k] = {}\n",
    "    errors['sk'][k] = {}\n",
    "    for L in Ls:\n",
    "        errors['diy'][k][L] = []\n",
    "        errors['sk'][k][L] = []\n",
    "\n",
    "for L in Ls:\n",
    "    X_folds, Y_folds = split_folds(x_train_tfidf, np.array(y_train_balanced), L)\n",
    "    fold_count = len(X_folds)\n",
    "    for pick in range(fold_count):\n",
    "        test_set_x = X_folds[pick]\n",
    "        test_set_y = Y_folds[pick]\n",
    "        train_set_x = np.concatenate(X_folds[:pick] + X_folds[pick+1:])\n",
    "        train_set_y = np.concatenate(Y_folds[:pick] + Y_folds[pick+1:])\n",
    "        for k in ks:\n",
    "            #diy_classifier = KNearestNeighbour(train_set_x, train_set_y, k)\n",
    "            #error = test_classifier(test_set_x, test_set_y, diy_classifier.predict)\n",
    "            errors['diy'][k][L].append(error)\n",
    "\n",
    "            sk_classifier = KNeighborsClassifier(n_neighbors = k)\n",
    "            sk_classifier.fit(train_set_x, train_set_y)\n",
    "            error = test_classifier(test_set_x, test_set_y, sk_classifier.predict)\n",
    "            errors['sk'][k][L].append(error)\n",
    "        "
   ]
  },
  {
   "cell_type": "code",
   "execution_count": null,
   "metadata": {},
   "outputs": [],
   "source": [
    "from sklearn.model_selection import StratifiedKFold, cross_val_score\n",
    "\n",
    "def corss_val(model):\n",
    "    kf = StratifiedKFold(5, shuffle=True, random_state=1)\n",
    "    auc = cross_val_score(\n",
    "        model, x_train_tfidf, y_train_balanced, scoring=\"f1\", cv=kf)\n",
    "    print(auc)\n",
    "    return auc.mean()\n",
    "get_auc_CV(model)"
   ]
  }
 ],
 "metadata": {
  "colab": {
   "name": "KNN.ipynb",
   "provenance": []
  },
  "kernelspec": {
   "display_name": "Python 3 (ipykernel)",
   "language": "python",
   "name": "python3"
  },
  "language_info": {
   "codemirror_mode": {
    "name": "ipython",
    "version": 3
   },
   "file_extension": ".py",
   "mimetype": "text/x-python",
   "name": "python",
   "nbconvert_exporter": "python",
   "pygments_lexer": "ipython3",
   "version": "3.9.5"
  },
  "widgets": {
   "application/vnd.jupyter.widget-state+json": {
    "034fa9e57cd04f0cb7b06d9c72917ce7": {
     "model_module": "@jupyter-widgets/base",
     "model_module_version": "1.2.0",
     "model_name": "LayoutModel",
     "state": {
      "_model_module": "@jupyter-widgets/base",
      "_model_module_version": "1.2.0",
      "_model_name": "LayoutModel",
      "_view_count": null,
      "_view_module": "@jupyter-widgets/base",
      "_view_module_version": "1.2.0",
      "_view_name": "LayoutView",
      "align_content": null,
      "align_items": null,
      "align_self": null,
      "border": null,
      "bottom": null,
      "display": null,
      "flex": null,
      "flex_flow": null,
      "grid_area": null,
      "grid_auto_columns": null,
      "grid_auto_flow": null,
      "grid_auto_rows": null,
      "grid_column": null,
      "grid_gap": null,
      "grid_row": null,
      "grid_template_areas": null,
      "grid_template_columns": null,
      "grid_template_rows": null,
      "height": null,
      "justify_content": null,
      "justify_items": null,
      "left": null,
      "margin": null,
      "max_height": null,
      "max_width": null,
      "min_height": null,
      "min_width": null,
      "object_fit": null,
      "object_position": null,
      "order": null,
      "overflow": null,
      "overflow_x": null,
      "overflow_y": null,
      "padding": null,
      "right": null,
      "top": null,
      "visibility": null,
      "width": null
     }
    },
    "35c43543413d42e1a01fdf43505ec583": {
     "model_module": "@jupyter-widgets/controls",
     "model_module_version": "1.5.0",
     "model_name": "FloatProgressModel",
     "state": {
      "_dom_classes": [],
      "_model_module": "@jupyter-widgets/controls",
      "_model_module_version": "1.5.0",
      "_model_name": "FloatProgressModel",
      "_view_count": null,
      "_view_module": "@jupyter-widgets/controls",
      "_view_module_version": "1.5.0",
      "_view_name": "ProgressView",
      "bar_style": "success",
      "description": "",
      "description_tooltip": null,
      "layout": "IPY_MODEL_f3ecb212ebd34f888e77a7941fbc1807",
      "max": 1,
      "min": 0,
      "orientation": "horizontal",
      "style": "IPY_MODEL_8f9a40ccf4e644278114be35d54be80e",
      "value": 1
     }
    },
    "851c9359070b46b399733fbc72c4cb43": {
     "model_module": "@jupyter-widgets/base",
     "model_module_version": "1.2.0",
     "model_name": "LayoutModel",
     "state": {
      "_model_module": "@jupyter-widgets/base",
      "_model_module_version": "1.2.0",
      "_model_name": "LayoutModel",
      "_view_count": null,
      "_view_module": "@jupyter-widgets/base",
      "_view_module_version": "1.2.0",
      "_view_name": "LayoutView",
      "align_content": null,
      "align_items": null,
      "align_self": null,
      "border": null,
      "bottom": null,
      "display": null,
      "flex": null,
      "flex_flow": null,
      "grid_area": null,
      "grid_auto_columns": null,
      "grid_auto_flow": null,
      "grid_auto_rows": null,
      "grid_column": null,
      "grid_gap": null,
      "grid_row": null,
      "grid_template_areas": null,
      "grid_template_columns": null,
      "grid_template_rows": null,
      "height": null,
      "justify_content": null,
      "justify_items": null,
      "left": null,
      "margin": null,
      "max_height": null,
      "max_width": null,
      "min_height": null,
      "min_width": null,
      "object_fit": null,
      "object_position": null,
      "order": null,
      "overflow": null,
      "overflow_x": null,
      "overflow_y": null,
      "padding": null,
      "right": null,
      "top": null,
      "visibility": null,
      "width": null
     }
    },
    "8f9a40ccf4e644278114be35d54be80e": {
     "model_module": "@jupyter-widgets/controls",
     "model_module_version": "1.5.0",
     "model_name": "ProgressStyleModel",
     "state": {
      "_model_module": "@jupyter-widgets/controls",
      "_model_module_version": "1.5.0",
      "_model_name": "ProgressStyleModel",
      "_view_count": null,
      "_view_module": "@jupyter-widgets/base",
      "_view_module_version": "1.2.0",
      "_view_name": "StyleView",
      "bar_color": null,
      "description_width": ""
     }
    },
    "92bf5009babc4a6a868debb9f732a532": {
     "model_module": "@jupyter-widgets/controls",
     "model_module_version": "1.5.0",
     "model_name": "HTMLModel",
     "state": {
      "_dom_classes": [],
      "_model_module": "@jupyter-widgets/controls",
      "_model_module_version": "1.5.0",
      "_model_name": "HTMLModel",
      "_view_count": null,
      "_view_module": "@jupyter-widgets/controls",
      "_view_module_version": "1.5.0",
      "_view_name": "HTMLView",
      "description": "",
      "description_tooltip": null,
      "layout": "IPY_MODEL_851c9359070b46b399733fbc72c4cb43",
      "placeholder": "​",
      "style": "IPY_MODEL_cb41ce2d09fc4eb8b8b7cf49519e6727",
      "value": " 1/1 [00:00&lt;00:00, 15.72it/s]"
     }
    },
    "a70a0499ad2542c489de80b8145814b5": {
     "model_module": "@jupyter-widgets/controls",
     "model_module_version": "1.5.0",
     "model_name": "HTMLModel",
     "state": {
      "_dom_classes": [],
      "_model_module": "@jupyter-widgets/controls",
      "_model_module_version": "1.5.0",
      "_model_name": "HTMLModel",
      "_view_count": null,
      "_view_module": "@jupyter-widgets/controls",
      "_view_module_version": "1.5.0",
      "_view_name": "HTMLView",
      "description": "",
      "description_tooltip": null,
      "layout": "IPY_MODEL_fa4f9326c232407498da36923b6497dc",
      "placeholder": "​",
      "style": "IPY_MODEL_b056f2edc7ee4561bcdb2b8fa3d13109",
      "value": "100%"
     }
    },
    "b056f2edc7ee4561bcdb2b8fa3d13109": {
     "model_module": "@jupyter-widgets/controls",
     "model_module_version": "1.5.0",
     "model_name": "DescriptionStyleModel",
     "state": {
      "_model_module": "@jupyter-widgets/controls",
      "_model_module_version": "1.5.0",
      "_model_name": "DescriptionStyleModel",
      "_view_count": null,
      "_view_module": "@jupyter-widgets/base",
      "_view_module_version": "1.2.0",
      "_view_name": "StyleView",
      "description_width": ""
     }
    },
    "c0e2153a1cdc4b1b9a4529bca0ebe22f": {
     "model_module": "@jupyter-widgets/controls",
     "model_module_version": "1.5.0",
     "model_name": "HBoxModel",
     "state": {
      "_dom_classes": [],
      "_model_module": "@jupyter-widgets/controls",
      "_model_module_version": "1.5.0",
      "_model_name": "HBoxModel",
      "_view_count": null,
      "_view_module": "@jupyter-widgets/controls",
      "_view_module_version": "1.5.0",
      "_view_name": "HBoxView",
      "box_style": "",
      "children": [
       "IPY_MODEL_a70a0499ad2542c489de80b8145814b5",
       "IPY_MODEL_35c43543413d42e1a01fdf43505ec583",
       "IPY_MODEL_92bf5009babc4a6a868debb9f732a532"
      ],
      "layout": "IPY_MODEL_034fa9e57cd04f0cb7b06d9c72917ce7"
     }
    },
    "cb41ce2d09fc4eb8b8b7cf49519e6727": {
     "model_module": "@jupyter-widgets/controls",
     "model_module_version": "1.5.0",
     "model_name": "DescriptionStyleModel",
     "state": {
      "_model_module": "@jupyter-widgets/controls",
      "_model_module_version": "1.5.0",
      "_model_name": "DescriptionStyleModel",
      "_view_count": null,
      "_view_module": "@jupyter-widgets/base",
      "_view_module_version": "1.2.0",
      "_view_name": "StyleView",
      "description_width": ""
     }
    },
    "f3ecb212ebd34f888e77a7941fbc1807": {
     "model_module": "@jupyter-widgets/base",
     "model_module_version": "1.2.0",
     "model_name": "LayoutModel",
     "state": {
      "_model_module": "@jupyter-widgets/base",
      "_model_module_version": "1.2.0",
      "_model_name": "LayoutModel",
      "_view_count": null,
      "_view_module": "@jupyter-widgets/base",
      "_view_module_version": "1.2.0",
      "_view_name": "LayoutView",
      "align_content": null,
      "align_items": null,
      "align_self": null,
      "border": null,
      "bottom": null,
      "display": null,
      "flex": null,
      "flex_flow": null,
      "grid_area": null,
      "grid_auto_columns": null,
      "grid_auto_flow": null,
      "grid_auto_rows": null,
      "grid_column": null,
      "grid_gap": null,
      "grid_row": null,
      "grid_template_areas": null,
      "grid_template_columns": null,
      "grid_template_rows": null,
      "height": null,
      "justify_content": null,
      "justify_items": null,
      "left": null,
      "margin": null,
      "max_height": null,
      "max_width": null,
      "min_height": null,
      "min_width": null,
      "object_fit": null,
      "object_position": null,
      "order": null,
      "overflow": null,
      "overflow_x": null,
      "overflow_y": null,
      "padding": null,
      "right": null,
      "top": null,
      "visibility": null,
      "width": null
     }
    },
    "fa4f9326c232407498da36923b6497dc": {
     "model_module": "@jupyter-widgets/base",
     "model_module_version": "1.2.0",
     "model_name": "LayoutModel",
     "state": {
      "_model_module": "@jupyter-widgets/base",
      "_model_module_version": "1.2.0",
      "_model_name": "LayoutModel",
      "_view_count": null,
      "_view_module": "@jupyter-widgets/base",
      "_view_module_version": "1.2.0",
      "_view_name": "LayoutView",
      "align_content": null,
      "align_items": null,
      "align_self": null,
      "border": null,
      "bottom": null,
      "display": null,
      "flex": null,
      "flex_flow": null,
      "grid_area": null,
      "grid_auto_columns": null,
      "grid_auto_flow": null,
      "grid_auto_rows": null,
      "grid_column": null,
      "grid_gap": null,
      "grid_row": null,
      "grid_template_areas": null,
      "grid_template_columns": null,
      "grid_template_rows": null,
      "height": null,
      "justify_content": null,
      "justify_items": null,
      "left": null,
      "margin": null,
      "max_height": null,
      "max_width": null,
      "min_height": null,
      "min_width": null,
      "object_fit": null,
      "object_position": null,
      "order": null,
      "overflow": null,
      "overflow_x": null,
      "overflow_y": null,
      "padding": null,
      "right": null,
      "top": null,
      "visibility": null,
      "width": null
     }
    }
   }
  }
 },
 "nbformat": 4,
 "nbformat_minor": 1
}
