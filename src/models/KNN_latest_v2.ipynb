{
 "cells": [
  {
   "cell_type": "markdown",
   "id": "22350aa6",
   "metadata": {
    "id": "22350aa6"
   },
   "source": [
    "### KNN "
   ]
  },
  {
   "cell_type": "markdown",
   "id": "99cda7c2",
   "metadata": {
    "id": "99cda7c2"
   },
   "source": [
    "### Table of Contents\n",
    "\n",
    "* [1. Preparation](#Preparation)\n",
    "* [2 Model Building](#modelBuilding)\n",
    "* [3. Training and Evaluation](#training)\n",
    "    * [Evaluate with only tokenization 1.1](#tokenization)\n",
    "    * [Evaluate with stopwords removal](#stopwords_removal)\n",
    "    * [Evaluate with Stemming](#stemming)\n",
    "    * [Evaluate with lemmatization](#lemmatization)\n",
    "    * [Evaluate with Upsampling](#upsampling)\n",
    "    * [All_but_stemming](#All_but_stemming)\n",
    "    * [Results](#results)\n",
    "* [4. Hyperparameter optimization](#tunning)\n",
    "* [3. Deal with imbalanced classes](#imbalanced)"
   ]
  },
  {
   "cell_type": "markdown",
   "id": "91916bd0",
   "metadata": {
    "id": "91916bd0"
   },
   "source": [
    "### 1. Preparation <a class=\"anchor\" id=\"Preparation\"></a>"
   ]
  },
  {
   "cell_type": "code",
   "execution_count": 1,
   "id": "1e48193c",
   "metadata": {
    "colab": {
     "base_uri": "https://localhost:8080/"
    },
    "id": "1e48193c",
    "outputId": "811a1afd-21a0-4929-b310-78d38c37cf17"
   },
   "outputs": [
    {
     "name": "stdout",
     "output_type": "stream",
     "text": [
      "Looking in indexes: https://int.repositories.cloud.sap/artifactory/api/pypi/build-releases-pypi/simple, https://int.repositories.cloud.sap/artifactory/api/pypi/build-milestones-pypi/simple\n",
      "Requirement already satisfied: datasets in c:\\users\\d073999\\miniconda3\\envs\\torch\\lib\\site-packages (2.2.2)\n",
      "Requirement already satisfied: pyarrow>=6.0.0 in c:\\users\\d073999\\miniconda3\\envs\\torch\\lib\\site-packages (from datasets) (8.0.0)\n",
      "Requirement already satisfied: tqdm>=4.62.1 in c:\\users\\d073999\\miniconda3\\envs\\torch\\lib\\site-packages (from datasets) (4.64.0)\n",
      "Requirement already satisfied: dill<0.3.5 in c:\\users\\d073999\\miniconda3\\envs\\torch\\lib\\site-packages (from datasets) (0.3.4)\n",
      "Requirement already satisfied: xxhash in c:\\users\\d073999\\miniconda3\\envs\\torch\\lib\\site-packages (from datasets) (3.0.0)\n",
      "Requirement already satisfied: pandas in c:\\users\\d073999\\miniconda3\\envs\\torch\\lib\\site-packages (from datasets) (1.3.5)\n",
      "Requirement already satisfied: numpy>=1.17 in c:\\users\\d073999\\miniconda3\\envs\\torch\\lib\\site-packages (from datasets) (1.19.2)\n",
      "Requirement already satisfied: huggingface-hub<1.0.0,>=0.1.0 in c:\\users\\d073999\\miniconda3\\envs\\torch\\lib\\site-packages (from datasets) (0.6.0)\n",
      "Requirement already satisfied: packaging in c:\\users\\d073999\\miniconda3\\envs\\torch\\lib\\site-packages (from datasets) (21.3)\n",
      "Requirement already satisfied: multiprocess in c:\\users\\d073999\\miniconda3\\envs\\torch\\lib\\site-packages (from datasets) (0.70.12.2)\n",
      "Requirement already satisfied: fsspec[http]>=2021.05.0 in c:\\users\\d073999\\miniconda3\\envs\\torch\\lib\\site-packages (from datasets) (2022.5.0)\n",
      "Requirement already satisfied: aiohttp in c:\\users\\d073999\\miniconda3\\envs\\torch\\lib\\site-packages (from datasets) (3.8.1)\n",
      "Requirement already satisfied: requests>=2.19.0 in c:\\users\\d073999\\miniconda3\\envs\\torch\\lib\\site-packages (from datasets) (2.27.1)\n",
      "Requirement already satisfied: responses<0.19 in c:\\users\\d073999\\miniconda3\\envs\\torch\\lib\\site-packages (from datasets) (0.18.0)\n",
      "Requirement already satisfied: importlib-metadata in c:\\users\\d073999\\miniconda3\\envs\\torch\\lib\\site-packages (from datasets) (4.11.3)\n",
      "Requirement already satisfied: typing-extensions>=3.7.4.3 in c:\\users\\d073999\\miniconda3\\envs\\torch\\lib\\site-packages (from huggingface-hub<1.0.0,>=0.1.0->datasets) (4.1.1)\n",
      "Requirement already satisfied: pyyaml in c:\\users\\d073999\\miniconda3\\envs\\torch\\lib\\site-packages (from huggingface-hub<1.0.0,>=0.1.0->datasets) (6.0)\n",
      "Requirement already satisfied: filelock in c:\\users\\d073999\\miniconda3\\envs\\torch\\lib\\site-packages (from huggingface-hub<1.0.0,>=0.1.0->datasets) (3.7.0)\n",
      "Requirement already satisfied: pyparsing!=3.0.5,>=2.0.2 in c:\\users\\d073999\\miniconda3\\envs\\torch\\lib\\site-packages (from packaging->datasets) (3.0.4)\n",
      "Requirement already satisfied: certifi>=2017.4.17 in c:\\users\\d073999\\miniconda3\\envs\\torch\\lib\\site-packages (from requests>=2.19.0->datasets) (2022.5.18.1)\n",
      "Requirement already satisfied: idna<4,>=2.5 in c:\\users\\d073999\\miniconda3\\envs\\torch\\lib\\site-packages (from requests>=2.19.0->datasets) (3.3)\n",
      "Requirement already satisfied: urllib3<1.27,>=1.21.1 in c:\\users\\d073999\\miniconda3\\envs\\torch\\lib\\site-packages (from requests>=2.19.0->datasets) (1.26.9)\n",
      "Requirement already satisfied: charset-normalizer~=2.0.0 in c:\\users\\d073999\\miniconda3\\envs\\torch\\lib\\site-packages (from requests>=2.19.0->datasets) (2.0.4)\n",
      "Requirement already satisfied: colorama in c:\\users\\d073999\\miniconda3\\envs\\torch\\lib\\site-packages (from tqdm>=4.62.1->datasets) (0.4.4)\n",
      "Requirement already satisfied: frozenlist>=1.1.1 in c:\\users\\d073999\\miniconda3\\envs\\torch\\lib\\site-packages (from aiohttp->datasets) (1.3.0)\n",
      "Requirement already satisfied: aiosignal>=1.1.2 in c:\\users\\d073999\\miniconda3\\envs\\torch\\lib\\site-packages (from aiohttp->datasets) (1.2.0)\n",
      "Requirement already satisfied: async-timeout<5.0,>=4.0.0a3 in c:\\users\\d073999\\miniconda3\\envs\\torch\\lib\\site-packages (from aiohttp->datasets) (4.0.2)\n",
      "Requirement already satisfied: asynctest==0.13.0 in c:\\users\\d073999\\miniconda3\\envs\\torch\\lib\\site-packages (from aiohttp->datasets) (0.13.0)\n",
      "Requirement already satisfied: attrs>=17.3.0 in c:\\users\\d073999\\miniconda3\\envs\\torch\\lib\\site-packages (from aiohttp->datasets) (21.4.0)\n",
      "Requirement already satisfied: multidict<7.0,>=4.5 in c:\\users\\d073999\\miniconda3\\envs\\torch\\lib\\site-packages (from aiohttp->datasets) (6.0.2)\n",
      "Requirement already satisfied: yarl<2.0,>=1.0 in c:\\users\\d073999\\miniconda3\\envs\\torch\\lib\\site-packages (from aiohttp->datasets) (1.7.2)\n",
      "Requirement already satisfied: zipp>=0.5 in c:\\users\\d073999\\miniconda3\\envs\\torch\\lib\\site-packages (from importlib-metadata->datasets) (3.8.0)\n",
      "Requirement already satisfied: python-dateutil>=2.7.3 in c:\\users\\d073999\\miniconda3\\envs\\torch\\lib\\site-packages (from pandas->datasets) (2.8.2)\n",
      "Requirement already satisfied: pytz>=2017.3 in c:\\users\\d073999\\miniconda3\\envs\\torch\\lib\\site-packages (from pandas->datasets) (2021.3)\n",
      "Requirement already satisfied: six>=1.5 in c:\\users\\d073999\\miniconda3\\envs\\torch\\lib\\site-packages (from python-dateutil>=2.7.3->pandas->datasets) (1.16.0)\n"
     ]
    }
   ],
   "source": [
    "!pip install datasets"
   ]
  },
  {
   "cell_type": "code",
   "execution_count": 2,
   "id": "2c4e4ac3",
   "metadata": {
    "colab": {
     "base_uri": "https://localhost:8080/"
    },
    "id": "2c4e4ac3",
    "outputId": "5e28074d-324c-42f6-9419-ee3534ea75f4"
   },
   "outputs": [
    {
     "name": "stdout",
     "output_type": "stream",
     "text": [
      "Looking in indexes: https://int.repositories.cloud.sap/artifactory/api/pypi/build-releases-pypi/simple, https://int.repositories.cloud.sap/artifactory/api/pypi/build-milestones-pypi/simple\n",
      "Requirement already satisfied: emoji in c:\\users\\d073999\\miniconda3\\envs\\torch\\lib\\site-packages (1.7.0)\n"
     ]
    }
   ],
   "source": [
    "!pip install emoji"
   ]
  },
  {
   "cell_type": "code",
   "execution_count": 3,
   "id": "24d8b711",
   "metadata": {
    "colab": {
     "base_uri": "https://localhost:8080/"
    },
    "id": "24d8b711",
    "outputId": "33170dee-3ce6-4c11-c3a8-c4c8c7d4cfbd"
   },
   "outputs": [
    {
     "name": "stdout",
     "output_type": "stream",
     "text": [
      "Looking in indexes: https://int.repositories.cloud.sap/artifactory/api/pypi/build-releases-pypi/simple, https://int.repositories.cloud.sap/artifactory/api/pypi/build-milestones-pypi/simple\n",
      "Requirement already satisfied: mlxtend in c:\\users\\d073999\\miniconda3\\envs\\torch\\lib\\site-packages (0.19.0)\n",
      "Requirement already satisfied: scikit-learn>=0.20.3 in c:\\users\\d073999\\miniconda3\\envs\\torch\\lib\\site-packages (from mlxtend) (1.0.2)\n",
      "Requirement already satisfied: matplotlib>=3.0.0 in c:\\users\\d073999\\miniconda3\\envs\\torch\\lib\\site-packages (from mlxtend) (3.5.1)\n",
      "Requirement already satisfied: numpy>=1.16.2 in c:\\users\\d073999\\miniconda3\\envs\\torch\\lib\\site-packages (from mlxtend) (1.19.2)\n",
      "Requirement already satisfied: setuptools in c:\\users\\d073999\\miniconda3\\envs\\torch\\lib\\site-packages (from mlxtend) (61.2.0)\n",
      "Requirement already satisfied: scipy>=1.2.1 in c:\\users\\d073999\\miniconda3\\envs\\torch\\lib\\site-packages (from mlxtend) (1.6.2)\n",
      "Requirement already satisfied: joblib>=0.13.2 in c:\\users\\d073999\\miniconda3\\envs\\torch\\lib\\site-packages (from mlxtend) (1.1.0)\n",
      "Requirement already satisfied: pandas>=0.24.2 in c:\\users\\d073999\\miniconda3\\envs\\torch\\lib\\site-packages (from mlxtend) (1.3.5)\n",
      "Requirement already satisfied: fonttools>=4.22.0 in c:\\users\\d073999\\miniconda3\\envs\\torch\\lib\\site-packages (from matplotlib>=3.0.0->mlxtend) (4.25.0)\n",
      "Requirement already satisfied: pillow>=6.2.0 in c:\\users\\d073999\\miniconda3\\envs\\torch\\lib\\site-packages (from matplotlib>=3.0.0->mlxtend) (9.0.1)\n",
      "Requirement already satisfied: cycler>=0.10 in c:\\users\\d073999\\miniconda3\\envs\\torch\\lib\\site-packages (from matplotlib>=3.0.0->mlxtend) (0.11.0)\n",
      "Requirement already satisfied: pyparsing>=2.2.1 in c:\\users\\d073999\\miniconda3\\envs\\torch\\lib\\site-packages (from matplotlib>=3.0.0->mlxtend) (3.0.4)\n",
      "Requirement already satisfied: python-dateutil>=2.7 in c:\\users\\d073999\\miniconda3\\envs\\torch\\lib\\site-packages (from matplotlib>=3.0.0->mlxtend) (2.8.2)\n",
      "Requirement already satisfied: kiwisolver>=1.0.1 in c:\\users\\d073999\\miniconda3\\envs\\torch\\lib\\site-packages (from matplotlib>=3.0.0->mlxtend) (1.3.2)\n",
      "Requirement already satisfied: packaging>=20.0 in c:\\users\\d073999\\miniconda3\\envs\\torch\\lib\\site-packages (from matplotlib>=3.0.0->mlxtend) (21.3)\n",
      "Requirement already satisfied: pytz>=2017.3 in c:\\users\\d073999\\miniconda3\\envs\\torch\\lib\\site-packages (from pandas>=0.24.2->mlxtend) (2021.3)\n",
      "Requirement already satisfied: six>=1.5 in c:\\users\\d073999\\miniconda3\\envs\\torch\\lib\\site-packages (from python-dateutil>=2.7->matplotlib>=3.0.0->mlxtend) (1.16.0)\n",
      "Requirement already satisfied: threadpoolctl>=2.0.0 in c:\\users\\d073999\\miniconda3\\envs\\torch\\lib\\site-packages (from scikit-learn>=0.20.3->mlxtend) (2.2.0)\n"
     ]
    }
   ],
   "source": [
    "!pip install mlxtend"
   ]
  },
  {
   "cell_type": "code",
   "execution_count": 4,
   "id": "2ef5c5aa",
   "metadata": {},
   "outputs": [
    {
     "name": "stdout",
     "output_type": "stream",
     "text": [
      "Looking in indexes: https://int.repositories.cloud.sap/artifactory/api/pypi/build-releases-pypi/simple, https://int.repositories.cloud.sap/artifactory/api/pypi/build-milestones-pypi/simple\n",
      "Requirement already satisfied: nltk in c:\\users\\d073999\\miniconda3\\envs\\torch\\lib\\site-packages (3.7)\n",
      "Requirement already satisfied: regex>=2021.8.3 in c:\\users\\d073999\\miniconda3\\envs\\torch\\lib\\site-packages (from nltk) (2022.4.24)\n",
      "Requirement already satisfied: joblib in c:\\users\\d073999\\miniconda3\\envs\\torch\\lib\\site-packages (from nltk) (1.1.0)\n",
      "Requirement already satisfied: tqdm in c:\\users\\d073999\\miniconda3\\envs\\torch\\lib\\site-packages (from nltk) (4.64.0)\n",
      "Requirement already satisfied: click in c:\\users\\d073999\\miniconda3\\envs\\torch\\lib\\site-packages (from nltk) (8.0.4)\n",
      "Requirement already satisfied: importlib-metadata in c:\\users\\d073999\\miniconda3\\envs\\torch\\lib\\site-packages (from click->nltk) (4.11.3)\n",
      "Requirement already satisfied: colorama in c:\\users\\d073999\\miniconda3\\envs\\torch\\lib\\site-packages (from click->nltk) (0.4.4)\n",
      "Requirement already satisfied: zipp>=0.5 in c:\\users\\d073999\\miniconda3\\envs\\torch\\lib\\site-packages (from importlib-metadata->click->nltk) (3.8.0)\n",
      "Requirement already satisfied: typing-extensions>=3.6.4 in c:\\users\\d073999\\miniconda3\\envs\\torch\\lib\\site-packages (from importlib-metadata->click->nltk) (4.1.1)\n"
     ]
    }
   ],
   "source": [
    "!pip install nltk"
   ]
  },
  {
   "cell_type": "code",
   "execution_count": 1,
   "id": "556c7765",
   "metadata": {
    "colab": {
     "base_uri": "https://localhost:8080/"
    },
    "id": "556c7765",
    "outputId": "b22935d2-c389-4eb1-f7b8-2214828eed2f"
   },
   "outputs": [
    {
     "name": "stdout",
     "output_type": "stream",
     "text": [
      "C:\\Users\\D073999\\Documents\\uni-Mannheim\\Data_Mining_I\\Data_mining\\src\\models\\preprocessing.py\n"
     ]
    }
   ],
   "source": [
    "# import libraries\n",
    "import seaborn as sns\n",
    "import pandas as pd\n",
    "import numpy as np\n",
    "import itertools\n",
    "#from datasets import list_datasets, load_dataset # hugging face dataset\n",
    "from pprint import pprint\n",
    "import seaborn as sns\n",
    "import matplotlib.pyplot as plt\n",
    "import tqdm\n",
    "\n",
    "from sklearn.model_selection import train_test_split\n",
    "from sklearn.utils import resample\n",
    "from sklearn.model_selection import cross_val_score\n",
    "\n",
    "import scipy\n",
    "import random\n",
    "import torch\n",
    "RANDOM_SEED = 42\n",
    "random.seed(RANDOM_SEED)\n",
    "np.random.seed(RANDOM_SEED)\n",
    "torch.manual_seed(RANDOM_SEED)\n",
    "torch.cuda.manual_seed_all(RANDOM_SEED)\n",
    "\n",
    "import os\n",
    "import glob\n",
    "import sys\n",
    "#sys.path.append(os.path.dirname((os.path.abspath(''))))\n",
    "\n",
    "path = \"preprocessing.py\"\n",
    "\n",
    "file_name = os.path.abspath(os.path.join(os.path.dirname( 'data'), '..'))\n",
    "file_name = os.path.abspath(path)\n",
    "print(file_name)\n",
    "#from src.data.preprocessing import setup\n",
    "\n",
    "\n",
    "\n",
    "import sklearn.model_selection as ms\n",
    "import sklearn.feature_extraction.text as text\n",
    "from sklearn.feature_extraction.text import TfidfVectorizer, CountVectorizer\n",
    "from sklearn.metrics import confusion_matrix, accuracy_score, precision_score, recall_score, f1_score\n",
    "from mlxtend.plotting import plot_confusion_matrix\n",
    "from sklearn.model_selection import train_test_split\n",
    "from sklearn.neighbors import KNeighborsClassifier\n",
    "from sklearn.metrics import classification_report\n",
    "from sklearn.pipeline import Pipeline\n",
    "\n",
    "from sklearn.base import BaseEstimator, ClassifierMixin, RegressorMixin, TransformerMixin\n",
    "from sklearn.utils.estimator_checks import check_estimator\n",
    "from sklearn.utils.validation import check_X_y, check_array, check_is_fitted\n",
    "from sklearn.utils.multiclass import unique_labels\n",
    "from sklearn.metrics import euclidean_distances\n",
    "from sklearn.pipeline import Pipeline\n",
    "from sklearn.decomposition import PCA\n",
    "from sklearn.preprocessing import MinMaxScaler\n",
    "from sklearn.ensemble import RandomForestRegressor\n",
    "from sklearn.model_selection import GridSearchCV, StratifiedKFold\n",
    "from  sklearn.feature_extraction.text import TfidfTransformer\n",
    "import emoji\n",
    "SEED = 1234\n",
    "\n",
    "from string import punctuation\n",
    "import re\n",
    "import nltk\n",
    "from nltk.corpus import stopwords\n",
    "from nltk.stem import WordNetLemmatizer\n",
    "from nltk.stem.porter import PorterStemmer\n",
    "from IPython.core.display import HTML\n",
    "\n",
    "\n",
    "\n",
    "from datasets import list_datasets, load_dataset\n",
    "from pprint import pprint\n",
    "\n",
    "from time import time\n",
    "import logging\n",
    "# Display progress logs on stdout\n",
    "logging.basicConfig(level=logging.INFO, format=\"%(asctime)s %(levelname)s %(message)s\")\n",
    "\n",
    "from tqdm import tqdm\n",
    "tqdm.pandas()\n",
    "import warnings\n",
    "warnings.filterwarnings('ignore')"
   ]
  },
  {
   "cell_type": "code",
   "execution_count": 2,
   "id": "SAQ32fxdyZz5",
   "metadata": {
    "colab": {
     "base_uri": "https://localhost:8080/"
    },
    "id": "SAQ32fxdyZz5",
    "outputId": "03559f63-24da-4bec-8639-6b3369555100"
   },
   "outputs": [
    {
     "name": "stdout",
     "output_type": "stream",
     "text": [
      "Looking in indexes: https://int.repositories.cloud.sap/artifactory/api/pypi/build-releases-pypi/simple, https://int.repositories.cloud.sap/artifactory/api/pypi/build-milestones-pypi/simple\n",
      "Requirement already satisfied: demoji in c:\\users\\d073999\\miniconda3\\envs\\torch\\lib\\site-packages (1.1.0)\n"
     ]
    }
   ],
   "source": [
    "!pip install demoji"
   ]
  },
  {
   "cell_type": "code",
   "execution_count": 3,
   "id": "KHD7sI24yVdo",
   "metadata": {
    "colab": {
     "base_uri": "https://localhost:8080/"
    },
    "id": "KHD7sI24yVdo",
    "outputId": "108ef317-9a8b-4580-d386-33bac171d6dd"
   },
   "outputs": [
    {
     "name": "stderr",
     "output_type": "stream",
     "text": [
      "[nltk_data] Downloading package punkt to\n",
      "[nltk_data]     C:\\Users\\D073999\\AppData\\Roaming\\nltk_data...\n",
      "[nltk_data]   Package punkt is already up-to-date!\n",
      "[nltk_data] Downloading package stopwords to\n",
      "[nltk_data]     C:\\Users\\D073999\\AppData\\Roaming\\nltk_data...\n",
      "[nltk_data]   Package stopwords is already up-to-date!\n",
      "[nltk_data] Downloading package wordnet to\n",
      "[nltk_data]     C:\\Users\\D073999\\AppData\\Roaming\\nltk_data...\n",
      "[nltk_data]   Package wordnet is already up-to-date!\n"
     ]
    }
   ],
   "source": [
    "\n",
    "# Just in case the file structure does not make the preprocessing available\n",
    "import string\n",
    "from xmlrpc.client import Boolean\n",
    "import nltk\n",
    "from nltk.corpus import stopwords\n",
    "from nltk.stem import WordNetLemmatizer\n",
    "from nltk.stem.porter import PorterStemmer\n",
    "import pandas as pd\n",
    "import numpy as np\n",
    "from datasets import load_dataset\n",
    "from string import punctuation\n",
    "from sklearn.feature_extraction.text import TfidfVectorizer\n",
    "import sklearn.model_selection as ms\n",
    "from sklearn.utils import resample\n",
    "import demoji\n",
    "import re\n",
    "\n",
    "\n",
    "\n",
    "demoji.download_codes()\n",
    "\n",
    "nltk.download('punkt')\n",
    "nltk.download('stopwords')\n",
    "nltk.download('wordnet')\n",
    "\n",
    "\n",
    "def setup(rem_stop=True, do_stem=True, do_lem=False, split=True, split_on='preprocessed', upsample=True, do_emojis=True):\n",
    "    df = load_data();\n",
    "    df['preprocessed'] = preprocess(\n",
    "        df['tweet'], rem_stop=rem_stop, do_stem=do_stem, do_lem=do_lem, do_emojis=do_emojis)\n",
    "\n",
    "    tfidf = train_tfidf(df['preprocessed'])\n",
    "\n",
    "    if split is True:\n",
    "        df_train, df_test = split_data(df, split_on)\n",
    "        if upsample is True:\n",
    "            df_train = upsampling(df_train)\n",
    "        return tfidf, df_train, df_test\n",
    "    else:\n",
    "        return tfidf, df\n",
    "\n",
    "\n",
    "def load_data():\n",
    "    dataset = load_dataset(\"tweets_hate_speech_detection\")\n",
    "    df = pd.DataFrame.from_dict(dataset['train'])\n",
    "    return df\n",
    "\n",
    "\n",
    "def preprocess(data, rem_stop=True, do_stem=True, do_lem=False, do_emojis=True):\n",
    "\n",
    "    preprocessed = []\n",
    "    for tweet in data:\n",
    "        if do_emojis is True:\n",
    "            tweet = convert_emoji(tweet)\n",
    "        tokens = tokenization(remove_punctuation(tweet))\n",
    "        if rem_stop is True:\n",
    "            tokens = remove_stopwords(tokens)\n",
    "        if do_stem is True and do_lem is False:\n",
    "            tokens = stemming(tokens)\n",
    "        if do_lem is True and do_stem is False:\n",
    "            tokens = lemmatization(tokens)\n",
    "        preprocessed.append(np.array(tokens))\n",
    "\n",
    "    return preprocessed\n",
    "\n",
    "\n",
    "def train_tfidf(data):\n",
    "    def dummy(text):\n",
    "        return text\n",
    "\n",
    "    tf = TfidfVectorizer(\n",
    "        analyzer='word',\n",
    "        tokenizer=dummy,\n",
    "        preprocessor=dummy,\n",
    "        token_pattern=None)\n",
    "\n",
    "    return tf.fit(data)\n",
    "\n",
    "\n",
    "def split_data(df: pd.DataFrame, split_on='tweet', test_size=0.2, random_state=17):\n",
    "    y = df['label']\n",
    "    X = df[split_on]\n",
    "    (X_train, X_test, y_train, y_test) = ms.train_test_split(\n",
    "        X, y, test_size=test_size, random_state=random_state, stratify=y)\n",
    "\n",
    "    df_train = pd.concat([y_train, X_train], axis=1)\n",
    "    df_test = pd.concat([y_test, X_test], axis=1)\n",
    "\n",
    "    return df_train, df_test\n",
    "\n",
    "\n",
    "def upsampling(df: pd.DataFrame, replace=True, n_samples=23775, random_state=55):\n",
    "    data_minority = df[df.label == 1]\n",
    "    data_majority = df[df.label == 0]\n",
    "    data_minority = resample(\n",
    "        data_minority, replace=replace, n_samples=n_samples, random_state=random_state)\n",
    "\n",
    "    return pd.concat([data_majority, data_minority])\n",
    "\n",
    "\n",
    "def tokenization(text: str):\n",
    "    return pd.Series(nltk.word_tokenize(text.lower()))\n",
    "\n",
    "\n",
    "def remove_punctuation(tokens: pd.Series):\n",
    "    return \"\".join([i for i in tokens if i not in punctuation])\n",
    "\n",
    "\n",
    "def remove_stopwords(tokens: pd.Series):\n",
    "    stopwords_list = stopwords.words(\"english\")\n",
    "    return tokens.apply(lambda token: token if token not in stopwords_list and token != '' else None).dropna()\n",
    "\n",
    "\n",
    "def stemming(tokens: pd.Series):\n",
    "    stemmer = PorterStemmer()\n",
    "\n",
    "    return tokens.apply(lambda token: stemmer.stem(token))\n",
    "\n",
    "\n",
    "def lemmatization(tokens: pd.Series):\n",
    "    lemmatizer = WordNetLemmatizer()\n",
    "\n",
    "    return tokens.apply(lambda token: lemmatizer.lemmatize(token))\n",
    "\n",
    "\n",
    "def convert_emoji(text: str) -> str:\n",
    "    # convert string to binary representation\n",
    "    binary = ' '.join(format(ord(x), 'b') for x in text)\n",
    "\n",
    "    # convert binary representation to utf8 representation\n",
    "    listRes = list(binary.split(\" \"))\n",
    "    try:\n",
    "        text_with_emoji = bytes([int(x, 2) for x in listRes]).decode('utf-8')\n",
    "    except UnicodeDecodeError:\n",
    "        return text\n",
    "\n",
    "    # get all emojis\n",
    "    dictionary = demoji.findall(text_with_emoji)\n",
    "\n",
    "    # replace emojis with text representation\n",
    "    for key in dictionary.keys():\n",
    "        text_with_emoji = text_with_emoji.replace(key, dictionary[key] + \" \")\n",
    "\n",
    "    return text_with_emoji\n",
    "\n",
    "\n",
    "def get_features(df: pd.DataFrame):\n",
    "    df[\"n_mentions\"] = df[\"tweet\"].apply(lambda x: count_user_mentions(x))\n",
    "    df[\"hashtags\"] = df[\"tweet\"].apply(lambda x: identify_hashtags(x))\n",
    "\n",
    "    return df\n",
    "\n",
    "def count_user_mentions(text:str) ->int:\n",
    "    return text.count(\"@user\")\n",
    "\n",
    "def identify_hashtags(text:str) -> list:\n",
    "    pattern = re.compile(r\"#(\\w+)\")\n",
    "    return pattern.findall(text)"
   ]
  },
  {
   "cell_type": "code",
   "execution_count": 4,
   "id": "36a1ddfc",
   "metadata": {
    "id": "36a1ddfc"
   },
   "outputs": [],
   "source": [
    "import sys  \n",
    "sys.path.insert(0, 'C:\\\\Users\\\\D073999\\\\Documents\\\\uni-Mannheim\\\\Data_Mining_I\\\\Data_mining\\\\src\\\\data')\n",
    "\n",
    "#from preprocessing import preprocess,load_data, tokenization, remove_punctuation, convert_emoji, setup\n",
    "#from src.data import preprocessing"
   ]
  },
  {
   "cell_type": "markdown",
   "id": "5b0166e6",
   "metadata": {
    "id": "5b0166e6"
   },
   "source": [
    "# 2. Model Building <a class=\"anchor\" id=\"modelBuilding\"></a>"
   ]
  },
  {
   "cell_type": "code",
   "execution_count": 6,
   "id": "yoYE5r8o7fjn",
   "metadata": {
    "id": "yoYE5r8o7fjn"
   },
   "outputs": [],
   "source": [
    "import functools\n",
    "import time\n",
    "\n",
    "\n",
    "def time_decorater(function):\n",
    "\n",
    "    @functools.wraps(function)\n",
    "    def time_measurement(*args, **kwargs):\n",
    "        start = time.perf_counter()\n",
    "        result = function(*args, **kwargs)\n",
    "        end = time.perf_counter()\n",
    "        print(\"function: {} finished in {} seconds.\".format(repr(function.__name__), round((end - start), 2)))\n",
    "        return result\n",
    "\n",
    "    return time_measurement"
   ]
  },
  {
   "cell_type": "code",
   "execution_count": 7,
   "id": "e8065eb2",
   "metadata": {
    "id": "e8065eb2"
   },
   "outputs": [],
   "source": [
    "class KNN_DM(BaseEstimator, ClassifierMixin):\n",
    "    \n",
    "    def __init__(self,\n",
    "                 n_neighbors=3,\n",
    "                 algorithm='auto',\n",
    "                 metric='minkowski',\n",
    "                 p=2,\n",
    "                 weights='distance',\n",
    "                 metric_params=None):\n",
    "        \n",
    "                self.n_neighbors = n_neighbors\n",
    "                self.algorithm = algorithm\n",
    "                self.metric = metric\n",
    "                self.metric_params = metric_params\n",
    "                self.p = p\n",
    "                self.weights = weights\n",
    "\n",
    "                #self.cv = cv,\n",
    "                #self.n_jobs = n_jobs,\n",
    "                #self.verbose = verbose\n",
    "                \n",
    "    \n",
    "    def __get_pipeline(self):\n",
    "        \n",
    "            classifier = KNeighborsClassifier(**{\n",
    "                'n_neighbors': self.n_neighbors\n",
    "            })\n",
    "            \n",
    "            # pipeline steps\n",
    "            steps=[\n",
    "                #(\"vect\",  CountVectorizer()),\n",
    "                #(\"tfidf\", TfidfTransformer()),\n",
    "                ('clf', classifier)]\n",
    "\n",
    "            self.pipeline = Pipeline(steps=steps)\n",
    "            return self.pipeline\n",
    "    \n",
    "    \n",
    "    def __get_model(self, feature_range, n_estimators, X, y): \n",
    "        \n",
    "        self.parameters = {\n",
    "                'clf__n_neighbors': n_estimators,                                   \n",
    "                'clf__algorithm': ['ball_tree',  'auto'],    #'kd_tree',      \n",
    "                'clf__metric': ['euclidean', 'manhattan']\n",
    "        }\n",
    "        \"\"\"self.parameters = {\n",
    "                'clf__n_neighbors': n_estimators.\n",
    "                'clf__metric': ['l1', 'l2']\n",
    "        }\"\"\"\n",
    "        grid_search = GridSearchCV(**{\n",
    "                'estimator': self.__get_pipeline(),\n",
    "                'cv': 5,\n",
    "                'param_grid': self.parameters,\n",
    "                'scoring': 'f1',#{'F1': 'f1', 'Precision': 'precision', 'Recall':'recall'},\n",
    "                 'refit': True,\n",
    "                'verbose': 5,\n",
    "                 'n_jobs': -1\n",
    "            })\n",
    "        return grid_search\n",
    "    \n",
    "    @time_decorater\n",
    "    def fit(self, X, y, optim):\n",
    "        if scipy.sparse.issparse(X):\n",
    "            warnings.warn(\"KNN Can no fit sparse matrix. The matrix will be converted to an array\")\n",
    "            X = X.toarray()\n",
    "        print(100* '-')\n",
    "        \n",
    "        if y is None:\n",
    "                raise ValueError('requires y to be passed, but the target y is None')\n",
    "        self.y_train = y\n",
    "        \n",
    "        X, y = check_X_y(X, y)\n",
    "        self.is_fitted_ = True\n",
    "        if optim:\n",
    "            display(HTML(\"<h4>[1/5] Started Hyperparameter optimazation...</h4>\"))\n",
    "            self.model_ = self.__get_model(feature_range=None, n_estimators =[3,5,10], X =X, y=y) #np.arange(1, 21)\n",
    "            print(\"Performing grid search...\")\n",
    "            print(\"pipeline:\", [name for name, _ in self.pipeline.steps])\n",
    "            print(\"parameters:\")\n",
    "            pprint(self.parameters)\n",
    "            #t0 = time()\n",
    "            self.model_.fit(X, y)\n",
    "            #print(\"done in %0.3fs\" % (time() - t0))\n",
    "            print(\"Done\")\n",
    "            print()\n",
    "\n",
    "            print(\"Best score: %0.3f\" % self.model_.best_score_)\n",
    "            print(\"Best parameters set:\")\n",
    "            best_parameters = self.model_.best_estimator_.get_params()\n",
    "            for param_name in sorted(self.parameters.keys()):\n",
    "                print(\"\\t%s: %r\" % (param_name, best_parameters[param_name]))\n",
    "        else:\n",
    "            display(HTML(\"<h4>[1/5] Started Fitting...</h4>\"))\n",
    "            # if not opt true, create knn with default 3 neigh.\n",
    "            self.model_  = KNeighborsClassifier(**{\n",
    "                    'n_neighbors': 3\n",
    "                })\n",
    "\n",
    "            self.model_ .fit(X, y)\n",
    "        print()\n",
    "        return self\n",
    "            \n",
    "    @time_decorater        \n",
    "    def predict(self, X, y=None):\n",
    "        if scipy.sparse.issparse(X):\n",
    "            warnings.warn(\"KNN Can no fit sparse matrix. The matrix will be converted to an array\")\n",
    "            X = X.toarray()\n",
    "        print(100* '-')\n",
    "        display(HTML(\"<h4>[2/5] Started Prediction...</h4>\"))\n",
    "        self.y_test = y\n",
    "        #check_is_fitted(self, ['is_fitted_', 'model_'])\n",
    "        X = check_array(X)\n",
    "        self.y_pred = self.model_.predict(X)\n",
    "        print(\"head of y_pred is \\t%s: \" % (self.y_pred[0:6]))\n",
    "    \n",
    "    @time_decorater\n",
    "    def predict_proba(self, X, y=None):\n",
    "        if scipy.sparse.issparse(X):\n",
    "            warnings.warn(\"KNN Can no fit sparse matrix. The matrix will be converted to an array\")\n",
    "            X = X.toarray()\n",
    "        print(100* '-')\n",
    "        display(HTML(\"<h4>Started Predicting Model confidence...</h4>\"))\n",
    "        print()\n",
    "        return self.model_ .predict_propa(X, y)\n",
    "     \n",
    "    @time_decorater\n",
    "    def evaluate(self, title = \"KNN Classifier on Test Set\"):\n",
    "        print(100* '-')\n",
    "        display(HTML(\"<h4>[3/5] Started Evaluation...</h4>\"))\n",
    "     \n",
    "        f1 = f1_score(self.y_test, self.y_pred)\n",
    "        accuracy = accuracy_score(self.y_test, self.y_pred)*100\n",
    "        recall = recall_score(self.y_test, self.y_pred)\n",
    "        precision = precision_score(self.y_test, self.y_pred)\n",
    "        \n",
    "        #scores\n",
    "        print(\"f1-score:         \\t%s \" % (f1))\n",
    "        print(\"accuracy-score:   \\t%s \" % (accuracy))\n",
    "        print(\"precision-score:  \\t%s \" % (precision))\n",
    "        print(\"recall-score:     \\t%s \" % (recall))\n",
    "        print()\n",
    "        self.report = self.print_report(self.y_test, self.y_pred)\n",
    "        cm = confusion_matrix(self.y_test, self.y_pred)\n",
    "        self.__plot_confusion_matrix(cm, unique_labels(self.y_test),  title = title) #classes = np.unique(y_train),\n",
    "        \n",
    "        return self.report, accuracy, recall, precision, f1\n",
    "    \n",
    "    @staticmethod\n",
    "    @time_decorater  \n",
    "    def print_report(y_test, y_pred):\n",
    "        print(100* '-')\n",
    "        display(HTML(\"<h4>[4/5] Started creating a report...</h4>\"))\n",
    "        report = classification_report(y_test, y_pred, output_dict=True)\n",
    "        report = pd.DataFrame(report).transpose()\n",
    "        display(report)\n",
    "        print()\n",
    "        return report\n",
    "        \n",
    "    @staticmethod   \n",
    "    @time_decorater   \n",
    "    def __plot_confusion_matrix(cm, classes,\n",
    "                              normalize=False,\n",
    "                              title='Confusion matrix',\n",
    "                              cmap=plt.cm.Blues):\n",
    "        \"\"\"\n",
    "        This function prints and plots the confusion matrix.\n",
    "        Normalization can be applied by setting `normalize=True`.\n",
    "        \"\"\"\n",
    "        print(100* '-')\n",
    "        display(HTML(\"<h4>[5/5] Started plotting the confusion matrix...</h4>\"))\n",
    "        print(\"Start plotting the confusion matrix...\\n\")\n",
    "        if normalize:\n",
    "            cm = cm.astype('float') / cm.sum(axis=1)[:, np.newaxis]\n",
    "\n",
    "        plt.imshow(cm, interpolation='nearest', cmap=cmap)\n",
    "        plt.title(title)\n",
    "        plt.colorbar()\n",
    "        tick_marks = np.arange(len(classes))\n",
    "        plt.xticks(tick_marks, classes, rotation=45)\n",
    "        plt.yticks(tick_marks, classes)\n",
    "\n",
    "        fmt = '.2f' if normalize else 'd'\n",
    "        thresh = cm.max() / 2.\n",
    "        for i, j in itertools.product(range(cm.shape[0]), range(cm.shape[1])):\n",
    "            plt.text(j, i, format(cm[i, j], fmt),\n",
    "                     horizontalalignment=\"center\",\n",
    "                     color=\"white\" if cm[i, j] > thresh else \"black\")\n",
    "\n",
    "        plt.ylabel('True label')\n",
    "        plt.xlabel('Predicted label')\n",
    "        plt.tight_layout()"
   ]
  },
  {
   "cell_type": "markdown",
   "id": "dd724458",
   "metadata": {
    "id": "dd724458"
   },
   "source": [
    "# 3. Training & Evaluation  <a class=\"anchor\" id=\"training\"></a>"
   ]
  },
  {
   "cell_type": "markdown",
   "id": "5f0f47a5",
   "metadata": {
    "id": "5f0f47a5"
   },
   "source": [
    "### try differnt steps to find the best ones to choosse\n",
    "accroding to previous tries, removing the emoji have a positive effect to the accuracy\n",
    "so, this step will not be perfromed. \n",
    "follows the steps will be performed:\n",
    "\n",
    "1- tokenization\n",
    "\n",
    "2- stopwords removal\n",
    "\n",
    "3- stemming \n",
    "\n",
    "4- upsampling"
   ]
  },
  {
   "cell_type": "code",
   "execution_count": 11,
   "id": "0c1417f9",
   "metadata": {
    "id": "0c1417f9"
   },
   "outputs": [],
   "source": [
    "results_tf = []\n",
    "results_cv = []\n",
    "results_tf_train = []\n",
    "results_cv_train = []"
   ]
  },
  {
   "cell_type": "markdown",
   "id": "9409eb7a",
   "metadata": {},
   "source": [
    "### Helper functions"
   ]
  },
  {
   "cell_type": "code",
   "execution_count": 8,
   "id": "kW9lJ3uz4gRA",
   "metadata": {
    "id": "kW9lJ3uz4gRA"
   },
   "outputs": [],
   "source": [
    "def featureize(rem_stop=False, do_stem=False, do_lem=False, split=True, upsample=False, do_emojis=False):\n",
    "\n",
    "    _, df_train, df_test = setup(rem_stop=rem_stop, do_stem=do_stem, do_lem=do_lem, split=True, upsample=False, do_emojis=False); df_train\n",
    "    X_train = df_train['preprocessed']\n",
    "    y_train= df_train['label']\n",
    "    X_test = df_test['preprocessed']\n",
    "    y_test = df_test['label']\n",
    "    print(f'X_train: {len(X_train)}, X_test: {len(X_test)}')\n",
    "    return X_train, X_test, y_train, y_test"
   ]
  },
  {
   "cell_type": "code",
   "execution_count": 9,
   "id": "7922214d",
   "metadata": {},
   "outputs": [],
   "source": [
    "def convert_to_tf_idf(X_train, X_test):\n",
    "    \n",
    "    count_vect = CountVectorizer(stop_words='english')\n",
    "    transformer = TfidfTransformer(norm='l2',sublinear_tf=True)\n",
    "    xd = pd.Series(np.array(X_train).flatten())\n",
    "    text = xd.map(' '.join)\n",
    "    x_train_counts = count_vect.fit_transform(text)\n",
    "    x_train_tfidf = transformer.fit_transform(x_train_counts)\n",
    "    print(x_train_counts.shape)\n",
    "    print(x_train_tfidf.shape)\n",
    "    #Output :(25569, 27304) (25569, 27304)\n",
    "    text = X_test.map(' '.join)\n",
    "    x_test_counts = count_vect.transform(text)\n",
    "    x_test_tfidf = transformer.transform(x_test_counts)\n",
    "    print(x_test_counts.shape)\n",
    "    print(x_test_tfidf.shape)\n",
    "    return x_train_tfidf, x_test_tfidf, x_train_counts, x_test_counts   "
   ]
  },
  {
   "cell_type": "markdown",
   "id": "764c38a0",
   "metadata": {
    "id": "764c38a0"
   },
   "source": [
    "# 1. With only Tokenization <a class=\"anchor\" id=\"tokenization\"></a>"
   ]
  },
  {
   "cell_type": "code",
   "execution_count": 15,
   "id": "vx0ybosj0BwR",
   "metadata": {
    "colab": {
     "base_uri": "https://localhost:8080/",
     "height": 101,
     "referenced_widgets": [
      "7698826011f9444989f133f3113b6473",
      "99fded338eb24abda7918256666b9dd0",
      "9f8679b3e60645a28ed8d410d8a398fd",
      "68e7cb72aebd47588d19010a03266869",
      "1975bbcbde8542e1bfebe6872c8f155c",
      "8cc4084cc74448dd93dd88240cb870d3",
      "61ea54c925d54fbbba81073c7644495b",
      "a5a263e9c2b54442849e21d73189b470",
      "1f35dd2abf14454bbeacac1dacbdf66d",
      "57a2a48f8c7640c9ac4c787d340d9d11",
      "99627449cf5a428192a858ac1fe48223"
     ]
    },
    "id": "vx0ybosj0BwR",
    "outputId": "546a8886-a8c5-44b8-b164-fd3c373e47b0",
    "scrolled": true
   },
   "outputs": [
    {
     "name": "stderr",
     "output_type": "stream",
     "text": [
      "2022-05-25 16:25:32,970 WARNING Using custom data configuration default\n",
      "2022-05-25 16:25:32,992 WARNING Reusing dataset tweets_hate_speech_detection (C:\\Users\\D073999\\.cache\\huggingface\\datasets\\tweets_hate_speech_detection\\default\\0.0.0\\c6b6f41e91ac9113e1c032c5ecf7a49b4e1e9dc8699ded3c2d8425c9217568b2)\n"
     ]
    },
    {
     "data": {
      "application/vnd.jupyter.widget-view+json": {
       "model_id": "a578cf3fb45b4e478bf19a9fc19e5fb0",
       "version_major": 2,
       "version_minor": 0
      },
      "text/plain": [
       "  0%|          | 0/1 [00:00<?, ?it/s]"
      ]
     },
     "metadata": {},
     "output_type": "display_data"
    },
    {
     "name": "stdout",
     "output_type": "stream",
     "text": [
      "X_train: 25569, X_test: 6393\n",
      "(25569, 37441)\n",
      "(25569, 37441)\n",
      "(6393, 37441)\n",
      "(6393, 37441)\n"
     ]
    },
    {
     "data": {
      "text/plain": [
       "<25569x37441 sparse matrix of type '<class 'numpy.float64'>'\n",
       "\twith 190446 stored elements in Compressed Sparse Row format>"
      ]
     },
     "execution_count": 15,
     "metadata": {},
     "output_type": "execute_result"
    }
   ],
   "source": [
    "X_train, X_test, y_train, y_test = featureize(rem_stop=False,\n",
    "                                              do_stem=False,\n",
    "                                              do_lem=False,\n",
    "                                              split=True,\n",
    "                                              upsample=False,\n",
    "                                              do_emojis=False)\n",
    "X_train, X_test, X_train_c, X_test_c = convert_to_tf_idf(X_train, X_test); X_train"
   ]
  },
  {
   "cell_type": "markdown",
   "id": "e0e6c85c",
   "metadata": {
    "id": "e0e6c85c"
   },
   "source": [
    "## 1.1. Using TF-IDF"
   ]
  },
  {
   "cell_type": "markdown",
   "id": "c965ec7e",
   "metadata": {
    "id": "c965ec7e"
   },
   "source": [
    "###  classification, Evaluation & plotting with only tokenization"
   ]
  },
  {
   "cell_type": "code",
   "execution_count": 57,
   "id": "9e607d96",
   "metadata": {
    "colab": {
     "base_uri": "https://localhost:8080/",
     "height": 1000
    },
    "id": "9e607d96",
    "outputId": "6c321b29-fa35-4f20-e3cf-cd168ac67352"
   },
   "outputs": [
    {
     "name": "stdout",
     "output_type": "stream",
     "text": [
      "----------------------------------------------------------------------------------------------------\n"
     ]
    },
    {
     "data": {
      "text/html": [
       "<h4>[1/5] Started Fitting...</h4>"
      ],
      "text/plain": [
       "<IPython.core.display.HTML object>"
      ]
     },
     "metadata": {},
     "output_type": "display_data"
    },
    {
     "name": "stdout",
     "output_type": "stream",
     "text": [
      "\n",
      "function: 'fit' finished in 5.43 seconds.\n",
      "----------------------------------------------------------------------------------------------------\n"
     ]
    },
    {
     "data": {
      "text/html": [
       "<h4>[2/5] Started Prediction...</h4>"
      ],
      "text/plain": [
       "<IPython.core.display.HTML object>"
      ]
     },
     "metadata": {},
     "output_type": "display_data"
    },
    {
     "name": "stdout",
     "output_type": "stream",
     "text": [
      "head of y_pred is \t[0 0 0 0 0 0]: \n",
      "\n",
      "function: 'predict' finished in 94.27 seconds.\n",
      "----------------------------------------------------------------------------------------------------\n"
     ]
    },
    {
     "data": {
      "text/html": [
       "<h4>[3/5] Started Evaluation...</h4>"
      ],
      "text/plain": [
       "<IPython.core.display.HTML object>"
      ]
     },
     "metadata": {},
     "output_type": "display_data"
    },
    {
     "name": "stdout",
     "output_type": "stream",
     "text": [
      "f1-score:         \t0.3082706766917293 \n",
      "accuracy-score:   \t94.24370405130612 \n",
      "precision-score:  \t0.9761904761904762 \n",
      "recall-score:     \t0.18303571428571427 \n",
      "\n",
      "----------------------------------------------------------------------------------------------------\n"
     ]
    },
    {
     "data": {
      "text/html": [
       "<h4>[4/5] Started creating a report...</h4>"
      ],
      "text/plain": [
       "<IPython.core.display.HTML object>"
      ]
     },
     "metadata": {},
     "output_type": "display_data"
    },
    {
     "data": {
      "text/html": [
       "<div>\n",
       "<style scoped>\n",
       "    .dataframe tbody tr th:only-of-type {\n",
       "        vertical-align: middle;\n",
       "    }\n",
       "\n",
       "    .dataframe tbody tr th {\n",
       "        vertical-align: top;\n",
       "    }\n",
       "\n",
       "    .dataframe thead th {\n",
       "        text-align: right;\n",
       "    }\n",
       "</style>\n",
       "<table border=\"1\" class=\"dataframe\">\n",
       "  <thead>\n",
       "    <tr style=\"text-align: right;\">\n",
       "      <th></th>\n",
       "      <th>precision</th>\n",
       "      <th>recall</th>\n",
       "      <th>f1-score</th>\n",
       "      <th>support</th>\n",
       "    </tr>\n",
       "  </thead>\n",
       "  <tbody>\n",
       "    <tr>\n",
       "      <th>0</th>\n",
       "      <td>0.941988</td>\n",
       "      <td>0.999664</td>\n",
       "      <td>0.969969</td>\n",
       "      <td>5945.000000</td>\n",
       "    </tr>\n",
       "    <tr>\n",
       "      <th>1</th>\n",
       "      <td>0.976190</td>\n",
       "      <td>0.183036</td>\n",
       "      <td>0.308271</td>\n",
       "      <td>448.000000</td>\n",
       "    </tr>\n",
       "    <tr>\n",
       "      <th>accuracy</th>\n",
       "      <td>0.942437</td>\n",
       "      <td>0.942437</td>\n",
       "      <td>0.942437</td>\n",
       "      <td>0.942437</td>\n",
       "    </tr>\n",
       "    <tr>\n",
       "      <th>macro avg</th>\n",
       "      <td>0.959089</td>\n",
       "      <td>0.591350</td>\n",
       "      <td>0.639120</td>\n",
       "      <td>6393.000000</td>\n",
       "    </tr>\n",
       "    <tr>\n",
       "      <th>weighted avg</th>\n",
       "      <td>0.944384</td>\n",
       "      <td>0.942437</td>\n",
       "      <td>0.923599</td>\n",
       "      <td>6393.000000</td>\n",
       "    </tr>\n",
       "  </tbody>\n",
       "</table>\n",
       "</div>"
      ],
      "text/plain": [
       "              precision    recall  f1-score      support\n",
       "0              0.941988  0.999664  0.969969  5945.000000\n",
       "1              0.976190  0.183036  0.308271   448.000000\n",
       "accuracy       0.942437  0.942437  0.942437     0.942437\n",
       "macro avg      0.959089  0.591350  0.639120  6393.000000\n",
       "weighted avg   0.944384  0.942437  0.923599  6393.000000"
      ]
     },
     "metadata": {},
     "output_type": "display_data"
    },
    {
     "name": "stdout",
     "output_type": "stream",
     "text": [
      "\n",
      "function: 'print_report' finished in 0.03 seconds.\n",
      "----------------------------------------------------------------------------------------------------\n"
     ]
    },
    {
     "data": {
      "text/html": [
       "<h4>[5/5] Started plotting the confusion matrix...</h4>"
      ],
      "text/plain": [
       "<IPython.core.display.HTML object>"
      ]
     },
     "metadata": {},
     "output_type": "display_data"
    },
    {
     "name": "stdout",
     "output_type": "stream",
     "text": [
      "Start plotting the confusion matrix...\n",
      "\n",
      "function: '__plot_confusion_matrix' finished in 0.1 seconds.\n",
      "function: 'evaluate' finished in 0.14 seconds.\n",
      "\n"
     ]
    },
    {
     "data": {
      "image/png": "[encoded data removed]",
      "text/plain": [
       "<Figure size 432x288 with 2 Axes>"
      ]
     },
     "metadata": {
      "needs_background": "light"
     },
     "output_type": "display_data"
    }
   ],
   "source": [
    "knn = KNN_DM()\n",
    "model = knn.fit(X_train, y_train, optim=False)\n",
    "y_pred = model.predict(X_test.toarray(), y_test)\n",
    "report, accuracy, recall, precision, f1 = model.evaluate()\n",
    "\n",
    "method = \"only tokenization\"\n",
    "results_tf.append({\n",
    "                'method':\"tokenization\",\n",
    "                'accuracy': accuracy,\n",
    "                \"recall\": recall,\n",
    "                \"precision\": precision,\n",
    "                \"f1\": f1\n",
    "            }) #, ignore_index=True\n",
    "print()"
   ]
  },
  {
   "cell_type": "markdown",
   "id": "6e6caf33",
   "metadata": {
    "id": "6e6caf33"
   },
   "source": [
    "## 1.2 Using Count-Vectroizer"
   ]
  },
  {
   "cell_type": "markdown",
   "id": "6aaba21e",
   "metadata": {
    "id": "6aaba21e"
   },
   "source": [
    " ### classification, Evaluation & plotting with only tokenization"
   ]
  },
  {
   "cell_type": "code",
   "execution_count": 58,
   "id": "3945833e",
   "metadata": {
    "id": "3945833e"
   },
   "outputs": [
    {
     "name": "stdout",
     "output_type": "stream",
     "text": [
      "----------------------------------------------------------------------------------------------------\n"
     ]
    },
    {
     "data": {
      "text/html": [
       "<h4>[1/5] Started Fitting...</h4>"
      ],
      "text/plain": [
       "<IPython.core.display.HTML object>"
      ]
     },
     "metadata": {},
     "output_type": "display_data"
    },
    {
     "name": "stdout",
     "output_type": "stream",
     "text": [
      "\n",
      "function: 'fit' finished in 0.01 seconds.\n",
      "----------------------------------------------------------------------------------------------------\n"
     ]
    },
    {
     "data": {
      "text/html": [
       "<h4>[2/5] Started Prediction...</h4>"
      ],
      "text/plain": [
       "<IPython.core.display.HTML object>"
      ]
     },
     "metadata": {},
     "output_type": "display_data"
    },
    {
     "name": "stdout",
     "output_type": "stream",
     "text": [
      "head of y_pred is \t[0 0 0 0 0 0]: \n",
      "\n",
      "function: 'predict' finished in 125.53 seconds.\n",
      "----------------------------------------------------------------------------------------------------\n"
     ]
    },
    {
     "data": {
      "text/html": [
       "<h4>[3/5] Started Evaluation...</h4>"
      ],
      "text/plain": [
       "<IPython.core.display.HTML object>"
      ]
     },
     "metadata": {},
     "output_type": "display_data"
    },
    {
     "name": "stdout",
     "output_type": "stream",
     "text": [
      "f1-score:         \t0.33271719038817005 \n",
      "accuracy-score:   \t94.35319881119975 \n",
      "precision-score:  \t0.967741935483871 \n",
      "recall-score:     \t0.20089285714285715 \n",
      "\n",
      "----------------------------------------------------------------------------------------------------\n"
     ]
    },
    {
     "data": {
      "text/html": [
       "<h4>[4/5] Started creating a report...</h4>"
      ],
      "text/plain": [
       "<IPython.core.display.HTML object>"
      ]
     },
     "metadata": {},
     "output_type": "display_data"
    },
    {
     "data": {
      "text/html": [
       "<div>\n",
       "<style scoped>\n",
       "    .dataframe tbody tr th:only-of-type {\n",
       "        vertical-align: middle;\n",
       "    }\n",
       "\n",
       "    .dataframe tbody tr th {\n",
       "        vertical-align: top;\n",
       "    }\n",
       "\n",
       "    .dataframe thead th {\n",
       "        text-align: right;\n",
       "    }\n",
       "</style>\n",
       "<table border=\"1\" class=\"dataframe\">\n",
       "  <thead>\n",
       "    <tr style=\"text-align: right;\">\n",
       "      <th></th>\n",
       "      <th>precision</th>\n",
       "      <th>recall</th>\n",
       "      <th>f1-score</th>\n",
       "      <th>support</th>\n",
       "    </tr>\n",
       "  </thead>\n",
       "  <tbody>\n",
       "    <tr>\n",
       "      <th>0</th>\n",
       "      <td>0.943175</td>\n",
       "      <td>0.999495</td>\n",
       "      <td>0.970519</td>\n",
       "      <td>5945.000000</td>\n",
       "    </tr>\n",
       "    <tr>\n",
       "      <th>1</th>\n",
       "      <td>0.967742</td>\n",
       "      <td>0.200893</td>\n",
       "      <td>0.332717</td>\n",
       "      <td>448.000000</td>\n",
       "    </tr>\n",
       "    <tr>\n",
       "      <th>accuracy</th>\n",
       "      <td>0.943532</td>\n",
       "      <td>0.943532</td>\n",
       "      <td>0.943532</td>\n",
       "      <td>0.943532</td>\n",
       "    </tr>\n",
       "    <tr>\n",
       "      <th>macro avg</th>\n",
       "      <td>0.955458</td>\n",
       "      <td>0.600194</td>\n",
       "      <td>0.651618</td>\n",
       "      <td>6393.000000</td>\n",
       "    </tr>\n",
       "    <tr>\n",
       "      <th>weighted avg</th>\n",
       "      <td>0.944896</td>\n",
       "      <td>0.943532</td>\n",
       "      <td>0.925824</td>\n",
       "      <td>6393.000000</td>\n",
       "    </tr>\n",
       "  </tbody>\n",
       "</table>\n",
       "</div>"
      ],
      "text/plain": [
       "              precision    recall  f1-score      support\n",
       "0              0.943175  0.999495  0.970519  5945.000000\n",
       "1              0.967742  0.200893  0.332717   448.000000\n",
       "accuracy       0.943532  0.943532  0.943532     0.943532\n",
       "macro avg      0.955458  0.600194  0.651618  6393.000000\n",
       "weighted avg   0.944896  0.943532  0.925824  6393.000000"
      ]
     },
     "metadata": {},
     "output_type": "display_data"
    },
    {
     "name": "stdout",
     "output_type": "stream",
     "text": [
      "\n",
      "function: 'print_report' finished in 0.06 seconds.\n",
      "----------------------------------------------------------------------------------------------------\n"
     ]
    },
    {
     "data": {
      "text/html": [
       "<h4>[5/5] Started plotting the confusion matrix...</h4>"
      ],
      "text/plain": [
       "<IPython.core.display.HTML object>"
      ]
     },
     "metadata": {},
     "output_type": "display_data"
    },
    {
     "name": "stdout",
     "output_type": "stream",
     "text": [
      "Start plotting the confusion matrix...\n",
      "\n",
      "function: '__plot_confusion_matrix' finished in 2.72 seconds.\n",
      "function: 'evaluate' finished in 2.83 seconds.\n",
      "\n"
     ]
    },
    {
     "data": {
      "image/png": "[encoded data removed]",
      "text/plain": [
       "<Figure size 432x288 with 2 Axes>"
      ]
     },
     "metadata": {
      "needs_background": "light"
     },
     "output_type": "display_data"
    }
   ],
   "source": [
    "knn = KNN_DM()\n",
    "model = knn.fit(X_train_c.toarray(), y_train, optim=False)\n",
    "y_pred = model.predict(X_test_c.toarray(), y_test)\n",
    "report, accuracy, recall, precision, f1 = model.evaluate()\n",
    "results_cv.append({\n",
    "                'method':\"tokenization\",\n",
    "                'accuracy': accuracy,\n",
    "                \"recall\": recall,\n",
    "                \"precision\": precision,\n",
    "                \"f1\": f1\n",
    "            })\n",
    "print()"
   ]
  },
  {
   "cell_type": "markdown",
   "id": "f8d0d1e5",
   "metadata": {},
   "source": [
    "# 1.3 with hyperparameteroptimization "
   ]
  },
  {
   "cell_type": "code",
   "execution_count": 16,
   "id": "34069480",
   "metadata": {},
   "outputs": [
    {
     "name": "stdout",
     "output_type": "stream",
     "text": [
      "{'0': {'precision': 0.9543041029766693, 'recall': 0.9976450798990748, 'f1-score': 0.9754934210526315, 'support': 5945}, '1': {'precision': 0.9213483146067416, 'recall': 0.36607142857142855, 'f1-score': 0.5239616613418531, 'support': 448}, 'accuracy': 0.9533865165024246, 'macro avg': {'precision': 0.9378262087917055, 'recall': 0.6818582542352517, 'f1-score': 0.7497275411972423, 'support': 6393}, 'weighted avg': {'precision': 0.9519946718504801, 'recall': 0.9533865165024246, 'f1-score': 0.9438515896197474, 'support': 6393}}\n"
     ]
    }
   ],
   "source": [
    "# this step was added after doing hyperparameter opt. so only the report will be given out\n",
    "# no adoption to the template class is made\n",
    "\n",
    "knn = KNeighborsClassifier(algorithm='ball_tree', n_neighbors= 2, p=2, weights='distance') #use \n",
    "model = knn.fit(X_train_c.toarray(), y_train)\n",
    "y_pred = model.predict(X_test_c.toarray())\n",
    "report = classification_report(y_test, y_pred, output_dict=True)\n",
    "print(report)"
   ]
  },
  {
   "cell_type": "markdown",
   "id": "83ce6082",
   "metadata": {
    "id": "83ce6082"
   },
   "source": [
    "# 2 with only Removing Stopwords <a class=\"anchor\" id=\"stopwords_removal\"></a>"
   ]
  },
  {
   "cell_type": "markdown",
   "id": "d36c0184",
   "metadata": {
    "id": "d36c0184"
   },
   "source": [
    "### vectorize with tfidf countvectorizer\n",
    "   "
   ]
  },
  {
   "cell_type": "code",
   "execution_count": 59,
   "id": "fec1e00d",
   "metadata": {},
   "outputs": [
    {
     "name": "stderr",
     "output_type": "stream",
     "text": [
      "2022-05-22 12:02:43,664 WARNING Using custom data configuration default\n",
      "2022-05-22 12:02:43,679 WARNING Reusing dataset tweets_hate_speech_detection (C:\\Users\\D073999\\.cache\\huggingface\\datasets\\tweets_hate_speech_detection\\default\\0.0.0\\c6b6f41e91ac9113e1c032c5ecf7a49b4e1e9dc8699ded3c2d8425c9217568b2)\n"
     ]
    },
    {
     "data": {
      "application/vnd.jupyter.widget-view+json": {
       "model_id": "74f4f7f2fb134b95badcda71e636fda7",
       "version_major": 2,
       "version_minor": 0
      },
      "text/plain": [
       "  0%|          | 0/1 [00:00<?, ?it/s]"
      ]
     },
     "metadata": {},
     "output_type": "display_data"
    },
    {
     "name": "stdout",
     "output_type": "stream",
     "text": [
      "X_train: 25569, X_test: 6393\n",
      "(25569, 37433)\n",
      "(25569, 37433)\n",
      "(6393, 37433)\n",
      "(6393, 37433)\n"
     ]
    },
    {
     "data": {
      "text/plain": [
       "<25569x37433 sparse matrix of type '<class 'numpy.float64'>'\n",
       "\twith 188772 stored elements in Compressed Sparse Row format>"
      ]
     },
     "execution_count": 59,
     "metadata": {},
     "output_type": "execute_result"
    }
   ],
   "source": [
    "X_train, X_test, y_train, y_test = featureize(rem_stop=True,\n",
    "                                              do_stem=False,\n",
    "                                              do_lem=False, \n",
    "                                              split=True,\n",
    "                                              upsample=False,\n",
    "                                              do_emojis=False)\n",
    "\n",
    "X_train, X_test, X_train_c, X_test_c = convert_to_tf_idf(X_train, X_test); X_train"
   ]
  },
  {
   "cell_type": "markdown",
   "id": "3aebf719",
   "metadata": {
    "id": "3aebf719"
   },
   "source": [
    "## 2.1 Using TF-IDF"
   ]
  },
  {
   "cell_type": "markdown",
   "id": "777aa640",
   "metadata": {
    "id": "777aa640"
   },
   "source": [
    "###  classification, Evaluation & plotting with only tokenization"
   ]
  },
  {
   "cell_type": "code",
   "execution_count": 60,
   "id": "a1446c91",
   "metadata": {
    "id": "a1446c91",
    "outputId": "ae03223e-15ef-4daa-87be-a6fc2f4d33cd"
   },
   "outputs": [
    {
     "name": "stdout",
     "output_type": "stream",
     "text": [
      "----------------------------------------------------------------------------------------------------\n"
     ]
    },
    {
     "data": {
      "text/html": [
       "<h4>[1/5] Started Fitting...</h4>"
      ],
      "text/plain": [
       "<IPython.core.display.HTML object>"
      ]
     },
     "metadata": {},
     "output_type": "display_data"
    },
    {
     "name": "stdout",
     "output_type": "stream",
     "text": [
      "\n",
      "function: 'fit' finished in 5.16 seconds.\n",
      "----------------------------------------------------------------------------------------------------\n"
     ]
    },
    {
     "data": {
      "text/html": [
       "<h4>[2/5] Started Prediction...</h4>"
      ],
      "text/plain": [
       "<IPython.core.display.HTML object>"
      ]
     },
     "metadata": {},
     "output_type": "display_data"
    },
    {
     "name": "stdout",
     "output_type": "stream",
     "text": [
      "head of y_pred is \t[0 0 0 0 0 0]: \n",
      "\n",
      "function: 'predict' finished in 94.25 seconds.\n",
      "----------------------------------------------------------------------------------------------------\n"
     ]
    },
    {
     "data": {
      "text/html": [
       "<h4>[3/5] Started Evaluation...</h4>"
      ],
      "text/plain": [
       "<IPython.core.display.HTML object>"
      ]
     },
     "metadata": {},
     "output_type": "display_data"
    },
    {
     "name": "stdout",
     "output_type": "stream",
     "text": [
      "f1-score:         \t0.30769230769230765 \n",
      "accuracy-score:   \t94.22806194274989 \n",
      "precision-score:  \t0.9647058823529412 \n",
      "recall-score:     \t0.18303571428571427 \n",
      "\n",
      "----------------------------------------------------------------------------------------------------\n"
     ]
    },
    {
     "data": {
      "text/html": [
       "<h4>[4/5] Started creating a report...</h4>"
      ],
      "text/plain": [
       "<IPython.core.display.HTML object>"
      ]
     },
     "metadata": {},
     "output_type": "display_data"
    },
    {
     "data": {
      "text/html": [
       "<div>\n",
       "<style scoped>\n",
       "    .dataframe tbody tr th:only-of-type {\n",
       "        vertical-align: middle;\n",
       "    }\n",
       "\n",
       "    .dataframe tbody tr th {\n",
       "        vertical-align: top;\n",
       "    }\n",
       "\n",
       "    .dataframe thead th {\n",
       "        text-align: right;\n",
       "    }\n",
       "</style>\n",
       "<table border=\"1\" class=\"dataframe\">\n",
       "  <thead>\n",
       "    <tr style=\"text-align: right;\">\n",
       "      <th></th>\n",
       "      <th>precision</th>\n",
       "      <th>recall</th>\n",
       "      <th>f1-score</th>\n",
       "      <th>support</th>\n",
       "    </tr>\n",
       "  </thead>\n",
       "  <tbody>\n",
       "    <tr>\n",
       "      <th>0</th>\n",
       "      <td>0.941978</td>\n",
       "      <td>0.999495</td>\n",
       "      <td>0.969885</td>\n",
       "      <td>5945.000000</td>\n",
       "    </tr>\n",
       "    <tr>\n",
       "      <th>1</th>\n",
       "      <td>0.964706</td>\n",
       "      <td>0.183036</td>\n",
       "      <td>0.307692</td>\n",
       "      <td>448.000000</td>\n",
       "    </tr>\n",
       "    <tr>\n",
       "      <th>accuracy</th>\n",
       "      <td>0.942281</td>\n",
       "      <td>0.942281</td>\n",
       "      <td>0.942281</td>\n",
       "      <td>0.942281</td>\n",
       "    </tr>\n",
       "    <tr>\n",
       "      <th>macro avg</th>\n",
       "      <td>0.953342</td>\n",
       "      <td>0.591266</td>\n",
       "      <td>0.638789</td>\n",
       "      <td>6393.000000</td>\n",
       "    </tr>\n",
       "    <tr>\n",
       "      <th>weighted avg</th>\n",
       "      <td>0.943571</td>\n",
       "      <td>0.942281</td>\n",
       "      <td>0.923481</td>\n",
       "      <td>6393.000000</td>\n",
       "    </tr>\n",
       "  </tbody>\n",
       "</table>\n",
       "</div>"
      ],
      "text/plain": [
       "              precision    recall  f1-score      support\n",
       "0              0.941978  0.999495  0.969885  5945.000000\n",
       "1              0.964706  0.183036  0.307692   448.000000\n",
       "accuracy       0.942281  0.942281  0.942281     0.942281\n",
       "macro avg      0.953342  0.591266  0.638789  6393.000000\n",
       "weighted avg   0.943571  0.942281  0.923481  6393.000000"
      ]
     },
     "metadata": {},
     "output_type": "display_data"
    },
    {
     "name": "stdout",
     "output_type": "stream",
     "text": [
      "\n",
      "function: 'print_report' finished in 0.02 seconds.\n",
      "----------------------------------------------------------------------------------------------------\n"
     ]
    },
    {
     "data": {
      "text/html": [
       "<h4>[5/5] Started plotting the confusion matrix...</h4>"
      ],
      "text/plain": [
       "<IPython.core.display.HTML object>"
      ]
     },
     "metadata": {},
     "output_type": "display_data"
    },
    {
     "name": "stdout",
     "output_type": "stream",
     "text": [
      "Start plotting the confusion matrix...\n",
      "\n",
      "function: '__plot_confusion_matrix' finished in 0.08 seconds.\n",
      "function: 'evaluate' finished in 0.12 seconds.\n",
      "\n"
     ]
    },
    {
     "data": {
      "image/png": "[encoded data removed]",
      "text/plain": [
       "<Figure size 432x288 with 2 Axes>"
      ]
     },
     "metadata": {
      "needs_background": "light"
     },
     "output_type": "display_data"
    }
   ],
   "source": [
    "knn = KNN_DM()\n",
    "model = knn.fit(X_train.toarray(), y_train, optim=False)\n",
    "y_pred = model.predict(X_test.toarray(), y_test)\n",
    "report, accuracy, recall, precision, f1 = model.evaluate()\n",
    "results_tf.append({\n",
    "                'method':\"Stopwords removal\",\n",
    "                'accuracy': accuracy,\n",
    "                \"recall\": recall,\n",
    "                \"precision\": precision,\n",
    "                \"f1\": f1\n",
    "            })\n",
    "print()"
   ]
  },
  {
   "cell_type": "markdown",
   "id": "98f3c6b0",
   "metadata": {
    "id": "98f3c6b0"
   },
   "source": [
    "## 2.2 Using Count-Vectroizer"
   ]
  },
  {
   "cell_type": "markdown",
   "id": "ba3bcc68",
   "metadata": {
    "id": "ba3bcc68"
   },
   "source": [
    "###  classification, Evaluation & plotting with only tokenization"
   ]
  },
  {
   "cell_type": "code",
   "execution_count": 61,
   "id": "e3714c7e",
   "metadata": {
    "id": "e3714c7e",
    "outputId": "976f3cc7-cd23-4a58-fbd4-e8607effdb0f"
   },
   "outputs": [
    {
     "name": "stdout",
     "output_type": "stream",
     "text": [
      "----------------------------------------------------------------------------------------------------\n"
     ]
    },
    {
     "data": {
      "text/html": [
       "<h4>[1/5] Started Fitting...</h4>"
      ],
      "text/plain": [
       "<IPython.core.display.HTML object>"
      ]
     },
     "metadata": {},
     "output_type": "display_data"
    },
    {
     "name": "stdout",
     "output_type": "stream",
     "text": [
      "\n",
      "function: 'fit' finished in 0.0 seconds.\n",
      "----------------------------------------------------------------------------------------------------\n"
     ]
    },
    {
     "data": {
      "text/html": [
       "<h4>[2/5] Started Prediction...</h4>"
      ],
      "text/plain": [
       "<IPython.core.display.HTML object>"
      ]
     },
     "metadata": {},
     "output_type": "display_data"
    },
    {
     "name": "stdout",
     "output_type": "stream",
     "text": [
      "head of y_pred is \t[0 0 0 0 0 0]: \n",
      "\n",
      "function: 'predict' finished in 127.16 seconds.\n",
      "----------------------------------------------------------------------------------------------------\n"
     ]
    },
    {
     "data": {
      "text/html": [
       "<h4>[3/5] Started Evaluation...</h4>"
      ],
      "text/plain": [
       "<IPython.core.display.HTML object>"
      ]
     },
     "metadata": {},
     "output_type": "display_data"
    },
    {
     "name": "stdout",
     "output_type": "stream",
     "text": [
      "f1-score:         \t0.33149171270718236 \n",
      "accuracy-score:   \t94.32191459408729 \n",
      "precision-score:  \t0.9473684210526315 \n",
      "recall-score:     \t0.20089285714285715 \n",
      "\n",
      "----------------------------------------------------------------------------------------------------\n"
     ]
    },
    {
     "data": {
      "text/html": [
       "<h4>[4/5] Started creating a report...</h4>"
      ],
      "text/plain": [
       "<IPython.core.display.HTML object>"
      ]
     },
     "metadata": {},
     "output_type": "display_data"
    },
    {
     "data": {
      "text/html": [
       "<div>\n",
       "<style scoped>\n",
       "    .dataframe tbody tr th:only-of-type {\n",
       "        vertical-align: middle;\n",
       "    }\n",
       "\n",
       "    .dataframe tbody tr th {\n",
       "        vertical-align: top;\n",
       "    }\n",
       "\n",
       "    .dataframe thead th {\n",
       "        text-align: right;\n",
       "    }\n",
       "</style>\n",
       "<table border=\"1\" class=\"dataframe\">\n",
       "  <thead>\n",
       "    <tr style=\"text-align: right;\">\n",
       "      <th></th>\n",
       "      <th>precision</th>\n",
       "      <th>recall</th>\n",
       "      <th>f1-score</th>\n",
       "      <th>support</th>\n",
       "    </tr>\n",
       "  </thead>\n",
       "  <tbody>\n",
       "    <tr>\n",
       "      <th>0</th>\n",
       "      <td>0.943157</td>\n",
       "      <td>0.999159</td>\n",
       "      <td>0.970350</td>\n",
       "      <td>5945.000000</td>\n",
       "    </tr>\n",
       "    <tr>\n",
       "      <th>1</th>\n",
       "      <td>0.947368</td>\n",
       "      <td>0.200893</td>\n",
       "      <td>0.331492</td>\n",
       "      <td>448.000000</td>\n",
       "    </tr>\n",
       "    <tr>\n",
       "      <th>accuracy</th>\n",
       "      <td>0.943219</td>\n",
       "      <td>0.943219</td>\n",
       "      <td>0.943219</td>\n",
       "      <td>0.943219</td>\n",
       "    </tr>\n",
       "    <tr>\n",
       "      <th>macro avg</th>\n",
       "      <td>0.945262</td>\n",
       "      <td>0.600026</td>\n",
       "      <td>0.650921</td>\n",
       "      <td>6393.000000</td>\n",
       "    </tr>\n",
       "    <tr>\n",
       "      <th>weighted avg</th>\n",
       "      <td>0.943452</td>\n",
       "      <td>0.943219</td>\n",
       "      <td>0.925581</td>\n",
       "      <td>6393.000000</td>\n",
       "    </tr>\n",
       "  </tbody>\n",
       "</table>\n",
       "</div>"
      ],
      "text/plain": [
       "              precision    recall  f1-score      support\n",
       "0              0.943157  0.999159  0.970350  5945.000000\n",
       "1              0.947368  0.200893  0.331492   448.000000\n",
       "accuracy       0.943219  0.943219  0.943219     0.943219\n",
       "macro avg      0.945262  0.600026  0.650921  6393.000000\n",
       "weighted avg   0.943452  0.943219  0.925581  6393.000000"
      ]
     },
     "metadata": {},
     "output_type": "display_data"
    },
    {
     "name": "stdout",
     "output_type": "stream",
     "text": [
      "\n",
      "function: 'print_report' finished in 0.07 seconds.\n",
      "----------------------------------------------------------------------------------------------------\n"
     ]
    },
    {
     "data": {
      "text/html": [
       "<h4>[5/5] Started plotting the confusion matrix...</h4>"
      ],
      "text/plain": [
       "<IPython.core.display.HTML object>"
      ]
     },
     "metadata": {},
     "output_type": "display_data"
    },
    {
     "name": "stdout",
     "output_type": "stream",
     "text": [
      "Start plotting the confusion matrix...\n",
      "\n",
      "function: '__plot_confusion_matrix' finished in 0.25 seconds.\n",
      "function: 'evaluate' finished in 0.37 seconds.\n",
      "\n"
     ]
    },
    {
     "data": {
      "image/png": "[encoded data removed]",
      "text/plain": [
       "<Figure size 432x288 with 2 Axes>"
      ]
     },
     "metadata": {
      "needs_background": "light"
     },
     "output_type": "display_data"
    }
   ],
   "source": [
    "knn = KNN_DM()\n",
    "model = knn.fit(X_train_c.toarray(), y_train, optim=False)\n",
    "y_pred = model.predict(X_test_c.toarray(), y_test)\n",
    "report, accuracy, recall, precision, f1 = model.evaluate()\n",
    "results_cv.append({\n",
    "                'method':\"Stopwords removal\",\n",
    "                'accuracy': accuracy,\n",
    "                \"recall\": recall,\n",
    "                \"precision\": precision,\n",
    "                \"f1\": f1\n",
    "            })\n",
    "print()"
   ]
  },
  {
   "cell_type": "markdown",
   "id": "f35edf07",
   "metadata": {
    "id": "f35edf07"
   },
   "source": [
    "# 3 with  Stemming <a class=\"anchor\" id=\"stemming\"></a>"
   ]
  },
  {
   "cell_type": "markdown",
   "id": "25a46fa0",
   "metadata": {
    "id": "25a46fa0"
   },
   "source": [
    "### vectorize with tfidf countvectorizer"
   ]
  },
  {
   "cell_type": "code",
   "execution_count": 62,
   "id": "5e13ed05",
   "metadata": {},
   "outputs": [
    {
     "name": "stderr",
     "output_type": "stream",
     "text": [
      "2022-05-22 12:07:34,190 WARNING Using custom data configuration default\n",
      "2022-05-22 12:07:34,219 WARNING Reusing dataset tweets_hate_speech_detection (C:\\Users\\D073999\\.cache\\huggingface\\datasets\\tweets_hate_speech_detection\\default\\0.0.0\\c6b6f41e91ac9113e1c032c5ecf7a49b4e1e9dc8699ded3c2d8425c9217568b2)\n"
     ]
    },
    {
     "data": {
      "application/vnd.jupyter.widget-view+json": {
       "model_id": "ae3a959c7cfe4214bdd4d7d6e94d42fd",
       "version_major": 2,
       "version_minor": 0
      },
      "text/plain": [
       "  0%|          | 0/1 [00:00<?, ?it/s]"
      ]
     },
     "metadata": {},
     "output_type": "display_data"
    },
    {
     "name": "stdout",
     "output_type": "stream",
     "text": [
      "X_train: 25569, X_test: 6393\n",
      "(25569, 32129)\n",
      "(25569, 32129)\n",
      "(6393, 32129)\n",
      "(6393, 32129)\n"
     ]
    },
    {
     "data": {
      "text/plain": [
       "<25569x32129 sparse matrix of type '<class 'numpy.float64'>'\n",
       "\twith 188128 stored elements in Compressed Sparse Row format>"
      ]
     },
     "execution_count": 62,
     "metadata": {},
     "output_type": "execute_result"
    }
   ],
   "source": [
    "X_train, X_test, y_train, y_test = featureize(rem_stop=True,\n",
    "                                              do_stem=True,\n",
    "                                              do_lem=False, \n",
    "                                              split=True,\n",
    "                                              upsample=False,\n",
    "                                              do_emojis=False)\n",
    "\n",
    "X_train, X_test, X_train_c, X_test_c = convert_to_tf_idf(X_train, X_test); X_train"
   ]
  },
  {
   "cell_type": "markdown",
   "id": "3de39b5d",
   "metadata": {
    "id": "3de39b5d"
   },
   "source": [
    "## 3.1 Using TF-IDF"
   ]
  },
  {
   "cell_type": "markdown",
   "id": "cb678eb9",
   "metadata": {
    "id": "cb678eb9"
   },
   "source": [
    "###  classification, Evaluation & plotting with only tokenization"
   ]
  },
  {
   "cell_type": "code",
   "execution_count": 63,
   "id": "bd52b9ec",
   "metadata": {
    "id": "bd52b9ec",
    "outputId": "ffaf6920-42b9-40e2-b59e-9b527cf01dde"
   },
   "outputs": [
    {
     "name": "stdout",
     "output_type": "stream",
     "text": [
      "----------------------------------------------------------------------------------------------------\n"
     ]
    },
    {
     "data": {
      "text/html": [
       "<h4>[1/5] Started Fitting...</h4>"
      ],
      "text/plain": [
       "<IPython.core.display.HTML object>"
      ]
     },
     "metadata": {},
     "output_type": "display_data"
    },
    {
     "name": "stdout",
     "output_type": "stream",
     "text": [
      "\n",
      "function: 'fit' finished in 5.49 seconds.\n",
      "----------------------------------------------------------------------------------------------------\n"
     ]
    },
    {
     "data": {
      "text/html": [
       "<h4>[2/5] Started Prediction...</h4>"
      ],
      "text/plain": [
       "<IPython.core.display.HTML object>"
      ]
     },
     "metadata": {},
     "output_type": "display_data"
    },
    {
     "name": "stdout",
     "output_type": "stream",
     "text": [
      "head of y_pred is \t[0 0 0 0 0 0]: \n",
      "\n",
      "function: 'predict' finished in 87.56 seconds.\n",
      "----------------------------------------------------------------------------------------------------\n"
     ]
    },
    {
     "data": {
      "text/html": [
       "<h4>[3/5] Started Evaluation...</h4>"
      ],
      "text/plain": [
       "<IPython.core.display.HTML object>"
      ]
     },
     "metadata": {},
     "output_type": "display_data"
    },
    {
     "name": "stdout",
     "output_type": "stream",
     "text": [
      "f1-score:         \t0.3108614232209738 \n",
      "accuracy-score:   \t94.24370405130612 \n",
      "precision-score:  \t0.9651162790697675 \n",
      "recall-score:     \t0.18526785714285715 \n",
      "\n",
      "----------------------------------------------------------------------------------------------------\n"
     ]
    },
    {
     "data": {
      "text/html": [
       "<h4>[4/5] Started creating a report...</h4>"
      ],
      "text/plain": [
       "<IPython.core.display.HTML object>"
      ]
     },
     "metadata": {},
     "output_type": "display_data"
    },
    {
     "data": {
      "text/html": [
       "<div>\n",
       "<style scoped>\n",
       "    .dataframe tbody tr th:only-of-type {\n",
       "        vertical-align: middle;\n",
       "    }\n",
       "\n",
       "    .dataframe tbody tr th {\n",
       "        vertical-align: top;\n",
       "    }\n",
       "\n",
       "    .dataframe thead th {\n",
       "        text-align: right;\n",
       "    }\n",
       "</style>\n",
       "<table border=\"1\" class=\"dataframe\">\n",
       "  <thead>\n",
       "    <tr style=\"text-align: right;\">\n",
       "      <th></th>\n",
       "      <th>precision</th>\n",
       "      <th>recall</th>\n",
       "      <th>f1-score</th>\n",
       "      <th>support</th>\n",
       "    </tr>\n",
       "  </thead>\n",
       "  <tbody>\n",
       "    <tr>\n",
       "      <th>0</th>\n",
       "      <td>0.942128</td>\n",
       "      <td>0.999495</td>\n",
       "      <td>0.969964</td>\n",
       "      <td>5945.000000</td>\n",
       "    </tr>\n",
       "    <tr>\n",
       "      <th>1</th>\n",
       "      <td>0.965116</td>\n",
       "      <td>0.185268</td>\n",
       "      <td>0.310861</td>\n",
       "      <td>448.000000</td>\n",
       "    </tr>\n",
       "    <tr>\n",
       "      <th>accuracy</th>\n",
       "      <td>0.942437</td>\n",
       "      <td>0.942437</td>\n",
       "      <td>0.942437</td>\n",
       "      <td>0.942437</td>\n",
       "    </tr>\n",
       "    <tr>\n",
       "      <th>macro avg</th>\n",
       "      <td>0.953622</td>\n",
       "      <td>0.592382</td>\n",
       "      <td>0.640413</td>\n",
       "      <td>6393.000000</td>\n",
       "    </tr>\n",
       "    <tr>\n",
       "      <th>weighted avg</th>\n",
       "      <td>0.943739</td>\n",
       "      <td>0.942437</td>\n",
       "      <td>0.923776</td>\n",
       "      <td>6393.000000</td>\n",
       "    </tr>\n",
       "  </tbody>\n",
       "</table>\n",
       "</div>"
      ],
      "text/plain": [
       "              precision    recall  f1-score      support\n",
       "0              0.942128  0.999495  0.969964  5945.000000\n",
       "1              0.965116  0.185268  0.310861   448.000000\n",
       "accuracy       0.942437  0.942437  0.942437     0.942437\n",
       "macro avg      0.953622  0.592382  0.640413  6393.000000\n",
       "weighted avg   0.943739  0.942437  0.923776  6393.000000"
      ]
     },
     "metadata": {},
     "output_type": "display_data"
    },
    {
     "name": "stdout",
     "output_type": "stream",
     "text": [
      "\n",
      "function: 'print_report' finished in 0.03 seconds.\n",
      "----------------------------------------------------------------------------------------------------\n"
     ]
    },
    {
     "data": {
      "text/html": [
       "<h4>[5/5] Started plotting the confusion matrix...</h4>"
      ],
      "text/plain": [
       "<IPython.core.display.HTML object>"
      ]
     },
     "metadata": {},
     "output_type": "display_data"
    },
    {
     "name": "stdout",
     "output_type": "stream",
     "text": [
      "Start plotting the confusion matrix...\n",
      "\n",
      "function: '__plot_confusion_matrix' finished in 0.1 seconds.\n",
      "function: 'evaluate' finished in 0.15 seconds.\n",
      "\n"
     ]
    },
    {
     "data": {
      "image/png": "[encoded data removed]",
      "text/plain": [
       "<Figure size 432x288 with 2 Axes>"
      ]
     },
     "metadata": {
      "needs_background": "light"
     },
     "output_type": "display_data"
    }
   ],
   "source": [
    "knn = KNN_DM()\n",
    "model = knn.fit(X_train.toarray(), y_train, optim=False)\n",
    "y_pred = model.predict(X_test.toarray(), y_test)\n",
    "report, accuracy, recall, precision, f1 = model.evaluate()\n",
    "results_tf.append({\n",
    "                'method':\"Stemming\",\n",
    "                'accuracy': accuracy,\n",
    "                \"recall\": recall,\n",
    "                \"precision\": precision,\n",
    "                \"f1\": f1\n",
    "            })\n",
    "print()"
   ]
  },
  {
   "cell_type": "markdown",
   "id": "d387dc58",
   "metadata": {
    "id": "d387dc58"
   },
   "source": [
    "## 3 .2 Using Count-Vectroizer"
   ]
  },
  {
   "cell_type": "markdown",
   "id": "ac61c37e",
   "metadata": {
    "id": "ac61c37e"
   },
   "source": [
    "###  classification, Evaluation & plotting with only tokenization"
   ]
  },
  {
   "cell_type": "code",
   "execution_count": 64,
   "id": "3a78583f",
   "metadata": {
    "id": "3a78583f",
    "outputId": "004dd167-58d9-41b9-c684-f997bd3288c5"
   },
   "outputs": [
    {
     "name": "stdout",
     "output_type": "stream",
     "text": [
      "----------------------------------------------------------------------------------------------------\n"
     ]
    },
    {
     "data": {
      "text/html": [
       "<h4>[1/5] Started Fitting...</h4>"
      ],
      "text/plain": [
       "<IPython.core.display.HTML object>"
      ]
     },
     "metadata": {},
     "output_type": "display_data"
    },
    {
     "name": "stdout",
     "output_type": "stream",
     "text": [
      "\n",
      "function: 'fit' finished in 0.01 seconds.\n",
      "----------------------------------------------------------------------------------------------------\n"
     ]
    },
    {
     "data": {
      "text/html": [
       "<h4>[2/5] Started Prediction...</h4>"
      ],
      "text/plain": [
       "<IPython.core.display.HTML object>"
      ]
     },
     "metadata": {},
     "output_type": "display_data"
    },
    {
     "name": "stdout",
     "output_type": "stream",
     "text": [
      "head of y_pred is \t[0 0 0 0 0 0]: \n",
      "\n",
      "function: 'predict' finished in 116.75 seconds.\n",
      "----------------------------------------------------------------------------------------------------\n"
     ]
    },
    {
     "data": {
      "text/html": [
       "<h4>[3/5] Started Evaluation...</h4>"
      ],
      "text/plain": [
       "<IPython.core.display.HTML object>"
      ]
     },
     "metadata": {},
     "output_type": "display_data"
    },
    {
     "name": "stdout",
     "output_type": "stream",
     "text": [
      "f1-score:         \t0.3460837887067395 \n",
      "accuracy-score:   \t94.38448302831222 \n",
      "precision-score:  \t0.9405940594059405 \n",
      "recall-score:     \t0.21205357142857142 \n",
      "\n",
      "----------------------------------------------------------------------------------------------------\n"
     ]
    },
    {
     "data": {
      "text/html": [
       "<h4>[4/5] Started creating a report...</h4>"
      ],
      "text/plain": [
       "<IPython.core.display.HTML object>"
      ]
     },
     "metadata": {},
     "output_type": "display_data"
    },
    {
     "data": {
      "text/html": [
       "<div>\n",
       "<style scoped>\n",
       "    .dataframe tbody tr th:only-of-type {\n",
       "        vertical-align: middle;\n",
       "    }\n",
       "\n",
       "    .dataframe tbody tr th {\n",
       "        vertical-align: top;\n",
       "    }\n",
       "\n",
       "    .dataframe thead th {\n",
       "        text-align: right;\n",
       "    }\n",
       "</style>\n",
       "<table border=\"1\" class=\"dataframe\">\n",
       "  <thead>\n",
       "    <tr style=\"text-align: right;\">\n",
       "      <th></th>\n",
       "      <th>precision</th>\n",
       "      <th>recall</th>\n",
       "      <th>f1-score</th>\n",
       "      <th>support</th>\n",
       "    </tr>\n",
       "  </thead>\n",
       "  <tbody>\n",
       "    <tr>\n",
       "      <th>0</th>\n",
       "      <td>0.943897</td>\n",
       "      <td>0.998991</td>\n",
       "      <td>0.970663</td>\n",
       "      <td>5945.000000</td>\n",
       "    </tr>\n",
       "    <tr>\n",
       "      <th>1</th>\n",
       "      <td>0.940594</td>\n",
       "      <td>0.212054</td>\n",
       "      <td>0.346084</td>\n",
       "      <td>448.000000</td>\n",
       "    </tr>\n",
       "    <tr>\n",
       "      <th>accuracy</th>\n",
       "      <td>0.943845</td>\n",
       "      <td>0.943845</td>\n",
       "      <td>0.943845</td>\n",
       "      <td>0.943845</td>\n",
       "    </tr>\n",
       "    <tr>\n",
       "      <th>macro avg</th>\n",
       "      <td>0.942246</td>\n",
       "      <td>0.605522</td>\n",
       "      <td>0.658373</td>\n",
       "      <td>6393.000000</td>\n",
       "    </tr>\n",
       "    <tr>\n",
       "      <th>weighted avg</th>\n",
       "      <td>0.943666</td>\n",
       "      <td>0.943845</td>\n",
       "      <td>0.926894</td>\n",
       "      <td>6393.000000</td>\n",
       "    </tr>\n",
       "  </tbody>\n",
       "</table>\n",
       "</div>"
      ],
      "text/plain": [
       "              precision    recall  f1-score      support\n",
       "0              0.943897  0.998991  0.970663  5945.000000\n",
       "1              0.940594  0.212054  0.346084   448.000000\n",
       "accuracy       0.943845  0.943845  0.943845     0.943845\n",
       "macro avg      0.942246  0.605522  0.658373  6393.000000\n",
       "weighted avg   0.943666  0.943845  0.926894  6393.000000"
      ]
     },
     "metadata": {},
     "output_type": "display_data"
    },
    {
     "name": "stdout",
     "output_type": "stream",
     "text": [
      "\n",
      "function: 'print_report' finished in 0.06 seconds.\n",
      "----------------------------------------------------------------------------------------------------\n"
     ]
    },
    {
     "data": {
      "text/html": [
       "<h4>[5/5] Started plotting the confusion matrix...</h4>"
      ],
      "text/plain": [
       "<IPython.core.display.HTML object>"
      ]
     },
     "metadata": {},
     "output_type": "display_data"
    },
    {
     "name": "stdout",
     "output_type": "stream",
     "text": [
      "Start plotting the confusion matrix...\n",
      "\n",
      "function: '__plot_confusion_matrix' finished in 0.21 seconds.\n",
      "function: 'evaluate' finished in 0.31 seconds.\n",
      "\n"
     ]
    },
    {
     "data": {
      "image/png": "[encoded data removed]",
      "text/plain": [
       "<Figure size 432x288 with 2 Axes>"
      ]
     },
     "metadata": {
      "needs_background": "light"
     },
     "output_type": "display_data"
    }
   ],
   "source": [
    "knn = KNN_DM()\n",
    "model = knn.fit(X_train_c.toarray(), y_train, optim=False)\n",
    "y_pred = model.predict(X_test_c.toarray(), y_test)\n",
    "report, accuracy, recall, precision, f1 = model.evaluate()\n",
    "results_cv.append({\n",
    "                'method':\"Stemming\",\n",
    "                'accuracy': accuracy,\n",
    "                \"recall\": recall,\n",
    "                \"precision\": precision,\n",
    "                \"f1\": f1\n",
    "            })\n",
    "print()"
   ]
  },
  {
   "cell_type": "markdown",
   "id": "dd8b12da",
   "metadata": {},
   "source": [
    "# 4 with Lemmatization <a class=\"anchor\" id=\"lemmatization\"></a>"
   ]
  },
  {
   "cell_type": "code",
   "execution_count": 65,
   "id": "d732408a",
   "metadata": {},
   "outputs": [
    {
     "name": "stderr",
     "output_type": "stream",
     "text": [
      "2022-05-22 12:12:26,746 WARNING Using custom data configuration default\n",
      "2022-05-22 12:12:26,762 WARNING Reusing dataset tweets_hate_speech_detection (C:\\Users\\D073999\\.cache\\huggingface\\datasets\\tweets_hate_speech_detection\\default\\0.0.0\\c6b6f41e91ac9113e1c032c5ecf7a49b4e1e9dc8699ded3c2d8425c9217568b2)\n"
     ]
    },
    {
     "data": {
      "application/vnd.jupyter.widget-view+json": {
       "model_id": "3e3e8e7c0084449ba9d86d01ee30a9e2",
       "version_major": 2,
       "version_minor": 0
      },
      "text/plain": [
       "  0%|          | 0/1 [00:00<?, ?it/s]"
      ]
     },
     "metadata": {},
     "output_type": "display_data"
    },
    {
     "name": "stdout",
     "output_type": "stream",
     "text": [
      "X_train: 25569, X_test: 6393\n",
      "(25569, 35354)\n",
      "(25569, 35354)\n",
      "(6393, 35354)\n",
      "(6393, 35354)\n"
     ]
    },
    {
     "data": {
      "text/plain": [
       "<25569x35354 sparse matrix of type '<class 'numpy.float64'>'\n",
       "\twith 187357 stored elements in Compressed Sparse Row format>"
      ]
     },
     "execution_count": 65,
     "metadata": {},
     "output_type": "execute_result"
    }
   ],
   "source": [
    "\n",
    "X_train, X_test, y_train, y_test = featureize(rem_stop=True,\n",
    "                                              do_stem=False,\n",
    "                                              do_lem=True, \n",
    "                                              split=True,\n",
    "                                              upsample=False,\n",
    "                                              do_emojis=False)\n",
    "#vectorize\n",
    "X_train, X_test, X_train_c, X_test_c = convert_to_tf_idf(X_train, X_test); X_train"
   ]
  },
  {
   "cell_type": "markdown",
   "id": "0d2301fd",
   "metadata": {},
   "source": [
    "## 4.1 Using TF-IDF"
   ]
  },
  {
   "cell_type": "markdown",
   "id": "aa326734",
   "metadata": {},
   "source": [
    "###  classification, Evaluation & plotting with only tokenization"
   ]
  },
  {
   "cell_type": "code",
   "execution_count": 66,
   "id": "29ee14b8",
   "metadata": {},
   "outputs": [
    {
     "name": "stdout",
     "output_type": "stream",
     "text": [
      "----------------------------------------------------------------------------------------------------\n"
     ]
    },
    {
     "data": {
      "text/html": [
       "<h4>[1/5] Started Fitting...</h4>"
      ],
      "text/plain": [
       "<IPython.core.display.HTML object>"
      ]
     },
     "metadata": {},
     "output_type": "display_data"
    },
    {
     "name": "stdout",
     "output_type": "stream",
     "text": [
      "\n",
      "function: 'fit' finished in 4.76 seconds.\n",
      "----------------------------------------------------------------------------------------------------\n"
     ]
    },
    {
     "data": {
      "text/html": [
       "<h4>[2/5] Started Prediction...</h4>"
      ],
      "text/plain": [
       "<IPython.core.display.HTML object>"
      ]
     },
     "metadata": {},
     "output_type": "display_data"
    },
    {
     "name": "stdout",
     "output_type": "stream",
     "text": [
      "head of y_pred is \t[0 0 0 0 0 0]: \n",
      "\n",
      "function: 'predict' finished in 88.27 seconds.\n",
      "----------------------------------------------------------------------------------------------------\n"
     ]
    },
    {
     "data": {
      "text/html": [
       "<h4>[3/5] Started Evaluation...</h4>"
      ],
      "text/plain": [
       "<IPython.core.display.HTML object>"
      ]
     },
     "metadata": {},
     "output_type": "display_data"
    },
    {
     "name": "stdout",
     "output_type": "stream",
     "text": [
      "f1-score:         \t0.3146067415730337 \n",
      "accuracy-score:   \t94.27498826841858 \n",
      "precision-score:  \t0.9767441860465116 \n",
      "recall-score:     \t0.1875 \n",
      "\n",
      "----------------------------------------------------------------------------------------------------\n"
     ]
    },
    {
     "data": {
      "text/html": [
       "<h4>[4/5] Started creating a report...</h4>"
      ],
      "text/plain": [
       "<IPython.core.display.HTML object>"
      ]
     },
     "metadata": {},
     "output_type": "display_data"
    },
    {
     "data": {
      "text/html": [
       "<div>\n",
       "<style scoped>\n",
       "    .dataframe tbody tr th:only-of-type {\n",
       "        vertical-align: middle;\n",
       "    }\n",
       "\n",
       "    .dataframe tbody tr th {\n",
       "        vertical-align: top;\n",
       "    }\n",
       "\n",
       "    .dataframe thead th {\n",
       "        text-align: right;\n",
       "    }\n",
       "</style>\n",
       "<table border=\"1\" class=\"dataframe\">\n",
       "  <thead>\n",
       "    <tr style=\"text-align: right;\">\n",
       "      <th></th>\n",
       "      <th>precision</th>\n",
       "      <th>recall</th>\n",
       "      <th>f1-score</th>\n",
       "      <th>support</th>\n",
       "    </tr>\n",
       "  </thead>\n",
       "  <tbody>\n",
       "    <tr>\n",
       "      <th>0</th>\n",
       "      <td>0.942286</td>\n",
       "      <td>0.999664</td>\n",
       "      <td>0.970127</td>\n",
       "      <td>5945.00000</td>\n",
       "    </tr>\n",
       "    <tr>\n",
       "      <th>1</th>\n",
       "      <td>0.976744</td>\n",
       "      <td>0.187500</td>\n",
       "      <td>0.314607</td>\n",
       "      <td>448.00000</td>\n",
       "    </tr>\n",
       "    <tr>\n",
       "      <th>accuracy</th>\n",
       "      <td>0.942750</td>\n",
       "      <td>0.942750</td>\n",
       "      <td>0.942750</td>\n",
       "      <td>0.94275</td>\n",
       "    </tr>\n",
       "    <tr>\n",
       "      <th>macro avg</th>\n",
       "      <td>0.959515</td>\n",
       "      <td>0.593582</td>\n",
       "      <td>0.642367</td>\n",
       "      <td>6393.00000</td>\n",
       "    </tr>\n",
       "    <tr>\n",
       "      <th>weighted avg</th>\n",
       "      <td>0.944701</td>\n",
       "      <td>0.942750</td>\n",
       "      <td>0.924191</td>\n",
       "      <td>6393.00000</td>\n",
       "    </tr>\n",
       "  </tbody>\n",
       "</table>\n",
       "</div>"
      ],
      "text/plain": [
       "              precision    recall  f1-score     support\n",
       "0              0.942286  0.999664  0.970127  5945.00000\n",
       "1              0.976744  0.187500  0.314607   448.00000\n",
       "accuracy       0.942750  0.942750  0.942750     0.94275\n",
       "macro avg      0.959515  0.593582  0.642367  6393.00000\n",
       "weighted avg   0.944701  0.942750  0.924191  6393.00000"
      ]
     },
     "metadata": {},
     "output_type": "display_data"
    },
    {
     "name": "stdout",
     "output_type": "stream",
     "text": [
      "\n",
      "function: 'print_report' finished in 0.02 seconds.\n",
      "----------------------------------------------------------------------------------------------------\n"
     ]
    },
    {
     "data": {
      "text/html": [
       "<h4>[5/5] Started plotting the confusion matrix...</h4>"
      ],
      "text/plain": [
       "<IPython.core.display.HTML object>"
      ]
     },
     "metadata": {},
     "output_type": "display_data"
    },
    {
     "name": "stdout",
     "output_type": "stream",
     "text": [
      "Start plotting the confusion matrix...\n",
      "\n",
      "function: '__plot_confusion_matrix' finished in 0.09 seconds.\n",
      "function: 'evaluate' finished in 0.13 seconds.\n",
      "\n"
     ]
    },
    {
     "data": {
      "image/png": "[encoded data removed]",
      "text/plain": [
       "<Figure size 432x288 with 2 Axes>"
      ]
     },
     "metadata": {
      "needs_background": "light"
     },
     "output_type": "display_data"
    }
   ],
   "source": [
    "knn = KNN_DM()\n",
    "model = knn.fit(X_train.toarray(), y_train, optim=False)\n",
    "y_pred = model.predict(X_test.toarray(), y_test)\n",
    "report, accuracy, recall, precision, f1 = model.evaluate()\n",
    "results_tf.append({\n",
    "                'method':\"lemmitization\",\n",
    "                'accuracy': accuracy,\n",
    "                \"recall\": recall,\n",
    "                \"precision\": precision,\n",
    "                \"f1\": f1\n",
    "            })\n",
    "print()"
   ]
  },
  {
   "cell_type": "markdown",
   "id": "eca974b6",
   "metadata": {},
   "source": [
    "## 4 .2 Using Count-Vectroizer"
   ]
  },
  {
   "cell_type": "markdown",
   "id": "bb3eccea",
   "metadata": {},
   "source": [
    "###  classification, Evaluation & plotting with only tokenization"
   ]
  },
  {
   "cell_type": "code",
   "execution_count": 67,
   "id": "afdafbcb",
   "metadata": {},
   "outputs": [
    {
     "name": "stdout",
     "output_type": "stream",
     "text": [
      "----------------------------------------------------------------------------------------------------\n"
     ]
    },
    {
     "data": {
      "text/html": [
       "<h4>[1/5] Started Fitting...</h4>"
      ],
      "text/plain": [
       "<IPython.core.display.HTML object>"
      ]
     },
     "metadata": {},
     "output_type": "display_data"
    },
    {
     "name": "stdout",
     "output_type": "stream",
     "text": [
      "\n",
      "function: 'fit' finished in 0.01 seconds.\n",
      "----------------------------------------------------------------------------------------------------\n"
     ]
    },
    {
     "data": {
      "text/html": [
       "<h4>[2/5] Started Prediction...</h4>"
      ],
      "text/plain": [
       "<IPython.core.display.HTML object>"
      ]
     },
     "metadata": {},
     "output_type": "display_data"
    },
    {
     "name": "stdout",
     "output_type": "stream",
     "text": [
      "head of y_pred is \t[0 0 0 0 0 0]: \n",
      "\n",
      "function: 'predict' finished in 134.6 seconds.\n",
      "----------------------------------------------------------------------------------------------------\n"
     ]
    },
    {
     "data": {
      "text/html": [
       "<h4>[3/5] Started Evaluation...</h4>"
      ],
      "text/plain": [
       "<IPython.core.display.HTML object>"
      ]
     },
     "metadata": {},
     "output_type": "display_data"
    },
    {
     "name": "stdout",
     "output_type": "stream",
     "text": [
      "f1-score:         \t0.3387978142076503 \n",
      "accuracy-score:   \t94.32191459408729 \n",
      "precision-score:  \t0.9207920792079208 \n",
      "recall-score:     \t0.20758928571428573 \n",
      "\n",
      "----------------------------------------------------------------------------------------------------\n"
     ]
    },
    {
     "data": {
      "text/html": [
       "<h4>[4/5] Started creating a report...</h4>"
      ],
      "text/plain": [
       "<IPython.core.display.HTML object>"
      ]
     },
     "metadata": {},
     "output_type": "display_data"
    },
    {
     "data": {
      "text/html": [
       "<div>\n",
       "<style scoped>\n",
       "    .dataframe tbody tr th:only-of-type {\n",
       "        vertical-align: middle;\n",
       "    }\n",
       "\n",
       "    .dataframe tbody tr th {\n",
       "        vertical-align: top;\n",
       "    }\n",
       "\n",
       "    .dataframe thead th {\n",
       "        text-align: right;\n",
       "    }\n",
       "</style>\n",
       "<table border=\"1\" class=\"dataframe\">\n",
       "  <thead>\n",
       "    <tr style=\"text-align: right;\">\n",
       "      <th></th>\n",
       "      <th>precision</th>\n",
       "      <th>recall</th>\n",
       "      <th>f1-score</th>\n",
       "      <th>support</th>\n",
       "    </tr>\n",
       "  </thead>\n",
       "  <tbody>\n",
       "    <tr>\n",
       "      <th>0</th>\n",
       "      <td>0.943579</td>\n",
       "      <td>0.998654</td>\n",
       "      <td>0.970336</td>\n",
       "      <td>5945.000000</td>\n",
       "    </tr>\n",
       "    <tr>\n",
       "      <th>1</th>\n",
       "      <td>0.920792</td>\n",
       "      <td>0.207589</td>\n",
       "      <td>0.338798</td>\n",
       "      <td>448.000000</td>\n",
       "    </tr>\n",
       "    <tr>\n",
       "      <th>accuracy</th>\n",
       "      <td>0.943219</td>\n",
       "      <td>0.943219</td>\n",
       "      <td>0.943219</td>\n",
       "      <td>0.943219</td>\n",
       "    </tr>\n",
       "    <tr>\n",
       "      <th>macro avg</th>\n",
       "      <td>0.932186</td>\n",
       "      <td>0.603122</td>\n",
       "      <td>0.654567</td>\n",
       "      <td>6393.000000</td>\n",
       "    </tr>\n",
       "    <tr>\n",
       "      <th>weighted avg</th>\n",
       "      <td>0.941982</td>\n",
       "      <td>0.943219</td>\n",
       "      <td>0.926080</td>\n",
       "      <td>6393.000000</td>\n",
       "    </tr>\n",
       "  </tbody>\n",
       "</table>\n",
       "</div>"
      ],
      "text/plain": [
       "              precision    recall  f1-score      support\n",
       "0              0.943579  0.998654  0.970336  5945.000000\n",
       "1              0.920792  0.207589  0.338798   448.000000\n",
       "accuracy       0.943219  0.943219  0.943219     0.943219\n",
       "macro avg      0.932186  0.603122  0.654567  6393.000000\n",
       "weighted avg   0.941982  0.943219  0.926080  6393.000000"
      ]
     },
     "metadata": {},
     "output_type": "display_data"
    },
    {
     "name": "stdout",
     "output_type": "stream",
     "text": [
      "\n",
      "function: 'print_report' finished in 0.06 seconds.\n",
      "----------------------------------------------------------------------------------------------------\n"
     ]
    },
    {
     "data": {
      "text/html": [
       "<h4>[5/5] Started plotting the confusion matrix...</h4>"
      ],
      "text/plain": [
       "<IPython.core.display.HTML object>"
      ]
     },
     "metadata": {},
     "output_type": "display_data"
    },
    {
     "name": "stdout",
     "output_type": "stream",
     "text": [
      "Start plotting the confusion matrix...\n",
      "\n",
      "function: '__plot_confusion_matrix' finished in 0.21 seconds.\n",
      "function: 'evaluate' finished in 0.33 seconds.\n",
      "\n"
     ]
    },
    {
     "data": {
      "image/png": "[encoded data removed]",
      "text/plain": [
       "<Figure size 432x288 with 2 Axes>"
      ]
     },
     "metadata": {
      "needs_background": "light"
     },
     "output_type": "display_data"
    }
   ],
   "source": [
    "knn = KNN_DM()\n",
    "model = knn.fit(X_train_c.toarray(), y_train, optim=False)\n",
    "y_pred = model.predict(X_test_c.toarray(), y_test)\n",
    "report, accuracy, recall, precision, f1 = model.evaluate()\n",
    "results_cv.append({\n",
    "                'method':\"lemmitization\",\n",
    "                'accuracy': accuracy,\n",
    "                \"recall\": recall,\n",
    "                \"precision\": precision,\n",
    "                \"f1\": f1\n",
    "            })\n",
    "print()"
   ]
  },
  {
   "cell_type": "markdown",
   "id": "4214e5af",
   "metadata": {
    "id": "4214e5af"
   },
   "source": [
    "# 5 with Upsampling <a class=\"anchor\" id=\"upsampling\"></a>"
   ]
  },
  {
   "cell_type": "code",
   "execution_count": 68,
   "id": "392eacd0",
   "metadata": {
    "id": "392eacd0"
   },
   "outputs": [
    {
     "name": "stderr",
     "output_type": "stream",
     "text": [
      "2022-05-22 12:17:23,116 WARNING Using custom data configuration default\n",
      "2022-05-22 12:17:23,132 WARNING Reusing dataset tweets_hate_speech_detection (C:\\Users\\D073999\\.cache\\huggingface\\datasets\\tweets_hate_speech_detection\\default\\0.0.0\\c6b6f41e91ac9113e1c032c5ecf7a49b4e1e9dc8699ded3c2d8425c9217568b2)\n"
     ]
    },
    {
     "data": {
      "application/vnd.jupyter.widget-view+json": {
       "model_id": "8fed62c5d5634249b1ba5d0b1db9dd38",
       "version_major": 2,
       "version_minor": 0
      },
      "text/plain": [
       "  0%|          | 0/1 [00:00<?, ?it/s]"
      ]
     },
     "metadata": {},
     "output_type": "display_data"
    },
    {
     "name": "stdout",
     "output_type": "stream",
     "text": [
      "X_train: 25569, X_test: 6393\n"
     ]
    }
   ],
   "source": [
    "# best results were achieved after the stemming/lemma and count_vectorizer therefore this will be upsampled\n",
    "X_train, X_test, y_train, y_test = featureize(rem_stop=True,\n",
    "                                              do_stem=True,\n",
    "                                              do_lem=False, \n",
    "                                              split=True,\n",
    "                                              upsample=True,\n",
    "                                              do_emojis=False)"
   ]
  },
  {
   "cell_type": "markdown",
   "id": "aab0a5e2",
   "metadata": {
    "id": "aab0a5e2"
   },
   "source": [
    "### vectorize with tfidf countvectorizer"
   ]
  },
  {
   "cell_type": "code",
   "execution_count": 69,
   "id": "f324de13",
   "metadata": {},
   "outputs": [
    {
     "name": "stdout",
     "output_type": "stream",
     "text": [
      "(25569, 32129)\n",
      "(25569, 32129)\n",
      "(6393, 32129)\n",
      "(6393, 32129)\n"
     ]
    },
    {
     "data": {
      "text/plain": [
       "<25569x32129 sparse matrix of type '<class 'numpy.float64'>'\n",
       "\twith 188128 stored elements in Compressed Sparse Row format>"
      ]
     },
     "execution_count": 69,
     "metadata": {},
     "output_type": "execute_result"
    }
   ],
   "source": [
    "X_train, X_test, X_train_c, X_test_c = convert_to_tf_idf(X_train, X_test); X_train"
   ]
  },
  {
   "cell_type": "markdown",
   "id": "94a09b74",
   "metadata": {
    "id": "94a09b74"
   },
   "source": [
    "## 5.1 Using TF-IDF"
   ]
  },
  {
   "cell_type": "markdown",
   "id": "dcaa6ae3",
   "metadata": {
    "id": "dcaa6ae3"
   },
   "source": [
    "###  classification, Evaluation & plotting with only tokenization"
   ]
  },
  {
   "cell_type": "code",
   "execution_count": 70,
   "id": "7a69fc67",
   "metadata": {
    "id": "7a69fc67",
    "outputId": "a0890649-0683-45ab-c289-2feaf22d2f27"
   },
   "outputs": [
    {
     "name": "stdout",
     "output_type": "stream",
     "text": [
      "----------------------------------------------------------------------------------------------------\n"
     ]
    },
    {
     "data": {
      "text/html": [
       "<h4>[1/5] Started Fitting...</h4>"
      ],
      "text/plain": [
       "<IPython.core.display.HTML object>"
      ]
     },
     "metadata": {},
     "output_type": "display_data"
    },
    {
     "name": "stdout",
     "output_type": "stream",
     "text": [
      "\n",
      "function: 'fit' finished in 4.76 seconds.\n",
      "----------------------------------------------------------------------------------------------------\n"
     ]
    },
    {
     "data": {
      "text/html": [
       "<h4>[2/5] Started Prediction...</h4>"
      ],
      "text/plain": [
       "<IPython.core.display.HTML object>"
      ]
     },
     "metadata": {},
     "output_type": "display_data"
    },
    {
     "name": "stdout",
     "output_type": "stream",
     "text": [
      "head of y_pred is \t[0 0 0 0 0 0]: \n",
      "\n",
      "function: 'predict' finished in 81.94 seconds.\n",
      "----------------------------------------------------------------------------------------------------\n"
     ]
    },
    {
     "data": {
      "text/html": [
       "<h4>[3/5] Started Evaluation...</h4>"
      ],
      "text/plain": [
       "<IPython.core.display.HTML object>"
      ]
     },
     "metadata": {},
     "output_type": "display_data"
    },
    {
     "name": "stdout",
     "output_type": "stream",
     "text": [
      "f1-score:         \t0.3108614232209738 \n",
      "accuracy-score:   \t94.24370405130612 \n",
      "precision-score:  \t0.9651162790697675 \n",
      "recall-score:     \t0.18526785714285715 \n",
      "\n",
      "----------------------------------------------------------------------------------------------------\n"
     ]
    },
    {
     "data": {
      "text/html": [
       "<h4>[4/5] Started creating a report...</h4>"
      ],
      "text/plain": [
       "<IPython.core.display.HTML object>"
      ]
     },
     "metadata": {},
     "output_type": "display_data"
    },
    {
     "data": {
      "text/html": [
       "<div>\n",
       "<style scoped>\n",
       "    .dataframe tbody tr th:only-of-type {\n",
       "        vertical-align: middle;\n",
       "    }\n",
       "\n",
       "    .dataframe tbody tr th {\n",
       "        vertical-align: top;\n",
       "    }\n",
       "\n",
       "    .dataframe thead th {\n",
       "        text-align: right;\n",
       "    }\n",
       "</style>\n",
       "<table border=\"1\" class=\"dataframe\">\n",
       "  <thead>\n",
       "    <tr style=\"text-align: right;\">\n",
       "      <th></th>\n",
       "      <th>precision</th>\n",
       "      <th>recall</th>\n",
       "      <th>f1-score</th>\n",
       "      <th>support</th>\n",
       "    </tr>\n",
       "  </thead>\n",
       "  <tbody>\n",
       "    <tr>\n",
       "      <th>0</th>\n",
       "      <td>0.942128</td>\n",
       "      <td>0.999495</td>\n",
       "      <td>0.969964</td>\n",
       "      <td>5945.000000</td>\n",
       "    </tr>\n",
       "    <tr>\n",
       "      <th>1</th>\n",
       "      <td>0.965116</td>\n",
       "      <td>0.185268</td>\n",
       "      <td>0.310861</td>\n",
       "      <td>448.000000</td>\n",
       "    </tr>\n",
       "    <tr>\n",
       "      <th>accuracy</th>\n",
       "      <td>0.942437</td>\n",
       "      <td>0.942437</td>\n",
       "      <td>0.942437</td>\n",
       "      <td>0.942437</td>\n",
       "    </tr>\n",
       "    <tr>\n",
       "      <th>macro avg</th>\n",
       "      <td>0.953622</td>\n",
       "      <td>0.592382</td>\n",
       "      <td>0.640413</td>\n",
       "      <td>6393.000000</td>\n",
       "    </tr>\n",
       "    <tr>\n",
       "      <th>weighted avg</th>\n",
       "      <td>0.943739</td>\n",
       "      <td>0.942437</td>\n",
       "      <td>0.923776</td>\n",
       "      <td>6393.000000</td>\n",
       "    </tr>\n",
       "  </tbody>\n",
       "</table>\n",
       "</div>"
      ],
      "text/plain": [
       "              precision    recall  f1-score      support\n",
       "0              0.942128  0.999495  0.969964  5945.000000\n",
       "1              0.965116  0.185268  0.310861   448.000000\n",
       "accuracy       0.942437  0.942437  0.942437     0.942437\n",
       "macro avg      0.953622  0.592382  0.640413  6393.000000\n",
       "weighted avg   0.943739  0.942437  0.923776  6393.000000"
      ]
     },
     "metadata": {},
     "output_type": "display_data"
    },
    {
     "name": "stdout",
     "output_type": "stream",
     "text": [
      "\n",
      "function: 'print_report' finished in 0.03 seconds.\n",
      "----------------------------------------------------------------------------------------------------\n"
     ]
    },
    {
     "data": {
      "text/html": [
       "<h4>[5/5] Started plotting the confusion matrix...</h4>"
      ],
      "text/plain": [
       "<IPython.core.display.HTML object>"
      ]
     },
     "metadata": {},
     "output_type": "display_data"
    },
    {
     "name": "stdout",
     "output_type": "stream",
     "text": [
      "Start plotting the confusion matrix...\n",
      "\n",
      "function: '__plot_confusion_matrix' finished in 0.1 seconds.\n",
      "function: 'evaluate' finished in 0.14 seconds.\n",
      "\n"
     ]
    },
    {
     "data": {
      "image/png": "[encoded data removed]",
      "text/plain": [
       "<Figure size 432x288 with 2 Axes>"
      ]
     },
     "metadata": {
      "needs_background": "light"
     },
     "output_type": "display_data"
    }
   ],
   "source": [
    "knn = KNN_DM()\n",
    "model = knn.fit(X_train.toarray(), y_train, optim=False)\n",
    "y_pred = model.predict(X_test.toarray(), y_test)\n",
    "report, accuracy, recall, precision, f1 = model.evaluate()\n",
    "results_tf.append({\n",
    "                'method':\"Upsampling\",\n",
    "                'accuracy': accuracy,\n",
    "                \"recall\": recall,\n",
    "                \"precision\": precision,\n",
    "                \"f1\": f1\n",
    "            })\n",
    "print()"
   ]
  },
  {
   "cell_type": "markdown",
   "id": "56c23896",
   "metadata": {
    "id": "56c23896"
   },
   "source": [
    "## 5 .2 Using Count-Vectroizer"
   ]
  },
  {
   "cell_type": "markdown",
   "id": "12639e94",
   "metadata": {
    "id": "12639e94"
   },
   "source": [
    "###  classification, Evaluation & plotting with only tokenization"
   ]
  },
  {
   "cell_type": "code",
   "execution_count": 71,
   "id": "41b10ccd",
   "metadata": {
    "id": "41b10ccd",
    "outputId": "f130c28e-08f7-4199-ae86-ab885de579b1"
   },
   "outputs": [
    {
     "name": "stdout",
     "output_type": "stream",
     "text": [
      "----------------------------------------------------------------------------------------------------\n"
     ]
    },
    {
     "data": {
      "text/html": [
       "<h4>[1/5] Started Fitting...</h4>"
      ],
      "text/plain": [
       "<IPython.core.display.HTML object>"
      ]
     },
     "metadata": {},
     "output_type": "display_data"
    },
    {
     "name": "stdout",
     "output_type": "stream",
     "text": [
      "\n",
      "function: 'fit' finished in 0.0 seconds.\n",
      "----------------------------------------------------------------------------------------------------\n"
     ]
    },
    {
     "data": {
      "text/html": [
       "<h4>[2/5] Started Prediction...</h4>"
      ],
      "text/plain": [
       "<IPython.core.display.HTML object>"
      ]
     },
     "metadata": {},
     "output_type": "display_data"
    },
    {
     "name": "stdout",
     "output_type": "stream",
     "text": [
      "head of y_pred is \t[0 0 0 0 0 0]: \n",
      "\n",
      "function: 'predict' finished in 111.77 seconds.\n",
      "----------------------------------------------------------------------------------------------------\n"
     ]
    },
    {
     "data": {
      "text/html": [
       "<h4>[3/5] Started Evaluation...</h4>"
      ],
      "text/plain": [
       "<IPython.core.display.HTML object>"
      ]
     },
     "metadata": {},
     "output_type": "display_data"
    },
    {
     "name": "stdout",
     "output_type": "stream",
     "text": [
      "f1-score:         \t0.3460837887067395 \n",
      "accuracy-score:   \t94.38448302831222 \n",
      "precision-score:  \t0.9405940594059405 \n",
      "recall-score:     \t0.21205357142857142 \n",
      "\n",
      "----------------------------------------------------------------------------------------------------\n"
     ]
    },
    {
     "data": {
      "text/html": [
       "<h4>[4/5] Started creating a report...</h4>"
      ],
      "text/plain": [
       "<IPython.core.display.HTML object>"
      ]
     },
     "metadata": {},
     "output_type": "display_data"
    },
    {
     "data": {
      "text/html": [
       "<div>\n",
       "<style scoped>\n",
       "    .dataframe tbody tr th:only-of-type {\n",
       "        vertical-align: middle;\n",
       "    }\n",
       "\n",
       "    .dataframe tbody tr th {\n",
       "        vertical-align: top;\n",
       "    }\n",
       "\n",
       "    .dataframe thead th {\n",
       "        text-align: right;\n",
       "    }\n",
       "</style>\n",
       "<table border=\"1\" class=\"dataframe\">\n",
       "  <thead>\n",
       "    <tr style=\"text-align: right;\">\n",
       "      <th></th>\n",
       "      <th>precision</th>\n",
       "      <th>recall</th>\n",
       "      <th>f1-score</th>\n",
       "      <th>support</th>\n",
       "    </tr>\n",
       "  </thead>\n",
       "  <tbody>\n",
       "    <tr>\n",
       "      <th>0</th>\n",
       "      <td>0.943897</td>\n",
       "      <td>0.998991</td>\n",
       "      <td>0.970663</td>\n",
       "      <td>5945.000000</td>\n",
       "    </tr>\n",
       "    <tr>\n",
       "      <th>1</th>\n",
       "      <td>0.940594</td>\n",
       "      <td>0.212054</td>\n",
       "      <td>0.346084</td>\n",
       "      <td>448.000000</td>\n",
       "    </tr>\n",
       "    <tr>\n",
       "      <th>accuracy</th>\n",
       "      <td>0.943845</td>\n",
       "      <td>0.943845</td>\n",
       "      <td>0.943845</td>\n",
       "      <td>0.943845</td>\n",
       "    </tr>\n",
       "    <tr>\n",
       "      <th>macro avg</th>\n",
       "      <td>0.942246</td>\n",
       "      <td>0.605522</td>\n",
       "      <td>0.658373</td>\n",
       "      <td>6393.000000</td>\n",
       "    </tr>\n",
       "    <tr>\n",
       "      <th>weighted avg</th>\n",
       "      <td>0.943666</td>\n",
       "      <td>0.943845</td>\n",
       "      <td>0.926894</td>\n",
       "      <td>6393.000000</td>\n",
       "    </tr>\n",
       "  </tbody>\n",
       "</table>\n",
       "</div>"
      ],
      "text/plain": [
       "              precision    recall  f1-score      support\n",
       "0              0.943897  0.998991  0.970663  5945.000000\n",
       "1              0.940594  0.212054  0.346084   448.000000\n",
       "accuracy       0.943845  0.943845  0.943845     0.943845\n",
       "macro avg      0.942246  0.605522  0.658373  6393.000000\n",
       "weighted avg   0.943666  0.943845  0.926894  6393.000000"
      ]
     },
     "metadata": {},
     "output_type": "display_data"
    },
    {
     "name": "stdout",
     "output_type": "stream",
     "text": [
      "\n",
      "function: 'print_report' finished in 0.07 seconds.\n",
      "----------------------------------------------------------------------------------------------------\n"
     ]
    },
    {
     "data": {
      "text/html": [
       "<h4>[5/5] Started plotting the confusion matrix...</h4>"
      ],
      "text/plain": [
       "<IPython.core.display.HTML object>"
      ]
     },
     "metadata": {},
     "output_type": "display_data"
    },
    {
     "name": "stdout",
     "output_type": "stream",
     "text": [
      "Start plotting the confusion matrix...\n",
      "\n",
      "function: '__plot_confusion_matrix' finished in 0.27 seconds.\n",
      "function: 'evaluate' finished in 0.4 seconds.\n",
      "\n"
     ]
    },
    {
     "data": {
      "image/png": "[encoded data removed]",
      "text/plain": [
       "<Figure size 432x288 with 2 Axes>"
      ]
     },
     "metadata": {
      "needs_background": "light"
     },
     "output_type": "display_data"
    }
   ],
   "source": [
    "knn = KNN_DM()\n",
    "model = knn.fit(X_train_c.toarray(), y_train, optim=False)\n",
    "y_pred = model.predict(X_test_c.toarray(), y_test)\n",
    "report, accuracy, recall, precision, f1 = model.evaluate()\n",
    "results_cv.append({\n",
    "                'method':\"Upsampling\",\n",
    "                'accuracy': accuracy,\n",
    "                \"recall\": recall,\n",
    "                \"precision\": precision,\n",
    "                \"f1\": f1\n",
    "            })\n",
    "print()"
   ]
  },
  {
   "cell_type": "markdown",
   "id": "d4bd57a2",
   "metadata": {},
   "source": [
    "# 6 All_but_setemming <a class=\"anchor\" id=\"All_but_stemming\"></a>"
   ]
  },
  {
   "cell_type": "code",
   "execution_count": 25,
   "id": "ed41f8e9",
   "metadata": {},
   "outputs": [
    {
     "name": "stderr",
     "output_type": "stream",
     "text": [
      "2022-05-23 11:44:14,351 WARNING Using custom data configuration default\n",
      "2022-05-23 11:44:14,367 WARNING Reusing dataset tweets_hate_speech_detection (C:\\Users\\D073999\\.cache\\huggingface\\datasets\\tweets_hate_speech_detection\\default\\0.0.0\\c6b6f41e91ac9113e1c032c5ecf7a49b4e1e9dc8699ded3c2d8425c9217568b2)\n"
     ]
    },
    {
     "data": {
      "application/vnd.jupyter.widget-view+json": {
       "model_id": "ef61c20e9db0481fa168639276d72ee5",
       "version_major": 2,
       "version_minor": 0
      },
      "text/plain": [
       "  0%|          | 0/1 [00:00<?, ?it/s]"
      ]
     },
     "metadata": {},
     "output_type": "display_data"
    },
    {
     "name": "stdout",
     "output_type": "stream",
     "text": [
      "X_train: 25569, X_test: 6393\n",
      "(25569, 37433)\n",
      "(25569, 37433)\n",
      "(6393, 37433)\n",
      "(6393, 37433)\n"
     ]
    },
    {
     "data": {
      "text/plain": [
       "<25569x37433 sparse matrix of type '<class 'numpy.float64'>'\n",
       "\twith 188772 stored elements in Compressed Sparse Row format>"
      ]
     },
     "execution_count": 25,
     "metadata": {},
     "output_type": "execute_result"
    }
   ],
   "source": [
    "# best results were achieved after the stemming/lemma and count_vectorizer therefore this will be upsampled\n",
    "X_train, X_test, y_train, y_test = featureize(rem_stop=True,\n",
    "                                              do_stem=False,\n",
    "                                              do_lem=False, \n",
    "                                              split=True,\n",
    "                                              upsample=True,\n",
    "                                              do_emojis=True)\n",
    "X_train, X_test, X_train_c, X_test_c = convert_to_tf_idf(X_train, X_test); X_train"
   ]
  },
  {
   "cell_type": "markdown",
   "id": "4bb03137",
   "metadata": {},
   "source": [
    "## 6.1 Using TF-IDF"
   ]
  },
  {
   "cell_type": "markdown",
   "id": "48614347",
   "metadata": {},
   "source": [
    "###  classification, Evaluation & plotting with only tokenization"
   ]
  },
  {
   "cell_type": "code",
   "execution_count": 73,
   "id": "7a24e090",
   "metadata": {},
   "outputs": [
    {
     "name": "stdout",
     "output_type": "stream",
     "text": [
      "----------------------------------------------------------------------------------------------------\n"
     ]
    },
    {
     "data": {
      "text/html": [
       "<h4>[1/5] Started Fitting...</h4>"
      ],
      "text/plain": [
       "<IPython.core.display.HTML object>"
      ]
     },
     "metadata": {},
     "output_type": "display_data"
    },
    {
     "name": "stdout",
     "output_type": "stream",
     "text": [
      "\n",
      "function: 'fit' finished in 4.96 seconds.\n",
      "----------------------------------------------------------------------------------------------------\n"
     ]
    },
    {
     "data": {
      "text/html": [
       "<h4>[2/5] Started Prediction...</h4>"
      ],
      "text/plain": [
       "<IPython.core.display.HTML object>"
      ]
     },
     "metadata": {},
     "output_type": "display_data"
    },
    {
     "name": "stdout",
     "output_type": "stream",
     "text": [
      "head of y_pred is \t[0 0 0 0 0 0]: \n",
      "\n",
      "function: 'predict' finished in 91.74 seconds.\n",
      "----------------------------------------------------------------------------------------------------\n"
     ]
    },
    {
     "data": {
      "text/html": [
       "<h4>[3/5] Started Evaluation...</h4>"
      ],
      "text/plain": [
       "<IPython.core.display.HTML object>"
      ]
     },
     "metadata": {},
     "output_type": "display_data"
    },
    {
     "name": "stdout",
     "output_type": "stream",
     "text": [
      "f1-score:         \t0.30769230769230765 \n",
      "accuracy-score:   \t94.22806194274989 \n",
      "precision-score:  \t0.9647058823529412 \n",
      "recall-score:     \t0.18303571428571427 \n",
      "\n",
      "----------------------------------------------------------------------------------------------------\n"
     ]
    },
    {
     "data": {
      "text/html": [
       "<h4>[4/5] Started creating a report...</h4>"
      ],
      "text/plain": [
       "<IPython.core.display.HTML object>"
      ]
     },
     "metadata": {},
     "output_type": "display_data"
    },
    {
     "data": {
      "text/html": [
       "<div>\n",
       "<style scoped>\n",
       "    .dataframe tbody tr th:only-of-type {\n",
       "        vertical-align: middle;\n",
       "    }\n",
       "\n",
       "    .dataframe tbody tr th {\n",
       "        vertical-align: top;\n",
       "    }\n",
       "\n",
       "    .dataframe thead th {\n",
       "        text-align: right;\n",
       "    }\n",
       "</style>\n",
       "<table border=\"1\" class=\"dataframe\">\n",
       "  <thead>\n",
       "    <tr style=\"text-align: right;\">\n",
       "      <th></th>\n",
       "      <th>precision</th>\n",
       "      <th>recall</th>\n",
       "      <th>f1-score</th>\n",
       "      <th>support</th>\n",
       "    </tr>\n",
       "  </thead>\n",
       "  <tbody>\n",
       "    <tr>\n",
       "      <th>0</th>\n",
       "      <td>0.941978</td>\n",
       "      <td>0.999495</td>\n",
       "      <td>0.969885</td>\n",
       "      <td>5945.000000</td>\n",
       "    </tr>\n",
       "    <tr>\n",
       "      <th>1</th>\n",
       "      <td>0.964706</td>\n",
       "      <td>0.183036</td>\n",
       "      <td>0.307692</td>\n",
       "      <td>448.000000</td>\n",
       "    </tr>\n",
       "    <tr>\n",
       "      <th>accuracy</th>\n",
       "      <td>0.942281</td>\n",
       "      <td>0.942281</td>\n",
       "      <td>0.942281</td>\n",
       "      <td>0.942281</td>\n",
       "    </tr>\n",
       "    <tr>\n",
       "      <th>macro avg</th>\n",
       "      <td>0.953342</td>\n",
       "      <td>0.591266</td>\n",
       "      <td>0.638789</td>\n",
       "      <td>6393.000000</td>\n",
       "    </tr>\n",
       "    <tr>\n",
       "      <th>weighted avg</th>\n",
       "      <td>0.943571</td>\n",
       "      <td>0.942281</td>\n",
       "      <td>0.923481</td>\n",
       "      <td>6393.000000</td>\n",
       "    </tr>\n",
       "  </tbody>\n",
       "</table>\n",
       "</div>"
      ],
      "text/plain": [
       "              precision    recall  f1-score      support\n",
       "0              0.941978  0.999495  0.969885  5945.000000\n",
       "1              0.964706  0.183036  0.307692   448.000000\n",
       "accuracy       0.942281  0.942281  0.942281     0.942281\n",
       "macro avg      0.953342  0.591266  0.638789  6393.000000\n",
       "weighted avg   0.943571  0.942281  0.923481  6393.000000"
      ]
     },
     "metadata": {},
     "output_type": "display_data"
    },
    {
     "name": "stdout",
     "output_type": "stream",
     "text": [
      "\n",
      "function: 'print_report' finished in 0.02 seconds.\n",
      "----------------------------------------------------------------------------------------------------\n"
     ]
    },
    {
     "data": {
      "text/html": [
       "<h4>[5/5] Started plotting the confusion matrix...</h4>"
      ],
      "text/plain": [
       "<IPython.core.display.HTML object>"
      ]
     },
     "metadata": {},
     "output_type": "display_data"
    },
    {
     "name": "stdout",
     "output_type": "stream",
     "text": [
      "Start plotting the confusion matrix...\n",
      "\n",
      "function: '__plot_confusion_matrix' finished in 0.08 seconds.\n",
      "function: 'evaluate' finished in 0.12 seconds.\n",
      "\n"
     ]
    },
    {
     "data": {
      "image/png": "[encoded data removed]",
      "text/plain": [
       "<Figure size 432x288 with 2 Axes>"
      ]
     },
     "metadata": {
      "needs_background": "light"
     },
     "output_type": "display_data"
    }
   ],
   "source": [
    "knn = KNN_DM()\n",
    "model = knn.fit(X_train.toarray(), y_train, optim=False)\n",
    "y_pred = model.predict(X_test.toarray(), y_test)\n",
    "report, accuracy, recall, precision, f1 = model.evaluate()\n",
    "results_tf.append({\n",
    "                'method':\"All_but_stemming\",\n",
    "                'accuracy': accuracy,\n",
    "                \"recall\": recall,\n",
    "                \"precision\": precision,\n",
    "                \"f1\": f1\n",
    "            })\n",
    "print()"
   ]
  },
  {
   "cell_type": "markdown",
   "id": "97081571",
   "metadata": {},
   "source": [
    "## 6 .2 Using Count-Vectroizer"
   ]
  },
  {
   "cell_type": "markdown",
   "id": "c2981246",
   "metadata": {},
   "source": [
    "###  classification, Evaluation & plotting with only tokenization"
   ]
  },
  {
   "cell_type": "code",
   "execution_count": 74,
   "id": "2a894dba",
   "metadata": {},
   "outputs": [
    {
     "name": "stdout",
     "output_type": "stream",
     "text": [
      "----------------------------------------------------------------------------------------------------\n"
     ]
    },
    {
     "data": {
      "text/html": [
       "<h4>[1/5] Started Fitting...</h4>"
      ],
      "text/plain": [
       "<IPython.core.display.HTML object>"
      ]
     },
     "metadata": {},
     "output_type": "display_data"
    },
    {
     "name": "stdout",
     "output_type": "stream",
     "text": [
      "\n",
      "function: 'fit' finished in 7.73 seconds.\n",
      "----------------------------------------------------------------------------------------------------\n"
     ]
    },
    {
     "data": {
      "text/html": [
       "<h4>[2/5] Started Prediction...</h4>"
      ],
      "text/plain": [
       "<IPython.core.display.HTML object>"
      ]
     },
     "metadata": {},
     "output_type": "display_data"
    },
    {
     "name": "stdout",
     "output_type": "stream",
     "text": [
      "head of y_pred is \t[0 0 0 0 0 0]: \n",
      "\n",
      "function: 'predict' finished in 98.13 seconds.\n",
      "----------------------------------------------------------------------------------------------------\n"
     ]
    },
    {
     "data": {
      "text/html": [
       "<h4>[3/5] Started Evaluation...</h4>"
      ],
      "text/plain": [
       "<IPython.core.display.HTML object>"
      ]
     },
     "metadata": {},
     "output_type": "display_data"
    },
    {
     "name": "stdout",
     "output_type": "stream",
     "text": [
      "f1-score:         \t0.30769230769230765 \n",
      "accuracy-score:   \t94.22806194274989 \n",
      "precision-score:  \t0.9647058823529412 \n",
      "recall-score:     \t0.18303571428571427 \n",
      "\n",
      "----------------------------------------------------------------------------------------------------\n"
     ]
    },
    {
     "data": {
      "text/html": [
       "<h4>[4/5] Started creating a report...</h4>"
      ],
      "text/plain": [
       "<IPython.core.display.HTML object>"
      ]
     },
     "metadata": {},
     "output_type": "display_data"
    },
    {
     "data": {
      "text/html": [
       "<div>\n",
       "<style scoped>\n",
       "    .dataframe tbody tr th:only-of-type {\n",
       "        vertical-align: middle;\n",
       "    }\n",
       "\n",
       "    .dataframe tbody tr th {\n",
       "        vertical-align: top;\n",
       "    }\n",
       "\n",
       "    .dataframe thead th {\n",
       "        text-align: right;\n",
       "    }\n",
       "</style>\n",
       "<table border=\"1\" class=\"dataframe\">\n",
       "  <thead>\n",
       "    <tr style=\"text-align: right;\">\n",
       "      <th></th>\n",
       "      <th>precision</th>\n",
       "      <th>recall</th>\n",
       "      <th>f1-score</th>\n",
       "      <th>support</th>\n",
       "    </tr>\n",
       "  </thead>\n",
       "  <tbody>\n",
       "    <tr>\n",
       "      <th>0</th>\n",
       "      <td>0.941978</td>\n",
       "      <td>0.999495</td>\n",
       "      <td>0.969885</td>\n",
       "      <td>5945.000000</td>\n",
       "    </tr>\n",
       "    <tr>\n",
       "      <th>1</th>\n",
       "      <td>0.964706</td>\n",
       "      <td>0.183036</td>\n",
       "      <td>0.307692</td>\n",
       "      <td>448.000000</td>\n",
       "    </tr>\n",
       "    <tr>\n",
       "      <th>accuracy</th>\n",
       "      <td>0.942281</td>\n",
       "      <td>0.942281</td>\n",
       "      <td>0.942281</td>\n",
       "      <td>0.942281</td>\n",
       "    </tr>\n",
       "    <tr>\n",
       "      <th>macro avg</th>\n",
       "      <td>0.953342</td>\n",
       "      <td>0.591266</td>\n",
       "      <td>0.638789</td>\n",
       "      <td>6393.000000</td>\n",
       "    </tr>\n",
       "    <tr>\n",
       "      <th>weighted avg</th>\n",
       "      <td>0.943571</td>\n",
       "      <td>0.942281</td>\n",
       "      <td>0.923481</td>\n",
       "      <td>6393.000000</td>\n",
       "    </tr>\n",
       "  </tbody>\n",
       "</table>\n",
       "</div>"
      ],
      "text/plain": [
       "              precision    recall  f1-score      support\n",
       "0              0.941978  0.999495  0.969885  5945.000000\n",
       "1              0.964706  0.183036  0.307692   448.000000\n",
       "accuracy       0.942281  0.942281  0.942281     0.942281\n",
       "macro avg      0.953342  0.591266  0.638789  6393.000000\n",
       "weighted avg   0.943571  0.942281  0.923481  6393.000000"
      ]
     },
     "metadata": {},
     "output_type": "display_data"
    },
    {
     "name": "stdout",
     "output_type": "stream",
     "text": [
      "\n",
      "function: 'print_report' finished in 0.04 seconds.\n",
      "----------------------------------------------------------------------------------------------------\n"
     ]
    },
    {
     "data": {
      "text/html": [
       "<h4>[5/5] Started plotting the confusion matrix...</h4>"
      ],
      "text/plain": [
       "<IPython.core.display.HTML object>"
      ]
     },
     "metadata": {},
     "output_type": "display_data"
    },
    {
     "name": "stdout",
     "output_type": "stream",
     "text": [
      "Start plotting the confusion matrix...\n",
      "\n",
      "function: '__plot_confusion_matrix' finished in 0.12 seconds.\n",
      "function: 'evaluate' finished in 0.18 seconds.\n",
      "\n"
     ]
    },
    {
     "data": {
      "image/png": "[encoded data removed]",
      "text/plain": [
       "<Figure size 432x288 with 2 Axes>"
      ]
     },
     "metadata": {
      "needs_background": "light"
     },
     "output_type": "display_data"
    }
   ],
   "source": [
    "knn = KNN_DM()\n",
    "model = knn.fit(X_train.toarray(), y_train, optim=False)\n",
    "y_pred = model.predict(X_test.toarray(), y_test)\n",
    "report, accuracy, recall, precision, f1 = model.evaluate()\n",
    "results_cv.append({\n",
    "                'method':\"All_but_stemming\",\n",
    "                'accuracy': accuracy,\n",
    "                \"recall\": recall,\n",
    "                \"precision\": precision,\n",
    "                \"f1\": f1\n",
    "            })\n",
    "print()"
   ]
  },
  {
   "cell_type": "markdown",
   "id": "1985ed7b",
   "metadata": {},
   "source": [
    "# 7 Only remove Emojis <a class=\"anchor\" id=\"rmoji\"></a>"
   ]
  },
  {
   "cell_type": "code",
   "execution_count": 30,
   "id": "1796b875",
   "metadata": {},
   "outputs": [
    {
     "name": "stderr",
     "output_type": "stream",
     "text": [
      "2022-05-26 09:29:14,945 WARNING Using custom data configuration default\n",
      "2022-05-26 09:29:14,969 WARNING Reusing dataset tweets_hate_speech_detection (C:\\Users\\D073999\\.cache\\huggingface\\datasets\\tweets_hate_speech_detection\\default\\0.0.0\\c6b6f41e91ac9113e1c032c5ecf7a49b4e1e9dc8699ded3c2d8425c9217568b2)\n"
     ]
    },
    {
     "data": {
      "application/vnd.jupyter.widget-view+json": {
       "model_id": "d4e10c28cb29428dbf423c62d89a30c4",
       "version_major": 2,
       "version_minor": 0
      },
      "text/plain": [
       "  0%|          | 0/1 [00:00<?, ?it/s]"
      ]
     },
     "metadata": {},
     "output_type": "display_data"
    },
    {
     "name": "stdout",
     "output_type": "stream",
     "text": [
      "X_train: 25569, X_test: 6393\n",
      "(25569, 37433)\n",
      "(25569, 37433)\n",
      "(6393, 37433)\n",
      "(6393, 37433)\n"
     ]
    },
    {
     "data": {
      "text/plain": [
       "<25569x37433 sparse matrix of type '<class 'numpy.float64'>'\n",
       "\twith 188772 stored elements in Compressed Sparse Row format>"
      ]
     },
     "execution_count": 30,
     "metadata": {},
     "output_type": "execute_result"
    }
   ],
   "source": [
    "# best results were achieved after the stemming/lemma and count_vectorizer therefore this will be upsampled\n",
    "X_train, X_test, y_train, y_test = featureize(rem_stop=True,\n",
    "                                              do_stem=False,\n",
    "                                              do_lem=False, \n",
    "                                              split=True,\n",
    "                                              upsample=False,\n",
    "                                              do_emojis=True)\n",
    "X_train, X_test, X_train_c, X_test_c = convert_to_tf_idf(X_train, X_test); X_train"
   ]
  },
  {
   "cell_type": "code",
   "execution_count": 33,
   "id": "a4ffe8a8",
   "metadata": {},
   "outputs": [
    {
     "name": "stdout",
     "output_type": "stream",
     "text": [
      "----------------------------------------------------------------------------------------------------\n"
     ]
    },
    {
     "data": {
      "text/html": [
       "<h4>[1/5] Started Fitting...</h4>"
      ],
      "text/plain": [
       "<IPython.core.display.HTML object>"
      ]
     },
     "metadata": {},
     "output_type": "display_data"
    },
    {
     "name": "stdout",
     "output_type": "stream",
     "text": [
      "\n",
      "function: 'fit' finished in 4.12 seconds.\n",
      "----------------------------------------------------------------------------------------------------\n"
     ]
    },
    {
     "data": {
      "text/html": [
       "<h4>[2/5] Started Prediction...</h4>"
      ],
      "text/plain": [
       "<IPython.core.display.HTML object>"
      ]
     },
     "metadata": {},
     "output_type": "display_data"
    },
    {
     "name": "stdout",
     "output_type": "stream",
     "text": [
      "head of y_pred is \t[0 0 0 0 0 0]: \n",
      "function: 'predict' finished in 52.62 seconds.\n",
      "----------------------------------------------------------------------------------------------------\n"
     ]
    },
    {
     "data": {
      "text/html": [
       "<h4>[3/5] Started Evaluation...</h4>"
      ],
      "text/plain": [
       "<IPython.core.display.HTML object>"
      ]
     },
     "metadata": {},
     "output_type": "display_data"
    },
    {
     "name": "stdout",
     "output_type": "stream",
     "text": [
      "f1-score:         \t0.30769230769230765 \n",
      "accuracy-score:   \t94.22806194274989 \n",
      "precision-score:  \t0.9647058823529412 \n",
      "recall-score:     \t0.18303571428571427 \n",
      "\n",
      "----------------------------------------------------------------------------------------------------\n"
     ]
    },
    {
     "data": {
      "text/html": [
       "<h4>[4/5] Started creating a report...</h4>"
      ],
      "text/plain": [
       "<IPython.core.display.HTML object>"
      ]
     },
     "metadata": {},
     "output_type": "display_data"
    },
    {
     "data": {
      "text/html": [
       "<div>\n",
       "<style scoped>\n",
       "    .dataframe tbody tr th:only-of-type {\n",
       "        vertical-align: middle;\n",
       "    }\n",
       "\n",
       "    .dataframe tbody tr th {\n",
       "        vertical-align: top;\n",
       "    }\n",
       "\n",
       "    .dataframe thead th {\n",
       "        text-align: right;\n",
       "    }\n",
       "</style>\n",
       "<table border=\"1\" class=\"dataframe\">\n",
       "  <thead>\n",
       "    <tr style=\"text-align: right;\">\n",
       "      <th></th>\n",
       "      <th>precision</th>\n",
       "      <th>recall</th>\n",
       "      <th>f1-score</th>\n",
       "      <th>support</th>\n",
       "    </tr>\n",
       "  </thead>\n",
       "  <tbody>\n",
       "    <tr>\n",
       "      <th>0</th>\n",
       "      <td>0.941978</td>\n",
       "      <td>0.999495</td>\n",
       "      <td>0.969885</td>\n",
       "      <td>5945.000000</td>\n",
       "    </tr>\n",
       "    <tr>\n",
       "      <th>1</th>\n",
       "      <td>0.964706</td>\n",
       "      <td>0.183036</td>\n",
       "      <td>0.307692</td>\n",
       "      <td>448.000000</td>\n",
       "    </tr>\n",
       "    <tr>\n",
       "      <th>accuracy</th>\n",
       "      <td>0.942281</td>\n",
       "      <td>0.942281</td>\n",
       "      <td>0.942281</td>\n",
       "      <td>0.942281</td>\n",
       "    </tr>\n",
       "    <tr>\n",
       "      <th>macro avg</th>\n",
       "      <td>0.953342</td>\n",
       "      <td>0.591266</td>\n",
       "      <td>0.638789</td>\n",
       "      <td>6393.000000</td>\n",
       "    </tr>\n",
       "    <tr>\n",
       "      <th>weighted avg</th>\n",
       "      <td>0.943571</td>\n",
       "      <td>0.942281</td>\n",
       "      <td>0.923481</td>\n",
       "      <td>6393.000000</td>\n",
       "    </tr>\n",
       "  </tbody>\n",
       "</table>\n",
       "</div>"
      ],
      "text/plain": [
       "              precision    recall  f1-score      support\n",
       "0              0.941978  0.999495  0.969885  5945.000000\n",
       "1              0.964706  0.183036  0.307692   448.000000\n",
       "accuracy       0.942281  0.942281  0.942281     0.942281\n",
       "macro avg      0.953342  0.591266  0.638789  6393.000000\n",
       "weighted avg   0.943571  0.942281  0.923481  6393.000000"
      ]
     },
     "metadata": {},
     "output_type": "display_data"
    },
    {
     "name": "stdout",
     "output_type": "stream",
     "text": [
      "\n",
      "function: 'print_report' finished in 0.05 seconds.\n",
      "----------------------------------------------------------------------------------------------------\n"
     ]
    },
    {
     "data": {
      "text/html": [
       "<h4>[5/5] Started plotting the confusion matrix...</h4>"
      ],
      "text/plain": [
       "<IPython.core.display.HTML object>"
      ]
     },
     "metadata": {},
     "output_type": "display_data"
    },
    {
     "name": "stdout",
     "output_type": "stream",
     "text": [
      "Start plotting the confusion matrix...\n",
      "\n",
      "function: '__plot_confusion_matrix' finished in 0.13 seconds.\n",
      "function: 'evaluate' finished in 0.2 seconds.\n",
      "\n"
     ]
    },
    {
     "data": {
      "image/png": "[encoded data removed]",
      "text/plain": [
       "<Figure size 432x288 with 2 Axes>"
      ]
     },
     "metadata": {
      "needs_background": "light"
     },
     "output_type": "display_data"
    }
   ],
   "source": [
    "knn = KNN_DM()\n",
    "model = knn.fit(X_train.toarray(), y_train, optim=False)\n",
    "y_pred = model.predict(X_test.toarray(), y_test)\n",
    "report, accuracy, recall, precision, f1 = model.evaluate()\n",
    "results_cv.append({\n",
    "                'method':\"All_but_stemming\",\n",
    "                'accuracy': accuracy,\n",
    "                \"recall\": recall,\n",
    "                \"precision\": precision,\n",
    "                \"f1\": f1\n",
    "            })\n",
    "print()"
   ]
  },
  {
   "cell_type": "markdown",
   "id": "8d5f5eea",
   "metadata": {},
   "source": [
    "# Results <a class=\"anchor\" id=\"results\"></a>"
   ]
  },
  {
   "cell_type": "code",
   "execution_count": 75,
   "id": "9a735878",
   "metadata": {
    "id": "9a735878"
   },
   "outputs": [],
   "source": [
    "results_tf = pd.DataFrame(results_tf)\n",
    "results_cv = pd.DataFrame(results_cv)"
   ]
  },
  {
   "cell_type": "code",
   "execution_count": 76,
   "id": "220c9336",
   "metadata": {
    "id": "220c9336",
    "outputId": "4c92c11b-a0c9-4f22-a445-927d99301c6d"
   },
   "outputs": [
    {
     "data": {
      "text/html": [
       "<h2> Results using TF-IDF</h2>"
      ],
      "text/plain": [
       "<IPython.core.display.HTML object>"
      ]
     },
     "metadata": {},
     "output_type": "display_data"
    },
    {
     "data": {
      "text/html": [
       "<div>\n",
       "<style scoped>\n",
       "    .dataframe tbody tr th:only-of-type {\n",
       "        vertical-align: middle;\n",
       "    }\n",
       "\n",
       "    .dataframe tbody tr th {\n",
       "        vertical-align: top;\n",
       "    }\n",
       "\n",
       "    .dataframe thead th {\n",
       "        text-align: right;\n",
       "    }\n",
       "</style>\n",
       "<table border=\"1\" class=\"dataframe\">\n",
       "  <thead>\n",
       "    <tr style=\"text-align: right;\">\n",
       "      <th></th>\n",
       "      <th>method</th>\n",
       "      <th>accuracy</th>\n",
       "      <th>recall</th>\n",
       "      <th>precision</th>\n",
       "      <th>f1</th>\n",
       "    </tr>\n",
       "  </thead>\n",
       "  <tbody>\n",
       "    <tr>\n",
       "      <th>0</th>\n",
       "      <td>tokenization</td>\n",
       "      <td>94.243704</td>\n",
       "      <td>0.183036</td>\n",
       "      <td>0.976190</td>\n",
       "      <td>0.308271</td>\n",
       "    </tr>\n",
       "    <tr>\n",
       "      <th>1</th>\n",
       "      <td>Stopwords removal</td>\n",
       "      <td>94.228062</td>\n",
       "      <td>0.183036</td>\n",
       "      <td>0.964706</td>\n",
       "      <td>0.307692</td>\n",
       "    </tr>\n",
       "    <tr>\n",
       "      <th>2</th>\n",
       "      <td>Stemming</td>\n",
       "      <td>94.243704</td>\n",
       "      <td>0.185268</td>\n",
       "      <td>0.965116</td>\n",
       "      <td>0.310861</td>\n",
       "    </tr>\n",
       "    <tr>\n",
       "      <th>3</th>\n",
       "      <td>lemmitization</td>\n",
       "      <td>94.274988</td>\n",
       "      <td>0.187500</td>\n",
       "      <td>0.976744</td>\n",
       "      <td>0.314607</td>\n",
       "    </tr>\n",
       "    <tr>\n",
       "      <th>4</th>\n",
       "      <td>Upsampling</td>\n",
       "      <td>94.243704</td>\n",
       "      <td>0.185268</td>\n",
       "      <td>0.965116</td>\n",
       "      <td>0.310861</td>\n",
       "    </tr>\n",
       "    <tr>\n",
       "      <th>5</th>\n",
       "      <td>All_but_stemming</td>\n",
       "      <td>94.228062</td>\n",
       "      <td>0.183036</td>\n",
       "      <td>0.964706</td>\n",
       "      <td>0.307692</td>\n",
       "    </tr>\n",
       "  </tbody>\n",
       "</table>\n",
       "</div>"
      ],
      "text/plain": [
       "              method   accuracy    recall  precision        f1\n",
       "0       tokenization  94.243704  0.183036   0.976190  0.308271\n",
       "1  Stopwords removal  94.228062  0.183036   0.964706  0.307692\n",
       "2           Stemming  94.243704  0.185268   0.965116  0.310861\n",
       "3      lemmitization  94.274988  0.187500   0.976744  0.314607\n",
       "4         Upsampling  94.243704  0.185268   0.965116  0.310861\n",
       "5   All_but_stemming  94.228062  0.183036   0.964706  0.307692"
      ]
     },
     "metadata": {},
     "output_type": "display_data"
    },
    {
     "name": "stdout",
     "output_type": "stream",
     "text": [
      "\n"
     ]
    },
    {
     "data": {
      "text/html": [
       "<h2> Results using Countervectorizer</h2>"
      ],
      "text/plain": [
       "<IPython.core.display.HTML object>"
      ]
     },
     "metadata": {},
     "output_type": "display_data"
    },
    {
     "data": {
      "text/html": [
       "<div>\n",
       "<style scoped>\n",
       "    .dataframe tbody tr th:only-of-type {\n",
       "        vertical-align: middle;\n",
       "    }\n",
       "\n",
       "    .dataframe tbody tr th {\n",
       "        vertical-align: top;\n",
       "    }\n",
       "\n",
       "    .dataframe thead th {\n",
       "        text-align: right;\n",
       "    }\n",
       "</style>\n",
       "<table border=\"1\" class=\"dataframe\">\n",
       "  <thead>\n",
       "    <tr style=\"text-align: right;\">\n",
       "      <th></th>\n",
       "      <th>method</th>\n",
       "      <th>accuracy</th>\n",
       "      <th>recall</th>\n",
       "      <th>precision</th>\n",
       "      <th>f1</th>\n",
       "    </tr>\n",
       "  </thead>\n",
       "  <tbody>\n",
       "    <tr>\n",
       "      <th>0</th>\n",
       "      <td>tokenization</td>\n",
       "      <td>94.353199</td>\n",
       "      <td>0.200893</td>\n",
       "      <td>0.967742</td>\n",
       "      <td>0.332717</td>\n",
       "    </tr>\n",
       "    <tr>\n",
       "      <th>1</th>\n",
       "      <td>Stopwords removal</td>\n",
       "      <td>94.321915</td>\n",
       "      <td>0.200893</td>\n",
       "      <td>0.947368</td>\n",
       "      <td>0.331492</td>\n",
       "    </tr>\n",
       "    <tr>\n",
       "      <th>2</th>\n",
       "      <td>Stemming</td>\n",
       "      <td>94.384483</td>\n",
       "      <td>0.212054</td>\n",
       "      <td>0.940594</td>\n",
       "      <td>0.346084</td>\n",
       "    </tr>\n",
       "    <tr>\n",
       "      <th>3</th>\n",
       "      <td>lemmitization</td>\n",
       "      <td>94.321915</td>\n",
       "      <td>0.207589</td>\n",
       "      <td>0.920792</td>\n",
       "      <td>0.338798</td>\n",
       "    </tr>\n",
       "    <tr>\n",
       "      <th>4</th>\n",
       "      <td>Upsampling</td>\n",
       "      <td>94.384483</td>\n",
       "      <td>0.212054</td>\n",
       "      <td>0.940594</td>\n",
       "      <td>0.346084</td>\n",
       "    </tr>\n",
       "    <tr>\n",
       "      <th>5</th>\n",
       "      <td>All_but_stemming</td>\n",
       "      <td>94.228062</td>\n",
       "      <td>0.183036</td>\n",
       "      <td>0.964706</td>\n",
       "      <td>0.307692</td>\n",
       "    </tr>\n",
       "  </tbody>\n",
       "</table>\n",
       "</div>"
      ],
      "text/plain": [
       "              method   accuracy    recall  precision        f1\n",
       "0       tokenization  94.353199  0.200893   0.967742  0.332717\n",
       "1  Stopwords removal  94.321915  0.200893   0.947368  0.331492\n",
       "2           Stemming  94.384483  0.212054   0.940594  0.346084\n",
       "3      lemmitization  94.321915  0.207589   0.920792  0.338798\n",
       "4         Upsampling  94.384483  0.212054   0.940594  0.346084\n",
       "5   All_but_stemming  94.228062  0.183036   0.964706  0.307692"
      ]
     },
     "metadata": {},
     "output_type": "display_data"
    }
   ],
   "source": [
    "display(HTML(\"<h2> Results using TF-IDF</h2>\"))\n",
    "display(results_tf)\n",
    "print()\n",
    "display(HTML(\"<h2> Results using Countervectorizer</h2>\"))\n",
    "display(results_cv)"
   ]
  },
  {
   "cell_type": "code",
   "execution_count": 83,
   "id": "af168176",
   "metadata": {},
   "outputs": [
    {
     "name": "stderr",
     "output_type": "stream",
     "text": [
      "2022-05-22 12:47:56,205 WARNING Using custom data configuration default\n",
      "2022-05-22 12:47:56,212 WARNING Reusing dataset tweets_hate_speech_detection (C:\\Users\\D073999\\.cache\\huggingface\\datasets\\tweets_hate_speech_detection\\default\\0.0.0\\c6b6f41e91ac9113e1c032c5ecf7a49b4e1e9dc8699ded3c2d8425c9217568b2)\n"
     ]
    },
    {
     "data": {
      "application/vnd.jupyter.widget-view+json": {
       "model_id": "9c31b6004b6a4dfaa5ba72eee3a3ce0e",
       "version_major": 2,
       "version_minor": 0
      },
      "text/plain": [
       "  0%|          | 0/1 [00:00<?, ?it/s]"
      ]
     },
     "metadata": {},
     "output_type": "display_data"
    },
    {
     "name": "stdout",
     "output_type": "stream",
     "text": [
      "X_train: 25569, X_test: 6393\n",
      "(25569, 32129)\n",
      "(25569, 32129)\n",
      "(6393, 32129)\n",
      "(6393, 32129)\n",
      "----------------------------------------------------------------------------------------------------\n"
     ]
    },
    {
     "data": {
      "text/html": [
       "<h4>[1/5] Started Fitting...</h4>"
      ],
      "text/plain": [
       "<IPython.core.display.HTML object>"
      ]
     },
     "metadata": {},
     "output_type": "display_data"
    },
    {
     "name": "stdout",
     "output_type": "stream",
     "text": [
      "\n",
      "function: 'fit' finished in 9.98 seconds.\n",
      "----------------------------------------------------------------------------------------------------\n"
     ]
    },
    {
     "data": {
      "text/html": [
       "<h4>[2/5] Started Prediction...</h4>"
      ],
      "text/plain": [
       "<IPython.core.display.HTML object>"
      ]
     },
     "metadata": {},
     "output_type": "display_data"
    },
    {
     "name": "stdout",
     "output_type": "stream",
     "text": [
      "head of y_pred is \t[0 0 0 0 0 0]: \n",
      "f1-score:         \t0.5181219110378913 \n",
      "accuracy-score:   \t95.42414642731433 \n",
      "precision-score:  \t0.9921135646687698 \n",
      "recall-score:     \t0.35061315496098105 \n",
      "\n",
      "function: 'predict' finished in 354.7 seconds.\n",
      "----------------------------------------------------------------------------------------------------\n"
     ]
    },
    {
     "data": {
      "text/html": [
       "<h4>[3/5] Started Evaluation...</h4>"
      ],
      "text/plain": [
       "<IPython.core.display.HTML object>"
      ]
     },
     "metadata": {},
     "output_type": "display_data"
    },
    {
     "name": "stdout",
     "output_type": "stream",
     "text": [
      "f1-score:         \t0.5181219110378913 \n",
      "accuracy-score:   \t95.42414642731433 \n",
      "precision-score:  \t0.9921135646687698 \n",
      "recall-score:     \t0.35061315496098105 \n",
      "\n",
      "----------------------------------------------------------------------------------------------------\n"
     ]
    },
    {
     "data": {
      "text/html": [
       "<h4>[4/5] Started creating a report...</h4>"
      ],
      "text/plain": [
       "<IPython.core.display.HTML object>"
      ]
     },
     "metadata": {},
     "output_type": "display_data"
    },
    {
     "data": {
      "text/html": [
       "<div>\n",
       "<style scoped>\n",
       "    .dataframe tbody tr th:only-of-type {\n",
       "        vertical-align: middle;\n",
       "    }\n",
       "\n",
       "    .dataframe tbody tr th {\n",
       "        vertical-align: top;\n",
       "    }\n",
       "\n",
       "    .dataframe thead th {\n",
       "        text-align: right;\n",
       "    }\n",
       "</style>\n",
       "<table border=\"1\" class=\"dataframe\">\n",
       "  <thead>\n",
       "    <tr style=\"text-align: right;\">\n",
       "      <th></th>\n",
       "      <th>precision</th>\n",
       "      <th>recall</th>\n",
       "      <th>f1-score</th>\n",
       "      <th>support</th>\n",
       "    </tr>\n",
       "  </thead>\n",
       "  <tbody>\n",
       "    <tr>\n",
       "      <th>0</th>\n",
       "      <td>0.953279</td>\n",
       "      <td>0.999790</td>\n",
       "      <td>0.975980</td>\n",
       "      <td>23775.000000</td>\n",
       "    </tr>\n",
       "    <tr>\n",
       "      <th>1</th>\n",
       "      <td>0.992114</td>\n",
       "      <td>0.350613</td>\n",
       "      <td>0.518122</td>\n",
       "      <td>1794.000000</td>\n",
       "    </tr>\n",
       "    <tr>\n",
       "      <th>accuracy</th>\n",
       "      <td>0.954241</td>\n",
       "      <td>0.954241</td>\n",
       "      <td>0.954241</td>\n",
       "      <td>0.954241</td>\n",
       "    </tr>\n",
       "    <tr>\n",
       "      <th>macro avg</th>\n",
       "      <td>0.972696</td>\n",
       "      <td>0.675201</td>\n",
       "      <td>0.747051</td>\n",
       "      <td>25569.000000</td>\n",
       "    </tr>\n",
       "    <tr>\n",
       "      <th>weighted avg</th>\n",
       "      <td>0.956003</td>\n",
       "      <td>0.954241</td>\n",
       "      <td>0.943856</td>\n",
       "      <td>25569.000000</td>\n",
       "    </tr>\n",
       "  </tbody>\n",
       "</table>\n",
       "</div>"
      ],
      "text/plain": [
       "              precision    recall  f1-score       support\n",
       "0              0.953279  0.999790  0.975980  23775.000000\n",
       "1              0.992114  0.350613  0.518122   1794.000000\n",
       "accuracy       0.954241  0.954241  0.954241      0.954241\n",
       "macro avg      0.972696  0.675201  0.747051  25569.000000\n",
       "weighted avg   0.956003  0.954241  0.943856  25569.000000"
      ]
     },
     "metadata": {},
     "output_type": "display_data"
    },
    {
     "name": "stdout",
     "output_type": "stream",
     "text": [
      "\n",
      "function: 'print_report' finished in 0.16 seconds.\n",
      "----------------------------------------------------------------------------------------------------\n"
     ]
    },
    {
     "data": {
      "text/html": [
       "<h4>[5/5] Started plotting the confusion matrix...</h4>"
      ],
      "text/plain": [
       "<IPython.core.display.HTML object>"
      ]
     },
     "metadata": {},
     "output_type": "display_data"
    },
    {
     "name": "stdout",
     "output_type": "stream",
     "text": [
      "Start plotting the confusion matrix...\n",
      "\n",
      "function: '__plot_confusion_matrix' finished in 0.34 seconds.\n",
      "function: 'evaluate' finished in 0.57 seconds.\n",
      "\n"
     ]
    },
    {
     "data": {
      "image/png": "[encoded data removed]",
      "text/plain": [
       "<Figure size 432x288 with 2 Axes>"
      ]
     },
     "metadata": {
      "needs_background": "light"
     },
     "output_type": "display_data"
    }
   ],
   "source": [
    "# best results were achieved after the stemming/lemma and upsampling and counvectorizer\n",
    "#check train and test error\n",
    "X_train, X_test, y_train, y_test = featureize(rem_stop=True,\n",
    "                                              do_stem=True,\n",
    "                                              do_lem=False, \n",
    "                                              split=True,\n",
    "                                              upsample=True,\n",
    "                                              do_emojis=False)\n",
    "X_train, X_test, X_train_c, X_test_c = convert_to_tf_idf(X_train, X_test); X_train\n",
    "knn = KNN_DM()\n",
    "model = knn.fit(X_train.toarray(), y_train, optim=False)\n",
    "y_pred = model.predict(X_train.toarray(), y_train)\n",
    "report, accuracy, recall, precision, f1 = model.evaluate()\n",
    "print()"
   ]
  },
  {
   "cell_type": "markdown",
   "id": "94aa8d4e",
   "metadata": {
    "id": "94aa8d4e"
   },
   "source": [
    "# Hyperparameter optimization <a class=\"anchor\" id=\"tunning\"></a>"
   ]
  },
  {
   "cell_type": "code",
   "execution_count": 95,
   "id": "ef1ca944",
   "metadata": {
    "id": "ef1ca944",
    "outputId": "56b9b038-905d-4af1-ab1b-c79ddfa74f06"
   },
   "outputs": [],
   "source": [
    "#switch to the original knn, because some metric are not included in knn_dm e.x p\n",
    "knn = KNeighborsClassifier()"
   ]
  },
  {
   "cell_type": "code",
   "execution_count": 96,
   "id": "94c9a073",
   "metadata": {},
   "outputs": [
    {
     "name": "stdout",
     "output_type": "stream",
     "text": [
      "Fitting 10 folds for each of 90 candidates, totalling 900 fits\n"
     ]
    },
    {
     "data": {
      "text/html": [
       "<div>\n",
       "<style scoped>\n",
       "    .dataframe tbody tr th:only-of-type {\n",
       "        vertical-align: middle;\n",
       "    }\n",
       "\n",
       "    .dataframe tbody tr th {\n",
       "        vertical-align: top;\n",
       "    }\n",
       "\n",
       "    .dataframe thead th {\n",
       "        text-align: right;\n",
       "    }\n",
       "</style>\n",
       "<table border=\"1\" class=\"dataframe\">\n",
       "  <thead>\n",
       "    <tr style=\"text-align: right;\">\n",
       "      <th></th>\n",
       "      <th>mean_fit_time</th>\n",
       "      <th>std_fit_time</th>\n",
       "      <th>mean_score_time</th>\n",
       "      <th>std_score_time</th>\n",
       "      <th>param_algorithm</th>\n",
       "      <th>param_n_neighbors</th>\n",
       "      <th>param_p</th>\n",
       "      <th>param_weights</th>\n",
       "      <th>params</th>\n",
       "      <th>split0_test_score</th>\n",
       "      <th>...</th>\n",
       "      <th>split3_test_score</th>\n",
       "      <th>split4_test_score</th>\n",
       "      <th>split5_test_score</th>\n",
       "      <th>split6_test_score</th>\n",
       "      <th>split7_test_score</th>\n",
       "      <th>split8_test_score</th>\n",
       "      <th>split9_test_score</th>\n",
       "      <th>mean_test_score</th>\n",
       "      <th>std_test_score</th>\n",
       "      <th>rank_test_score</th>\n",
       "    </tr>\n",
       "  </thead>\n",
       "  <tbody>\n",
       "    <tr>\n",
       "      <th>0</th>\n",
       "      <td>0.057900</td>\n",
       "      <td>0.065501</td>\n",
       "      <td>8.318176</td>\n",
       "      <td>0.455068</td>\n",
       "      <td>ball_tree</td>\n",
       "      <td>2</td>\n",
       "      <td>1</td>\n",
       "      <td>uniform</td>\n",
       "      <td>{'algorithm': 'ball_tree', 'n_neighbors': 2, '...</td>\n",
       "      <td>0.614845</td>\n",
       "      <td>...</td>\n",
       "      <td>0.671316</td>\n",
       "      <td>0.643981</td>\n",
       "      <td>0.635034</td>\n",
       "      <td>0.646281</td>\n",
       "      <td>0.635848</td>\n",
       "      <td>0.635848</td>\n",
       "      <td>0.663674</td>\n",
       "      <td>0.640191</td>\n",
       "      <td>0.016227</td>\n",
       "      <td>31</td>\n",
       "    </tr>\n",
       "    <tr>\n",
       "      <th>1</th>\n",
       "      <td>0.058199</td>\n",
       "      <td>0.032361</td>\n",
       "      <td>9.119041</td>\n",
       "      <td>0.615112</td>\n",
       "      <td>ball_tree</td>\n",
       "      <td>2</td>\n",
       "      <td>1</td>\n",
       "      <td>distance</td>\n",
       "      <td>{'algorithm': 'ball_tree', 'n_neighbors': 2, '...</td>\n",
       "      <td>0.719129</td>\n",
       "      <td>...</td>\n",
       "      <td>0.749564</td>\n",
       "      <td>0.727706</td>\n",
       "      <td>0.717006</td>\n",
       "      <td>0.745050</td>\n",
       "      <td>0.747291</td>\n",
       "      <td>0.691083</td>\n",
       "      <td>0.772143</td>\n",
       "      <td>0.731490</td>\n",
       "      <td>0.021481</td>\n",
       "      <td>4</td>\n",
       "    </tr>\n",
       "    <tr>\n",
       "      <th>2</th>\n",
       "      <td>0.046799</td>\n",
       "      <td>0.034180</td>\n",
       "      <td>3.484859</td>\n",
       "      <td>0.393268</td>\n",
       "      <td>ball_tree</td>\n",
       "      <td>2</td>\n",
       "      <td>2</td>\n",
       "      <td>uniform</td>\n",
       "      <td>{'algorithm': 'ball_tree', 'n_neighbors': 2, '...</td>\n",
       "      <td>0.623364</td>\n",
       "      <td>...</td>\n",
       "      <td>0.676896</td>\n",
       "      <td>0.660719</td>\n",
       "      <td>0.643136</td>\n",
       "      <td>0.646281</td>\n",
       "      <td>0.643136</td>\n",
       "      <td>0.639933</td>\n",
       "      <td>0.667509</td>\n",
       "      <td>0.648860</td>\n",
       "      <td>0.015555</td>\n",
       "      <td>25</td>\n",
       "    </tr>\n",
       "    <tr>\n",
       "      <th>3</th>\n",
       "      <td>0.042099</td>\n",
       "      <td>0.019036</td>\n",
       "      <td>3.525557</td>\n",
       "      <td>0.379054</td>\n",
       "      <td>ball_tree</td>\n",
       "      <td>2</td>\n",
       "      <td>2</td>\n",
       "      <td>distance</td>\n",
       "      <td>{'algorithm': 'ball_tree', 'n_neighbors': 2, '...</td>\n",
       "      <td>0.717006</td>\n",
       "      <td>...</td>\n",
       "      <td>0.763250</td>\n",
       "      <td>0.731928</td>\n",
       "      <td>0.717106</td>\n",
       "      <td>0.735747</td>\n",
       "      <td>0.746922</td>\n",
       "      <td>0.697766</td>\n",
       "      <td>0.763857</td>\n",
       "      <td>0.733416</td>\n",
       "      <td>0.019890</td>\n",
       "      <td>1</td>\n",
       "    </tr>\n",
       "    <tr>\n",
       "      <th>4</th>\n",
       "      <td>0.119299</td>\n",
       "      <td>0.147243</td>\n",
       "      <td>0.000000</td>\n",
       "      <td>0.000000</td>\n",
       "      <td>ball_tree</td>\n",
       "      <td>2</td>\n",
       "      <td>5</td>\n",
       "      <td>uniform</td>\n",
       "      <td>{'algorithm': 'ball_tree', 'n_neighbors': 2, '...</td>\n",
       "      <td>NaN</td>\n",
       "      <td>...</td>\n",
       "      <td>NaN</td>\n",
       "      <td>NaN</td>\n",
       "      <td>NaN</td>\n",
       "      <td>NaN</td>\n",
       "      <td>NaN</td>\n",
       "      <td>NaN</td>\n",
       "      <td>NaN</td>\n",
       "      <td>NaN</td>\n",
       "      <td>NaN</td>\n",
       "      <td>67</td>\n",
       "    </tr>\n",
       "    <tr>\n",
       "      <th>...</th>\n",
       "      <td>...</td>\n",
       "      <td>...</td>\n",
       "      <td>...</td>\n",
       "      <td>...</td>\n",
       "      <td>...</td>\n",
       "      <td>...</td>\n",
       "      <td>...</td>\n",
       "      <td>...</td>\n",
       "      <td>...</td>\n",
       "      <td>...</td>\n",
       "      <td>...</td>\n",
       "      <td>...</td>\n",
       "      <td>...</td>\n",
       "      <td>...</td>\n",
       "      <td>...</td>\n",
       "      <td>...</td>\n",
       "      <td>...</td>\n",
       "      <td>...</td>\n",
       "      <td>...</td>\n",
       "      <td>...</td>\n",
       "      <td>...</td>\n",
       "    </tr>\n",
       "    <tr>\n",
       "      <th>85</th>\n",
       "      <td>0.007801</td>\n",
       "      <td>0.003092</td>\n",
       "      <td>8.663470</td>\n",
       "      <td>0.392306</td>\n",
       "      <td>brute</td>\n",
       "      <td>30</td>\n",
       "      <td>1</td>\n",
       "      <td>distance</td>\n",
       "      <td>{'algorithm': 'brute', 'n_neighbors': 30, 'p':...</td>\n",
       "      <td>0.597982</td>\n",
       "      <td>...</td>\n",
       "      <td>0.632529</td>\n",
       "      <td>0.652847</td>\n",
       "      <td>0.619124</td>\n",
       "      <td>0.627564</td>\n",
       "      <td>0.623364</td>\n",
       "      <td>0.614845</td>\n",
       "      <td>0.636662</td>\n",
       "      <td>0.621397</td>\n",
       "      <td>0.016727</td>\n",
       "      <td>40</td>\n",
       "    </tr>\n",
       "    <tr>\n",
       "      <th>86</th>\n",
       "      <td>0.013300</td>\n",
       "      <td>0.004797</td>\n",
       "      <td>3.765271</td>\n",
       "      <td>0.228174</td>\n",
       "      <td>brute</td>\n",
       "      <td>30</td>\n",
       "      <td>2</td>\n",
       "      <td>uniform</td>\n",
       "      <td>{'algorithm': 'brute', 'n_neighbors': 30, 'p':...</td>\n",
       "      <td>0.530259</td>\n",
       "      <td>...</td>\n",
       "      <td>0.570265</td>\n",
       "      <td>0.574999</td>\n",
       "      <td>0.540427</td>\n",
       "      <td>0.550389</td>\n",
       "      <td>0.550389</td>\n",
       "      <td>0.529903</td>\n",
       "      <td>0.560646</td>\n",
       "      <td>0.549336</td>\n",
       "      <td>0.016575</td>\n",
       "      <td>58</td>\n",
       "    </tr>\n",
       "    <tr>\n",
       "      <th>87</th>\n",
       "      <td>0.013800</td>\n",
       "      <td>0.006523</td>\n",
       "      <td>3.543843</td>\n",
       "      <td>0.420425</td>\n",
       "      <td>brute</td>\n",
       "      <td>30</td>\n",
       "      <td>2</td>\n",
       "      <td>distance</td>\n",
       "      <td>{'algorithm': 'brute', 'n_neighbors': 30, 'p':...</td>\n",
       "      <td>0.597982</td>\n",
       "      <td>...</td>\n",
       "      <td>0.636668</td>\n",
       "      <td>0.644832</td>\n",
       "      <td>0.619124</td>\n",
       "      <td>0.619124</td>\n",
       "      <td>0.610525</td>\n",
       "      <td>0.601082</td>\n",
       "      <td>0.636662</td>\n",
       "      <td>0.617072</td>\n",
       "      <td>0.016735</td>\n",
       "      <td>46</td>\n",
       "    </tr>\n",
       "    <tr>\n",
       "      <th>88</th>\n",
       "      <td>0.010198</td>\n",
       "      <td>0.002137</td>\n",
       "      <td>0.000000</td>\n",
       "      <td>0.000000</td>\n",
       "      <td>brute</td>\n",
       "      <td>30</td>\n",
       "      <td>5</td>\n",
       "      <td>uniform</td>\n",
       "      <td>{'algorithm': 'brute', 'n_neighbors': 30, 'p':...</td>\n",
       "      <td>NaN</td>\n",
       "      <td>...</td>\n",
       "      <td>NaN</td>\n",
       "      <td>NaN</td>\n",
       "      <td>NaN</td>\n",
       "      <td>NaN</td>\n",
       "      <td>NaN</td>\n",
       "      <td>NaN</td>\n",
       "      <td>NaN</td>\n",
       "      <td>NaN</td>\n",
       "      <td>NaN</td>\n",
       "      <td>77</td>\n",
       "    </tr>\n",
       "    <tr>\n",
       "      <th>89</th>\n",
       "      <td>0.011700</td>\n",
       "      <td>0.005001</td>\n",
       "      <td>0.000000</td>\n",
       "      <td>0.000000</td>\n",
       "      <td>brute</td>\n",
       "      <td>30</td>\n",
       "      <td>5</td>\n",
       "      <td>distance</td>\n",
       "      <td>{'algorithm': 'brute', 'n_neighbors': 30, 'p':...</td>\n",
       "      <td>NaN</td>\n",
       "      <td>...</td>\n",
       "      <td>NaN</td>\n",
       "      <td>NaN</td>\n",
       "      <td>NaN</td>\n",
       "      <td>NaN</td>\n",
       "      <td>NaN</td>\n",
       "      <td>NaN</td>\n",
       "      <td>NaN</td>\n",
       "      <td>NaN</td>\n",
       "      <td>NaN</td>\n",
       "      <td>90</td>\n",
       "    </tr>\n",
       "  </tbody>\n",
       "</table>\n",
       "<p>90 rows × 22 columns</p>\n",
       "</div>"
      ],
      "text/plain": [
       "    mean_fit_time  std_fit_time  mean_score_time  std_score_time  \\\n",
       "0        0.057900      0.065501         8.318176        0.455068   \n",
       "1        0.058199      0.032361         9.119041        0.615112   \n",
       "2        0.046799      0.034180         3.484859        0.393268   \n",
       "3        0.042099      0.019036         3.525557        0.379054   \n",
       "4        0.119299      0.147243         0.000000        0.000000   \n",
       "..            ...           ...              ...             ...   \n",
       "85       0.007801      0.003092         8.663470        0.392306   \n",
       "86       0.013300      0.004797         3.765271        0.228174   \n",
       "87       0.013800      0.006523         3.543843        0.420425   \n",
       "88       0.010198      0.002137         0.000000        0.000000   \n",
       "89       0.011700      0.005001         0.000000        0.000000   \n",
       "\n",
       "   param_algorithm param_n_neighbors param_p param_weights  \\\n",
       "0        ball_tree                 2       1       uniform   \n",
       "1        ball_tree                 2       1      distance   \n",
       "2        ball_tree                 2       2       uniform   \n",
       "3        ball_tree                 2       2      distance   \n",
       "4        ball_tree                 2       5       uniform   \n",
       "..             ...               ...     ...           ...   \n",
       "85           brute                30       1      distance   \n",
       "86           brute                30       2       uniform   \n",
       "87           brute                30       2      distance   \n",
       "88           brute                30       5       uniform   \n",
       "89           brute                30       5      distance   \n",
       "\n",
       "                                               params  split0_test_score  ...  \\\n",
       "0   {'algorithm': 'ball_tree', 'n_neighbors': 2, '...           0.614845  ...   \n",
       "1   {'algorithm': 'ball_tree', 'n_neighbors': 2, '...           0.719129  ...   \n",
       "2   {'algorithm': 'ball_tree', 'n_neighbors': 2, '...           0.623364  ...   \n",
       "3   {'algorithm': 'ball_tree', 'n_neighbors': 2, '...           0.717006  ...   \n",
       "4   {'algorithm': 'ball_tree', 'n_neighbors': 2, '...                NaN  ...   \n",
       "..                                                ...                ...  ...   \n",
       "85  {'algorithm': 'brute', 'n_neighbors': 30, 'p':...           0.597982  ...   \n",
       "86  {'algorithm': 'brute', 'n_neighbors': 30, 'p':...           0.530259  ...   \n",
       "87  {'algorithm': 'brute', 'n_neighbors': 30, 'p':...           0.597982  ...   \n",
       "88  {'algorithm': 'brute', 'n_neighbors': 30, 'p':...                NaN  ...   \n",
       "89  {'algorithm': 'brute', 'n_neighbors': 30, 'p':...                NaN  ...   \n",
       "\n",
       "    split3_test_score  split4_test_score  split5_test_score  \\\n",
       "0            0.671316           0.643981           0.635034   \n",
       "1            0.749564           0.727706           0.717006   \n",
       "2            0.676896           0.660719           0.643136   \n",
       "3            0.763250           0.731928           0.717106   \n",
       "4                 NaN                NaN                NaN   \n",
       "..                ...                ...                ...   \n",
       "85           0.632529           0.652847           0.619124   \n",
       "86           0.570265           0.574999           0.540427   \n",
       "87           0.636668           0.644832           0.619124   \n",
       "88                NaN                NaN                NaN   \n",
       "89                NaN                NaN                NaN   \n",
       "\n",
       "    split6_test_score  split7_test_score  split8_test_score  \\\n",
       "0            0.646281           0.635848           0.635848   \n",
       "1            0.745050           0.747291           0.691083   \n",
       "2            0.646281           0.643136           0.639933   \n",
       "3            0.735747           0.746922           0.697766   \n",
       "4                 NaN                NaN                NaN   \n",
       "..                ...                ...                ...   \n",
       "85           0.627564           0.623364           0.614845   \n",
       "86           0.550389           0.550389           0.529903   \n",
       "87           0.619124           0.610525           0.601082   \n",
       "88                NaN                NaN                NaN   \n",
       "89                NaN                NaN                NaN   \n",
       "\n",
       "    split9_test_score  mean_test_score  std_test_score  rank_test_score  \n",
       "0            0.663674         0.640191        0.016227               31  \n",
       "1            0.772143         0.731490        0.021481                4  \n",
       "2            0.667509         0.648860        0.015555               25  \n",
       "3            0.763857         0.733416        0.019890                1  \n",
       "4                 NaN              NaN             NaN               67  \n",
       "..                ...              ...             ...              ...  \n",
       "85           0.636662         0.621397        0.016727               40  \n",
       "86           0.560646         0.549336        0.016575               58  \n",
       "87           0.636662         0.617072        0.016735               46  \n",
       "88                NaN              NaN             NaN               77  \n",
       "89                NaN              NaN             NaN               90  \n",
       "\n",
       "[90 rows x 22 columns]"
      ]
     },
     "metadata": {},
     "output_type": "display_data"
    },
    {
     "name": "stdout",
     "output_type": "stream",
     "text": [
      "best score is 0.7334156145167383 with params {'algorithm': 'ball_tree', 'n_neighbors': 2, 'p': 2, 'weights': 'distance'}\n"
     ]
    }
   ],
   "source": [
    "\n",
    "param_grid = [\n",
    "  {'n_neighbors': [2,3,5,10,30], 'weights': ['uniform','distance'], 'algorithm':['ball_tree','kd_tree'], 'p':[1,2,5]},\n",
    "  {'n_neighbors': [2,3,5,10,30], 'weights': ['uniform','distance'], 'algorithm':['brute'], 'p':[1,2,5]},\n",
    " ]\n",
    "\n",
    "# Specify the cross validation\n",
    "stratified_10_fold_cv = StratifiedKFold(n_splits=10, shuffle=True, random_state=42)\n",
    "\n",
    "# Create the grid search instance\n",
    "grid_search_estimator = GridSearchCV(knn, param_grid, scoring='f1_macro', cv=stratified_10_fold_cv, n_jobs = -1, verbose = 2, return_train_score=False)\n",
    "\n",
    "# Run the grid search\n",
    "grid_search_estimator.fit(X_train_c, y_train)\n",
    "\n",
    "# Print the results of all hyper-parameter combinations\n",
    "results = pd.DataFrame(grid_search_estimator.cv_results_)\n",
    "display(results)\n",
    "    \n",
    "# Print the best parameter setting\n",
    "print(\"best score is {} with params {}\".format(grid_search_estimator.best_score_, grid_search_estimator.best_params_))"
   ]
  },
  {
   "cell_type": "code",
   "execution_count": 42,
   "id": "c6bd0d82",
   "metadata": {},
   "outputs": [
    {
     "name": "stderr",
     "output_type": "stream",
     "text": [
      "2022-05-26 11:22:44,678 WARNING Using custom data configuration default\n",
      "2022-05-26 11:22:44,685 WARNING Reusing dataset tweets_hate_speech_detection (C:\\Users\\D073999\\.cache\\huggingface\\datasets\\tweets_hate_speech_detection\\default\\0.0.0\\c6b6f41e91ac9113e1c032c5ecf7a49b4e1e9dc8699ded3c2d8425c9217568b2)\n"
     ]
    },
    {
     "data": {
      "application/vnd.jupyter.widget-view+json": {
       "model_id": "a453761e2d4e4414a96dab11db69cc28",
       "version_major": 2,
       "version_minor": 0
      },
      "text/plain": [
       "  0%|          | 0/1 [00:00<?, ?it/s]"
      ]
     },
     "metadata": {},
     "output_type": "display_data"
    },
    {
     "name": "stdout",
     "output_type": "stream",
     "text": [
      "X_train: 25569, X_test: 6393\n",
      "(25569, 32129)\n",
      "(25569, 32129)\n",
      "(6393, 32129)\n",
      "(6393, 32129)\n"
     ]
    },
    {
     "data": {
      "text/html": [
       "<div>\n",
       "<style scoped>\n",
       "    .dataframe tbody tr th:only-of-type {\n",
       "        vertical-align: middle;\n",
       "    }\n",
       "\n",
       "    .dataframe tbody tr th {\n",
       "        vertical-align: top;\n",
       "    }\n",
       "\n",
       "    .dataframe thead th {\n",
       "        text-align: right;\n",
       "    }\n",
       "</style>\n",
       "<table border=\"1\" class=\"dataframe\">\n",
       "  <thead>\n",
       "    <tr style=\"text-align: right;\">\n",
       "      <th></th>\n",
       "      <th>precision</th>\n",
       "      <th>recall</th>\n",
       "      <th>f1-score</th>\n",
       "      <th>support</th>\n",
       "    </tr>\n",
       "  </thead>\n",
       "  <tbody>\n",
       "    <tr>\n",
       "      <th>0</th>\n",
       "      <td>0.954707</td>\n",
       "      <td>0.996299</td>\n",
       "      <td>0.975060</td>\n",
       "      <td>5945.000000</td>\n",
       "    </tr>\n",
       "    <tr>\n",
       "      <th>1</th>\n",
       "      <td>0.883598</td>\n",
       "      <td>0.372768</td>\n",
       "      <td>0.524333</td>\n",
       "      <td>448.000000</td>\n",
       "    </tr>\n",
       "    <tr>\n",
       "      <th>accuracy</th>\n",
       "      <td>0.952604</td>\n",
       "      <td>0.952604</td>\n",
       "      <td>0.952604</td>\n",
       "      <td>0.952604</td>\n",
       "    </tr>\n",
       "    <tr>\n",
       "      <th>macro avg</th>\n",
       "      <td>0.919152</td>\n",
       "      <td>0.684534</td>\n",
       "      <td>0.749696</td>\n",
       "      <td>6393.000000</td>\n",
       "    </tr>\n",
       "    <tr>\n",
       "      <th>weighted avg</th>\n",
       "      <td>0.949724</td>\n",
       "      <td>0.952604</td>\n",
       "      <td>0.943474</td>\n",
       "      <td>6393.000000</td>\n",
       "    </tr>\n",
       "  </tbody>\n",
       "</table>\n",
       "</div>"
      ],
      "text/plain": [
       "              precision    recall  f1-score      support\n",
       "0              0.954707  0.996299  0.975060  5945.000000\n",
       "1              0.883598  0.372768  0.524333   448.000000\n",
       "accuracy       0.952604  0.952604  0.952604     0.952604\n",
       "macro avg      0.919152  0.684534  0.749696  6393.000000\n",
       "weighted avg   0.949724  0.952604  0.943474  6393.000000"
      ]
     },
     "metadata": {},
     "output_type": "display_data"
    }
   ],
   "source": [
    "# check improvment of hyperparameter opti. \n",
    "X_train, X_test, y_train, y_test = featureize(rem_stop=True,\n",
    "                                              do_stem=True,\n",
    "                                              do_lem=False, \n",
    "                                              split=True,\n",
    "                                              upsample=True,\n",
    "                                              do_emojis=False)\n",
    "X_train, X_test, X_train_c, X_test_c = convert_to_tf_idf(X_train, X_test); X_train\n",
    "\n",
    "knn = KNeighborsClassifier(algorithm='ball_tree', n_neighbors= 2, p=2, weights='distance')\n",
    "model = knn.fit(X_train_c, y_train)\n",
    "\n",
    "y_pred = model.predict(X_test_c.toarray())\n",
    "report = classification_report(y_test, y_pred, output_dict=True)\n",
    "report = pd.DataFrame(report).transpose()\n",
    "display(report)"
   ]
  },
  {
   "cell_type": "code",
   "execution_count": 101,
   "id": "c18f17df",
   "metadata": {},
   "outputs": [
    {
     "data": {
      "text/plain": [
       "0.5243328100470959"
      ]
     },
     "execution_count": 101,
     "metadata": {},
     "output_type": "execute_result"
    }
   ],
   "source": [
    "f1 = f1_score(y_test, y_pred);f1"
   ]
  },
  {
   "cell_type": "code",
   "execution_count": 44,
   "id": "91b6fbb7",
   "metadata": {},
   "outputs": [
    {
     "name": "stdout",
     "output_type": "stream",
     "text": [
      "f1:  0.5243328100470959\n",
      "recall:  0.37276785714285715\n",
      "precision 0.8835978835978836\n"
     ]
    }
   ],
   "source": [
    "print(\"f1: \", f1_score(y_test, y_pred))\n",
    "print(\"recall: \", recall_score(y_test, y_pred))\n",
    "print(\"precision\", precision_score(y_test, y_pred))"
   ]
  },
  {
   "cell_type": "code",
   "execution_count": 41,
   "id": "55e27b21",
   "metadata": {},
   "outputs": [],
   "source": [
    "import pandas as pd\n",
    "from sklearn import preprocessing\n",
    "from sklearn.model_selection import train_test_split\n",
    "from sklearn.metrics import roc_curve\n",
    "import matplotlib.pyplot as plt\n",
    "\n",
    "\n",
    "# create the classifier\n",
    "model1 = KNeighborsClassifier(algorithm='ball_tree', n_neighbors= 2, p=2, weights='distance')\n",
    "\n",
    "# fit model\n",
    "model1.fit(X_train, y_train)\n",
    "\n",
    "# predict probabilities\n",
    "pred_prob1 = model1.predict_proba(X_test)"
   ]
  },
  {
   "cell_type": "code",
   "execution_count": 42,
   "id": "2c9de934",
   "metadata": {},
   "outputs": [],
   "source": [
    "from sklearn.metrics import roc_curve\n",
    "\n",
    "# roc curve for models\n",
    "fpr1, tpr1, thresh1 = roc_curve(y_test, pred_prob1[:,1], pos_label=1)\n",
    "\n",
    "# roc curve for tpr = fpr \n",
    "random_probs = [0 for i in range(len(y_test))]\n",
    "p_fpr, p_tpr, _ = roc_curve(y_test, random_probs, pos_label=1)"
   ]
  },
  {
   "cell_type": "code",
   "execution_count": 43,
   "id": "40a08c91",
   "metadata": {},
   "outputs": [
    {
     "name": "stdout",
     "output_type": "stream",
     "text": [
      "0.6918135362849935\n"
     ]
    }
   ],
   "source": [
    "# auc scores\n",
    "auc_score1 = roc_auc_score(y_test, pred_prob1[:,1])\n",
    "\n",
    "print(auc_score1)"
   ]
  },
  {
   "cell_type": "code",
   "execution_count": 44,
   "id": "e74a43b6",
   "metadata": {},
   "outputs": [
    {
     "data": {
      "image/png": "[encoded data removed]",
      "text/plain": [
       "<Figure size 576x396 with 1 Axes>"
      ]
     },
     "metadata": {},
     "output_type": "display_data"
    }
   ],
   "source": [
    "# matplotlib\n",
    "import matplotlib.pyplot as plt\n",
    "plt.style.use('seaborn')\n",
    "\n",
    "# plot roc curves\n",
    "plt.plot(fpr1, tpr1, linestyle='--',color='orange', label='KNN')\n",
    "plt.plot(p_fpr, p_tpr, linestyle='--', color='blue')\n",
    "# title\n",
    "plt.title('ROC curve')\n",
    "# x label\n",
    "plt.xlabel('False Positive Rate')\n",
    "# y label\n",
    "plt.ylabel('True Positive rate')\n",
    "\n",
    "plt.legend(loc='best')\n",
    "plt.savefig('ROC',dpi=300)\n",
    "plt.show();"
   ]
  },
  {
   "cell_type": "markdown",
   "id": "cfcf6fbc",
   "metadata": {},
   "source": [
    "the best score achieved after hyperparameter optimization"
   ]
  },
  {
   "cell_type": "markdown",
   "id": "f1d4662c",
   "metadata": {
    "id": "f1d4662c"
   },
   "source": [
    "### choose value of k"
   ]
  },
  {
   "cell_type": "markdown",
   "id": "70067c4c",
   "metadata": {},
   "source": [
    "this step was done before grid search above and the k value was chosen independent from other hyperparameter (no interaction). This value could change if we performed grid-search where the interaction between other parameters can make some difference"
   ]
  },
  {
   "cell_type": "code",
   "execution_count": 133,
   "id": "19c459d7",
   "metadata": {
    "id": "19c459d7"
   },
   "outputs": [],
   "source": [
    "accuracy_rate = []\n",
    "\n",
    "for i in range(1,40):\n",
    "    \n",
    "    knn = KNeighborsClassifier(n_neighbors=i)\n",
    "    score=cross_val_score(knn, X_train_c, y_train,cv=10)\n",
    "    accuracy_rate.append(score.mean())"
   ]
  },
  {
   "cell_type": "code",
   "execution_count": 138,
   "id": "a1277348",
   "metadata": {
    "id": "a1277348",
    "outputId": "fab95029-00ce-45c4-b894-b789fb41322c"
   },
   "outputs": [
    {
     "data": {
      "text/plain": [
       "Text(0, 0.5, 'Accuracy Rate')"
      ]
     },
     "execution_count": 138,
     "metadata": {},
     "output_type": "execute_result"
    },
    {
     "data": {
      "image/png": "[encoded data removed]",
      "text/plain": [
       "<Figure size 720x432 with 1 Axes>"
      ]
     },
     "metadata": {
      "needs_background": "light"
     },
     "output_type": "display_data"
    }
   ],
   "source": [
    "plt.figure(figsize=(10,6))\n",
    "plt.plot(range(1,40),accuracy_rate,color='blue', linestyle='dashed', marker='o',\n",
    "         markerfacecolor='red', markersize=10)\n",
    "plt.title('Accuracy Rate vs. K Value')\n",
    "plt.xlabel('K')\n",
    "plt.ylabel('Accuracy Rate')"
   ]
  },
  {
   "cell_type": "markdown",
   "id": "429eb78c",
   "metadata": {},
   "source": [
    "One can see, that is the accuracy is very high, between 2 and 5, wheras it reaches the peak at around 3, after 20 \n",
    "the accuracy keeps dropping down"
   ]
  },
  {
   "cell_type": "markdown",
   "id": "911bf5d4",
   "metadata": {
    "id": "911bf5d4"
   },
   "source": [
    "# Impalanced classes <a class=\"anchor\" id=\"imbalanced\"></a>"
   ]
  },
  {
   "cell_type": "markdown",
   "id": "76e59f4f",
   "metadata": {
    "id": "76e59f4f"
   },
   "source": [
    "F1-score is very low, In this section we just use the default classifier without using the optimal hyperparameter settings\n",
    "to be able to distinguish, if the f1 increased because of this mehtod or  not\n",
    "try to find tech. that specifically target the f-1 (like ensambles targets  overfitting).\n",
    "the idea is rather to deal with imbalanced classes and not directly the f1-score, but as a result of handling the \n",
    "imbalance state in the right way, the f1-score should also be boosted:\n",
    "\n",
    "1- use Ensembles or balanced-bagging-classifier: this is a rather simple solution and redandant, it is a normal classifier\n",
    "but it will resample the data without having to use a sampler, so the results should be the same as if one resampled and then used another normal classifier\n",
    "\n",
    "2- Resampling like resample from sklearn: already used above\n",
    "\n",
    "3- SMOTE Synthetic Minority Oversampling Technique: oversampling the minor class by creating synthetic examples\n",
    "    form original data and not only deleting or duplicating the examples\n",
    "    \n",
    "4- Threshold moving: most of the learners in sklearn have predict_proba, which give a probabillity "
   ]
  },
  {
   "cell_type": "markdown",
   "id": "47b9db5d",
   "metadata": {},
   "source": [
    "### balanced-bagging-classifier"
   ]
  },
  {
   "cell_type": "markdown",
   "id": "0282f401",
   "metadata": {},
   "source": [
    "wisdom of the crowd\n",
    "it uses multiple classifiers and at the end use a vote to choose best prediction"
   ]
  },
  {
   "cell_type": "code",
   "execution_count": 45,
   "id": "5d3a1d62",
   "metadata": {
    "id": "5d3a1d62",
    "outputId": "3b8c4ac5-cc7a-4f4b-dda3-c382cf7c72d9"
   },
   "outputs": [
    {
     "name": "stderr",
     "output_type": "stream",
     "text": [
      "2022-05-26 14:42:00,293 WARNING Using custom data configuration default\n",
      "2022-05-26 14:42:00,309 WARNING Reusing dataset tweets_hate_speech_detection (C:\\Users\\D073999\\.cache\\huggingface\\datasets\\tweets_hate_speech_detection\\default\\0.0.0\\c6b6f41e91ac9113e1c032c5ecf7a49b4e1e9dc8699ded3c2d8425c9217568b2)\n"
     ]
    },
    {
     "data": {
      "application/vnd.jupyter.widget-view+json": {
       "model_id": "7440519307e046c7b4da00e0876e0c80",
       "version_major": 2,
       "version_minor": 0
      },
      "text/plain": [
       "  0%|          | 0/1 [00:00<?, ?it/s]"
      ]
     },
     "metadata": {},
     "output_type": "display_data"
    },
    {
     "name": "stdout",
     "output_type": "stream",
     "text": [
      "X_train: 25569, X_test: 6393\n",
      "(25569, 32129)\n",
      "(25569, 32129)\n",
      "(6393, 32129)\n",
      "(6393, 32129)\n"
     ]
    }
   ],
   "source": [
    "from imblearn.ensemble import BalancedBaggingClassifier\n",
    "# KNeighborsClassifier\n",
    "# KNN_DM is just a convient way to reuse the code, it will not work on all cases, because, \n",
    "#they are not covered during the implementation.\n",
    "# in this case we use the original classifier\n",
    "X_train, X_test, y_train, y_test = featureize(rem_stop=True,\n",
    "                                              do_stem=True,\n",
    "                                              do_lem=False, \n",
    "                                              split=True,\n",
    "                                              upsample=True,\n",
    "                                              do_emojis=False)\n",
    "X_train, X_test, X_train_c, X_test_c = convert_to_tf_idf(X_train, X_test); X_train\n",
    "#Create an instance\n",
    "classifier = BalancedBaggingClassifier(base_estimator=KNeighborsClassifier(),\n",
    "                                       n_estimators=5, # save comp. resources\n",
    "                                       sampling_strategy='not majority',\n",
    "                                       replacement=False,\n",
    "                                       random_state=42)\n",
    "classifier.fit(X_train_c.toarray(), y_train)\n",
    "preds = classifier.predict(X_test_c)"
   ]
  },
  {
   "cell_type": "code",
   "execution_count": 46,
   "id": "d9a22b47",
   "metadata": {},
   "outputs": [
    {
     "name": "stdout",
     "output_type": "stream",
     "text": [
      "              precision    recall  f1-score   support\n",
      "\n",
      "           0       0.94      1.00      0.97      5945\n",
      "           1       0.99      0.16      0.27       448\n",
      "\n",
      "    accuracy                           0.94      6393\n",
      "   macro avg       0.96      0.58      0.62      6393\n",
      "weighted avg       0.94      0.94      0.92      6393\n",
      "\n"
     ]
    },
    {
     "data": {
      "text/plain": [
       "0.27307692307692305"
      ]
     },
     "execution_count": 46,
     "metadata": {},
     "output_type": "execute_result"
    }
   ],
   "source": [
    "print(classification_report(y_test,preds))\n",
    "# f1 score without average \n",
    "f1 = f1_score(y_test, preds);f1"
   ]
  },
  {
   "cell_type": "markdown",
   "id": "e1ef6df0",
   "metadata": {},
   "source": [
    "lead to a very lower results as when using one classifier. Using the bagging method will not always work as we tried \n",
    "normal begging without balanced-bagging and it also did not lead to any improvments"
   ]
  },
  {
   "cell_type": "markdown",
   "id": "cf4fef79",
   "metadata": {},
   "source": [
    "### SMOTE"
   ]
  },
  {
   "cell_type": "code",
   "execution_count": 14,
   "id": "10c0daba",
   "metadata": {
    "id": "10c0daba",
    "outputId": "89f574ac-48aa-4209-9c3b-0fb28cc00555"
   },
   "outputs": [
    {
     "name": "stderr",
     "output_type": "stream",
     "text": [
      "2022-05-26 14:55:35,206 WARNING Using custom data configuration default\n",
      "2022-05-26 14:55:35,213 WARNING Reusing dataset tweets_hate_speech_detection (C:\\Users\\D073999\\.cache\\huggingface\\datasets\\tweets_hate_speech_detection\\default\\0.0.0\\c6b6f41e91ac9113e1c032c5ecf7a49b4e1e9dc8699ded3c2d8425c9217568b2)\n"
     ]
    },
    {
     "data": {
      "application/vnd.jupyter.widget-view+json": {
       "model_id": "89c7cb49b6e04d4c9d854509fa6ae4a5",
       "version_major": 2,
       "version_minor": 0
      },
      "text/plain": [
       "  0%|          | 0/1 [00:00<?, ?it/s]"
      ]
     },
     "metadata": {},
     "output_type": "display_data"
    },
    {
     "name": "stdout",
     "output_type": "stream",
     "text": [
      "X_train: 25569, X_test: 6393\n",
      "(25569, 37433)\n",
      "(25569, 37433)\n",
      "(6393, 37433)\n",
      "(6393, 37433)\n",
      "----------------------------------------------------------------------------------------------------\n"
     ]
    },
    {
     "data": {
      "text/html": [
       "<h4>[1/5] Started Fitting...</h4>"
      ],
      "text/plain": [
       "<IPython.core.display.HTML object>"
      ]
     },
     "metadata": {},
     "output_type": "display_data"
    },
    {
     "name": "stdout",
     "output_type": "stream",
     "text": [
      "\n",
      "function: 'fit' finished in 4.88 seconds.\n",
      "----------------------------------------------------------------------------------------------------\n"
     ]
    },
    {
     "data": {
      "text/html": [
       "<h4>[2/5] Started Prediction...</h4>"
      ],
      "text/plain": [
       "<IPython.core.display.HTML object>"
      ]
     },
     "metadata": {},
     "output_type": "display_data"
    },
    {
     "name": "stdout",
     "output_type": "stream",
     "text": [
      "head of y_pred is \t[1 1 1 1 1 1]: \n",
      "function: 'predict' finished in 133.91 seconds.\n",
      "----------------------------------------------------------------------------------------------------\n"
     ]
    },
    {
     "data": {
      "text/html": [
       "<h4>[3/5] Started Evaluation...</h4>"
      ],
      "text/plain": [
       "<IPython.core.display.HTML object>"
      ]
     },
     "metadata": {},
     "output_type": "display_data"
    },
    {
     "name": "stdout",
     "output_type": "stream",
     "text": [
      "f1-score:         \t0.17064184603451618 \n",
      "accuracy-score:   \t33.09870170498983 \n",
      "precision-score:  \t0.09343809726056487 \n",
      "recall-score:     \t0.9821428571428571 \n",
      "\n",
      "----------------------------------------------------------------------------------------------------\n"
     ]
    },
    {
     "data": {
      "text/html": [
       "<h4>[4/5] Started creating a report...</h4>"
      ],
      "text/plain": [
       "<IPython.core.display.HTML object>"
      ]
     },
     "metadata": {},
     "output_type": "display_data"
    },
    {
     "data": {
      "text/html": [
       "<div>\n",
       "<style scoped>\n",
       "    .dataframe tbody tr th:only-of-type {\n",
       "        vertical-align: middle;\n",
       "    }\n",
       "\n",
       "    .dataframe tbody tr th {\n",
       "        vertical-align: top;\n",
       "    }\n",
       "\n",
       "    .dataframe thead th {\n",
       "        text-align: right;\n",
       "    }\n",
       "</style>\n",
       "<table border=\"1\" class=\"dataframe\">\n",
       "  <thead>\n",
       "    <tr style=\"text-align: right;\">\n",
       "      <th></th>\n",
       "      <th>precision</th>\n",
       "      <th>recall</th>\n",
       "      <th>f1-score</th>\n",
       "      <th>support</th>\n",
       "    </tr>\n",
       "  </thead>\n",
       "  <tbody>\n",
       "    <tr>\n",
       "      <th>0</th>\n",
       "      <td>0.995249</td>\n",
       "      <td>0.281918</td>\n",
       "      <td>0.439376</td>\n",
       "      <td>5945.000000</td>\n",
       "    </tr>\n",
       "    <tr>\n",
       "      <th>1</th>\n",
       "      <td>0.093438</td>\n",
       "      <td>0.982143</td>\n",
       "      <td>0.170642</td>\n",
       "      <td>448.000000</td>\n",
       "    </tr>\n",
       "    <tr>\n",
       "      <th>accuracy</th>\n",
       "      <td>0.330987</td>\n",
       "      <td>0.330987</td>\n",
       "      <td>0.330987</td>\n",
       "      <td>0.330987</td>\n",
       "    </tr>\n",
       "    <tr>\n",
       "      <th>macro avg</th>\n",
       "      <td>0.544344</td>\n",
       "      <td>0.632030</td>\n",
       "      <td>0.305009</td>\n",
       "      <td>6393.000000</td>\n",
       "    </tr>\n",
       "    <tr>\n",
       "      <th>weighted avg</th>\n",
       "      <td>0.932053</td>\n",
       "      <td>0.330987</td>\n",
       "      <td>0.420544</td>\n",
       "      <td>6393.000000</td>\n",
       "    </tr>\n",
       "  </tbody>\n",
       "</table>\n",
       "</div>"
      ],
      "text/plain": [
       "              precision    recall  f1-score      support\n",
       "0              0.995249  0.281918  0.439376  5945.000000\n",
       "1              0.093438  0.982143  0.170642   448.000000\n",
       "accuracy       0.330987  0.330987  0.330987     0.330987\n",
       "macro avg      0.544344  0.632030  0.305009  6393.000000\n",
       "weighted avg   0.932053  0.330987  0.420544  6393.000000"
      ]
     },
     "metadata": {},
     "output_type": "display_data"
    },
    {
     "name": "stdout",
     "output_type": "stream",
     "text": [
      "\n",
      "function: 'print_report' finished in 0.07 seconds.\n",
      "----------------------------------------------------------------------------------------------------\n"
     ]
    },
    {
     "data": {
      "text/html": [
       "<h4>[5/5] Started plotting the confusion matrix...</h4>"
      ],
      "text/plain": [
       "<IPython.core.display.HTML object>"
      ]
     },
     "metadata": {},
     "output_type": "display_data"
    },
    {
     "name": "stdout",
     "output_type": "stream",
     "text": [
      "Start plotting the confusion matrix...\n",
      "\n",
      "function: '__plot_confusion_matrix' finished in 0.17 seconds.\n",
      "function: 'evaluate' finished in 0.27 seconds.\n",
      "\n"
     ]
    },
    {
     "data": {
      "image/png": "[encoded data removed]",
      "text/plain": [
       "<Figure size 432x288 with 2 Axes>"
      ]
     },
     "metadata": {
      "needs_background": "light"
     },
     "output_type": "display_data"
    }
   ],
   "source": [
    "X_train, X_test, y_train, y_test = featureize(rem_stop=True,\n",
    "                                              do_stem=False,\n",
    "                                              do_lem=False, \n",
    "                                              split=True,\n",
    "                                              upsample=False,\n",
    "                                              do_emojis=True)\n",
    "\n",
    "\n",
    "X_train, X_test, X_train_c, X_test_c = convert_to_tf_idf(X_train, X_test)\n",
    "# SMOTE\n",
    "from imblearn.over_sampling import SMOTE\n",
    "# Resampling the minority class. The strategy can be changed as required.\n",
    "sm = SMOTE(sampling_strategy='minority', random_state=42)\n",
    "# Fit the model to generate the data.\n",
    "oversampled_X, oversampled_Y = sm.fit_resample(X_train.toarray(), y_train)\n",
    "\n",
    "\n",
    "#oversampled = pd.concat([pd.DataFrame(oversampled_Y), pd.DataFrame(oversampled_X)], axis=1)\n",
    "knn = KNN_DM()\n",
    "model = knn.fit(oversampled_X, oversampled_Y, optim=False)\n",
    "y_pred = model.predict(X_test.toarray(), y_test)\n",
    "report, accuracy, recall, precision, f1 = model.evaluate()\n",
    "print()"
   ]
  },
  {
   "cell_type": "code",
   "execution_count": 15,
   "id": "3eea4acd",
   "metadata": {},
   "outputs": [
    {
     "name": "stderr",
     "output_type": "stream",
     "text": [
      "2022-05-26 15:01:09,927 WARNING Using custom data configuration default\n",
      "2022-05-26 15:01:09,970 WARNING Reusing dataset tweets_hate_speech_detection (C:\\Users\\D073999\\.cache\\huggingface\\datasets\\tweets_hate_speech_detection\\default\\0.0.0\\c6b6f41e91ac9113e1c032c5ecf7a49b4e1e9dc8699ded3c2d8425c9217568b2)\n"
     ]
    },
    {
     "data": {
      "application/vnd.jupyter.widget-view+json": {
       "model_id": "5fa6709d74d1461c8bed19c42331a326",
       "version_major": 2,
       "version_minor": 0
      },
      "text/plain": [
       "  0%|          | 0/1 [00:00<?, ?it/s]"
      ]
     },
     "metadata": {},
     "output_type": "display_data"
    },
    {
     "name": "stdout",
     "output_type": "stream",
     "text": [
      "X_train: 25569, X_test: 6393\n",
      "(25569, 32129)\n",
      "(25569, 32129)\n",
      "(6393, 32129)\n",
      "(6393, 32129)\n",
      "----------------------------------------------------------------------------------------------------\n"
     ]
    },
    {
     "data": {
      "text/html": [
       "<h4>[1/5] Started Fitting...</h4>"
      ],
      "text/plain": [
       "<IPython.core.display.HTML object>"
      ]
     },
     "metadata": {},
     "output_type": "display_data"
    },
    {
     "name": "stdout",
     "output_type": "stream",
     "text": [
      "\n",
      "function: 'fit' finished in 4.33 seconds.\n",
      "----------------------------------------------------------------------------------------------------\n"
     ]
    },
    {
     "data": {
      "text/html": [
       "<h4>[2/5] Started Prediction...</h4>"
      ],
      "text/plain": [
       "<IPython.core.display.HTML object>"
      ]
     },
     "metadata": {},
     "output_type": "display_data"
    },
    {
     "name": "stdout",
     "output_type": "stream",
     "text": [
      "head of y_pred is \t[1 1 1 1 1 1]: \n",
      "function: 'predict' finished in 125.42 seconds.\n",
      "----------------------------------------------------------------------------------------------------\n"
     ]
    },
    {
     "data": {
      "text/html": [
       "<h4>[3/5] Started Evaluation...</h4>"
      ],
      "text/plain": [
       "<IPython.core.display.HTML object>"
      ]
     },
     "metadata": {},
     "output_type": "display_data"
    },
    {
     "name": "stdout",
     "output_type": "stream",
     "text": [
      "f1-score:         \t0.16679418515684777 \n",
      "accuracy-score:   \t31.862975129047395 \n",
      "precision-score:  \t0.09121338912133892 \n",
      "recall-score:     \t0.9732142857142857 \n",
      "\n",
      "----------------------------------------------------------------------------------------------------\n"
     ]
    },
    {
     "data": {
      "text/html": [
       "<h4>[4/5] Started creating a report...</h4>"
      ],
      "text/plain": [
       "<IPython.core.display.HTML object>"
      ]
     },
     "metadata": {},
     "output_type": "display_data"
    },
    {
     "data": {
      "text/html": [
       "<div>\n",
       "<style scoped>\n",
       "    .dataframe tbody tr th:only-of-type {\n",
       "        vertical-align: middle;\n",
       "    }\n",
       "\n",
       "    .dataframe tbody tr th {\n",
       "        vertical-align: top;\n",
       "    }\n",
       "\n",
       "    .dataframe thead th {\n",
       "        text-align: right;\n",
       "    }\n",
       "</style>\n",
       "<table border=\"1\" class=\"dataframe\">\n",
       "  <thead>\n",
       "    <tr style=\"text-align: right;\">\n",
       "      <th></th>\n",
       "      <th>precision</th>\n",
       "      <th>recall</th>\n",
       "      <th>f1-score</th>\n",
       "      <th>support</th>\n",
       "    </tr>\n",
       "  </thead>\n",
       "  <tbody>\n",
       "    <tr>\n",
       "      <th>0</th>\n",
       "      <td>0.992560</td>\n",
       "      <td>0.269302</td>\n",
       "      <td>0.423657</td>\n",
       "      <td>5945.00000</td>\n",
       "    </tr>\n",
       "    <tr>\n",
       "      <th>1</th>\n",
       "      <td>0.091213</td>\n",
       "      <td>0.973214</td>\n",
       "      <td>0.166794</td>\n",
       "      <td>448.00000</td>\n",
       "    </tr>\n",
       "    <tr>\n",
       "      <th>accuracy</th>\n",
       "      <td>0.318630</td>\n",
       "      <td>0.318630</td>\n",
       "      <td>0.318630</td>\n",
       "      <td>0.31863</td>\n",
       "    </tr>\n",
       "    <tr>\n",
       "      <th>macro avg</th>\n",
       "      <td>0.541887</td>\n",
       "      <td>0.621258</td>\n",
       "      <td>0.295226</td>\n",
       "      <td>6393.00000</td>\n",
       "    </tr>\n",
       "    <tr>\n",
       "      <th>weighted avg</th>\n",
       "      <td>0.929397</td>\n",
       "      <td>0.318630</td>\n",
       "      <td>0.405657</td>\n",
       "      <td>6393.00000</td>\n",
       "    </tr>\n",
       "  </tbody>\n",
       "</table>\n",
       "</div>"
      ],
      "text/plain": [
       "              precision    recall  f1-score     support\n",
       "0              0.992560  0.269302  0.423657  5945.00000\n",
       "1              0.091213  0.973214  0.166794   448.00000\n",
       "accuracy       0.318630  0.318630  0.318630     0.31863\n",
       "macro avg      0.541887  0.621258  0.295226  6393.00000\n",
       "weighted avg   0.929397  0.318630  0.405657  6393.00000"
      ]
     },
     "metadata": {},
     "output_type": "display_data"
    },
    {
     "name": "stdout",
     "output_type": "stream",
     "text": [
      "\n",
      "function: 'print_report' finished in 0.04 seconds.\n",
      "----------------------------------------------------------------------------------------------------\n"
     ]
    },
    {
     "data": {
      "text/html": [
       "<h4>[5/5] Started plotting the confusion matrix...</h4>"
      ],
      "text/plain": [
       "<IPython.core.display.HTML object>"
      ]
     },
     "metadata": {},
     "output_type": "display_data"
    },
    {
     "name": "stdout",
     "output_type": "stream",
     "text": [
      "Start plotting the confusion matrix...\n",
      "\n",
      "function: '__plot_confusion_matrix' finished in 0.11 seconds.\n",
      "function: 'evaluate' finished in 0.17 seconds.\n",
      "\n"
     ]
    },
    {
     "data": {
      "image/png": "[encoded data removed]",
      "text/plain": [
       "<Figure size 432x288 with 2 Axes>"
      ]
     },
     "metadata": {
      "needs_background": "light"
     },
     "output_type": "display_data"
    }
   ],
   "source": [
    "X_train, X_test, y_train, y_test = featureize(rem_stop=True,\n",
    "                                              do_stem=True,\n",
    "                                              do_lem=False, \n",
    "                                              split=True,\n",
    "                                              upsample=True,\n",
    "                                              do_emojis=False)\n",
    "X_train, X_test, X_train_c, X_test_c = convert_to_tf_idf(X_train, X_test); X_train\n",
    "\n",
    "# SMOTE\n",
    "from imblearn.over_sampling import SMOTE\n",
    "# Resampling the minority class. The strategy can be changed as required.\n",
    "sm = SMOTE(sampling_strategy='minority', random_state=42)\n",
    "# Fit the model to generate the data.\n",
    "oversampled_X, oversampled_Y = sm.fit_resample(X_train.toarray(), y_train)\n",
    "\n",
    "\n",
    "#oversampled = pd.concat([pd.DataFrame(oversampled_Y), pd.DataFrame(oversampled_X)], axis=1)\n",
    "knn = KNN_DM()\n",
    "model = knn.fit(oversampled_X, oversampled_Y, optim=False)\n",
    "y_pred = model.predict(X_test.toarray(), y_test)\n",
    "report, accuracy, recall, precision, f1 = model.evaluate()\n",
    "print()"
   ]
  },
  {
   "cell_type": "markdown",
   "id": "c09f4157",
   "metadata": {},
   "source": [
    "### Moving threshold "
   ]
  },
  {
   "cell_type": "markdown",
   "id": "13874d99",
   "metadata": {},
   "source": [
    "almost each classifier in sklearn has predict_proba, and it is by default assigning 0.5 probability for each class\n",
    "in the the case of imbalanced class, this is not the  fall, so we try to find a better value than the default one."
   ]
  },
  {
   "cell_type": "code",
   "execution_count": 46,
   "id": "4c0f1835",
   "metadata": {
    "id": "4c0f1835",
    "outputId": "4fbb795e-4447-40b7-d77b-18029b12085c"
   },
   "outputs": [
    {
     "name": "stdout",
     "output_type": "stream",
     "text": [
      "Threshold 0.2 -- 0.7743707196924186\n",
      "Threshold 0.25 -- 0.6876043794304939\n",
      "Threshold 0.3 -- 0.6876043794304939\n",
      "Threshold 0.35 -- 0.6876043794304939\n",
      "Threshold 0.39999999999999997 -- 0.6876043794304939\n",
      "Threshold 0.44999999999999996 -- 0.6205584299531419\n",
      "Threshold 0.49999999999999994 -- 0.6205584299531419\n",
      "Threshold 0.5499999999999999 -- 0.6205584299531419\n",
      "Threshold 0.6 -- 0.6205584299531419\n",
      "Threshold 0.65 -- 0.5879173299891867\n",
      "Threshold 0.7000000000000001 -- 0.5879173299891867\n",
      "Threshold 0.7500000000000001 -- 0.5879173299891867\n",
      "---Optimum Threshold --- 0.2 --ROC-- 0.7743707196924186\n"
     ]
    }
   ],
   "source": [
    "from sklearn.metrics import roc_auc_score\n",
    "knn = KNeighborsClassifier()\n",
    "\n",
    "knn.fit(X_train,y_train)   \n",
    "knn.predict_proba(X_test) #probability of the class label\n",
    "step_factor = 0.05 \n",
    "threshold_value = 0.2 \n",
    "roc_score=0\n",
    "predicted_proba = knn.predict_proba(X_test_c.toarray()) #probability of prediction\n",
    "while threshold_value <=0.8: #continue to check best threshold upto probability 0.8\n",
    "    temp_thresh = threshold_value\n",
    "    predicted = (predicted_proba [:,1] >= temp_thresh).astype('int') #change the class boundary for prediction\n",
    "    print('Threshold',temp_thresh,'--',roc_auc_score(y_test, predicted))\n",
    "    if roc_score<roc_auc_score(y_test, predicted): #store the threshold for best classification\n",
    "        roc_score = roc_auc_score(y_test, predicted)\n",
    "        thrsh_score = threshold_value\n",
    "    threshold_value = threshold_value + step_factor\n",
    "print('---Optimum Threshold ---',thrsh_score,'--ROC--',roc_score)"
   ]
  },
  {
   "cell_type": "code",
   "execution_count": 47,
   "id": "3e40d78c",
   "metadata": {
    "id": "3e40d78c"
   },
   "outputs": [],
   "source": [
    "#knn = KNeighborsClassifier()\n",
    "#knn.fit(X_train_c.toarray(),y_train)\n",
    "#y_pred = knn.predict(X_test_c.toarray())  # default threshold is 0.5\n",
    "\n",
    "y_pred = (knn.predict_proba(X_test.toarray())[:,1] >= 0.2).astype(bool) # set threshold as 0.2"
   ]
  },
  {
   "cell_type": "code",
   "execution_count": 48,
   "id": "a3cbb676",
   "metadata": {
    "id": "a3cbb676",
    "outputId": "7edbbe7f-999e-4146-8d89-41e8d660bbd1"
   },
   "outputs": [
    {
     "name": "stdout",
     "output_type": "stream",
     "text": [
      "f1 after changing the threshold:  0.22758343385605145\n"
     ]
    }
   ],
   "source": [
    "f1 = f1_score(y_test, y_pred);\n",
    "print(\"f1 after changing the threshold: \", f1)"
   ]
  },
  {
   "cell_type": "markdown",
   "id": "52542be9",
   "metadata": {},
   "source": [
    "# Boosting"
   ]
  },
  {
   "cell_type": "markdown",
   "id": "10b53fa3",
   "metadata": {},
   "source": [
    "uses wisdom of the crowd\n",
    "train multiple classifers and use weighted Vote (classifiers have either confidence score or estimate error)\n",
    "\n",
    "\n",
    "could be used for imbalanced problems by assigning smaller weights for bigger classes"
   ]
  },
  {
   "cell_type": "code",
   "execution_count": 56,
   "id": "64434e01",
   "metadata": {},
   "outputs": [],
   "source": [
    "from sklearn.ensemble import AdaBoostClassifier\n",
    "from sklearn.tree import DecisionTreeClassifier\n",
    "\n",
    "\n",
    "bdt = AdaBoostClassifier(\n",
    "                    DecisionTreeClassifier(),\n",
    "                    n_estimators=10)\n",
    "\n",
    "# Train Adaboost Classifer\n",
    "model = bdt.fit(X_train, y_train)\n",
    "\n",
    "#Predict the response for test dataset\n",
    "y_pred = model.predict(X_test)"
   ]
  },
  {
   "cell_type": "code",
   "execution_count": 57,
   "id": "db7903d1",
   "metadata": {},
   "outputs": [
    {
     "name": "stdout",
     "output_type": "stream",
     "text": [
      "f1 after boosting:  0.5227272727272728\n"
     ]
    }
   ],
   "source": [
    "f1 = f1_score(y_test, y_pred);\n",
    "print(\"f1 after boosting: \", f1)"
   ]
  },
  {
   "cell_type": "code",
   "execution_count": 61,
   "id": "9b4e69c4",
   "metadata": {},
   "outputs": [
    {
     "name": "stdout",
     "output_type": "stream",
     "text": [
      "Looking in indexes: https://int.repositories.cloud.sap/artifactory/api/pypi/build-releases-pypi/simple, https://int.repositories.cloud.sap/artifactory/api/pypi/build-milestones-pypi/simple\n",
      "Collecting mlens\n",
      "  Using cached https://int.repositories.cloud.sap/artifactory/api/pypi/build-milestones-pypi/packages/packages/0b/f7/c04bda423ac93ddb54bc4c3a21c79c9a24bc83844efc30dc4c11c289e894/mlens-0.2.3-py2.py3-none-any.whl (227 kB)\n",
      "Requirement already satisfied: numpy>=1.11 in c:\\users\\d073999\\miniconda3\\envs\\torch\\lib\\site-packages (from mlens) (1.19.2)\n",
      "Requirement already satisfied: scipy>=0.17 in c:\\users\\d073999\\miniconda3\\envs\\torch\\lib\\site-packages (from mlens) (1.6.2)\n",
      "Installing collected packages: mlens\n",
      "Successfully installed mlens-0.2.3\n"
     ]
    }
   ],
   "source": [
    "!pip install mlens"
   ]
  },
  {
   "cell_type": "markdown",
   "id": "bf178add",
   "metadata": {},
   "source": [
    "### Stacking"
   ]
  },
  {
   "cell_type": "markdown",
   "id": "80c83ec8",
   "metadata": {},
   "source": [
    "Wisdom of the crowd\n",
    "like boosting, Differenece: it uses another classifier for making the last prediction, instead of voting.\n",
    "\n",
    "it uses multiple base-learners take thier predictions and pass them as features for a meta-learner"
   ]
  },
  {
   "cell_type": "code",
   "execution_count": 10,
   "id": "2b6113ea",
   "metadata": {
    "id": "2b6113ea",
    "outputId": "a9aedfee-8c67-4115-c830-2abc6309b913"
   },
   "outputs": [
    {
     "name": "stderr",
     "output_type": "stream",
     "text": [
      "2022-05-26 15:43:17,810 WARNING Using custom data configuration default\n",
      "2022-05-26 15:43:17,816 WARNING Reusing dataset tweets_hate_speech_detection (C:\\Users\\D073999\\.cache\\huggingface\\datasets\\tweets_hate_speech_detection\\default\\0.0.0\\c6b6f41e91ac9113e1c032c5ecf7a49b4e1e9dc8699ded3c2d8425c9217568b2)\n"
     ]
    },
    {
     "data": {
      "application/vnd.jupyter.widget-view+json": {
       "model_id": "f81071c812a444b79cfb28bb8d3892c9",
       "version_major": 2,
       "version_minor": 0
      },
      "text/plain": [
       "  0%|          | 0/1 [00:00<?, ?it/s]"
      ]
     },
     "metadata": {},
     "output_type": "display_data"
    },
    {
     "name": "stdout",
     "output_type": "stream",
     "text": [
      "X_train: 25569, X_test: 6393\n",
      "(25569, 32129)\n",
      "(25569, 32129)\n",
      "(6393, 32129)\n",
      "(6393, 32129)\n"
     ]
    },
    {
     "ename": "JoblibMemoryError",
     "evalue": "JoblibMemoryError\n___________________________________________________________________________\nMultiprocessing exception:\n...........................................................................\nC:\\Users\\D073999\\Miniconda3\\envs\\torch\\lib\\runpy.py in _run_module_as_main(mod_name='ipykernel_launcher', alter_argv=1)\n    188         sys.exit(msg)\n    189     main_globals = sys.modules[\"__main__\"].__dict__\n    190     if alter_argv:\n    191         sys.argv[0] = mod_spec.origin\n    192     return _run_code(code, main_globals, None,\n--> 193                      \"__main__\", mod_spec)\n        mod_spec = ModuleSpec(name='ipykernel_launcher', loader=<_f...orch\\\\lib\\\\site-packages\\\\ipykernel_launcher.py')\n    194 \n    195 def run_module(mod_name, init_globals=None,\n    196                run_name=None, alter_sys=False):\n    197     \"\"\"Execute a module's code without importing it\n\n...........................................................................\nC:\\Users\\D073999\\Miniconda3\\envs\\torch\\lib\\runpy.py in _run_code(code=<code object <module> at 0x00000252B6BDC030, fil...lib\\site-packages\\ipykernel_launcher.py\", line 5>, run_globals={'__annotations__': {}, '__builtins__': <module 'builtins' (built-in)>, '__cached__': r'C:\\Users\\D073999\\Miniconda3\\envs\\torch\\lib\\site-...ges\\__pycache__\\ipykernel_launcher.cpython-37.pyc', '__doc__': 'Entry point for launching an IPython kernel.\\n\\nTh...orts until\\nafter removing the cwd from sys.path.\\n', '__file__': r'C:\\Users\\D073999\\Miniconda3\\envs\\torch\\lib\\site-packages\\ipykernel_launcher.py', '__loader__': <_frozen_importlib_external.SourceFileLoader object>, '__name__': '__main__', '__package__': '', '__spec__': ModuleSpec(name='ipykernel_launcher', loader=<_f...orch\\\\lib\\\\site-packages\\\\ipykernel_launcher.py'), 'app': <module 'ipykernel.kernelapp' from 'C:\\\\Users\\\\D...ch\\\\lib\\\\site-packages\\\\ipykernel\\\\kernelapp.py'>, ...}, init_globals=None, mod_name='__main__', mod_spec=ModuleSpec(name='ipykernel_launcher', loader=<_f...orch\\\\lib\\\\site-packages\\\\ipykernel_launcher.py'), pkg_name='', script_name=None)\n     80                        __cached__ = cached,\n     81                        __doc__ = None,\n     82                        __loader__ = loader,\n     83                        __package__ = pkg_name,\n     84                        __spec__ = mod_spec)\n---> 85     exec(code, run_globals)\n        code = <code object <module> at 0x00000252B6BDC030, fil...lib\\site-packages\\ipykernel_launcher.py\", line 5>\n        run_globals = {'__annotations__': {}, '__builtins__': <module 'builtins' (built-in)>, '__cached__': r'C:\\Users\\D073999\\Miniconda3\\envs\\torch\\lib\\site-...ges\\__pycache__\\ipykernel_launcher.cpython-37.pyc', '__doc__': 'Entry point for launching an IPython kernel.\\n\\nTh...orts until\\nafter removing the cwd from sys.path.\\n', '__file__': r'C:\\Users\\D073999\\Miniconda3\\envs\\torch\\lib\\site-packages\\ipykernel_launcher.py', '__loader__': <_frozen_importlib_external.SourceFileLoader object>, '__name__': '__main__', '__package__': '', '__spec__': ModuleSpec(name='ipykernel_launcher', loader=<_f...orch\\\\lib\\\\site-packages\\\\ipykernel_launcher.py'), 'app': <module 'ipykernel.kernelapp' from 'C:\\\\Users\\\\D...ch\\\\lib\\\\site-packages\\\\ipykernel\\\\kernelapp.py'>, ...}\n     86     return run_globals\n     87 \n     88 def _run_module_code(code, init_globals=None,\n     89                     mod_name=None, mod_spec=None,\n\n...........................................................................\nC:\\Users\\D073999\\Miniconda3\\envs\\torch\\lib\\site-packages\\ipykernel_launcher.py in <module>()\n     11     # This is added back by InteractiveShellApp.init_path()\n     12     if sys.path[0] == '':\n     13         del sys.path[0]\n     14 \n     15     from ipykernel import kernelapp as app\n---> 16     app.launch_new_instance()\n\n...........................................................................\nC:\\Users\\D073999\\Miniconda3\\envs\\torch\\lib\\site-packages\\traitlets\\config\\application.py in launch_instance(cls=<class 'ipykernel.kernelapp.IPKernelApp'>, argv=None, **kwargs={})\n    841 \n    842         If a global instance already exists, this reinitializes and starts it\n    843         \"\"\"\n    844         app = cls.instance(**kwargs)\n    845         app.initialize(argv)\n--> 846         app.start()\n        app.start = <bound method IPKernelApp.start of <ipykernel.kernelapp.IPKernelApp object>>\n    847 \n    848 #-----------------------------------------------------------------------------\n    849 # utility functions, for convenience\n    850 #-----------------------------------------------------------------------------\n\n...........................................................................\nC:\\Users\\D073999\\Miniconda3\\envs\\torch\\lib\\site-packages\\ipykernel\\kernelapp.py in start(self=<ipykernel.kernelapp.IPKernelApp object>)\n    672                 tr.run()\n    673             except KeyboardInterrupt:\n    674                 pass\n    675         else:\n    676             try:\n--> 677                 self.io_loop.start()\n        self.io_loop.start = <bound method BaseAsyncIOLoop.start of <tornado.platform.asyncio.AsyncIOMainLoop object>>\n    678             except KeyboardInterrupt:\n    679                 pass\n    680 \n    681 \n\n...........................................................................\nC:\\Users\\D073999\\Miniconda3\\envs\\torch\\lib\\site-packages\\tornado\\platform\\asyncio.py in start(self=<tornado.platform.asyncio.AsyncIOMainLoop object>)\n    194         except (RuntimeError, AssertionError):\n    195             old_loop = None  # type: ignore\n    196         try:\n    197             self._setup_logging()\n    198             asyncio.set_event_loop(self.asyncio_loop)\n--> 199             self.asyncio_loop.run_forever()\n        self.asyncio_loop.run_forever = <bound method BaseEventLoop.run_forever of <_Win...EventLoop running=True closed=False debug=False>>\n    200         finally:\n    201             asyncio.set_event_loop(old_loop)\n    202 \n    203     def stop(self) -> None:\n\n...........................................................................\nC:\\Users\\D073999\\Miniconda3\\envs\\torch\\lib\\asyncio\\base_events.py in run_forever(self=<_WindowsSelectorEventLoop running=True closed=False debug=False>)\n    536         sys.set_asyncgen_hooks(firstiter=self._asyncgen_firstiter_hook,\n    537                                finalizer=self._asyncgen_finalizer_hook)\n    538         try:\n    539             events._set_running_loop(self)\n    540             while True:\n--> 541                 self._run_once()\n        self._run_once = <bound method BaseEventLoop._run_once of <_Windo...EventLoop running=True closed=False debug=False>>\n    542                 if self._stopping:\n    543                     break\n    544         finally:\n    545             self._stopping = False\n\n...........................................................................\nC:\\Users\\D073999\\Miniconda3\\envs\\torch\\lib\\asyncio\\base_events.py in _run_once(self=<_WindowsSelectorEventLoop running=True closed=False debug=False>)\n   1781                         logger.warning('Executing %s took %.3f seconds',\n   1782                                        _format_handle(handle), dt)\n   1783                 finally:\n   1784                     self._current_handle = None\n   1785             else:\n-> 1786                 handle._run()\n        handle._run = <bound method Handle._run of <Handle <TaskWakeup...000252C840F588>(<Future finis...7C8>, ...],))>)>>\n   1787         handle = None  # Needed to break cycles when an exception occurs.\n   1788 \n   1789     def _set_coroutine_origin_tracking(self, enabled):\n   1790         if bool(enabled) == bool(self._coroutine_origin_tracking_enabled):\n\n...........................................................................\nC:\\Users\\D073999\\Miniconda3\\envs\\torch\\lib\\asyncio\\events.py in _run(self=<Handle <TaskWakeupMethWrapper object at 0x00000252C840F588>(<Future finis...7C8>, ...],))>)>)\n     83     def cancelled(self):\n     84         return self._cancelled\n     85 \n     86     def _run(self):\n     87         try:\n---> 88             self._context.run(self._callback, *self._args)\n        self._context.run = <built-in method run of Context object>\n        self._callback = <TaskWakeupMethWrapper object>\n        self._args = (<Future finished result=(19, <bound method...025...001708>, <zmq.sugar.fr...00252BA0017C8>, ...],))>,)\n     89         except Exception as exc:\n     90             cb = format_helpers._format_callback_source(\n     91                 self._callback, self._args)\n     92             msg = f'Exception in callback {cb}'\n\n...........................................................................\nC:\\Users\\D073999\\Miniconda3\\envs\\torch\\lib\\site-packages\\ipykernel\\kernelbase.py in dispatch_queue(self=<ipykernel.ipkernel.IPythonKernel object>)\n    466         even when the handler is async\n    467         \"\"\"\n    468 \n    469         while True:\n    470             try:\n--> 471                 await self.process_one()\n        self.process_one = <bound method Kernel.process_one of <ipykernel.ipkernel.IPythonKernel object>>\n    472             except Exception:\n    473                 self.log.exception(\"Error in message handler\")\n    474 \n    475     _message_counter = Any(\n\n...........................................................................\nC:\\Users\\D073999\\Miniconda3\\envs\\torch\\lib\\site-packages\\ipykernel\\kernelbase.py in process_one(self=<ipykernel.ipkernel.IPythonKernel object>, wait=True)\n    455         else:\n    456             try:\n    457                 t, dispatch, args = self.msg_queue.get_nowait()\n    458             except (asyncio.QueueEmpty, QueueEmpty):\n    459                 return None\n--> 460         await dispatch(*args)\n        dispatch = <bound method Kernel.dispatch_shell of <ipykernel.ipkernel.IPythonKernel object>>\n        args = ([<zmq.sugar.frame.Frame object>, <zmq.sugar.frame.Frame object>, <zmq.sugar.frame.Frame object>, <zmq.sugar.frame.Frame object>, <zmq.sugar.frame.Frame object>, <zmq.sugar.frame.Frame object>, <zmq.sugar.frame.Frame object>],)\n    461 \n    462     async def dispatch_queue(self):\n    463         \"\"\"Coroutine to preserve order of message handling\n    464 \n\n...........................................................................\nC:\\Users\\D073999\\Miniconda3\\envs\\torch\\lib\\site-packages\\ipykernel\\kernelbase.py in dispatch_shell(self=<ipykernel.ipkernel.IPythonKernel object>, msg={'buffers': [], 'content': {'allow_stdin': True, 'code': 'from mlens.ensemble import SuperLearner\\nfrom skl...on score: %.3f\" % accuracy_score(y_test, preds)) ', 'silent': False, 'stop_on_error': True, 'store_history': True, 'user_expressions': {}}, 'header': {'date': datetime.datetime(2022, 5, 26, 13, 43, 16, 676000, tzinfo=tzutc()), 'msg_id': '46487243db234e59bf8353dc7babfe94', 'msg_type': 'execute_request', 'session': '956c4adc8301493ba2e99a72e80c26a5', 'username': 'username', 'version': '5.2'}, 'metadata': {}, 'msg_id': '46487243db234e59bf8353dc7babfe94', 'msg_type': 'execute_request', 'parent_header': {}})\n    362             except Exception:\n    363                 self.log.debug(\"Unable to signal in pre_handler_hook:\", exc_info=True)\n    364             try:\n    365                 result = handler(self.shell_stream, idents, msg)\n    366                 if inspect.isawaitable(result):\n--> 367                     await result\n        result = <coroutine object Kernel.execute_request>\n    368             except Exception:\n    369                 self.log.error(\"Exception in message handler:\", exc_info=True)\n    370             except KeyboardInterrupt:\n    371                 # Ctrl-c shouldn't crash the kernel here.\n\n...........................................................................\nC:\\Users\\D073999\\Miniconda3\\envs\\torch\\lib\\site-packages\\ipykernel\\kernelbase.py in execute_request(self=<ipykernel.ipkernel.IPythonKernel object>, stream=<zmq.eventloop.zmqstream.ZMQStream object>, ident=[b'956c4adc8301493ba2e99a72e80c26a5'], parent={'buffers': [], 'content': {'allow_stdin': True, 'code': 'from mlens.ensemble import SuperLearner\\nfrom skl...on score: %.3f\" % accuracy_score(y_test, preds)) ', 'silent': False, 'stop_on_error': True, 'store_history': True, 'user_expressions': {}}, 'header': {'date': datetime.datetime(2022, 5, 26, 13, 43, 16, 676000, tzinfo=tzutc()), 'msg_id': '46487243db234e59bf8353dc7babfe94', 'msg_type': 'execute_request', 'session': '956c4adc8301493ba2e99a72e80c26a5', 'username': 'username', 'version': '5.2'}, 'metadata': {}, 'msg_id': '46487243db234e59bf8353dc7babfe94', 'msg_type': 'execute_request', 'parent_header': {}})\n    657         reply_content = self.do_execute(\n    658             code, silent, store_history,\n    659             user_expressions, allow_stdin,\n    660         )\n    661         if inspect.isawaitable(reply_content):\n--> 662             reply_content = await reply_content\n        reply_content = <coroutine object IPythonKernel.do_execute>\n    663 \n    664         # Flush output before sending the reply.\n    665         sys.stdout.flush()\n    666         sys.stderr.flush()\n\n...........................................................................\nC:\\Users\\D073999\\Miniconda3\\envs\\torch\\lib\\site-packages\\ipykernel\\ipkernel.py in do_execute(self=<ipykernel.ipkernel.IPythonKernel object>, code='from mlens.ensemble import SuperLearner\\nfrom skl...on score: %.3f\" % accuracy_score(y_test, preds)) ', silent=False, store_history=True, user_expressions={}, allow_stdin=True)\n    355                             shell.events.trigger('post_run_cell', res)\n    356             else:\n    357                 # runner isn't already running,\n    358                 # make synchronous call,\n    359                 # letting shell dispatch to loop runners\n--> 360                 res = shell.run_cell(code, store_history=store_history, silent=silent)\n        res = undefined\n        code = 'from mlens.ensemble import SuperLearner\\nfrom skl...on score: %.3f\" % accuracy_score(y_test, preds)) '\n        store_history = True\n        silent = False\n    361         finally:\n    362             self._restore_input()\n    363 \n    364         if res.error_before_exec is not None:\n\n...........................................................................\nC:\\Users\\D073999\\Miniconda3\\envs\\torch\\lib\\site-packages\\ipykernel\\zmqshell.py in run_cell(self=<ipykernel.zmqshell.ZMQInteractiveShell object>, *args=('from mlens.ensemble import SuperLearner\\nfrom skl...on score: %.3f\" % accuracy_score(y_test, preds)) ',), **kwargs={'silent': False, 'store_history': True})\n    527         )\n    528         self.payload_manager.write_payload(payload)\n    529 \n    530     def run_cell(self, *args, **kwargs):\n    531         self._last_traceback = None\n--> 532         return super().run_cell(*args, **kwargs)\n        args = ('from mlens.ensemble import SuperLearner\\nfrom skl...on score: %.3f\" % accuracy_score(y_test, preds)) ',)\n        kwargs = {'silent': False, 'store_history': True}\n    533 \n    534     def _showtraceback(self, etype, evalue, stb):\n    535         # try to preserve ordering of tracebacks and print statements\n    536         sys.stdout.flush()\n\n...........................................................................\nC:\\Users\\D073999\\Miniconda3\\envs\\torch\\lib\\site-packages\\IPython\\core\\interactiveshell.py in run_cell(self=<ipykernel.zmqshell.ZMQInteractiveShell object>, raw_cell='from mlens.ensemble import SuperLearner\\nfrom skl...on score: %.3f\" % accuracy_score(y_test, preds)) ', store_history=True, silent=False, shell_futures=True)\n   2910         result : :class:`ExecutionResult`\n   2911         \"\"\"\n   2912         result = None\n   2913         try:\n   2914             result = self._run_cell(\n-> 2915                 raw_cell, store_history, silent, shell_futures)\n        raw_cell = 'from mlens.ensemble import SuperLearner\\nfrom skl...on score: %.3f\" % accuracy_score(y_test, preds)) '\n        store_history = True\n        silent = False\n        shell_futures = True\n   2916         finally:\n   2917             self.events.trigger('post_execute')\n   2918             if not silent:\n   2919                 self.events.trigger('post_run_cell', result)\n\n...........................................................................\nC:\\Users\\D073999\\Miniconda3\\envs\\torch\\lib\\site-packages\\IPython\\core\\interactiveshell.py in _run_cell(self=<ipykernel.zmqshell.ZMQInteractiveShell object>, raw_cell='from mlens.ensemble import SuperLearner\\nfrom skl...on score: %.3f\" % accuracy_score(y_test, preds)) ', store_history=True, silent=False, shell_futures=True)\n   2955             runner = self.loop_runner\n   2956         else:\n   2957             runner = _pseudo_sync_runner\n   2958 \n   2959         try:\n-> 2960             return runner(coro)\n        runner = <function _pseudo_sync_runner>\n        coro = <coroutine object InteractiveShell.run_cell_async>\n   2961         except BaseException as e:\n   2962             info = ExecutionInfo(raw_cell, store_history, silent, shell_futures)\n   2963             result = ExecutionResult(info)\n   2964             result.error_in_exec = e\n\n...........................................................................\nC:\\Users\\D073999\\Miniconda3\\envs\\torch\\lib\\site-packages\\IPython\\core\\async_helpers.py in _pseudo_sync_runner(coro=<coroutine object InteractiveShell.run_cell_async>)\n     73 \n     74     Credit to Nathaniel Smith\n     75 \n     76     \"\"\"\n     77     try:\n---> 78         coro.send(None)\n        coro.send = <built-in method send of coroutine object>\n     79     except StopIteration as exc:\n     80         return exc.value\n     81     else:\n     82         # TODO: do not raise but return an execution result with the right info.\n\n...........................................................................\nC:\\Users\\D073999\\Miniconda3\\envs\\torch\\lib\\site-packages\\IPython\\core\\interactiveshell.py in run_cell_async(self=<ipykernel.zmqshell.ZMQInteractiveShell object>, raw_cell='from mlens.ensemble import SuperLearner\\nfrom skl...on score: %.3f\" % accuracy_score(y_test, preds)) ', store_history=True, silent=False, shell_futures=True, transformed_cell='from mlens.ensemble import SuperLearner\\nfrom skl...n score: %.3f\" % accuracy_score(y_test, preds)) \\n', preprocessing_exc_tuple=None)\n   3181                 interactivity = \"none\" if silent else self.ast_node_interactivity\n   3182                 if _run_async:\n   3183                     interactivity = 'async'\n   3184 \n   3185                 has_raised = await self.run_ast_nodes(code_ast.body, cell_name,\n-> 3186                        interactivity=interactivity, compiler=compiler, result=result)\n        interactivity = 'last_expr'\n        compiler = <ipykernel.compiler.XCachingCompiler object>\n   3187 \n   3188                 self.last_execution_succeeded = not has_raised\n   3189                 self.last_execution_result = result\n   3190 \n\n...........................................................................\nC:\\Users\\D073999\\Miniconda3\\envs\\torch\\lib\\site-packages\\IPython\\core\\interactiveshell.py in run_ast_nodes(self=<ipykernel.zmqshell.ZMQInteractiveShell object>, nodelist=[<_ast.ImportFrom object>, <_ast.ImportFrom object>, <_ast.ImportFrom object>, <_ast.ImportFrom object>, <_ast.ImportFrom object>, <_ast.Assign object>, <_ast.Assign object>, <_ast.Expr object>, <_ast.Assign object>, <_ast.Expr object>, <_ast.Expr object>, <_ast.Expr object>, <_ast.Assign object>, <_ast.Expr object>], cell_name=r'C:\\Users\\D073999\\AppData\\Local\\Temp\\ipykernel_21464\\3287195673.py', interactivity='last', compiler=<ipykernel.compiler.XCachingCompiler object>, result=<ExecutionResult object at 252c87611c8, executio...rue silent=False shell_futures=True> result=None>)\n   3372                     elif mode == 'single':\n   3373                         mod = ast.Interactive([node])\n   3374                     with compiler.extra_flags(getattr(ast, 'PyCF_ALLOW_TOP_LEVEL_AWAIT', 0x0) if self.autoawait else 0x0):\n   3375                         code = compiler(mod, cell_name, mode)\n   3376                         asy = compare(code)\n-> 3377                     if (await self.run_code(code, result,  async_=asy)):\n        self.run_code = <bound method InteractiveShell.run_code of <ipykernel.zmqshell.ZMQInteractiveShell object>>\n        code = <code object <module> at 0x00000252C9893DB0, fil...cal\\Temp\\ipykernel_21464\\3287195673.py\", line 25>\n        result = <ExecutionResult object at 252c87611c8, executio...rue silent=False shell_futures=True> result=None>\n        asy = False\n   3378                         return True\n   3379 \n   3380             # Flush softspace\n   3381             if softspace(sys.stdout, 0):\n\n...........................................................................\nC:\\Users\\D073999\\Miniconda3\\envs\\torch\\lib\\site-packages\\IPython\\core\\interactiveshell.py in run_code(self=<ipykernel.zmqshell.ZMQInteractiveShell object>, code_obj=<code object <module> at 0x00000252C9893DB0, fil...cal\\Temp\\ipykernel_21464\\3287195673.py\", line 25>, result=<ExecutionResult object at 252c87611c8, executio...rue silent=False shell_futures=True> result=None>, async_=False)\n   3452                     code = compile('last_expr', 'fake', \"single\")\n   3453                     exec(code, {'last_expr': last_expr})\n   3454                 elif async_ :\n   3455                     await eval(code_obj, self.user_global_ns, self.user_ns)\n   3456                 else:\n-> 3457                     exec(code_obj, self.user_global_ns, self.user_ns)\n        code_obj = <code object <module> at 0x00000252C9893DB0, fil...cal\\Temp\\ipykernel_21464\\3287195673.py\", line 25>\n        self.user_global_ns = {'BaseEstimator': <class 'sklearn.base.BaseEstimator'>, 'Boolean': <class 'bool'>, 'ClassifierMixin': <class 'sklearn.base.ClassifierMixin'>, 'CountVectorizer': <class 'sklearn.feature_extraction.text.CountVectorizer'>, 'DecisionTreeClassifier': <class 'sklearn.tree._classes.DecisionTreeClassifier'>, 'GridSearchCV': <class 'sklearn.model_selection._search.GridSearchCV'>, 'HTML': <class 'IPython.core.display.HTML'>, 'In': ['', \"# import libraries\\nimport seaborn as sns\\nimport ...import warnings\\nwarnings.filterwarnings('ignore')\", \"get_ipython().system('pip install demoji')\", '# Just in case the file structure does not make ...mpile(r\"#(\\\\w+)\")\\n    return pattern.findall(text)', \"import sys  \\nsys.path.insert(0, 'C:\\\\\\\\Users\\\\\\\\D073..._emoji, setup\\n#from src.data import preprocessing\", 'from mlens.ensemble import SuperLearner\\nfrom skl...on score: %.3f\" % accuracy_score(y_test, preds)) ', 'import functools\\nimport time\\n\\n\\ndef time_decorate...       return result\\n\\n    return time_measurement', \"class KNN_DM(BaseEstimator, ClassifierMixin):\\n  ...bel('Predicted label')\\n        plt.tight_layout()\", \"def featureize(rem_stop=False, do_stem=False, do...t)}')\\n    return X_train, X_test, y_train, y_test\", 'def convert_to_tf_idf(X_train, X_test):\\n    \\n   ...f, x_test_tfidf, x_train_counts, x_test_counts   ', 'from mlens.ensemble import SuperLearner\\nfrom skl...on score: %.3f\" % accuracy_score(y_test, preds)) '], 'KNN_DM': <class '__main__.KNN_DM'>, 'KNeighborsClassifier': <class 'sklearn.neighbors._classification.KNeighborsClassifier'>, ...}\n        self.user_ns = {'BaseEstimator': <class 'sklearn.base.BaseEstimator'>, 'Boolean': <class 'bool'>, 'ClassifierMixin': <class 'sklearn.base.ClassifierMixin'>, 'CountVectorizer': <class 'sklearn.feature_extraction.text.CountVectorizer'>, 'DecisionTreeClassifier': <class 'sklearn.tree._classes.DecisionTreeClassifier'>, 'GridSearchCV': <class 'sklearn.model_selection._search.GridSearchCV'>, 'HTML': <class 'IPython.core.display.HTML'>, 'In': ['', \"# import libraries\\nimport seaborn as sns\\nimport ...import warnings\\nwarnings.filterwarnings('ignore')\", \"get_ipython().system('pip install demoji')\", '# Just in case the file structure does not make ...mpile(r\"#(\\\\w+)\")\\n    return pattern.findall(text)', \"import sys  \\nsys.path.insert(0, 'C:\\\\\\\\Users\\\\\\\\D073..._emoji, setup\\n#from src.data import preprocessing\", 'from mlens.ensemble import SuperLearner\\nfrom skl...on score: %.3f\" % accuracy_score(y_test, preds)) ', 'import functools\\nimport time\\n\\n\\ndef time_decorate...       return result\\n\\n    return time_measurement', \"class KNN_DM(BaseEstimator, ClassifierMixin):\\n  ...bel('Predicted label')\\n        plt.tight_layout()\", \"def featureize(rem_stop=False, do_stem=False, do...t)}')\\n    return X_train, X_test, y_train, y_test\", 'def convert_to_tf_idf(X_train, X_test):\\n    \\n   ...f, x_test_tfidf, x_train_counts, x_test_counts   ', 'from mlens.ensemble import SuperLearner\\nfrom skl...on score: %.3f\" % accuracy_score(y_test, preds)) '], 'KNN_DM': <class '__main__.KNN_DM'>, 'KNeighborsClassifier': <class 'sklearn.neighbors._classification.KNeighborsClassifier'>, ...}\n   3458             finally:\n   3459                 # Reset our crash handler in place\n   3460                 sys.excepthook = old_excepthook\n   3461         except SystemExit as e:\n\n...........................................................................\nC:\\Users\\D073999\\AppData\\Local\\Temp\\ipykernel_21464\\3287195673.py in <module>()\n     20 \n     21 # Attach the final meta estimator\n     22 ensemble.add_meta(DecisionTreeClassifier())\n     23 \n     24 # Fit ensemble\n---> 25 ensemble.fit(X_train_c.toarray(),y_train)\n     26 \n     27 # Predict\n     28 preds = ensemble.predict(X_test_c)\n     29 \n\n...........................................................................\nC:\\Users\\D073999\\Miniconda3\\envs\\torch\\lib\\site-packages\\mlens\\ensemble\\base.py in fit(self=SuperLearner(array_check=None, backend=None, fol...000252BF7B7D38>, shuffle=False,\n       verbose=0), X=array([[0, 0, 0, ..., 0, 0, 0],\n       [0, 0, 0,...0],\n       [0, 0, 0, ..., 0, 0, 0]], dtype=int64), y=30405    0\n27807    0\n8660     0\n19185    0\n1035...850    0\nName: label, Length: 25569, dtype: int64, **kwargs={})\n    509             return self\n    510 \n    511         if self.model_selection:\n    512             self._id_train.fit(X)\n    513 \n--> 514         out = self._backend.fit(X, y, **kwargs)\n        out = undefined\n        self._backend.fit = <bound method Sequential.fit of Sequential(backe...nsformers=[])],\n   verbose=0)],\n      verbose=0)>\n        X = array([[0, 0, 0, ..., 0, 0, 0],\n       [0, 0, 0,...0],\n       [0, 0, 0, ..., 0, 0, 0]], dtype=int64)\n        y = 30405    0\n27807    0\n8660     0\n19185    0\n1035...850    0\nName: label, Length: 25569, dtype: int64\n        kwargs = {}\n    515         if out is not self._backend:\n    516             # fit_transform\n    517             return out\n    518         else:\n\n...........................................................................\nC:\\Users\\D073999\\Miniconda3\\envs\\torch\\lib\\site-packages\\mlens\\ensemble\\base.py in fit(self=Sequential(backend='threading', dtype=<class 'nu...ansformers=[])],\n   verbose=0)],\n      verbose=0), X=array([[0, 0, 0, ..., 0, 0, 0],\n       [0, 0, 0,...0],\n       [0, 0, 0, ..., 0, 0, 0]], dtype=int64), y=30405    0\n27807    0\n8660     0\n19185    0\n1035...850    0\nName: label, Length: 25569, dtype: int64, **kwargs={})\n    153 \n    154         f, t0 = print_job(self, \"Fitting\")\n    155 \n    156         with ParallelProcessing(self.backend, self.n_jobs,\n    157                                 max(self.verbose - 4, 0)) as manager:\n--> 158             out = manager.stack(self, 'fit', X, y, **kwargs)\n        out = undefined\n        manager.stack = <bound method ParallelProcessing.stack of <mlens.parallel.backend.ParallelProcessing object>>\n        self = Sequential(backend='threading', dtype=<class 'nu...ansformers=[])],\n   verbose=0)],\n      verbose=0)\n        X = array([[0, 0, 0, ..., 0, 0, 0],\n       [0, 0, 0,...0],\n       [0, 0, 0, ..., 0, 0, 0]], dtype=int64)\n        y = 30405    0\n27807    0\n8660     0\n19185    0\n1035...850    0\nName: label, Length: 25569, dtype: int64\n        kwargs = {}\n    159 \n    160         if self.verbose:\n    161             print_time(t0, \"{:<35}\".format(\"Fit complete\"), file=f)\n    162 \n\n...........................................................................\nC:\\Users\\D073999\\Miniconda3\\envs\\torch\\lib\\site-packages\\mlens\\parallel\\backend.py in stack(self=<mlens.parallel.backend.ParallelProcessing object>, caller=Sequential(backend='threading', dtype=<class 'nu...ansformers=[])],\n   verbose=0)],\n      verbose=0), job='fit', X=array([[0, 0, 0, ..., 0, 0, 0],\n       [0, 0, 0,...0],\n       [0, 0, 0, ..., 0, 0, 0]], dtype=int64), y=30405    0\n27807    0\n8660     0\n19185    0\n1035...850    0\nName: label, Length: 25569, dtype: int64, path=None, return_preds=False, warm_start=False, split=True, **kwargs={})\n    668             Prediction array(s).\n    669         \"\"\"\n    670         out = self.initialize(\n    671             job=job, X=X, y=y, path=path, warm_start=warm_start,\n    672             return_preds=return_preds, split=split, stack=True)\n--> 673         return self.process(caller=caller, out=out, **kwargs)\n        self.process = <bound method ParallelProcessing.process of <mlens.parallel.backend.ParallelProcessing object>>\n        caller = Sequential(backend='threading', dtype=<class 'nu...ansformers=[])],\n   verbose=0)],\n      verbose=0)\n        out = {}\n        kwargs = {}\n    674 \n    675     def process(self, caller, out, **kwargs):\n    676         \"\"\"Process job.\n    677 \n\n...........................................................................\nC:\\Users\\D073999\\Miniconda3\\envs\\torch\\lib\\site-packages\\mlens\\parallel\\backend.py in process(self=<mlens.parallel.backend.ParallelProcessing object>, caller=Sequential(backend='threading', dtype=<class 'nu...ansformers=[])],\n   verbose=0)],\n      verbose=0), out=None, **kwargs={})\n    713                       backend=self.backend) as parallel:\n    714 \n    715             for task in caller:\n    716                 self.job.clear()\n    717 \n--> 718                 self._partial_process(task, parallel, **kwargs)\n        self._partial_process = <bound method ParallelProcessing._partial_proces...lens.parallel.backend.ParallelProcessing object>>\n        task = Layer(backend='threading', dtype=<class 'numpy.f..._exception=True, transformers=[])],\n   verbose=0)\n        parallel = Parallel(n_jobs=-1)\n        kwargs = {}\n    719 \n    720                 if task.name in return_names:\n    721                     out.append(self.get_preds(dtype=_dtype(task)))\n    722 \n\n...........................................................................\nC:\\Users\\D073999\\Miniconda3\\envs\\torch\\lib\\site-packages\\mlens\\parallel\\backend.py in _partial_process(self=<mlens.parallel.backend.ParallelProcessing object>, task=Layer(backend='threading', dtype=<class 'numpy.f..._exception=True, transformers=[])],\n   verbose=0), parallel=Parallel(n_jobs=-1), **kwargs={})\n    734         task.setup(self.job.predict_in, self.job.targets, self.job.job)\n    735 \n    736         if not task.__no_output__:\n    737             self._gen_prediction_array(task, self.job.job, self.__threading__)\n    738 \n--> 739         task(self.job.args(**kwargs), parallel=parallel)\n        task = Layer(backend='threading', dtype=<class 'numpy.f..._exception=True, transformers=[])],\n   verbose=0)\n        self.job.args = <bound method Job.args of <mlens.parallel.backend.Job object>>\n        kwargs = {}\n        parallel = Parallel(n_jobs=-1)\n    740 \n    741         if not task.__no_output__ and getattr(task, 'n_feature_prop', 0):\n    742             self._propagate_features(task)\n    743 \n\n...........................................................................\nC:\\Users\\D073999\\Miniconda3\\envs\\torch\\lib\\site-packages\\mlens\\parallel\\layer.py in __call__(self=Layer(backend='threading', dtype=<class 'numpy.f..._exception=True, transformers=[])],\n   verbose=0), args={'auxiliary': {'P': None, 'X': array([[0, 0, 0, ..., 0, 0, 0],\n       [0, 0, 0,...0],\n       [0, 0, 0, ..., 0, 0, 0]], dtype=int64), 'y': 30405    0\n27807    0\n8660     0\n19185    0\n1035...850    0\nName: label, Length: 25569, dtype: int64}, 'dir': [('kneighborsclassifier.0.0', <mlens.parallel.learner.IndexedEstimator object>)], 'job': 'fit', 'main': {'P': array([[0., 0.],\n       [0., 0.],\n       [0., 0....       [0., 0.],\n       [0., 0.]], dtype=float32), 'X': array([[0, 0, 0, ..., 0, 0, 0],\n       [0, 0, 0,...0],\n       [0, 0, 0, ..., 0, 0, 0]], dtype=int64), 'y': 30405    0\n27807    0\n8660     0\n19185    0\n1035...850    0\nName: label, Length: 25569, dtype: int64}}, parallel=Parallel(n_jobs=-1))\n    147         if self.verbose >= 2:\n    148             safe_print(msg.format('Learners ...'), file=f, end=e2)\n    149             t1 = time()\n    150 \n    151         parallel(delayed(sublearner, not _threading)()\n--> 152                  for learner in self.learners\n        self.learners = [Learner(attr='predict', backend='threading', dty...scorer=<function f1_score at 0x00000252BF7B7D38>), Learner(attr='predict', backend='threading', dty...scorer=<function f1_score at 0x00000252BF7B7D38>)]\n    153                  for sublearner in learner(args, 'main'))\n    154 \n    155         if self.verbose >= 2:\n    156             print_time(t1, 'done', file=f)\n\n...........................................................................\nC:\\Users\\D073999\\Miniconda3\\envs\\torch\\lib\\site-packages\\mlens\\externals\\joblib\\parallel.py in __call__(self=Parallel(n_jobs=-1), iterable=<generator object Layer.__call__.<locals>.<genexpr>>)\n    788             if pre_dispatch == \"all\" or n_jobs == 1:\n    789                 # The iterable was consumed all at once by the above for loop.\n    790                 # No need to wait for async callbacks to trigger to\n    791                 # consumption.\n    792                 self._iterating = False\n--> 793             self.retrieve()\n        self.retrieve = <bound method Parallel.retrieve of Parallel(n_jobs=-1)>\n    794             # Make sure that we get a last message telling us we are done\n    795             elapsed_time = time.time() - self._start_time\n    796             self._print('Done %3i out of %3i | elapsed: %s finished',\n    797                         (len(self._output), len(self._output),\n\n---------------------------------------------------------------------------\nSub-process traceback:\n---------------------------------------------------------------------------\nMemoryError                                        Thu May 26 15:46:53 2022\nPID: 21464 Python 3.7.13: C:\\Users\\D073999\\Miniconda3\\envs\\torch\\python.exe\n...........................................................................\nC:\\Users\\D073999\\Miniconda3\\envs\\torch\\lib\\site-packages\\mlens\\externals\\joblib\\parallel.py in __call__(self=<mlens.externals.joblib.parallel.BatchedCalls object>)\n    130     def __init__(self, iterator_slice):\n    131         self.items = list(iterator_slice)\n    132         self._size = len(self.items)\n    133 \n    134     def __call__(self):\n--> 135         return [func(*args, **kwargs) for func, args, kwargs in self.items]\n        self.items = [(<mlens.parallel.learner.SubLearner object>, (), {})]\n    136 \n    137     def __len__(self):\n    138         return self._size\n    139 \n\n...........................................................................\nC:\\Users\\D073999\\Miniconda3\\envs\\torch\\lib\\site-packages\\mlens\\externals\\joblib\\parallel.py in <listcomp>(.0=<list_iterator object>)\n    130     def __init__(self, iterator_slice):\n    131         self.items = list(iterator_slice)\n    132         self._size = len(self.items)\n    133 \n    134     def __call__(self):\n--> 135         return [func(*args, **kwargs) for func, args, kwargs in self.items]\n        func = <mlens.parallel.learner.SubLearner object>\n        args = ()\n        kwargs = {}\n    136 \n    137     def __len__(self):\n    138         return self._size\n    139 \n\n...........................................................................\nC:\\Users\\D073999\\Miniconda3\\envs\\torch\\lib\\site-packages\\mlens\\parallel\\learner.py in __call__(self=<mlens.parallel.learner.SubLearner object>)\n    119         else:\n    120             self.processing_index = ''\n    121 \n    122     def __call__(self):\n    123         \"\"\"Launch job\"\"\"\n--> 124         return getattr(self, self.job)()\n        self = <mlens.parallel.learner.SubLearner object>\n        self.job = 'fit'\n    125 \n    126     def fit(self, path=None):\n    127         \"\"\"Fit sub-learner\"\"\"\n    128         if path is None:\n\n...........................................................................\nC:\\Users\\D073999\\Miniconda3\\envs\\torch\\lib\\site-packages\\mlens\\parallel\\learner.py in fit(self=<mlens.parallel.learner.SubLearner object>, path=[('kneighborsclassifier.0.0', <mlens.parallel.learner.IndexedEstimator object>)])\n    131         transformers = self._load_preprocess(path)\n    132 \n    133         self._fit(transformers)\n    134 \n    135         if self.out_array is not None:\n--> 136             self._predict(transformers, self.scorer is not None)\n        self._predict = <bound method SubLearner._predict of <mlens.parallel.learner.SubLearner object>>\n        transformers = None\n        self.scorer = <function f1_score>\n    137 \n    138         o = IndexedEstimator(estimator=self.estimator,\n    139                              name=self.name_index,\n    140                              index=self.index,\n\n...........................................................................\nC:\\Users\\D073999\\Miniconda3\\envs\\torch\\lib\\site-packages\\mlens\\parallel\\learner.py in _predict(self=<mlens.parallel.learner.SubLearner object>, transformers=None, score_preds=True)\n    194         xtemp, ytemp = slice_array(self.in_array, self.targets, self.out_index)\n    195         t0 = time()\n    196 \n    197         if transformers:\n    198             xtemp, ytemp = transformers.transform(xtemp, ytemp)\n--> 199         predictions = getattr(self.estimator, self.attr)(xtemp)\n        predictions = undefined\n        self.estimator = KNeighborsClassifier(algorithm='ball_tree', metric='l1', n_neighbors=2)\n        self.attr = 'predict'\n        xtemp = array([[0, 0, 0, ..., 0, 0, 0],\n       [0, 0, 0,...0],\n       [0, 0, 0, ..., 0, 0, 0]], dtype=int64)\n    200 \n    201         self.pred_time_ = time() - t0\n    202 \n    203         # Assign predictions to matrix\n\n...........................................................................\nC:\\Users\\D073999\\Miniconda3\\envs\\torch\\lib\\site-packages\\sklearn\\neighbors\\_classification.py in predict(self=KNeighborsClassifier(algorithm='ball_tree', metric='l1', n_neighbors=2), X=array([[0, 0, 0, ..., 0, 0, 0],\n       [0, 0, 0,...0],\n       [0, 0, 0, ..., 0, 0, 0]], dtype=int64))\n    209         Returns\n    210         -------\n    211         y : ndarray of shape (n_queries,) or (n_queries, n_outputs)\n    212             Class labels for each data sample.\n    213         \"\"\"\n--> 214         neigh_dist, neigh_ind = self.kneighbors(X)\n        neigh_dist = undefined\n        neigh_ind = undefined\n        self.kneighbors = <bound method KNeighborsMixin.kneighbors of KNei...gorithm='ball_tree', metric='l1', n_neighbors=2)>\n        X = array([[0, 0, 0, ..., 0, 0, 0],\n       [0, 0, 0,...0],\n       [0, 0, 0, ..., 0, 0, 0]], dtype=int64)\n    215         classes_ = self.classes_\n    216         _y = self._y\n    217         if not self.outputs_2d_:\n    218             _y = self._y.reshape((-1, 1))\n\n...........................................................................\nC:\\Users\\D073999\\Miniconda3\\envs\\torch\\lib\\site-packages\\sklearn\\neighbors\\_base.py in kneighbors(self=KNeighborsClassifier(algorithm='ball_tree', metric='l1', n_neighbors=2), X=array([[0, 0, 0, ..., 0, 0, 0],\n       [0, 0, 0,...0],\n       [0, 0, 0, ..., 0, 0, 0]], dtype=int64), n_neighbors=2, return_distance=True)\n    775                 parallel_kwargs = {\"prefer\": \"threads\"}\n    776             chunked_results = Parallel(n_jobs, **parallel_kwargs)(\n    777                 delayed(_tree_query_parallel_helper)(\n    778                     self._tree, X[s], n_neighbors, return_distance\n    779                 )\n--> 780                 for s in gen_even_slices(X.shape[0], n_jobs)\n        X.shape = (12785, 32129)\n        n_jobs = 1\n    781             )\n    782         else:\n    783             raise ValueError(\"internal: _fit_method not recognized\")\n    784 \n\n...........................................................................\nC:\\Users\\D073999\\Miniconda3\\envs\\torch\\lib\\site-packages\\joblib\\parallel.py in __call__(self=Parallel(n_jobs=1), iterable=<generator object KNeighborsMixin.kneighbors.<locals>.<genexpr>>)\n   1038             # self._original_iterator is None, then this means either\n   1039             # that pre_dispatch == \"all\", n_jobs == 1 or that the first batch\n   1040             # was very quick and its callback already dispatched all the\n   1041             # remaining jobs.\n   1042             self._iterating = False\n-> 1043             if self.dispatch_one_batch(iterator):\n        self.dispatch_one_batch = <bound method Parallel.dispatch_one_batch of Parallel(n_jobs=1)>\n        iterator = <generator object KNeighborsMixin.kneighbors.<locals>.<genexpr>>\n   1044                 self._iterating = self._original_iterator is not None\n   1045 \n   1046             while self.dispatch_one_batch(iterator):\n   1047                 pass\n\n...........................................................................\nC:\\Users\\D073999\\Miniconda3\\envs\\torch\\lib\\site-packages\\joblib\\parallel.py in dispatch_one_batch(self=Parallel(n_jobs=1), iterator=<generator object KNeighborsMixin.kneighbors.<locals>.<genexpr>>)\n    856                 tasks = self._ready_batches.get(block=False)\n    857             if len(tasks) == 0:\n    858                 # No more tasks available in the iterator: tell caller to stop.\n    859                 return False\n    860             else:\n--> 861                 self._dispatch(tasks)\n        self._dispatch = <bound method Parallel._dispatch of Parallel(n_jobs=1)>\n        tasks = <joblib.parallel.BatchedCalls object>\n    862                 return True\n    863 \n    864     def _print(self, msg, msg_args):\n    865         \"\"\"Display the message on stout or stderr depending on verbosity\"\"\"\n\n...........................................................................\nC:\\Users\\D073999\\Miniconda3\\envs\\torch\\lib\\site-packages\\joblib\\parallel.py in _dispatch(self=Parallel(n_jobs=1), batch=<joblib.parallel.BatchedCalls object>)\n    774 \n    775         dispatch_timestamp = time.time()\n    776         cb = BatchCompletionCallBack(dispatch_timestamp, len(batch), self)\n    777         with self._lock:\n    778             job_idx = len(self._jobs)\n--> 779             job = self._backend.apply_async(batch, callback=cb)\n        job = undefined\n        self._backend.apply_async = <bound method SequentialBackend.apply_async of <joblib._parallel_backends.SequentialBackend object>>\n        batch = <joblib.parallel.BatchedCalls object>\n        cb = <joblib.parallel.BatchCompletionCallBack object>\n    780             # A job can complete so quickly than its callback is\n    781             # called before we get here, causing self._jobs to\n    782             # grow. To ensure correct results ordering, .insert is\n    783             # used (rather than .append) in the following line\n\n...........................................................................\nC:\\Users\\D073999\\Miniconda3\\envs\\torch\\lib\\site-packages\\joblib\\_parallel_backends.py in apply_async(self=<joblib._parallel_backends.SequentialBackend object>, func=<joblib.parallel.BatchedCalls object>, callback=<joblib.parallel.BatchCompletionCallBack object>)\n    203             raise ValueError('n_jobs == 0 in Parallel has no meaning')\n    204         return 1\n    205 \n    206     def apply_async(self, func, callback=None):\n    207         \"\"\"Schedule a func to be run\"\"\"\n--> 208         result = ImmediateResult(func)\n        result = undefined\n        func = <joblib.parallel.BatchedCalls object>\n    209         if callback:\n    210             callback(result)\n    211         return result\n    212 \n\n...........................................................................\nC:\\Users\\D073999\\Miniconda3\\envs\\torch\\lib\\site-packages\\joblib\\_parallel_backends.py in __init__(self=<joblib._parallel_backends.ImmediateResult object>, batch=<joblib.parallel.BatchedCalls object>)\n    567 \n    568 class ImmediateResult(object):\n    569     def __init__(self, batch):\n    570         # Don't delay the application, to avoid keeping the input\n    571         # arguments in memory\n--> 572         self.results = batch()\n        self.results = undefined\n        batch = <joblib.parallel.BatchedCalls object>\n    573 \n    574     def get(self):\n    575         return self.results\n    576 \n\n...........................................................................\nC:\\Users\\D073999\\Miniconda3\\envs\\torch\\lib\\site-packages\\joblib\\parallel.py in __call__(self=<joblib.parallel.BatchedCalls object>)\n    258     def __call__(self):\n    259         # Set the default nested backend to self._backend but do not set the\n    260         # change the default number of processes to -1\n    261         with parallel_backend(self._backend, n_jobs=self._n_jobs):\n    262             return [func(*args, **kwargs)\n--> 263                     for func, args, kwargs in self.items]\n        self.items = [(<sklearn.utils.fixes._FuncWrapper object>, (<sklearn.neighbors._ball_tree.BallTree object>, array([[0, 0, 0, ..., 0, 0, 0],\n       [0, 0, 0,...0],\n       [0, 0, 0, ..., 0, 0, 0]], dtype=int64), 2, True), {})]\n    264 \n    265     def __reduce__(self):\n    266         if self._reducer_callback is not None:\n    267             self._reducer_callback()\n\n...........................................................................\nC:\\Users\\D073999\\Miniconda3\\envs\\torch\\lib\\site-packages\\joblib\\parallel.py in <listcomp>(.0=<list_iterator object>)\n    258     def __call__(self):\n    259         # Set the default nested backend to self._backend but do not set the\n    260         # change the default number of processes to -1\n    261         with parallel_backend(self._backend, n_jobs=self._n_jobs):\n    262             return [func(*args, **kwargs)\n--> 263                     for func, args, kwargs in self.items]\n        func = <sklearn.utils.fixes._FuncWrapper object>\n        args = (<sklearn.neighbors._ball_tree.BallTree object>, array([[0, 0, 0, ..., 0, 0, 0],\n       [0, 0, 0,...0],\n       [0, 0, 0, ..., 0, 0, 0]], dtype=int64), 2, True)\n        kwargs = {}\n    264 \n    265     def __reduce__(self):\n    266         if self._reducer_callback is not None:\n    267             self._reducer_callback()\n\n...........................................................................\nC:\\Users\\D073999\\Miniconda3\\envs\\torch\\lib\\site-packages\\sklearn\\utils\\fixes.py in __call__(self=<sklearn.utils.fixes._FuncWrapper object>, *args=(<sklearn.neighbors._ball_tree.BallTree object>, array([[0, 0, 0, ..., 0, 0, 0],\n       [0, 0, 0,...0],\n       [0, 0, 0, ..., 0, 0, 0]], dtype=int64), 2, True), **kwargs={})\n    211         self.config = get_config()\n    212         update_wrapper(self, self.function)\n    213 \n    214     def __call__(self, *args, **kwargs):\n    215         with config_context(**self.config):\n--> 216             return self.function(*args, **kwargs)\n        self.function = <function _tree_query_parallel_helper>\n        args = (<sklearn.neighbors._ball_tree.BallTree object>, array([[0, 0, 0, ..., 0, 0, 0],\n       [0, 0, 0,...0],\n       [0, 0, 0, ..., 0, 0, 0]], dtype=int64), 2, True)\n        kwargs = {}\n    217 \n    218 \n    219 def linspace(start, stop, num=50, endpoint=True, retstep=False, dtype=None, axis=0):\n    220     \"\"\"Implements a simplified linspace function as of numpy version >= 1.16.\n\n...........................................................................\nC:\\Users\\D073999\\Miniconda3\\envs\\torch\\lib\\site-packages\\sklearn\\neighbors\\_base.py in _tree_query_parallel_helper(tree=<sklearn.neighbors._ball_tree.BallTree object>, *args=(array([[0, 0, 0, ..., 0, 0, 0],\n       [0, 0, 0,...0],\n       [0, 0, 0, ..., 0, 0, 0]], dtype=int64), 2, True), **kwargs={})\n    595     \"\"\"Helper for the Parallel calls in KNeighborsMixin.kneighbors.\n    596 \n    597     The Cython method tree.query is not directly picklable by cloudpickle\n    598     under PyPy.\n    599     \"\"\"\n--> 600     return tree.query(*args, **kwargs)\n        tree.query = <built-in method query of sklearn.neighbors._ball_tree.BallTree object>\n        args = (array([[0, 0, 0, ..., 0, 0, 0],\n       [0, 0, 0,...0],\n       [0, 0, 0, ..., 0, 0, 0]], dtype=int64), 2, True)\n        kwargs = {}\n    601 \n    602 \n    603 class KNeighborsMixin:\n    604     \"\"\"Mixin for k-neighbors searches.\"\"\"\n\n...........................................................................\nC:\\Users\\D073999\\Miniconda3\\envs\\torch\\lib\\site-packages\\sklearn\\neighbors\\_ball_tree.cp37-win_amd64.pyd in sklearn.neighbors._ball_tree.BinaryTree.query()\n\n...........................................................................\nC:\\Users\\D073999\\Miniconda3\\envs\\torch\\lib\\site-packages\\sklearn\\utils\\validation.py in check_array(array=array([[0, 0, 0, ..., 0, 0, 0],\n       [0, 0, 0,...0],\n       [0, 0, 0, ..., 0, 0, 0]], dtype=int64), accept_sparse=False, accept_large_sparse=True, dtype=<class 'numpy.float64'>, order='C', copy=False, force_all_finite=True, ensure_2d=True, allow_nd=False, ensure_min_samples=1, ensure_min_features=1, estimator=None)\n    741                     array = np.asarray(array, order=order)\n    742                     if array.dtype.kind == \"f\":\n    743                         _assert_all_finite(array, allow_nan=False, msg_dtype=dtype)\n    744                     array = array.astype(dtype, casting=\"unsafe\", copy=False)\n    745                 else:\n--> 746                     array = np.asarray(array, order=order, dtype=dtype)\n        array = array([[0, 0, 0, ..., 0, 0, 0],\n       [0, 0, 0,...0],\n       [0, 0, 0, ..., 0, 0, 0]], dtype=int64)\n        order = 'C'\n        dtype = <class 'numpy.float64'>\n    747             except ComplexWarning as complex_warning:\n    748                 raise ValueError(\n    749                     \"Complex data not supported\\n{}\\n\".format(array)\n    750                 ) from complex_warning\n\n...........................................................................\nC:\\Users\\D073999\\Miniconda3\\envs\\torch\\lib\\site-packages\\numpy\\core\\_asarray.py in asarray(a=array([[0, 0, 0, ..., 0, 0, 0],\n       [0, 0, 0,...0],\n       [0, 0, 0, ..., 0, 0, 0]], dtype=int64), dtype=<class 'numpy.float64'>, order='C')\n     78     False\n     79     >>> np.asanyarray(a) is a\n     80     True\n     81 \n     82     \"\"\"\n---> 83     return array(a, dtype, copy=False, order=order)\n        a = array([[0, 0, 0, ..., 0, 0, 0],\n       [0, 0, 0,...0],\n       [0, 0, 0, ..., 0, 0, 0]], dtype=int64)\n        dtype = <class 'numpy.float64'>\n        order = 'C'\n     84 \n     85 \n     86 @set_module('numpy')\n     87 def asanyarray(a, dtype=None, order=None):\n\nMemoryError: Unable to allocate 3.06 GiB for an array with shape (12785, 32129) and data type float64\n___________________________________________________________________________",
     "output_type": "error",
     "traceback": [
      "\u001b[1;31m---------------------------------------------------------------------------\u001b[0m",
      "\u001b[1;31mMemoryError\u001b[0m                               Traceback (most recent call last)",
      "\u001b[1;32m~\\Miniconda3\\envs\\torch\\lib\\site-packages\\mlens\\externals\\joblib\\_parallel_backends.py\u001b[0m in \u001b[0;36m__call__\u001b[1;34m(self, *args, **kwargs)\u001b[0m\n\u001b[0;32m    349\u001b[0m         \u001b[1;32mtry\u001b[0m\u001b[1;33m:\u001b[0m\u001b[1;33m\u001b[0m\u001b[1;33m\u001b[0m\u001b[0m\n\u001b[1;32m--> 350\u001b[1;33m             \u001b[1;32mreturn\u001b[0m \u001b[0mself\u001b[0m\u001b[1;33m.\u001b[0m\u001b[0mfunc\u001b[0m\u001b[1;33m(\u001b[0m\u001b[1;33m*\u001b[0m\u001b[0margs\u001b[0m\u001b[1;33m,\u001b[0m \u001b[1;33m**\u001b[0m\u001b[0mkwargs\u001b[0m\u001b[1;33m)\u001b[0m\u001b[1;33m\u001b[0m\u001b[1;33m\u001b[0m\u001b[0m\n\u001b[0m\u001b[0;32m    351\u001b[0m         \u001b[1;32mexcept\u001b[0m \u001b[0mKeyboardInterrupt\u001b[0m\u001b[1;33m:\u001b[0m\u001b[1;33m\u001b[0m\u001b[1;33m\u001b[0m\u001b[0m\n",
      "\u001b[1;32m~\\Miniconda3\\envs\\torch\\lib\\site-packages\\mlens\\externals\\joblib\\parallel.py\u001b[0m in \u001b[0;36m__call__\u001b[1;34m(self)\u001b[0m\n\u001b[0;32m    134\u001b[0m     \u001b[1;32mdef\u001b[0m \u001b[0m__call__\u001b[0m\u001b[1;33m(\u001b[0m\u001b[0mself\u001b[0m\u001b[1;33m)\u001b[0m\u001b[1;33m:\u001b[0m\u001b[1;33m\u001b[0m\u001b[1;33m\u001b[0m\u001b[0m\n\u001b[1;32m--> 135\u001b[1;33m         \u001b[1;32mreturn\u001b[0m \u001b[1;33m[\u001b[0m\u001b[0mfunc\u001b[0m\u001b[1;33m(\u001b[0m\u001b[1;33m*\u001b[0m\u001b[0margs\u001b[0m\u001b[1;33m,\u001b[0m \u001b[1;33m**\u001b[0m\u001b[0mkwargs\u001b[0m\u001b[1;33m)\u001b[0m \u001b[1;32mfor\u001b[0m \u001b[0mfunc\u001b[0m\u001b[1;33m,\u001b[0m \u001b[0margs\u001b[0m\u001b[1;33m,\u001b[0m \u001b[0mkwargs\u001b[0m \u001b[1;32min\u001b[0m \u001b[0mself\u001b[0m\u001b[1;33m.\u001b[0m\u001b[0mitems\u001b[0m\u001b[1;33m]\u001b[0m\u001b[1;33m\u001b[0m\u001b[1;33m\u001b[0m\u001b[0m\n\u001b[0m\u001b[0;32m    136\u001b[0m \u001b[1;33m\u001b[0m\u001b[0m\n",
      "\u001b[1;32m~\\Miniconda3\\envs\\torch\\lib\\site-packages\\mlens\\externals\\joblib\\parallel.py\u001b[0m in \u001b[0;36m<listcomp>\u001b[1;34m(.0)\u001b[0m\n\u001b[0;32m    134\u001b[0m     \u001b[1;32mdef\u001b[0m \u001b[0m__call__\u001b[0m\u001b[1;33m(\u001b[0m\u001b[0mself\u001b[0m\u001b[1;33m)\u001b[0m\u001b[1;33m:\u001b[0m\u001b[1;33m\u001b[0m\u001b[1;33m\u001b[0m\u001b[0m\n\u001b[1;32m--> 135\u001b[1;33m         \u001b[1;32mreturn\u001b[0m \u001b[1;33m[\u001b[0m\u001b[0mfunc\u001b[0m\u001b[1;33m(\u001b[0m\u001b[1;33m*\u001b[0m\u001b[0margs\u001b[0m\u001b[1;33m,\u001b[0m \u001b[1;33m**\u001b[0m\u001b[0mkwargs\u001b[0m\u001b[1;33m)\u001b[0m \u001b[1;32mfor\u001b[0m \u001b[0mfunc\u001b[0m\u001b[1;33m,\u001b[0m \u001b[0margs\u001b[0m\u001b[1;33m,\u001b[0m \u001b[0mkwargs\u001b[0m \u001b[1;32min\u001b[0m \u001b[0mself\u001b[0m\u001b[1;33m.\u001b[0m\u001b[0mitems\u001b[0m\u001b[1;33m]\u001b[0m\u001b[1;33m\u001b[0m\u001b[1;33m\u001b[0m\u001b[0m\n\u001b[0m\u001b[0;32m    136\u001b[0m \u001b[1;33m\u001b[0m\u001b[0m\n",
      "\u001b[1;32m~\\Miniconda3\\envs\\torch\\lib\\site-packages\\mlens\\parallel\\learner.py\u001b[0m in \u001b[0;36m__call__\u001b[1;34m(self)\u001b[0m\n\u001b[0;32m    123\u001b[0m         \u001b[1;34m\"\"\"Launch job\"\"\"\u001b[0m\u001b[1;33m\u001b[0m\u001b[1;33m\u001b[0m\u001b[0m\n\u001b[1;32m--> 124\u001b[1;33m         \u001b[1;32mreturn\u001b[0m \u001b[0mgetattr\u001b[0m\u001b[1;33m(\u001b[0m\u001b[0mself\u001b[0m\u001b[1;33m,\u001b[0m \u001b[0mself\u001b[0m\u001b[1;33m.\u001b[0m\u001b[0mjob\u001b[0m\u001b[1;33m)\u001b[0m\u001b[1;33m(\u001b[0m\u001b[1;33m)\u001b[0m\u001b[1;33m\u001b[0m\u001b[1;33m\u001b[0m\u001b[0m\n\u001b[0m\u001b[0;32m    125\u001b[0m \u001b[1;33m\u001b[0m\u001b[0m\n",
      "\u001b[1;32m~\\Miniconda3\\envs\\torch\\lib\\site-packages\\mlens\\parallel\\learner.py\u001b[0m in \u001b[0;36mfit\u001b[1;34m(self, path)\u001b[0m\n\u001b[0;32m    135\u001b[0m         \u001b[1;32mif\u001b[0m \u001b[0mself\u001b[0m\u001b[1;33m.\u001b[0m\u001b[0mout_array\u001b[0m \u001b[1;32mis\u001b[0m \u001b[1;32mnot\u001b[0m \u001b[1;32mNone\u001b[0m\u001b[1;33m:\u001b[0m\u001b[1;33m\u001b[0m\u001b[1;33m\u001b[0m\u001b[0m\n\u001b[1;32m--> 136\u001b[1;33m             \u001b[0mself\u001b[0m\u001b[1;33m.\u001b[0m\u001b[0m_predict\u001b[0m\u001b[1;33m(\u001b[0m\u001b[0mtransformers\u001b[0m\u001b[1;33m,\u001b[0m \u001b[0mself\u001b[0m\u001b[1;33m.\u001b[0m\u001b[0mscorer\u001b[0m \u001b[1;32mis\u001b[0m \u001b[1;32mnot\u001b[0m \u001b[1;32mNone\u001b[0m\u001b[1;33m)\u001b[0m\u001b[1;33m\u001b[0m\u001b[1;33m\u001b[0m\u001b[0m\n\u001b[0m\u001b[0;32m    137\u001b[0m \u001b[1;33m\u001b[0m\u001b[0m\n",
      "\u001b[1;32m~\\Miniconda3\\envs\\torch\\lib\\site-packages\\mlens\\parallel\\learner.py\u001b[0m in \u001b[0;36m_predict\u001b[1;34m(self, transformers, score_preds)\u001b[0m\n\u001b[0;32m    198\u001b[0m             \u001b[0mxtemp\u001b[0m\u001b[1;33m,\u001b[0m \u001b[0mytemp\u001b[0m \u001b[1;33m=\u001b[0m \u001b[0mtransformers\u001b[0m\u001b[1;33m.\u001b[0m\u001b[0mtransform\u001b[0m\u001b[1;33m(\u001b[0m\u001b[0mxtemp\u001b[0m\u001b[1;33m,\u001b[0m \u001b[0mytemp\u001b[0m\u001b[1;33m)\u001b[0m\u001b[1;33m\u001b[0m\u001b[1;33m\u001b[0m\u001b[0m\n\u001b[1;32m--> 199\u001b[1;33m         \u001b[0mpredictions\u001b[0m \u001b[1;33m=\u001b[0m \u001b[0mgetattr\u001b[0m\u001b[1;33m(\u001b[0m\u001b[0mself\u001b[0m\u001b[1;33m.\u001b[0m\u001b[0mestimator\u001b[0m\u001b[1;33m,\u001b[0m \u001b[0mself\u001b[0m\u001b[1;33m.\u001b[0m\u001b[0mattr\u001b[0m\u001b[1;33m)\u001b[0m\u001b[1;33m(\u001b[0m\u001b[0mxtemp\u001b[0m\u001b[1;33m)\u001b[0m\u001b[1;33m\u001b[0m\u001b[1;33m\u001b[0m\u001b[0m\n\u001b[0m\u001b[0;32m    200\u001b[0m \u001b[1;33m\u001b[0m\u001b[0m\n",
      "\u001b[1;32m~\\Miniconda3\\envs\\torch\\lib\\site-packages\\sklearn\\neighbors\\_classification.py\u001b[0m in \u001b[0;36mpredict\u001b[1;34m(self, X)\u001b[0m\n\u001b[0;32m    213\u001b[0m         \"\"\"\n\u001b[1;32m--> 214\u001b[1;33m         \u001b[0mneigh_dist\u001b[0m\u001b[1;33m,\u001b[0m \u001b[0mneigh_ind\u001b[0m \u001b[1;33m=\u001b[0m \u001b[0mself\u001b[0m\u001b[1;33m.\u001b[0m\u001b[0mkneighbors\u001b[0m\u001b[1;33m(\u001b[0m\u001b[0mX\u001b[0m\u001b[1;33m)\u001b[0m\u001b[1;33m\u001b[0m\u001b[1;33m\u001b[0m\u001b[0m\n\u001b[0m\u001b[0;32m    215\u001b[0m         \u001b[0mclasses_\u001b[0m \u001b[1;33m=\u001b[0m \u001b[0mself\u001b[0m\u001b[1;33m.\u001b[0m\u001b[0mclasses_\u001b[0m\u001b[1;33m\u001b[0m\u001b[1;33m\u001b[0m\u001b[0m\n",
      "\u001b[1;32m~\\Miniconda3\\envs\\torch\\lib\\site-packages\\sklearn\\neighbors\\_base.py\u001b[0m in \u001b[0;36mkneighbors\u001b[1;34m(self, X, n_neighbors, return_distance)\u001b[0m\n\u001b[0;32m    779\u001b[0m                 )\n\u001b[1;32m--> 780\u001b[1;33m                 \u001b[1;32mfor\u001b[0m \u001b[0ms\u001b[0m \u001b[1;32min\u001b[0m \u001b[0mgen_even_slices\u001b[0m\u001b[1;33m(\u001b[0m\u001b[0mX\u001b[0m\u001b[1;33m.\u001b[0m\u001b[0mshape\u001b[0m\u001b[1;33m[\u001b[0m\u001b[1;36m0\u001b[0m\u001b[1;33m]\u001b[0m\u001b[1;33m,\u001b[0m \u001b[0mn_jobs\u001b[0m\u001b[1;33m)\u001b[0m\u001b[1;33m\u001b[0m\u001b[1;33m\u001b[0m\u001b[0m\n\u001b[0m\u001b[0;32m    781\u001b[0m             )\n",
      "\u001b[1;32m~\\Miniconda3\\envs\\torch\\lib\\site-packages\\joblib\\parallel.py\u001b[0m in \u001b[0;36m__call__\u001b[1;34m(self, iterable)\u001b[0m\n\u001b[0;32m   1042\u001b[0m             \u001b[0mself\u001b[0m\u001b[1;33m.\u001b[0m\u001b[0m_iterating\u001b[0m \u001b[1;33m=\u001b[0m \u001b[1;32mFalse\u001b[0m\u001b[1;33m\u001b[0m\u001b[1;33m\u001b[0m\u001b[0m\n\u001b[1;32m-> 1043\u001b[1;33m             \u001b[1;32mif\u001b[0m \u001b[0mself\u001b[0m\u001b[1;33m.\u001b[0m\u001b[0mdispatch_one_batch\u001b[0m\u001b[1;33m(\u001b[0m\u001b[0miterator\u001b[0m\u001b[1;33m)\u001b[0m\u001b[1;33m:\u001b[0m\u001b[1;33m\u001b[0m\u001b[1;33m\u001b[0m\u001b[0m\n\u001b[0m\u001b[0;32m   1044\u001b[0m                 \u001b[0mself\u001b[0m\u001b[1;33m.\u001b[0m\u001b[0m_iterating\u001b[0m \u001b[1;33m=\u001b[0m \u001b[0mself\u001b[0m\u001b[1;33m.\u001b[0m\u001b[0m_original_iterator\u001b[0m \u001b[1;32mis\u001b[0m \u001b[1;32mnot\u001b[0m \u001b[1;32mNone\u001b[0m\u001b[1;33m\u001b[0m\u001b[1;33m\u001b[0m\u001b[0m\n",
      "\u001b[1;32m~\\Miniconda3\\envs\\torch\\lib\\site-packages\\joblib\\parallel.py\u001b[0m in \u001b[0;36mdispatch_one_batch\u001b[1;34m(self, iterator)\u001b[0m\n\u001b[0;32m    860\u001b[0m             \u001b[1;32melse\u001b[0m\u001b[1;33m:\u001b[0m\u001b[1;33m\u001b[0m\u001b[1;33m\u001b[0m\u001b[0m\n\u001b[1;32m--> 861\u001b[1;33m                 \u001b[0mself\u001b[0m\u001b[1;33m.\u001b[0m\u001b[0m_dispatch\u001b[0m\u001b[1;33m(\u001b[0m\u001b[0mtasks\u001b[0m\u001b[1;33m)\u001b[0m\u001b[1;33m\u001b[0m\u001b[1;33m\u001b[0m\u001b[0m\n\u001b[0m\u001b[0;32m    862\u001b[0m                 \u001b[1;32mreturn\u001b[0m \u001b[1;32mTrue\u001b[0m\u001b[1;33m\u001b[0m\u001b[1;33m\u001b[0m\u001b[0m\n",
      "\u001b[1;32m~\\Miniconda3\\envs\\torch\\lib\\site-packages\\joblib\\parallel.py\u001b[0m in \u001b[0;36m_dispatch\u001b[1;34m(self, batch)\u001b[0m\n\u001b[0;32m    778\u001b[0m             \u001b[0mjob_idx\u001b[0m \u001b[1;33m=\u001b[0m \u001b[0mlen\u001b[0m\u001b[1;33m(\u001b[0m\u001b[0mself\u001b[0m\u001b[1;33m.\u001b[0m\u001b[0m_jobs\u001b[0m\u001b[1;33m)\u001b[0m\u001b[1;33m\u001b[0m\u001b[1;33m\u001b[0m\u001b[0m\n\u001b[1;32m--> 779\u001b[1;33m             \u001b[0mjob\u001b[0m \u001b[1;33m=\u001b[0m \u001b[0mself\u001b[0m\u001b[1;33m.\u001b[0m\u001b[0m_backend\u001b[0m\u001b[1;33m.\u001b[0m\u001b[0mapply_async\u001b[0m\u001b[1;33m(\u001b[0m\u001b[0mbatch\u001b[0m\u001b[1;33m,\u001b[0m \u001b[0mcallback\u001b[0m\u001b[1;33m=\u001b[0m\u001b[0mcb\u001b[0m\u001b[1;33m)\u001b[0m\u001b[1;33m\u001b[0m\u001b[1;33m\u001b[0m\u001b[0m\n\u001b[0m\u001b[0;32m    780\u001b[0m             \u001b[1;31m# A job can complete so quickly than its callback is\u001b[0m\u001b[1;33m\u001b[0m\u001b[1;33m\u001b[0m\u001b[1;33m\u001b[0m\u001b[0m\n",
      "\u001b[1;32m~\\Miniconda3\\envs\\torch\\lib\\site-packages\\joblib\\_parallel_backends.py\u001b[0m in \u001b[0;36mapply_async\u001b[1;34m(self, func, callback)\u001b[0m\n\u001b[0;32m    207\u001b[0m         \u001b[1;34m\"\"\"Schedule a func to be run\"\"\"\u001b[0m\u001b[1;33m\u001b[0m\u001b[1;33m\u001b[0m\u001b[0m\n\u001b[1;32m--> 208\u001b[1;33m         \u001b[0mresult\u001b[0m \u001b[1;33m=\u001b[0m \u001b[0mImmediateResult\u001b[0m\u001b[1;33m(\u001b[0m\u001b[0mfunc\u001b[0m\u001b[1;33m)\u001b[0m\u001b[1;33m\u001b[0m\u001b[1;33m\u001b[0m\u001b[0m\n\u001b[0m\u001b[0;32m    209\u001b[0m         \u001b[1;32mif\u001b[0m \u001b[0mcallback\u001b[0m\u001b[1;33m:\u001b[0m\u001b[1;33m\u001b[0m\u001b[1;33m\u001b[0m\u001b[0m\n",
      "\u001b[1;32m~\\Miniconda3\\envs\\torch\\lib\\site-packages\\joblib\\_parallel_backends.py\u001b[0m in \u001b[0;36m__init__\u001b[1;34m(self, batch)\u001b[0m\n\u001b[0;32m    571\u001b[0m         \u001b[1;31m# arguments in memory\u001b[0m\u001b[1;33m\u001b[0m\u001b[1;33m\u001b[0m\u001b[1;33m\u001b[0m\u001b[0m\n\u001b[1;32m--> 572\u001b[1;33m         \u001b[0mself\u001b[0m\u001b[1;33m.\u001b[0m\u001b[0mresults\u001b[0m \u001b[1;33m=\u001b[0m \u001b[0mbatch\u001b[0m\u001b[1;33m(\u001b[0m\u001b[1;33m)\u001b[0m\u001b[1;33m\u001b[0m\u001b[1;33m\u001b[0m\u001b[0m\n\u001b[0m\u001b[0;32m    573\u001b[0m \u001b[1;33m\u001b[0m\u001b[0m\n",
      "\u001b[1;32m~\\Miniconda3\\envs\\torch\\lib\\site-packages\\joblib\\parallel.py\u001b[0m in \u001b[0;36m__call__\u001b[1;34m(self)\u001b[0m\n\u001b[0;32m    262\u001b[0m             return [func(*args, **kwargs)\n\u001b[1;32m--> 263\u001b[1;33m                     for func, args, kwargs in self.items]\n\u001b[0m\u001b[0;32m    264\u001b[0m \u001b[1;33m\u001b[0m\u001b[0m\n",
      "\u001b[1;32m~\\Miniconda3\\envs\\torch\\lib\\site-packages\\joblib\\parallel.py\u001b[0m in \u001b[0;36m<listcomp>\u001b[1;34m(.0)\u001b[0m\n\u001b[0;32m    262\u001b[0m             return [func(*args, **kwargs)\n\u001b[1;32m--> 263\u001b[1;33m                     for func, args, kwargs in self.items]\n\u001b[0m\u001b[0;32m    264\u001b[0m \u001b[1;33m\u001b[0m\u001b[0m\n",
      "\u001b[1;32m~\\Miniconda3\\envs\\torch\\lib\\site-packages\\sklearn\\utils\\fixes.py\u001b[0m in \u001b[0;36m__call__\u001b[1;34m(self, *args, **kwargs)\u001b[0m\n\u001b[0;32m    215\u001b[0m         \u001b[1;32mwith\u001b[0m \u001b[0mconfig_context\u001b[0m\u001b[1;33m(\u001b[0m\u001b[1;33m**\u001b[0m\u001b[0mself\u001b[0m\u001b[1;33m.\u001b[0m\u001b[0mconfig\u001b[0m\u001b[1;33m)\u001b[0m\u001b[1;33m:\u001b[0m\u001b[1;33m\u001b[0m\u001b[1;33m\u001b[0m\u001b[0m\n\u001b[1;32m--> 216\u001b[1;33m             \u001b[1;32mreturn\u001b[0m \u001b[0mself\u001b[0m\u001b[1;33m.\u001b[0m\u001b[0mfunction\u001b[0m\u001b[1;33m(\u001b[0m\u001b[1;33m*\u001b[0m\u001b[0margs\u001b[0m\u001b[1;33m,\u001b[0m \u001b[1;33m**\u001b[0m\u001b[0mkwargs\u001b[0m\u001b[1;33m)\u001b[0m\u001b[1;33m\u001b[0m\u001b[1;33m\u001b[0m\u001b[0m\n\u001b[0m\u001b[0;32m    217\u001b[0m \u001b[1;33m\u001b[0m\u001b[0m\n",
      "\u001b[1;32m~\\Miniconda3\\envs\\torch\\lib\\site-packages\\sklearn\\neighbors\\_base.py\u001b[0m in \u001b[0;36m_tree_query_parallel_helper\u001b[1;34m(tree, *args, **kwargs)\u001b[0m\n\u001b[0;32m    599\u001b[0m     \"\"\"\n\u001b[1;32m--> 600\u001b[1;33m     \u001b[1;32mreturn\u001b[0m \u001b[0mtree\u001b[0m\u001b[1;33m.\u001b[0m\u001b[0mquery\u001b[0m\u001b[1;33m(\u001b[0m\u001b[1;33m*\u001b[0m\u001b[0margs\u001b[0m\u001b[1;33m,\u001b[0m \u001b[1;33m**\u001b[0m\u001b[0mkwargs\u001b[0m\u001b[1;33m)\u001b[0m\u001b[1;33m\u001b[0m\u001b[1;33m\u001b[0m\u001b[0m\n\u001b[0m\u001b[0;32m    601\u001b[0m \u001b[1;33m\u001b[0m\u001b[0m\n",
      "\u001b[1;32msklearn\\neighbors\\_binary_tree.pxi\u001b[0m in \u001b[0;36msklearn.neighbors._ball_tree.BinaryTree.query\u001b[1;34m()\u001b[0m\n",
      "\u001b[1;32m~\\Miniconda3\\envs\\torch\\lib\\site-packages\\sklearn\\utils\\validation.py\u001b[0m in \u001b[0;36mcheck_array\u001b[1;34m(array, accept_sparse, accept_large_sparse, dtype, order, copy, force_all_finite, ensure_2d, allow_nd, ensure_min_samples, ensure_min_features, estimator)\u001b[0m\n\u001b[0;32m    745\u001b[0m                 \u001b[1;32melse\u001b[0m\u001b[1;33m:\u001b[0m\u001b[1;33m\u001b[0m\u001b[1;33m\u001b[0m\u001b[0m\n\u001b[1;32m--> 746\u001b[1;33m                     \u001b[0marray\u001b[0m \u001b[1;33m=\u001b[0m \u001b[0mnp\u001b[0m\u001b[1;33m.\u001b[0m\u001b[0masarray\u001b[0m\u001b[1;33m(\u001b[0m\u001b[0marray\u001b[0m\u001b[1;33m,\u001b[0m \u001b[0morder\u001b[0m\u001b[1;33m=\u001b[0m\u001b[0morder\u001b[0m\u001b[1;33m,\u001b[0m \u001b[0mdtype\u001b[0m\u001b[1;33m=\u001b[0m\u001b[0mdtype\u001b[0m\u001b[1;33m)\u001b[0m\u001b[1;33m\u001b[0m\u001b[1;33m\u001b[0m\u001b[0m\n\u001b[0m\u001b[0;32m    747\u001b[0m             \u001b[1;32mexcept\u001b[0m \u001b[0mComplexWarning\u001b[0m \u001b[1;32mas\u001b[0m \u001b[0mcomplex_warning\u001b[0m\u001b[1;33m:\u001b[0m\u001b[1;33m\u001b[0m\u001b[1;33m\u001b[0m\u001b[0m\n",
      "\u001b[1;32m~\\Miniconda3\\envs\\torch\\lib\\site-packages\\numpy\\core\\_asarray.py\u001b[0m in \u001b[0;36masarray\u001b[1;34m(a, dtype, order)\u001b[0m\n\u001b[0;32m     82\u001b[0m     \"\"\"\n\u001b[1;32m---> 83\u001b[1;33m     \u001b[1;32mreturn\u001b[0m \u001b[0marray\u001b[0m\u001b[1;33m(\u001b[0m\u001b[0ma\u001b[0m\u001b[1;33m,\u001b[0m \u001b[0mdtype\u001b[0m\u001b[1;33m,\u001b[0m \u001b[0mcopy\u001b[0m\u001b[1;33m=\u001b[0m\u001b[1;32mFalse\u001b[0m\u001b[1;33m,\u001b[0m \u001b[0morder\u001b[0m\u001b[1;33m=\u001b[0m\u001b[0morder\u001b[0m\u001b[1;33m)\u001b[0m\u001b[1;33m\u001b[0m\u001b[1;33m\u001b[0m\u001b[0m\n\u001b[0m\u001b[0;32m     84\u001b[0m \u001b[1;33m\u001b[0m\u001b[0m\n",
      "\u001b[1;31mMemoryError\u001b[0m: Unable to allocate 3.06 GiB for an array with shape (12785, 32129) and data type float64",
      "\nDuring handling of the above exception, another exception occurred:\n",
      "\u001b[1;31mTransportableException\u001b[0m                    Traceback (most recent call last)",
      "\u001b[1;32m~\\Miniconda3\\envs\\torch\\lib\\site-packages\\mlens\\externals\\joblib\\parallel.py\u001b[0m in \u001b[0;36mretrieve\u001b[1;34m(self)\u001b[0m\n\u001b[0;32m    702\u001b[0m                 \u001b[1;32mif\u001b[0m \u001b[0mgetattr\u001b[0m\u001b[1;33m(\u001b[0m\u001b[0mself\u001b[0m\u001b[1;33m.\u001b[0m\u001b[0m_backend\u001b[0m\u001b[1;33m,\u001b[0m \u001b[1;34m'supports_timeout'\u001b[0m\u001b[1;33m,\u001b[0m \u001b[1;32mFalse\u001b[0m\u001b[1;33m)\u001b[0m\u001b[1;33m:\u001b[0m\u001b[1;33m\u001b[0m\u001b[1;33m\u001b[0m\u001b[0m\n\u001b[1;32m--> 703\u001b[1;33m                     \u001b[0mself\u001b[0m\u001b[1;33m.\u001b[0m\u001b[0m_output\u001b[0m\u001b[1;33m.\u001b[0m\u001b[0mextend\u001b[0m\u001b[1;33m(\u001b[0m\u001b[0mjob\u001b[0m\u001b[1;33m.\u001b[0m\u001b[0mget\u001b[0m\u001b[1;33m(\u001b[0m\u001b[0mtimeout\u001b[0m\u001b[1;33m=\u001b[0m\u001b[0mself\u001b[0m\u001b[1;33m.\u001b[0m\u001b[0mtimeout\u001b[0m\u001b[1;33m)\u001b[0m\u001b[1;33m)\u001b[0m\u001b[1;33m\u001b[0m\u001b[1;33m\u001b[0m\u001b[0m\n\u001b[0m\u001b[0;32m    704\u001b[0m                 \u001b[1;32melse\u001b[0m\u001b[1;33m:\u001b[0m\u001b[1;33m\u001b[0m\u001b[1;33m\u001b[0m\u001b[0m\n",
      "\u001b[1;32m~\\Miniconda3\\envs\\torch\\lib\\multiprocessing\\pool.py\u001b[0m in \u001b[0;36mget\u001b[1;34m(self, timeout)\u001b[0m\n\u001b[0;32m    656\u001b[0m         \u001b[1;32melse\u001b[0m\u001b[1;33m:\u001b[0m\u001b[1;33m\u001b[0m\u001b[1;33m\u001b[0m\u001b[0m\n\u001b[1;32m--> 657\u001b[1;33m             \u001b[1;32mraise\u001b[0m \u001b[0mself\u001b[0m\u001b[1;33m.\u001b[0m\u001b[0m_value\u001b[0m\u001b[1;33m\u001b[0m\u001b[1;33m\u001b[0m\u001b[0m\n\u001b[0m\u001b[0;32m    658\u001b[0m \u001b[1;33m\u001b[0m\u001b[0m\n",
      "\u001b[1;32m~\\Miniconda3\\envs\\torch\\lib\\multiprocessing\\pool.py\u001b[0m in \u001b[0;36mworker\u001b[1;34m(inqueue, outqueue, initializer, initargs, maxtasks, wrap_exception)\u001b[0m\n\u001b[0;32m    120\u001b[0m         \u001b[1;32mtry\u001b[0m\u001b[1;33m:\u001b[0m\u001b[1;33m\u001b[0m\u001b[1;33m\u001b[0m\u001b[0m\n\u001b[1;32m--> 121\u001b[1;33m             \u001b[0mresult\u001b[0m \u001b[1;33m=\u001b[0m \u001b[1;33m(\u001b[0m\u001b[1;32mTrue\u001b[0m\u001b[1;33m,\u001b[0m \u001b[0mfunc\u001b[0m\u001b[1;33m(\u001b[0m\u001b[1;33m*\u001b[0m\u001b[0margs\u001b[0m\u001b[1;33m,\u001b[0m \u001b[1;33m**\u001b[0m\u001b[0mkwds\u001b[0m\u001b[1;33m)\u001b[0m\u001b[1;33m)\u001b[0m\u001b[1;33m\u001b[0m\u001b[1;33m\u001b[0m\u001b[0m\n\u001b[0m\u001b[0;32m    122\u001b[0m         \u001b[1;32mexcept\u001b[0m \u001b[0mException\u001b[0m \u001b[1;32mas\u001b[0m \u001b[0me\u001b[0m\u001b[1;33m:\u001b[0m\u001b[1;33m\u001b[0m\u001b[1;33m\u001b[0m\u001b[0m\n",
      "\u001b[1;32m~\\Miniconda3\\envs\\torch\\lib\\site-packages\\mlens\\externals\\joblib\\_parallel_backends.py\u001b[0m in \u001b[0;36m__call__\u001b[1;34m(self, *args, **kwargs)\u001b[0m\n\u001b[0;32m    358\u001b[0m             \u001b[0mtext\u001b[0m \u001b[1;33m=\u001b[0m \u001b[0mformat_exc\u001b[0m\u001b[1;33m(\u001b[0m\u001b[0me_type\u001b[0m\u001b[1;33m,\u001b[0m \u001b[0me_value\u001b[0m\u001b[1;33m,\u001b[0m \u001b[0me_tb\u001b[0m\u001b[1;33m,\u001b[0m \u001b[0mcontext\u001b[0m\u001b[1;33m=\u001b[0m\u001b[1;36m10\u001b[0m\u001b[1;33m,\u001b[0m \u001b[0mtb_offset\u001b[0m\u001b[1;33m=\u001b[0m\u001b[1;36m1\u001b[0m\u001b[1;33m)\u001b[0m\u001b[1;33m\u001b[0m\u001b[1;33m\u001b[0m\u001b[0m\n\u001b[1;32m--> 359\u001b[1;33m             \u001b[1;32mraise\u001b[0m \u001b[0mTransportableException\u001b[0m\u001b[1;33m(\u001b[0m\u001b[0mtext\u001b[0m\u001b[1;33m,\u001b[0m \u001b[0me_type\u001b[0m\u001b[1;33m)\u001b[0m\u001b[1;33m\u001b[0m\u001b[1;33m\u001b[0m\u001b[0m\n\u001b[0m\u001b[0;32m    360\u001b[0m \u001b[1;33m\u001b[0m\u001b[0m\n",
      "\u001b[1;31mTransportableException\u001b[0m: TransportableException\n___________________________________________________________________________\nMemoryError                                        Thu May 26 15:46:53 2022\nPID: 21464 Python 3.7.13: C:\\Users\\D073999\\Miniconda3\\envs\\torch\\python.exe\n...........................................................................\nC:\\Users\\D073999\\Miniconda3\\envs\\torch\\lib\\site-packages\\mlens\\externals\\joblib\\parallel.py in __call__(self=<mlens.externals.joblib.parallel.BatchedCalls object>)\n    130     def __init__(self, iterator_slice):\n    131         self.items = list(iterator_slice)\n    132         self._size = len(self.items)\n    133 \n    134     def __call__(self):\n--> 135         return [func(*args, **kwargs) for func, args, kwargs in self.items]\n        self.items = [(<mlens.parallel.learner.SubLearner object>, (), {})]\n    136 \n    137     def __len__(self):\n    138         return self._size\n    139 \n\n...........................................................................\nC:\\Users\\D073999\\Miniconda3\\envs\\torch\\lib\\site-packages\\mlens\\externals\\joblib\\parallel.py in <listcomp>(.0=<list_iterator object>)\n    130     def __init__(self, iterator_slice):\n    131         self.items = list(iterator_slice)\n    132         self._size = len(self.items)\n    133 \n    134     def __call__(self):\n--> 135         return [func(*args, **kwargs) for func, args, kwargs in self.items]\n        func = <mlens.parallel.learner.SubLearner object>\n        args = ()\n        kwargs = {}\n    136 \n    137     def __len__(self):\n    138         return self._size\n    139 \n\n...........................................................................\nC:\\Users\\D073999\\Miniconda3\\envs\\torch\\lib\\site-packages\\mlens\\parallel\\learner.py in __call__(self=<mlens.parallel.learner.SubLearner object>)\n    119         else:\n    120             self.processing_index = ''\n    121 \n    122     def __call__(self):\n    123         \"\"\"Launch job\"\"\"\n--> 124         return getattr(self, self.job)()\n        self = <mlens.parallel.learner.SubLearner object>\n        self.job = 'fit'\n    125 \n    126     def fit(self, path=None):\n    127         \"\"\"Fit sub-learner\"\"\"\n    128         if path is None:\n\n...........................................................................\nC:\\Users\\D073999\\Miniconda3\\envs\\torch\\lib\\site-packages\\mlens\\parallel\\learner.py in fit(self=<mlens.parallel.learner.SubLearner object>, path=[('kneighborsclassifier.0.0', <mlens.parallel.learner.IndexedEstimator object>)])\n    131         transformers = self._load_preprocess(path)\n    132 \n    133         self._fit(transformers)\n    134 \n    135         if self.out_array is not None:\n--> 136             self._predict(transformers, self.scorer is not None)\n        self._predict = <bound method SubLearner._predict of <mlens.parallel.learner.SubLearner object>>\n        transformers = None\n        self.scorer = <function f1_score>\n    137 \n    138         o = IndexedEstimator(estimator=self.estimator,\n    139                              name=self.name_index,\n    140                              index=self.index,\n\n...........................................................................\nC:\\Users\\D073999\\Miniconda3\\envs\\torch\\lib\\site-packages\\mlens\\parallel\\learner.py in _predict(self=<mlens.parallel.learner.SubLearner object>, transformers=None, score_preds=True)\n    194         xtemp, ytemp = slice_array(self.in_array, self.targets, self.out_index)\n    195         t0 = time()\n    196 \n    197         if transformers:\n    198             xtemp, ytemp = transformers.transform(xtemp, ytemp)\n--> 199         predictions = getattr(self.estimator, self.attr)(xtemp)\n        predictions = undefined\n        self.estimator = KNeighborsClassifier(algorithm='ball_tree', metric='l1', n_neighbors=2)\n        self.attr = 'predict'\n        xtemp = array([[0, 0, 0, ..., 0, 0, 0],\n       [0, 0, 0,...0],\n       [0, 0, 0, ..., 0, 0, 0]], dtype=int64)\n    200 \n    201         self.pred_time_ = time() - t0\n    202 \n    203         # Assign predictions to matrix\n\n...........................................................................\nC:\\Users\\D073999\\Miniconda3\\envs\\torch\\lib\\site-packages\\sklearn\\neighbors\\_classification.py in predict(self=KNeighborsClassifier(algorithm='ball_tree', metric='l1', n_neighbors=2), X=array([[0, 0, 0, ..., 0, 0, 0],\n       [0, 0, 0,...0],\n       [0, 0, 0, ..., 0, 0, 0]], dtype=int64))\n    209         Returns\n    210         -------\n    211         y : ndarray of shape (n_queries,) or (n_queries, n_outputs)\n    212             Class labels for each data sample.\n    213         \"\"\"\n--> 214         neigh_dist, neigh_ind = self.kneighbors(X)\n        neigh_dist = undefined\n        neigh_ind = undefined\n        self.kneighbors = <bound method KNeighborsMixin.kneighbors of KNei...gorithm='ball_tree', metric='l1', n_neighbors=2)>\n        X = array([[0, 0, 0, ..., 0, 0, 0],\n       [0, 0, 0,...0],\n       [0, 0, 0, ..., 0, 0, 0]], dtype=int64)\n    215         classes_ = self.classes_\n    216         _y = self._y\n    217         if not self.outputs_2d_:\n    218             _y = self._y.reshape((-1, 1))\n\n...........................................................................\nC:\\Users\\D073999\\Miniconda3\\envs\\torch\\lib\\site-packages\\sklearn\\neighbors\\_base.py in kneighbors(self=KNeighborsClassifier(algorithm='ball_tree', metric='l1', n_neighbors=2), X=array([[0, 0, 0, ..., 0, 0, 0],\n       [0, 0, 0,...0],\n       [0, 0, 0, ..., 0, 0, 0]], dtype=int64), n_neighbors=2, return_distance=True)\n    775                 parallel_kwargs = {\"prefer\": \"threads\"}\n    776             chunked_results = Parallel(n_jobs, **parallel_kwargs)(\n    777                 delayed(_tree_query_parallel_helper)(\n    778                     self._tree, X[s], n_neighbors, return_distance\n    779                 )\n--> 780                 for s in gen_even_slices(X.shape[0], n_jobs)\n        X.shape = (12785, 32129)\n        n_jobs = 1\n    781             )\n    782         else:\n    783             raise ValueError(\"internal: _fit_method not recognized\")\n    784 \n\n...........................................................................\nC:\\Users\\D073999\\Miniconda3\\envs\\torch\\lib\\site-packages\\joblib\\parallel.py in __call__(self=Parallel(n_jobs=1), iterable=<generator object KNeighborsMixin.kneighbors.<locals>.<genexpr>>)\n   1038             # self._original_iterator is None, then this means either\n   1039             # that pre_dispatch == \"all\", n_jobs == 1 or that the first batch\n   1040             # was very quick and its callback already dispatched all the\n   1041             # remaining jobs.\n   1042             self._iterating = False\n-> 1043             if self.dispatch_one_batch(iterator):\n        self.dispatch_one_batch = <bound method Parallel.dispatch_one_batch of Parallel(n_jobs=1)>\n        iterator = <generator object KNeighborsMixin.kneighbors.<locals>.<genexpr>>\n   1044                 self._iterating = self._original_iterator is not None\n   1045 \n   1046             while self.dispatch_one_batch(iterator):\n   1047                 pass\n\n...........................................................................\nC:\\Users\\D073999\\Miniconda3\\envs\\torch\\lib\\site-packages\\joblib\\parallel.py in dispatch_one_batch(self=Parallel(n_jobs=1), iterator=<generator object KNeighborsMixin.kneighbors.<locals>.<genexpr>>)\n    856                 tasks = self._ready_batches.get(block=False)\n    857             if len(tasks) == 0:\n    858                 # No more tasks available in the iterator: tell caller to stop.\n    859                 return False\n    860             else:\n--> 861                 self._dispatch(tasks)\n        self._dispatch = <bound method Parallel._dispatch of Parallel(n_jobs=1)>\n        tasks = <joblib.parallel.BatchedCalls object>\n    862                 return True\n    863 \n    864     def _print(self, msg, msg_args):\n    865         \"\"\"Display the message on stout or stderr depending on verbosity\"\"\"\n\n...........................................................................\nC:\\Users\\D073999\\Miniconda3\\envs\\torch\\lib\\site-packages\\joblib\\parallel.py in _dispatch(self=Parallel(n_jobs=1), batch=<joblib.parallel.BatchedCalls object>)\n    774 \n    775         dispatch_timestamp = time.time()\n    776         cb = BatchCompletionCallBack(dispatch_timestamp, len(batch), self)\n    777         with self._lock:\n    778             job_idx = len(self._jobs)\n--> 779             job = self._backend.apply_async(batch, callback=cb)\n        job = undefined\n        self._backend.apply_async = <bound method SequentialBackend.apply_async of <joblib._parallel_backends.SequentialBackend object>>\n        batch = <joblib.parallel.BatchedCalls object>\n        cb = <joblib.parallel.BatchCompletionCallBack object>\n    780             # A job can complete so quickly than its callback is\n    781             # called before we get here, causing self._jobs to\n    782             # grow. To ensure correct results ordering, .insert is\n    783             # used (rather than .append) in the following line\n\n...........................................................................\nC:\\Users\\D073999\\Miniconda3\\envs\\torch\\lib\\site-packages\\joblib\\_parallel_backends.py in apply_async(self=<joblib._parallel_backends.SequentialBackend object>, func=<joblib.parallel.BatchedCalls object>, callback=<joblib.parallel.BatchCompletionCallBack object>)\n    203             raise ValueError('n_jobs == 0 in Parallel has no meaning')\n    204         return 1\n    205 \n    206     def apply_async(self, func, callback=None):\n    207         \"\"\"Schedule a func to be run\"\"\"\n--> 208         result = ImmediateResult(func)\n        result = undefined\n        func = <joblib.parallel.BatchedCalls object>\n    209         if callback:\n    210             callback(result)\n    211         return result\n    212 \n\n...........................................................................\nC:\\Users\\D073999\\Miniconda3\\envs\\torch\\lib\\site-packages\\joblib\\_parallel_backends.py in __init__(self=<joblib._parallel_backends.ImmediateResult object>, batch=<joblib.parallel.BatchedCalls object>)\n    567 \n    568 class ImmediateResult(object):\n    569     def __init__(self, batch):\n    570         # Don't delay the application, to avoid keeping the input\n    571         # arguments in memory\n--> 572         self.results = batch()\n        self.results = undefined\n        batch = <joblib.parallel.BatchedCalls object>\n    573 \n    574     def get(self):\n    575         return self.results\n    576 \n\n...........................................................................\nC:\\Users\\D073999\\Miniconda3\\envs\\torch\\lib\\site-packages\\joblib\\parallel.py in __call__(self=<joblib.parallel.BatchedCalls object>)\n    258     def __call__(self):\n    259         # Set the default nested backend to self._backend but do not set the\n    260         # change the default number of processes to -1\n    261         with parallel_backend(self._backend, n_jobs=self._n_jobs):\n    262             return [func(*args, **kwargs)\n--> 263                     for func, args, kwargs in self.items]\n        self.items = [(<sklearn.utils.fixes._FuncWrapper object>, (<sklearn.neighbors._ball_tree.BallTree object>, array([[0, 0, 0, ..., 0, 0, 0],\n       [0, 0, 0,...0],\n       [0, 0, 0, ..., 0, 0, 0]], dtype=int64), 2, True), {})]\n    264 \n    265     def __reduce__(self):\n    266         if self._reducer_callback is not None:\n    267             self._reducer_callback()\n\n...........................................................................\nC:\\Users\\D073999\\Miniconda3\\envs\\torch\\lib\\site-packages\\joblib\\parallel.py in <listcomp>(.0=<list_iterator object>)\n    258     def __call__(self):\n    259         # Set the default nested backend to self._backend but do not set the\n    260         # change the default number of processes to -1\n    261         with parallel_backend(self._backend, n_jobs=self._n_jobs):\n    262             return [func(*args, **kwargs)\n--> 263                     for func, args, kwargs in self.items]\n        func = <sklearn.utils.fixes._FuncWrapper object>\n        args = (<sklearn.neighbors._ball_tree.BallTree object>, array([[0, 0, 0, ..., 0, 0, 0],\n       [0, 0, 0,...0],\n       [0, 0, 0, ..., 0, 0, 0]], dtype=int64), 2, True)\n        kwargs = {}\n    264 \n    265     def __reduce__(self):\n    266         if self._reducer_callback is not None:\n    267             self._reducer_callback()\n\n...........................................................................\nC:\\Users\\D073999\\Miniconda3\\envs\\torch\\lib\\site-packages\\sklearn\\utils\\fixes.py in __call__(self=<sklearn.utils.fixes._FuncWrapper object>, *args=(<sklearn.neighbors._ball_tree.BallTree object>, array([[0, 0, 0, ..., 0, 0, 0],\n       [0, 0, 0,...0],\n       [0, 0, 0, ..., 0, 0, 0]], dtype=int64), 2, True), **kwargs={})\n    211         self.config = get_config()\n    212         update_wrapper(self, self.function)\n    213 \n    214     def __call__(self, *args, **kwargs):\n    215         with config_context(**self.config):\n--> 216             return self.function(*args, **kwargs)\n        self.function = <function _tree_query_parallel_helper>\n        args = (<sklearn.neighbors._ball_tree.BallTree object>, array([[0, 0, 0, ..., 0, 0, 0],\n       [0, 0, 0,...0],\n       [0, 0, 0, ..., 0, 0, 0]], dtype=int64), 2, True)\n        kwargs = {}\n    217 \n    218 \n    219 def linspace(start, stop, num=50, endpoint=True, retstep=False, dtype=None, axis=0):\n    220     \"\"\"Implements a simplified linspace function as of numpy version >= 1.16.\n\n...........................................................................\nC:\\Users\\D073999\\Miniconda3\\envs\\torch\\lib\\site-packages\\sklearn\\neighbors\\_base.py in _tree_query_parallel_helper(tree=<sklearn.neighbors._ball_tree.BallTree object>, *args=(array([[0, 0, 0, ..., 0, 0, 0],\n       [0, 0, 0,...0],\n       [0, 0, 0, ..., 0, 0, 0]], dtype=int64), 2, True), **kwargs={})\n    595     \"\"\"Helper for the Parallel calls in KNeighborsMixin.kneighbors.\n    596 \n    597     The Cython method tree.query is not directly picklable by cloudpickle\n    598     under PyPy.\n    599     \"\"\"\n--> 600     return tree.query(*args, **kwargs)\n        tree.query = <built-in method query of sklearn.neighbors._ball_tree.BallTree object>\n        args = (array([[0, 0, 0, ..., 0, 0, 0],\n       [0, 0, 0,...0],\n       [0, 0, 0, ..., 0, 0, 0]], dtype=int64), 2, True)\n        kwargs = {}\n    601 \n    602 \n    603 class KNeighborsMixin:\n    604     \"\"\"Mixin for k-neighbors searches.\"\"\"\n\n...........................................................................\nC:\\Users\\D073999\\Miniconda3\\envs\\torch\\lib\\site-packages\\sklearn\\neighbors\\_ball_tree.cp37-win_amd64.pyd in sklearn.neighbors._ball_tree.BinaryTree.query()\n\n...........................................................................\nC:\\Users\\D073999\\Miniconda3\\envs\\torch\\lib\\site-packages\\sklearn\\utils\\validation.py in check_array(array=array([[0, 0, 0, ..., 0, 0, 0],\n       [0, 0, 0,...0],\n       [0, 0, 0, ..., 0, 0, 0]], dtype=int64), accept_sparse=False, accept_large_sparse=True, dtype=<class 'numpy.float64'>, order='C', copy=False, force_all_finite=True, ensure_2d=True, allow_nd=False, ensure_min_samples=1, ensure_min_features=1, estimator=None)\n    741                     array = np.asarray(array, order=order)\n    742                     if array.dtype.kind == \"f\":\n    743                         _assert_all_finite(array, allow_nan=False, msg_dtype=dtype)\n    744                     array = array.astype(dtype, casting=\"unsafe\", copy=False)\n    745                 else:\n--> 746                     array = np.asarray(array, order=order, dtype=dtype)\n        array = array([[0, 0, 0, ..., 0, 0, 0],\n       [0, 0, 0,...0],\n       [0, 0, 0, ..., 0, 0, 0]], dtype=int64)\n        order = 'C'\n        dtype = <class 'numpy.float64'>\n    747             except ComplexWarning as complex_warning:\n    748                 raise ValueError(\n    749                     \"Complex data not supported\\n{}\\n\".format(array)\n    750                 ) from complex_warning\n\n...........................................................................\nC:\\Users\\D073999\\Miniconda3\\envs\\torch\\lib\\site-packages\\numpy\\core\\_asarray.py in asarray(a=array([[0, 0, 0, ..., 0, 0, 0],\n       [0, 0, 0,...0],\n       [0, 0, 0, ..., 0, 0, 0]], dtype=int64), dtype=<class 'numpy.float64'>, order='C')\n     78     False\n     79     >>> np.asanyarray(a) is a\n     80     True\n     81 \n     82     \"\"\"\n---> 83     return array(a, dtype, copy=False, order=order)\n        a = array([[0, 0, 0, ..., 0, 0, 0],\n       [0, 0, 0,...0],\n       [0, 0, 0, ..., 0, 0, 0]], dtype=int64)\n        dtype = <class 'numpy.float64'>\n        order = 'C'\n     84 \n     85 \n     86 @set_module('numpy')\n     87 def asanyarray(a, dtype=None, order=None):\n\nMemoryError: Unable to allocate 3.06 GiB for an array with shape (12785, 32129) and data type float64\n___________________________________________________________________________",
      "\nDuring handling of the above exception, another exception occurred:\n",
      "\u001b[1;31mJoblibMemoryError\u001b[0m                         Traceback (most recent call last)",
      "\u001b[1;32m~\\AppData\\Local\\Temp\\ipykernel_21464\\3287195673.py\u001b[0m in \u001b[0;36m<module>\u001b[1;34m\u001b[0m\n\u001b[0;32m     23\u001b[0m \u001b[1;33m\u001b[0m\u001b[0m\n\u001b[0;32m     24\u001b[0m \u001b[1;31m# Fit ensemble\u001b[0m\u001b[1;33m\u001b[0m\u001b[1;33m\u001b[0m\u001b[1;33m\u001b[0m\u001b[0m\n\u001b[1;32m---> 25\u001b[1;33m \u001b[0mensemble\u001b[0m\u001b[1;33m.\u001b[0m\u001b[0mfit\u001b[0m\u001b[1;33m(\u001b[0m\u001b[0mX_train_c\u001b[0m\u001b[1;33m.\u001b[0m\u001b[0mtoarray\u001b[0m\u001b[1;33m(\u001b[0m\u001b[1;33m)\u001b[0m\u001b[1;33m,\u001b[0m\u001b[0my_train\u001b[0m\u001b[1;33m)\u001b[0m\u001b[1;33m\u001b[0m\u001b[1;33m\u001b[0m\u001b[0m\n\u001b[0m\u001b[0;32m     26\u001b[0m \u001b[1;33m\u001b[0m\u001b[0m\n\u001b[0;32m     27\u001b[0m \u001b[1;31m# Predict\u001b[0m\u001b[1;33m\u001b[0m\u001b[1;33m\u001b[0m\u001b[1;33m\u001b[0m\u001b[0m\n",
      "\u001b[1;32m~\\Miniconda3\\envs\\torch\\lib\\site-packages\\mlens\\ensemble\\base.py\u001b[0m in \u001b[0;36mfit\u001b[1;34m(self, X, y, **kwargs)\u001b[0m\n\u001b[0;32m    512\u001b[0m             \u001b[0mself\u001b[0m\u001b[1;33m.\u001b[0m\u001b[0m_id_train\u001b[0m\u001b[1;33m.\u001b[0m\u001b[0mfit\u001b[0m\u001b[1;33m(\u001b[0m\u001b[0mX\u001b[0m\u001b[1;33m)\u001b[0m\u001b[1;33m\u001b[0m\u001b[1;33m\u001b[0m\u001b[0m\n\u001b[0;32m    513\u001b[0m \u001b[1;33m\u001b[0m\u001b[0m\n\u001b[1;32m--> 514\u001b[1;33m         \u001b[0mout\u001b[0m \u001b[1;33m=\u001b[0m \u001b[0mself\u001b[0m\u001b[1;33m.\u001b[0m\u001b[0m_backend\u001b[0m\u001b[1;33m.\u001b[0m\u001b[0mfit\u001b[0m\u001b[1;33m(\u001b[0m\u001b[0mX\u001b[0m\u001b[1;33m,\u001b[0m \u001b[0my\u001b[0m\u001b[1;33m,\u001b[0m \u001b[1;33m**\u001b[0m\u001b[0mkwargs\u001b[0m\u001b[1;33m)\u001b[0m\u001b[1;33m\u001b[0m\u001b[1;33m\u001b[0m\u001b[0m\n\u001b[0m\u001b[0;32m    515\u001b[0m         \u001b[1;32mif\u001b[0m \u001b[0mout\u001b[0m \u001b[1;32mis\u001b[0m \u001b[1;32mnot\u001b[0m \u001b[0mself\u001b[0m\u001b[1;33m.\u001b[0m\u001b[0m_backend\u001b[0m\u001b[1;33m:\u001b[0m\u001b[1;33m\u001b[0m\u001b[1;33m\u001b[0m\u001b[0m\n\u001b[0;32m    516\u001b[0m             \u001b[1;31m# fit_transform\u001b[0m\u001b[1;33m\u001b[0m\u001b[1;33m\u001b[0m\u001b[1;33m\u001b[0m\u001b[0m\n",
      "\u001b[1;32m~\\Miniconda3\\envs\\torch\\lib\\site-packages\\mlens\\ensemble\\base.py\u001b[0m in \u001b[0;36mfit\u001b[1;34m(self, X, y, **kwargs)\u001b[0m\n\u001b[0;32m    156\u001b[0m         with ParallelProcessing(self.backend, self.n_jobs,\n\u001b[0;32m    157\u001b[0m                                 max(self.verbose - 4, 0)) as manager:\n\u001b[1;32m--> 158\u001b[1;33m             \u001b[0mout\u001b[0m \u001b[1;33m=\u001b[0m \u001b[0mmanager\u001b[0m\u001b[1;33m.\u001b[0m\u001b[0mstack\u001b[0m\u001b[1;33m(\u001b[0m\u001b[0mself\u001b[0m\u001b[1;33m,\u001b[0m \u001b[1;34m'fit'\u001b[0m\u001b[1;33m,\u001b[0m \u001b[0mX\u001b[0m\u001b[1;33m,\u001b[0m \u001b[0my\u001b[0m\u001b[1;33m,\u001b[0m \u001b[1;33m**\u001b[0m\u001b[0mkwargs\u001b[0m\u001b[1;33m)\u001b[0m\u001b[1;33m\u001b[0m\u001b[1;33m\u001b[0m\u001b[0m\n\u001b[0m\u001b[0;32m    159\u001b[0m \u001b[1;33m\u001b[0m\u001b[0m\n\u001b[0;32m    160\u001b[0m         \u001b[1;32mif\u001b[0m \u001b[0mself\u001b[0m\u001b[1;33m.\u001b[0m\u001b[0mverbose\u001b[0m\u001b[1;33m:\u001b[0m\u001b[1;33m\u001b[0m\u001b[1;33m\u001b[0m\u001b[0m\n",
      "\u001b[1;32m~\\Miniconda3\\envs\\torch\\lib\\site-packages\\mlens\\parallel\\backend.py\u001b[0m in \u001b[0;36mstack\u001b[1;34m(self, caller, job, X, y, path, return_preds, warm_start, split, **kwargs)\u001b[0m\n\u001b[0;32m    671\u001b[0m             \u001b[0mjob\u001b[0m\u001b[1;33m=\u001b[0m\u001b[0mjob\u001b[0m\u001b[1;33m,\u001b[0m \u001b[0mX\u001b[0m\u001b[1;33m=\u001b[0m\u001b[0mX\u001b[0m\u001b[1;33m,\u001b[0m \u001b[0my\u001b[0m\u001b[1;33m=\u001b[0m\u001b[0my\u001b[0m\u001b[1;33m,\u001b[0m \u001b[0mpath\u001b[0m\u001b[1;33m=\u001b[0m\u001b[0mpath\u001b[0m\u001b[1;33m,\u001b[0m \u001b[0mwarm_start\u001b[0m\u001b[1;33m=\u001b[0m\u001b[0mwarm_start\u001b[0m\u001b[1;33m,\u001b[0m\u001b[1;33m\u001b[0m\u001b[1;33m\u001b[0m\u001b[0m\n\u001b[0;32m    672\u001b[0m             return_preds=return_preds, split=split, stack=True)\n\u001b[1;32m--> 673\u001b[1;33m         \u001b[1;32mreturn\u001b[0m \u001b[0mself\u001b[0m\u001b[1;33m.\u001b[0m\u001b[0mprocess\u001b[0m\u001b[1;33m(\u001b[0m\u001b[0mcaller\u001b[0m\u001b[1;33m=\u001b[0m\u001b[0mcaller\u001b[0m\u001b[1;33m,\u001b[0m \u001b[0mout\u001b[0m\u001b[1;33m=\u001b[0m\u001b[0mout\u001b[0m\u001b[1;33m,\u001b[0m \u001b[1;33m**\u001b[0m\u001b[0mkwargs\u001b[0m\u001b[1;33m)\u001b[0m\u001b[1;33m\u001b[0m\u001b[1;33m\u001b[0m\u001b[0m\n\u001b[0m\u001b[0;32m    674\u001b[0m \u001b[1;33m\u001b[0m\u001b[0m\n\u001b[0;32m    675\u001b[0m     \u001b[1;32mdef\u001b[0m \u001b[0mprocess\u001b[0m\u001b[1;33m(\u001b[0m\u001b[0mself\u001b[0m\u001b[1;33m,\u001b[0m \u001b[0mcaller\u001b[0m\u001b[1;33m,\u001b[0m \u001b[0mout\u001b[0m\u001b[1;33m,\u001b[0m \u001b[1;33m**\u001b[0m\u001b[0mkwargs\u001b[0m\u001b[1;33m)\u001b[0m\u001b[1;33m:\u001b[0m\u001b[1;33m\u001b[0m\u001b[1;33m\u001b[0m\u001b[0m\n",
      "\u001b[1;32m~\\Miniconda3\\envs\\torch\\lib\\site-packages\\mlens\\parallel\\backend.py\u001b[0m in \u001b[0;36mprocess\u001b[1;34m(self, caller, out, **kwargs)\u001b[0m\n\u001b[0;32m    716\u001b[0m                 \u001b[0mself\u001b[0m\u001b[1;33m.\u001b[0m\u001b[0mjob\u001b[0m\u001b[1;33m.\u001b[0m\u001b[0mclear\u001b[0m\u001b[1;33m(\u001b[0m\u001b[1;33m)\u001b[0m\u001b[1;33m\u001b[0m\u001b[1;33m\u001b[0m\u001b[0m\n\u001b[0;32m    717\u001b[0m \u001b[1;33m\u001b[0m\u001b[0m\n\u001b[1;32m--> 718\u001b[1;33m                 \u001b[0mself\u001b[0m\u001b[1;33m.\u001b[0m\u001b[0m_partial_process\u001b[0m\u001b[1;33m(\u001b[0m\u001b[0mtask\u001b[0m\u001b[1;33m,\u001b[0m \u001b[0mparallel\u001b[0m\u001b[1;33m,\u001b[0m \u001b[1;33m**\u001b[0m\u001b[0mkwargs\u001b[0m\u001b[1;33m)\u001b[0m\u001b[1;33m\u001b[0m\u001b[1;33m\u001b[0m\u001b[0m\n\u001b[0m\u001b[0;32m    719\u001b[0m \u001b[1;33m\u001b[0m\u001b[0m\n\u001b[0;32m    720\u001b[0m                 \u001b[1;32mif\u001b[0m \u001b[0mtask\u001b[0m\u001b[1;33m.\u001b[0m\u001b[0mname\u001b[0m \u001b[1;32min\u001b[0m \u001b[0mreturn_names\u001b[0m\u001b[1;33m:\u001b[0m\u001b[1;33m\u001b[0m\u001b[1;33m\u001b[0m\u001b[0m\n",
      "\u001b[1;32m~\\Miniconda3\\envs\\torch\\lib\\site-packages\\mlens\\parallel\\backend.py\u001b[0m in \u001b[0;36m_partial_process\u001b[1;34m(self, task, parallel, **kwargs)\u001b[0m\n\u001b[0;32m    737\u001b[0m             \u001b[0mself\u001b[0m\u001b[1;33m.\u001b[0m\u001b[0m_gen_prediction_array\u001b[0m\u001b[1;33m(\u001b[0m\u001b[0mtask\u001b[0m\u001b[1;33m,\u001b[0m \u001b[0mself\u001b[0m\u001b[1;33m.\u001b[0m\u001b[0mjob\u001b[0m\u001b[1;33m.\u001b[0m\u001b[0mjob\u001b[0m\u001b[1;33m,\u001b[0m \u001b[0mself\u001b[0m\u001b[1;33m.\u001b[0m\u001b[0m__threading__\u001b[0m\u001b[1;33m)\u001b[0m\u001b[1;33m\u001b[0m\u001b[1;33m\u001b[0m\u001b[0m\n\u001b[0;32m    738\u001b[0m \u001b[1;33m\u001b[0m\u001b[0m\n\u001b[1;32m--> 739\u001b[1;33m         \u001b[0mtask\u001b[0m\u001b[1;33m(\u001b[0m\u001b[0mself\u001b[0m\u001b[1;33m.\u001b[0m\u001b[0mjob\u001b[0m\u001b[1;33m.\u001b[0m\u001b[0margs\u001b[0m\u001b[1;33m(\u001b[0m\u001b[1;33m**\u001b[0m\u001b[0mkwargs\u001b[0m\u001b[1;33m)\u001b[0m\u001b[1;33m,\u001b[0m \u001b[0mparallel\u001b[0m\u001b[1;33m=\u001b[0m\u001b[0mparallel\u001b[0m\u001b[1;33m)\u001b[0m\u001b[1;33m\u001b[0m\u001b[1;33m\u001b[0m\u001b[0m\n\u001b[0m\u001b[0;32m    740\u001b[0m \u001b[1;33m\u001b[0m\u001b[0m\n\u001b[0;32m    741\u001b[0m         \u001b[1;32mif\u001b[0m \u001b[1;32mnot\u001b[0m \u001b[0mtask\u001b[0m\u001b[1;33m.\u001b[0m\u001b[0m__no_output__\u001b[0m \u001b[1;32mand\u001b[0m \u001b[0mgetattr\u001b[0m\u001b[1;33m(\u001b[0m\u001b[0mtask\u001b[0m\u001b[1;33m,\u001b[0m \u001b[1;34m'n_feature_prop'\u001b[0m\u001b[1;33m,\u001b[0m \u001b[1;36m0\u001b[0m\u001b[1;33m)\u001b[0m\u001b[1;33m:\u001b[0m\u001b[1;33m\u001b[0m\u001b[1;33m\u001b[0m\u001b[0m\n",
      "\u001b[1;32m~\\Miniconda3\\envs\\torch\\lib\\site-packages\\mlens\\parallel\\layer.py\u001b[0m in \u001b[0;36m__call__\u001b[1;34m(self, args, parallel)\u001b[0m\n\u001b[0;32m    150\u001b[0m \u001b[1;33m\u001b[0m\u001b[0m\n\u001b[0;32m    151\u001b[0m         parallel(delayed(sublearner, not _threading)()\n\u001b[1;32m--> 152\u001b[1;33m                  \u001b[1;32mfor\u001b[0m \u001b[0mlearner\u001b[0m \u001b[1;32min\u001b[0m \u001b[0mself\u001b[0m\u001b[1;33m.\u001b[0m\u001b[0mlearners\u001b[0m\u001b[1;33m\u001b[0m\u001b[1;33m\u001b[0m\u001b[0m\n\u001b[0m\u001b[0;32m    153\u001b[0m                  for sublearner in learner(args, 'main'))\n\u001b[0;32m    154\u001b[0m \u001b[1;33m\u001b[0m\u001b[0m\n",
      "\u001b[1;32m~\\Miniconda3\\envs\\torch\\lib\\site-packages\\mlens\\externals\\joblib\\parallel.py\u001b[0m in \u001b[0;36m__call__\u001b[1;34m(self, iterable)\u001b[0m\n\u001b[0;32m    791\u001b[0m                 \u001b[1;31m# consumption.\u001b[0m\u001b[1;33m\u001b[0m\u001b[1;33m\u001b[0m\u001b[1;33m\u001b[0m\u001b[0m\n\u001b[0;32m    792\u001b[0m                 \u001b[0mself\u001b[0m\u001b[1;33m.\u001b[0m\u001b[0m_iterating\u001b[0m \u001b[1;33m=\u001b[0m \u001b[1;32mFalse\u001b[0m\u001b[1;33m\u001b[0m\u001b[1;33m\u001b[0m\u001b[0m\n\u001b[1;32m--> 793\u001b[1;33m             \u001b[0mself\u001b[0m\u001b[1;33m.\u001b[0m\u001b[0mretrieve\u001b[0m\u001b[1;33m(\u001b[0m\u001b[1;33m)\u001b[0m\u001b[1;33m\u001b[0m\u001b[1;33m\u001b[0m\u001b[0m\n\u001b[0m\u001b[0;32m    794\u001b[0m             \u001b[1;31m# Make sure that we get a last message telling us we are done\u001b[0m\u001b[1;33m\u001b[0m\u001b[1;33m\u001b[0m\u001b[1;33m\u001b[0m\u001b[0m\n\u001b[0;32m    795\u001b[0m             \u001b[0melapsed_time\u001b[0m \u001b[1;33m=\u001b[0m \u001b[0mtime\u001b[0m\u001b[1;33m.\u001b[0m\u001b[0mtime\u001b[0m\u001b[1;33m(\u001b[0m\u001b[1;33m)\u001b[0m \u001b[1;33m-\u001b[0m \u001b[0mself\u001b[0m\u001b[1;33m.\u001b[0m\u001b[0m_start_time\u001b[0m\u001b[1;33m\u001b[0m\u001b[1;33m\u001b[0m\u001b[0m\n",
      "\u001b[1;32m~\\Miniconda3\\envs\\torch\\lib\\site-packages\\mlens\\externals\\joblib\\parallel.py\u001b[0m in \u001b[0;36mretrieve\u001b[1;34m(self)\u001b[0m\n\u001b[0;32m    742\u001b[0m                     \u001b[0mexception\u001b[0m \u001b[1;33m=\u001b[0m \u001b[0mexception_type\u001b[0m\u001b[1;33m(\u001b[0m\u001b[0mreport\u001b[0m\u001b[1;33m)\u001b[0m\u001b[1;33m\u001b[0m\u001b[1;33m\u001b[0m\u001b[0m\n\u001b[0;32m    743\u001b[0m \u001b[1;33m\u001b[0m\u001b[0m\n\u001b[1;32m--> 744\u001b[1;33m                     \u001b[1;32mraise\u001b[0m \u001b[0mexception\u001b[0m\u001b[1;33m\u001b[0m\u001b[1;33m\u001b[0m\u001b[0m\n\u001b[0m\u001b[0;32m    745\u001b[0m \u001b[1;33m\u001b[0m\u001b[0m\n\u001b[0;32m    746\u001b[0m     \u001b[1;32mdef\u001b[0m \u001b[0m__call__\u001b[0m\u001b[1;33m(\u001b[0m\u001b[0mself\u001b[0m\u001b[1;33m,\u001b[0m \u001b[0miterable\u001b[0m\u001b[1;33m)\u001b[0m\u001b[1;33m:\u001b[0m\u001b[1;33m\u001b[0m\u001b[1;33m\u001b[0m\u001b[0m\n",
      "\u001b[1;31mJoblibMemoryError\u001b[0m: JoblibMemoryError\n___________________________________________________________________________\nMultiprocessing exception:\n...........................................................................\nC:\\Users\\D073999\\Miniconda3\\envs\\torch\\lib\\runpy.py in _run_module_as_main(mod_name='ipykernel_launcher', alter_argv=1)\n    188         sys.exit(msg)\n    189     main_globals = sys.modules[\"__main__\"].__dict__\n    190     if alter_argv:\n    191         sys.argv[0] = mod_spec.origin\n    192     return _run_code(code, main_globals, None,\n--> 193                      \"__main__\", mod_spec)\n        mod_spec = ModuleSpec(name='ipykernel_launcher', loader=<_f...orch\\\\lib\\\\site-packages\\\\ipykernel_launcher.py')\n    194 \n    195 def run_module(mod_name, init_globals=None,\n    196                run_name=None, alter_sys=False):\n    197     \"\"\"Execute a module's code without importing it\n\n...........................................................................\nC:\\Users\\D073999\\Miniconda3\\envs\\torch\\lib\\runpy.py in _run_code(code=<code object <module> at 0x00000252B6BDC030, fil...lib\\site-packages\\ipykernel_launcher.py\", line 5>, run_globals={'__annotations__': {}, '__builtins__': <module 'builtins' (built-in)>, '__cached__': r'C:\\Users\\D073999\\Miniconda3\\envs\\torch\\lib\\site-...ges\\__pycache__\\ipykernel_launcher.cpython-37.pyc', '__doc__': 'Entry point for launching an IPython kernel.\\n\\nTh...orts until\\nafter removing the cwd from sys.path.\\n', '__file__': r'C:\\Users\\D073999\\Miniconda3\\envs\\torch\\lib\\site-packages\\ipykernel_launcher.py', '__loader__': <_frozen_importlib_external.SourceFileLoader object>, '__name__': '__main__', '__package__': '', '__spec__': ModuleSpec(name='ipykernel_launcher', loader=<_f...orch\\\\lib\\\\site-packages\\\\ipykernel_launcher.py'), 'app': <module 'ipykernel.kernelapp' from 'C:\\\\Users\\\\D...ch\\\\lib\\\\site-packages\\\\ipykernel\\\\kernelapp.py'>, ...}, init_globals=None, mod_name='__main__', mod_spec=ModuleSpec(name='ipykernel_launcher', loader=<_f...orch\\\\lib\\\\site-packages\\\\ipykernel_launcher.py'), pkg_name='', script_name=None)\n     80                        __cached__ = cached,\n     81                        __doc__ = None,\n     82                        __loader__ = loader,\n     83                        __package__ = pkg_name,\n     84                        __spec__ = mod_spec)\n---> 85     exec(code, run_globals)\n        code = <code object <module> at 0x00000252B6BDC030, fil...lib\\site-packages\\ipykernel_launcher.py\", line 5>\n        run_globals = {'__annotations__': {}, '__builtins__': <module 'builtins' (built-in)>, '__cached__': r'C:\\Users\\D073999\\Miniconda3\\envs\\torch\\lib\\site-...ges\\__pycache__\\ipykernel_launcher.cpython-37.pyc', '__doc__': 'Entry point for launching an IPython kernel.\\n\\nTh...orts until\\nafter removing the cwd from sys.path.\\n', '__file__': r'C:\\Users\\D073999\\Miniconda3\\envs\\torch\\lib\\site-packages\\ipykernel_launcher.py', '__loader__': <_frozen_importlib_external.SourceFileLoader object>, '__name__': '__main__', '__package__': '', '__spec__': ModuleSpec(name='ipykernel_launcher', loader=<_f...orch\\\\lib\\\\site-packages\\\\ipykernel_launcher.py'), 'app': <module 'ipykernel.kernelapp' from 'C:\\\\Users\\\\D...ch\\\\lib\\\\site-packages\\\\ipykernel\\\\kernelapp.py'>, ...}\n     86     return run_globals\n     87 \n     88 def _run_module_code(code, init_globals=None,\n     89                     mod_name=None, mod_spec=None,\n\n...........................................................................\nC:\\Users\\D073999\\Miniconda3\\envs\\torch\\lib\\site-packages\\ipykernel_launcher.py in <module>()\n     11     # This is added back by InteractiveShellApp.init_path()\n     12     if sys.path[0] == '':\n     13         del sys.path[0]\n     14 \n     15     from ipykernel import kernelapp as app\n---> 16     app.launch_new_instance()\n\n...........................................................................\nC:\\Users\\D073999\\Miniconda3\\envs\\torch\\lib\\site-packages\\traitlets\\config\\application.py in launch_instance(cls=<class 'ipykernel.kernelapp.IPKernelApp'>, argv=None, **kwargs={})\n    841 \n    842         If a global instance already exists, this reinitializes and starts it\n    843         \"\"\"\n    844         app = cls.instance(**kwargs)\n    845         app.initialize(argv)\n--> 846         app.start()\n        app.start = <bound method IPKernelApp.start of <ipykernel.kernelapp.IPKernelApp object>>\n    847 \n    848 #-----------------------------------------------------------------------------\n    849 # utility functions, for convenience\n    850 #-----------------------------------------------------------------------------\n\n...........................................................................\nC:\\Users\\D073999\\Miniconda3\\envs\\torch\\lib\\site-packages\\ipykernel\\kernelapp.py in start(self=<ipykernel.kernelapp.IPKernelApp object>)\n    672                 tr.run()\n    673             except KeyboardInterrupt:\n    674                 pass\n    675         else:\n    676             try:\n--> 677                 self.io_loop.start()\n        self.io_loop.start = <bound method BaseAsyncIOLoop.start of <tornado.platform.asyncio.AsyncIOMainLoop object>>\n    678             except KeyboardInterrupt:\n    679                 pass\n    680 \n    681 \n\n...........................................................................\nC:\\Users\\D073999\\Miniconda3\\envs\\torch\\lib\\site-packages\\tornado\\platform\\asyncio.py in start(self=<tornado.platform.asyncio.AsyncIOMainLoop object>)\n    194         except (RuntimeError, AssertionError):\n    195             old_loop = None  # type: ignore\n    196         try:\n    197             self._setup_logging()\n    198             asyncio.set_event_loop(self.asyncio_loop)\n--> 199             self.asyncio_loop.run_forever()\n        self.asyncio_loop.run_forever = <bound method BaseEventLoop.run_forever of <_Win...EventLoop running=True closed=False debug=False>>\n    200         finally:\n    201             asyncio.set_event_loop(old_loop)\n    202 \n    203     def stop(self) -> None:\n\n...........................................................................\nC:\\Users\\D073999\\Miniconda3\\envs\\torch\\lib\\asyncio\\base_events.py in run_forever(self=<_WindowsSelectorEventLoop running=True closed=False debug=False>)\n    536         sys.set_asyncgen_hooks(firstiter=self._asyncgen_firstiter_hook,\n    537                                finalizer=self._asyncgen_finalizer_hook)\n    538         try:\n    539             events._set_running_loop(self)\n    540             while True:\n--> 541                 self._run_once()\n        self._run_once = <bound method BaseEventLoop._run_once of <_Windo...EventLoop running=True closed=False debug=False>>\n    542                 if self._stopping:\n    543                     break\n    544         finally:\n    545             self._stopping = False\n\n...........................................................................\nC:\\Users\\D073999\\Miniconda3\\envs\\torch\\lib\\asyncio\\base_events.py in _run_once(self=<_WindowsSelectorEventLoop running=True closed=False debug=False>)\n   1781                         logger.warning('Executing %s took %.3f seconds',\n   1782                                        _format_handle(handle), dt)\n   1783                 finally:\n   1784                     self._current_handle = None\n   1785             else:\n-> 1786                 handle._run()\n        handle._run = <bound method Handle._run of <Handle <TaskWakeup...000252C840F588>(<Future finis...7C8>, ...],))>)>>\n   1787         handle = None  # Needed to break cycles when an exception occurs.\n   1788 \n   1789     def _set_coroutine_origin_tracking(self, enabled):\n   1790         if bool(enabled) == bool(self._coroutine_origin_tracking_enabled):\n\n...........................................................................\nC:\\Users\\D073999\\Miniconda3\\envs\\torch\\lib\\asyncio\\events.py in _run(self=<Handle <TaskWakeupMethWrapper object at 0x00000252C840F588>(<Future finis...7C8>, ...],))>)>)\n     83     def cancelled(self):\n     84         return self._cancelled\n     85 \n     86     def _run(self):\n     87         try:\n---> 88             self._context.run(self._callback, *self._args)\n        self._context.run = <built-in method run of Context object>\n        self._callback = <TaskWakeupMethWrapper object>\n        self._args = (<Future finished result=(19, <bound method...025...001708>, <zmq.sugar.fr...00252BA0017C8>, ...],))>,)\n     89         except Exception as exc:\n     90             cb = format_helpers._format_callback_source(\n     91                 self._callback, self._args)\n     92             msg = f'Exception in callback {cb}'\n\n...........................................................................\nC:\\Users\\D073999\\Miniconda3\\envs\\torch\\lib\\site-packages\\ipykernel\\kernelbase.py in dispatch_queue(self=<ipykernel.ipkernel.IPythonKernel object>)\n    466         even when the handler is async\n    467         \"\"\"\n    468 \n    469         while True:\n    470             try:\n--> 471                 await self.process_one()\n        self.process_one = <bound method Kernel.process_one of <ipykernel.ipkernel.IPythonKernel object>>\n    472             except Exception:\n    473                 self.log.exception(\"Error in message handler\")\n    474 \n    475     _message_counter = Any(\n\n...........................................................................\nC:\\Users\\D073999\\Miniconda3\\envs\\torch\\lib\\site-packages\\ipykernel\\kernelbase.py in process_one(self=<ipykernel.ipkernel.IPythonKernel object>, wait=True)\n    455         else:\n    456             try:\n    457                 t, dispatch, args = self.msg_queue.get_nowait()\n    458             except (asyncio.QueueEmpty, QueueEmpty):\n    459                 return None\n--> 460         await dispatch(*args)\n        dispatch = <bound method Kernel.dispatch_shell of <ipykernel.ipkernel.IPythonKernel object>>\n        args = ([<zmq.sugar.frame.Frame object>, <zmq.sugar.frame.Frame object>, <zmq.sugar.frame.Frame object>, <zmq.sugar.frame.Frame object>, <zmq.sugar.frame.Frame object>, <zmq.sugar.frame.Frame object>, <zmq.sugar.frame.Frame object>],)\n    461 \n    462     async def dispatch_queue(self):\n    463         \"\"\"Coroutine to preserve order of message handling\n    464 \n\n...........................................................................\nC:\\Users\\D073999\\Miniconda3\\envs\\torch\\lib\\site-packages\\ipykernel\\kernelbase.py in dispatch_shell(self=<ipykernel.ipkernel.IPythonKernel object>, msg={'buffers': [], 'content': {'allow_stdin': True, 'code': 'from mlens.ensemble import SuperLearner\\nfrom skl...on score: %.3f\" % accuracy_score(y_test, preds)) ', 'silent': False, 'stop_on_error': True, 'store_history': True, 'user_expressions': {}}, 'header': {'date': datetime.datetime(2022, 5, 26, 13, 43, 16, 676000, tzinfo=tzutc()), 'msg_id': '46487243db234e59bf8353dc7babfe94', 'msg_type': 'execute_request', 'session': '956c4adc8301493ba2e99a72e80c26a5', 'username': 'username', 'version': '5.2'}, 'metadata': {}, 'msg_id': '46487243db234e59bf8353dc7babfe94', 'msg_type': 'execute_request', 'parent_header': {}})\n    362             except Exception:\n    363                 self.log.debug(\"Unable to signal in pre_handler_hook:\", exc_info=True)\n    364             try:\n    365                 result = handler(self.shell_stream, idents, msg)\n    366                 if inspect.isawaitable(result):\n--> 367                     await result\n        result = <coroutine object Kernel.execute_request>\n    368             except Exception:\n    369                 self.log.error(\"Exception in message handler:\", exc_info=True)\n    370             except KeyboardInterrupt:\n    371                 # Ctrl-c shouldn't crash the kernel here.\n\n...........................................................................\nC:\\Users\\D073999\\Miniconda3\\envs\\torch\\lib\\site-packages\\ipykernel\\kernelbase.py in execute_request(self=<ipykernel.ipkernel.IPythonKernel object>, stream=<zmq.eventloop.zmqstream.ZMQStream object>, ident=[b'956c4adc8301493ba2e99a72e80c26a5'], parent={'buffers': [], 'content': {'allow_stdin': True, 'code': 'from mlens.ensemble import SuperLearner\\nfrom skl...on score: %.3f\" % accuracy_score(y_test, preds)) ', 'silent': False, 'stop_on_error': True, 'store_history': True, 'user_expressions': {}}, 'header': {'date': datetime.datetime(2022, 5, 26, 13, 43, 16, 676000, tzinfo=tzutc()), 'msg_id': '46487243db234e59bf8353dc7babfe94', 'msg_type': 'execute_request', 'session': '956c4adc8301493ba2e99a72e80c26a5', 'username': 'username', 'version': '5.2'}, 'metadata': {}, 'msg_id': '46487243db234e59bf8353dc7babfe94', 'msg_type': 'execute_request', 'parent_header': {}})\n    657         reply_content = self.do_execute(\n    658             code, silent, store_history,\n    659             user_expressions, allow_stdin,\n    660         )\n    661         if inspect.isawaitable(reply_content):\n--> 662             reply_content = await reply_content\n        reply_content = <coroutine object IPythonKernel.do_execute>\n    663 \n    664         # Flush output before sending the reply.\n    665         sys.stdout.flush()\n    666         sys.stderr.flush()\n\n...........................................................................\nC:\\Users\\D073999\\Miniconda3\\envs\\torch\\lib\\site-packages\\ipykernel\\ipkernel.py in do_execute(self=<ipykernel.ipkernel.IPythonKernel object>, code='from mlens.ensemble import SuperLearner\\nfrom skl...on score: %.3f\" % accuracy_score(y_test, preds)) ', silent=False, store_history=True, user_expressions={}, allow_stdin=True)\n    355                             shell.events.trigger('post_run_cell', res)\n    356             else:\n    357                 # runner isn't already running,\n    358                 # make synchronous call,\n    359                 # letting shell dispatch to loop runners\n--> 360                 res = shell.run_cell(code, store_history=store_history, silent=silent)\n        res = undefined\n        code = 'from mlens.ensemble import SuperLearner\\nfrom skl...on score: %.3f\" % accuracy_score(y_test, preds)) '\n        store_history = True\n        silent = False\n    361         finally:\n    362             self._restore_input()\n    363 \n    364         if res.error_before_exec is not None:\n\n...........................................................................\nC:\\Users\\D073999\\Miniconda3\\envs\\torch\\lib\\site-packages\\ipykernel\\zmqshell.py in run_cell(self=<ipykernel.zmqshell.ZMQInteractiveShell object>, *args=('from mlens.ensemble import SuperLearner\\nfrom skl...on score: %.3f\" % accuracy_score(y_test, preds)) ',), **kwargs={'silent': False, 'store_history': True})\n    527         )\n    528         self.payload_manager.write_payload(payload)\n    529 \n    530     def run_cell(self, *args, **kwargs):\n    531         self._last_traceback = None\n--> 532         return super().run_cell(*args, **kwargs)\n        args = ('from mlens.ensemble import SuperLearner\\nfrom skl...on score: %.3f\" % accuracy_score(y_test, preds)) ',)\n        kwargs = {'silent': False, 'store_history': True}\n    533 \n    534     def _showtraceback(self, etype, evalue, stb):\n    535         # try to preserve ordering of tracebacks and print statements\n    536         sys.stdout.flush()\n\n...........................................................................\nC:\\Users\\D073999\\Miniconda3\\envs\\torch\\lib\\site-packages\\IPython\\core\\interactiveshell.py in run_cell(self=<ipykernel.zmqshell.ZMQInteractiveShell object>, raw_cell='from mlens.ensemble import SuperLearner\\nfrom skl...on score: %.3f\" % accuracy_score(y_test, preds)) ', store_history=True, silent=False, shell_futures=True)\n   2910         result : :class:`ExecutionResult`\n   2911         \"\"\"\n   2912         result = None\n   2913         try:\n   2914             result = self._run_cell(\n-> 2915                 raw_cell, store_history, silent, shell_futures)\n        raw_cell = 'from mlens.ensemble import SuperLearner\\nfrom skl...on score: %.3f\" % accuracy_score(y_test, preds)) '\n        store_history = True\n        silent = False\n        shell_futures = True\n   2916         finally:\n   2917             self.events.trigger('post_execute')\n   2918             if not silent:\n   2919                 self.events.trigger('post_run_cell', result)\n\n...........................................................................\nC:\\Users\\D073999\\Miniconda3\\envs\\torch\\lib\\site-packages\\IPython\\core\\interactiveshell.py in _run_cell(self=<ipykernel.zmqshell.ZMQInteractiveShell object>, raw_cell='from mlens.ensemble import SuperLearner\\nfrom skl...on score: %.3f\" % accuracy_score(y_test, preds)) ', store_history=True, silent=False, shell_futures=True)\n   2955             runner = self.loop_runner\n   2956         else:\n   2957             runner = _pseudo_sync_runner\n   2958 \n   2959         try:\n-> 2960             return runner(coro)\n        runner = <function _pseudo_sync_runner>\n        coro = <coroutine object InteractiveShell.run_cell_async>\n   2961         except BaseException as e:\n   2962             info = ExecutionInfo(raw_cell, store_history, silent, shell_futures)\n   2963             result = ExecutionResult(info)\n   2964             result.error_in_exec = e\n\n...........................................................................\nC:\\Users\\D073999\\Miniconda3\\envs\\torch\\lib\\site-packages\\IPython\\core\\async_helpers.py in _pseudo_sync_runner(coro=<coroutine object InteractiveShell.run_cell_async>)\n     73 \n     74     Credit to Nathaniel Smith\n     75 \n     76     \"\"\"\n     77     try:\n---> 78         coro.send(None)\n        coro.send = <built-in method send of coroutine object>\n     79     except StopIteration as exc:\n     80         return exc.value\n     81     else:\n     82         # TODO: do not raise but return an execution result with the right info.\n\n...........................................................................\nC:\\Users\\D073999\\Miniconda3\\envs\\torch\\lib\\site-packages\\IPython\\core\\interactiveshell.py in run_cell_async(self=<ipykernel.zmqshell.ZMQInteractiveShell object>, raw_cell='from mlens.ensemble import SuperLearner\\nfrom skl...on score: %.3f\" % accuracy_score(y_test, preds)) ', store_history=True, silent=False, shell_futures=True, transformed_cell='from mlens.ensemble import SuperLearner\\nfrom skl...n score: %.3f\" % accuracy_score(y_test, preds)) \\n', preprocessing_exc_tuple=None)\n   3181                 interactivity = \"none\" if silent else self.ast_node_interactivity\n   3182                 if _run_async:\n   3183                     interactivity = 'async'\n   3184 \n   3185                 has_raised = await self.run_ast_nodes(code_ast.body, cell_name,\n-> 3186                        interactivity=interactivity, compiler=compiler, result=result)\n        interactivity = 'last_expr'\n        compiler = <ipykernel.compiler.XCachingCompiler object>\n   3187 \n   3188                 self.last_execution_succeeded = not has_raised\n   3189                 self.last_execution_result = result\n   3190 \n\n...........................................................................\nC:\\Users\\D073999\\Miniconda3\\envs\\torch\\lib\\site-packages\\IPython\\core\\interactiveshell.py in run_ast_nodes(self=<ipykernel.zmqshell.ZMQInteractiveShell object>, nodelist=[<_ast.ImportFrom object>, <_ast.ImportFrom object>, <_ast.ImportFrom object>, <_ast.ImportFrom object>, <_ast.ImportFrom object>, <_ast.Assign object>, <_ast.Assign object>, <_ast.Expr object>, <_ast.Assign object>, <_ast.Expr object>, <_ast.Expr object>, <_ast.Expr object>, <_ast.Assign object>, <_ast.Expr object>], cell_name=r'C:\\Users\\D073999\\AppData\\Local\\Temp\\ipykernel_21464\\3287195673.py', interactivity='last', compiler=<ipykernel.compiler.XCachingCompiler object>, result=<ExecutionResult object at 252c87611c8, executio...rue silent=False shell_futures=True> result=None>)\n   3372                     elif mode == 'single':\n   3373                         mod = ast.Interactive([node])\n   3374                     with compiler.extra_flags(getattr(ast, 'PyCF_ALLOW_TOP_LEVEL_AWAIT', 0x0) if self.autoawait else 0x0):\n   3375                         code = compiler(mod, cell_name, mode)\n   3376                         asy = compare(code)\n-> 3377                     if (await self.run_code(code, result,  async_=asy)):\n        self.run_code = <bound method InteractiveShell.run_code of <ipykernel.zmqshell.ZMQInteractiveShell object>>\n        code = <code object <module> at 0x00000252C9893DB0, fil...cal\\Temp\\ipykernel_21464\\3287195673.py\", line 25>\n        result = <ExecutionResult object at 252c87611c8, executio...rue silent=False shell_futures=True> result=None>\n        asy = False\n   3378                         return True\n   3379 \n   3380             # Flush softspace\n   3381             if softspace(sys.stdout, 0):\n\n...........................................................................\nC:\\Users\\D073999\\Miniconda3\\envs\\torch\\lib\\site-packages\\IPython\\core\\interactiveshell.py in run_code(self=<ipykernel.zmqshell.ZMQInteractiveShell object>, code_obj=<code object <module> at 0x00000252C9893DB0, fil...cal\\Temp\\ipykernel_21464\\3287195673.py\", line 25>, result=<ExecutionResult object at 252c87611c8, executio...rue silent=False shell_futures=True> result=None>, async_=False)\n   3452                     code = compile('last_expr', 'fake', \"single\")\n   3453                     exec(code, {'last_expr': last_expr})\n   3454                 elif async_ :\n   3455                     await eval(code_obj, self.user_global_ns, self.user_ns)\n   3456                 else:\n-> 3457                     exec(code_obj, self.user_global_ns, self.user_ns)\n        code_obj = <code object <module> at 0x00000252C9893DB0, fil...cal\\Temp\\ipykernel_21464\\3287195673.py\", line 25>\n        self.user_global_ns = {'BaseEstimator': <class 'sklearn.base.BaseEstimator'>, 'Boolean': <class 'bool'>, 'ClassifierMixin': <class 'sklearn.base.ClassifierMixin'>, 'CountVectorizer': <class 'sklearn.feature_extraction.text.CountVectorizer'>, 'DecisionTreeClassifier': <class 'sklearn.tree._classes.DecisionTreeClassifier'>, 'GridSearchCV': <class 'sklearn.model_selection._search.GridSearchCV'>, 'HTML': <class 'IPython.core.display.HTML'>, 'In': ['', \"# import libraries\\nimport seaborn as sns\\nimport ...import warnings\\nwarnings.filterwarnings('ignore')\", \"get_ipython().system('pip install demoji')\", '# Just in case the file structure does not make ...mpile(r\"#(\\\\w+)\")\\n    return pattern.findall(text)', \"import sys  \\nsys.path.insert(0, 'C:\\\\\\\\Users\\\\\\\\D073..._emoji, setup\\n#from src.data import preprocessing\", 'from mlens.ensemble import SuperLearner\\nfrom skl...on score: %.3f\" % accuracy_score(y_test, preds)) ', 'import functools\\nimport time\\n\\n\\ndef time_decorate...       return result\\n\\n    return time_measurement', \"class KNN_DM(BaseEstimator, ClassifierMixin):\\n  ...bel('Predicted label')\\n        plt.tight_layout()\", \"def featureize(rem_stop=False, do_stem=False, do...t)}')\\n    return X_train, X_test, y_train, y_test\", 'def convert_to_tf_idf(X_train, X_test):\\n    \\n   ...f, x_test_tfidf, x_train_counts, x_test_counts   ', 'from mlens.ensemble import SuperLearner\\nfrom skl...on score: %.3f\" % accuracy_score(y_test, preds)) '], 'KNN_DM': <class '__main__.KNN_DM'>, 'KNeighborsClassifier': <class 'sklearn.neighbors._classification.KNeighborsClassifier'>, ...}\n        self.user_ns = {'BaseEstimator': <class 'sklearn.base.BaseEstimator'>, 'Boolean': <class 'bool'>, 'ClassifierMixin': <class 'sklearn.base.ClassifierMixin'>, 'CountVectorizer': <class 'sklearn.feature_extraction.text.CountVectorizer'>, 'DecisionTreeClassifier': <class 'sklearn.tree._classes.DecisionTreeClassifier'>, 'GridSearchCV': <class 'sklearn.model_selection._search.GridSearchCV'>, 'HTML': <class 'IPython.core.display.HTML'>, 'In': ['', \"# import libraries\\nimport seaborn as sns\\nimport ...import warnings\\nwarnings.filterwarnings('ignore')\", \"get_ipython().system('pip install demoji')\", '# Just in case the file structure does not make ...mpile(r\"#(\\\\w+)\")\\n    return pattern.findall(text)', \"import sys  \\nsys.path.insert(0, 'C:\\\\\\\\Users\\\\\\\\D073..._emoji, setup\\n#from src.data import preprocessing\", 'from mlens.ensemble import SuperLearner\\nfrom skl...on score: %.3f\" % accuracy_score(y_test, preds)) ', 'import functools\\nimport time\\n\\n\\ndef time_decorate...       return result\\n\\n    return time_measurement', \"class KNN_DM(BaseEstimator, ClassifierMixin):\\n  ...bel('Predicted label')\\n        plt.tight_layout()\", \"def featureize(rem_stop=False, do_stem=False, do...t)}')\\n    return X_train, X_test, y_train, y_test\", 'def convert_to_tf_idf(X_train, X_test):\\n    \\n   ...f, x_test_tfidf, x_train_counts, x_test_counts   ', 'from mlens.ensemble import SuperLearner\\nfrom skl...on score: %.3f\" % accuracy_score(y_test, preds)) '], 'KNN_DM': <class '__main__.KNN_DM'>, 'KNeighborsClassifier': <class 'sklearn.neighbors._classification.KNeighborsClassifier'>, ...}\n   3458             finally:\n   3459                 # Reset our crash handler in place\n   3460                 sys.excepthook = old_excepthook\n   3461         except SystemExit as e:\n\n...........................................................................\nC:\\Users\\D073999\\AppData\\Local\\Temp\\ipykernel_21464\\3287195673.py in <module>()\n     20 \n     21 # Attach the final meta estimator\n     22 ensemble.add_meta(DecisionTreeClassifier())\n     23 \n     24 # Fit ensemble\n---> 25 ensemble.fit(X_train_c.toarray(),y_train)\n     26 \n     27 # Predict\n     28 preds = ensemble.predict(X_test_c)\n     29 \n\n...........................................................................\nC:\\Users\\D073999\\Miniconda3\\envs\\torch\\lib\\site-packages\\mlens\\ensemble\\base.py in fit(self=SuperLearner(array_check=None, backend=None, fol...000252BF7B7D38>, shuffle=False,\n       verbose=0), X=array([[0, 0, 0, ..., 0, 0, 0],\n       [0, 0, 0,...0],\n       [0, 0, 0, ..., 0, 0, 0]], dtype=int64), y=30405    0\n27807    0\n8660     0\n19185    0\n1035...850    0\nName: label, Length: 25569, dtype: int64, **kwargs={})\n    509             return self\n    510 \n    511         if self.model_selection:\n    512             self._id_train.fit(X)\n    513 \n--> 514         out = self._backend.fit(X, y, **kwargs)\n        out = undefined\n        self._backend.fit = <bound method Sequential.fit of Sequential(backe...nsformers=[])],\n   verbose=0)],\n      verbose=0)>\n        X = array([[0, 0, 0, ..., 0, 0, 0],\n       [0, 0, 0,...0],\n       [0, 0, 0, ..., 0, 0, 0]], dtype=int64)\n        y = 30405    0\n27807    0\n8660     0\n19185    0\n1035...850    0\nName: label, Length: 25569, dtype: int64\n        kwargs = {}\n    515         if out is not self._backend:\n    516             # fit_transform\n    517             return out\n    518         else:\n\n...........................................................................\nC:\\Users\\D073999\\Miniconda3\\envs\\torch\\lib\\site-packages\\mlens\\ensemble\\base.py in fit(self=Sequential(backend='threading', dtype=<class 'nu...ansformers=[])],\n   verbose=0)],\n      verbose=0), X=array([[0, 0, 0, ..., 0, 0, 0],\n       [0, 0, 0,...0],\n       [0, 0, 0, ..., 0, 0, 0]], dtype=int64), y=30405    0\n27807    0\n8660     0\n19185    0\n1035...850    0\nName: label, Length: 25569, dtype: int64, **kwargs={})\n    153 \n    154         f, t0 = print_job(self, \"Fitting\")\n    155 \n    156         with ParallelProcessing(self.backend, self.n_jobs,\n    157                                 max(self.verbose - 4, 0)) as manager:\n--> 158             out = manager.stack(self, 'fit', X, y, **kwargs)\n        out = undefined\n        manager.stack = <bound method ParallelProcessing.stack of <mlens.parallel.backend.ParallelProcessing object>>\n        self = Sequential(backend='threading', dtype=<class 'nu...ansformers=[])],\n   verbose=0)],\n      verbose=0)\n        X = array([[0, 0, 0, ..., 0, 0, 0],\n       [0, 0, 0,...0],\n       [0, 0, 0, ..., 0, 0, 0]], dtype=int64)\n        y = 30405    0\n27807    0\n8660     0\n19185    0\n1035...850    0\nName: label, Length: 25569, dtype: int64\n        kwargs = {}\n    159 \n    160         if self.verbose:\n    161             print_time(t0, \"{:<35}\".format(\"Fit complete\"), file=f)\n    162 \n\n...........................................................................\nC:\\Users\\D073999\\Miniconda3\\envs\\torch\\lib\\site-packages\\mlens\\parallel\\backend.py in stack(self=<mlens.parallel.backend.ParallelProcessing object>, caller=Sequential(backend='threading', dtype=<class 'nu...ansformers=[])],\n   verbose=0)],\n      verbose=0), job='fit', X=array([[0, 0, 0, ..., 0, 0, 0],\n       [0, 0, 0,...0],\n       [0, 0, 0, ..., 0, 0, 0]], dtype=int64), y=30405    0\n27807    0\n8660     0\n19185    0\n1035...850    0\nName: label, Length: 25569, dtype: int64, path=None, return_preds=False, warm_start=False, split=True, **kwargs={})\n    668             Prediction array(s).\n    669         \"\"\"\n    670         out = self.initialize(\n    671             job=job, X=X, y=y, path=path, warm_start=warm_start,\n    672             return_preds=return_preds, split=split, stack=True)\n--> 673         return self.process(caller=caller, out=out, **kwargs)\n        self.process = <bound method ParallelProcessing.process of <mlens.parallel.backend.ParallelProcessing object>>\n        caller = Sequential(backend='threading', dtype=<class 'nu...ansformers=[])],\n   verbose=0)],\n      verbose=0)\n        out = {}\n        kwargs = {}\n    674 \n    675     def process(self, caller, out, **kwargs):\n    676         \"\"\"Process job.\n    677 \n\n...........................................................................\nC:\\Users\\D073999\\Miniconda3\\envs\\torch\\lib\\site-packages\\mlens\\parallel\\backend.py in process(self=<mlens.parallel.backend.ParallelProcessing object>, caller=Sequential(backend='threading', dtype=<class 'nu...ansformers=[])],\n   verbose=0)],\n      verbose=0), out=None, **kwargs={})\n    713                       backend=self.backend) as parallel:\n    714 \n    715             for task in caller:\n    716                 self.job.clear()\n    717 \n--> 718                 self._partial_process(task, parallel, **kwargs)\n        self._partial_process = <bound method ParallelProcessing._partial_proces...lens.parallel.backend.ParallelProcessing object>>\n        task = Layer(backend='threading', dtype=<class 'numpy.f..._exception=True, transformers=[])],\n   verbose=0)\n        parallel = Parallel(n_jobs=-1)\n        kwargs = {}\n    719 \n    720                 if task.name in return_names:\n    721                     out.append(self.get_preds(dtype=_dtype(task)))\n    722 \n\n...........................................................................\nC:\\Users\\D073999\\Miniconda3\\envs\\torch\\lib\\site-packages\\mlens\\parallel\\backend.py in _partial_process(self=<mlens.parallel.backend.ParallelProcessing object>, task=Layer(backend='threading', dtype=<class 'numpy.f..._exception=True, transformers=[])],\n   verbose=0), parallel=Parallel(n_jobs=-1), **kwargs={})\n    734         task.setup(self.job.predict_in, self.job.targets, self.job.job)\n    735 \n    736         if not task.__no_output__:\n    737             self._gen_prediction_array(task, self.job.job, self.__threading__)\n    738 \n--> 739         task(self.job.args(**kwargs), parallel=parallel)\n        task = Layer(backend='threading', dtype=<class 'numpy.f..._exception=True, transformers=[])],\n   verbose=0)\n        self.job.args = <bound method Job.args of <mlens.parallel.backend.Job object>>\n        kwargs = {}\n        parallel = Parallel(n_jobs=-1)\n    740 \n    741         if not task.__no_output__ and getattr(task, 'n_feature_prop', 0):\n    742             self._propagate_features(task)\n    743 \n\n...........................................................................\nC:\\Users\\D073999\\Miniconda3\\envs\\torch\\lib\\site-packages\\mlens\\parallel\\layer.py in __call__(self=Layer(backend='threading', dtype=<class 'numpy.f..._exception=True, transformers=[])],\n   verbose=0), args={'auxiliary': {'P': None, 'X': array([[0, 0, 0, ..., 0, 0, 0],\n       [0, 0, 0,...0],\n       [0, 0, 0, ..., 0, 0, 0]], dtype=int64), 'y': 30405    0\n27807    0\n8660     0\n19185    0\n1035...850    0\nName: label, Length: 25569, dtype: int64}, 'dir': [('kneighborsclassifier.0.0', <mlens.parallel.learner.IndexedEstimator object>)], 'job': 'fit', 'main': {'P': array([[0., 0.],\n       [0., 0.],\n       [0., 0....       [0., 0.],\n       [0., 0.]], dtype=float32), 'X': array([[0, 0, 0, ..., 0, 0, 0],\n       [0, 0, 0,...0],\n       [0, 0, 0, ..., 0, 0, 0]], dtype=int64), 'y': 30405    0\n27807    0\n8660     0\n19185    0\n1035...850    0\nName: label, Length: 25569, dtype: int64}}, parallel=Parallel(n_jobs=-1))\n    147         if self.verbose >= 2:\n    148             safe_print(msg.format('Learners ...'), file=f, end=e2)\n    149             t1 = time()\n    150 \n    151         parallel(delayed(sublearner, not _threading)()\n--> 152                  for learner in self.learners\n        self.learners = [Learner(attr='predict', backend='threading', dty...scorer=<function f1_score at 0x00000252BF7B7D38>), Learner(attr='predict', backend='threading', dty...scorer=<function f1_score at 0x00000252BF7B7D38>)]\n    153                  for sublearner in learner(args, 'main'))\n    154 \n    155         if self.verbose >= 2:\n    156             print_time(t1, 'done', file=f)\n\n...........................................................................\nC:\\Users\\D073999\\Miniconda3\\envs\\torch\\lib\\site-packages\\mlens\\externals\\joblib\\parallel.py in __call__(self=Parallel(n_jobs=-1), iterable=<generator object Layer.__call__.<locals>.<genexpr>>)\n    788             if pre_dispatch == \"all\" or n_jobs == 1:\n    789                 # The iterable was consumed all at once by the above for loop.\n    790                 # No need to wait for async callbacks to trigger to\n    791                 # consumption.\n    792                 self._iterating = False\n--> 793             self.retrieve()\n        self.retrieve = <bound method Parallel.retrieve of Parallel(n_jobs=-1)>\n    794             # Make sure that we get a last message telling us we are done\n    795             elapsed_time = time.time() - self._start_time\n    796             self._print('Done %3i out of %3i | elapsed: %s finished',\n    797                         (len(self._output), len(self._output),\n\n---------------------------------------------------------------------------\nSub-process traceback:\n---------------------------------------------------------------------------\nMemoryError                                        Thu May 26 15:46:53 2022\nPID: 21464 Python 3.7.13: C:\\Users\\D073999\\Miniconda3\\envs\\torch\\python.exe\n...........................................................................\nC:\\Users\\D073999\\Miniconda3\\envs\\torch\\lib\\site-packages\\mlens\\externals\\joblib\\parallel.py in __call__(self=<mlens.externals.joblib.parallel.BatchedCalls object>)\n    130     def __init__(self, iterator_slice):\n    131         self.items = list(iterator_slice)\n    132         self._size = len(self.items)\n    133 \n    134     def __call__(self):\n--> 135         return [func(*args, **kwargs) for func, args, kwargs in self.items]\n        self.items = [(<mlens.parallel.learner.SubLearner object>, (), {})]\n    136 \n    137     def __len__(self):\n    138         return self._size\n    139 \n\n...........................................................................\nC:\\Users\\D073999\\Miniconda3\\envs\\torch\\lib\\site-packages\\mlens\\externals\\joblib\\parallel.py in <listcomp>(.0=<list_iterator object>)\n    130     def __init__(self, iterator_slice):\n    131         self.items = list(iterator_slice)\n    132         self._size = len(self.items)\n    133 \n    134     def __call__(self):\n--> 135         return [func(*args, **kwargs) for func, args, kwargs in self.items]\n        func = <mlens.parallel.learner.SubLearner object>\n        args = ()\n        kwargs = {}\n    136 \n    137     def __len__(self):\n    138         return self._size\n    139 \n\n...........................................................................\nC:\\Users\\D073999\\Miniconda3\\envs\\torch\\lib\\site-packages\\mlens\\parallel\\learner.py in __call__(self=<mlens.parallel.learner.SubLearner object>)\n    119         else:\n    120             self.processing_index = ''\n    121 \n    122     def __call__(self):\n    123         \"\"\"Launch job\"\"\"\n--> 124         return getattr(self, self.job)()\n        self = <mlens.parallel.learner.SubLearner object>\n        self.job = 'fit'\n    125 \n    126     def fit(self, path=None):\n    127         \"\"\"Fit sub-learner\"\"\"\n    128         if path is None:\n\n...........................................................................\nC:\\Users\\D073999\\Miniconda3\\envs\\torch\\lib\\site-packages\\mlens\\parallel\\learner.py in fit(self=<mlens.parallel.learner.SubLearner object>, path=[('kneighborsclassifier.0.0', <mlens.parallel.learner.IndexedEstimator object>)])\n    131         transformers = self._load_preprocess(path)\n    132 \n    133         self._fit(transformers)\n    134 \n    135         if self.out_array is not None:\n--> 136             self._predict(transformers, self.scorer is not None)\n        self._predict = <bound method SubLearner._predict of <mlens.parallel.learner.SubLearner object>>\n        transformers = None\n        self.scorer = <function f1_score>\n    137 \n    138         o = IndexedEstimator(estimator=self.estimator,\n    139                              name=self.name_index,\n    140                              index=self.index,\n\n...........................................................................\nC:\\Users\\D073999\\Miniconda3\\envs\\torch\\lib\\site-packages\\mlens\\parallel\\learner.py in _predict(self=<mlens.parallel.learner.SubLearner object>, transformers=None, score_preds=True)\n    194         xtemp, ytemp = slice_array(self.in_array, self.targets, self.out_index)\n    195         t0 = time()\n    196 \n    197         if transformers:\n    198             xtemp, ytemp = transformers.transform(xtemp, ytemp)\n--> 199         predictions = getattr(self.estimator, self.attr)(xtemp)\n        predictions = undefined\n        self.estimator = KNeighborsClassifier(algorithm='ball_tree', metric='l1', n_neighbors=2)\n        self.attr = 'predict'\n        xtemp = array([[0, 0, 0, ..., 0, 0, 0],\n       [0, 0, 0,...0],\n       [0, 0, 0, ..., 0, 0, 0]], dtype=int64)\n    200 \n    201         self.pred_time_ = time() - t0\n    202 \n    203         # Assign predictions to matrix\n\n...........................................................................\nC:\\Users\\D073999\\Miniconda3\\envs\\torch\\lib\\site-packages\\sklearn\\neighbors\\_classification.py in predict(self=KNeighborsClassifier(algorithm='ball_tree', metric='l1', n_neighbors=2), X=array([[0, 0, 0, ..., 0, 0, 0],\n       [0, 0, 0,...0],\n       [0, 0, 0, ..., 0, 0, 0]], dtype=int64))\n    209         Returns\n    210         -------\n    211         y : ndarray of shape (n_queries,) or (n_queries, n_outputs)\n    212             Class labels for each data sample.\n    213         \"\"\"\n--> 214         neigh_dist, neigh_ind = self.kneighbors(X)\n        neigh_dist = undefined\n        neigh_ind = undefined\n        self.kneighbors = <bound method KNeighborsMixin.kneighbors of KNei...gorithm='ball_tree', metric='l1', n_neighbors=2)>\n        X = array([[0, 0, 0, ..., 0, 0, 0],\n       [0, 0, 0,...0],\n       [0, 0, 0, ..., 0, 0, 0]], dtype=int64)\n    215         classes_ = self.classes_\n    216         _y = self._y\n    217         if not self.outputs_2d_:\n    218             _y = self._y.reshape((-1, 1))\n\n...........................................................................\nC:\\Users\\D073999\\Miniconda3\\envs\\torch\\lib\\site-packages\\sklearn\\neighbors\\_base.py in kneighbors(self=KNeighborsClassifier(algorithm='ball_tree', metric='l1', n_neighbors=2), X=array([[0, 0, 0, ..., 0, 0, 0],\n       [0, 0, 0,...0],\n       [0, 0, 0, ..., 0, 0, 0]], dtype=int64), n_neighbors=2, return_distance=True)\n    775                 parallel_kwargs = {\"prefer\": \"threads\"}\n    776             chunked_results = Parallel(n_jobs, **parallel_kwargs)(\n    777                 delayed(_tree_query_parallel_helper)(\n    778                     self._tree, X[s], n_neighbors, return_distance\n    779                 )\n--> 780                 for s in gen_even_slices(X.shape[0], n_jobs)\n        X.shape = (12785, 32129)\n        n_jobs = 1\n    781             )\n    782         else:\n    783             raise ValueError(\"internal: _fit_method not recognized\")\n    784 \n\n...........................................................................\nC:\\Users\\D073999\\Miniconda3\\envs\\torch\\lib\\site-packages\\joblib\\parallel.py in __call__(self=Parallel(n_jobs=1), iterable=<generator object KNeighborsMixin.kneighbors.<locals>.<genexpr>>)\n   1038             # self._original_iterator is None, then this means either\n   1039             # that pre_dispatch == \"all\", n_jobs == 1 or that the first batch\n   1040             # was very quick and its callback already dispatched all the\n   1041             # remaining jobs.\n   1042             self._iterating = False\n-> 1043             if self.dispatch_one_batch(iterator):\n        self.dispatch_one_batch = <bound method Parallel.dispatch_one_batch of Parallel(n_jobs=1)>\n        iterator = <generator object KNeighborsMixin.kneighbors.<locals>.<genexpr>>\n   1044                 self._iterating = self._original_iterator is not None\n   1045 \n   1046             while self.dispatch_one_batch(iterator):\n   1047                 pass\n\n...........................................................................\nC:\\Users\\D073999\\Miniconda3\\envs\\torch\\lib\\site-packages\\joblib\\parallel.py in dispatch_one_batch(self=Parallel(n_jobs=1), iterator=<generator object KNeighborsMixin.kneighbors.<locals>.<genexpr>>)\n    856                 tasks = self._ready_batches.get(block=False)\n    857             if len(tasks) == 0:\n    858                 # No more tasks available in the iterator: tell caller to stop.\n    859                 return False\n    860             else:\n--> 861                 self._dispatch(tasks)\n        self._dispatch = <bound method Parallel._dispatch of Parallel(n_jobs=1)>\n        tasks = <joblib.parallel.BatchedCalls object>\n    862                 return True\n    863 \n    864     def _print(self, msg, msg_args):\n    865         \"\"\"Display the message on stout or stderr depending on verbosity\"\"\"\n\n...........................................................................\nC:\\Users\\D073999\\Miniconda3\\envs\\torch\\lib\\site-packages\\joblib\\parallel.py in _dispatch(self=Parallel(n_jobs=1), batch=<joblib.parallel.BatchedCalls object>)\n    774 \n    775         dispatch_timestamp = time.time()\n    776         cb = BatchCompletionCallBack(dispatch_timestamp, len(batch), self)\n    777         with self._lock:\n    778             job_idx = len(self._jobs)\n--> 779             job = self._backend.apply_async(batch, callback=cb)\n        job = undefined\n        self._backend.apply_async = <bound method SequentialBackend.apply_async of <joblib._parallel_backends.SequentialBackend object>>\n        batch = <joblib.parallel.BatchedCalls object>\n        cb = <joblib.parallel.BatchCompletionCallBack object>\n    780             # A job can complete so quickly than its callback is\n    781             # called before we get here, causing self._jobs to\n    782             # grow. To ensure correct results ordering, .insert is\n    783             # used (rather than .append) in the following line\n\n...........................................................................\nC:\\Users\\D073999\\Miniconda3\\envs\\torch\\lib\\site-packages\\joblib\\_parallel_backends.py in apply_async(self=<joblib._parallel_backends.SequentialBackend object>, func=<joblib.parallel.BatchedCalls object>, callback=<joblib.parallel.BatchCompletionCallBack object>)\n    203             raise ValueError('n_jobs == 0 in Parallel has no meaning')\n    204         return 1\n    205 \n    206     def apply_async(self, func, callback=None):\n    207         \"\"\"Schedule a func to be run\"\"\"\n--> 208         result = ImmediateResult(func)\n        result = undefined\n        func = <joblib.parallel.BatchedCalls object>\n    209         if callback:\n    210             callback(result)\n    211         return result\n    212 \n\n...........................................................................\nC:\\Users\\D073999\\Miniconda3\\envs\\torch\\lib\\site-packages\\joblib\\_parallel_backends.py in __init__(self=<joblib._parallel_backends.ImmediateResult object>, batch=<joblib.parallel.BatchedCalls object>)\n    567 \n    568 class ImmediateResult(object):\n    569     def __init__(self, batch):\n    570         # Don't delay the application, to avoid keeping the input\n    571         # arguments in memory\n--> 572         self.results = batch()\n        self.results = undefined\n        batch = <joblib.parallel.BatchedCalls object>\n    573 \n    574     def get(self):\n    575         return self.results\n    576 \n\n...........................................................................\nC:\\Users\\D073999\\Miniconda3\\envs\\torch\\lib\\site-packages\\joblib\\parallel.py in __call__(self=<joblib.parallel.BatchedCalls object>)\n    258     def __call__(self):\n    259         # Set the default nested backend to self._backend but do not set the\n    260         # change the default number of processes to -1\n    261         with parallel_backend(self._backend, n_jobs=self._n_jobs):\n    262             return [func(*args, **kwargs)\n--> 263                     for func, args, kwargs in self.items]\n        self.items = [(<sklearn.utils.fixes._FuncWrapper object>, (<sklearn.neighbors._ball_tree.BallTree object>, array([[0, 0, 0, ..., 0, 0, 0],\n       [0, 0, 0,...0],\n       [0, 0, 0, ..., 0, 0, 0]], dtype=int64), 2, True), {})]\n    264 \n    265     def __reduce__(self):\n    266         if self._reducer_callback is not None:\n    267             self._reducer_callback()\n\n...........................................................................\nC:\\Users\\D073999\\Miniconda3\\envs\\torch\\lib\\site-packages\\joblib\\parallel.py in <listcomp>(.0=<list_iterator object>)\n    258     def __call__(self):\n    259         # Set the default nested backend to self._backend but do not set the\n    260         # change the default number of processes to -1\n    261         with parallel_backend(self._backend, n_jobs=self._n_jobs):\n    262             return [func(*args, **kwargs)\n--> 263                     for func, args, kwargs in self.items]\n        func = <sklearn.utils.fixes._FuncWrapper object>\n        args = (<sklearn.neighbors._ball_tree.BallTree object>, array([[0, 0, 0, ..., 0, 0, 0],\n       [0, 0, 0,...0],\n       [0, 0, 0, ..., 0, 0, 0]], dtype=int64), 2, True)\n        kwargs = {}\n    264 \n    265     def __reduce__(self):\n    266         if self._reducer_callback is not None:\n    267             self._reducer_callback()\n\n...........................................................................\nC:\\Users\\D073999\\Miniconda3\\envs\\torch\\lib\\site-packages\\sklearn\\utils\\fixes.py in __call__(self=<sklearn.utils.fixes._FuncWrapper object>, *args=(<sklearn.neighbors._ball_tree.BallTree object>, array([[0, 0, 0, ..., 0, 0, 0],\n       [0, 0, 0,...0],\n       [0, 0, 0, ..., 0, 0, 0]], dtype=int64), 2, True), **kwargs={})\n    211         self.config = get_config()\n    212         update_wrapper(self, self.function)\n    213 \n    214     def __call__(self, *args, **kwargs):\n    215         with config_context(**self.config):\n--> 216             return self.function(*args, **kwargs)\n        self.function = <function _tree_query_parallel_helper>\n        args = (<sklearn.neighbors._ball_tree.BallTree object>, array([[0, 0, 0, ..., 0, 0, 0],\n       [0, 0, 0,...0],\n       [0, 0, 0, ..., 0, 0, 0]], dtype=int64), 2, True)\n        kwargs = {}\n    217 \n    218 \n    219 def linspace(start, stop, num=50, endpoint=True, retstep=False, dtype=None, axis=0):\n    220     \"\"\"Implements a simplified linspace function as of numpy version >= 1.16.\n\n...........................................................................\nC:\\Users\\D073999\\Miniconda3\\envs\\torch\\lib\\site-packages\\sklearn\\neighbors\\_base.py in _tree_query_parallel_helper(tree=<sklearn.neighbors._ball_tree.BallTree object>, *args=(array([[0, 0, 0, ..., 0, 0, 0],\n       [0, 0, 0,...0],\n       [0, 0, 0, ..., 0, 0, 0]], dtype=int64), 2, True), **kwargs={})\n    595     \"\"\"Helper for the Parallel calls in KNeighborsMixin.kneighbors.\n    596 \n    597     The Cython method tree.query is not directly picklable by cloudpickle\n    598     under PyPy.\n    599     \"\"\"\n--> 600     return tree.query(*args, **kwargs)\n        tree.query = <built-in method query of sklearn.neighbors._ball_tree.BallTree object>\n        args = (array([[0, 0, 0, ..., 0, 0, 0],\n       [0, 0, 0,...0],\n       [0, 0, 0, ..., 0, 0, 0]], dtype=int64), 2, True)\n        kwargs = {}\n    601 \n    602 \n    603 class KNeighborsMixin:\n    604     \"\"\"Mixin for k-neighbors searches.\"\"\"\n\n...........................................................................\nC:\\Users\\D073999\\Miniconda3\\envs\\torch\\lib\\site-packages\\sklearn\\neighbors\\_ball_tree.cp37-win_amd64.pyd in sklearn.neighbors._ball_tree.BinaryTree.query()\n\n...........................................................................\nC:\\Users\\D073999\\Miniconda3\\envs\\torch\\lib\\site-packages\\sklearn\\utils\\validation.py in check_array(array=array([[0, 0, 0, ..., 0, 0, 0],\n       [0, 0, 0,...0],\n       [0, 0, 0, ..., 0, 0, 0]], dtype=int64), accept_sparse=False, accept_large_sparse=True, dtype=<class 'numpy.float64'>, order='C', copy=False, force_all_finite=True, ensure_2d=True, allow_nd=False, ensure_min_samples=1, ensure_min_features=1, estimator=None)\n    741                     array = np.asarray(array, order=order)\n    742                     if array.dtype.kind == \"f\":\n    743                         _assert_all_finite(array, allow_nan=False, msg_dtype=dtype)\n    744                     array = array.astype(dtype, casting=\"unsafe\", copy=False)\n    745                 else:\n--> 746                     array = np.asarray(array, order=order, dtype=dtype)\n        array = array([[0, 0, 0, ..., 0, 0, 0],\n       [0, 0, 0,...0],\n       [0, 0, 0, ..., 0, 0, 0]], dtype=int64)\n        order = 'C'\n        dtype = <class 'numpy.float64'>\n    747             except ComplexWarning as complex_warning:\n    748                 raise ValueError(\n    749                     \"Complex data not supported\\n{}\\n\".format(array)\n    750                 ) from complex_warning\n\n...........................................................................\nC:\\Users\\D073999\\Miniconda3\\envs\\torch\\lib\\site-packages\\numpy\\core\\_asarray.py in asarray(a=array([[0, 0, 0, ..., 0, 0, 0],\n       [0, 0, 0,...0],\n       [0, 0, 0, ..., 0, 0, 0]], dtype=int64), dtype=<class 'numpy.float64'>, order='C')\n     78     False\n     79     >>> np.asanyarray(a) is a\n     80     True\n     81 \n     82     \"\"\"\n---> 83     return array(a, dtype, copy=False, order=order)\n        a = array([[0, 0, 0, ..., 0, 0, 0],\n       [0, 0, 0,...0],\n       [0, 0, 0, ..., 0, 0, 0]], dtype=int64)\n        dtype = <class 'numpy.float64'>\n        order = 'C'\n     84 \n     85 \n     86 @set_module('numpy')\n     87 def asanyarray(a, dtype=None, order=None):\n\nMemoryError: Unable to allocate 3.06 GiB for an array with shape (12785, 32129) and data type float64\n___________________________________________________________________________"
     ]
    }
   ],
   "source": [
    "from mlens.ensemble import SuperLearner\n",
    "from sklearn.tree import DecisionTreeClassifier\n",
    "from sklearn.svm import SVC\n",
    "from sklearn.neighbors import KNeighborsClassifier\n",
    "from sklearn.metrics import classification_report, f1_score, accuracy_score, confusion_matrix\n",
    "\n",
    "\n",
    "X_train, X_test, y_train, y_test = featureize(rem_stop=True,\n",
    "                                              do_stem=True,\n",
    "                                              do_lem=False, \n",
    "                                              split=True,\n",
    "                                              upsample=True,\n",
    "                                              do_emojis=False)\n",
    "X_train, X_test, X_train_c, X_test_c = convert_to_tf_idf(X_train, X_test); X_train\n",
    "\n",
    "\n",
    "ensemble = SuperLearner(scorer=f1_score, verbose=0)\n",
    "# Build the first layer\n",
    "ensemble.add([KNeighborsClassifier(algorithm='ball_tree', metric='l1', n_neighbors=2), SVC(C=5)])\n",
    "\n",
    "# Attach the final meta estimator\n",
    "ensemble.add_meta(DecisionTreeClassifier())\n",
    "\n",
    "# Fit ensemble\n",
    "ensemble.fit(X_train_c.toarray(),y_train)\n",
    "\n",
    "# Predict\n",
    "preds = ensemble.predict(X_test_c)\n",
    "\n",
    "print(classification_report(y_test,preds))\n",
    "#print(\"Fit data:\\n%r\" % ensemble.data)\n",
    "#print(\"Prediction score: %.3f\" % accuracy_score(y_test, preds)) "
   ]
  },
  {
   "cell_type": "code",
   "execution_count": null,
   "id": "671505f3",
   "metadata": {},
   "outputs": [],
   "source": []
  }
 ],
 "metadata": {
  "colab": {
   "name": "KNN.ipynb",
   "provenance": []
  },
  "kernelspec": {
   "display_name": "Python 3 (ipykernel)",
   "language": "python",
   "name": "python3"
  },
  "language_info": {
   "codemirror_mode": {
    "name": "ipython",
    "version": 3
   },
   "file_extension": ".py",
   "mimetype": "text/x-python",
   "name": "python",
   "nbconvert_exporter": "python",
   "pygments_lexer": "ipython3",
   "version": "3.7.13"
  },
  "widgets": {
   "application/vnd.jupyter.widget-state+json": {
    "00576977cdf247a89e23371c7797d252": {
     "model_module": "@jupyter-widgets/base",
     "model_module_version": "1.2.0",
     "model_name": "LayoutModel",
     "state": {
      "_model_module": "@jupyter-widgets/base",
      "_model_module_version": "1.2.0",
      "_model_name": "LayoutModel",
      "_view_count": null,
      "_view_module": "@jupyter-widgets/base",
      "_view_module_version": "1.2.0",
      "_view_name": "LayoutView",
      "align_content": null,
      "align_items": null,
      "align_self": null,
      "border": null,
      "bottom": null,
      "display": null,
      "flex": null,
      "flex_flow": null,
      "grid_area": null,
      "grid_auto_columns": null,
      "grid_auto_flow": null,
      "grid_auto_rows": null,
      "grid_column": null,
      "grid_gap": null,
      "grid_row": null,
      "grid_template_areas": null,
      "grid_template_columns": null,
      "grid_template_rows": null,
      "height": null,
      "justify_content": null,
      "justify_items": null,
      "left": null,
      "margin": null,
      "max_height": null,
      "max_width": null,
      "min_height": null,
      "min_width": null,
      "object_fit": null,
      "object_position": null,
      "order": null,
      "overflow": null,
      "overflow_x": null,
      "overflow_y": null,
      "padding": null,
      "right": null,
      "top": null,
      "visibility": null,
      "width": null
     }
    },
    "0462dbf2548d43d7a3d2ea204d8ba7e1": {
     "model_module": "@jupyter-widgets/controls",
     "model_module_version": "1.5.0",
     "model_name": "FloatProgressModel",
     "state": {
      "_dom_classes": [],
      "_model_module": "@jupyter-widgets/controls",
      "_model_module_version": "1.5.0",
      "_model_name": "FloatProgressModel",
      "_view_count": null,
      "_view_module": "@jupyter-widgets/controls",
      "_view_module_version": "1.5.0",
      "_view_name": "ProgressView",
      "bar_style": "success",
      "description": "",
      "description_tooltip": null,
      "layout": "IPY_MODEL_54f58d142762433e8c4c73cedb7d896a",
      "max": 1448,
      "min": 0,
      "orientation": "horizontal",
      "style": "IPY_MODEL_2cd6c7e1e3944df1a35018ea40bf4dee",
      "value": 1448
     }
    },
    "0ade6f932be745c4aaabe727f02af1f2": {
     "model_module": "@jupyter-widgets/controls",
     "model_module_version": "1.5.0",
     "model_name": "HTMLModel",
     "state": {
      "_dom_classes": [],
      "_model_module": "@jupyter-widgets/controls",
      "_model_module_version": "1.5.0",
      "_model_name": "HTMLModel",
      "_view_count": null,
      "_view_module": "@jupyter-widgets/controls",
      "_view_module_version": "1.5.0",
      "_view_name": "HTMLView",
      "description": "",
      "description_tooltip": null,
      "layout": "IPY_MODEL_81fdc0e095dd4fcd88e72771b5e052d3",
      "placeholder": "​",
      "style": "IPY_MODEL_5f2503d209894e87bfa7e9b14c5c0804",
      "value": "100%"
     }
    },
    "103072da92b74518ba8f60cf13f08aed": {
     "model_module": "@jupyter-widgets/controls",
     "model_module_version": "1.5.0",
     "model_name": "DescriptionStyleModel",
     "state": {
      "_model_module": "@jupyter-widgets/controls",
      "_model_module_version": "1.5.0",
      "_model_name": "DescriptionStyleModel",
      "_view_count": null,
      "_view_module": "@jupyter-widgets/base",
      "_view_module_version": "1.2.0",
      "_view_name": "StyleView",
      "description_width": ""
     }
    },
    "181568639664452d9258824a22a7c022": {
     "model_module": "@jupyter-widgets/base",
     "model_module_version": "1.2.0",
     "model_name": "LayoutModel",
     "state": {
      "_model_module": "@jupyter-widgets/base",
      "_model_module_version": "1.2.0",
      "_model_name": "LayoutModel",
      "_view_count": null,
      "_view_module": "@jupyter-widgets/base",
      "_view_module_version": "1.2.0",
      "_view_name": "LayoutView",
      "align_content": null,
      "align_items": null,
      "align_self": null,
      "border": null,
      "bottom": null,
      "display": null,
      "flex": null,
      "flex_flow": null,
      "grid_area": null,
      "grid_auto_columns": null,
      "grid_auto_flow": null,
      "grid_auto_rows": null,
      "grid_column": null,
      "grid_gap": null,
      "grid_row": null,
      "grid_template_areas": null,
      "grid_template_columns": null,
      "grid_template_rows": null,
      "height": null,
      "justify_content": null,
      "justify_items": null,
      "left": null,
      "margin": null,
      "max_height": null,
      "max_width": null,
      "min_height": null,
      "min_width": null,
      "object_fit": null,
      "object_position": null,
      "order": null,
      "overflow": null,
      "overflow_x": null,
      "overflow_y": null,
      "padding": null,
      "right": null,
      "top": null,
      "visibility": null,
      "width": null
     }
    },
    "1975bbcbde8542e1bfebe6872c8f155c": {
     "model_module": "@jupyter-widgets/base",
     "model_module_version": "1.2.0",
     "model_name": "LayoutModel",
     "state": {
      "_model_module": "@jupyter-widgets/base",
      "_model_module_version": "1.2.0",
      "_model_name": "LayoutModel",
      "_view_count": null,
      "_view_module": "@jupyter-widgets/base",
      "_view_module_version": "1.2.0",
      "_view_name": "LayoutView",
      "align_content": null,
      "align_items": null,
      "align_self": null,
      "border": null,
      "bottom": null,
      "display": null,
      "flex": null,
      "flex_flow": null,
      "grid_area": null,
      "grid_auto_columns": null,
      "grid_auto_flow": null,
      "grid_auto_rows": null,
      "grid_column": null,
      "grid_gap": null,
      "grid_row": null,
      "grid_template_areas": null,
      "grid_template_columns": null,
      "grid_template_rows": null,
      "height": null,
      "justify_content": null,
      "justify_items": null,
      "left": null,
      "margin": null,
      "max_height": null,
      "max_width": null,
      "min_height": null,
      "min_width": null,
      "object_fit": null,
      "object_position": null,
      "order": null,
      "overflow": null,
      "overflow_x": null,
      "overflow_y": null,
      "padding": null,
      "right": null,
      "top": null,
      "visibility": null,
      "width": null
     }
    },
    "1acb503efa8843898af66677d1418433": {
     "model_module": "@jupyter-widgets/controls",
     "model_module_version": "1.5.0",
     "model_name": "HBoxModel",
     "state": {
      "_dom_classes": [],
      "_model_module": "@jupyter-widgets/controls",
      "_model_module_version": "1.5.0",
      "_model_name": "HBoxModel",
      "_view_count": null,
      "_view_module": "@jupyter-widgets/controls",
      "_view_module_version": "1.5.0",
      "_view_name": "HBoxView",
      "box_style": "",
      "children": [
       "IPY_MODEL_0ade6f932be745c4aaabe727f02af1f2",
       "IPY_MODEL_989876580b334bd9892cae156bc56d9a",
       "IPY_MODEL_b18d7a23efb34d69bc4bb2819d94e5e9"
      ],
      "layout": "IPY_MODEL_f1b539ec47cc42778f69ab692b97e895"
     }
    },
    "1e4e03456f1840d5b0885e105556579e": {
     "model_module": "@jupyter-widgets/controls",
     "model_module_version": "1.5.0",
     "model_name": "DescriptionStyleModel",
     "state": {
      "_model_module": "@jupyter-widgets/controls",
      "_model_module_version": "1.5.0",
      "_model_name": "DescriptionStyleModel",
      "_view_count": null,
      "_view_module": "@jupyter-widgets/base",
      "_view_module_version": "1.2.0",
      "_view_name": "StyleView",
      "description_width": ""
     }
    },
    "1f0afdccff5a40baab56a924b7c7211f": {
     "model_module": "@jupyter-widgets/controls",
     "model_module_version": "1.5.0",
     "model_name": "HBoxModel",
     "state": {
      "_dom_classes": [],
      "_model_module": "@jupyter-widgets/controls",
      "_model_module_version": "1.5.0",
      "_model_name": "HBoxModel",
      "_view_count": null,
      "_view_module": "@jupyter-widgets/controls",
      "_view_module_version": "1.5.0",
      "_view_name": "HBoxView",
      "box_style": "",
      "children": [
       "IPY_MODEL_86ac86f129f649339ab58d7ca31b68b6",
       "IPY_MODEL_49a29ecf93144e16947dc463bf9d090f",
       "IPY_MODEL_6f6cc683f40e4bdcaf89bc6c4dcd1264"
      ],
      "layout": "IPY_MODEL_b30ce677730649a59f85cd561bd0de8d"
     }
    },
    "1f35dd2abf14454bbeacac1dacbdf66d": {
     "model_module": "@jupyter-widgets/controls",
     "model_module_version": "1.5.0",
     "model_name": "ProgressStyleModel",
     "state": {
      "_model_module": "@jupyter-widgets/controls",
      "_model_module_version": "1.5.0",
      "_model_name": "ProgressStyleModel",
      "_view_count": null,
      "_view_module": "@jupyter-widgets/base",
      "_view_module_version": "1.2.0",
      "_view_name": "StyleView",
      "bar_color": null,
      "description_width": ""
     }
    },
    "212b6b7e039a4eefa13151cbeabb75b1": {
     "model_module": "@jupyter-widgets/base",
     "model_module_version": "1.2.0",
     "model_name": "LayoutModel",
     "state": {
      "_model_module": "@jupyter-widgets/base",
      "_model_module_version": "1.2.0",
      "_model_name": "LayoutModel",
      "_view_count": null,
      "_view_module": "@jupyter-widgets/base",
      "_view_module_version": "1.2.0",
      "_view_name": "LayoutView",
      "align_content": null,
      "align_items": null,
      "align_self": null,
      "border": null,
      "bottom": null,
      "display": null,
      "flex": null,
      "flex_flow": null,
      "grid_area": null,
      "grid_auto_columns": null,
      "grid_auto_flow": null,
      "grid_auto_rows": null,
      "grid_column": null,
      "grid_gap": null,
      "grid_row": null,
      "grid_template_areas": null,
      "grid_template_columns": null,
      "grid_template_rows": null,
      "height": null,
      "justify_content": null,
      "justify_items": null,
      "left": null,
      "margin": null,
      "max_height": null,
      "max_width": null,
      "min_height": null,
      "min_width": null,
      "object_fit": null,
      "object_position": null,
      "order": null,
      "overflow": null,
      "overflow_x": null,
      "overflow_y": null,
      "padding": null,
      "right": null,
      "top": null,
      "visibility": null,
      "width": null
     }
    },
    "2366783a0ff64702b88667e7ba8fbbcd": {
     "model_module": "@jupyter-widgets/controls",
     "model_module_version": "1.5.0",
     "model_name": "DescriptionStyleModel",
     "state": {
      "_model_module": "@jupyter-widgets/controls",
      "_model_module_version": "1.5.0",
      "_model_name": "DescriptionStyleModel",
      "_view_count": null,
      "_view_module": "@jupyter-widgets/base",
      "_view_module_version": "1.2.0",
      "_view_name": "StyleView",
      "description_width": ""
     }
    },
    "268065181ebd472b9168734ed1f14eb0": {
     "model_module": "@jupyter-widgets/controls",
     "model_module_version": "1.5.0",
     "model_name": "ProgressStyleModel",
     "state": {
      "_model_module": "@jupyter-widgets/controls",
      "_model_module_version": "1.5.0",
      "_model_name": "ProgressStyleModel",
      "_view_count": null,
      "_view_module": "@jupyter-widgets/base",
      "_view_module_version": "1.2.0",
      "_view_name": "StyleView",
      "bar_color": null,
      "description_width": ""
     }
    },
    "2cd6c7e1e3944df1a35018ea40bf4dee": {
     "model_module": "@jupyter-widgets/controls",
     "model_module_version": "1.5.0",
     "model_name": "ProgressStyleModel",
     "state": {
      "_model_module": "@jupyter-widgets/controls",
      "_model_module_version": "1.5.0",
      "_model_name": "ProgressStyleModel",
      "_view_count": null,
      "_view_module": "@jupyter-widgets/base",
      "_view_module_version": "1.2.0",
      "_view_name": "StyleView",
      "bar_color": null,
      "description_width": ""
     }
    },
    "3ab0b3b5ff8f4158ab78cc51c8ce5fda": {
     "model_module": "@jupyter-widgets/controls",
     "model_module_version": "1.5.0",
     "model_name": "DescriptionStyleModel",
     "state": {
      "_model_module": "@jupyter-widgets/controls",
      "_model_module_version": "1.5.0",
      "_model_name": "DescriptionStyleModel",
      "_view_count": null,
      "_view_module": "@jupyter-widgets/base",
      "_view_module_version": "1.2.0",
      "_view_name": "StyleView",
      "description_width": ""
     }
    },
    "49a29ecf93144e16947dc463bf9d090f": {
     "model_module": "@jupyter-widgets/controls",
     "model_module_version": "1.5.0",
     "model_name": "FloatProgressModel",
     "state": {
      "_dom_classes": [],
      "_model_module": "@jupyter-widgets/controls",
      "_model_module_version": "1.5.0",
      "_model_name": "FloatProgressModel",
      "_view_count": null,
      "_view_module": "@jupyter-widgets/controls",
      "_view_module_version": "1.5.0",
      "_view_name": "ProgressView",
      "bar_style": "",
      "description": "",
      "description_tooltip": null,
      "layout": "IPY_MODEL_ad44eb0503334a4883428ca99125d716",
      "max": 31962,
      "min": 0,
      "orientation": "horizontal",
      "style": "IPY_MODEL_5dbec301e7b6453a9c69ffd96cf02092",
      "value": 31962
     }
    },
    "4b590ef7c08d41e7ab4b090e4b2b5216": {
     "model_module": "@jupyter-widgets/controls",
     "model_module_version": "1.5.0",
     "model_name": "HBoxModel",
     "state": {
      "_dom_classes": [],
      "_model_module": "@jupyter-widgets/controls",
      "_model_module_version": "1.5.0",
      "_model_name": "HBoxModel",
      "_view_count": null,
      "_view_module": "@jupyter-widgets/controls",
      "_view_module_version": "1.5.0",
      "_view_name": "HBoxView",
      "box_style": "",
      "children": [
       "IPY_MODEL_5a064ac761184f2b9a33ba6e2931ad7c",
       "IPY_MODEL_0462dbf2548d43d7a3d2ea204d8ba7e1",
       "IPY_MODEL_e155cca6e5e1421cb0921da2ba7119ca"
      ],
      "layout": "IPY_MODEL_b9618a06465144539787736ea3d11c8b"
     }
    },
    "507a2a9eb56041c6b72090e125634d52": {
     "model_module": "@jupyter-widgets/controls",
     "model_module_version": "1.5.0",
     "model_name": "HTMLModel",
     "state": {
      "_dom_classes": [],
      "_model_module": "@jupyter-widgets/controls",
      "_model_module_version": "1.5.0",
      "_model_name": "HTMLModel",
      "_view_count": null,
      "_view_module": "@jupyter-widgets/controls",
      "_view_module_version": "1.5.0",
      "_view_name": "HTMLView",
      "description": "",
      "description_tooltip": null,
      "layout": "IPY_MODEL_d0a0f8d8991741c794152f54ff500c6c",
      "placeholder": "​",
      "style": "IPY_MODEL_2366783a0ff64702b88667e7ba8fbbcd",
      "value": "Downloading data: "
     }
    },
    "524815c48a0f433da4c57ea8ba574eb2": {
     "model_module": "@jupyter-widgets/controls",
     "model_module_version": "1.5.0",
     "model_name": "HTMLModel",
     "state": {
      "_dom_classes": [],
      "_model_module": "@jupyter-widgets/controls",
      "_model_module_version": "1.5.0",
      "_model_name": "HTMLModel",
      "_view_count": null,
      "_view_module": "@jupyter-widgets/controls",
      "_view_module_version": "1.5.0",
      "_view_name": "HTMLView",
      "description": "",
      "description_tooltip": null,
      "layout": "IPY_MODEL_da3b8dd7d6884f49b91d6e6d236ac78d",
      "placeholder": "​",
      "style": "IPY_MODEL_d43c94307f724e28893abfae7885353c",
      "value": "Downloading metadata: "
     }
    },
    "5272a74b56bc47698b00634ba72adbf2": {
     "model_module": "@jupyter-widgets/controls",
     "model_module_version": "1.5.0",
     "model_name": "FloatProgressModel",
     "state": {
      "_dom_classes": [],
      "_model_module": "@jupyter-widgets/controls",
      "_model_module_version": "1.5.0",
      "_model_name": "FloatProgressModel",
      "_view_count": null,
      "_view_module": "@jupyter-widgets/controls",
      "_view_module_version": "1.5.0",
      "_view_name": "ProgressView",
      "bar_style": "success",
      "description": "",
      "description_tooltip": null,
      "layout": "IPY_MODEL_c24eafb1327c4ead9305032e1b988157",
      "max": 881,
      "min": 0,
      "orientation": "horizontal",
      "style": "IPY_MODEL_268065181ebd472b9168734ed1f14eb0",
      "value": 881
     }
    },
    "54f58d142762433e8c4c73cedb7d896a": {
     "model_module": "@jupyter-widgets/base",
     "model_module_version": "1.2.0",
     "model_name": "LayoutModel",
     "state": {
      "_model_module": "@jupyter-widgets/base",
      "_model_module_version": "1.2.0",
      "_model_name": "LayoutModel",
      "_view_count": null,
      "_view_module": "@jupyter-widgets/base",
      "_view_module_version": "1.2.0",
      "_view_name": "LayoutView",
      "align_content": null,
      "align_items": null,
      "align_self": null,
      "border": null,
      "bottom": null,
      "display": null,
      "flex": null,
      "flex_flow": null,
      "grid_area": null,
      "grid_auto_columns": null,
      "grid_auto_flow": null,
      "grid_auto_rows": null,
      "grid_column": null,
      "grid_gap": null,
      "grid_row": null,
      "grid_template_areas": null,
      "grid_template_columns": null,
      "grid_template_rows": null,
      "height": null,
      "justify_content": null,
      "justify_items": null,
      "left": null,
      "margin": null,
      "max_height": null,
      "max_width": null,
      "min_height": null,
      "min_width": null,
      "object_fit": null,
      "object_position": null,
      "order": null,
      "overflow": null,
      "overflow_x": null,
      "overflow_y": null,
      "padding": null,
      "right": null,
      "top": null,
      "visibility": null,
      "width": null
     }
    },
    "55af1b2d5a5f4fc186cd17a1f74f3672": {
     "model_module": "@jupyter-widgets/controls",
     "model_module_version": "1.5.0",
     "model_name": "DescriptionStyleModel",
     "state": {
      "_model_module": "@jupyter-widgets/controls",
      "_model_module_version": "1.5.0",
      "_model_name": "DescriptionStyleModel",
      "_view_count": null,
      "_view_module": "@jupyter-widgets/base",
      "_view_module_version": "1.2.0",
      "_view_name": "StyleView",
      "description_width": ""
     }
    },
    "57a2a48f8c7640c9ac4c787d340d9d11": {
     "model_module": "@jupyter-widgets/base",
     "model_module_version": "1.2.0",
     "model_name": "LayoutModel",
     "state": {
      "_model_module": "@jupyter-widgets/base",
      "_model_module_version": "1.2.0",
      "_model_name": "LayoutModel",
      "_view_count": null,
      "_view_module": "@jupyter-widgets/base",
      "_view_module_version": "1.2.0",
      "_view_name": "LayoutView",
      "align_content": null,
      "align_items": null,
      "align_self": null,
      "border": null,
      "bottom": null,
      "display": null,
      "flex": null,
      "flex_flow": null,
      "grid_area": null,
      "grid_auto_columns": null,
      "grid_auto_flow": null,
      "grid_auto_rows": null,
      "grid_column": null,
      "grid_gap": null,
      "grid_row": null,
      "grid_template_areas": null,
      "grid_template_columns": null,
      "grid_template_rows": null,
      "height": null,
      "justify_content": null,
      "justify_items": null,
      "left": null,
      "margin": null,
      "max_height": null,
      "max_width": null,
      "min_height": null,
      "min_width": null,
      "object_fit": null,
      "object_position": null,
      "order": null,
      "overflow": null,
      "overflow_x": null,
      "overflow_y": null,
      "padding": null,
      "right": null,
      "top": null,
      "visibility": null,
      "width": null
     }
    },
    "5a064ac761184f2b9a33ba6e2931ad7c": {
     "model_module": "@jupyter-widgets/controls",
     "model_module_version": "1.5.0",
     "model_name": "HTMLModel",
     "state": {
      "_dom_classes": [],
      "_model_module": "@jupyter-widgets/controls",
      "_model_module_version": "1.5.0",
      "_model_name": "HTMLModel",
      "_view_count": null,
      "_view_module": "@jupyter-widgets/controls",
      "_view_module_version": "1.5.0",
      "_view_name": "HTMLView",
      "description": "",
      "description_tooltip": null,
      "layout": "IPY_MODEL_5fc1c7c1af4c4695838cea02b3788286",
      "placeholder": "​",
      "style": "IPY_MODEL_e72f08a1ac9745d787d05e653d8b80f7",
      "value": "Downloading builder script: "
     }
    },
    "5dbec301e7b6453a9c69ffd96cf02092": {
     "model_module": "@jupyter-widgets/controls",
     "model_module_version": "1.5.0",
     "model_name": "ProgressStyleModel",
     "state": {
      "_model_module": "@jupyter-widgets/controls",
      "_model_module_version": "1.5.0",
      "_model_name": "ProgressStyleModel",
      "_view_count": null,
      "_view_module": "@jupyter-widgets/base",
      "_view_module_version": "1.2.0",
      "_view_name": "StyleView",
      "bar_color": null,
      "description_width": ""
     }
    },
    "5f2503d209894e87bfa7e9b14c5c0804": {
     "model_module": "@jupyter-widgets/controls",
     "model_module_version": "1.5.0",
     "model_name": "DescriptionStyleModel",
     "state": {
      "_model_module": "@jupyter-widgets/controls",
      "_model_module_version": "1.5.0",
      "_model_name": "DescriptionStyleModel",
      "_view_count": null,
      "_view_module": "@jupyter-widgets/base",
      "_view_module_version": "1.2.0",
      "_view_name": "StyleView",
      "description_width": ""
     }
    },
    "5fc1c7c1af4c4695838cea02b3788286": {
     "model_module": "@jupyter-widgets/base",
     "model_module_version": "1.2.0",
     "model_name": "LayoutModel",
     "state": {
      "_model_module": "@jupyter-widgets/base",
      "_model_module_version": "1.2.0",
      "_model_name": "LayoutModel",
      "_view_count": null,
      "_view_module": "@jupyter-widgets/base",
      "_view_module_version": "1.2.0",
      "_view_name": "LayoutView",
      "align_content": null,
      "align_items": null,
      "align_self": null,
      "border": null,
      "bottom": null,
      "display": null,
      "flex": null,
      "flex_flow": null,
      "grid_area": null,
      "grid_auto_columns": null,
      "grid_auto_flow": null,
      "grid_auto_rows": null,
      "grid_column": null,
      "grid_gap": null,
      "grid_row": null,
      "grid_template_areas": null,
      "grid_template_columns": null,
      "grid_template_rows": null,
      "height": null,
      "justify_content": null,
      "justify_items": null,
      "left": null,
      "margin": null,
      "max_height": null,
      "max_width": null,
      "min_height": null,
      "min_width": null,
      "object_fit": null,
      "object_position": null,
      "order": null,
      "overflow": null,
      "overflow_x": null,
      "overflow_y": null,
      "padding": null,
      "right": null,
      "top": null,
      "visibility": null,
      "width": null
     }
    },
    "61ea54c925d54fbbba81073c7644495b": {
     "model_module": "@jupyter-widgets/controls",
     "model_module_version": "1.5.0",
     "model_name": "DescriptionStyleModel",
     "state": {
      "_model_module": "@jupyter-widgets/controls",
      "_model_module_version": "1.5.0",
      "_model_name": "DescriptionStyleModel",
      "_view_count": null,
      "_view_module": "@jupyter-widgets/base",
      "_view_module_version": "1.2.0",
      "_view_name": "StyleView",
      "description_width": ""
     }
    },
    "628a583bc7cb4bd3a3596bdd0ca8a21a": {
     "model_module": "@jupyter-widgets/controls",
     "model_module_version": "1.5.0",
     "model_name": "ProgressStyleModel",
     "state": {
      "_model_module": "@jupyter-widgets/controls",
      "_model_module_version": "1.5.0",
      "_model_name": "ProgressStyleModel",
      "_view_count": null,
      "_view_module": "@jupyter-widgets/base",
      "_view_module_version": "1.2.0",
      "_view_name": "StyleView",
      "bar_color": null,
      "description_width": ""
     }
    },
    "657b54b7c4eb44b5bf3aa63f98cff52b": {
     "model_module": "@jupyter-widgets/controls",
     "model_module_version": "1.5.0",
     "model_name": "DescriptionStyleModel",
     "state": {
      "_model_module": "@jupyter-widgets/controls",
      "_model_module_version": "1.5.0",
      "_model_name": "DescriptionStyleModel",
      "_view_count": null,
      "_view_module": "@jupyter-widgets/base",
      "_view_module_version": "1.2.0",
      "_view_name": "StyleView",
      "description_width": ""
     }
    },
    "68e7cb72aebd47588d19010a03266869": {
     "model_module": "@jupyter-widgets/controls",
     "model_module_version": "1.5.0",
     "model_name": "HTMLModel",
     "state": {
      "_dom_classes": [],
      "_model_module": "@jupyter-widgets/controls",
      "_model_module_version": "1.5.0",
      "_model_name": "HTMLModel",
      "_view_count": null,
      "_view_module": "@jupyter-widgets/controls",
      "_view_module_version": "1.5.0",
      "_view_name": "HTMLView",
      "description": "",
      "description_tooltip": null,
      "layout": "IPY_MODEL_57a2a48f8c7640c9ac4c787d340d9d11",
      "placeholder": "​",
      "style": "IPY_MODEL_99627449cf5a428192a858ac1fe48223",
      "value": " 1/1 [00:00&lt;00:00,  8.74it/s]"
     }
    },
    "6f0e92c719c849e4909cfee3ca9fb1be": {
     "model_module": "@jupyter-widgets/base",
     "model_module_version": "1.2.0",
     "model_name": "LayoutModel",
     "state": {
      "_model_module": "@jupyter-widgets/base",
      "_model_module_version": "1.2.0",
      "_model_name": "LayoutModel",
      "_view_count": null,
      "_view_module": "@jupyter-widgets/base",
      "_view_module_version": "1.2.0",
      "_view_name": "LayoutView",
      "align_content": null,
      "align_items": null,
      "align_self": null,
      "border": null,
      "bottom": null,
      "display": null,
      "flex": null,
      "flex_flow": null,
      "grid_area": null,
      "grid_auto_columns": null,
      "grid_auto_flow": null,
      "grid_auto_rows": null,
      "grid_column": null,
      "grid_gap": null,
      "grid_row": null,
      "grid_template_areas": null,
      "grid_template_columns": null,
      "grid_template_rows": null,
      "height": null,
      "justify_content": null,
      "justify_items": null,
      "left": null,
      "margin": null,
      "max_height": null,
      "max_width": null,
      "min_height": null,
      "min_width": null,
      "object_fit": null,
      "object_position": null,
      "order": null,
      "overflow": null,
      "overflow_x": null,
      "overflow_y": null,
      "padding": null,
      "right": null,
      "top": null,
      "visibility": null,
      "width": null
     }
    },
    "6f6cc683f40e4bdcaf89bc6c4dcd1264": {
     "model_module": "@jupyter-widgets/controls",
     "model_module_version": "1.5.0",
     "model_name": "HTMLModel",
     "state": {
      "_dom_classes": [],
      "_model_module": "@jupyter-widgets/controls",
      "_model_module_version": "1.5.0",
      "_model_name": "HTMLModel",
      "_view_count": null,
      "_view_module": "@jupyter-widgets/controls",
      "_view_module_version": "1.5.0",
      "_view_name": "HTMLView",
      "description": "",
      "description_tooltip": null,
      "layout": "IPY_MODEL_d93b8b5c295045c0874e83ede9649f6b",
      "placeholder": "​",
      "style": "IPY_MODEL_55af1b2d5a5f4fc186cd17a1f74f3672",
      "value": " 30324/31962 [00:01&lt;00:00, 24927.36 examples/s]"
     }
    },
    "7698826011f9444989f133f3113b6473": {
     "model_module": "@jupyter-widgets/controls",
     "model_module_version": "1.5.0",
     "model_name": "HBoxModel",
     "state": {
      "_dom_classes": [],
      "_model_module": "@jupyter-widgets/controls",
      "_model_module_version": "1.5.0",
      "_model_name": "HBoxModel",
      "_view_count": null,
      "_view_module": "@jupyter-widgets/controls",
      "_view_module_version": "1.5.0",
      "_view_name": "HBoxView",
      "box_style": "",
      "children": [
       "IPY_MODEL_99fded338eb24abda7918256666b9dd0",
       "IPY_MODEL_9f8679b3e60645a28ed8d410d8a398fd",
       "IPY_MODEL_68e7cb72aebd47588d19010a03266869"
      ],
      "layout": "IPY_MODEL_1975bbcbde8542e1bfebe6872c8f155c"
     }
    },
    "81fdc0e095dd4fcd88e72771b5e052d3": {
     "model_module": "@jupyter-widgets/base",
     "model_module_version": "1.2.0",
     "model_name": "LayoutModel",
     "state": {
      "_model_module": "@jupyter-widgets/base",
      "_model_module_version": "1.2.0",
      "_model_name": "LayoutModel",
      "_view_count": null,
      "_view_module": "@jupyter-widgets/base",
      "_view_module_version": "1.2.0",
      "_view_name": "LayoutView",
      "align_content": null,
      "align_items": null,
      "align_self": null,
      "border": null,
      "bottom": null,
      "display": null,
      "flex": null,
      "flex_flow": null,
      "grid_area": null,
      "grid_auto_columns": null,
      "grid_auto_flow": null,
      "grid_auto_rows": null,
      "grid_column": null,
      "grid_gap": null,
      "grid_row": null,
      "grid_template_areas": null,
      "grid_template_columns": null,
      "grid_template_rows": null,
      "height": null,
      "justify_content": null,
      "justify_items": null,
      "left": null,
      "margin": null,
      "max_height": null,
      "max_width": null,
      "min_height": null,
      "min_width": null,
      "object_fit": null,
      "object_position": null,
      "order": null,
      "overflow": null,
      "overflow_x": null,
      "overflow_y": null,
      "padding": null,
      "right": null,
      "top": null,
      "visibility": null,
      "width": null
     }
    },
    "86ac86f129f649339ab58d7ca31b68b6": {
     "model_module": "@jupyter-widgets/controls",
     "model_module_version": "1.5.0",
     "model_name": "HTMLModel",
     "state": {
      "_dom_classes": [],
      "_model_module": "@jupyter-widgets/controls",
      "_model_module_version": "1.5.0",
      "_model_name": "HTMLModel",
      "_view_count": null,
      "_view_module": "@jupyter-widgets/controls",
      "_view_module_version": "1.5.0",
      "_view_name": "HTMLView",
      "description": "",
      "description_tooltip": null,
      "layout": "IPY_MODEL_f63da13169cd4d17a856fb47b6543314",
      "placeholder": "​",
      "style": "IPY_MODEL_dbcc00df0bea47ee91f4c62f00893153",
      "value": "Generating train split:  95%"
     }
    },
    "8cc4084cc74448dd93dd88240cb870d3": {
     "model_module": "@jupyter-widgets/base",
     "model_module_version": "1.2.0",
     "model_name": "LayoutModel",
     "state": {
      "_model_module": "@jupyter-widgets/base",
      "_model_module_version": "1.2.0",
      "_model_name": "LayoutModel",
      "_view_count": null,
      "_view_module": "@jupyter-widgets/base",
      "_view_module_version": "1.2.0",
      "_view_name": "LayoutView",
      "align_content": null,
      "align_items": null,
      "align_self": null,
      "border": null,
      "bottom": null,
      "display": null,
      "flex": null,
      "flex_flow": null,
      "grid_area": null,
      "grid_auto_columns": null,
      "grid_auto_flow": null,
      "grid_auto_rows": null,
      "grid_column": null,
      "grid_gap": null,
      "grid_row": null,
      "grid_template_areas": null,
      "grid_template_columns": null,
      "grid_template_rows": null,
      "height": null,
      "justify_content": null,
      "justify_items": null,
      "left": null,
      "margin": null,
      "max_height": null,
      "max_width": null,
      "min_height": null,
      "min_width": null,
      "object_fit": null,
      "object_position": null,
      "order": null,
      "overflow": null,
      "overflow_x": null,
      "overflow_y": null,
      "padding": null,
      "right": null,
      "top": null,
      "visibility": null,
      "width": null
     }
    },
    "94015dda8e7d4cf399369895cc4e40df": {
     "model_module": "@jupyter-widgets/base",
     "model_module_version": "1.2.0",
     "model_name": "LayoutModel",
     "state": {
      "_model_module": "@jupyter-widgets/base",
      "_model_module_version": "1.2.0",
      "_model_name": "LayoutModel",
      "_view_count": null,
      "_view_module": "@jupyter-widgets/base",
      "_view_module_version": "1.2.0",
      "_view_name": "LayoutView",
      "align_content": null,
      "align_items": null,
      "align_self": null,
      "border": null,
      "bottom": null,
      "display": null,
      "flex": null,
      "flex_flow": null,
      "grid_area": null,
      "grid_auto_columns": null,
      "grid_auto_flow": null,
      "grid_auto_rows": null,
      "grid_column": null,
      "grid_gap": null,
      "grid_row": null,
      "grid_template_areas": null,
      "grid_template_columns": null,
      "grid_template_rows": null,
      "height": null,
      "justify_content": null,
      "justify_items": null,
      "left": null,
      "margin": null,
      "max_height": null,
      "max_width": null,
      "min_height": null,
      "min_width": null,
      "object_fit": null,
      "object_position": null,
      "order": null,
      "overflow": null,
      "overflow_x": null,
      "overflow_y": null,
      "padding": null,
      "right": null,
      "top": null,
      "visibility": null,
      "width": null
     }
    },
    "943656451cbe48748c0e2197ce7309ab": {
     "model_module": "@jupyter-widgets/controls",
     "model_module_version": "1.5.0",
     "model_name": "FloatProgressModel",
     "state": {
      "_dom_classes": [],
      "_model_module": "@jupyter-widgets/controls",
      "_model_module_version": "1.5.0",
      "_model_name": "FloatProgressModel",
      "_view_count": null,
      "_view_module": "@jupyter-widgets/controls",
      "_view_module_version": "1.5.0",
      "_view_name": "ProgressView",
      "bar_style": "success",
      "description": "",
      "description_tooltip": null,
      "layout": "IPY_MODEL_00576977cdf247a89e23371c7797d252",
      "max": 1276746,
      "min": 0,
      "orientation": "horizontal",
      "style": "IPY_MODEL_628a583bc7cb4bd3a3596bdd0ca8a21a",
      "value": 1276746
     }
    },
    "98438de1de2b4f9d90851404f5d7132f": {
     "model_module": "@jupyter-widgets/base",
     "model_module_version": "1.2.0",
     "model_name": "LayoutModel",
     "state": {
      "_model_module": "@jupyter-widgets/base",
      "_model_module_version": "1.2.0",
      "_model_name": "LayoutModel",
      "_view_count": null,
      "_view_module": "@jupyter-widgets/base",
      "_view_module_version": "1.2.0",
      "_view_name": "LayoutView",
      "align_content": null,
      "align_items": null,
      "align_self": null,
      "border": null,
      "bottom": null,
      "display": null,
      "flex": null,
      "flex_flow": null,
      "grid_area": null,
      "grid_auto_columns": null,
      "grid_auto_flow": null,
      "grid_auto_rows": null,
      "grid_column": null,
      "grid_gap": null,
      "grid_row": null,
      "grid_template_areas": null,
      "grid_template_columns": null,
      "grid_template_rows": null,
      "height": null,
      "justify_content": null,
      "justify_items": null,
      "left": null,
      "margin": null,
      "max_height": null,
      "max_width": null,
      "min_height": null,
      "min_width": null,
      "object_fit": null,
      "object_position": null,
      "order": null,
      "overflow": null,
      "overflow_x": null,
      "overflow_y": null,
      "padding": null,
      "right": null,
      "top": null,
      "visibility": null,
      "width": null
     }
    },
    "989876580b334bd9892cae156bc56d9a": {
     "model_module": "@jupyter-widgets/controls",
     "model_module_version": "1.5.0",
     "model_name": "FloatProgressModel",
     "state": {
      "_dom_classes": [],
      "_model_module": "@jupyter-widgets/controls",
      "_model_module_version": "1.5.0",
      "_model_name": "FloatProgressModel",
      "_view_count": null,
      "_view_module": "@jupyter-widgets/controls",
      "_view_module_version": "1.5.0",
      "_view_name": "ProgressView",
      "bar_style": "success",
      "description": "",
      "description_tooltip": null,
      "layout": "IPY_MODEL_212b6b7e039a4eefa13151cbeabb75b1",
      "max": 1,
      "min": 0,
      "orientation": "horizontal",
      "style": "IPY_MODEL_b81388cb207c489d82b8c8d028c6a172",
      "value": 1
     }
    },
    "99627449cf5a428192a858ac1fe48223": {
     "model_module": "@jupyter-widgets/controls",
     "model_module_version": "1.5.0",
     "model_name": "DescriptionStyleModel",
     "state": {
      "_model_module": "@jupyter-widgets/controls",
      "_model_module_version": "1.5.0",
      "_model_name": "DescriptionStyleModel",
      "_view_count": null,
      "_view_module": "@jupyter-widgets/base",
      "_view_module_version": "1.2.0",
      "_view_name": "StyleView",
      "description_width": ""
     }
    },
    "99fded338eb24abda7918256666b9dd0": {
     "model_module": "@jupyter-widgets/controls",
     "model_module_version": "1.5.0",
     "model_name": "HTMLModel",
     "state": {
      "_dom_classes": [],
      "_model_module": "@jupyter-widgets/controls",
      "_model_module_version": "1.5.0",
      "_model_name": "HTMLModel",
      "_view_count": null,
      "_view_module": "@jupyter-widgets/controls",
      "_view_module_version": "1.5.0",
      "_view_name": "HTMLView",
      "description": "",
      "description_tooltip": null,
      "layout": "IPY_MODEL_8cc4084cc74448dd93dd88240cb870d3",
      "placeholder": "​",
      "style": "IPY_MODEL_61ea54c925d54fbbba81073c7644495b",
      "value": "100%"
     }
    },
    "9c3a7bcf24bd444baca0f267545dc98f": {
     "model_module": "@jupyter-widgets/base",
     "model_module_version": "1.2.0",
     "model_name": "LayoutModel",
     "state": {
      "_model_module": "@jupyter-widgets/base",
      "_model_module_version": "1.2.0",
      "_model_name": "LayoutModel",
      "_view_count": null,
      "_view_module": "@jupyter-widgets/base",
      "_view_module_version": "1.2.0",
      "_view_name": "LayoutView",
      "align_content": null,
      "align_items": null,
      "align_self": null,
      "border": null,
      "bottom": null,
      "display": null,
      "flex": null,
      "flex_flow": null,
      "grid_area": null,
      "grid_auto_columns": null,
      "grid_auto_flow": null,
      "grid_auto_rows": null,
      "grid_column": null,
      "grid_gap": null,
      "grid_row": null,
      "grid_template_areas": null,
      "grid_template_columns": null,
      "grid_template_rows": null,
      "height": null,
      "justify_content": null,
      "justify_items": null,
      "left": null,
      "margin": null,
      "max_height": null,
      "max_width": null,
      "min_height": null,
      "min_width": null,
      "object_fit": null,
      "object_position": null,
      "order": null,
      "overflow": null,
      "overflow_x": null,
      "overflow_y": null,
      "padding": null,
      "right": null,
      "top": null,
      "visibility": null,
      "width": null
     }
    },
    "9f8679b3e60645a28ed8d410d8a398fd": {
     "model_module": "@jupyter-widgets/controls",
     "model_module_version": "1.5.0",
     "model_name": "FloatProgressModel",
     "state": {
      "_dom_classes": [],
      "_model_module": "@jupyter-widgets/controls",
      "_model_module_version": "1.5.0",
      "_model_name": "FloatProgressModel",
      "_view_count": null,
      "_view_module": "@jupyter-widgets/controls",
      "_view_module_version": "1.5.0",
      "_view_name": "ProgressView",
      "bar_style": "success",
      "description": "",
      "description_tooltip": null,
      "layout": "IPY_MODEL_a5a263e9c2b54442849e21d73189b470",
      "max": 1,
      "min": 0,
      "orientation": "horizontal",
      "style": "IPY_MODEL_1f35dd2abf14454bbeacac1dacbdf66d",
      "value": 1
     }
    },
    "a5a263e9c2b54442849e21d73189b470": {
     "model_module": "@jupyter-widgets/base",
     "model_module_version": "1.2.0",
     "model_name": "LayoutModel",
     "state": {
      "_model_module": "@jupyter-widgets/base",
      "_model_module_version": "1.2.0",
      "_model_name": "LayoutModel",
      "_view_count": null,
      "_view_module": "@jupyter-widgets/base",
      "_view_module_version": "1.2.0",
      "_view_name": "LayoutView",
      "align_content": null,
      "align_items": null,
      "align_self": null,
      "border": null,
      "bottom": null,
      "display": null,
      "flex": null,
      "flex_flow": null,
      "grid_area": null,
      "grid_auto_columns": null,
      "grid_auto_flow": null,
      "grid_auto_rows": null,
      "grid_column": null,
      "grid_gap": null,
      "grid_row": null,
      "grid_template_areas": null,
      "grid_template_columns": null,
      "grid_template_rows": null,
      "height": null,
      "justify_content": null,
      "justify_items": null,
      "left": null,
      "margin": null,
      "max_height": null,
      "max_width": null,
      "min_height": null,
      "min_width": null,
      "object_fit": null,
      "object_position": null,
      "order": null,
      "overflow": null,
      "overflow_x": null,
      "overflow_y": null,
      "padding": null,
      "right": null,
      "top": null,
      "visibility": null,
      "width": null
     }
    },
    "a7eaf46846694f909a0afdfc6793c496": {
     "model_module": "@jupyter-widgets/base",
     "model_module_version": "1.2.0",
     "model_name": "LayoutModel",
     "state": {
      "_model_module": "@jupyter-widgets/base",
      "_model_module_version": "1.2.0",
      "_model_name": "LayoutModel",
      "_view_count": null,
      "_view_module": "@jupyter-widgets/base",
      "_view_module_version": "1.2.0",
      "_view_name": "LayoutView",
      "align_content": null,
      "align_items": null,
      "align_self": null,
      "border": null,
      "bottom": null,
      "display": null,
      "flex": null,
      "flex_flow": null,
      "grid_area": null,
      "grid_auto_columns": null,
      "grid_auto_flow": null,
      "grid_auto_rows": null,
      "grid_column": null,
      "grid_gap": null,
      "grid_row": null,
      "grid_template_areas": null,
      "grid_template_columns": null,
      "grid_template_rows": null,
      "height": null,
      "justify_content": null,
      "justify_items": null,
      "left": null,
      "margin": null,
      "max_height": null,
      "max_width": null,
      "min_height": null,
      "min_width": null,
      "object_fit": null,
      "object_position": null,
      "order": null,
      "overflow": null,
      "overflow_x": null,
      "overflow_y": null,
      "padding": null,
      "right": null,
      "top": null,
      "visibility": null,
      "width": null
     }
    },
    "a945b231003a4ccfa19d2f838e0990ab": {
     "model_module": "@jupyter-widgets/controls",
     "model_module_version": "1.5.0",
     "model_name": "HTMLModel",
     "state": {
      "_dom_classes": [],
      "_model_module": "@jupyter-widgets/controls",
      "_model_module_version": "1.5.0",
      "_model_name": "HTMLModel",
      "_view_count": null,
      "_view_module": "@jupyter-widgets/controls",
      "_view_module_version": "1.5.0",
      "_view_name": "HTMLView",
      "description": "",
      "description_tooltip": null,
      "layout": "IPY_MODEL_a7eaf46846694f909a0afdfc6793c496",
      "placeholder": "​",
      "style": "IPY_MODEL_3ab0b3b5ff8f4158ab78cc51c8ce5fda",
      "value": " 1.84k/? [00:00&lt;00:00, 51.4kB/s]"
     }
    },
    "ad44eb0503334a4883428ca99125d716": {
     "model_module": "@jupyter-widgets/base",
     "model_module_version": "1.2.0",
     "model_name": "LayoutModel",
     "state": {
      "_model_module": "@jupyter-widgets/base",
      "_model_module_version": "1.2.0",
      "_model_name": "LayoutModel",
      "_view_count": null,
      "_view_module": "@jupyter-widgets/base",
      "_view_module_version": "1.2.0",
      "_view_name": "LayoutView",
      "align_content": null,
      "align_items": null,
      "align_self": null,
      "border": null,
      "bottom": null,
      "display": null,
      "flex": null,
      "flex_flow": null,
      "grid_area": null,
      "grid_auto_columns": null,
      "grid_auto_flow": null,
      "grid_auto_rows": null,
      "grid_column": null,
      "grid_gap": null,
      "grid_row": null,
      "grid_template_areas": null,
      "grid_template_columns": null,
      "grid_template_rows": null,
      "height": null,
      "justify_content": null,
      "justify_items": null,
      "left": null,
      "margin": null,
      "max_height": null,
      "max_width": null,
      "min_height": null,
      "min_width": null,
      "object_fit": null,
      "object_position": null,
      "order": null,
      "overflow": null,
      "overflow_x": null,
      "overflow_y": null,
      "padding": null,
      "right": null,
      "top": null,
      "visibility": null,
      "width": null
     }
    },
    "b18d7a23efb34d69bc4bb2819d94e5e9": {
     "model_module": "@jupyter-widgets/controls",
     "model_module_version": "1.5.0",
     "model_name": "HTMLModel",
     "state": {
      "_dom_classes": [],
      "_model_module": "@jupyter-widgets/controls",
      "_model_module_version": "1.5.0",
      "_model_name": "HTMLModel",
      "_view_count": null,
      "_view_module": "@jupyter-widgets/controls",
      "_view_module_version": "1.5.0",
      "_view_name": "HTMLView",
      "description": "",
      "description_tooltip": null,
      "layout": "IPY_MODEL_6f0e92c719c849e4909cfee3ca9fb1be",
      "placeholder": "​",
      "style": "IPY_MODEL_657b54b7c4eb44b5bf3aa63f98cff52b",
      "value": " 1/1 [00:00&lt;00:00, 22.71it/s]"
     }
    },
    "b30ce677730649a59f85cd561bd0de8d": {
     "model_module": "@jupyter-widgets/base",
     "model_module_version": "1.2.0",
     "model_name": "LayoutModel",
     "state": {
      "_model_module": "@jupyter-widgets/base",
      "_model_module_version": "1.2.0",
      "_model_name": "LayoutModel",
      "_view_count": null,
      "_view_module": "@jupyter-widgets/base",
      "_view_module_version": "1.2.0",
      "_view_name": "LayoutView",
      "align_content": null,
      "align_items": null,
      "align_self": null,
      "border": null,
      "bottom": null,
      "display": null,
      "flex": null,
      "flex_flow": null,
      "grid_area": null,
      "grid_auto_columns": null,
      "grid_auto_flow": null,
      "grid_auto_rows": null,
      "grid_column": null,
      "grid_gap": null,
      "grid_row": null,
      "grid_template_areas": null,
      "grid_template_columns": null,
      "grid_template_rows": null,
      "height": null,
      "justify_content": null,
      "justify_items": null,
      "left": null,
      "margin": null,
      "max_height": null,
      "max_width": null,
      "min_height": null,
      "min_width": null,
      "object_fit": null,
      "object_position": null,
      "order": null,
      "overflow": null,
      "overflow_x": null,
      "overflow_y": null,
      "padding": null,
      "right": null,
      "top": null,
      "visibility": null,
      "width": null
     }
    },
    "b81388cb207c489d82b8c8d028c6a172": {
     "model_module": "@jupyter-widgets/controls",
     "model_module_version": "1.5.0",
     "model_name": "ProgressStyleModel",
     "state": {
      "_model_module": "@jupyter-widgets/controls",
      "_model_module_version": "1.5.0",
      "_model_name": "ProgressStyleModel",
      "_view_count": null,
      "_view_module": "@jupyter-widgets/base",
      "_view_module_version": "1.2.0",
      "_view_name": "StyleView",
      "bar_color": null,
      "description_width": ""
     }
    },
    "b9618a06465144539787736ea3d11c8b": {
     "model_module": "@jupyter-widgets/base",
     "model_module_version": "1.2.0",
     "model_name": "LayoutModel",
     "state": {
      "_model_module": "@jupyter-widgets/base",
      "_model_module_version": "1.2.0",
      "_model_name": "LayoutModel",
      "_view_count": null,
      "_view_module": "@jupyter-widgets/base",
      "_view_module_version": "1.2.0",
      "_view_name": "LayoutView",
      "align_content": null,
      "align_items": null,
      "align_self": null,
      "border": null,
      "bottom": null,
      "display": null,
      "flex": null,
      "flex_flow": null,
      "grid_area": null,
      "grid_auto_columns": null,
      "grid_auto_flow": null,
      "grid_auto_rows": null,
      "grid_column": null,
      "grid_gap": null,
      "grid_row": null,
      "grid_template_areas": null,
      "grid_template_columns": null,
      "grid_template_rows": null,
      "height": null,
      "justify_content": null,
      "justify_items": null,
      "left": null,
      "margin": null,
      "max_height": null,
      "max_width": null,
      "min_height": null,
      "min_width": null,
      "object_fit": null,
      "object_position": null,
      "order": null,
      "overflow": null,
      "overflow_x": null,
      "overflow_y": null,
      "padding": null,
      "right": null,
      "top": null,
      "visibility": null,
      "width": null
     }
    },
    "c24eafb1327c4ead9305032e1b988157": {
     "model_module": "@jupyter-widgets/base",
     "model_module_version": "1.2.0",
     "model_name": "LayoutModel",
     "state": {
      "_model_module": "@jupyter-widgets/base",
      "_model_module_version": "1.2.0",
      "_model_name": "LayoutModel",
      "_view_count": null,
      "_view_module": "@jupyter-widgets/base",
      "_view_module_version": "1.2.0",
      "_view_name": "LayoutView",
      "align_content": null,
      "align_items": null,
      "align_self": null,
      "border": null,
      "bottom": null,
      "display": null,
      "flex": null,
      "flex_flow": null,
      "grid_area": null,
      "grid_auto_columns": null,
      "grid_auto_flow": null,
      "grid_auto_rows": null,
      "grid_column": null,
      "grid_gap": null,
      "grid_row": null,
      "grid_template_areas": null,
      "grid_template_columns": null,
      "grid_template_rows": null,
      "height": null,
      "justify_content": null,
      "justify_items": null,
      "left": null,
      "margin": null,
      "max_height": null,
      "max_width": null,
      "min_height": null,
      "min_width": null,
      "object_fit": null,
      "object_position": null,
      "order": null,
      "overflow": null,
      "overflow_x": null,
      "overflow_y": null,
      "padding": null,
      "right": null,
      "top": null,
      "visibility": null,
      "width": null
     }
    },
    "d0a0f8d8991741c794152f54ff500c6c": {
     "model_module": "@jupyter-widgets/base",
     "model_module_version": "1.2.0",
     "model_name": "LayoutModel",
     "state": {
      "_model_module": "@jupyter-widgets/base",
      "_model_module_version": "1.2.0",
      "_model_name": "LayoutModel",
      "_view_count": null,
      "_view_module": "@jupyter-widgets/base",
      "_view_module_version": "1.2.0",
      "_view_name": "LayoutView",
      "align_content": null,
      "align_items": null,
      "align_self": null,
      "border": null,
      "bottom": null,
      "display": null,
      "flex": null,
      "flex_flow": null,
      "grid_area": null,
      "grid_auto_columns": null,
      "grid_auto_flow": null,
      "grid_auto_rows": null,
      "grid_column": null,
      "grid_gap": null,
      "grid_row": null,
      "grid_template_areas": null,
      "grid_template_columns": null,
      "grid_template_rows": null,
      "height": null,
      "justify_content": null,
      "justify_items": null,
      "left": null,
      "margin": null,
      "max_height": null,
      "max_width": null,
      "min_height": null,
      "min_width": null,
      "object_fit": null,
      "object_position": null,
      "order": null,
      "overflow": null,
      "overflow_x": null,
      "overflow_y": null,
      "padding": null,
      "right": null,
      "top": null,
      "visibility": null,
      "width": null
     }
    },
    "d214a59cddcd4fa4a66153bf091a3b90": {
     "model_module": "@jupyter-widgets/controls",
     "model_module_version": "1.5.0",
     "model_name": "HBoxModel",
     "state": {
      "_dom_classes": [],
      "_model_module": "@jupyter-widgets/controls",
      "_model_module_version": "1.5.0",
      "_model_name": "HBoxModel",
      "_view_count": null,
      "_view_module": "@jupyter-widgets/controls",
      "_view_module_version": "1.5.0",
      "_view_name": "HBoxView",
      "box_style": "",
      "children": [
       "IPY_MODEL_507a2a9eb56041c6b72090e125634d52",
       "IPY_MODEL_943656451cbe48748c0e2197ce7309ab",
       "IPY_MODEL_eaaa8fc8683e49e0adcac832c8f932ea"
      ],
      "layout": "IPY_MODEL_9c3a7bcf24bd444baca0f267545dc98f"
     }
    },
    "d43c94307f724e28893abfae7885353c": {
     "model_module": "@jupyter-widgets/controls",
     "model_module_version": "1.5.0",
     "model_name": "DescriptionStyleModel",
     "state": {
      "_model_module": "@jupyter-widgets/controls",
      "_model_module_version": "1.5.0",
      "_model_name": "DescriptionStyleModel",
      "_view_count": null,
      "_view_module": "@jupyter-widgets/base",
      "_view_module_version": "1.2.0",
      "_view_name": "StyleView",
      "description_width": ""
     }
    },
    "d93b8b5c295045c0874e83ede9649f6b": {
     "model_module": "@jupyter-widgets/base",
     "model_module_version": "1.2.0",
     "model_name": "LayoutModel",
     "state": {
      "_model_module": "@jupyter-widgets/base",
      "_model_module_version": "1.2.0",
      "_model_name": "LayoutModel",
      "_view_count": null,
      "_view_module": "@jupyter-widgets/base",
      "_view_module_version": "1.2.0",
      "_view_name": "LayoutView",
      "align_content": null,
      "align_items": null,
      "align_self": null,
      "border": null,
      "bottom": null,
      "display": null,
      "flex": null,
      "flex_flow": null,
      "grid_area": null,
      "grid_auto_columns": null,
      "grid_auto_flow": null,
      "grid_auto_rows": null,
      "grid_column": null,
      "grid_gap": null,
      "grid_row": null,
      "grid_template_areas": null,
      "grid_template_columns": null,
      "grid_template_rows": null,
      "height": null,
      "justify_content": null,
      "justify_items": null,
      "left": null,
      "margin": null,
      "max_height": null,
      "max_width": null,
      "min_height": null,
      "min_width": null,
      "object_fit": null,
      "object_position": null,
      "order": null,
      "overflow": null,
      "overflow_x": null,
      "overflow_y": null,
      "padding": null,
      "right": null,
      "top": null,
      "visibility": null,
      "width": null
     }
    },
    "da3b8dd7d6884f49b91d6e6d236ac78d": {
     "model_module": "@jupyter-widgets/base",
     "model_module_version": "1.2.0",
     "model_name": "LayoutModel",
     "state": {
      "_model_module": "@jupyter-widgets/base",
      "_model_module_version": "1.2.0",
      "_model_name": "LayoutModel",
      "_view_count": null,
      "_view_module": "@jupyter-widgets/base",
      "_view_module_version": "1.2.0",
      "_view_name": "LayoutView",
      "align_content": null,
      "align_items": null,
      "align_self": null,
      "border": null,
      "bottom": null,
      "display": null,
      "flex": null,
      "flex_flow": null,
      "grid_area": null,
      "grid_auto_columns": null,
      "grid_auto_flow": null,
      "grid_auto_rows": null,
      "grid_column": null,
      "grid_gap": null,
      "grid_row": null,
      "grid_template_areas": null,
      "grid_template_columns": null,
      "grid_template_rows": null,
      "height": null,
      "justify_content": null,
      "justify_items": null,
      "left": null,
      "margin": null,
      "max_height": null,
      "max_width": null,
      "min_height": null,
      "min_width": null,
      "object_fit": null,
      "object_position": null,
      "order": null,
      "overflow": null,
      "overflow_x": null,
      "overflow_y": null,
      "padding": null,
      "right": null,
      "top": null,
      "visibility": null,
      "width": null
     }
    },
    "db4f62a3cfb148c2824d4fdc812942fc": {
     "model_module": "@jupyter-widgets/controls",
     "model_module_version": "1.5.0",
     "model_name": "HBoxModel",
     "state": {
      "_dom_classes": [],
      "_model_module": "@jupyter-widgets/controls",
      "_model_module_version": "1.5.0",
      "_model_name": "HBoxModel",
      "_view_count": null,
      "_view_module": "@jupyter-widgets/controls",
      "_view_module_version": "1.5.0",
      "_view_name": "HBoxView",
      "box_style": "",
      "children": [
       "IPY_MODEL_524815c48a0f433da4c57ea8ba574eb2",
       "IPY_MODEL_5272a74b56bc47698b00634ba72adbf2",
       "IPY_MODEL_a945b231003a4ccfa19d2f838e0990ab"
      ],
      "layout": "IPY_MODEL_94015dda8e7d4cf399369895cc4e40df"
     }
    },
    "dbcc00df0bea47ee91f4c62f00893153": {
     "model_module": "@jupyter-widgets/controls",
     "model_module_version": "1.5.0",
     "model_name": "DescriptionStyleModel",
     "state": {
      "_model_module": "@jupyter-widgets/controls",
      "_model_module_version": "1.5.0",
      "_model_name": "DescriptionStyleModel",
      "_view_count": null,
      "_view_module": "@jupyter-widgets/base",
      "_view_module_version": "1.2.0",
      "_view_name": "StyleView",
      "description_width": ""
     }
    },
    "e155cca6e5e1421cb0921da2ba7119ca": {
     "model_module": "@jupyter-widgets/controls",
     "model_module_version": "1.5.0",
     "model_name": "HTMLModel",
     "state": {
      "_dom_classes": [],
      "_model_module": "@jupyter-widgets/controls",
      "_model_module_version": "1.5.0",
      "_model_name": "HTMLModel",
      "_view_count": null,
      "_view_module": "@jupyter-widgets/controls",
      "_view_module_version": "1.5.0",
      "_view_name": "HTMLView",
      "description": "",
      "description_tooltip": null,
      "layout": "IPY_MODEL_181568639664452d9258824a22a7c022",
      "placeholder": "​",
      "style": "IPY_MODEL_1e4e03456f1840d5b0885e105556579e",
      "value": " 3.14k/? [00:00&lt;00:00, 73.5kB/s]"
     }
    },
    "e72f08a1ac9745d787d05e653d8b80f7": {
     "model_module": "@jupyter-widgets/controls",
     "model_module_version": "1.5.0",
     "model_name": "DescriptionStyleModel",
     "state": {
      "_model_module": "@jupyter-widgets/controls",
      "_model_module_version": "1.5.0",
      "_model_name": "DescriptionStyleModel",
      "_view_count": null,
      "_view_module": "@jupyter-widgets/base",
      "_view_module_version": "1.2.0",
      "_view_name": "StyleView",
      "description_width": ""
     }
    },
    "eaaa8fc8683e49e0adcac832c8f932ea": {
     "model_module": "@jupyter-widgets/controls",
     "model_module_version": "1.5.0",
     "model_name": "HTMLModel",
     "state": {
      "_dom_classes": [],
      "_model_module": "@jupyter-widgets/controls",
      "_model_module_version": "1.5.0",
      "_model_name": "HTMLModel",
      "_view_count": null,
      "_view_module": "@jupyter-widgets/controls",
      "_view_module_version": "1.5.0",
      "_view_name": "HTMLView",
      "description": "",
      "description_tooltip": null,
      "layout": "IPY_MODEL_98438de1de2b4f9d90851404f5d7132f",
      "placeholder": "​",
      "style": "IPY_MODEL_103072da92b74518ba8f60cf13f08aed",
      "value": " 3.10M/? [00:00&lt;00:00, 23.1MB/s]"
     }
    },
    "f1b539ec47cc42778f69ab692b97e895": {
     "model_module": "@jupyter-widgets/base",
     "model_module_version": "1.2.0",
     "model_name": "LayoutModel",
     "state": {
      "_model_module": "@jupyter-widgets/base",
      "_model_module_version": "1.2.0",
      "_model_name": "LayoutModel",
      "_view_count": null,
      "_view_module": "@jupyter-widgets/base",
      "_view_module_version": "1.2.0",
      "_view_name": "LayoutView",
      "align_content": null,
      "align_items": null,
      "align_self": null,
      "border": null,
      "bottom": null,
      "display": null,
      "flex": null,
      "flex_flow": null,
      "grid_area": null,
      "grid_auto_columns": null,
      "grid_auto_flow": null,
      "grid_auto_rows": null,
      "grid_column": null,
      "grid_gap": null,
      "grid_row": null,
      "grid_template_areas": null,
      "grid_template_columns": null,
      "grid_template_rows": null,
      "height": null,
      "justify_content": null,
      "justify_items": null,
      "left": null,
      "margin": null,
      "max_height": null,
      "max_width": null,
      "min_height": null,
      "min_width": null,
      "object_fit": null,
      "object_position": null,
      "order": null,
      "overflow": null,
      "overflow_x": null,
      "overflow_y": null,
      "padding": null,
      "right": null,
      "top": null,
      "visibility": null,
      "width": null
     }
    },
    "f63da13169cd4d17a856fb47b6543314": {
     "model_module": "@jupyter-widgets/base",
     "model_module_version": "1.2.0",
     "model_name": "LayoutModel",
     "state": {
      "_model_module": "@jupyter-widgets/base",
      "_model_module_version": "1.2.0",
      "_model_name": "LayoutModel",
      "_view_count": null,
      "_view_module": "@jupyter-widgets/base",
      "_view_module_version": "1.2.0",
      "_view_name": "LayoutView",
      "align_content": null,
      "align_items": null,
      "align_self": null,
      "border": null,
      "bottom": null,
      "display": null,
      "flex": null,
      "flex_flow": null,
      "grid_area": null,
      "grid_auto_columns": null,
      "grid_auto_flow": null,
      "grid_auto_rows": null,
      "grid_column": null,
      "grid_gap": null,
      "grid_row": null,
      "grid_template_areas": null,
      "grid_template_columns": null,
      "grid_template_rows": null,
      "height": null,
      "justify_content": null,
      "justify_items": null,
      "left": null,
      "margin": null,
      "max_height": null,
      "max_width": null,
      "min_height": null,
      "min_width": null,
      "object_fit": null,
      "object_position": null,
      "order": null,
      "overflow": null,
      "overflow_x": null,
      "overflow_y": null,
      "padding": null,
      "right": null,
      "top": null,
      "visibility": null,
      "width": null
     }
    }
   }
  }
 },
 "nbformat": 4,
 "nbformat_minor": 5
}
